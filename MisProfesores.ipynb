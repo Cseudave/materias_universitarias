{
  "cells": [
    {
      "cell_type": "markdown",
      "metadata": {
        "id": "view-in-github",
        "colab_type": "text"
      },
      "source": [
        "<a href=\"https://colab.research.google.com/github/Cseudave/materias_universitarias/blob/main/MisProfesores.ipynb\" target=\"_parent\"><img src=\"https://colab.research.google.com/assets/colab-badge.svg\" alt=\"Open In Colab\"/></a>"
      ]
    },
    {
      "cell_type": "markdown",
      "source": [
        "## Librerias"
      ],
      "metadata": {
        "id": "AOKR2aM3r_qQ"
      }
    },
    {
      "cell_type": "code",
      "execution_count": null,
      "metadata": {
        "id": "83_qRsOVqj3W"
      },
      "outputs": [],
      "source": [
        "import requests\n",
        "from bs4 import BeautifulSoup\n",
        "import time\n",
        "import random"
      ]
    },
    {
      "cell_type": "code",
      "execution_count": null,
      "metadata": {
        "id": "d6GxDfStvanH"
      },
      "outputs": [],
      "source": [
        "import pandas as pd\n",
        "import json"
      ]
    },
    {
      "cell_type": "markdown",
      "metadata": {
        "id": "ywgsg1gEsFRs"
      },
      "source": [
        "## Estructura de la página"
      ]
    },
    {
      "cell_type": "markdown",
      "source": [
        "1. La lista de universidades lista en 71 páginas las diferentes escuelas de México de las que lso estudiantes han calificado a sus profesores. \n",
        "  - Sin embargo, hay muchas universidades duplicadas.\n",
        "  \n",
        "  Nos interesa:\n",
        "  *   Link de universidad\n",
        "  *   Ciudad\n",
        "  *   Estado\n",
        "\n",
        "\n",
        "2. Cada universidad tiene su página tiene un listado de los profesores registrados. \n",
        "  - Algunos profesores tienen doble registro porque tienen más de una materia o porque han sido registrados con su nombre y después su apodo.\n",
        "3. Cada profesor tiene una página que lista los comentarios sobre él o ella, donde nos interesa:\n",
        "\n",
        "  Nos interesa:\n",
        "  - Materia impartidas\n",
        "  - Calidad general\n",
        "  - Nivel de recomendación general\n",
        "  - Nivel de dificultad general\n",
        "\n",
        "  - Comentarios\n",
        "      - Materia impartida\n",
        "      - Calidad general\n",
        "      - Facilidad\n",
        "\n",
        "    Solo si cuenta con una o más reseñas"
      ],
      "metadata": {
        "id": "YUx9rMGTr9Qw"
      }
    },
    {
      "cell_type": "markdown",
      "source": [
        "## Obtener lista de universidades"
      ],
      "metadata": {
        "id": "pzmjJtx0sIMx"
      }
    },
    {
      "cell_type": "code",
      "source": [
        "url = 'https://www.misprofesores.com/Universidades'"
      ],
      "metadata": {
        "id": "i6vn0uuisLZi"
      },
      "execution_count": null,
      "outputs": []
    },
    {
      "cell_type": "markdown",
      "source": [
        "### Obtener todas las paginas de la lista de universidades"
      ],
      "metadata": {
        "id": "0qJILa1ZsyTz"
      }
    },
    {
      "cell_type": "code",
      "execution_count": null,
      "metadata": {
        "colab": {
          "base_uri": "https://localhost:8080/",
          "height": 35
        },
        "id": "WNsDaxJV20Gf",
        "outputId": "4e2ecea2-827c-4921-d386-af7d491d6b4e"
      },
      "outputs": [
        {
          "output_type": "execute_result",
          "data": {
            "text/plain": [
              "'https://www.misprofesores.com/Universidades#'"
            ],
            "application/vnd.google.colaboratory.intrinsic+json": {
              "type": "string"
            }
          },
          "metadata": {},
          "execution_count": 4
        }
      ],
      "source": [
        "## Obtener lista de urls de las listas de universidades\n",
        "\n",
        "response = requests.get(url)\n",
        "\n",
        "if response.status_code == 200:\n",
        "  soup = BeautifulSoup(response.content, 'html.parser')\n",
        "all_pages = soup.find('nav', {'aria-label':\"Page navigation\"})\n",
        "pages = all_pages.find_all('li')\n",
        "\n",
        "url_base = 'https://www.misprofesores.com/Universidades'\n",
        "all_url = []\n",
        "\n",
        "for page in pages:\n",
        "  all_url.append(url_base + str(page.find('a').get('href')))\n",
        "all_url.pop(0)\n"
      ]
    },
    {
      "cell_type": "markdown",
      "source": [
        "### Obtener datos de las universidades de una pagina"
      ],
      "metadata": {
        "id": "pW5XMpOks34U"
      }
    },
    {
      "cell_type": "code",
      "execution_count": null,
      "metadata": {
        "id": "vZCjGR394N9s"
      },
      "outputs": [],
      "source": [
        "def get_universidades(url):\n",
        "  response = requests.get(url)\n",
        "\n",
        "  if response.status_code == 200:\n",
        "    soup = BeautifulSoup(response.content, 'html.parser')\n",
        "\n",
        "    rows = soup.find_all('table', class_='main')\n",
        "    for row in rows:\n",
        "      cells = row.find_all('td')\n",
        "\n",
        "    universidad = []\n",
        "    url_universidad = []\n",
        "    ciudad = []\n",
        "    estado = []\n",
        "    n_profesores = []\n",
        "\n",
        "    n = (len(cells)-2)//4\n",
        "    for i in range(0, n):\n",
        "\n",
        "      universidad.append(cells[2+4*i].text)\n",
        "      url_universidad.append(cells[2+4*i].find('a').get('href'))\n",
        "      ciudad.append(cells[3+4*i].text)\n",
        "      estado.append(cells[4+4*i].text)\n",
        "      n_profesores.append(cells[5+4*i].text)\n",
        "\n",
        "    df = pd.DataFrame({'Universidad': universidad,\n",
        "                  'url_universidad': url_universidad,\n",
        "                  'ciudad': ciudad,\n",
        "                  'estado': estado, \n",
        "                  'n_profesores':n_profesores})\n",
        "    return df\n",
        "\n",
        "  else:\n",
        "    print('Error', response.status_code)\n",
        "    print(url)\n",
        "    return 'Error'\n"
      ]
    },
    {
      "cell_type": "code",
      "execution_count": null,
      "metadata": {
        "id": "dDF_9W936wvZ"
      },
      "outputs": [],
      "source": [
        "test_url = all_url[0:3]"
      ]
    },
    {
      "cell_type": "markdown",
      "source": [
        "## Obtener urls de universidades"
      ],
      "metadata": {
        "id": "MOSjE-QasoQm"
      }
    },
    {
      "cell_type": "code",
      "execution_count": null,
      "metadata": {
        "id": "6Fpp0A5U5XL0"
      },
      "outputs": [],
      "source": [
        "for url in all_url:\n",
        "# for url in test_url:\n",
        "  df_temp = get_universidades(url)\n",
        "  try:\n",
        "    df_general = pd.concat([df_general, df_temp], ignore_index=True) \n",
        "  except:\n",
        "    df_general = df_temp  \n",
        "  time.sleep(1)\n"
      ]
    },
    {
      "cell_type": "code",
      "execution_count": null,
      "metadata": {
        "id": "BzIi5FQ0riKs"
      },
      "outputs": [],
      "source": [
        "df_general.to_csv('All_universidades.csv', index=False)"
      ]
    },
    {
      "cell_type": "code",
      "execution_count": null,
      "metadata": {
        "id": "C_Vs1kNj-_Il"
      },
      "outputs": [],
      "source": [
        "df_general = pd.read_csv('All_universidades.csv')"
      ]
    },
    {
      "cell_type": "code",
      "execution_count": null,
      "metadata": {
        "colab": {
          "base_uri": "https://localhost:8080/",
          "height": 206
        },
        "id": "PdxdtcCh-W81",
        "outputId": "c850831e-47cd-41fd-bf3a-75141f94ebb2"
      },
      "outputs": [
        {
          "data": {
            "text/html": [
              "\n",
              "  <div id=\"df-899de829-95fc-4ff3-9e20-dba4bc670b7e\">\n",
              "    <div class=\"colab-df-container\">\n",
              "      <div>\n",
              "<style scoped>\n",
              "    .dataframe tbody tr th:only-of-type {\n",
              "        vertical-align: middle;\n",
              "    }\n",
              "\n",
              "    .dataframe tbody tr th {\n",
              "        vertical-align: top;\n",
              "    }\n",
              "\n",
              "    .dataframe thead th {\n",
              "        text-align: right;\n",
              "    }\n",
              "</style>\n",
              "<table border=\"1\" class=\"dataframe\">\n",
              "  <thead>\n",
              "    <tr style=\"text-align: right;\">\n",
              "      <th></th>\n",
              "      <th>Universidad</th>\n",
              "      <th>url_universidad</th>\n",
              "      <th>ciudad</th>\n",
              "      <th>estado</th>\n",
              "      <th>n_profesores</th>\n",
              "    </tr>\n",
              "  </thead>\n",
              "  <tbody>\n",
              "    <tr>\n",
              "      <th>0</th>\n",
              "      <td>!\"-ESIQIE,-IPN\"</td>\n",
              "      <td>https://www.misprofesores.com/escuelas/ESIQIEI...</td>\n",
              "      <td>cd de mexico.</td>\n",
              "      <td>CD DE MEXICO</td>\n",
              "      <td>48</td>\n",
              "    </tr>\n",
              "    <tr>\n",
              "      <th>1</th>\n",
              "      <td>\"-ESIQIE,-IPN\"</td>\n",
              "      <td>https://www.misprofesores.com/escuelas/ESIQIEI...</td>\n",
              "      <td>CD DE MEXICO</td>\n",
              "      <td>MEXICO</td>\n",
              "      <td>554</td>\n",
              "    </tr>\n",
              "    <tr>\n",
              "      <th>2</th>\n",
              "      <td>\"-ESIQIE,-IPN\".</td>\n",
              "      <td>https://www.misprofesores.com/escuelas/ESIQIEI...</td>\n",
              "      <td>CD DE MEXICO</td>\n",
              "      <td>MEXICO</td>\n",
              "      <td>51</td>\n",
              "    </tr>\n",
              "    <tr>\n",
              "      <th>3</th>\n",
              "      <td>\"-ESIQIE,IPN\"</td>\n",
              "      <td>https://www.misprofesores.com/escuelas/ESIQIEI...</td>\n",
              "      <td>MÉXICO</td>\n",
              "      <td>CD DE MÉXICO</td>\n",
              "      <td>723</td>\n",
              "    </tr>\n",
              "    <tr>\n",
              "      <th>4</th>\n",
              "      <td>\"-ESIQIE,IPN.\"</td>\n",
              "      <td>https://www.misprofesores.com/escuelas/ESIQIEI...</td>\n",
              "      <td>D.F.</td>\n",
              "      <td>MÉXICO</td>\n",
              "      <td>135</td>\n",
              "    </tr>\n",
              "  </tbody>\n",
              "</table>\n",
              "</div>\n",
              "      <button class=\"colab-df-convert\" onclick=\"convertToInteractive('df-899de829-95fc-4ff3-9e20-dba4bc670b7e')\"\n",
              "              title=\"Convert this dataframe to an interactive table.\"\n",
              "              style=\"display:none;\">\n",
              "        \n",
              "  <svg xmlns=\"http://www.w3.org/2000/svg\" height=\"24px\"viewBox=\"0 0 24 24\"\n",
              "       width=\"24px\">\n",
              "    <path d=\"M0 0h24v24H0V0z\" fill=\"none\"/>\n",
              "    <path d=\"M18.56 5.44l.94 2.06.94-2.06 2.06-.94-2.06-.94-.94-2.06-.94 2.06-2.06.94zm-11 1L8.5 8.5l.94-2.06 2.06-.94-2.06-.94L8.5 2.5l-.94 2.06-2.06.94zm10 10l.94 2.06.94-2.06 2.06-.94-2.06-.94-.94-2.06-.94 2.06-2.06.94z\"/><path d=\"M17.41 7.96l-1.37-1.37c-.4-.4-.92-.59-1.43-.59-.52 0-1.04.2-1.43.59L10.3 9.45l-7.72 7.72c-.78.78-.78 2.05 0 2.83L4 21.41c.39.39.9.59 1.41.59.51 0 1.02-.2 1.41-.59l7.78-7.78 2.81-2.81c.8-.78.8-2.07 0-2.86zM5.41 20L4 18.59l7.72-7.72 1.47 1.35L5.41 20z\"/>\n",
              "  </svg>\n",
              "      </button>\n",
              "      \n",
              "  <style>\n",
              "    .colab-df-container {\n",
              "      display:flex;\n",
              "      flex-wrap:wrap;\n",
              "      gap: 12px;\n",
              "    }\n",
              "\n",
              "    .colab-df-convert {\n",
              "      background-color: #E8F0FE;\n",
              "      border: none;\n",
              "      border-radius: 50%;\n",
              "      cursor: pointer;\n",
              "      display: none;\n",
              "      fill: #1967D2;\n",
              "      height: 32px;\n",
              "      padding: 0 0 0 0;\n",
              "      width: 32px;\n",
              "    }\n",
              "\n",
              "    .colab-df-convert:hover {\n",
              "      background-color: #E2EBFA;\n",
              "      box-shadow: 0px 1px 2px rgba(60, 64, 67, 0.3), 0px 1px 3px 1px rgba(60, 64, 67, 0.15);\n",
              "      fill: #174EA6;\n",
              "    }\n",
              "\n",
              "    [theme=dark] .colab-df-convert {\n",
              "      background-color: #3B4455;\n",
              "      fill: #D2E3FC;\n",
              "    }\n",
              "\n",
              "    [theme=dark] .colab-df-convert:hover {\n",
              "      background-color: #434B5C;\n",
              "      box-shadow: 0px 1px 3px 1px rgba(0, 0, 0, 0.15);\n",
              "      filter: drop-shadow(0px 1px 2px rgba(0, 0, 0, 0.3));\n",
              "      fill: #FFFFFF;\n",
              "    }\n",
              "  </style>\n",
              "\n",
              "      <script>\n",
              "        const buttonEl =\n",
              "          document.querySelector('#df-899de829-95fc-4ff3-9e20-dba4bc670b7e button.colab-df-convert');\n",
              "        buttonEl.style.display =\n",
              "          google.colab.kernel.accessAllowed ? 'block' : 'none';\n",
              "\n",
              "        async function convertToInteractive(key) {\n",
              "          const element = document.querySelector('#df-899de829-95fc-4ff3-9e20-dba4bc670b7e');\n",
              "          const dataTable =\n",
              "            await google.colab.kernel.invokeFunction('convertToInteractive',\n",
              "                                                     [key], {});\n",
              "          if (!dataTable) return;\n",
              "\n",
              "          const docLinkHtml = 'Like what you see? Visit the ' +\n",
              "            '<a target=\"_blank\" href=https://colab.research.google.com/notebooks/data_table.ipynb>data table notebook</a>'\n",
              "            + ' to learn more about interactive tables.';\n",
              "          element.innerHTML = '';\n",
              "          dataTable['output_type'] = 'display_data';\n",
              "          await google.colab.output.renderOutput(dataTable, element);\n",
              "          const docLink = document.createElement('div');\n",
              "          docLink.innerHTML = docLinkHtml;\n",
              "          element.appendChild(docLink);\n",
              "        }\n",
              "      </script>\n",
              "    </div>\n",
              "  </div>\n",
              "  "
            ],
            "text/plain": [
              "       Universidad                                    url_universidad  \\\n",
              "0  !\"-ESIQIE,-IPN\"  https://www.misprofesores.com/escuelas/ESIQIEI...   \n",
              "1   \"-ESIQIE,-IPN\"  https://www.misprofesores.com/escuelas/ESIQIEI...   \n",
              "2  \"-ESIQIE,-IPN\".  https://www.misprofesores.com/escuelas/ESIQIEI...   \n",
              "3    \"-ESIQIE,IPN\"  https://www.misprofesores.com/escuelas/ESIQIEI...   \n",
              "4   \"-ESIQIE,IPN.\"  https://www.misprofesores.com/escuelas/ESIQIEI...   \n",
              "\n",
              "           ciudad        estado  n_profesores  \n",
              "0   cd de mexico.  CD DE MEXICO            48  \n",
              "1    CD DE MEXICO        MEXICO           554  \n",
              "2    CD DE MEXICO        MEXICO            51  \n",
              "3          MÉXICO  CD DE MÉXICO           723  \n",
              "4            D.F.        MÉXICO           135  "
            ]
          },
          "execution_count": 28,
          "metadata": {},
          "output_type": "execute_result"
        }
      ],
      "source": [
        "df_general.head()"
      ]
    },
    {
      "cell_type": "markdown",
      "metadata": {
        "id": "EmbLOMAH9To-"
      },
      "source": [
        "Se podría obtener los datos de cada universidad, sin embargo hay muchas entradas repetidas o mal escritas. La mayoría no tienen muchos profesores, lo que no tiene sentido si son escuelas funcionando.\n",
        " - Una posibilidad es que los estudiantes no han registrado muchos profesores\n",
        " - La entrada no es una universidad valida\n",
        " - Quien hizo el registró una reseña para una universidad ya registrada\n",
        "\n",
        "Entonces, eliminaremos las universidades que muy pocos valores"
      ]
    },
    {
      "cell_type": "code",
      "execution_count": null,
      "metadata": {
        "colab": {
          "base_uri": "https://localhost:8080/"
        },
        "id": "hdQSM9xP-a39",
        "outputId": "5e08a4e4-df00-47d5-99c3-6dc2c05fafc6"
      },
      "outputs": [
        {
          "data": {
            "text/plain": [
              "Universidad        object\n",
              "url_universidad    object\n",
              "ciudad             object\n",
              "estado             object\n",
              "n_profesores        int64\n",
              "dtype: object"
            ]
          },
          "execution_count": 29,
          "metadata": {},
          "output_type": "execute_result"
        }
      ],
      "source": [
        "# Sin embargo primero debo convertir los datos a un tipo más adecuado\n",
        "df_general.dtypes"
      ]
    },
    {
      "cell_type": "code",
      "execution_count": null,
      "metadata": {
        "id": "EnIdkROV-tLd"
      },
      "outputs": [],
      "source": [
        "df_general['n_profesores'] = df_general['n_profesores'].astype(int)"
      ]
    },
    {
      "cell_type": "code",
      "execution_count": null,
      "metadata": {
        "colab": {
          "base_uri": "https://localhost:8080/"
        },
        "id": "CPKBP1-f-0hW",
        "outputId": "f2ecf62a-0a69-4c04-82ea-5a9a4674ca20"
      },
      "outputs": [
        {
          "data": {
            "text/plain": [
              "Universidad        object\n",
              "url_universidad    object\n",
              "ciudad             object\n",
              "estado             object\n",
              "n_profesores        int64\n",
              "dtype: object"
            ]
          },
          "execution_count": 31,
          "metadata": {},
          "output_type": "execute_result"
        }
      ],
      "source": [
        "df_general.dtypes"
      ]
    },
    {
      "cell_type": "code",
      "execution_count": null,
      "metadata": {
        "id": "uF7rlKh10P4k"
      },
      "outputs": [],
      "source": [
        "# Promedio\n",
        "description = df_general['n_profesores'].describe()\n",
        "median = df_general['n_profesores'].median()"
      ]
    },
    {
      "cell_type": "code",
      "execution_count": null,
      "metadata": {
        "colab": {
          "base_uri": "https://localhost:8080/"
        },
        "id": "UjWZAL0Qvii1",
        "outputId": "0e545809-8faa-4119-cffb-5311c5fc8c90"
      },
      "outputs": [
        {
          "name": "stdout",
          "output_type": "stream",
          "text": [
            "2.0\n"
          ]
        }
      ],
      "source": [
        "print(median)"
      ]
    },
    {
      "cell_type": "markdown",
      "metadata": {
        "id": "fWMAhKcpAOfd"
      },
      "source": [
        "Después de revisar la muchas entradas de universidades con solo una o dos reseñas, he notado que no tienen calificaciones, por lo que no son relevantes. En otros casos, son bromas o escuelas inexistentes"
      ]
    },
    {
      "cell_type": "code",
      "execution_count": null,
      "metadata": {
        "id": "vWNGDMoE1Dqk"
      },
      "outputs": [],
      "source": [
        "df_general = df_general.drop(df_general.loc[df_general['n_profesores']<=2].index)"
      ]
    },
    {
      "cell_type": "code",
      "execution_count": null,
      "metadata": {
        "colab": {
          "base_uri": "https://localhost:8080/"
        },
        "id": "PmxWfWnZxP5p",
        "outputId": "be60b1c3-a461-4cd7-cf74-df3564ce2a12"
      },
      "outputs": [
        {
          "data": {
            "text/plain": [
              "count    2955.000000\n",
              "mean       50.614552\n",
              "std       208.951760\n",
              "min         3.000000\n",
              "25%         4.000000\n",
              "50%         7.000000\n",
              "75%        22.000000\n",
              "max      3728.000000\n",
              "Name: n_profesores, dtype: float64"
            ]
          },
          "execution_count": 35,
          "metadata": {},
          "output_type": "execute_result"
        }
      ],
      "source": [
        "df_general['n_profesores'].describe()"
      ]
    },
    {
      "cell_type": "markdown",
      "metadata": {
        "id": "PfjKFr8DBJn8"
      },
      "source": [
        "Donde es razonable una planta promedio de casi 40 profesores. Aunque el ideal sería que el primer cuartil fuera de mínimo 20 profesores. Sin embargo, como el proyecto pretende agrupar las entradas de universidades repetidas, por ahora consideraré la mayor cantidad de universidades"
      ]
    },
    {
      "cell_type": "code",
      "execution_count": null,
      "metadata": {
        "id": "y7CmnVkE4K0L"
      },
      "outputs": [],
      "source": [
        "df_general.to_csv('uni_validas.csv', index=False)"
      ]
    },
    {
      "cell_type": "markdown",
      "source": [
        "## Obtener comentarios de los proresores de la Facultad de ciencias"
      ],
      "metadata": {
        "id": "QPMUL-3JtHqG"
      }
    },
    {
      "cell_type": "code",
      "execution_count": null,
      "metadata": {
        "id": "FjeJ7FMYpys7"
      },
      "outputs": [],
      "source": [
        "df_general = pd.read_csv('uni_validas.csv') "
      ]
    },
    {
      "cell_type": "code",
      "execution_count": null,
      "metadata": {
        "colab": {
          "base_uri": "https://localhost:8080/",
          "height": 206
        },
        "id": "djx1IV8UBlu8",
        "outputId": "5fffa478-f7bc-4c16-d838-ecb79a263b65"
      },
      "outputs": [
        {
          "data": {
            "text/html": [
              "\n",
              "  <div id=\"df-eb2d4027-d5a2-4512-91c9-de96631c05d8\">\n",
              "    <div class=\"colab-df-container\">\n",
              "      <div>\n",
              "<style scoped>\n",
              "    .dataframe tbody tr th:only-of-type {\n",
              "        vertical-align: middle;\n",
              "    }\n",
              "\n",
              "    .dataframe tbody tr th {\n",
              "        vertical-align: top;\n",
              "    }\n",
              "\n",
              "    .dataframe thead th {\n",
              "        text-align: right;\n",
              "    }\n",
              "</style>\n",
              "<table border=\"1\" class=\"dataframe\">\n",
              "  <thead>\n",
              "    <tr style=\"text-align: right;\">\n",
              "      <th></th>\n",
              "      <th>Universidad</th>\n",
              "      <th>url_universidad</th>\n",
              "      <th>ciudad</th>\n",
              "      <th>estado</th>\n",
              "      <th>n_profesores</th>\n",
              "    </tr>\n",
              "  </thead>\n",
              "  <tbody>\n",
              "    <tr>\n",
              "      <th>1777</th>\n",
              "      <td>Tec de Monterrey (ITESM - MTY)</td>\n",
              "      <td>https://www.misprofesores.com/escuelas/Tec-de-...</td>\n",
              "      <td>Monterrey</td>\n",
              "      <td>Nuevo León</td>\n",
              "      <td>3728</td>\n",
              "    </tr>\n",
              "    <tr>\n",
              "      <th>2117</th>\n",
              "      <td>UNAM</td>\n",
              "      <td>https://www.misprofesores.com/escuelas/UNAM_1059</td>\n",
              "      <td>México</td>\n",
              "      <td>D.F.</td>\n",
              "      <td>3657</td>\n",
              "    </tr>\n",
              "    <tr>\n",
              "      <th>966</th>\n",
              "      <td>Facultad de Ciencias UNAM</td>\n",
              "      <td>https://www.misprofesores.com/escuelas/Faculta...</td>\n",
              "      <td>Ciudad de Mexico</td>\n",
              "      <td>Distrito Federal</td>\n",
              "      <td>3587</td>\n",
              "    </tr>\n",
              "    <tr>\n",
              "      <th>140</th>\n",
              "      <td>BUAP - Benemérita Universidad Autónoma de Puebla</td>\n",
              "      <td>https://www.misprofesores.com/escuelas/BUAP-Be...</td>\n",
              "      <td>Puebla</td>\n",
              "      <td>Puebla</td>\n",
              "      <td>2516</td>\n",
              "    </tr>\n",
              "    <tr>\n",
              "      <th>973</th>\n",
              "      <td>Facultad de Contaduria y Administracion UNAM</td>\n",
              "      <td>https://www.misprofesores.com/escuelas/Faculta...</td>\n",
              "      <td>DF</td>\n",
              "      <td>DF</td>\n",
              "      <td>2356</td>\n",
              "    </tr>\n",
              "  </tbody>\n",
              "</table>\n",
              "</div>\n",
              "      <button class=\"colab-df-convert\" onclick=\"convertToInteractive('df-eb2d4027-d5a2-4512-91c9-de96631c05d8')\"\n",
              "              title=\"Convert this dataframe to an interactive table.\"\n",
              "              style=\"display:none;\">\n",
              "        \n",
              "  <svg xmlns=\"http://www.w3.org/2000/svg\" height=\"24px\"viewBox=\"0 0 24 24\"\n",
              "       width=\"24px\">\n",
              "    <path d=\"M0 0h24v24H0V0z\" fill=\"none\"/>\n",
              "    <path d=\"M18.56 5.44l.94 2.06.94-2.06 2.06-.94-2.06-.94-.94-2.06-.94 2.06-2.06.94zm-11 1L8.5 8.5l.94-2.06 2.06-.94-2.06-.94L8.5 2.5l-.94 2.06-2.06.94zm10 10l.94 2.06.94-2.06 2.06-.94-2.06-.94-.94-2.06-.94 2.06-2.06.94z\"/><path d=\"M17.41 7.96l-1.37-1.37c-.4-.4-.92-.59-1.43-.59-.52 0-1.04.2-1.43.59L10.3 9.45l-7.72 7.72c-.78.78-.78 2.05 0 2.83L4 21.41c.39.39.9.59 1.41.59.51 0 1.02-.2 1.41-.59l7.78-7.78 2.81-2.81c.8-.78.8-2.07 0-2.86zM5.41 20L4 18.59l7.72-7.72 1.47 1.35L5.41 20z\"/>\n",
              "  </svg>\n",
              "      </button>\n",
              "      \n",
              "  <style>\n",
              "    .colab-df-container {\n",
              "      display:flex;\n",
              "      flex-wrap:wrap;\n",
              "      gap: 12px;\n",
              "    }\n",
              "\n",
              "    .colab-df-convert {\n",
              "      background-color: #E8F0FE;\n",
              "      border: none;\n",
              "      border-radius: 50%;\n",
              "      cursor: pointer;\n",
              "      display: none;\n",
              "      fill: #1967D2;\n",
              "      height: 32px;\n",
              "      padding: 0 0 0 0;\n",
              "      width: 32px;\n",
              "    }\n",
              "\n",
              "    .colab-df-convert:hover {\n",
              "      background-color: #E2EBFA;\n",
              "      box-shadow: 0px 1px 2px rgba(60, 64, 67, 0.3), 0px 1px 3px 1px rgba(60, 64, 67, 0.15);\n",
              "      fill: #174EA6;\n",
              "    }\n",
              "\n",
              "    [theme=dark] .colab-df-convert {\n",
              "      background-color: #3B4455;\n",
              "      fill: #D2E3FC;\n",
              "    }\n",
              "\n",
              "    [theme=dark] .colab-df-convert:hover {\n",
              "      background-color: #434B5C;\n",
              "      box-shadow: 0px 1px 3px 1px rgba(0, 0, 0, 0.15);\n",
              "      filter: drop-shadow(0px 1px 2px rgba(0, 0, 0, 0.3));\n",
              "      fill: #FFFFFF;\n",
              "    }\n",
              "  </style>\n",
              "\n",
              "      <script>\n",
              "        const buttonEl =\n",
              "          document.querySelector('#df-eb2d4027-d5a2-4512-91c9-de96631c05d8 button.colab-df-convert');\n",
              "        buttonEl.style.display =\n",
              "          google.colab.kernel.accessAllowed ? 'block' : 'none';\n",
              "\n",
              "        async function convertToInteractive(key) {\n",
              "          const element = document.querySelector('#df-eb2d4027-d5a2-4512-91c9-de96631c05d8');\n",
              "          const dataTable =\n",
              "            await google.colab.kernel.invokeFunction('convertToInteractive',\n",
              "                                                     [key], {});\n",
              "          if (!dataTable) return;\n",
              "\n",
              "          const docLinkHtml = 'Like what you see? Visit the ' +\n",
              "            '<a target=\"_blank\" href=https://colab.research.google.com/notebooks/data_table.ipynb>data table notebook</a>'\n",
              "            + ' to learn more about interactive tables.';\n",
              "          element.innerHTML = '';\n",
              "          dataTable['output_type'] = 'display_data';\n",
              "          await google.colab.output.renderOutput(dataTable, element);\n",
              "          const docLink = document.createElement('div');\n",
              "          docLink.innerHTML = docLinkHtml;\n",
              "          element.appendChild(docLink);\n",
              "        }\n",
              "      </script>\n",
              "    </div>\n",
              "  </div>\n",
              "  "
            ],
            "text/plain": [
              "                                           Universidad  \\\n",
              "1777                    Tec de Monterrey (ITESM - MTY)   \n",
              "2117                                              UNAM   \n",
              "966                          Facultad de Ciencias UNAM   \n",
              "140   BUAP - Benemérita Universidad Autónoma de Puebla   \n",
              "973       Facultad de Contaduria y Administracion UNAM   \n",
              "\n",
              "                                        url_universidad            ciudad  \\\n",
              "1777  https://www.misprofesores.com/escuelas/Tec-de-...         Monterrey   \n",
              "2117   https://www.misprofesores.com/escuelas/UNAM_1059            México   \n",
              "966   https://www.misprofesores.com/escuelas/Faculta...  Ciudad de Mexico   \n",
              "140   https://www.misprofesores.com/escuelas/BUAP-Be...            Puebla   \n",
              "973   https://www.misprofesores.com/escuelas/Faculta...                DF   \n",
              "\n",
              "                estado  n_profesores  \n",
              "1777        Nuevo León          3728  \n",
              "2117              D.F.          3657  \n",
              "966   Distrito Federal          3587  \n",
              "140             Puebla          2516  \n",
              "973                 DF          2356  "
            ]
          },
          "execution_count": 40,
          "metadata": {},
          "output_type": "execute_result"
        }
      ],
      "source": [
        "df_general.sort_values(by='n_profesores', ascending=False).head()"
      ]
    },
    {
      "cell_type": "markdown",
      "metadata": {
        "id": "qsbrfIZuC4JN"
      },
      "source": [
        "Un objetivo es determinar cual asignatura tiene mayor dificultad o disparidad entre escuelas. Por lo que se necesita una base de datos que tenga cada profesor, su asignartura dada y la calificacion recibida en ella."
      ]
    },
    {
      "cell_type": "markdown",
      "metadata": {
        "id": "gswBNJlODQKk"
      },
      "source": [
        "Como son muchas, comenzare haciendolo solo para facultad de ciencias de la UNAM: https://www.misprofesores.com/escuelas/Facultad-de-Ciencias-UNAM_2842"
      ]
    },
    {
      "cell_type": "markdown",
      "metadata": {
        "id": "65Lj8Vo7ESMO"
      },
      "source": [
        "* Obtener los datos de los profesores, su numero de rese;as, calificacion y url\n",
        "  * Filtrar por quienes no tienen calificacion o rese;as\n",
        "* Obtener de cada url y por cada comentario la materia, y la calificaciones y etiquetas por cada una."
      ]
    },
    {
      "cell_type": "code",
      "execution_count": null,
      "metadata": {
        "colab": {
          "base_uri": "https://localhost:8080/",
          "height": 112
        },
        "id": "szngn8u3_dwr",
        "outputId": "992dfc06-a9e7-4e99-b3fd-e84c3cb180f4"
      },
      "outputs": [
        {
          "data": {
            "text/html": [
              "\n",
              "  <div id=\"df-f4158a36-5266-47fd-ba19-76d10a4470fc\">\n",
              "    <div class=\"colab-df-container\">\n",
              "      <div>\n",
              "<style scoped>\n",
              "    .dataframe tbody tr th:only-of-type {\n",
              "        vertical-align: middle;\n",
              "    }\n",
              "\n",
              "    .dataframe tbody tr th {\n",
              "        vertical-align: top;\n",
              "    }\n",
              "\n",
              "    .dataframe thead th {\n",
              "        text-align: right;\n",
              "    }\n",
              "</style>\n",
              "<table border=\"1\" class=\"dataframe\">\n",
              "  <thead>\n",
              "    <tr style=\"text-align: right;\">\n",
              "      <th></th>\n",
              "      <th>Universidad</th>\n",
              "      <th>url_universidad</th>\n",
              "      <th>ciudad</th>\n",
              "      <th>estado</th>\n",
              "      <th>n_profesores</th>\n",
              "    </tr>\n",
              "  </thead>\n",
              "  <tbody>\n",
              "    <tr>\n",
              "      <th>966</th>\n",
              "      <td>Facultad de Ciencias UNAM</td>\n",
              "      <td>https://www.misprofesores.com/escuelas/Faculta...</td>\n",
              "      <td>Ciudad de Mexico</td>\n",
              "      <td>Distrito Federal</td>\n",
              "      <td>3587</td>\n",
              "    </tr>\n",
              "    <tr>\n",
              "      <th>967</th>\n",
              "      <td>Facultad de Ciencias UNAM</td>\n",
              "      <td>https://www.misprofesores.com/escuelas/Faculta...</td>\n",
              "      <td>MEXICO</td>\n",
              "      <td>MEXICO</td>\n",
              "      <td>41</td>\n",
              "    </tr>\n",
              "  </tbody>\n",
              "</table>\n",
              "</div>\n",
              "      <button class=\"colab-df-convert\" onclick=\"convertToInteractive('df-f4158a36-5266-47fd-ba19-76d10a4470fc')\"\n",
              "              title=\"Convert this dataframe to an interactive table.\"\n",
              "              style=\"display:none;\">\n",
              "        \n",
              "  <svg xmlns=\"http://www.w3.org/2000/svg\" height=\"24px\"viewBox=\"0 0 24 24\"\n",
              "       width=\"24px\">\n",
              "    <path d=\"M0 0h24v24H0V0z\" fill=\"none\"/>\n",
              "    <path d=\"M18.56 5.44l.94 2.06.94-2.06 2.06-.94-2.06-.94-.94-2.06-.94 2.06-2.06.94zm-11 1L8.5 8.5l.94-2.06 2.06-.94-2.06-.94L8.5 2.5l-.94 2.06-2.06.94zm10 10l.94 2.06.94-2.06 2.06-.94-2.06-.94-.94-2.06-.94 2.06-2.06.94z\"/><path d=\"M17.41 7.96l-1.37-1.37c-.4-.4-.92-.59-1.43-.59-.52 0-1.04.2-1.43.59L10.3 9.45l-7.72 7.72c-.78.78-.78 2.05 0 2.83L4 21.41c.39.39.9.59 1.41.59.51 0 1.02-.2 1.41-.59l7.78-7.78 2.81-2.81c.8-.78.8-2.07 0-2.86zM5.41 20L4 18.59l7.72-7.72 1.47 1.35L5.41 20z\"/>\n",
              "  </svg>\n",
              "      </button>\n",
              "      \n",
              "  <style>\n",
              "    .colab-df-container {\n",
              "      display:flex;\n",
              "      flex-wrap:wrap;\n",
              "      gap: 12px;\n",
              "    }\n",
              "\n",
              "    .colab-df-convert {\n",
              "      background-color: #E8F0FE;\n",
              "      border: none;\n",
              "      border-radius: 50%;\n",
              "      cursor: pointer;\n",
              "      display: none;\n",
              "      fill: #1967D2;\n",
              "      height: 32px;\n",
              "      padding: 0 0 0 0;\n",
              "      width: 32px;\n",
              "    }\n",
              "\n",
              "    .colab-df-convert:hover {\n",
              "      background-color: #E2EBFA;\n",
              "      box-shadow: 0px 1px 2px rgba(60, 64, 67, 0.3), 0px 1px 3px 1px rgba(60, 64, 67, 0.15);\n",
              "      fill: #174EA6;\n",
              "    }\n",
              "\n",
              "    [theme=dark] .colab-df-convert {\n",
              "      background-color: #3B4455;\n",
              "      fill: #D2E3FC;\n",
              "    }\n",
              "\n",
              "    [theme=dark] .colab-df-convert:hover {\n",
              "      background-color: #434B5C;\n",
              "      box-shadow: 0px 1px 3px 1px rgba(0, 0, 0, 0.15);\n",
              "      filter: drop-shadow(0px 1px 2px rgba(0, 0, 0, 0.3));\n",
              "      fill: #FFFFFF;\n",
              "    }\n",
              "  </style>\n",
              "\n",
              "      <script>\n",
              "        const buttonEl =\n",
              "          document.querySelector('#df-f4158a36-5266-47fd-ba19-76d10a4470fc button.colab-df-convert');\n",
              "        buttonEl.style.display =\n",
              "          google.colab.kernel.accessAllowed ? 'block' : 'none';\n",
              "\n",
              "        async function convertToInteractive(key) {\n",
              "          const element = document.querySelector('#df-f4158a36-5266-47fd-ba19-76d10a4470fc');\n",
              "          const dataTable =\n",
              "            await google.colab.kernel.invokeFunction('convertToInteractive',\n",
              "                                                     [key], {});\n",
              "          if (!dataTable) return;\n",
              "\n",
              "          const docLinkHtml = 'Like what you see? Visit the ' +\n",
              "            '<a target=\"_blank\" href=https://colab.research.google.com/notebooks/data_table.ipynb>data table notebook</a>'\n",
              "            + ' to learn more about interactive tables.';\n",
              "          element.innerHTML = '';\n",
              "          dataTable['output_type'] = 'display_data';\n",
              "          await google.colab.output.renderOutput(dataTable, element);\n",
              "          const docLink = document.createElement('div');\n",
              "          docLink.innerHTML = docLinkHtml;\n",
              "          element.appendChild(docLink);\n",
              "        }\n",
              "      </script>\n",
              "    </div>\n",
              "  </div>\n",
              "  "
            ],
            "text/plain": [
              "                   Universidad  \\\n",
              "966  Facultad de Ciencias UNAM   \n",
              "967  Facultad de Ciencias UNAM   \n",
              "\n",
              "                                       url_universidad            ciudad  \\\n",
              "966  https://www.misprofesores.com/escuelas/Faculta...  Ciudad de Mexico   \n",
              "967  https://www.misprofesores.com/escuelas/Faculta...            MEXICO   \n",
              "\n",
              "               estado  n_profesores  \n",
              "966  Distrito Federal          3587  \n",
              "967            MEXICO            41  "
            ]
          },
          "execution_count": 42,
          "metadata": {},
          "output_type": "execute_result"
        }
      ],
      "source": [
        "df_general.loc[df_general['Universidad']=='Facultad de Ciencias UNAM']"
      ]
    },
    {
      "cell_type": "markdown",
      "source": [
        "### Obtener url para la lista de profesores de la  facultad de ciencias, UNAM"
      ],
      "metadata": {
        "id": "ZGKSOb0KtRVl"
      }
    },
    {
      "cell_type": "code",
      "execution_count": null,
      "metadata": {
        "colab": {
          "base_uri": "https://localhost:8080/",
          "height": 35
        },
        "id": "eBGoqiuo_0Wu",
        "outputId": "4db5ec1e-5cfd-450b-8051-29e31b41b307"
      },
      "outputs": [
        {
          "data": {
            "application/vnd.google.colaboratory.intrinsic+json": {
              "type": "string"
            },
            "text/plain": [
              "'https://www.misprofesores.com/escuelas/Facultad-de-Ciencias-UNAM_2842'"
            ]
          },
          "execution_count": 49,
          "metadata": {},
          "output_type": "execute_result"
        }
      ],
      "source": [
        "df_general['url_universidad'].loc[df_general['Universidad']=='Facultad de Ciencias UNAM'].iloc[0]"
      ]
    },
    {
      "cell_type": "markdown",
      "source": [
        "### Obtener lista de profesores de la facultad de ciencias, UNAM"
      ],
      "metadata": {
        "id": "rS0BWIsntfLP"
      }
    },
    {
      "cell_type": "code",
      "execution_count": null,
      "metadata": {
        "id": "9E4pRUDWCCLU"
      },
      "outputs": [],
      "source": [
        "url = 'https://www.misprofesores.com/escuelas/Facultad-de-Ciencias-UNAM_28429'\n",
        "response = requests.get(url)\n",
        "\n",
        "if response.status_code == 200:\n",
        "  soup = BeautifulSoup(response.content, 'html.parser')"
      ]
    },
    {
      "cell_type": "code",
      "execution_count": null,
      "metadata": {
        "id": "PNa547BoFQ-V"
      },
      "outputs": [],
      "source": [
        "soup = soup.find_all('script', {'type':'text/javascript'})[3]"
      ]
    },
    {
      "cell_type": "code",
      "execution_count": null,
      "metadata": {
        "id": "IVzLucUXFSWY"
      },
      "outputs": [],
      "source": [
        "soup = str(soup).split('dataSet')[1]"
      ]
    },
    {
      "cell_type": "code",
      "execution_count": null,
      "metadata": {
        "id": "nlNgZdftHkf2"
      },
      "outputs": [],
      "source": [
        "soup = soup.split('=')[1]"
      ]
    },
    {
      "cell_type": "code",
      "execution_count": null,
      "metadata": {
        "id": "T2255c1oI1qe"
      },
      "outputs": [],
      "source": [
        "profesores = soup"
      ]
    },
    {
      "cell_type": "code",
      "execution_count": null,
      "metadata": {
        "id": "4lrw5bdqH6cv"
      },
      "outputs": [],
      "source": [
        "profesores = profesores.split(';\\n$')[0]"
      ]
    },
    {
      "cell_type": "code",
      "execution_count": null,
      "metadata": {
        "colab": {
          "base_uri": "https://localhost:8080/",
          "height": 139
        },
        "id": "7yfDacgVIA_I",
        "outputId": "75fdb555-a8e0-49d7-e1f8-f3e1f4bf9301"
      },
      "outputs": [
        {
          "data": {
            "application/vnd.google.colaboratory.intrinsic+json": {
              "type": "string"
            },
            "text/plain": [
              "' [{\"i\":\"17997\",\"n\":\"SERGIO\",\"a\":\"\\\\tCAMACHO MENDOZA \",\"d\":\"GESTION D RECURSOS GUBERNAM.\",\"m\":\"7\",\"c\":\"7.7143\"},{\"i\":\"75638\",\"n\":\"rafael\",\"a\":\"\",\"d\":\"\",\"m\":\"0\",\"c\":null},{\"i\":\"15960\",\"n\":\"Sosa Manzur\",\"a\":\"Aalvar\",\"d\":\"fcpys\",\"m\":\"8\",\"c\":\"9.0000\"},{\"i\":\"15959\",\"n\":\"Sosa Manzur\",\"a\":\"Aalvar\",\"d\":\"filosof\\\\u00eda y teor\\\\u00eda pol\\\\u00edtica\",\"m\":\"7\",\"c\":\"6.4286\"},{\"i\":\"142833\",\"n\":\"Oscar\",\"a\":\"Abad\",\"d\":\"Fin\",\"m\":\"0\",\"c\":null},{\"i\":\"105400\",\"n\":\"Mario\",\"a\":\"Abad Schoster\",\"d\":\"FES Arag\\\\u00f3n\",\"m\":\"1\",\"c\":\"10.0000\"},{\"i\":\"110982\",\"n\":\"Paulina\",\"a\":\"Abarca Juarez\",\"d\":\"Ciencias\",\"m\":\"4\",\"c\":\"5.0000\"},{\"i\":\"156013\",\"n\":\"Estefania\",\"a\":\"Abarca Rodriguez\",\"d\":\"Facultad de Ingenier\\\\u00eda \",\"m\":\"2\",\"c\":\"3.5000\"},{\"i\":\"141080\",\"n\":\"Jose Sergio Celso\",\"a\":\"Abarca Tellez\",\"d\":\"Facultad de Contadur\\\\u00eda\",\"m\":\"5\",\"c\":\"2.2000\"},{\"i\":\"163856\",\"n\":\"Ram\\\\u00f3n Severino\",\"a\":\"Abascal Rivera\",\"d\":\"Fes Zaragoza \",\"m\":\"0\",\"c\":null},{\"i\":\"18104\",\"n\":\"Luis Orlando \",\"a\":\"Abrajan Villase\\\\u00f1or\",\"d\":\"Fisicoquimica\",\"m\":\"8\",\"c\":\"7.7500\"},{\"i\":\"163632\",\"n\":\"Ang\\\\u00e9lica Jacqueline\",\"a\":\"Abrego Soto\",\"d\":\"Trabajo social \",\"m\":\"0\",\"c\":null},{\"i\":\"105586\",\"n\":\"Alfonso\",\"a\":\"Acevedo\",\"d\":\"Soriano\",\"m\":\"0\",\"c\":null},{\"i\":\"141980\",\"n\":\"Perla\",\"a\":\"Acevedo Mart\\\\u00ednez\",\"d\":\"Prepa \",\"m\":\"0\",\"c\":null},{\"i\":\"135561\",\"n\":\"Pedro Alfonso\",\"a\":\"Aceves Adan\",\"d\":\"Derecho \",\"m\":\"0\",\"c\":null},{\"i\":\"61258\",\"n\":\"John Mill\",\"a\":\"Ackerman Rose\",\"d\":\"Derecho\",\"m\":\"32\",\"c\":\"4.6250\"},{\"i\":\"163448\",\"n\":\"Lorenzo\",\"a\":\"Acosta\",\"d\":\"Filosof\\\\u00eda y letras \",\"m\":\"0\",\"c\":null},{\"i\":\"163975\",\"n\":\"Eduardo\",\"a\":\"Acosta Arreola\",\"d\":\"FAD posgrado\",\"m\":\"1\",\"c\":\"10.0000\"},{\"i\":\"77024\",\"n\":\"Sergio\",\"a\":\"Acosta Gonz\\\\u00e1lez\",\"d\":\"\",\"m\":\"0\",\"c\":null},{\"i\":\"156230\",\"n\":\"Sergio\",\"a\":\"Acosta Gonz\\\\u00e1lez\",\"d\":\"Fes arag\\\\u00f3n \",\"m\":\"0\",\"c\":null},{\"i\":\"69480\",\"n\":\"Jorge\",\"a\":\"Acosta Laguna\",\"d\":\"Trabajo Social\",\"m\":\"0\",\"c\":null},{\"i\":\"14371\",\"n\":\"Myriam Patricia\",\"a\":\"Acu\\\\u00f1a Monsalve\",\"d\":\"Economia\",\"m\":\"27\",\"c\":\"6.4815\"},{\"i\":\"163115\",\"n\":\"Jorge\",\"a\":\"Adame\",\"d\":\"Derecho\",\"m\":\"0\",\"c\":null},{\"i\":\"42653\",\"n\":\"Jorge Carlos\",\"a\":\"Adame Garcia\",\"d\":\"Derecho\",\"m\":\"3\",\"c\":\"2.0000\"},{\"i\":\"122743\",\"n\":\"Andr\\\\u00e9s igor\",\"a\":\"Adame Ruiz\",\"d\":\"Preparatoria 2\",\"m\":\"1\",\"c\":\"10.0000\"},{\"i\":\"151938\",\"n\":\"Gerardo Cruz\",\"a\":\"Aedo Mart\\\\u00ednez\",\"d\":\"Derecho\",\"m\":\"0\",\"c\":null},{\"i\":\"27498\",\"n\":\"Maria Pilar\",\"a\":\"Aguayo Flores\",\"d\":\"contaduria\",\"m\":\"4\",\"c\":\"9.5000\"},{\"i\":\"75272\",\"n\":\"Orison\",\"a\":\"Aguilar\",\"d\":\"Econom?a\",\"m\":\"0\",\"c\":null},{\"i\":\"19742\",\"n\":\"Roberto\",\"a\":\"Aguilar\",\"d\":\"CCH-oriente\\\\/ frances\",\"m\":\"6\",\"c\":\"9.5000\"},{\"i\":\"144519\",\"n\":\"Mar\\\\u00eda Virginia\",\"a\":\"Aguilar\",\"d\":\"Ciencias Pol\\\\u00edticas y Sociales\",\"m\":\"0\",\"c\":null},{\"i\":\"112511\",\"n\":\"Pablo Andr\\\\u00e9s\",\"a\":\"Aguilar\",\"d\":\"Balboa\",\"m\":\"0\",\"c\":null},{\"i\":\"162377\",\"n\":\"Jos\\\\u00e9 Patricio\",\"a\":\"Aguilar Castro\",\"d\":\"Odontolog\\\\u00eda \",\"m\":\"0\",\"c\":null},{\"i\":\"73359\",\"n\":\"Angie\",\"a\":\"Aguilar Dom\\\\u00ednguez\",\"d\":\"Contaduria\\\\/ TIC\\'s\",\"m\":\"17\",\"c\":\"3.3529\"},{\"i\":\"142143\",\"n\":\"Luz Ver\\\\u00f3nica\",\"a\":\"Aguilar Garrido\",\"d\":\"PSICOLOGIA\",\"m\":\"2\",\"c\":\"10.0000\"},{\"i\":\"11220\",\"n\":\"Javier de J\",\"a\":\"Aguilar G\\\\u00f3mez\",\"d\":\"Econom\\\\u00eda\",\"m\":\"12\",\"c\":\"4.3333\"},{\"i\":\"140911\",\"n\":\"Mauricio\",\"a\":\"Aguilar Gonz\\\\u00e1lez\",\"d\":\"Actuaria\",\"m\":\"2\",\"c\":\"8.0000\"},{\"i\":\"141202\",\"n\":\"JOSE ARTURO\",\"a\":\"AGUILAR OCHOA\",\"d\":\"FACULTAD DE CIENCIAS POLITICAS\",\"m\":\"2\",\"c\":\"10.0000\"},{\"i\":\"14372\",\"n\":\"Orison Alberto\",\"a\":\"Aguilar Paredes\",\"d\":\"Economia\",\"m\":\"41\",\"c\":\"8.0732\"},{\"i\":\"65276\",\"n\":\"Leticia\",\"a\":\"Aguilar Pascual\",\"d\":\"CCH Oriente UNAM\",\"m\":\"8\",\"c\":\"9.2500\"},{\"i\":\"136429\",\"n\":\"Liliana\",\"a\":\"Aguilar Reyes\",\"d\":\"Facultad de Ciencias Pol\\\\u00edticas y Sociales UNAM \",\"m\":\"3\",\"c\":\"7.6667\"},{\"i\":\"91366\",\"n\":\"Eduardo Ismael\",\"a\":\"Aguilar Sierra\",\"d\":\"Facultad de derecho\",\"m\":\"6\",\"c\":\"7.3333\"},{\"i\":\"164487\",\"n\":\"Claudia\",\"a\":\"Aguilar Silva\",\"d\":\"FES Arag\\\\u00f3n \",\"m\":\"1\",\"c\":\"2.0000\"},{\"i\":\"115561\",\"n\":\"Rafael Eduardo\",\"a\":\"Aguilera Aguilar\",\"d\":\"Fca\",\"m\":\"0\",\"c\":null},{\"i\":\"44214\",\"n\":\"rina marissa\",\"a\":\"aguilera hintelholher\",\"d\":\"ciencias politicas\",\"m\":\"2\",\"c\":\"8.0000\"},{\"i\":\"17147\",\"n\":\"rina marissa\",\"a\":\"aguilera hintelholher\",\"d\":\"FCPyS\",\"m\":\"48\",\"c\":\"6.9375\"},{\"i\":\"111408\",\"n\":\"Jimena\",\"a\":\"Aguirre\",\"d\":\"Primaria\",\"m\":\"1\",\"c\":\"3.0000\"},{\"i\":\"85471\",\"n\":\"miguel angel\",\"a\":\"aguirre ba\\\\u00f1uelos\",\"d\":\"filosof\\\\u00eda y letras\",\"m\":\"0\",\"c\":null},{\"i\":\"14455\",\"n\":\"Mar\\\\u00eda Teresa\",\"a\":\"Aguirre Covarrubias\",\"d\":\"Economia\",\"m\":\"21\",\"c\":\"8.1905\"},{\"i\":\"161614\",\"n\":\"Carlos Eduardo\",\"a\":\"Aguirre Morales\",\"d\":\"Medicina\",\"m\":\"0\",\"c\":null},{\"i\":\"15983\",\"n\":\"LEON SILVA \",\"a\":\"AGUSTINA\",\"d\":\"ENTS\\\\/PRACTICAS\",\"m\":\"5\",\"c\":\"3.8000\"},{\"i\":\"60646\",\"n\":\"SAN VICENTE PARADA\",\"a\":\"AIDA DEL CARMEN\",\"d\":\"derecho sua\",\"m\":\"3\",\"c\":\"8.0000\"},{\"i\":\"162794\",\"n\":\"Jos\\\\u00e9 Manuel\",\"a\":\"Aiza Burguete\",\"d\":\"FESC Administraci\\\\u00f3n \",\"m\":\"1\",\"c\":\"10.0000\"},{\"i\":\"151554\",\"n\":\"Philippe henri\",\"a\":\"Alain Morancay\",\"d\":\"Facultad de ciencias pol\\\\u00edticas y sociales \",\"m\":\"1\",\"c\":\"2.0000\"},{\"i\":\"22511\",\"n\":\"GONZALO\",\"a\":\"ALANIS FIGUEROA\",\"d\":\"DERECHO\",\"m\":\"7\",\"c\":\"7.7143\"},{\"i\":\"34306\",\"n\":\"MIRYAM PATRICIA\",\"a\":\"ALANIS URDIALES\",\"d\":\"CIDEB\",\"m\":\"2\",\"c\":\"6.0000\"},{\"i\":\"63373\",\"n\":\"manuela\",\"a\":\"alarcon\",\"d\":\"fes zaragoza\",\"m\":\"0\",\"c\":null},{\"i\":\"158910\",\"n\":\"Alvaro Eduardo\",\"a\":\"Alarc\\\\u00f3n Padilla\",\"d\":\"Psicolog\\\\u00eda\",\"m\":\"1\",\"c\":\"10.0000\"},{\"i\":\"119145\",\"n\":\"David\",\"a\":\"Alarid\",\"d\":\"pedagogia\",\"m\":\"0\",\"c\":null},{\"i\":\"102692\",\"n\":\"Monica\",\"a\":\"Alatorre Reynoso\",\"d\":\"FESI\",\"m\":\"2\",\"c\":\"6.5000\"},{\"i\":\"139101\",\"n\":\"Mart\\\\u00ednez\",\"a\":\"Alavez\",\"d\":\"Facultad de Ingenier\\\\u00eda\",\"m\":\"0\",\"c\":null},{\"i\":\"72786\",\"n\":\"fernando\",\"a\":\"alba aldave\",\"d\":\"\",\"m\":\"0\",\"c\":null},{\"i\":\"150260\",\"n\":\"Jos\\\\u00e9 Ernesto\",\"a\":\"Alba Arroyo\",\"d\":\"Facultad de ciencias UNAM\",\"m\":\"1\",\"c\":\"9.0000\"},{\"i\":\"135709\",\"n\":\"Ana G.\",\"a\":\"Alba Betancourt\",\"d\":\"Instituto de Investigaciones Jur\\\\u00eddicas\",\"m\":\"1\",\"c\":\"10.0000\"},{\"i\":\"73929\",\"n\":\"Mar\\\\u00eda de los \\\\u00c1ngeles\",\"a\":\"Alba Gonz\\\\u00e1les\",\"d\":\"CCH sur\",\"m\":\"4\",\"c\":\"6.2500\"},{\"i\":\"14900\",\"n\":\"EDUARDO \",\"a\":\"ALBARRAN GUZAM\",\"d\":\"CONTADURIS UNIDAD DE POSGRADO UNAM \",\"m\":\"2\",\"c\":\"6.0000\"},{\"i\":\"149599\",\"n\":\"JOS\\\\u00c9 FRANCISCO\",\"a\":\"ALBARRAN NU\\\\u00d1EZ\",\"d\":\"FACULTAD DE INGENIER\\\\u00cdA UNAM\",\"m\":\"1\",\"c\":\"10.0000\"},{\"i\":\"106983\",\"n\":\"Rosalio\",\"a\":\"Albor Ortiz\",\"d\":\"Derecho\",\"m\":\"0\",\"c\":null},{\"i\":\"77990\",\"n\":\"Carlos Augusto\",\"a\":\"Alburquerque\",\"d\":\"Psicolog\\\\u00eda\",\"m\":\"1\",\"c\":\"2.0000\"},{\"i\":\"77989\",\"n\":\"Carlos Augusto\",\"a\":\"Alburquerque\",\"d\":\"Pw\",\"m\":\"0\",\"c\":null},{\"i\":\"32942\",\"n\":\"UNAM\",\"a\":\"Alburquerque Pe\\\\u00f3n Carlos\",\"d\":\"Psicolog\\\\u00eda\",\"m\":\"58\",\"c\":\"6.5517\"},{\"i\":\"95666\",\"n\":\"Ra\\\\u00fal\",\"a\":\"Alcal\\\\u00e1\",\"d\":\"FES Cuautitl\\\\u00e1n\",\"m\":\"0\",\"c\":null},{\"i\":\"14979\",\"n\":\"Ver\\\\u00f3nica Ma. del Consuelo\",\"a\":\"Alcal\\\\u00e1 Herrera\",\"d\":\"Psicolog\\\\u00eda\",\"m\":\"12\",\"c\":\"6.0833\"},{\"i\":\"17372\",\"n\":\"Federico\",\"a\":\"Alcala Mendez\",\"d\":\"Facultad de Derecho UNAM\",\"m\":\"9\",\"c\":\"7.7778\"},{\"i\":\"110810\",\"n\":\"Silvia o\",\"a\":\"Alcal\\\\u00e1 tejeda\",\"d\":\"Enp2\",\"m\":\"1\",\"c\":\"9.0000\"},{\"i\":\"97858\",\"n\":\"Miguel\",\"a\":\"Alcantar Elizarraras\",\"d\":\"Ingl\\\\u00e9s\",\"m\":\"1\",\"c\":\"9.0000\"},{\"i\":\"113952\",\"n\":\"Marlene\",\"a\":\"Alcantara Dom\\\\u00ednguez\",\"d\":\"Facultad de Ciencias Pol\\\\u00edticas y Sociales\",\"m\":\"0\",\"c\":null},{\"i\":\"164514\",\"n\":\"JUAN\",\"a\":\"ALCANTARA GALLEGOS\",\"d\":\"ENP 3\",\"m\":\"1\",\"c\":\"6.0000\"},{\"i\":\"75850\",\"n\":\"gil\",\"a\":\"alcantara gimenez\",\"d\":\"contaduria\",\"m\":\"0\",\"c\":null},{\"i\":\"163863\",\"n\":\"ADOLFO AARON\",\"a\":\"ALCANTARA HERNANDEZ\",\"d\":\"MATEMATICAS V\",\"m\":\"0\",\"c\":null},{\"i\":\"136096\",\"n\":\"BRENDA LISSETTE\",\"a\":\"ALCANTARA HERNANDEZ\",\"d\":\"Facultad de Economia\",\"m\":\"3\",\"c\":\"9.0000\"},{\"i\":\"109208\",\"n\":\"Leonel\",\"a\":\"Alcantara hernandez\",\"d\":\"Arquitectura \",\"m\":\"3\",\"c\":\"5.0000\"},{\"i\":\"14540\",\"n\":\"Ortiz Eduardo\",\"a\":\"Alcaraz \",\"d\":\"\",\"m\":\"0\",\"c\":null},{\"i\":\"14541\",\"n\":\"Eduardo\",\"a\":\"Alcaraz Ortiz\",\"d\":\"Economia\",\"m\":\"0\",\"c\":null},{\"i\":\"164191\",\"n\":\"Luz Elena\",\"a\":\"Alcaraz Sosa\",\"d\":\"Departamento de producci\\\\u00f3n agricola y animal \",\"m\":\"1\",\"c\":\"10.0000\"},{\"i\":\"76406\",\"n\":\"JUAN CARLOS\",\"a\":\"ALCERRECA HUERTA\",\"d\":\"ingenieria\",\"m\":\"7\",\"c\":\"9.7143\"},{\"i\":\"102572\",\"n\":\"Abel Vicente\",\"a\":\"Aldana\",\"d\":\"Biolog\\\\u00eda\",\"m\":\"1\",\"c\":\"9.0000\"},{\"i\":\"150286\",\"n\":\"Giovanni\",\"a\":\"Aldana Guti\\\\u00e9rrez\",\"d\":\"Facultad de Ciencias\\\\/Qu\\\\u00edmica\",\"m\":\"1\",\"c\":\"10.0000\"},{\"i\":\"69699\",\"n\":\"Luz Gabriela\",\"a\":\"Aldana Ugarte\",\"d\":\"Facultad de Derecho\",\"m\":\"10\",\"c\":\"3.9000\"},{\"i\":\"158499\",\"n\":\"nancy\",\"a\":\"aldaz\",\"d\":\"derecho\",\"m\":\"0\",\"c\":null},{\"i\":\"124275\",\"n\":\"Roxana Mercedes\",\"a\":\"Aleman\",\"d\":\"Buendia\",\"m\":\"0\",\"c\":null},{\"i\":\"164343\",\"n\":\"Jos\\\\u00e9 Luis\",\"a\":\"Alfaro Arreola\",\"d\":\"CCH Plantel Oriente\",\"m\":\"1\",\"c\":\"10.0000\"},{\"i\":\"135338\",\"n\":\"Daniel De Jesus\",\"a\":\"Alfaro Fuentes\",\"d\":\"Ciencias\\\\/Actuarias\",\"m\":\"7\",\"c\":\"3.5714\"},{\"i\":\"135337\",\"n\":\"Daniel De Jesus\",\"a\":\"Alfaro Fuentes\",\"d\":\"Ciencias\\\\/ Matem\\\\u00e1ticas Financieras \",\"m\":\"0\",\"c\":null},{\"i\":\"75043\",\"n\":\"maria eugenia\",\"a\":\"alfaro y castillo\",\"d\":\"preparatoria 7\",\"m\":\"1\",\"c\":\"10.0000\"},{\"i\":\"14373\",\"n\":\"Juan\",\"a\":\"Alfaro Yllescas\",\"d\":\"Economia\",\"m\":\"42\",\"c\":\"5.1190\"},{\"i\":\"14989\",\"n\":\"Anaya Diaz\",\"a\":\"Alfonso Miguel\",\"d\":\"Economia\",\"m\":\"23\",\"c\":\"7.4783\"},{\"i\":\"42245\",\"n\":\"Dra. Edwina Rebeca\",\"a\":\"Almada Flores\",\"d\":\"Facultad de Derecho \",\"m\":\"5\",\"c\":\"7.6000\"},{\"i\":\"14198\",\"n\":\"Gustavo \",\"a\":\"Almaguer\",\"d\":\"Administraci\\\\u00f3n\",\"m\":\"8\",\"c\":\"3.5000\"},{\"i\":\"14542\",\"n\":\"Jorge Rolando Horacio\",\"a\":\"Almanza Cabrera\",\"d\":\"Economia\",\"m\":\"8\",\"c\":\"6.1250\"},{\"i\":\"58345\",\"n\":\"horacio\",\"a\":\"almazan\",\"d\":\"\",\"m\":\"0\",\"c\":null},{\"i\":\"105017\",\"n\":\"Eduardo\",\"a\":\"Almaz\\\\u00e1n Madariaga\",\"d\":\"acatlan \",\"m\":\"0\",\"c\":null},{\"i\":\"163537\",\"n\":\"ERNESTO\",\"a\":\"ALMAZAN VEGA\",\"d\":\"Contadur\\\\u00eda y Gesti\\\\u00f3n Administrativa\",\"m\":\"0\",\"c\":null},{\"i\":\"163538\",\"n\":\"ERNESTO\",\"a\":\"ALMAZAN VEGA\",\"d\":\"Escuela Nacional Preparatoria No.2 Erasmo Castella\",\"m\":\"1\",\"c\":\"4.0000\"},{\"i\":\"152248\",\"n\":\"Eduardo\",\"a\":\"Alonso\",\"d\":\"Derecho\",\"m\":\"0\",\"c\":null},{\"i\":\"75360\",\"n\":\"Eduardo\",\"a\":\"Alonso Dominguez\",\"d\":\"Derecho\",\"m\":\"5\",\"c\":\"7.2000\"},{\"i\":\"15847\",\"n\":\"Ingrid \",\"a\":\"Alonso Gomez\",\"d\":\"FCPyS\",\"m\":\"5\",\"c\":\"7.0000\"},{\"i\":\"128544\",\"n\":\"Sebastian\",\"a\":\"Alonso quezada\",\"d\":\"Derecho \",\"m\":\"0\",\"c\":null},{\"i\":\"163225\",\"n\":\"Jes\\\\u00fas Rafael\",\"a\":\"Alonso Quintana\",\"d\":\"Prepa UNAM - UVM\",\"m\":\"1\",\"c\":\"10.0000\"},{\"i\":\"68738\",\"n\":\"angel\",\"a\":\"alonso trujillo\",\"d\":\"Derecho\",\"m\":\"1\",\"c\":\"4.0000\"},{\"i\":\"159872\",\"n\":\"Luis\",\"a\":\"Alos\",\"d\":\"Derecho \",\"m\":\"1\",\"c\":\"2.0000\"},{\"i\":\"163740\",\"n\":\"Erika\",\"a\":\"Altamarino Palacios\",\"d\":\"Danza Regional \",\"m\":\"1\",\"c\":\"7.0000\"},{\"i\":\"133980\",\"n\":\"Tizoc\",\"a\":\"Altamirano\",\"d\":\"\\\\u00c1lvarez \",\"m\":\"1\",\"c\":\"10.0000\"},{\"i\":\"161089\",\"n\":\"ameyali\",\"a\":\"altamirano\",\"d\":\"economia\",\"m\":\"0\",\"c\":null},{\"i\":\"52508\",\"n\":\"LUIS ANTONIO\",\"a\":\"ALTAMIRANO YEPEZ\",\"d\":\"FACULTAD DE INGENIERIA\",\"m\":\"11\",\"c\":\"4.4545\"},{\"i\":\"15961\",\"n\":\"Sosa Manzur\",\"a\":\"Alvar\",\"d\":\"fcpys\",\"m\":\"36\",\"c\":\"6.3889\"},{\"i\":\"157337\",\"n\":\"Cuitlahuac\",\"a\":\"Alvarado\",\"d\":\"Arquitectura \",\"m\":\"0\",\"c\":null},{\"i\":\"74255\",\"n\":\"Cristina\",\"a\":\"Alvarado Dominguez\",\"d\":\"FES Zaragoza\",\"m\":\"4\",\"c\":\"4.7500\"},{\"i\":\"20820\",\"n\":\"Jesus Rodolfo\",\"a\":\"Alvarado Perez\",\"d\":\"Control de Calidad  I\",\"m\":\"8\",\"c\":\"9.7500\"},{\"i\":\"19819\",\"n\":\"Isaias\",\"a\":\"Alvarez\",\"d\":\"CCH. Oriente\",\"m\":\"34\",\"c\":\"8.8824\"},{\"i\":\"102030\",\"n\":\"Samuel\",\"a\":\"\\\\u00c1lvarez Almaz\\\\u00e1n\",\"d\":\"FES Cuautitl\\\\u00e1n\",\"m\":\"1\",\"c\":\"10.0000\"},{\"i\":\"11221\",\"n\":\"Alejandro\",\"a\":\"Alvarez Bejar\",\"d\":\"Econom\\\\u00eda\",\"m\":\"20\",\"c\":\"8.4500\"},{\"i\":\"91744\",\"n\":\"Rosalba Guadalupe\",\"a\":\"\\\\u00c1lvarez Bernal\",\"d\":\"Facultad de Ciencias\",\"m\":\"0\",\"c\":null},{\"i\":\"160771\",\"n\":\"Andr\\\\u00e9s Manuel\",\"a\":\"\\\\u00c1lvarez Cano\",\"d\":\"Derecho\",\"m\":\"0\",\"c\":null},{\"i\":\"142335\",\"n\":\"Eduardo\",\"a\":\"Alvarez Cazarez\",\"d\":\"Faculta de Ingenier\\\\u00eda Unam\",\"m\":\"2\",\"c\":\"9.5000\"},{\"i\":\"156538\",\"n\":\"Gelia\",\"a\":\"Alvarez Crespo\",\"d\":\"quimica\",\"m\":\"0\",\"c\":null},{\"i\":\"61536\",\"n\":\"jose de jesus\",\"a\":\"alvarez diaz\",\"d\":\"derecho\",\"m\":\"0\",\"c\":null},{\"i\":\"14988\",\"n\":\"Germ\\\\u00e1n\",\"a\":\"\\\\u00c1lvarez D\\\\u00edaz de Le\\\\u00f3n\",\"d\":\"Psicolog\\\\u00eda\",\"m\":\"10\",\"c\":\"9.0000\"},{\"i\":\"142249\",\"n\":\"ALBERTO\",\"a\":\"ALVAREZ ESPINDOLA\",\"d\":\"quimica\",\"m\":\"0\",\"c\":null},{\"i\":\"71856\",\"n\":\"samuel\",\"a\":\"alvarez garcia\",\"d\":\"administraci\\\\u00f3n \",\"m\":\"0\",\"c\":null},{\"i\":\"109668\",\"n\":\"Jos\\\\u00e9 Luis\",\"a\":\"\\\\u00c1lvarez Garc\\\\u00eda\",\"d\":\"Ciencias\",\"m\":\"0\",\"c\":null},{\"i\":\"146394\",\"n\":\"Juan Carlos\",\"a\":\"\\\\u00c1lvarez Garc\\\\u00eda Cano\",\"d\":\"Facultad de Econom\\\\u00eda\",\"m\":\"9\",\"c\":\"9.7778\"},{\"i\":\"14079\",\"n\":\"Guillermo\",\"a\":\"Alvarez Llera\",\"d\":\"Medicina\",\"m\":\"16\",\"c\":\"9.4375\"},{\"i\":\"138847\",\"n\":\"Carlos\",\"a\":\"Alvarez Maciel\",\"d\":\"Matem\\\\u00e1ticas\",\"m\":\"1\",\"c\":\"10.0000\"},{\"i\":\"34325\",\"n\":\"Manuel Alejandro\",\"a\":\"Alvarez Maldonado\",\"d\":\"Computaci\\\\u00f3n\",\"m\":\"1\",\"c\":\"6.0000\"},{\"i\":\"156725\",\"n\":\"Beatriz Araceli\",\"a\":\"Alvarez Nu\\\\u00f1ez\",\"d\":\"Derecho\",\"m\":\"2\",\"c\":\"2.5000\"},{\"i\":\"153864\",\"n\":\"Orlando\",\"a\":\"\\\\u00c1lvarez Quiroz\",\"d\":\"FES Acatl\\\\u00e1n\",\"m\":\"0\",\"c\":null},{\"i\":\"135967\",\"n\":\"Andrea\",\"a\":\"Alvear\",\"d\":\"Arquitectura \",\"m\":\"0\",\"c\":null},{\"i\":\"88877\",\"n\":\"Ixchel Sarai\",\"a\":\"Alzaga Alcantar\\\\u00e1\",\"d\":\"Facultad de Derecho\",\"m\":\"24\",\"c\":\"5.3333\"},{\"i\":\"125338\",\"n\":\"Braulio Osvaldo\",\"a\":\"Alzate Chac\\\\u00f3n\",\"d\":\"Facultad de Ciencias \",\"m\":\"10\",\"c\":\"9.1000\"},{\"i\":\"104478\",\"n\":\"Oscar\",\"a\":\"Amador Betancourt\",\"d\":\"Acatlan\\\\/relaciones internacionales \",\"m\":\"1\",\"c\":\"8.0000\"},{\"i\":\"14456\",\"n\":\"Jos\\\\u00e9\",\"a\":\"Amador Rodr\\\\u00edguez\",\"d\":\"Economia\",\"m\":\"10\",\"c\":\"6.0000\"},{\"i\":\"150145\",\"n\":\"Adriana\",\"a\":\"Amaya Hern\\\\u00e1ndez\",\"d\":\"FES Iztacala\",\"m\":\"1\",\"c\":\"9.0000\"},{\"i\":\"149402\",\"n\":\"Michiko\",\"a\":\"Amemiya Ramirez\",\"d\":\"Departamento\\\\/Facultad: DICyG\\\\/Departamento de Ingen\",\"m\":\"1\",\"c\":\"10.0000\"},{\"i\":\"27643\",\"n\":\"Ricardo\",\"a\":\"Amezcua\",\"d\":\"Gal\\\\u00e1n\",\"m\":\"12\",\"c\":\"8.7500\"},{\"i\":\"156774\",\"n\":\"Cecilia\",\"a\":\"Amezquita\",\"d\":\"Medicina\",\"m\":\"0\",\"c\":null},{\"i\":\"18988\",\"n\":\"Jose Alfredo\",\"a\":\"Amor Monta\\\\u00f1o\",\"d\":\"Ciencias\",\"m\":\"9\",\"c\":\"9.0000\"},{\"i\":\"114796\",\"n\":\"Sergio\",\"a\":\"Ampudia Mello\",\"d\":\"Derecho\",\"m\":\"0\",\"c\":null},{\"i\":\"117187\",\"n\":\"juan jose\",\"a\":\"Ancona Pastrana\",\"d\":\"derecho \",\"m\":\"0\",\"c\":null},{\"i\":\"14369\",\"n\":\"Eloisa\",\"a\":\"Andjel Schoua\",\"d\":\"Economia\",\"m\":\"60\",\"c\":\"7.1333\"},{\"i\":\"159819\",\"n\":\"M\\\\u00f3nica Leticia\",\"a\":\"Andrade d\\\\u00edas\",\"d\":\"Cch vallejo\",\"m\":\"0\",\"c\":null},{\"i\":\"32936\",\"n\":\"GUSTAVO ESTEBAN\",\"a\":\"ANDRADE DIAZ\",\"d\":\"fcpys\",\"m\":\"5\",\"c\":\"7.0000\"},{\"i\":\"14543\",\"n\":\"Agustin\",\"a\":\"Andrade Robles\",\"d\":\"Economia\",\"m\":\"33\",\"c\":\"5.3030\"},{\"i\":\"156093\",\"n\":\"Miguel\",\"a\":\"\\\\u00c1ngel P\\\\u00e9rez Le\\\\u00f3n\",\"d\":\"Facultad de ciencias\",\"m\":\"1\",\"c\":\"5.0000\"},{\"i\":\"98064\",\"n\":\"Alonso Vidal\",\"a\":\"Angel Vasquez\",\"d\":\"Cch ote\",\"m\":\"1\",\"c\":\"10.0000\"},{\"i\":\"99995\",\"n\":\"Rosa Carmen\",\"a\":\"\\\\u00c1ngeles Gonz\\\\u00e1lez\",\"d\":\"Literatura Universal\",\"m\":\"0\",\"c\":null},{\"i\":\"93233\",\"n\":\"Jose alberto\",\"a\":\"\\\\u00c1ngeles mueller\",\"d\":\"Trigonometr\\\\u00eda \",\"m\":\"0\",\"c\":null},{\"i\":\"141784\",\"n\":\"luis enrique\",\"a\":\"angon velazquez\",\"d\":\"contaduria\",\"m\":\"0\",\"c\":null},{\"i\":\"149746\",\"n\":\"OMAR\",\"a\":\"ANGUIANO SANCHEZ\",\"d\":\"CCH-Naucalpan\",\"m\":\"0\",\"c\":null},{\"i\":\"79455\",\"n\":\"VICTORIANO\",\"a\":\"ANGUIS TERRAZAS\",\"d\":\"INGENIERIA\",\"m\":\"4\",\"c\":\"7.5000\"},{\"i\":\"130780\",\"n\":\"Rodrigo\",\"a\":\"Anibal\",\"d\":\"Fes Zaragoza\",\"m\":\"0\",\"c\":null},{\"i\":\"14544\",\"n\":\"Santiaga\",\"a\":\"Anima Puentes\",\"d\":\"Economia\",\"m\":\"2\",\"c\":\"5.5000\"},{\"i\":\"49990\",\"n\":\"rodrigo\",\"a\":\"animas\",\"d\":\"cidi unam\",\"m\":\"3\",\"c\":\"2.0000\"},{\"i\":\"23162\",\"n\":\"nedelia de tenorio\",\"a\":\"antiga\",\"d\":\"ciencias politicas\",\"m\":\"4\",\"c\":\"5.5000\"},{\"i\":\"14457\",\"n\":\"Juan Pedro\",\"a\":\"Antonio Ch\\\\u00e1vez\",\"d\":\"Economia\",\"m\":\"40\",\"c\":\"4.9250\"},{\"i\":\"14545\",\"n\":\"Ruben\",\"a\":\"Antonio Miguel\",\"d\":\"Economia\",\"m\":\"13\",\"c\":\"7.0000\"},{\"i\":\"141812\",\"n\":\"Nivia Rocio\",\"a\":\"Antonio Rubio\",\"d\":\"Facultad de Ciencias\",\"m\":\"3\",\"c\":\"9.3333\"},{\"i\":\"17979\",\"n\":\"MAGALLI ALIN\",\"a\":\"A\\\\u00d1AS HERNANDEZ\",\"d\":\"CCH-ORIENTE\",\"m\":\"0\",\"c\":null},{\"i\":\"14458\",\"n\":\"Abraham\",\"a\":\"Aparicio Cabrera\",\"d\":\"Economia\",\"m\":\"57\",\"c\":\"6.0175\"},{\"i\":\"104543\",\"n\":\"Aar\\\\u00f3n\",\"a\":\"Aparicio Hern\\\\u00e1ndez\",\"d\":\"Matem\\\\u00e1ticas\",\"m\":\"0\",\"c\":null},{\"i\":\"94580\",\"n\":\"Mariana\",\"a\":\"Aparicio Ram\\\\u00edrez\",\"d\":\"Facultad de Ciencias Pol\\\\u00edticas y Sociales\",\"m\":\"21\",\"c\":\"8.1429\"},{\"i\":\"153382\",\"n\":\"jose alfonso\",\"a\":\"aparicio velazquez\",\"d\":\"derecho \",\"m\":\"0\",\"c\":null},{\"i\":\"161819\",\"n\":\"Arnoldo\",\"a\":\"Aquino\",\"d\":\"Bioqu\\\\u00edmica\\\\/FacMed\",\"m\":\"1\",\"c\":\"2.0000\"},{\"i\":\"135044\",\"n\":\"Teodulo\",\"a\":\"Aquino Cruz\",\"d\":\"ciencias politicas y sociales\",\"m\":\"0\",\"c\":null},{\"i\":\"64411\",\"n\":\"ARACELI\",\"a\":\"ARACELI VEGA PAZ\",\"d\":\"\",\"m\":\"1\",\"c\":\"7.0000\"},{\"i\":\"137213\",\"n\":\"judith leonor\",\"a\":\"aragon navarro\",\"d\":\"biologia\",\"m\":\"0\",\"c\":null},{\"i\":\"160199\",\"n\":\"guadaluoe\",\"a\":\"Arag\\\\u00f3n ramirez\",\"d\":\"Cch vallejo\",\"m\":\"0\",\"c\":null},{\"i\":\"151267\",\"n\":\"ANDREA MARGARITA\",\"a\":\"ARAIZA\",\"d\":\"HUERTA\",\"m\":\"0\",\"c\":null},{\"i\":\"102497\",\"n\":\"Rosario\",\"a\":\"Araiza\",\"d\":\"Fes zaragoza\",\"m\":\"0\",\"c\":null},{\"i\":\"14639\",\"n\":\"rosa maria\",\"a\":\"araiza ramirez\",\"d\":\"economia\",\"m\":\"25\",\"c\":\"9.3200\"},{\"i\":\"135860\",\"n\":\"Fernando\",\"a\":\"Ar\\\\u00e1mbula Cos\\\\u00edo\",\"d\":\"Procesamiento de Se\\\\u00f1ales\",\"m\":\"2\",\"c\":\"6.5000\"},{\"i\":\"155947\",\"n\":\"Servando\",\"a\":\"Arana Garc\\\\u00eda\",\"d\":\"Facultad de ingenier\\\\u00eda \",\"m\":\"0\",\"c\":null},{\"i\":\"161685\",\"n\":\"Graciela\",\"a\":\"Arce\",\"d\":\"Facultad de Ciencias\",\"m\":\"0\",\"c\":null},{\"i\":\"147467\",\"n\":\"saul\",\"a\":\"arce\",\"d\":\"matem\\\\u00e1ticas\",\"m\":\"0\",\"c\":null},{\"i\":\"148062\",\"n\":\"Hugo\",\"a\":\"Arciniega\",\"d\":\"Filosof\\\\u00eda y letras\",\"m\":\"0\",\"c\":null},{\"i\":\"115271\",\"n\":\"Hugo Antonio\",\"a\":\"Arciniega Avila\",\"d\":\"Facultad de Filosofia y Letras\",\"m\":\"4\",\"c\":\"4.0000\"},{\"i\":\"151646\",\"n\":\"DR. Saul\",\"a\":\"Arciniega Esparza\",\"d\":\"Facultad de Ingenier\\\\u00eda\",\"m\":\"1\",\"c\":\"10.0000\"},{\"i\":\"126219\",\"n\":\"Edgar Eleazar\",\"a\":\"Arcos Alvarado\",\"d\":\"Qu\\\\u00edmica \",\"m\":\"0\",\"c\":null},{\"i\":\"126449\",\"n\":\"Edgar Eleazar\",\"a\":\"Arcos \\\\u00c1lvaro\",\"d\":\"Quimica\",\"m\":\"2\",\"c\":\"10.0000\"},{\"i\":\"140452\",\"n\":\"JORAM\",\"a\":\"ARCOS OLVERA\",\"d\":\"Econ\\\\u00f3mia\",\"m\":\"1\",\"c\":\"10.0000\"},{\"i\":\"107003\",\"n\":\"Daniel Alberto\",\"a\":\"Arcos Santiago\",\"d\":\"Ciencias\",\"m\":\"2\",\"c\":\"8.5000\"},{\"i\":\"105763\",\"n\":\"Gabriela Paola\",\"a\":\"Areizaga\",\"d\":\"Relaciones internacionales \",\"m\":\"4\",\"c\":\"2.2500\"},{\"i\":\"57980\",\"n\":\"ARELI\",\"a\":\"ARELI\",\"d\":\"PREPA 4 INGLES\",\"m\":\"2\",\"c\":\"6.0000\"},{\"i\":\"107874\",\"n\":\"Jose\",\"a\":\"arellano\",\"d\":\"Facultad de Ciencias Politicas\",\"m\":\"1\",\"c\":\"2.0000\"},{\"i\":\"124412\",\"n\":\"M. I. MAR\\\\u00cdA DE LOURDES\",\"a\":\"ARELLANO BOLIO\",\"d\":\"Facultad de Ingenier\\\\u00eda\",\"m\":\"6\",\"c\":\"8.0000\"},{\"i\":\"115930\",\"n\":\"Mario\",\"a\":\"Arellano Ceciliano\",\"d\":\"Facultad de Ingenier\\\\u00eda \",\"m\":\"1\",\"c\":\"9.0000\"},{\"i\":\"34136\",\"n\":\"ERNESTO\",\"a\":\"ARELLANO PULIDO\",\"d\":\"\",\"m\":\"0\",\"c\":null},{\"i\":\"34135\",\"n\":\"ERNESTO\",\"a\":\"ARELLANO PULIDO\",\"d\":\"ECONOMIA\",\"m\":\"5\",\"c\":\"7.6000\"},{\"i\":\"149772\",\"n\":\"Alfredo\",\"a\":\"Arenas\",\"d\":\"Ingenieria\",\"m\":\"1\",\"c\":\"8.0000\"},{\"i\":\"17996\",\"n\":\"ADAN\",\"a\":\"ARENAS BECERRIL \",\"d\":\"Facultad de Ciencias pol\\\\u00edticas y sociales\",\"m\":\"1\",\"c\":\"10.0000\"},{\"i\":\"17995\",\"n\":\"ADAN\",\"a\":\"ARENAS BECERRIL \",\"d\":\"FCPyS\",\"m\":\"15\",\"c\":\"7.4667\"},{\"i\":\"101800\",\"n\":\"EDGAR\",\"a\":\"ARENAS SANCHEZ\",\"d\":\"ECONOMIA FES ARAGON\",\"m\":\"10\",\"c\":\"9.9000\"},{\"i\":\"128808\",\"n\":\"alavro\",\"a\":\"arevalo\",\"d\":\"inge\",\"m\":\"0\",\"c\":null},{\"i\":\"45779\",\"n\":\"Oscar\",\"a\":\"Arevalo Zamora\",\"d\":\"Psicologia\",\"m\":\"11\",\"c\":\"7.0909\"},{\"i\":\"76347\",\"n\":\"MARIO ALBERTO\",\"a\":\"ARIAS GARCIA\",\"d\":\"PSICOLOGIA SUA\",\"m\":\"2\",\"c\":\"9.0000\"},{\"i\":\"159930\",\"n\":\"Miguel \\\\u00c1ngel\",\"a\":\"Arias Ortega\",\"d\":\"UACM \",\"m\":\"0\",\"c\":null},{\"i\":\"153991\",\"n\":\"Mauricio\",\"a\":\"Arias velazquez\",\"d\":\"Fes cuautitlan \",\"m\":\"0\",\"c\":null},{\"i\":\"110706\",\"n\":\"Roberto\",\"a\":\"Arizmendi\",\"d\":\"CCH Naucalpan\",\"m\":\"4\",\"c\":\"8.5000\"},{\"i\":\"14414\",\"n\":\"Luis Antonio\",\"a\":\"Arizmendi Rosales\",\"d\":\"Economia\",\"m\":\"161\",\"c\":\"8.3106\"},{\"i\":\"97875\",\"n\":\"Mayra\",\"a\":\"Armenta\",\"d\":\"Economia\",\"m\":\"6\",\"c\":\"9.8333\"},{\"i\":\"158826\",\"n\":\"Horacio\",\"a\":\"Armenta\",\"d\":\"Fes aragon \",\"m\":\"0\",\"c\":null},{\"i\":\"18188\",\"n\":\"ADAN \",\"a\":\"ARMENTA GOMEZ\",\"d\":\"DERECHO\",\"m\":\"2\",\"c\":\"9.0000\"},{\"i\":\"18187\",\"n\":\"ADAN \",\"a\":\"ARMNETA G\\\\u00d3MEZ\",\"d\":\"DERECHO\",\"m\":\"0\",\"c\":null},{\"i\":\"151393\",\"n\":\"Fuensanta\",\"a\":\"Aroca Bisquert\",\"d\":\"Instituto de Matem\\\\u00e1ticas \",\"m\":\"1\",\"c\":\"5.0000\"},{\"i\":\"14500\",\"n\":\"Fidel\",\"a\":\"Aroche Reyes\",\"d\":\"Economia\",\"m\":\"15\",\"c\":\"5.1333\"},{\"i\":\"146886\",\"n\":\"Jos\\\\u00e9 Manuel\",\"a\":\"Arr\",\"d\":\"Facultad de Ingenier\\\\u00eda\",\"m\":\"4\",\"c\":\"5.2500\"},{\"i\":\"157239\",\"n\":\"Oscar Roque\",\"a\":\"Arredondo\",\"d\":\"Contadur\\\\u00eda y administraci\\\\u00f3n \",\"m\":\"0\",\"c\":null},{\"i\":\"114375\",\"n\":\"Lorena Leonor\",\"a\":\"Arredondo Flores\",\"d\":\"Metodolog\\\\u00eda Juridica\",\"m\":\"1\",\"c\":\"6.0000\"},{\"i\":\"140160\",\"n\":\"Ricardo\",\"a\":\"Arriaga Campos\",\"d\":\"Econom\\\\u00eda \",\"m\":\"1\",\"c\":\"5.0000\"},{\"i\":\"14415\",\"n\":\"Mar\\\\u00eda de la Luz Blanca\",\"a\":\"Arriaga Lemus\",\"d\":\"Economia\",\"m\":\"19\",\"c\":\"7.0526\"},{\"i\":\"143011\",\"n\":\"Diego Ra\\\\u00fal\",\"a\":\"Arriola Mart\\\\u00ednez\",\"d\":\"Justo sierra\",\"m\":\"0\",\"c\":null},{\"i\":\"161365\",\"n\":\"Alan\",\"a\":\"Arriola Padilla\",\"d\":\"Facultad de Derecho SUA\",\"m\":\"9\",\"c\":\"9.8889\"},{\"i\":\"160772\",\"n\":\"Hortensia\",\"a\":\"Arroyo\",\"d\":\"Economia \",\"m\":\"0\",\"c\":null},{\"i\":\"95369\",\"n\":\"Ofelia Esperanza\",\"a\":\"Arroyo Fal\",\"d\":\"FES Cuautitl\\\\u00e1n Campo 4\",\"m\":\"10\",\"c\":\"4.9000\"},{\"i\":\"141914\",\"n\":\"Oscar David\",\"a\":\"Arroyo Garc\\\\u00eda\",\"d\":\"Facultad de Ingenier\\\\u00eda\",\"m\":\"1\",\"c\":\"10.0000\"},{\"i\":\"11222\",\"n\":\"Juan Pablo\",\"a\":\"Arroyo Ortiz\",\"d\":\"Econom\\\\u00eda\",\"m\":\"27\",\"c\":\"4.4444\"},{\"i\":\"31946\",\"n\":\"tania\",\"a\":\"arroyo ramirez\",\"d\":\"facultad de ciencias politicas y sociales\",\"m\":\"4\",\"c\":\"6.2500\"},{\"i\":\"17297\",\"n\":\"Tanya Itzel\",\"a\":\"Arteaga Ricci\",\"d\":\"Ingenier\\\\u00eda\",\"m\":\"49\",\"c\":\"7.8776\"},{\"i\":\"155518\",\"n\":\"Carolina\",\"a\":\"ARTEAGA ROMERO\",\"d\":\"Ciencias pol\\\\u00edticas y sociales \",\"m\":\"0\",\"c\":null},{\"i\":\"114250\",\"n\":\"Santos\",\"a\":\"Artigas Malo\",\"d\":\"Arquitectura\",\"m\":\"2\",\"c\":\"9.0000\"},{\"i\":\"39017\",\"n\":\"Sergio Roberto\",\"a\":\"Arzamendi P\\\\u00e9rez\",\"d\":\"Ingenieria\",\"m\":\"56\",\"c\":\"8.9107\"},{\"i\":\"14171\",\"n\":\"FRANCISCO\",\"a\":\"ASTORGA\",\"d\":\"FEC CUAUTITLAN\",\"m\":\"4\",\"c\":\"9.2500\"},{\"i\":\"163217\",\"n\":\"Mauricio\",\"a\":\"Astorga alvarez\",\"d\":\"Odontolog\\\\u00eda \",\"m\":\"0\",\"c\":null},{\"i\":\"11223\",\"n\":\"Normand\",\"a\":\"Asuad Sanen\",\"d\":\"Econom\\\\u00eda\",\"m\":\"21\",\"c\":\"7.5714\"},{\"i\":\"14999\",\"n\":\"David\",\"a\":\"Auron Zaltzman\",\"d\":\"Psicolog\\\\u00eda\",\"m\":\"5\",\"c\":\"6.8000\"},{\"i\":\"127638\",\"n\":\"Rosa\",\"a\":\"Avalos\",\"d\":\"Enp 6\",\"m\":\"1\",\"c\":\"3.0000\"},{\"i\":\"157860\",\"n\":\"Liliana\",\"a\":\"\\\\u00c1valos\",\"d\":\"Escuela Nacional de Estudios Superiores,  Morelia\",\"m\":\"1\",\"c\":\"10.0000\"},{\"i\":\"122163\",\"n\":\"Jorge\",\"a\":\"\\\\u00c1valos\",\"d\":\"ENP 6\",\"m\":\"1\",\"c\":\"9.0000\"},{\"i\":\"161728\",\"n\":\"Adalberto\",\"a\":\"Avalos flores\",\"d\":\"Facultad de Contadur\\\\u00eda y Administraci\\\\u00f3n \",\"m\":\"0\",\"c\":null},{\"i\":\"135456\",\"n\":\"Julieta\",\"a\":\"Aveda\\\\u00f1o D\\\\u00edaz\",\"d\":\"Facultad de Derecho\",\"m\":\"1\",\"c\":\"10.0000\"},{\"i\":\"15410\",\"n\":\"Nicolas \",\"a\":\"Avella\",\"d\":\"Fes Zaragoza\",\"m\":\"6\",\"c\":\"8.3333\"},{\"i\":\"14459\",\"n\":\"Isabel\",\"a\":\"Avella Alaminos\",\"d\":\"Economia\",\"m\":\"7\",\"c\":\"9.4286\"},{\"i\":\"136889\",\"n\":\"Jorge\",\"a\":\"Avella Martines\",\"d\":\"prepa 7\",\"m\":\"1\",\"c\":\"9.0000\"},{\"i\":\"136888\",\"n\":\"Jorge\",\"a\":\"Avella Martines\",\"d\":\"matematicas\",\"m\":\"0\",\"c\":null},{\"i\":\"59697\",\"n\":\"MF JOSE JAIME GERMAN\",\"a\":\"AVELLAN MACIAS\",\"d\":\"UNIVAM UNAMsi tepic Nayarit\",\"m\":\"9\",\"c\":\"9.0000\"},{\"i\":\"122178\",\"n\":\"Diana\",\"a\":\"Avello\",\"d\":\"Amina \",\"m\":\"0\",\"c\":null},{\"i\":\"117624\",\"n\":\"Rocio\",\"a\":\"Avenda\\\\u00f1o\",\"d\":\"Psic\\\\u00f3logia\",\"m\":\"0\",\"c\":null},{\"i\":\"117009\",\"n\":\"Lourdes\",\"a\":\"Avenda\\\\u00f1o\",\"d\":\"ENP1\",\"m\":\"1\",\"c\":\"10.0000\"},{\"i\":\"158175\",\"n\":\"Julieta\",\"a\":\"Avenda\\\\u00f1o D\\\\u00edaz\",\"d\":\"FACULTAD DE DERECHO UNAM\",\"m\":\"1\",\"c\":\"4.0000\"},{\"i\":\"21742\",\"n\":\"Abraham\",\"a\":\"Avenda\\\\u00f1o Mart\\\\u00ednez\",\"d\":\"FCPyS\",\"m\":\"17\",\"c\":\"7.5294\"},{\"i\":\"14983\",\"n\":\"Mar\\\\u00eda del Roc\\\\u00edo Purificaci\\\\u00f3n\",\"a\":\"Avenda\\\\u00f1o Sandoval\",\"d\":\"Psicolog\\\\u00eda\",\"m\":\"4\",\"c\":\"6.7500\"},{\"i\":\"133915\",\"n\":\"Roberto\",\"a\":\"\\\\u00c1vila\",\"d\":\"Ornelas \",\"m\":\"1\",\"c\":\"10.0000\"},{\"i\":\"153851\",\"n\":\"Mar\\\\u00eda Rosa\",\"a\":\"Avila Costa\",\"d\":\"Fes Iztacala \",\"m\":\"0\",\"c\":null},{\"i\":\"14201\",\"n\":\"Arturo\",\"a\":\"Avila Curiel\",\"d\":\"Econom\\\\u00eda\",\"m\":\"15\",\"c\":\"9.6667\"},{\"i\":\"60225\",\"n\":\"Jesus Martin\",\"a\":\"Avila Galindo\",\"d\":\"Facultad de Ciencias Politicas y Sociales\",\"m\":\"9\",\"c\":\"2.6667\"},{\"i\":\"162576\",\"n\":\"Mar\\\\u00eda Guadalupe\",\"a\":\"Avila Gallardo\",\"d\":\"Facultad de Ingenier\\\\u00eda \",\"m\":\"0\",\"c\":null},{\"i\":\"162474\",\"n\":\"MAR\\\\u00cdA GUADALUPE\",\"a\":\"\\\\u00c1VILA GALLARDO\",\"d\":\"Ingenier\\\\u00eda \",\"m\":\"0\",\"c\":null},{\"i\":\"75956\",\"n\":\"Javier Humberto\",\"a\":\"\\\\u00c1vila Gonzales\",\"d\":\"Fes acatlan \",\"m\":\"0\",\"c\":null},{\"i\":\"150060\",\"n\":\"Lizeth\",\"a\":\"Avila Gutierrez\",\"d\":\"Ingenier\\\\u00eda\",\"m\":\"2\",\"c\":\"6.5000\"},{\"i\":\"121575\",\"n\":\"Mario Alberto\",\"a\":\"\\\\u00c1vila ledesma\",\"d\":\"Derecho\",\"m\":\"0\",\"c\":null},{\"i\":\"137207\",\"n\":\"Violeta\",\"a\":\"Avila Licona\",\"d\":\"FES Cuautitl\\\\u00e1n\",\"m\":\"2\",\"c\":\"10.0000\"},{\"i\":\"84104\",\"n\":\"jessica\",\"a\":\"avila marron\",\"d\":\"mercadotecnia\",\"m\":\"0\",\"c\":null},{\"i\":\"42435\",\"n\":\"Angel\",\"a\":\"Avila Mart\\\\u00ednez\",\"d\":\"Economia\",\"m\":\"1\",\"c\":\"6.0000\"},{\"i\":\"14460\",\"n\":\"Jos\\\\u00e9 Luis\",\"a\":\"Avila Mart\\\\u00ednez\",\"d\":\"Economia\",\"m\":\"2\",\"c\":\"5.5000\"},{\"i\":\"158755\",\"n\":\"Carmen Estefan\\\\u00eda\",\"a\":\"\\\\u00c1vila Mart\\\\u00ednez\",\"d\":\"Avena y  a\\\\u00f1il\",\"m\":\"0\",\"c\":null},{\"i\":\"158498\",\"n\":\"Obdulio\",\"a\":\"Avila Mayo\",\"d\":\"Derecho \",\"m\":\"0\",\"c\":null},{\"i\":\"99868\",\"n\":\"Obdulio\",\"a\":\"\\\\u00c1vila Mayo\",\"d\":\"Facultad de Derecho\",\"m\":\"5\",\"c\":\"4.8000\"},{\"i\":\"158706\",\"n\":\"Jose Ignacio\",\"a\":\"Avila murillo\",\"d\":\"Amistrasion\",\"m\":\"0\",\"c\":null},{\"i\":\"15654\",\"n\":\"Mar\\\\u00eda del Rocio\",\"a\":\"\\\\u00c1vila Nu\\\\u00f1ez\",\"d\":\"Ingenieria\",\"m\":\"46\",\"c\":\"9.5652\"},{\"i\":\"138805\",\"n\":\"arturo rafael\",\"a\":\"avila ortiz\",\"d\":\"lomas verdes ingles\",\"m\":\"1\",\"c\":\"10.0000\"},{\"i\":\"14986\",\"n\":\"Ra\\\\u00fal\",\"a\":\"\\\\u00c1vila Santib\\\\u00e1\\\\u00f1ez\",\"d\":\"Psicolog\\\\u00eda\",\"m\":\"10\",\"c\":\"6.7000\"},{\"i\":\"109717\",\"n\":\"Rub\\\\u00e9n\",\"a\":\"Avil\\\\u00e9s\",\"d\":\"Facultad de medicina\",\"m\":\"0\",\"c\":null},{\"i\":\"100284\",\"n\":\"GERARDO\",\"a\":\"Avil\\\\u00e9s\",\"d\":\"Ingenieria\",\"m\":\"1\",\"c\":\"10.0000\"},{\"i\":\"155992\",\"n\":\"Beatriz\",\"a\":\"Aviles Garibay\",\"d\":\"Arquitectura, trabajo social\",\"m\":\"0\",\"c\":null},{\"i\":\"111286\",\"n\":\"ISRAEL\",\"a\":\"AYALA\",\"d\":\"FCA\",\"m\":\"0\",\"c\":null},{\"i\":\"75844\",\"n\":\"jose luis\",\"a\":\"ayala aguilar\",\"d\":\"fes aragon \\\\/ derecho\",\"m\":\"0\",\"c\":null},{\"i\":\"16723\",\"n\":\"Fructuoso\",\"a\":\"Ayala Guerrero\",\"d\":\"psicofisiolog\\\\u00eda\",\"m\":\"6\",\"c\":\"10.0000\"},{\"i\":\"132228\",\"n\":\"Mercedes\",\"a\":\"Ayala Guti\\\\u00e9rrez\",\"d\":\"Derecho\",\"m\":\"0\",\"c\":null},{\"i\":\"101824\",\"n\":\"Raymundo\",\"a\":\"Ayala Mart\\\\u00ednez\",\"d\":\"Ingenieria\",\"m\":\"0\",\"c\":null},{\"i\":\"17311\",\"n\":\"JAIME\",\"a\":\"AYALA PEREZ\",\"d\":\"CONTADURIA\",\"m\":\"5\",\"c\":\"5.0000\"},{\"i\":\"155242\",\"n\":\"Marco Antonio\",\"a\":\"Ayala Torres\",\"d\":\"Facultad de Ciencias\",\"m\":\"0\",\"c\":null},{\"i\":\"160650\",\"n\":\"Carlos Eduardo\",\"a\":\"Azar Manzur\",\"d\":\"Facultad de Filosof\\\\u00eda y Letras\",\"m\":\"0\",\"c\":null},{\"i\":\"72268\",\"n\":\"cecilia del carmen\",\"a\":\"azuara arai\",\"d\":\"derecho\",\"m\":\"0\",\"c\":null},{\"i\":\"109940\",\"n\":\"angela margoth\",\"a\":\"bacca mejia\",\"d\":\"Ciencias politicas\",\"m\":\"0\",\"c\":null},{\"i\":\"164135\",\"n\":\"Jairo Antonio\",\"a\":\"Badel perez\",\"d\":\"antioquia\",\"m\":\"1\",\"c\":\"10.0000\"},{\"i\":\"125635\",\"n\":\"ERIKA CLAUDIA\",\"a\":\"BADILLO\",\"d\":\"SOLIS\",\"m\":\"0\",\"c\":null},{\"i\":\"103835\",\"n\":\"Denisse josefina\",\"a\":\"Badillo velazquez\",\"d\":\"Departamento de biolog\\\\u00eda celular \",\"m\":\"1\",\"c\":\"10.0000\"},{\"i\":\"142152\",\"n\":\"Marcela Elvira\",\"a\":\"Baena Rivera\",\"d\":\"Facultad de Ingenier\\\\u00eda\",\"m\":\"2\",\"c\":\"9.5000\"},{\"i\":\"95852\",\"n\":\"Magdalena\",\"a\":\"B\\\\u00e1ez Espinoza\",\"d\":\"CCH Azcapotzalco\",\"m\":\"1\",\"c\":\"10.0000\"},{\"i\":\"134214\",\"n\":\"rosalina\",\"a\":\"baez martinez\",\"d\":\"contaduria \",\"m\":\"0\",\"c\":null},{\"i\":\"115793\",\"n\":\"enrique\",\"a\":\"bailleres\",\"d\":\"ENEP ACATLAN\",\"m\":\"0\",\"c\":null},{\"i\":\"22413\",\"n\":\"ANTONIO ENRIQUE\",\"a\":\"BALANZA TORRES\",\"d\":\"Economia\",\"m\":\"1\",\"c\":\"10.0000\"},{\"i\":\"14416\",\"n\":\"Flor de Mar\\\\u00eda\",\"a\":\"Balboa Reyna\",\"d\":\"Economia\",\"m\":\"39\",\"c\":\"7.0769\"},{\"i\":\"21404\",\"n\":\"Irma\",\"a\":\"Balderas Arrieta\",\"d\":\"Economia\",\"m\":\"2\",\"c\":\"7.5000\"},{\"i\":\"116499\",\"n\":\"Adriana\",\"a\":\"Balderas Gallardo\",\"d\":\"Geograf\\\\u00eda\",\"m\":\"2\",\"c\":\"7.5000\"},{\"i\":\"162769\",\"n\":\"Le\\\\u00f3n Alfonso\",\"a\":\"Balderas Salazar\",\"d\":\"Ciencias\",\"m\":\"1\",\"c\":\"8.0000\"},{\"i\":\"14374\",\"n\":\"V\\\\u00edctor\",\"a\":\"Ballesteros Gonz\\\\u00e1lez\",\"d\":\"Economia\",\"m\":\"0\",\"c\":null},{\"i\":\"148994\",\"n\":\"Edgar\",\"a\":\"Baltazar\",\"d\":\"Ingles\",\"m\":\"0\",\"c\":null},{\"i\":\"69461\",\"n\":\"Jonathan\",\"a\":\"Banfi V\\\\u00e1zquez\",\"d\":\"Ciencias\",\"m\":\"5\",\"c\":\"8.4000\"},{\"i\":\"14501\",\"n\":\"Elba\",\"a\":\"Ba\\\\u00f1uelos Barcenas\",\"d\":\"Economia\",\"m\":\"26\",\"c\":\"5.2692\"},{\"i\":\"133306\",\"n\":\"Klaudia\",\"a\":\"BA\\\\u00d1UELOS CEDANO\",\"d\":\"F\\\\u00edsica\",\"m\":\"5\",\"c\":\"8.4000\"},{\"i\":\"163846\",\"n\":\"Rosa Linda\",\"a\":\"Barajas carrea\\\\u00f1o\",\"d\":\"ENP 8\",\"m\":\"0\",\"c\":null},{\"i\":\"161485\",\"n\":\"Alan\",\"a\":\"Barba S\\\\u00e1nchez\",\"d\":\"FES Iztacala SUAyED\",\"m\":\"0\",\"c\":null},{\"i\":\"140614\",\"n\":\"Daniela\",\"a\":\"Barbosa Ayala\",\"d\":\"Facultad de derecho \",\"m\":\"2\",\"c\":\"5.5000\"},{\"i\":\"157338\",\"n\":\"Octavio\",\"a\":\"Barcena\",\"d\":\"Arquitectura \",\"m\":\"0\",\"c\":null},{\"i\":\"163056\",\"n\":\"Ana lidia\",\"a\":\"Barcena Hern\\\\u00e1ndez\",\"d\":\"Derecho \",\"m\":\"0\",\"c\":null},{\"i\":\"161164\",\"n\":\"Mar\\\\u00eda Marcela\",\"a\":\"B\\\\u00e1rcena sobrino\",\"d\":\"Fca\",\"m\":\"0\",\"c\":null},{\"i\":\"149475\",\"n\":\"Sandra\",\"a\":\"Barcenas Aleman\",\"d\":\"FES Acatl\\\\u00e1n \",\"m\":\"0\",\"c\":null},{\"i\":\"127783\",\"n\":\"Jose\",\"a\":\"Barco\",\"d\":\"Facultad de econom\\\\u00eda\",\"m\":\"1\",\"c\":\"10.0000\"},{\"i\":\"40167\",\"n\":\"jose amador\",\"a\":\"barojas reyes\",\"d\":\"herramientas de computo\",\"m\":\"3\",\"c\":\"10.0000\"},{\"i\":\"15259\",\"n\":\"Enrique\",\"a\":\"Barquera Lozada\",\"d\":\"Qu\\\\u00edmica\",\"m\":\"9\",\"c\":\"4.5556\"},{\"i\":\"124407\",\"n\":\"erika\",\"a\":\"barragan\",\"d\":\"contaduria\",\"m\":\"0\",\"c\":null},{\"i\":\"161840\",\"n\":\"OMAR\",\"a\":\"BARRAGAN\",\"d\":\"FERNANDEZ\",\"m\":\"0\",\"c\":null},{\"i\":\"156675\",\"n\":\"Miguel\",\"a\":\"Barragan\",\"d\":\"Facultad de artes y dise\\\\u00f1o\",\"m\":\"0\",\"c\":null},{\"i\":\"134991\",\"n\":\"Alejandra Maribel\",\"a\":\"Barrag\\\\u00e1n Mart\\\\u00ednez\",\"d\":\"Ingenier\\\\u00eda\",\"m\":\"1\",\"c\":\"3.0000\"},{\"i\":\"63634\",\"n\":\"Mar\\\\u00eda Isabel\",\"a\":\"Barranco Lagunas\",\"d\":\"Ciencias de la comunicaci\\\\u00f3n\",\"m\":\"1\",\"c\":\"2.0000\"},{\"i\":\"161322\",\"n\":\"Norma\",\"a\":\"Barranco Torres\",\"d\":\"Antropolog\\\\u00eda \",\"m\":\"0\",\"c\":null},{\"i\":\"136250\",\"n\":\"Guillermo\",\"a\":\"Barraza Ortega\",\"d\":\"Quimica\",\"m\":\"3\",\"c\":\"10.0000\"},{\"i\":\"11224\",\"n\":\"Andr\\\\u00e9s\",\"a\":\"Barreda Mar\\\\u00edn\",\"d\":\"Econom\\\\u00eda\",\"m\":\"82\",\"c\":\"7.2805\"},{\"i\":\"107613\",\"n\":\"Judith Eugenia\",\"a\":\"Barreiro D\\\\u00edas\",\"d\":\"Distrito Federal\",\"m\":\"0\",\"c\":null},{\"i\":\"122080\",\"n\":\"Dami\\\\u00e1n\",\"a\":\"Barrera\",\"d\":\"Odontolog\\\\u00eda\",\"m\":\"0\",\"c\":null},{\"i\":\"73002\",\"n\":\"Marvella\",\"a\":\"Barrera Cano\",\"d\":\"Rafael Camacho Guzman\",\"m\":\"0\",\"c\":null},{\"i\":\"149479\",\"n\":\"Francisco\",\"a\":\"Barrera del Rayo\",\"d\":\"Facultad de Ingenier\\\\u00eda \",\"m\":\"0\",\"c\":null},{\"i\":\"14375\",\"n\":\"Genoveva\",\"a\":\"Barrera God\\\\u00ednez\",\"d\":\"Economia\",\"m\":\"37\",\"c\":\"7.1892\"},{\"i\":\"144409\",\"n\":\"Leovigildo\",\"a\":\"Barrera Matilde\",\"d\":\"Facultad de Ingenier\\\\u00eda\",\"m\":\"2\",\"c\":\"4.5000\"},{\"i\":\"14546\",\"n\":\"Macedonio\",\"a\":\"Barrera Rios\",\"d\":\"Economia\",\"m\":\"17\",\"c\":\"8.3529\"},{\"i\":\"68734\",\"n\":\"aide guadalupe\",\"a\":\"barrera rodriguez\",\"d\":\"Derecho\",\"m\":\"6\",\"c\":\"9.6667\"},{\"i\":\"155918\",\"n\":\"Elizabeth\",\"a\":\"Barrera Romero\",\"d\":\"Fes cuautitlan \",\"m\":\"0\",\"c\":null},{\"i\":\"147778\",\"n\":\"Carolina\",\"a\":\"Barriga Montoya\",\"d\":\"Facultad de ciencias \",\"m\":\"0\",\"c\":null},{\"i\":\"158843\",\"n\":\"Juan Carlos\",\"a\":\"Barrios Lira\",\"d\":\"Facultad de Derecho-\\\\u00c9tica \",\"m\":\"3\",\"c\":\"8.6667\"},{\"i\":\"31926\",\"n\":\"Alberto\",\"a\":\"Barron\",\"d\":\"Econom\\\\u00eda INAE\",\"m\":\"1\",\"c\":\"8.0000\"},{\"i\":\"158382\",\"n\":\"kepler\",\"a\":\"barr\\\\u00f3n arteaga\",\"d\":\"facultad de derecho\",\"m\":\"2\",\"c\":\"9.0000\"},{\"i\":\"78934\",\"n\":\"Esteban\",\"a\":\"Barr\\\\u00f3n Guti\\\\u00e9rrez\",\"d\":\"FES Acatl\\\\u00e1n\",\"m\":\"7\",\"c\":\"7.2857\"},{\"i\":\"42909\",\"n\":\"ALBERTO\",\"a\":\"BARRON MIRANDA\",\"d\":\"ECONOMIA INAE.\",\"m\":\"2\",\"c\":\"9.0000\"},{\"i\":\"158710\",\"n\":\"Ana isabel\",\"a\":\"Barroso\",\"d\":\"Prepa 9\",\"m\":\"0\",\"c\":null},{\"i\":\"104032\",\"n\":\"roger\",\"a\":\"bartra\",\"d\":\"antropologia\",\"m\":\"0\",\"c\":null},{\"i\":\"28153\",\"n\":\"Eduardo\",\"a\":\"Barzana\",\"d\":\"Quimica C.U.\",\"m\":\"8\",\"c\":\"5.7500\"},{\"i\":\"15144\",\"n\":\"Hector\",\"a\":\"Basave\",\"d\":\"Rivera\",\"m\":\"30\",\"c\":\"8.9333\"},{\"i\":\"30642\",\"n\":\"EMBAJADOR\",\"a\":\"BASSOLS\",\"d\":\"INTERNACIONAL\",\"m\":\"3\",\"c\":\"4.3333\"},{\"i\":\"105566\",\"n\":\"Karla Genoveva\",\"a\":\"Bassols Bello\",\"d\":\"Ciencias\",\"m\":\"33\",\"c\":\"6.2727\"},{\"i\":\"20422\",\"n\":\"guillermina\",\"a\":\"basurto estrada\",\"d\":\"cch oriente\",\"m\":\"35\",\"c\":\"5.3714\"},{\"i\":\"156769\",\"n\":\"Amando\",\"a\":\"Basurto Salazar\",\"d\":\"Facultad de Ciencias Pol\\\\u00edticas y sociales \",\"m\":\"0\",\"c\":null},{\"i\":\"133415\",\"n\":\"Clementina\",\"a\":\"Battcock\",\"d\":\"Facultad de Filosof\\\\u00eda y Letras\",\"m\":\"2\",\"c\":\"4.5000\"},{\"i\":\"135562\",\"n\":\"Juan\",\"a\":\"Bautista\",\"d\":\"Fes zaragoza\",\"m\":\"1\",\"c\":\"8.0000\"},{\"i\":\"158137\",\"n\":\"Antonio\",\"a\":\"Bautista cruz\",\"d\":\"Medicina\",\"m\":\"0\",\"c\":null},{\"i\":\"106988\",\"n\":\"Sergio\",\"a\":\"Bautista Cuevas\",\"d\":\"Facultad de Ciencias Pol\\\\u00edticas y Sociales\",\"m\":\"7\",\"c\":\"8.8571\"},{\"i\":\"161408\",\"n\":\"andrea\",\"a\":\"bautista de jesus\",\"d\":\"derecho\",\"m\":\"0\",\"c\":null},{\"i\":\"111422\",\"n\":\"ricardo\",\"a\":\"bawman\",\"d\":\"economia\",\"m\":\"0\",\"c\":null},{\"i\":\"162699\",\"n\":\"David Ramon\",\"a\":\"Bazan Moncayo\",\"d\":\"Medicina\",\"m\":\"0\",\"c\":null},{\"i\":\"142797\",\"n\":\"Patricia\",\"a\":\"Baz\\\\u00e1n Onofre\",\"d\":\"Facultad de Econom\\\\u00eda \",\"m\":\"1\",\"c\":\"9.0000\"},{\"i\":\"162698\",\"n\":\"David Ramon\",\"a\":\"Bazan que\",\"d\":\"Medicina\",\"m\":\"0\",\"c\":null},{\"i\":\"14461\",\"n\":\"Raquel\",\"a\":\"Beato King\",\"d\":\"Economia\",\"m\":\"5\",\"c\":\"10.0000\"},{\"i\":\"121638\",\"n\":\"Jos\\\\u00e9 Manuel\",\"a\":\"Becerra Espinosa\",\"d\":\"ENP 8\",\"m\":\"1\",\"c\":\"10.0000\"},{\"i\":\"118242\",\"n\":\"CRUZ EDGARDO\",\"a\":\"BECERRA GONZALEZ\",\"d\":\"PSICOLOGIA\",\"m\":\"0\",\"c\":null},{\"i\":\"27057\",\"n\":\"Victor Hugo\",\"a\":\"Becerra Lopez\",\"d\":\"FEZ - Zaragoza. UNAM\",\"m\":\"8\",\"c\":\"3.3750\"},{\"i\":\"153543\",\"n\":\"Francisco Javier\",\"a\":\"Becerra Macias\",\"d\":\"ENP 2\",\"m\":\"0\",\"c\":null},{\"i\":\"14462\",\"n\":\"Felipe\",\"a\":\"Becerra Maldonado\",\"d\":\"Economia\",\"m\":\"16\",\"c\":\"3.6250\"},{\"i\":\"16147\",\"n\":\"Manuel \",\"a\":\"Becerra Ram\\\\u00edrez\",\"d\":\"Derecho\",\"m\":\"5\",\"c\":\"6.2000\"},{\"i\":\"163956\",\"n\":\"Brenda Margarita\",\"a\":\"Becerra Ru\\\\u00edz\",\"d\":\"Facultad de Ciencias\",\"m\":\"0\",\"c\":null},{\"i\":\"139318\",\"n\":\"OSIRIS\",\"a\":\"BECERRIL\",\"d\":\"FACULTAD DE DERECHO\",\"m\":\"2\",\"c\":\"10.0000\"},{\"i\":\"134179\",\"n\":\"Helios\",\"a\":\"Becerril\",\"d\":\"Cch\",\"m\":\"0\",\"c\":null},{\"i\":\"153653\",\"n\":\"Elizabeth\",\"a\":\"Becerril Guzman\",\"d\":\"ENP 7 Historia \",\"m\":\"1\",\"c\":\"9.0000\"},{\"i\":\"81245\",\"n\":\"Janet del Carmen\",\"a\":\"Becerril Hernandez\",\"d\":\"Fes Zaragoza\",\"m\":\"6\",\"c\":\"5.0000\"},{\"i\":\"133465\",\"n\":\"Helios\",\"a\":\"Becerril Montes\",\"d\":\"Matem\\\\u00e1ticas \",\"m\":\"1\",\"c\":\"10.0000\"},{\"i\":\"15484\",\"n\":\"Patricia\",\"a\":\"Bedolla\",\"d\":\"Psicologia\",\"m\":\"3\",\"c\":\"10.0000\"},{\"i\":\"113791\",\"n\":\"Ethel\",\"a\":\"Bedolla Gardu\\\\u00f1o\",\"d\":\"Ciencias Pol\\\\u00edticas y Sociales \\\\/ Sociolog\\\\u00eda\",\"m\":\"6\",\"c\":\"9.3333\"},{\"i\":\"102218\",\"n\":\"kenya\",\"a\":\"bello\",\"d\":\"filosofia y letras\",\"m\":\"1\",\"c\":\"4.0000\"},{\"i\":\"146395\",\"n\":\"Silvia Lorena\",\"a\":\"Bello Nu\\\\u00f1ez\",\"d\":\"Facultad de Econom\\\\u00eda\",\"m\":\"3\",\"c\":\"10.0000\"},{\"i\":\"156405\",\"n\":\"Javier\",\"a\":\"Bello Saucedo\",\"d\":\"Facultad de Qu\\\\u00edmica\",\"m\":\"1\",\"c\":\"10.0000\"},{\"i\":\"161242\",\"n\":\"Benjam\\\\u00edn\",\"a\":\"Beltr\\\\u00e1n Fragoso\",\"d\":\"Facultad de qu\\\\u00edmica \",\"m\":\"0\",\"c\":null},{\"i\":\"135901\",\"n\":\"Maria Elena\",\"a\":\"Beltr\\\\u00e1n Nava\",\"d\":\"Escuela Nacional de Trabajo Social \",\"m\":\"7\",\"c\":\"7.4286\"},{\"i\":\"43805\",\"n\":\"MARIA ELENA\",\"a\":\"BELTRAN PARRA\",\"d\":\"BIOLOGIA\",\"m\":\"2\",\"c\":\"10.0000\"},{\"i\":\"102366\",\"n\":\"JUAN OCTAVIO\",\"a\":\"BELTRAN RANGEL\",\"d\":\"FACULTAD DERECHO UNAM\",\"m\":\"26\",\"c\":\"9.8462\"},{\"i\":\"14463\",\"n\":\"Le\\\\u00f3n\",\"a\":\"Bendesky Bronstein\",\"d\":\"Economia\",\"m\":\"9\",\"c\":\"9.0000\"},{\"i\":\"14464\",\"n\":\"Mario Flavio\",\"a\":\"Ben\\\\u00edtez Ch\\\\u00e1vez\",\"d\":\"Economia\",\"m\":\"73\",\"c\":\"9.1096\"},{\"i\":\"98502\",\"n\":\"Edgardo Ulises\",\"a\":\"Benitez Eslava\",\"d\":\"Facultad de Ingenieria \",\"m\":\"15\",\"c\":\"7.2000\"},{\"i\":\"144415\",\"n\":\"facultad de estudios superiore\",\"a\":\"benitez flores\",\"d\":\"biologia\",\"m\":\"1\",\"c\":\"2.0000\"},{\"i\":\"17999\",\"n\":\"SONIA ELIA\",\"a\":\"BENITEZ MONTOYA \",\"d\":\"PROCES.GOB.MEX.(AMBIT.FEDER.)\",\"m\":\"0\",\"c\":null},{\"i\":\"155744\",\"n\":\"H\\\\u00e9ctor Miguel\",\"a\":\"Ben\\\\u00edtez Mora\",\"d\":\"Econom\\\\u00eda \",\"m\":\"0\",\"c\":null},{\"i\":\"136353\",\"n\":\"Rafael\",\"a\":\"Benjam\\\\u00edn Casanova\",\"d\":\"FESC\",\"m\":\"0\",\"c\":null},{\"i\":\"150490\",\"n\":\"Fabiola\",\"a\":\"Berlanga\",\"d\":\"Facultad de Psicolog\\\\u00eda UNAM\",\"m\":\"1\",\"c\":\"10.0000\"},{\"i\":\"14547\",\"n\":\"Luis Adalberto\",\"a\":\"Berlanga Albrecht\",\"d\":\"Economia\",\"m\":\"31\",\"c\":\"7.1613\"},{\"i\":\"115445\",\"n\":\"Jos\\\\u00e9 Manuel\",\"a\":\"Berm\\\\u00fadez Hern\\\\u00e1ndez\",\"d\":\"Filosof\\\\u00eda\",\"m\":\"0\",\"c\":null},{\"i\":\"79454\",\"n\":\"PEDRO\",\"a\":\"BERMUDEZ PALAFOX\",\"d\":\"INGENIERIA\",\"m\":\"4\",\"c\":\"8.0000\"},{\"i\":\"51356\",\"n\":\"Adriana\",\"a\":\"Berm\\\\u00fadez Salguero\",\"d\":\"ciencias\",\"m\":\"13\",\"c\":\"10.0000\"},{\"i\":\"141555\",\"n\":\"Arcelia\",\"a\":\"Bernal\",\"d\":\"Imgenieria\",\"m\":\"0\",\"c\":null},{\"i\":\"160346\",\"n\":\"Irma Irene\",\"a\":\"Bernal\",\"d\":\"Econom\\\\u00eda\",\"m\":\"1\",\"c\":\"9.0000\"},{\"i\":\"129136\",\"n\":\"Liliana\",\"a\":\"Bernal\",\"d\":\"Facultad de Econom\\\\u00eda \",\"m\":\"1\",\"c\":\"10.0000\"},{\"i\":\"79459\",\"n\":\"Alma Rosa\",\"a\":\"Bernal Cedillo\",\"d\":\"FES Acatl\\\\u00e1n Derecho \\\\/ Personas y Bienes\",\"m\":\"1\",\"c\":\"8.0000\"},{\"i\":\"67908\",\"n\":\"enrique\",\"a\":\"bernal franco\",\"d\":\"fes aragon\",\"m\":\"1\",\"c\":\"10.0000\"},{\"i\":\"52150\",\"n\":\"Carlos\",\"a\":\"Bernal Salinas\",\"d\":\"Arquitectura\",\"m\":\"5\",\"c\":\"7.8000\"},{\"i\":\"155817\",\"n\":\"EDUARDO\",\"a\":\"BERNAL VARGAS\",\"d\":\"Ingenieria\",\"m\":\"0\",\"c\":null},{\"i\":\"144313\",\"n\":\"Carolina\",\"a\":\"Berumen\",\"d\":\"Ingles\",\"m\":\"0\",\"c\":null},{\"i\":\"144812\",\"n\":\"Luis Enrique\",\"a\":\"Betancourt Santill\\\\u00e1n\",\"d\":\"FAD\",\"m\":\"1\",\"c\":\"6.0000\"},{\"i\":\"87576\",\"n\":\"Eber\",\"a\":\"Betanzos Torres\",\"d\":\"Facultad de Econom\\\\u00eda \",\"m\":\"5\",\"c\":\"9.8000\"},{\"i\":\"117431\",\"n\":\"Alfonso\",\"a\":\"Blancas\",\"d\":\"facultad de ciencias politicas y sociales UNAM\",\"m\":\"2\",\"c\":\"9.0000\"},{\"i\":\"14502\",\"n\":\"Andres\",\"a\":\"Blancas Neria\",\"d\":\"Economia\",\"m\":\"3\",\"c\":\"2.3333\"},{\"i\":\"32166\",\"n\":\"irlib belen\",\"a\":\"blancas rios\",\"d\":\"ingenieria\",\"m\":\"48\",\"c\":\"7.4167\"},{\"i\":\"14548\",\"n\":\"Jose Humberto\",\"a\":\"Blanco Mejia\",\"d\":\"Economia\",\"m\":\"1\",\"c\":\"9.0000\"},{\"i\":\"14465\",\"n\":\"M\\\\u00f3nica Laura\",\"a\":\"Blanco Rosenzuaig\",\"d\":\"Economia\",\"m\":\"4\",\"c\":\"10.0000\"},{\"i\":\"80562\",\"n\":\"andres francisco\",\"a\":\"bocanegra fuerte\",\"d\":\"derecho\",\"m\":\"4\",\"c\":\"4.2500\"},{\"i\":\"162191\",\"n\":\"LUIS DANIEL\",\"a\":\"BOLA\\\\u00d1OS ACEVEDO\",\"d\":\"Facultad de Ingenieria \",\"m\":\"1\",\"c\":\"9.0000\"},{\"i\":\"138132\",\"n\":\"Belem\",\"a\":\"Bola\\\\u00f1os martinez\",\"d\":\"Derecho\",\"m\":\"7\",\"c\":\"8.4286\"},{\"i\":\"11225\",\"n\":\"Rogelio\",\"a\":\"Bolio Garc\\\\u00eda\",\"d\":\"Ingenier\\\\u00eda\",\"m\":\"3\",\"c\":\"7.0000\"},{\"i\":\"137057\",\"n\":\"H\\\\u00e9ctor Joaqu\\\\u00edn\",\"a\":\"Bolio Ortiz\",\"d\":\"Maestr\\\\u00eda en Trabajo Social\",\"m\":\"2\",\"c\":\"9.5000\"},{\"i\":\"41346\",\"n\":\"Carles\",\"a\":\"Bondia Rodr\\\\u00edguez\",\"d\":\"CELE\",\"m\":\"12\",\"c\":\"7.5000\"},{\"i\":\"162511\",\"n\":\"Josu\\\\u00e9\",\"a\":\"Bonilla Hidalgo\",\"d\":\"cch azcapotzalco\",\"m\":\"1\",\"c\":\"10.0000\"},{\"i\":\"163256\",\"n\":\"Socorro Aida\",\"a\":\"Borges Ya\\\\u00f1ez\",\"d\":\"Odontolog\\\\u00eda \",\"m\":\"0\",\"c\":null},{\"i\":\"101808\",\"n\":\"Sonia\",\"a\":\"Bori\",\"d\":\"Administraci\\\\u00f3n\",\"m\":\"0\",\"c\":null},{\"i\":\"136956\",\"n\":\"Luis Felipe\",\"a\":\"Borja Agudelo\",\"d\":\"Valle del Cauca\",\"m\":\"1\",\"c\":\"7.0000\"},{\"i\":\"136955\",\"n\":\"Luis Felipe\",\"a\":\"Borja Agudelo\",\"d\":\"Tecnolog\\\\u00eda e inform\\\\u00e1tica - Universidad Santiago de\",\"m\":\"0\",\"c\":null},{\"i\":\"63576\",\"n\":\"Dulce Armonia\",\"a\":\"Borrego Gom\\\\u00e9z\",\"d\":\"\",\"m\":\"49\",\"c\":\"3.7143\"},{\"i\":\"103144\",\"n\":\"Pablo Antonio\",\"a\":\"Borys Sosa\",\"d\":\"Facultad de Ciencias UNAM\",\"m\":\"2\",\"c\":\"7.5000\"},{\"i\":\"65727\",\"n\":\"Sarai\",\"a\":\"bosiere\",\"d\":\"trabajo social \",\"m\":\"1\",\"c\":\"6.0000\"},{\"i\":\"157696\",\"n\":\"HARRY\",\"a\":\"BRAILOVSKY\",\"d\":\"BIOLOG\\\\u00cdA\",\"m\":\"0\",\"c\":null},{\"i\":\"137374\",\"n\":\"Mauricio\",\"a\":\"Bravo\",\"d\":\"CCH Naucalpan \",\"m\":\"0\",\"c\":null},{\"i\":\"66559\",\"n\":\"antonio\",\"a\":\"bravo ballesteros\",\"d\":\"todas materias\",\"m\":\"1\",\"c\":\"10.0000\"},{\"i\":\"14549\",\"n\":\"Ernesto\",\"a\":\"Bravo Benitez\",\"d\":\"Economia\",\"m\":\"34\",\"c\":\"8.3235\"},{\"i\":\"137262\",\"n\":\"Brenda Elizabeth\",\"a\":\"Bravo Garc\\\\u00eda\",\"d\":\"Biolog\\\\u00eda \",\"m\":\"2\",\"c\":\"7.0000\"},{\"i\":\"140161\",\"n\":\"Roc\\\\u00edo\",\"a\":\"Bravo Gonz\\\\u00e1lez\",\"d\":\"FES Cuautitl\\\\u00e1n\",\"m\":\"0\",\"c\":null},{\"i\":\"153852\",\"n\":\"Mar\\\\u00eda Cristina\",\"a\":\"Bravo Gonz\\\\u00e1lez\",\"d\":\"UNAM FES Iztacala\\\\/Residencia que n Medicina Conduc\",\"m\":\"2\",\"c\":\"2.0000\"},{\"i\":\"14376\",\"n\":\"H\\\\u00e9ctor Manuel\",\"a\":\"Bravo P\\\\u00e9rez\",\"d\":\"Economia\",\"m\":\"21\",\"c\":\"5.4286\"},{\"i\":\"119550\",\"n\":\"JUAN ARTURO\",\"a\":\"Briones Gonz\\\\u00e1lez\",\"d\":\"Ciencias\",\"m\":\"7\",\"c\":\"8.7143\"},{\"i\":\"73134\",\"n\":\"Carlos\",\"a\":\"Briones Rodriguez\",\"d\":\"CCH AZC\",\"m\":\"10\",\"c\":\"5.9000\"},{\"i\":\"69525\",\"n\":\"Cesar\",\"a\":\"Brise\\\\u00f1o Miranda\",\"d\":\"E.N.P 8 Miguel E. Schulz\",\"m\":\"4\",\"c\":\"8.5000\"},{\"i\":\"105098\",\"n\":\"Adriana Ang\\\\u00e9lica\",\"a\":\"Brise\\\\u00f1o Ojeda\",\"d\":\"Ingenier\\\\u00eda \",\"m\":\"1\",\"c\":\"9.0000\"},{\"i\":\"155811\",\"n\":\"Rodrigo\",\"a\":\"Brito Melgarejo\",\"d\":\"Facultad de Derecho UNAM\",\"m\":\"0\",\"c\":null},{\"i\":\"21352\",\"n\":\"Flor\",\"a\":\"Brown Grossman\",\"d\":\"Economia\",\"m\":\"5\",\"c\":\"7.6000\"},{\"i\":\"15115\",\"n\":\"Carlos\",\"a\":\"Brugada\",\"d\":\"Medicina\",\"m\":\"2\",\"c\":\"9.0000\"},{\"i\":\"15429\",\"n\":\"Carlos\",\"a\":\"Bruner \",\"d\":\"psicologia experimental\",\"m\":\"18\",\"c\":\"6.7778\"},{\"i\":\"151212\",\"n\":\"Abdiel\",\"a\":\"Buelna Chontal\",\"d\":\"FES Iztacala\",\"m\":\"2\",\"c\":\"10.0000\"},{\"i\":\"162263\",\"n\":\"Jos\\\\u00e9  Guadalupe\",\"a\":\"Buenas Merlos\",\"d\":\"Matematicas\",\"m\":\"0\",\"c\":null},{\"i\":\"17202\",\"n\":\"Rafael\",\"a\":\"Buend\\\\u00eda\",\"d\":\"Econom\\\\u00eda\",\"m\":\"13\",\"c\":\"5.5385\"},{\"i\":\"14550\",\"n\":\"Isabel\",\"a\":\"Buendia Cortes\",\"d\":\"Economia\",\"m\":\"12\",\"c\":\"5.2500\"},{\"i\":\"159146\",\"n\":\"Mauricio\",\"a\":\"Buendia Millan\",\"d\":\"Facultad de ingenieria\",\"m\":\"1\",\"c\":\"9.0000\"},{\"i\":\"130081\",\"n\":\"Veronica Leticia\",\"a\":\"Buendia pineda\",\"d\":\"Contabilidad\",\"m\":\"0\",\"c\":null},{\"i\":\"162048\",\"n\":\"Jose luis\",\"a\":\"Buend\\\\u00eda uribe\",\"d\":\"Preparatoria 2\",\"m\":\"0\",\"c\":null},{\"i\":\"151467\",\"n\":\"Fernando\",\"a\":\"Buitr\\\\u00f3n\",\"d\":\"FA\",\"m\":\"0\",\"c\":null},{\"i\":\"140846\",\"n\":\"Carlos Federico\",\"a\":\"Bunge Molina\",\"d\":\"Facultad de Qu\\\\u00edmica\",\"m\":\"1\",\"c\":\"10.0000\"},{\"i\":\"151749\",\"n\":\"Antonio\",\"a\":\"Butron\",\"d\":\"Prepa 3 uNAM\",\"m\":\"0\",\"c\":null},{\"i\":\"161776\",\"n\":\"Ethel Alejandra\",\"a\":\"Butron Gutierrez\",\"d\":\"Administraci\\\\u00f3n \",\"m\":\"0\",\"c\":null},{\"i\":\"11226\",\"n\":\"Ricardo\",\"a\":\"Buzo de la Pe\\\\u00f1a\",\"d\":\"Econom\\\\u00eda\",\"m\":\"3\",\"c\":\"4.6667\"},{\"i\":\"14551\",\"n\":\"Ricardo Marcos\",\"a\":\"Buzo De La Pe\\\\u00f1a\",\"d\":\"Economia\",\"m\":\"0\",\"c\":null},{\"i\":\"105414\",\"n\":\"Jorge Hola\",\"a\":\"Caanan  ornelas\",\"d\":\"Facultad de arquitectura\",\"m\":\"0\",\"c\":null},{\"i\":\"64659\",\"n\":\"Yolanda\",\"a\":\"Caballero\",\"d\":\"Facultad Quimica - Org\\\\u00e1nica\",\"m\":\"1\",\"c\":\"2.0000\"},{\"i\":\"135661\",\"n\":\"Raul Alberto\",\"a\":\"Caballero Almaz\\\\u00e1n\",\"d\":\"Escuela nacional de trabajo social\",\"m\":\"0\",\"c\":null},{\"i\":\"11227\",\"n\":\"Emilio\",\"a\":\"Caballero Urdiales\",\"d\":\"Econom\\\\u00eda\",\"m\":\"27\",\"c\":\"8.2222\"},{\"i\":\"125981\",\"n\":\"MARIA ISABEL\",\"a\":\"CABALLERO VALDERRAMA\",\"d\":\"FCA, C.U\",\"m\":\"3\",\"c\":\"7.3333\"},{\"i\":\"91257\",\"n\":\"Pablo Alejandro\",\"a\":\"caba\\\\u00f1as diaz\",\"d\":\"ciencias pol\\\\u00edticas y sociales \",\"m\":\"28\",\"c\":\"8.3929\"},{\"i\":\"111160\",\"n\":\"REBECA PATRICIA\",\"a\":\"CABA\\\\u00d1AS MAYA\",\"d\":\"FILOSOFIA UNAM LITERATURA DRAMATICA Y TEATRO\",\"m\":\"3\",\"c\":\"4.3333\"},{\"i\":\"14503\",\"n\":\"Roberto Benjamin\",\"a\":\"Cabral Bowling\",\"d\":\"Economia\",\"m\":\"36\",\"c\":\"8.1389\"},{\"i\":\"14552\",\"n\":\"Carlos Javier\",\"a\":\"Cabrera Adame\",\"d\":\"Economia\",\"m\":\"6\",\"c\":\"6.6667\"},{\"i\":\"137366\",\"n\":\"Maria del Rosario\",\"a\":\"Cabrera Ayala\",\"d\":\"CCH Vallejo \",\"m\":\"3\",\"c\":\"3.0000\"},{\"i\":\"137365\",\"n\":\"Maria del Rosario\",\"a\":\"Cabrera Ayala\",\"d\":\"CCH Vallejo | Materia Franc\\\\u00e9s\",\"m\":\"0\",\"c\":null},{\"i\":\"90974\",\"n\":\"lilia\",\"a\":\"cabrera borboa\",\"d\":\"fca\",\"m\":\"0\",\"c\":null},{\"i\":\"115602\",\"n\":\"Alejandra\",\"a\":\"Cabrera Coria\",\"d\":\"Odontologia periodoncia\",\"m\":\"0\",\"c\":null},{\"i\":\"142653\",\"n\":\"Enrique Martin\",\"a\":\"Cabrera Cortes\",\"d\":\"Fes Aragon \",\"m\":\"0\",\"c\":null},{\"i\":\"24193\",\"n\":\"ARMANDO\",\"a\":\"CABRERA GARCIA\",\"d\":\"ECONOMIA\",\"m\":\"49\",\"c\":\"4.2245\"},{\"i\":\"101943\",\"n\":\"Guillermo\",\"a\":\"Cabrera Guti\\\\u00e9rrez\",\"d\":\"Dibujo\",\"m\":\"0\",\"c\":null},{\"i\":\"75077\",\"n\":\"Juana\",\"a\":\"Cabrera Hernandez\",\"d\":\"FES Cuautitlan \",\"m\":\"0\",\"c\":null},{\"i\":\"19143\",\"n\":\"Manuel\",\"a\":\"Cabrera Matus\",\"d\":\"Economia\",\"m\":\"74\",\"c\":\"4.0541\"},{\"i\":\"14417\",\"n\":\"Sergio\",\"a\":\"Cabrera Morales\",\"d\":\"Economia\",\"m\":\"12\",\"c\":\"7.5833\"},{\"i\":\"105520\",\"n\":\"Ayde\",\"a\":\"Cabrera Morales\",\"d\":\"Facultad de ingenier\\\\u00eda\",\"m\":\"0\",\"c\":null},{\"i\":\"141041\",\"n\":\"Mario Ad\\\\u00e1n\",\"a\":\"Cabuto Medina\",\"d\":\"Facultad de M\\\\u00fasica \",\"m\":\"0\",\"c\":null},{\"i\":\"112216\",\"n\":\"Ana Luz\",\"a\":\"Caccavari Garza\",\"d\":\"Facultad de Ciencias\",\"m\":\"1\",\"c\":\"10.0000\"},{\"i\":\"148956\",\"n\":\"Luis Emilio\",\"a\":\"Caceres Alvarado\",\"d\":\"Psicologia\",\"m\":\"0\",\"c\":null},{\"i\":\"157912\",\"n\":\"Rosalinda de la Cruz\",\"a\":\"C\\\\u00e1ceres Centeno\",\"d\":\"FILOSOF\\\\u00cdA Y LETRAS PEDAGOG\\\\u00cdA\",\"m\":\"0\",\"c\":null},{\"i\":\"114134\",\"n\":\"Jes\\\\u00fas\",\"a\":\"Cadena Alcal\\\\u00e1\",\"d\":\"FES Arag\\\\u00f3n\",\"m\":\"11\",\"c\":\"6.0909\"},{\"i\":\"111590\",\"n\":\"Demian\",\"a\":\"Cadena Estrada\",\"d\":\"Contadur\\\\u00eda y Administraci\\\\u00f3n\",\"m\":\"0\",\"c\":null},{\"i\":\"104174\",\"n\":\"Yareli Joselin\",\"a\":\"Cadena Rodr\\\\u00edguez\",\"d\":\"Ciencias\",\"m\":\"3\",\"c\":\"9.6667\"},{\"i\":\"68858\",\"n\":\"Gabriel\",\"a\":\"Cadena Salgado\",\"d\":\"Facultad de Econom\\\\u00eda \\\\/ Finanzas Estatales\",\"m\":\"22\",\"c\":\"8.0000\"},{\"i\":\"14466\",\"n\":\"Mar\\\\u00eda Edith\",\"a\":\"Calc\\\\u00e1neo Aguayo\",\"d\":\"Economia\",\"m\":\"4\",\"c\":\"7.5000\"},{\"i\":\"163194\",\"n\":\"Paola\",\"a\":\"Calder\\\\u00f3n\",\"d\":\"Econom\\\\u00eda \",\"m\":\"0\",\"c\":null},{\"i\":\"14062\",\"n\":\"Alfredo \",\"a\":\"Calder\\\\u00f3n Dur\\\\u00e1n\",\"d\":\"FES Zaragoza\",\"m\":\"12\",\"c\":\"9.2500\"},{\"i\":\"119670\",\"n\":\"Jorge\",\"a\":\"Calder\\\\u00f3n Espinosa de los Monte\",\"d\":\"Matem\\\\u00e1ticas\",\"m\":\"15\",\"c\":\"6.8667\"},{\"i\":\"109186\",\"n\":\"Judith\",\"a\":\"Calderon gomez\",\"d\":\"ciencias politicas\",\"m\":\"0\",\"c\":null},{\"i\":\"14553\",\"n\":\"Jorge Alfonso\",\"a\":\"Calderon Salazar\",\"d\":\"Economia\",\"m\":\"22\",\"c\":\"7.4091\"},{\"i\":\"134837\",\"n\":\"Juan \\\\u00c1ngel\",\"a\":\"Calixto\",\"d\":\"Facultad de Medicina UNAM\",\"m\":\"1\",\"c\":\"9.0000\"},{\"i\":\"111613\",\"n\":\"merari\",\"a\":\"calixto rojas\",\"d\":\"cch sur\",\"m\":\"2\",\"c\":\"9.5000\"},{\"i\":\"104413\",\"n\":\"Aleida Elsi\",\"a\":\"Calleja Guti\\\\u00e9rrez\",\"d\":\"FCPYS\",\"m\":\"2\",\"c\":\"6.5000\"},{\"i\":\"96502\",\"n\":\"Carlos\",\"a\":\"Calva caro\",\"d\":\"Fca\",\"m\":\"1\",\"c\":\"2.0000\"},{\"i\":\"43921\",\"n\":\"armando\",\"a\":\"calzada\",\"d\":\"fca\",\"m\":\"1\",\"c\":\"2.0000\"},{\"i\":\"18843\",\"n\":\"Maria Elena\",\"a\":\"Calzada Garc\\\\u00eda\",\"d\":\"folosofia\",\"m\":\"4\",\"c\":\"7.0000\"},{\"i\":\"114648\",\"n\":\"Jos\\\\u00e9 Luis\",\"a\":\"Camacho\",\"d\":\"FES ACATL\\\\u00c1N \",\"m\":\"0\",\"c\":null},{\"i\":\"157007\",\"n\":\"Jeli\",\"a\":\"Camacho\",\"d\":\"Facultad de Arquitectura \",\"m\":\"0\",\"c\":null},{\"i\":\"157924\",\"n\":\"Raul\",\"a\":\"Camacho\",\"d\":\"FESI Biomateriales y Odontologia y sociedad\",\"m\":\"1\",\"c\":\"9.0000\"},{\"i\":\"16608\",\"n\":\"Espinoza\",\"a\":\"Camacho\",\"d\":\"Seymur\",\"m\":\"11\",\"c\":\"8.0909\"},{\"i\":\"115659\",\"n\":\"Fabiola\",\"a\":\"Camacho basurto\",\"d\":\"Octavio paz lozano#1062\",\"m\":\"0\",\"c\":null},{\"i\":\"125883\",\"n\":\"Nohemy\",\"a\":\"Camacho correa\",\"d\":\"Derecho\",\"m\":\"3\",\"c\":\"8.0000\"},{\"i\":\"163785\",\"n\":\"JOSE LUIS\",\"a\":\"CAMACHO GARCIA\",\"d\":\"ENP2\",\"m\":\"0\",\"c\":null},{\"i\":\"39133\",\"n\":\"Pedro\",\"a\":\"Camacho Gozalez\",\"d\":\"ENTS UNAM\",\"m\":\"2\",\"c\":\"3.0000\"},{\"i\":\"149708\",\"n\":\"Gerardo\",\"a\":\"Camacho Plancarte\",\"d\":\"Aguascalientes Mexico\",\"m\":\"1\",\"c\":\"2.0000\"},{\"i\":\"99065\",\"n\":\"Rita dolores\",\"a\":\"Camacho quezada\",\"d\":\"Iniciaci\\\\u00f3n prepa 2\",\"m\":\"0\",\"c\":null},{\"i\":\"162087\",\"n\":\"Mariana\",\"a\":\"Camacho Sanchez\",\"d\":\"Facultad de arquitectura\",\"m\":\"1\",\"c\":\"10.0000\"},{\"i\":\"155853\",\"n\":\"Jose Luis\",\"a\":\"Camacho Vargas\",\"d\":\"Facultad de Derecho. UNAM\",\"m\":\"4\",\"c\":\"8.0000\"},{\"i\":\"164319\",\"n\":\"Maria Elena\",\"a\":\"Camarena Adame\",\"d\":\"Contaduria y Administracion\",\"m\":\"0\",\"c\":null},{\"i\":\"113333\",\"n\":\"Dafne\",\"a\":\"Camarena Garay\",\"d\":\"FES Iztacala Idiomas\",\"m\":\"1\",\"c\":\"10.0000\"},{\"i\":\"160748\",\"n\":\"Amanda\",\"a\":\"Camargo\",\"d\":\"Escuela nacional de trabajo social \",\"m\":\"0\",\"c\":null},{\"i\":\"67351\",\"n\":\"Javier\",\"a\":\"Camargo Guill\\\\u00e9n\",\"d\":\"matem\\\\u00e1ticas cch oriente\",\"m\":\"6\",\"c\":\"9.5000\"},{\"i\":\"95240\",\"n\":\"juan gerardo\",\"a\":\"camargo mejorada\",\"d\":\"fes aragon comunicacion y periodismo\",\"m\":\"19\",\"c\":\"5.1053\"},{\"i\":\"109397\",\"n\":\"LETICIA BEATRIZ\",\"a\":\"CAMARGO PACHECO\",\"d\":\"Facultad de Contadur\\\\u00eda y Administraci\\\\u00f3n\",\"m\":\"0\",\"c\":null},{\"i\":\"61069\",\"n\":\"Reyna\",\"a\":\"Camarillo\",\"d\":\"Trabajo Social\",\"m\":\"2\",\"c\":\"9.5000\"},{\"i\":\"115968\",\"n\":\"Beatriz\",\"a\":\"Camarillo Cruz\",\"d\":\"Facultad de Ciencias Pol\\\\u00edticas y Sociales - UNAM\",\"m\":\"0\",\"c\":null},{\"i\":\"88875\",\"n\":\"Jaasiel Judith\",\"a\":\"Camarillo Rinc\\\\u00f3n\",\"d\":\"Facultad de Derecho\",\"m\":\"19\",\"c\":\"8.5263\"},{\"i\":\"141769\",\"n\":\"Jaasiel Judith\",\"a\":\"Camarillo rinc\\\\u00f3n\",\"d\":\"Derecho\",\"m\":\"0\",\"c\":null},{\"i\":\"75689\",\"n\":\"CAMILO\",\"a\":\"CAMHAJI GARCIA\",\"d\":\"CIENCIAS\",\"m\":\"1\",\"c\":\"6.0000\"},{\"i\":\"18452\",\"n\":\"ALFREDO\",\"a\":\"CAMHAJI SAMRA ALFREDO\",\"d\":\"Economia\",\"m\":\"4\",\"c\":\"4.7500\"},{\"i\":\"29484\",\"n\":\"RAFAEL\",\"a\":\"CAMPOS\",\"d\":\"FFyL\",\"m\":\"1\",\"c\":\"10.0000\"},{\"i\":\"153720\",\"n\":\"Dulce\",\"a\":\"Campos del Razo\",\"d\":\"Seguridad Inform\\\\u00e1tica B\\\\u00e1sica\",\"m\":\"1\",\"c\":\"10.0000\"},{\"i\":\"19911\",\"n\":\"Dolores\",\"a\":\"Campos E\",\"d\":\"Quimica\",\"m\":\"8\",\"c\":\"2.2500\"},{\"i\":\"40790\",\"n\":\"Elizabeth Elena\",\"a\":\"Campos Esquivel\",\"d\":\"CCH VALLEJO\",\"m\":\"67\",\"c\":\"5.5522\"},{\"i\":\"56945\",\"n\":\"elizabeth elena\",\"a\":\"campos esquivel\",\"d\":\"derecho sua\",\"m\":\"60\",\"c\":\"6.0833\"},{\"i\":\"157577\",\"n\":\"Er\\\\u00e9ndira A\",\"a\":\"Campos Garc\\\\u00eda-Rojas\",\"d\":\"Filosof\\\\u00eda \",\"m\":\"0\",\"c\":null},{\"i\":\"95271\",\"n\":\"Andrea Viviana\",\"a\":\"Campos Gonzales\",\"d\":\"facultad de derecho \",\"m\":\"6\",\"c\":\"9.8333\"},{\"i\":\"159651\",\"n\":\"karla denisse\",\"a\":\"campos gonzalez\",\"d\":\"psicologia\",\"m\":\"0\",\"c\":null},{\"i\":\"141208\",\"n\":\"Abigail\",\"a\":\"Campos Mares\",\"d\":\"Historia del arte\",\"m\":\"3\",\"c\":\"8.0000\"},{\"i\":\"14998\",\"n\":\"Rosa Mar\\\\u00eda\",\"a\":\"Campos Morales\",\"d\":\"Psicolog\\\\u00eda\",\"m\":\"2\",\"c\":\"7.0000\"},{\"i\":\"113131\",\"n\":\"Fausto Ernesto\",\"a\":\"Campos Reyes\",\"d\":\"Ciencias\",\"m\":\"2\",\"c\":\"10.0000\"},{\"i\":\"101752\",\"n\":\"Alberto\",\"a\":\"Campos tenorio\",\"d\":\"Arquitectura\",\"m\":\"0\",\"c\":null},{\"i\":\"149234\",\"n\":\"Estefania\",\"a\":\"Campos Trejo\",\"d\":\"Iztacala\",\"m\":\"0\",\"c\":null},{\"i\":\"161035\",\"n\":\"Enrique\",\"a\":\"Canceco Rodr\\\\u00edguez\",\"d\":\"FCA\",\"m\":\"1\",\"c\":\"10.0000\"},{\"i\":\"16358\",\"n\":\"Enrique\",\"a\":\"Canchola Mart\\\\u00ednez\",\"d\":\"Medicina-UNAM\",\"m\":\"53\",\"c\":\"5.8679\"},{\"i\":\"14554\",\"n\":\"Luis Eduardo\",\"a\":\"Candaudap Camacho\",\"d\":\"Economia\",\"m\":\"3\",\"c\":\"4.6667\"},{\"i\":\"161247\",\"n\":\"Edith\",\"a\":\"Candelas Ramirez\",\"d\":\"Facultad de contaduria y administraci\\\\u00f3n\",\"m\":\"0\",\"c\":null},{\"i\":\"113406\",\"n\":\"Jos\\\\u00e9 Alberto\",\"a\":\"Cano Buend\\\\u00eda\",\"d\":\"Microbiolog\\\\u00eda \",\"m\":\"0\",\"c\":null},{\"i\":\"152114\",\"n\":\"Erich Alberto\",\"a\":\"Cano franco\",\"d\":\"Filosof\\\\u00eda\",\"m\":\"0\",\"c\":null},{\"i\":\"47024\",\"n\":\"Jes\\\\u00fas Agust\\\\u00edn\",\"a\":\"Cano Garc\\\\u00e9s\",\"d\":\"Ciencias\\\\/ Actuar\\\\u00eda\",\"m\":\"2\",\"c\":\"8.5000\"},{\"i\":\"162531\",\"n\":\"Karla\",\"a\":\"Cano ruiz\",\"d\":\"Veterinaria \",\"m\":\"0\",\"c\":null},{\"i\":\"158919\",\"n\":\"Zen\\\\u00f3n\",\"a\":\"Cano Santana\",\"d\":\"Facultad de Ciencias \\\\/ecolog\\\\u00eda \",\"m\":\"0\",\"c\":null},{\"i\":\"105521\",\"n\":\"Teran Jorge\",\"a\":\"Capaceta D\\\\u00edaz\",\"d\":\"Econom\\\\u00eda\",\"m\":\"1\",\"c\":\"2.0000\"},{\"i\":\"15552\",\"n\":\"Lorenza\",\"a\":\"Capdevielle\",\"d\":\"Arquitectura\",\"m\":\"19\",\"c\":\"8.2632\"},{\"i\":\"133655\",\"n\":\"Pauline\",\"a\":\"Capdevielle\",\"d\":\"Facultad de Ciencias Pol\\\\u00edticas y Sociales UNAM\",\"m\":\"2\",\"c\":\"8.5000\"},{\"i\":\"154138\",\"n\":\"Julio cesar\",\"a\":\"Caracheo\",\"d\":\"Arquitectura\",\"m\":\"0\",\"c\":null},{\"i\":\"37263\",\"n\":\"maria julia\",\"a\":\"caral\",\"d\":\"\",\"m\":\"0\",\"c\":null},{\"i\":\"70559\",\"n\":\"Erja Patricia\",\"a\":\"Carbajal\",\"d\":\"ENP 3\",\"m\":\"2\",\"c\":\"2.0000\"},{\"i\":\"132278\",\"n\":\"Ana Patricia\",\"a\":\"Carbajal C\\\\u00f3rdova\",\"d\":\"Facultad de M\\\\u00fasica \",\"m\":\"1\",\"c\":\"9.0000\"},{\"i\":\"14467\",\"n\":\"Ra\\\\u00fal\",\"a\":\"Carbajal Cortes\",\"d\":\"Economia\",\"m\":\"36\",\"c\":\"8.6389\"},{\"i\":\"163193\",\"n\":\"Jorge valente\",\"a\":\"Carbajal lua\",\"d\":\"Econom\\\\u00eda \",\"m\":\"0\",\"c\":null},{\"i\":\"125066\",\"n\":\"ROCIO C\",\"a\":\"CARBAJAL OSORIO\",\"d\":\"Ciencias de la Salud I\",\"m\":\"1\",\"c\":\"8.0000\"},{\"i\":\"160851\",\"n\":\"Oscar\",\"a\":\"CARBALLAR\",\"d\":\"ingenieria\",\"m\":\"0\",\"c\":null},{\"i\":\"15200\",\"n\":\"Miguel\",\"a\":\"Carbonell S\\\\u00e1nchez\",\"d\":\"Derecho\",\"m\":\"15\",\"c\":\"6.2000\"},{\"i\":\"139805\",\"n\":\"JAIME\",\"a\":\"C\\\\u00c1RDENAS GRACIA\",\"d\":\"Maestr\\\\u00eda en Derecho\",\"m\":\"0\",\"c\":null},{\"i\":\"155641\",\"n\":\"CESAR EMILIO\",\"a\":\"CARDENAS ZAVALA\",\"d\":\"FCFM\",\"m\":\"1\",\"c\":\"10.0000\"},{\"i\":\"14555\",\"n\":\"Maria Elena\",\"a\":\"Cardero Garcia\",\"d\":\"Economia\",\"m\":\"2\",\"c\":\"6.0000\"},{\"i\":\"149758\",\"n\":\"ERIKA RENATA\",\"a\":\"CARDOSO\",\"d\":\"PSICOLOG\\\\u00cdA EDUCATIVA \",\"m\":\"1\",\"c\":\"9.0000\"},{\"i\":\"14468\",\"n\":\"Lucina\",\"a\":\"Cardoso Mora\",\"d\":\"Economia\",\"m\":\"19\",\"c\":\"6.3158\"},{\"i\":\"114647\",\"n\":\"Chantal\",\"a\":\"Carius\",\"d\":\"Arquitectura\",\"m\":\"0\",\"c\":null},{\"i\":\"127375\",\"n\":\"RAMON\",\"a\":\"CARLOS VARELA Y JUAREZ\",\"d\":\"Facultad de Contaduria \",\"m\":\"0\",\"c\":null},{\"i\":\"145027\",\"n\":\"Raymundo\",\"a\":\"Carmona\",\"d\":\"Humanidades\",\"m\":\"0\",\"c\":null},{\"i\":\"106956\",\"n\":\"Francisco\",\"a\":\"Carmona\",\"d\":\"Plascencia\",\"m\":\"0\",\"c\":null},{\"i\":\"85233\",\"n\":\"FELIPA BELEN\",\"a\":\"CARMONA  SANCHEZ\",\"d\":\"derecho\",\"m\":\"1\",\"c\":\"9.0000\"},{\"i\":\"153650\",\"n\":\"Saulo Gonzalo\",\"a\":\"Carmona Contreras\",\"d\":\"Matem\\\\u00e1ticas ENP 7\",\"m\":\"1\",\"c\":\"8.0000\"},{\"i\":\"158842\",\"n\":\"Uegenio\",\"a\":\"Caro mendoza\",\"d\":\"Fes aragon \",\"m\":\"0\",\"c\":null},{\"i\":\"152174\",\"n\":\"Jonathan\",\"a\":\"Carpio\",\"d\":\"Fez Acatlan \",\"m\":\"0\",\"c\":null},{\"i\":\"152175\",\"n\":\"Jonathan\",\"a\":\"Carpio\",\"d\":\"Fes Acatlan \",\"m\":\"0\",\"c\":null},{\"i\":\"160707\",\"n\":\"Badomero\",\"a\":\"Carrasco\",\"d\":\"Ingenier\\\\u00eda geologos \",\"m\":\"0\",\"c\":null},{\"i\":\"83911\",\"n\":\"Graciela\",\"a\":\"Carrasco L\\\\u00f3pez\",\"d\":\"FES Acatl\\\\u00e1n - Comunicaci\\\\u00f3n\",\"m\":\"3\",\"c\":\"9.0000\"},{\"i\":\"153652\",\"n\":\"Victor Hugo\",\"a\":\"Carrasco Ruiz\",\"d\":\"ENP 7 F\\\\u00edsica \",\"m\":\"1\",\"c\":\"6.0000\"},{\"i\":\"163929\",\"n\":\"Jos\\\\u00e9 Alejandro\",\"a\":\"Carrasco Ruiz\",\"d\":\"facmed\\\\/cirug\\\\u00eda \",\"m\":\"1\",\"c\":\"3.0000\"},{\"i\":\"19989\",\"n\":\"Gerardo\",\"a\":\"Carrasco Sosa\",\"d\":\"ECONOM\\\\u00cdA\",\"m\":\"7\",\"c\":\"5.7143\"},{\"i\":\"149339\",\"n\":\"Mirzam Andrea\",\"a\":\"Carreon Gonz\\\\u00e1lez\",\"d\":\"Facultad de quimica\",\"m\":\"0\",\"c\":null},{\"i\":\"156908\",\"n\":\"Cesar\",\"a\":\"Carreon Murillo\",\"d\":\"Escuela Nacional Preparatoria 2 Erasmo Castellanos\",\"m\":\"0\",\"c\":null},{\"i\":\"11228\",\"n\":\"Jorge\",\"a\":\"Carreto Sangines\",\"d\":\"Econom\\\\u00eda\",\"m\":\"41\",\"c\":\"7.0732\"},{\"i\":\"14937\",\"n\":\"Myrna \",\"a\":\"Carrillo Chav\\\\u00e9s\",\"d\":\"Fac. qu\\\\u00edmica\",\"m\":\"16\",\"c\":\"3.8125\"},{\"i\":\"14936\",\"n\":\"Myrna \",\"a\":\"Carrillo Chav\\\\u00e9s\",\"d\":\"Q. te\\\\u00f3rica\",\"m\":\"2\",\"c\":\"2.5000\"},{\"i\":\"56548\",\"n\":\"MYRNA TERESA\",\"a\":\"CARRILLO CHAVEZ\",\"d\":\"Qu\\\\u00edmica Inorg\\\\u00e1nica y Nuclear \",\"m\":\"5\",\"c\":\"5.8000\"},{\"i\":\"15895\",\"n\":\"Agustin\",\"a\":\"Carrillo Su\\\\u00e1rez\",\"d\":\"Derecho\",\"m\":\"2\",\"c\":\"5.5000\"},{\"i\":\"112288\",\"n\":\"Jorge\",\"a\":\"Carrillo velazquez\",\"d\":\"Derecho\",\"m\":\"0\",\"c\":null},{\"i\":\"126135\",\"n\":\"Silvana Beatriz\",\"a\":\"Casal Casal\",\"d\":\"Taller de lectura y redacci\\\\u00f3n \",\"m\":\"0\",\"c\":null},{\"i\":\"19762\",\"n\":\"ANGEL GABINO\",\"a\":\"CASALES LEON\",\"d\":\"PSICOLOGIA\",\"m\":\"2\",\"c\":\"10.0000\"},{\"i\":\"73153\",\"n\":\"Griselda\",\"a\":\"Casanova\",\"d\":\"\",\"m\":\"0\",\"c\":null},{\"i\":\"114171\",\"n\":\"Roc\\\\u00edo\",\"a\":\"Casas Palma\",\"d\":\"FCPyS\",\"m\":\"1\",\"c\":\"8.0000\"},{\"i\":\"14997\",\"n\":\"C\\\\u00e9sar\",\"a\":\"Casasola Castro\",\"d\":\"Psicolog\\\\u00eda\",\"m\":\"17\",\"c\":\"8.1765\"},{\"i\":\"60219\",\"n\":\"Cesar\",\"a\":\"Casillas\",\"d\":\"Econom\\\\u00eda \",\"m\":\"1\",\"c\":\"10.0000\"},{\"i\":\"20045\",\"n\":\"Oscar\",\"a\":\"Casillas Casillas\",\"d\":\"FCPyS Comunicaci\\\\u00f3n\",\"m\":\"5\",\"c\":\"6.2000\"},{\"i\":\"77310\",\"n\":\"Akira Gustavo\",\"a\":\"Casillas de la Vega\",\"d\":\"ENP 8 Miguel E. Schulz\",\"m\":\"9\",\"c\":\"5.1111\"},{\"i\":\"60645\",\"n\":\"MARTHA JANETTE\",\"a\":\"CASTA\\\\u00d1ED EMMERT\",\"d\":\"derecho sua\",\"m\":\"5\",\"c\":\"9.0000\"},{\"i\":\"14377\",\"n\":\"Gonz\\\\u00e1lez Elvia\",\"a\":\"Casta\\\\u00f1eda\",\"d\":\"Economia\",\"m\":\"18\",\"c\":\"8.8333\"},{\"i\":\"115632\",\"n\":\"FERNANDO\",\"a\":\"CASTA\\\\u00d1EDA BARAJAS\",\"d\":\"ESCUELA NACIONAL DE TRABAJO SOCIAL\",\"m\":\"1\",\"c\":\"10.0000\"},{\"i\":\"110660\",\"n\":\"Gustavo Eduardo\",\"a\":\"Casta\\\\u00f1eda Camacho\",\"d\":\"Facultad de Derecho, UNAM\",\"m\":\"96\",\"c\":\"9.4583\"},{\"i\":\"75590\",\"n\":\"Hector\",\"a\":\"Casta\\\\u00f1eda Coria\",\"d\":\"Facultad de Econom\\\\u00eda\",\"m\":\"84\",\"c\":\"8.5357\"},{\"i\":\"158695\",\"n\":\"Carlos Omar\",\"a\":\"Casta\\\\u00f1eda D\\\\u00edaz\",\"d\":\"Facultad de Ciencias \",\"m\":\"1\",\"c\":\"10.0000\"},{\"i\":\"14557\",\"n\":\"Mart\\\\u00edn\",\"a\":\"Casta\\\\u00f1eda Infante\",\"d\":\"Economia\",\"m\":\"2\",\"c\":\"6.0000\"},{\"i\":\"14556\",\"n\":\"Martin\",\"a\":\"Casta\\\\u00f1eda Infante\",\"d\":\"\",\"m\":\"0\",\"c\":null},{\"i\":\"149728\",\"n\":\"Iv\\\\u00e1n\",\"a\":\"Casta\\\\u00f1eda Jim\\\\u00e9nez\",\"d\":\"Enallt\",\"m\":\"1\",\"c\":\"10.0000\"},{\"i\":\"114008\",\"n\":\"Fernando Joaquin\",\"a\":\"Casta\\\\u00f1eda Maga\\\\u00f1a\",\"d\":\"Enep Aragon\",\"m\":\"0\",\"c\":null},{\"i\":\"114028\",\"n\":\"Fernando Joaquin\",\"a\":\"Casta\\\\u00f1eda Maga\\\\u00f1a\",\"d\":\"Matematicas\",\"m\":\"0\",\"c\":null},{\"i\":\"140866\",\"n\":\"Rafael\",\"a\":\"Casta\\\\u00d1eda Martin\",\"d\":\"Derecho\",\"m\":\"0\",\"c\":null},{\"i\":\"109337\",\"n\":\"Mar\\\\u00eda Denise\",\"a\":\"Casta\\\\u00f1eda Meza\",\"d\":\"DERECHO\",\"m\":\"1\",\"c\":\"10.0000\"},{\"i\":\"103037\",\"n\":\"Andr\\\\u00e9s Eli\\\\u00fa\",\"a\":\"Castell Rodr\\\\u00edguez\",\"d\":\"FACULTAD DE MEDICINA\",\"m\":\"2\",\"c\":\"10.0000\"},{\"i\":\"68273\",\"n\":\"jean francois\",\"a\":\"castellana\",\"d\":\" CELE Franc\\\\u00e9s\",\"m\":\"2\",\"c\":\"8.5000\"},{\"i\":\"86444\",\"n\":\"Lilia\",\"a\":\"Castellanos\",\"d\":\"Medina\",\"m\":\"0\",\"c\":null},{\"i\":\"140768\",\"n\":\"Ignacio\",\"a\":\"Castellanos gonzalez\",\"d\":\"Fes aragon\",\"m\":\"0\",\"c\":null},{\"i\":\"14418\",\"n\":\"Salvador\",\"a\":\"Castellanos Silva\",\"d\":\"Economia\",\"m\":\"21\",\"c\":\"7.3810\"},{\"i\":\"146657\",\"n\":\"VICTOR LUIS\",\"a\":\"CASTELLON CERVANTES\",\"d\":\"FACULTAD DE DERECHO\",\"m\":\"0\",\"c\":null},{\"i\":\"154399\",\"n\":\"Alejandro Ramon\",\"a\":\"Castelltort Espinola\",\"d\":\"Facultad de Derecho\\\\/ UNAM\",\"m\":\"2\",\"c\":\"4.5000\"},{\"i\":\"16334\",\"n\":\"Manelich\",\"a\":\"Castilla Craviotto\",\"d\":\"Derecho\",\"m\":\"14\",\"c\":\"9.0714\"},{\"i\":\"136351\",\"n\":\"Jorge Augusto\",\"a\":\"Castillo\",\"d\":\"Facultad de Econom\\\\u00eda \",\"m\":\"1\",\"c\":\"8.0000\"},{\"i\":\"91991\",\"n\":\"juan luis\",\"a\":\"castillo\",\"d\":\"gonzalez\",\"m\":\"1\",\"c\":\"4.0000\"},{\"i\":\"101787\",\"n\":\"Jaime\",\"a\":\"Castillo\",\"d\":\"Filosof\\\\u00eda y letras \",\"m\":\"1\",\"c\":\"6.0000\"},{\"i\":\"63580\",\"n\":\"Francisco Eleazar\",\"a\":\"Castillo Cerdas\",\"d\":\"\",\"m\":\"1\",\"c\":\"6.0000\"},{\"i\":\"14558\",\"n\":\"Gloria\",\"a\":\"Castillo Conde\",\"d\":\"Economia\",\"m\":\"12\",\"c\":\"5.0833\"},{\"i\":\"110435\",\"n\":\"Francisco Jose\",\"a\":\"Castillo Cort\\\\u00e9s\",\"d\":\"Anexo\",\"m\":\"0\",\"c\":null},{\"i\":\"159677\",\"n\":\"VICTOR JOSE\",\"a\":\"CASTILLO DE LA CUESTA\",\"d\":\"FACULTAD DE ARQUITECTURA. UNAM\",\"m\":\"0\",\"c\":null},{\"i\":\"159676\",\"n\":\"VICTOR JOSE\",\"a\":\"CASTILLO DE LA CUESTA\",\"d\":\"FACULTAD DE ARQUITECTURA \\\\/ SISTEMAS ESTRUCTURALES \",\"m\":\"0\",\"c\":null},{\"i\":\"125693\",\"n\":\"Mar\\\\u00eda de los Angeles\",\"a\":\"Castillo de Santiago\",\"d\":\"Acatl\\\\u00e1n\",\"m\":\"1\",\"c\":\"4.0000\"},{\"i\":\"20932\",\"n\":\"EFRAIN\",\"a\":\"CASTILLO DIAZ\",\"d\":\"Economia\",\"m\":\"18\",\"c\":\"4.3333\"},{\"i\":\"155416\",\"n\":\"Alan jovan\",\"a\":\"Castillo ferrer\",\"d\":\"Fes Acatl\\\\u00e1n \",\"m\":\"0\",\"c\":null},{\"i\":\"124837\",\"n\":\"Luis Victor\",\"a\":\"Castillo Garamendi\",\"d\":\"CCH Naucalpan \",\"m\":\"0\",\"c\":null},{\"i\":\"161166\",\"n\":\"Jos\\\\u00e9\",\"a\":\"Castillo Garc\\\\u00eda\",\"d\":\"Econom\\\\u00eda \",\"m\":\"0\",\"c\":null},{\"i\":\"59206\",\"n\":\"Jos\\\\u00e9\",\"a\":\"Castillo Garc\\\\u00eda\",\"d\":\"Facultad de Econom\\\\u00eda\",\"m\":\"25\",\"c\":\"6.3200\"},{\"i\":\"14378\",\"n\":\"Sergio\",\"a\":\"Castillo Loyola\",\"d\":\"Economia\",\"m\":\"46\",\"c\":\"6.3043\"},{\"i\":\"135181\",\"n\":\"Alejandro\",\"a\":\"Castillo Mac\\\\u00edas Alejandro\",\"d\":\"ESCUELA NACIONAL DEL TRABAJO SOCIAL\",\"m\":\"1\",\"c\":\"6.0000\"},{\"i\":\"105497\",\"n\":\"arminio\",\"a\":\"castillo marin\",\"d\":\"fes acatlan derecho\",\"m\":\"0\",\"c\":null},{\"i\":\"72066\",\"n\":\"lidi Elizabeth\",\"a\":\"castillo ruiz\",\"d\":\"fca\",\"m\":\"0\",\"c\":null},{\"i\":\"152512\",\"n\":\"Lidia Elizabeth\",\"a\":\"Castillo Ruiz\",\"d\":\"Facultad de Contadur\\\\u00eda y administraci\\\\u00f3n\",\"m\":\"0\",\"c\":null},{\"i\":\"111407\",\"n\":\"Mauricio\",\"a\":\"Castillo Silva\",\"d\":\"Facultad de Medicina\\\\/ Departamento de Salud P\\\\u00fablic\",\"m\":\"1\",\"c\":\"9.0000\"},{\"i\":\"111217\",\"n\":\"Amaranta Anai\",\"a\":\"Castro Espinosa\",\"d\":\"Facultad de Ciencias \",\"m\":\"0\",\"c\":null},{\"i\":\"155596\",\"n\":\"Cinthya Karina\",\"a\":\"Castro Garc\\\\u00eda\",\"d\":\"Escuela Nacional de Trabajo Social\",\"m\":\"2\",\"c\":\"10.0000\"},{\"i\":\"142086\",\"n\":\"Alberto\",\"a\":\"Castro Jaimes\",\"d\":\"Facultad de Econom\\\\u00eda \",\"m\":\"1\",\"c\":\"7.0000\"},{\"i\":\"14379\",\"n\":\"V\\\\u00edctor\",\"a\":\"Castro Palau\",\"d\":\"Economia\",\"m\":\"23\",\"c\":\"7.9565\"},{\"i\":\"157128\",\"n\":\"Myriam Guadalupe\",\"a\":\"Castro Ya\\\\u00f1ez\",\"d\":\"Escuela Nacional de Trabajo Social \",\"m\":\"2\",\"c\":\"9.5000\"},{\"i\":\"14380\",\"n\":\"Horacio\",\"a\":\"Catal\\\\u00e1n Alonso\",\"d\":\"Economia\",\"m\":\"29\",\"c\":\"6.3448\"},{\"i\":\"112841\",\"n\":\"GABRIEL\",\"a\":\"CATALAN QUINTO\",\"d\":\"Medicina\",\"m\":\"1\",\"c\":\"10.0000\"},{\"i\":\"19170\",\"n\":\"lousteau\",\"a\":\"caterine\",\"d\":\"cele\",\"m\":\"4\",\"c\":\"10.0000\"},{\"i\":\"122083\",\"n\":\"Myriam\",\"a\":\"Cazares gusman\",\"d\":\"Prepa 2\",\"m\":\"0\",\"c\":null},{\"i\":\"154820\",\"n\":\"Fernando\",\"a\":\"Ceciliano Velazquez\",\"d\":\"Facultad de Filosofia y Letras, Colegio de Histori\",\"m\":\"1\",\"c\":\"10.0000\"},{\"i\":\"135183\",\"n\":\"Mayte Montserrat\",\"a\":\"Cedillo\",\"d\":\"Fes aragon \",\"m\":\"1\",\"c\":\"2.0000\"},{\"i\":\"108433\",\"n\":\"Daniel\",\"a\":\"Cedillo\",\"d\":\"FCPyS\",\"m\":\"2\",\"c\":\"6.0000\"},{\"i\":\"159883\",\"n\":\"Rosa Isabel\",\"a\":\"Cedillo\",\"d\":\"Derecho\",\"m\":\"0\",\"c\":null},{\"i\":\"143094\",\"n\":\"Israel\",\"a\":\"Cedillo garcia\",\"d\":\"FMVZ\",\"m\":\"0\",\"c\":null},{\"i\":\"155806\",\"n\":\"EVA\",\"a\":\"CEDILLO SAN JUAN\",\"d\":\"DERECHO\",\"m\":\"1\",\"c\":\"10.0000\"},{\"i\":\"144986\",\"n\":\"rosa elvira\",\"a\":\"cedillo villar\",\"d\":\"ciencias pol\\\\u00edticas\",\"m\":\"1\",\"c\":\"9.0000\"},{\"i\":\"37568\",\"n\":\"Arrieta\",\"a\":\"Ceniceros\",\"d\":\"Lorenzo\",\"m\":\"1\",\"c\":\"8.0000\"},{\"i\":\"137903\",\"n\":\"Federico\",\"a\":\"Centeno Cruz\",\"d\":\"Cch oriente \",\"m\":\"1\",\"c\":\"10.0000\"},{\"i\":\"82205\",\"n\":\"Ricardo\",\"a\":\"Cerda Delgado\",\"d\":\"Historia de M\\\\u00e9xico\",\"m\":\"1\",\"c\":\"10.0000\"},{\"i\":\"150423\",\"n\":\"\\\\u00c1ngelo Fernando\",\"a\":\"Cerda Ponce\",\"d\":\"Facultad de Derecho UNAM CU\",\"m\":\"0\",\"c\":null},{\"i\":\"74111\",\"n\":\"Jesus\",\"a\":\"Cereceres\",\"d\":\"Facultad de Ciencias\",\"m\":\"2\",\"c\":\"4.5000\"},{\"i\":\"158303\",\"n\":\"Sandra Patricia\",\"a\":\"Cerezo Ram\\\\u00edrez\",\"d\":\"Arquitectura \",\"m\":\"0\",\"c\":null},{\"i\":\"154114\",\"n\":\"Jose\",\"a\":\"Ceron\",\"d\":\"Prepa 2\",\"m\":\"0\",\"c\":null},{\"i\":\"91838\",\"n\":\"Horacio\",\"a\":\"Cerutti Goldberg\",\"d\":\"Filosof\\\\u00eda\",\"m\":\"1\",\"c\":\"10.0000\"},{\"i\":\"139122\",\"n\":\"Julio\",\"a\":\"Cervantes\",\"d\":\"UNAM fac Derecho\",\"m\":\"1\",\"c\":\"2.0000\"},{\"i\":\"84079\",\"n\":\"Rene\",\"a\":\"Cervantes\",\"d\":\"Odontolog\\\\u00eda\",\"m\":\"0\",\"c\":null},{\"i\":\"156871\",\"n\":\"Jose\",\"a\":\"Cervantes\",\"d\":\"Derecho \",\"m\":\"0\",\"c\":null},{\"i\":\"14419\",\"n\":\"Elda\",\"a\":\"Cervantes Cabrera\",\"d\":\"Economia\",\"m\":\"22\",\"c\":\"6.4545\"},{\"i\":\"125544\",\"n\":\"ROCIO\",\"a\":\"CERVANTES CORONA\",\"d\":\"FES CUAUTITL\\\\u00c1N\",\"m\":\"2\",\"c\":\"7.0000\"},{\"i\":\"67984\",\"n\":\"Dulce Janet\",\"a\":\"Cervantes Fuentes\",\"d\":\"Preparatoria 2\",\"m\":\"4\",\"c\":\"4.2500\"},{\"i\":\"14904\",\"n\":\"facultad de ciencias\",\"a\":\"cervantes galindo\",\"d\":\"ciencias\",\"m\":\"0\",\"c\":null},{\"i\":\"83987\",\"n\":\"ERIKA\",\"a\":\"CERVANTES GONZALEZ\",\"d\":\"FES ACATLAN\",\"m\":\"3\",\"c\":\"10.0000\"},{\"i\":\"38799\",\"n\":\"German Ignacio\",\"a\":\"Cervantes Gonzalez\",\"d\":\"contaduria\\\\/administracion\",\"m\":\"3\",\"c\":\"9.0000\"},{\"i\":\"14504\",\"n\":\"Miguel\",\"a\":\"Cervantes Jimenez\",\"d\":\"Economia\",\"m\":\"186\",\"c\":\"7.6290\"},{\"i\":\"100526\",\"n\":\"Stephanie\",\"a\":\"Cervantes Manzo\",\"d\":\"Espa\\\\u00f1ol\",\"m\":\"1\",\"c\":\"10.0000\"},{\"i\":\"154666\",\"n\":\"Gabriela\",\"a\":\"Cervantes Piza\",\"d\":\"Ciencias \",\"m\":\"0\",\"c\":null},{\"i\":\"154631\",\"n\":\"Beatriz\",\"a\":\"Cervantes Quintana\",\"d\":\"Contadur\\\\u00eda \",\"m\":\"0\",\"c\":null},{\"i\":\"125142\",\"n\":\"dulce maria\",\"a\":\"cervantes rodriguez\",\"d\":\"derecho unam\",\"m\":\"0\",\"c\":null},{\"i\":\"19551\",\"n\":\"Alejandra\",\"a\":\"Cervantes Rojas\",\"d\":\"Prepa 3\",\"m\":\"2\",\"c\":\"9.5000\"},{\"i\":\"15016\",\"n\":\"Ernestina \",\"a\":\"Cervera\",\"d\":\"Fac. de Qu\\\\u00edmica\",\"m\":\"6\",\"c\":\"6.8333\"},{\"i\":\"144663\",\"n\":\"Ver\\\\u00f3nica\",\"a\":\"Cervera\",\"d\":\"Derecho\",\"m\":\"1\",\"c\":\"6.0000\"},{\"i\":\"147756\",\"n\":\"Manuel Eduardo\",\"a\":\"Chac\\\\u00f3n Ochoa\",\"d\":\"Facultad de Ciencias\",\"m\":\"2\",\"c\":\"3.5000\"},{\"i\":\"76378\",\"n\":\"Alvaro\",\"a\":\"Chaos\",\"d\":\"Ciencias\",\"m\":\"0\",\"c\":null},{\"i\":\"142521\",\"n\":\"monica\",\"a\":\"chapa\",\"d\":\"unam\",\"m\":\"0\",\"c\":null},{\"i\":\"14381\",\"n\":\"Juan Jorge\",\"a\":\"Chargoy Hern\\\\u00e1ndez\",\"d\":\"Economia\",\"m\":\"9\",\"c\":\"5.1111\"},{\"i\":\"161115\",\"n\":\"IRENE\",\"a\":\"CHAVARIN HERRERA\",\"d\":\"ADMINISTRACION\",\"m\":\"0\",\"c\":null},{\"i\":\"15397\",\"n\":\"La Panzona\",\"a\":\"Chavarri\",\"d\":\"Ingenieria\",\"m\":\"0\",\"c\":null},{\"i\":\"15396\",\"n\":\"La Panzona\",\"a\":\"Chavarri\",\"d\":\"Construcci\\\\u00f3n\",\"m\":\"1\",\"c\":\"10.0000\"},{\"i\":\"158404\",\"n\":\"Juana ines\",\"a\":\"Chavarria Castorena\",\"d\":\"Derecho \",\"m\":\"0\",\"c\":null},{\"i\":\"75581\",\"n\":\"CARLOS\",\"a\":\"CHAVARRIA ESPEJEL\",\"d\":\"fes aragon\",\"m\":\"0\",\"c\":null},{\"i\":\"81992\",\"n\":\"Sergio A.\",\"a\":\"Chavarr\\\\u00eda L\\\\u00f3pez\",\"d\":\"odontologia\",\"m\":\"0\",\"c\":null},{\"i\":\"33613\",\"n\":\"Moises Chav\\\\u00e9s\",\"a\":\"Chav\\\\u00e9s\",\"d\":\"FCPS\",\"m\":\"1\",\"c\":\"10.0000\"},{\"i\":\"163586\",\"n\":\"Martha Patricia\",\"a\":\"Ch\\\\u00e1ves Sosa\",\"d\":\"Comunicaci\\\\u00f3n\",\"m\":\"0\",\"c\":null},{\"i\":\"135679\",\"n\":\"Mar\\\\u00eda Imelda\",\"a\":\"Ch\\\\u00e1vez\",\"d\":\"Castillo\",\"m\":\"0\",\"c\":null},{\"i\":\"15077\",\"n\":\"Angel Enrique\",\"a\":\"Chavez \",\"d\":\"Ing. Qu\\\\u00edmica\",\"m\":\"6\",\"c\":\"7.8333\"},{\"i\":\"104803\",\"n\":\"Cecilia\",\"a\":\"Ch\\\\u00e1vez Aguilera\",\"d\":\"Facultad de Ciencias\",\"m\":\"8\",\"c\":\"8.0000\"},{\"i\":\"142147\",\"n\":\"Pablo David\",\"a\":\"Ch\\\\u00e1vez Carrizosa\",\"d\":\"Cch Naucalpan\",\"m\":\"0\",\"c\":null},{\"i\":\"155901\",\"n\":\"Juana Judith\",\"a\":\"Ch\\\\u00e1vez Espino\",\"d\":\"Colegio de ciencias y humanidades plantel Oriente \",\"m\":\"1\",\"c\":\"2.0000\"},{\"i\":\"161062\",\"n\":\"Lidia\",\"a\":\"Ch\\\\u00e1vez Fonseca\",\"d\":\"Derecho \",\"m\":\"0\",\"c\":null},{\"i\":\"54347\",\"n\":\"Jose Manuel\",\"a\":\"Chavez Gonzales\",\"d\":\"Derecho SUA\",\"m\":\"2\",\"c\":\"3.5000\"},{\"i\":\"108180\",\"n\":\"Nelly Lucero\",\"a\":\"Chavez Lara\",\"d\":\"FCPyS\",\"m\":\"0\",\"c\":null},{\"i\":\"117686\",\"n\":\"Elvia\",\"a\":\"Chavez lopez\",\"d\":\"No s\\\\u00e9 \",\"m\":\"1\",\"c\":\"10.0000\"},{\"i\":\"108875\",\"n\":\"ANA MARIA\",\"a\":\"CHAVEZ MAX CARDENAS\",\"d\":\"Arquitectura\",\"m\":\"5\",\"c\":\"4.4000\"},{\"i\":\"71975\",\"n\":\"nibardo adrian\",\"a\":\"chavez pati\\\\u00f1o\",\"d\":\"ingenieria\",\"m\":\"0\",\"c\":null},{\"i\":\"153800\",\"n\":\"Randy Dael\",\"a\":\"Ch\\\\u00e1vez Raymundo\",\"d\":\"Facultad de derecho \",\"m\":\"0\",\"c\":null},{\"i\":\"159968\",\"n\":\"Lucia\",\"a\":\"Ch\\\\u00e1vez Rivadeneyra\",\"d\":\"Ciencias Pol\\\\u00edticas y Sociales \",\"m\":\"0\",\"c\":null},{\"i\":\"84584\",\"n\":\"Paula\",\"a\":\"Ch\\\\u00e1vez Santamaria\",\"d\":\"Psicolog\\\\u00eda \",\"m\":\"0\",\"c\":null},{\"i\":\"149614\",\"n\":\"Efren\",\"a\":\"Chavez Sotelo\",\"d\":\"Fes Acatl\\\\u00e1n \",\"m\":\"0\",\"c\":null},{\"i\":\"125137\",\"n\":\"Adan\",\"a\":\"Chavez vasques\",\"d\":\"Facultad de ciencias pol\\\\u00edticas y sociales\",\"m\":\"0\",\"c\":null},{\"i\":\"140750\",\"n\":\"ADAN\",\"a\":\"CHAVEZ VAZQUEZ\",\"d\":\"Facultad de Ciencias Pol\\\\u00edticas y Sociales\",\"m\":\"3\",\"c\":\"8.3333\"},{\"i\":\"144627\",\"n\":\"MARISOL\",\"a\":\"CHICANO PEREZ\",\"d\":\"Derecho\",\"m\":\"0\",\"c\":null},{\"i\":\"29465\",\"n\":\"Ma. Teresa\",\"a\":\"Chicano Perez\",\"d\":\"Derecho\",\"m\":\"1\",\"c\":\"2.0000\"},{\"i\":\"162452\",\"n\":\"paula esther\",\"a\":\"chirinos Nogueron\",\"d\":\"Filosofia y letras\",\"m\":\"0\",\"c\":null},{\"i\":\"138145\",\"n\":\"Ignacio\",\"a\":\"Chiu\",\"d\":\"faculta de dercho\",\"m\":\"0\",\"c\":null},{\"i\":\"108417\",\"n\":\"Alejandro\",\"a\":\"Chong\",\"d\":\"FES Zaragoza psicolog\\\\u00eda\",\"m\":\"1\",\"c\":\"10.0000\"},{\"i\":\"160722\",\"n\":\"Isabel\",\"a\":\"Chong de la cruz\",\"d\":\"Filosof\\\\u00eda y letras\",\"m\":\"0\",\"c\":null},{\"i\":\"124514\",\"n\":\"Emerson\",\"a\":\"Chunga\",\"d\":\"Administraci\\\\u00f3n de Empresas\",\"m\":\"22\",\"c\":\"8.1818\"},{\"i\":\"63059\",\"n\":\"Jaime\",\"a\":\"Cicourel Solano\",\"d\":\"Facultad de Derecho\",\"m\":\"1\",\"c\":\"3.0000\"},{\"i\":\"78959\",\"n\":\"leticia oralia\",\"a\":\"cinta madrid\",\"d\":\"prepa 2\",\"m\":\"1\",\"c\":\"10.0000\"},{\"i\":\"134114\",\"n\":\"VARELA ALEJANDRA\",\"a\":\"CIRIA FERNANDEZ\",\"d\":\"Psicolog\\\\u00eda \",\"m\":\"0\",\"c\":null},{\"i\":\"124712\",\"n\":\"JUAN RABINDRANA\",\"a\":\"CISNEROS GARCIA\",\"d\":\"DERECHO\",\"m\":\"1\",\"c\":\"2.0000\"},{\"i\":\"85469\",\"n\":\"virginia\",\"a\":\"cisneros gutierrez\",\"d\":\"arquitectura\",\"m\":\"11\",\"c\":\"6.5455\"},{\"i\":\"111235\",\"n\":\"Luis\",\"a\":\"Cisneros sotelo\",\"d\":\"Medicina\",\"m\":\"1\",\"c\":\"10.0000\"},{\"i\":\"107157\",\"n\":\"Amador\",\"a\":\"Claudio viveros\",\"d\":\"Facultad de odontologia unam\",\"m\":\"1\",\"c\":\"10.0000\"},{\"i\":\"14559\",\"n\":\"Jose Luis\",\"a\":\"Clavellina Miller\",\"d\":\"Economia\",\"m\":\"21\",\"c\":\"8.5714\"},{\"i\":\"40711\",\"n\":\"Azalea\",\"a\":\"Clemente Balnco\",\"d\":\"Economia\",\"m\":\"1\",\"c\":\"10.0000\"},{\"i\":\"101344\",\"n\":\"Adriana\",\"a\":\"Clemente herrera\",\"d\":\"Medicina \",\"m\":\"0\",\"c\":null},{\"i\":\"11229\",\"n\":\"Manuel\",\"a\":\"Coello Castillo\",\"d\":\"Econom\\\\u00eda\",\"m\":\"57\",\"c\":\"6.7193\"},{\"i\":\"137746\",\"n\":\"rodolfo\",\"a\":\"coeto mota\",\"d\":\"contaduria\",\"m\":\"0\",\"c\":null},{\"i\":\"148050\",\"n\":\"Hilda Mar\\\\u00eda\",\"a\":\"Col\\\\u00edn Garc\\\\u00eda\",\"d\":\"Fes Cuautitl\\\\u00e1n\",\"m\":\"1\",\"c\":\"8.0000\"},{\"i\":\"113376\",\"n\":\"Ma eulalia\",\"a\":\"Colin martinez\",\"d\":\"Fes cuautitlan\",\"m\":\"3\",\"c\":\"2.0000\"},{\"i\":\"149820\",\"n\":\"Ricardo\",\"a\":\"Colina\",\"d\":\"Derecho\",\"m\":\"0\",\"c\":null},{\"i\":\"149551\",\"n\":\"Fernando\",\"a\":\"Colmenares Landin\",\"d\":\"Qu\\\\u00edmica\",\"m\":\"1\",\"c\":\"10.0000\"},{\"i\":\"71107\",\"n\":\"Fulvia\",\"a\":\"Colombo\",\"d\":\"Airoldi\",\"m\":\"0\",\"c\":null},{\"i\":\"71108\",\"n\":\"Fulvia\",\"a\":\"Colombo Airoldi\",\"d\":\"Facultad de Filosof\\\\u00eda y Letras UNAM\",\"m\":\"2\",\"c\":\"10.0000\"},{\"i\":\"42313\",\"n\":\"Elizabeth\",\"a\":\"Concha Ramirez\",\"d\":\"Economia\",\"m\":\"6\",\"c\":\"7.0000\"},{\"i\":\"149660\",\"n\":\"CRISTINA\",\"a\":\"CONDE ALVAREZ\",\"d\":\"Psicologia\",\"m\":\"1\",\"c\":\"10.0000\"},{\"i\":\"103798\",\"n\":\"Benjamin\",\"a\":\"Conde Castro\",\"d\":\"Medicina Im\\\\u00e1genologia\",\"m\":\"10\",\"c\":\"10.0000\"},{\"i\":\"109096\",\"n\":\"LUIS ABDALLAN\",\"a\":\"CONDE FLORES\",\"d\":\"Literatura dram\\\\u00e1tica y teatro\",\"m\":\"0\",\"c\":null},{\"i\":\"125667\",\"n\":\"Marcelino\",\"a\":\"Conde Flores\",\"d\":\"Facultad de Derecho\",\"m\":\"1\",\"c\":\"4.0000\"},{\"i\":\"100128\",\"n\":\"Jos\\\\u00e9 Ulises\",\"a\":\"Conde Peralta\",\"d\":\"Administraci\\\\u00f3n \",\"m\":\"0\",\"c\":null},{\"i\":\"124843\",\"n\":\"Arturo\",\"a\":\"Conejo sotelo\",\"d\":\"Fes Cuautitl\\\\u00e1n \",\"m\":\"1\",\"c\":\"2.0000\"},{\"i\":\"22330\",\"n\":\"UNAM\",\"a\":\"contreras\",\"d\":\"arquitectura\",\"m\":\"0\",\"c\":null},{\"i\":\"154815\",\"n\":\"Adriana\",\"a\":\"Contreras\",\"d\":\"Econom\\\\u00eda \",\"m\":\"0\",\"c\":null},{\"i\":\"62545\",\"n\":\"adriana\",\"a\":\"contreras  galindp\",\"d\":\"economia\",\"m\":\"1\",\"c\":\"7.0000\"},{\"i\":\"66475\",\"n\":\"ELISA\",\"a\":\"CONTRERAS ALCARAZ\",\"d\":\"PSICOLOGIA\",\"m\":\"1\",\"c\":\"8.0000\"},{\"i\":\"104510\",\"n\":\"Thalia\",\"a\":\"Contreras becerril\",\"d\":\"Economia\",\"m\":\"4\",\"c\":\"6.7500\"},{\"i\":\"160955\",\"n\":\"Ra\\\\u00fal\",\"a\":\"Contreras Bustamante\",\"d\":\"Derecho \",\"m\":\"1\",\"c\":\"6.0000\"},{\"i\":\"155968\",\"n\":\"Raul Julian\",\"a\":\"Contreras Bustamante\",\"d\":\"Raul Julian \",\"m\":\"0\",\"c\":null},{\"i\":\"114885\",\"n\":\"RAUL JUAN\",\"a\":\"CONTRERAS BUSTAMENTE\",\"d\":\"DERECHO\",\"m\":\"0\",\"c\":null},{\"i\":\"160936\",\"n\":\"Hern\\\\u00e1n\",\"a\":\"Contreras Figueroa\",\"d\":\"Idiomas\",\"m\":\"1\",\"c\":\"8.0000\"},{\"i\":\"148985\",\"n\":\"Juan Carlos\",\"a\":\"Contreras Licona\",\"d\":\"Ingenier\\\\u00eda\",\"m\":\"0\",\"c\":null},{\"i\":\"151827\",\"n\":\"Fernando Esteban\",\"a\":\"Contreras Mendoza\",\"d\":\"Facultad de Ciencias\",\"m\":\"1\",\"c\":\"10.0000\"},{\"i\":\"89840\",\"n\":\"Felipe\",\"a\":\"Contreras Molotla\",\"d\":\"Cienias Pol\\\\u00ecticas y Sociales\",\"m\":\"7\",\"c\":\"7.2857\"},{\"i\":\"140396\",\"n\":\"Beatriz Patricia\",\"a\":\"Contreras palmas\",\"d\":\"Derecho\",\"m\":\"0\",\"c\":null},{\"i\":\"141865\",\"n\":\"Jesus Antonio\",\"a\":\"Contreras Ram\\\\u00edrez\",\"d\":\"Facultad de ingenier\\\\u00eda\",\"m\":\"0\",\"c\":null},{\"i\":\"139087\",\"n\":\"Benjam\\\\u00edn\",\"a\":\"Contreras Santacruz\",\"d\":\"FESC UNAM Electr\\\\u00f3nica\",\"m\":\"1\",\"c\":\"2.0000\"},{\"i\":\"14469\",\"n\":\"Jos\\\\u00e9 Mario\",\"a\":\"Contreras Valdez\",\"d\":\"Economia\",\"m\":\"22\",\"c\":\"8.0000\"},{\"i\":\"161441\",\"n\":\"javier\",\"a\":\"contreras vazquez\",\"d\":\"derecho\",\"m\":\"0\",\"c\":null},{\"i\":\"154318\",\"n\":\"Eduardo Gonzalo\",\"a\":\"Corche Varela\",\"d\":\"Fes Aragon\",\"m\":\"0\",\"c\":null},{\"i\":\"14560\",\"n\":\"Rolando\",\"a\":\"Cordera Campos\",\"d\":\"Economia\",\"m\":\"28\",\"c\":\"6.2500\"},{\"i\":\"149984\",\"n\":\"Jes\\\\u00fas Daniel\",\"a\":\"Cordero V\\\\u00e1zquez\",\"d\":\"Fes acatlan\",\"m\":\"2\",\"c\":\"6.5000\"},{\"i\":\"14561\",\"n\":\"Alfredo\",\"a\":\"Cordoba Kuthy\",\"d\":\"Economia\",\"m\":\"49\",\"c\":\"7.6939\"},{\"i\":\"155896\",\"n\":\"Martha Elena\",\"a\":\"C\\\\u00f3rdoba Roldan\",\"d\":\"Derecho \",\"m\":\"0\",\"c\":null},{\"i\":\"62278\",\"n\":\"Alejandro\",\"a\":\"Cordova Olvera\",\"d\":\"Facultad de ciencias\\\\/UNAM Matematicas\",\"m\":\"6\",\"c\":\"8.1667\"},{\"i\":\"133883\",\"n\":\"Blanca Ivette\",\"a\":\"Cordova Paz\",\"d\":\"Qu\\\\u00edmica \",\"m\":\"2\",\"c\":\"4.0000\"},{\"i\":\"149706\",\"n\":\"Gilberto\",\"a\":\"Coria\",\"d\":\"Facultad de Contadur\\\\u00eda y Administraci\\\\u00f3n \",\"m\":\"1\",\"c\":\"3.0000\"},{\"i\":\"75113\",\"n\":\"antonio\",\"a\":\"coria valencia\",\"d\":\"\",\"m\":\"5\",\"c\":\"9.8000\"},{\"i\":\"144746\",\"n\":\"Ezequiel\",\"a\":\"CORNEJO Cabrera\",\"d\":\"Ciencias pol\\\\u00edticas y admiraci\\\\u00f3n publica\",\"m\":\"0\",\"c\":null},{\"i\":\"23566\",\"n\":\"Salvador\",\"a\":\"Cornejo Duran\",\"d\":\"\",\"m\":\"1\",\"c\":\"10.0000\"},{\"i\":\"60799\",\"n\":\"Mariana\",\"a\":\"Cornejo Granados\",\"d\":\"Factoes humanos para la comunicaci\\\\u00f3n visual\",\"m\":\"8\",\"c\":\"7.3750\"},{\"i\":\"155601\",\"n\":\"Aczel Fernando\",\"a\":\"Cornejo P\\\\u00e9rez\",\"d\":\"Escuela Nacional de Trabajo Social\",\"m\":\"1\",\"c\":\"5.0000\"},{\"i\":\"158094\",\"n\":\"Aczel Fernando\",\"a\":\"Cornejo P\\\\u00e9rez\",\"d\":\"Trabajo Social \",\"m\":\"0\",\"c\":null},{\"i\":\"16145\",\"n\":\"Isaac\",\"a\":\"Corona\",\"d\":\"Facultad de Contaduria y Administracion\",\"m\":\"5\",\"c\":\"8.4000\"},{\"i\":\"127507\",\"n\":\"Lucua\",\"a\":\"Corona arias\",\"d\":\"Derecho\",\"m\":\"1\",\"c\":\"3.0000\"},{\"i\":\"110990\",\"n\":\"Claudia\",\"a\":\"Corona Cabrera\",\"d\":\"FES Arag\\\\u00f3n\",\"m\":\"0\",\"c\":null},{\"i\":\"163976\",\"n\":\"LAURA ALICIA\",\"a\":\"CORONA CABREREA\",\"d\":\"FAD posgrado\",\"m\":\"1\",\"c\":\"6.0000\"},{\"i\":\"138779\",\"n\":\"Jos\\\\u00e9 luis\",\"a\":\"Corona fuentes\",\"d\":\"Derecho\",\"m\":\"0\",\"c\":null},{\"i\":\"14420\",\"n\":\"Pedro Rafael\",\"a\":\"Corona Guerrero\",\"d\":\"Economia\",\"m\":\"14\",\"c\":\"5.7143\"},{\"i\":\"11230\",\"n\":\"Alfonso\",\"a\":\"Corona Renter\\\\u00eda\",\"d\":\"Econom\\\\u00eda\",\"m\":\"2\",\"c\":\"10.0000\"},{\"i\":\"58105\",\"n\":\"Leonel\",\"a\":\"Corona Trevi\\\\u00f1o\",\"d\":\"Economia\",\"m\":\"14\",\"c\":\"4.1429\"},{\"i\":\"99780\",\"n\":\"Nancy Ruth\",\"a\":\"Coronado Cordero\",\"d\":\"Facultad de Derecho\",\"m\":\"3\",\"c\":\"4.3333\"},{\"i\":\"76363\",\"n\":\"Artemio\",\"a\":\"Coronel Martinez\",\"d\":\"Facultad de Contaduria y Administracion\",\"m\":\"3\",\"c\":\"3.0000\"},{\"i\":\"71640\",\"n\":\"armando\",\"a\":\"corranco\",\"d\":\"hernandez\",\"m\":\"0\",\"c\":null},{\"i\":\"100604\",\"n\":\"Fabiola\",\"a\":\"Correa Jimenez\",\"d\":\"facultad de ciencias politicas y sociales UNAM\",\"m\":\"8\",\"c\":\"7.0000\"},{\"i\":\"20747\",\"n\":\"Erick Abraham\",\"a\":\"Correa Montejo\",\"d\":\"\",\"m\":\"23\",\"c\":\"8.9565\"},{\"i\":\"129222\",\"n\":\"Claudia\",\"a\":\"Correa Santiago\",\"d\":\"Facultad de ingenier\\\\u00eda \",\"m\":\"1\",\"c\":\"10.0000\"},{\"i\":\"16724\",\"n\":\"Mar\\\\u00eda\",\"a\":\"Corsi Cabrera\",\"d\":\"psicofisiolog\\\\u00eda\",\"m\":\"2\",\"c\":\"10.0000\"},{\"i\":\"23197\",\"n\":\"Mauricio\",\"a\":\"Cortes\",\"d\":\"fcpys\",\"m\":\"1\",\"c\":\"9.0000\"},{\"i\":\"126884\",\"n\":\"Ricardo\",\"a\":\"Cortes\",\"d\":\"Ciencias pol\\\\u00edticas y sociales\",\"m\":\"0\",\"c\":null},{\"i\":\"138846\",\"n\":\"Abel Humberto\",\"a\":\"Cort\\\\u00e9s Arce\",\"d\":\"Fisica y quimica te\\\\u00f3rica\",\"m\":\"1\",\"c\":\"5.0000\"},{\"i\":\"23205\",\"n\":\"ALEJANDRO\",\"a\":\"CORTES CORTES\",\"d\":\"INGENIERIA PETROLERA\",\"m\":\"24\",\"c\":\"5.6250\"},{\"i\":\"100317\",\"n\":\"Carlos Brandon\",\"a\":\"Cortes Cortina\",\"d\":\"Facultad de Ciencias\",\"m\":\"4\",\"c\":\"9.2500\"},{\"i\":\"109257\",\"n\":\"eduardo\",\"a\":\"cortes fuentes\",\"d\":\"derecho unam\",\"m\":\"0\",\"c\":null},{\"i\":\"14952\",\"n\":\"Fernando\",\"a\":\"Cortes Guzman\",\"d\":\"Fac. Quimica\",\"m\":\"15\",\"c\":\"7.6667\"},{\"i\":\"161596\",\"n\":\"Veronica Daniel\",\"a\":\"Cortes Madrigal\",\"d\":\"FESC\",\"m\":\"1\",\"c\":\"4.0000\"},{\"i\":\"149467\",\"n\":\"Yuriria\",\"a\":\"Cortes Poza\",\"d\":\"IIMAS M\\\\u00e9rida\",\"m\":\"1\",\"c\":\"10.0000\"},{\"i\":\"156058\",\"n\":\"Maria del Carmen\",\"a\":\"Cortes Quiroz\",\"d\":\"FES Zaragoza \",\"m\":\"1\",\"c\":\"10.0000\"},{\"i\":\"65201\",\"n\":\"JORGE\",\"a\":\"CORTES RAMOS\",\"d\":\"CIENCIAS DE LA TIERRA\",\"m\":\"9\",\"c\":\"3.8889\"},{\"i\":\"135918\",\"n\":\"Mario Manuel\",\"a\":\"Cort\\\\u00e9s Ramos\",\"d\":\"F\\\\u00edsica \",\"m\":\"1\",\"c\":\"10.0000\"},{\"i\":\"139697\",\"n\":\"Cesar Noe\",\"a\":\"Cortes Rubio\",\"d\":\"Inmunologia \",\"m\":\"13\",\"c\":\"9.8462\"},{\"i\":\"44347\",\"n\":\"Tom\\\\u00e1s\",\"a\":\"Cort\\\\u00e9s Sol\\\\u00eds\",\"d\":\"Psciologia\",\"m\":\"7\",\"c\":\"8.8571\"},{\"i\":\"67696\",\"n\":\"Enrique Cortes V\\\\u00e1zquez\",\"a\":\"Cort\\\\u00e9s V\\\\u00e1zquez\",\"d\":\"Iztacala Psicolog\\\\u00eda\",\"m\":\"1\",\"c\":\"4.0000\"},{\"i\":\"38002\",\"n\":\"sixtos\",\"a\":\"coss\",\"d\":\"patricio\",\"m\":\"1\",\"c\":\"10.0000\"},{\"i\":\"59749\",\"n\":\"Maria Reyna\",\"a\":\"Coss Garcia\",\"d\":\"Contadur\\\\u00eda\",\"m\":\"4\",\"c\":\"7.7500\"},{\"i\":\"138795\",\"n\":\"Jos\\\\u00e9 Carlos\",\"a\":\"Costa murillo\",\"d\":\"Arquitectura \",\"m\":\"0\",\"c\":null},{\"i\":\"37998\",\"n\":\"Mar\\\\u00eda Eugenia\",\"a\":\"Costas Bas\\\\u00edn\",\"d\":\"Facultad de Qu\\\\u00edmica\",\"m\":\"17\",\"c\":\"9.3529\"},{\"i\":\"160668\",\"n\":\"jose enrique\",\"a\":\"Covarrubias\",\"d\":\"filosofia y letras\",\"m\":\"0\",\"c\":null},{\"i\":\"105014\",\"n\":\"Santiago\",\"a\":\"Creel\",\"d\":\"Facultad de derecho \",\"m\":\"8\",\"c\":\"8.1250\"},{\"i\":\"104223\",\"n\":\"Pedro\",\"a\":\"Cruz\",\"d\":\"Histoeia\",\"m\":\"0\",\"c\":null},{\"i\":\"110844\",\"n\":\"Gloria\",\"a\":\"Cruz\",\"d\":\"Fesc cuauritlan\",\"m\":\"0\",\"c\":null},{\"i\":\"124416\",\"n\":\"Ernesto\",\"a\":\"Cruz\",\"d\":\"Facultad de Ciencias\",\"m\":\"1\",\"c\":\"9.0000\"},{\"i\":\"98950\",\"n\":\"Alejandra\",\"a\":\"Cruz\",\"d\":\"Psicolog\\\\u00eda \",\"m\":\"0\",\"c\":null},{\"i\":\"125126\",\"n\":\"maria elena\",\"a\":\"cruz\",\"d\":\"sauza\",\"m\":\"2\",\"c\":\"9.0000\"},{\"i\":\"15117\",\"n\":\"Georgina\",\"a\":\"Cruz\",\"d\":\"medicina\",\"m\":\"1\",\"c\":\"10.0000\"},{\"i\":\"150159\",\"n\":\"Lourdes Susana\",\"a\":\"Cruz Aguilar\",\"d\":\"Facultad de Ciencias UNAM\",\"m\":\"2\",\"c\":\"10.0000\"},{\"i\":\"150066\",\"n\":\"Lourdes Susana\",\"a\":\"Cruz Aguilar\",\"d\":\"Ciencias\",\"m\":\"0\",\"c\":null},{\"i\":\"158036\",\"n\":\"Adan\",\"a\":\"Cruz Bencomo\",\"d\":\"Lengua espa\\\\u00f1ola\",\"m\":\"1\",\"c\":\"8.0000\"},{\"i\":\"161026\",\"n\":\"GERARDO\",\"a\":\"Cruz Flores\",\"d\":\"Fes Zaragoza \",\"m\":\"0\",\"c\":null},{\"i\":\"14382\",\"n\":\"Lorenzo Loreto\",\"a\":\"Cruz Hern\\\\u00e1ndez\",\"d\":\"Economia\",\"m\":\"20\",\"c\":\"9.1000\"},{\"i\":\"75576\",\"n\":\"chisel nayally\",\"a\":\"cruz ibarra\",\"d\":\"arquitectura\",\"m\":\"1\",\"c\":\"10.0000\"},{\"i\":\"132710\",\"n\":\"Miguel\",\"a\":\"Cruz Mancillas\",\"d\":\"Facultad de economia\",\"m\":\"8\",\"c\":\"9.3750\"},{\"i\":\"156574\",\"n\":\"Jose Nabor\",\"a\":\"Cruz Marcelo\",\"d\":\"Economia \",\"m\":\"0\",\"c\":null},{\"i\":\"162879\",\"n\":\"Ricardo\",\"a\":\"Cruz Mej\\\\u00eda\",\"d\":\"Prepa 9\",\"m\":\"0\",\"c\":null},{\"i\":\"82392\",\"n\":\"Ricardo\",\"a\":\"Cruz Mej\\\\u00eda\",\"d\":\"ENP 9\",\"m\":\"14\",\"c\":\"5.2143\"},{\"i\":\"63915\",\"n\":\"Luis Daniel\",\"a\":\"Cruz Monroy\",\"d\":\"Facultad de Ciencias Pol\\\\u00edticas y Sociales\",\"m\":\"8\",\"c\":\"9.8750\"},{\"i\":\"126351\",\"n\":\"Fermin Ali\",\"a\":\"Cruz Mu\\\\u00f1oz\",\"d\":\"Facultad de arquitectura\",\"m\":\"6\",\"c\":\"4.5000\"},{\"i\":\"142051\",\"n\":\"Xochitl\",\"a\":\"Cruz N\\\\u00fa\\\\u00f1ez\",\"d\":\"Facultad de Ciencias UNAM \",\"m\":\"3\",\"c\":\"5.3333\"},{\"i\":\"146398\",\"n\":\"Sergio\",\"a\":\"Cruz Ortiz\",\"d\":\"Fes zaragoza \",\"m\":\"0\",\"c\":null},{\"i\":\"80385\",\"n\":\"Alejandro\",\"a\":\"Cruz Osorio\",\"d\":\"Facultad de Ciencias\",\"m\":\"1\",\"c\":\"9.0000\"},{\"i\":\"142317\",\"n\":\"Felipe\",\"a\":\"Cruz Perez\",\"d\":\"Facultad de Psicologia\",\"m\":\"2\",\"c\":\"8.0000\"},{\"i\":\"141814\",\"n\":\"Adolfo\",\"a\":\"Cruz Resendiz\",\"d\":\"Facultad de Ciencias\",\"m\":\"1\",\"c\":\"8.0000\"},{\"i\":\"80939\",\"n\":\"Gerardo\",\"a\":\"cruz reyes\",\"d\":\"Facultad de ciencias politicas y sociales\",\"m\":\"0\",\"c\":null},{\"i\":\"70235\",\"n\":\"Rebeca\",\"a\":\"Cruz Rojas\",\"d\":\"CCH AAZCAPOTZALCO\",\"m\":\"2\",\"c\":\"10.0000\"},{\"i\":\"60667\",\"n\":\"FERNANDO\",\"a\":\"CRUZ TERAN\",\"d\":\"BIOLOGO\",\"m\":\"11\",\"c\":\"6.9091\"},{\"i\":\"73259\",\"n\":\"carlos\",\"a\":\"cruzado\",\"d\":\"cch naucalpan \",\"m\":\"5\",\"c\":\"10.0000\"},{\"i\":\"157222\",\"n\":\"Er\\\\u00e9ndira\",\"a\":\"Cruzvillegas Fuentes\",\"d\":\"Derecho\",\"m\":\"1\",\"c\":\"2.0000\"},{\"i\":\"152178\",\"n\":\"Berenice\",\"a\":\"Cuatepotzo\",\"d\":\"Quimica\",\"m\":\"0\",\"c\":null},{\"i\":\"157444\",\"n\":\"Sergio Ra\\\\u00fal\",\"a\":\"Cuellar\",\"d\":\"Arquitectura\",\"m\":\"0\",\"c\":null},{\"i\":\"164219\",\"n\":\"Rub\\\\u00e9n\",\"a\":\"Cuellar Laureano\",\"d\":\"Facultad de Ciencias Pol\\\\u00edticas y Sociales UNAM\",\"m\":\"1\",\"c\":\"9.0000\"},{\"i\":\"126480\",\"n\":\"Ovidio\",\"a\":\"Cuellar Ocampo\",\"d\":\"Facultad de Arquitectura\",\"m\":\"7\",\"c\":\"9.8571\"},{\"i\":\"157445\",\"n\":\"Ra\\\\u00fal Sergio\",\"a\":\"Cuellar Sanchez\",\"d\":\"Arquitectura\",\"m\":\"0\",\"c\":null},{\"i\":\"163496\",\"n\":\"Leonel\",\"a\":\"Cuellar zaragoza\",\"d\":\"Maestria\",\"m\":\"0\",\"c\":null},{\"i\":\"157443\",\"n\":\"Sergio Ra\\\\u00fal\",\"a\":\"Cuellas\",\"d\":\"Arquitectura\",\"m\":\"0\",\"c\":null},{\"i\":\"155883\",\"n\":\"Carlos Edmundo\",\"a\":\"Cuenca\",\"d\":\"Derecho\",\"m\":\"0\",\"c\":null},{\"i\":\"156624\",\"n\":\"Apolinar eduardo\",\"a\":\"Cuervo\",\"d\":\"Arag\\\\u00f3n\",\"m\":\"0\",\"c\":null},{\"i\":\"14470\",\"n\":\"Marcos Agust\\\\u00edn\",\"a\":\"Cueva Perus\",\"d\":\"Economia\",\"m\":\"29\",\"c\":\"9.5172\"},{\"i\":\"158578\",\"n\":\"Ana Leticia\",\"a\":\"cuevas\",\"d\":\"cch sur\",\"m\":\"0\",\"c\":null},{\"i\":\"104290\",\"n\":\"Jes\\\\u00fas Aurelio\",\"a\":\"Cuevas D\\\\u00edaz\",\"d\":\"FCPyS\",\"m\":\"1\",\"c\":\"4.0000\"},{\"i\":\"161461\",\"n\":\"Ana Laura\",\"a\":\"Cuevas Jaimes\",\"d\":\"Facultad de Derecho \",\"m\":\"1\",\"c\":\"9.0000\"},{\"i\":\"122890\",\"n\":\"Cristian\",\"a\":\"Cuevas Morales\",\"d\":\"Facultad de Ciencias\",\"m\":\"4\",\"c\":\"5.5000\"},{\"i\":\"156231\",\"n\":\"Carlos\",\"a\":\"Cuevas Ortiz\",\"d\":\"Fes arag\\\\u00f3n\",\"m\":\"0\",\"c\":null},{\"i\":\"15001\",\"n\":\"Corina Margarita\",\"a\":\"Cuevas Renaud\",\"d\":\"Psicolog\\\\u00eda\",\"m\":\"5\",\"c\":\"8.6000\"},{\"i\":\"105688\",\"n\":\"Ignacio\",\"a\":\"Cuevas Villalobos\",\"d\":\"Biolog\\\\u00eda \",\"m\":\"1\",\"c\":\"10.0000\"},{\"i\":\"22160\",\"n\":\"Mar\\\\u00eda del Carmen\",\"a\":\"Curc\\\\u00f3\",\"d\":\"CELE  Instituto de Filos\\\\u00f3ficas\",\"m\":\"5\",\"c\":\"10.0000\"},{\"i\":\"109117\",\"n\":\"efrain\",\"a\":\"cutberto\",\"d\":\"ENTS\",\"m\":\"0\",\"c\":null},{\"i\":\"16410\",\"n\":\"df\",\"a\":\"d\",\"d\":\"\",\"m\":\"0\",\"c\":null},{\"i\":\"98099\",\"n\":\"Dann\",\"a\":\"D.C\",\"d\":\"CCH Azcapotzalco\",\"m\":\"0\",\"c\":null},{\"i\":\"22875\",\"n\":\"Alejandro Ulises\",\"a\":\"Dabat Latrubesse\",\"d\":\"Econom\\\\u00eda\",\"m\":\"5\",\"c\":\"7.4000\"},{\"i\":\"106803\",\"n\":\"Luc\\\\u00eda Ang\\\\u00e9lica\",\"a\":\"Dami\\\\u00e1n\",\"d\":\"FFyL\",\"m\":\"1\",\"c\":\"2.0000\"},{\"i\":\"108598\",\"n\":\"Victor Alberto\",\"a\":\"Damian Loya\",\"d\":\"fCPyS\",\"m\":\"0\",\"c\":null},{\"i\":\"113739\",\"n\":\"LUIS HORACIO\",\"a\":\"Daniel Moreno\",\"d\":\"Ciencias politicas y sociales \",\"m\":\"1\",\"c\":\"7.0000\"},{\"i\":\"124228\",\"n\":\"Daniel\",\"a\":\"Daou Ornelas\",\"d\":\"Facultad de Arquitectura\",\"m\":\"1\",\"c\":\"10.0000\"},{\"i\":\"14562\",\"n\":\"Elisa\",\"a\":\"Davalos Lopez\",\"d\":\"Economia\",\"m\":\"0\",\"c\":null},{\"i\":\"51225\",\"n\":\"Mar\\\\u00eda Elena Nancy\",\"a\":\"D\\\\u00e1vila Moreno\",\"d\":\"Econom\\\\u00eda\",\"m\":\"2\",\"c\":\"10.0000\"},{\"i\":\"109880\",\"n\":\"Rub\\\\u00e9n\",\"a\":\"D\\\\u00e1vila Rojas\",\"d\":\"Facultad de Derecho\",\"m\":\"1\",\"c\":\"3.0000\"},{\"i\":\"133338\",\"n\":\"Moises\",\"a\":\"D\\\\u00e1vila Serrano\",\"d\":\"Facultad de Ingenier\\\\u00eda\\\\/DICT\",\"m\":\"1\",\"c\":\"10.0000\"},{\"i\":\"86893\",\"n\":\"PABLO\",\"a\":\"DAVILA SILVA\",\"d\":\"prepa 9\",\"m\":\"0\",\"c\":null},{\"i\":\"14421\",\"n\":\"Selva Leonor\",\"a\":\"Daville Landero\",\"d\":\"Economia\",\"m\":\"4\",\"c\":\"7.5000\"},{\"i\":\"149035\",\"n\":\"Carlos H\\\\u00e9ctor\",\"a\":\"Daza\",\"d\":\"Zaragoza \",\"m\":\"0\",\"c\":null},{\"i\":\"149036\",\"n\":\"Carlos H\\\\u00e9ctor\",\"a\":\"Daza Zaragoza\",\"d\":\"Facultad de Derecho\",\"m\":\"2\",\"c\":\"9.0000\"},{\"i\":\"130925\",\"n\":\"Marisol\",\"a\":\"de diego correa\",\"d\":\"psicologia\",\"m\":\"0\",\"c\":null},{\"i\":\"82026\",\"n\":\"luis\",\"a\":\"de la barreda\",\"d\":\"derecho\",\"m\":\"0\",\"c\":null},{\"i\":\"144845\",\"n\":\"leodegaria\",\"a\":\"de la cruz\",\"d\":\"cch\",\"m\":\"1\",\"c\":\"2.0000\"},{\"i\":\"145209\",\"n\":\"Rom\\\\u00e1n Mario\",\"a\":\"De la Cruz G\\\\u00f3mez\",\"d\":\"Lab. Instrumentaci\\\\u00f3n \",\"m\":\"0\",\"c\":null},{\"i\":\"83216\",\"n\":\"Mar\\\\u00eda Isabel\",\"a\":\"De la Cruz Laina\",\"d\":\"Ciencias\",\"m\":\"10\",\"c\":\"7.0000\"},{\"i\":\"81283\",\"n\":\"jose reyes\",\"a\":\"de la cruz morales\",\"d\":\"medicina\",\"m\":\"0\",\"c\":null},{\"i\":\"87877\",\"n\":\"Ileana\",\"a\":\"de la cruz salgado\",\"d\":\"Fcpys\",\"m\":\"4\",\"c\":\"6.0000\"},{\"i\":\"124871\",\"n\":\"Blanca Lourdes\",\"a\":\"De la cueva barajas\",\"d\":\"CCH sur\",\"m\":\"1\",\"c\":\"10.0000\"},{\"i\":\"15880\",\"n\":\"Jesus\",\"a\":\"De la Fuente\",\"d\":\"Derecho\",\"m\":\"4\",\"c\":\"9.0000\"},{\"i\":\"142977\",\"n\":\"Jorge Fern\\\\u00e1ndez\",\"a\":\"De la fuente martinez\",\"d\":\"Unam\",\"m\":\"0\",\"c\":null},{\"i\":\"15921\",\"n\":\"Emilio\",\"a\":\"de la Fuente Severiano\",\"d\":\"Economia\",\"m\":\"7\",\"c\":\"3.7143\"},{\"i\":\"105516\",\"n\":\"Mirian Margarita\",\"a\":\"De la Llera\",\"d\":\"Villena\",\"m\":\"1\",\"c\":\"2.0000\"},{\"i\":\"124421\",\"n\":\"Nadia\",\"a\":\"De la Luz\",\"d\":\"fca\",\"m\":\"0\",\"c\":null},{\"i\":\"113721\",\"n\":\"Asuncion\",\"a\":\"De la o\",\"d\":\"FCA\",\"m\":\"0\",\"c\":null},{\"i\":\"14436\",\"n\":\"Rodolfo\",\"a\":\"De La O Hern\\\\u00e1ndez\",\"d\":\"Economia\",\"m\":\"25\",\"c\":\"3.9600\"},{\"i\":\"132227\",\"n\":\"Rogelio Manuel\",\"a\":\"De la Puente Solano\",\"d\":\"Medicina \",\"m\":\"0\",\"c\":null},{\"i\":\"62487\",\"n\":\"Ra\\\\u00fal\",\"a\":\"De La Rosa\",\"d\":\"Ingenier\\\\u00eda\",\"m\":\"1\",\"c\":\"9.0000\"},{\"i\":\"122165\",\"n\":\"Oliver\",\"a\":\"De la Rosa\",\"d\":\"ENP 6\",\"m\":\"1\",\"c\":\"10.0000\"},{\"i\":\"156929\",\"n\":\"Pedro Juan\",\"a\":\"De La Rosa Ahedo\",\"d\":\"Fes Aragon\",\"m\":\"1\",\"c\":\"10.0000\"},{\"i\":\"160999\",\"n\":\"Victor Aaron\",\"a\":\"De la Rosa Barajas\",\"d\":\"Cch Vallejo \",\"m\":\"0\",\"c\":null},{\"i\":\"135544\",\"n\":\"Gabino\",\"a\":\"De la Rosa Cruz\",\"d\":\"Facultad de Ciencias\",\"m\":\"3\",\"c\":\"6.0000\"},{\"i\":\"127216\",\"n\":\"Angel\",\"a\":\"De la Vega Navarro\",\"d\":\"Facultad de Econolia\",\"m\":\"0\",\"c\":null},{\"i\":\"161682\",\"n\":\"JOSE ANGEL FELIX\",\"a\":\"DE LA VEGA NAVARRO\",\"d\":\"ECONOMIA\",\"m\":\"0\",\"c\":null},{\"i\":\"14537\",\"n\":\"Angel\",\"a\":\"de la Vega Navarro\",\"d\":\"Economia\",\"m\":\"18\",\"c\":\"6.8333\"},{\"i\":\"72332\",\"n\":\"Alfonso\",\"a\":\"De la vega pimentel\",\"d\":\"Derecho\",\"m\":\"0\",\"c\":null},{\"i\":\"109664\",\"n\":\"Alejandro\",\"a\":\"De las Pe\\\\u00f1as Casta\\\\u00f1o\",\"d\":\"Ciencias\",\"m\":\"0\",\"c\":null},{\"i\":\"70741\",\"n\":\"elizabeth\",\"a\":\"de leon hernandez\",\"d\":\"enp 2 \\\\\"erasmo castellanos quinto\\\\\".\",\"m\":\"5\",\"c\":\"4.4000\"},{\"i\":\"149401\",\"n\":\"Julio Alfonso\",\"a\":\"De Le\\\\u00f3n Razo\",\"d\":\"Factultad de ingeneria\\\\/Fundamentos de porgramacion\",\"m\":\"0\",\"c\":null},{\"i\":\"129102\",\"n\":\"Maria de San Juan\",\"a\":\"De Los \\\\u00c1ngeles\",\"d\":\"Cch Vallejo \",\"m\":\"2\",\"c\":\"9.0000\"},{\"i\":\"152046\",\"n\":\"Ana Mar\\\\u00eda\",\"a\":\"De los Reyes Alfaro\",\"d\":\"Docente\",\"m\":\"0\",\"c\":null},{\"i\":\"144668\",\"n\":\"Elena\",\"a\":\"de Oteyza de Oteyza\",\"d\":\"ciencias\",\"m\":\"0\",\"c\":null},{\"i\":\"126258\",\"n\":\"Jos\\\\u00e9 Francisco\",\"a\":\"De Riquer torres\",\"d\":\"Facultad de arquitectura \",\"m\":\"0\",\"c\":null},{\"i\":\"161172\",\"n\":\"Adriana\",\"a\":\"De Teresa Ochoa\",\"d\":\"Filosof\\\\u00eda y Letras \",\"m\":\"1\",\"c\":\"2.0000\"},{\"i\":\"161171\",\"n\":\"Adriana\",\"a\":\"De Teresa Ochoa\",\"d\":\"Filosof\\\\u00eda y Letr6\",\"m\":\"0\",\"c\":null},{\"i\":\"19907\",\"n\":\"Ernesto\",\"a\":\"De Villa Lopez\",\"d\":\"derecho\",\"m\":\"38\",\"c\":\"7.0526\"},{\"i\":\"99448\",\"n\":\"mario\",\"a\":\"del campo\",\"d\":\"letras\",\"m\":\"0\",\"c\":null},{\"i\":\"52673\",\"n\":\"ERNESTO\",\"a\":\"DEL MORAL ESTUDILLO\",\"d\":\"FES ZARAGOSA \",\"m\":\"0\",\"c\":null},{\"i\":\"15002\",\"n\":\"Irma Yolanda\",\"a\":\"del R\\\\u00edo Portilla\",\"d\":\"Psicolog\\\\u00eda\",\"m\":\"21\",\"c\":\"6.5238\"},{\"i\":\"17911\",\"n\":\"maria isabel \",\"a\":\"del sordo\",\"d\":\"psicologia\",\"m\":\"7\",\"c\":\"5.1429\"},{\"i\":\"153308\",\"n\":\"Mauricio\",\"a\":\"Del Toro\",\"d\":\"Derecho \",\"m\":\"1\",\"c\":\"4.0000\"},{\"i\":\"80880\",\"n\":\"Raquel\",\"a\":\"Del toro Calero\",\"d\":\"Etica\",\"m\":\"1\",\"c\":\"9.0000\"},{\"i\":\"161498\",\"n\":\"Monica\",\"a\":\"Del valle Bejar\",\"d\":\"ENP6\",\"m\":\"1\",\"c\":\"8.0000\"},{\"i\":\"133889\",\"n\":\"Victor\",\"a\":\"Delgadillo\",\"d\":\"Facultad de contadur\\\\u00eda y administraci\\\\u00f3n\",\"m\":\"0\",\"c\":null},{\"i\":\"66445\",\"n\":\"Javier\",\"a\":\"Delgadillo Mac\\\\u00edas\",\"d\":\"Econom\\\\u00eda\",\"m\":\"0\",\"c\":null},{\"i\":\"104860\",\"n\":\"ORLANDO\",\"a\":\"DELGADILLO RENDON\",\"d\":\"FACULTAD DE CIENCIAS POL\\\\u00cdTICAS Y SOCIALES \",\"m\":\"2\",\"c\":\"8.0000\"},{\"i\":\"110164\",\"n\":\"Eduardo Rodolfo\",\"a\":\"Delgadillo Reynoso\",\"d\":\"Distrito Federal\",\"m\":\"0\",\"c\":null},{\"i\":\"110165\",\"n\":\"Eduardo Rodolfo\",\"a\":\"Delgadillo Reynoso\",\"d\":\"Facultad de Contadur\\\\u00eda y Administraci\\\\u00f3n\",\"m\":\"0\",\"c\":null},{\"i\":\"98429\",\"n\":\"hugo\",\"a\":\"delgado\",\"d\":\"granados\",\"m\":\"2\",\"c\":\"3.0000\"},{\"i\":\"126003\",\"n\":\"Mar\\\\u00eda patricia\",\"a\":\"Delgado cedillo\",\"d\":\"Ime\",\"m\":\"0\",\"c\":null},{\"i\":\"100151\",\"n\":\"Fernando\",\"a\":\"Delgado Chong\",\"d\":\"Derecho romano \",\"m\":\"3\",\"c\":\"7.6667\"},{\"i\":\"105528\",\"n\":\"Gabriel\",\"a\":\"Delgado Ju\\\\u00e1rez\",\"d\":\"Actuar\\\\u00eda \",\"m\":\"0\",\"c\":null},{\"i\":\"159835\",\"n\":\"Eduardo Guillermo\",\"a\":\"Delgado Lamas\",\"d\":\"QUIMICA \",\"m\":\"0\",\"c\":null},{\"i\":\"162811\",\"n\":\"Irma\",\"a\":\"Delgado Mart\\\\u00ednez\",\"d\":\"Ingenier\\\\u00eda \",\"m\":\"0\",\"c\":null},{\"i\":\"125132\",\"n\":\"Javier\",\"a\":\"Delgado parra\",\"d\":\"Derecho \",\"m\":\"0\",\"c\":null},{\"i\":\"133937\",\"n\":\"Virginia Agustina\",\"a\":\"Delgado Reyes\",\"d\":\"Mec\\\\u00e1nica de Fluidos\",\"m\":\"5\",\"c\":\"4.6000\"},{\"i\":\"76241\",\"n\":\"Misael\",\"a\":\"Delgado Saucedo\",\"d\":\"Fes Arag\\\\u00f3n Ingenier\\\\u00eda en Computaci\\\\u00f3n\",\"m\":\"1\",\"c\":\"9.0000\"},{\"i\":\"68943\",\"n\":\"mariam\",\"a\":\"dena\",\"d\":\"\",\"m\":\"0\",\"c\":null},{\"i\":\"127217\",\"n\":\"Ernesto Javier\",\"a\":\"Dena Espinoza\",\"d\":\"medicina\",\"m\":\"0\",\"c\":null},{\"i\":\"164099\",\"n\":\"Rafael\",\"a\":\"Dependa Barrios\",\"d\":\"ENTS\",\"m\":\"0\",\"c\":null},{\"i\":\"14563\",\"n\":\"Jorge Francisco\",\"a\":\"Deschamps Gongora\",\"d\":\"Economia\",\"m\":\"13\",\"c\":\"7.2308\"},{\"i\":\"162624\",\"n\":\"Francisco Alonso\",\"a\":\"Diaz\",\"d\":\"Aguilar\",\"m\":\"0\",\"c\":null},{\"i\":\"115543\",\"n\":\"Karma paola\",\"a\":\"Diaz  medina\",\"d\":\"Maestra de cuarto grado\",\"m\":\"3\",\"c\":\"2.6667\"},{\"i\":\"84856\",\"n\":\"Abigail\",\"a\":\"Diaz Barnard\",\"d\":\"Derecho\",\"m\":\"1\",\"c\":\"10.0000\"},{\"i\":\"155070\",\"n\":\"Sayda\",\"a\":\"Diaz Celaya\",\"d\":\"Fesc\",\"m\":\"0\",\"c\":null},{\"i\":\"114359\",\"n\":\"Jesus\",\"a\":\"D\\\\u00edaz de Le\\\\u00f3n\",\"d\":\"Odontolog\\\\u00eda\",\"m\":\"0\",\"c\":null},{\"i\":\"95112\",\"n\":\"Antonio Francisco\",\"a\":\"D\\\\u00edaz Garc\\\\u00eda\",\"d\":\"Facultad de qu\\\\u00edmica \",\"m\":\"1\",\"c\":\"2.0000\"},{\"i\":\"15005\",\"n\":\"Ricardo\",\"a\":\"D\\\\u00edaz Guti\\\\u00e9rrez\",\"d\":\"Psicolog\\\\u00eda\",\"m\":\"1\",\"c\":\"7.0000\"},{\"i\":\"56292\",\"n\":\"Maria del Rocio\",\"a\":\"Diaz Hdez\",\"d\":\"CCH - OTE\",\"m\":\"0\",\"c\":null},{\"i\":\"82156\",\"n\":\"rafaela rosario\",\"a\":\"diaz hernandez\",\"d\":\"escuela nacional preparatoria\",\"m\":\"1\",\"c\":\"2.0000\"},{\"i\":\"93616\",\"n\":\"RENDON ALEJANDRO\",\"a\":\"DIAZ INFANTE\",\"d\":\"ARQUITECTURA\",\"m\":\"2\",\"c\":\"9.5000\"},{\"i\":\"42656\",\"n\":\"Jos\\\\u00e9 Luis\",\"a\":\"D\\\\u00edaz Meza\",\"d\":\"Psicolog\\\\u00eda\",\"m\":\"2\",\"c\":\"10.0000\"},{\"i\":\"116207\",\"n\":\"Graciela\",\"a\":\"D\\\\u00edaz muci\\\\u00f1o\",\"d\":\"Cch oriente\",\"m\":\"0\",\"c\":null},{\"i\":\"162510\",\"n\":\"\\\\u00c1ngel Daniel\",\"a\":\"D\\\\u00edaz P\\\\u00e9rez\",\"d\":\"cch azcapotzalco\",\"m\":\"1\",\"c\":\"10.0000\"},{\"i\":\"109138\",\"n\":\"irene\",\"a\":\"diaz reyes\",\"d\":\"facultad de estudios suporerios acatlan\",\"m\":\"0\",\"c\":null},{\"i\":\"160798\",\"n\":\"susana\",\"a\":\"D\\\\u00edaz Ru\\\\u00edz\",\"d\":\"derecho\",\"m\":\"0\",\"c\":null},{\"i\":\"151597\",\"n\":\"Carlos\",\"a\":\"D\\\\u00edaz Ruiz\",\"d\":\"FCA\",\"m\":\"0\",\"c\":null},{\"i\":\"160875\",\"n\":\"Alejandra\",\"a\":\"Diaz Sarabia\",\"d\":\"Secundaria Heriberto Jara Corona \",\"m\":\"0\",\"c\":null},{\"i\":\"77995\",\"n\":\"maria del socorro\",\"a\":\"diaz sierra\",\"d\":\"cch vallejo\",\"m\":\"0\",\"c\":null},{\"i\":\"135528\",\"n\":\"Christian Octavio\",\"a\":\"Diego Guerra\",\"d\":\"Ciencias Pol\\\\u00edticas y Sociales\",\"m\":\"3\",\"c\":\"9.3333\"},{\"i\":\"132896\",\"n\":\"Javier\",\"a\":\"Diez Garc\\\\u00eda\",\"d\":\"Derecho\",\"m\":\"12\",\"c\":\"10.0000\"},{\"i\":\"76500\",\"n\":\"Cilia\",\"a\":\"Domingos\",\"d\":\"CELE\",\"m\":\"3\",\"c\":\"9.6667\"},{\"i\":\"105890\",\"n\":\"Roberto\",\"a\":\"Dom\\\\u00ednguez\",\"d\":\"Contaduria y Administraci\\\\u00f3n \",\"m\":\"0\",\"c\":null},{\"i\":\"147373\",\"n\":\"Hugo\",\"a\":\"Dominguez\",\"d\":\"Odontologia\",\"m\":\"0\",\"c\":null},{\"i\":\"158753\",\"n\":\"Gabriel\",\"a\":\"Dominguez Barrios\",\"d\":\"derecho\",\"m\":\"1\",\"c\":\"10.0000\"},{\"i\":\"152200\",\"n\":\"C\\\\u00e9sar\",\"a\":\"Dom\\\\u00ednguez Camacho\",\"d\":\"Qu\\\\u00edmica\",\"m\":\"0\",\"c\":null},{\"i\":\"14959\",\"n\":\"Ramiro\",\"a\":\"Dom\\\\u00ednguez Danache\",\"d\":\"Fac. Qu\\\\u00edmica\",\"m\":\"26\",\"c\":\"6.0000\"},{\"i\":\"160693\",\"n\":\"Aldo\",\"a\":\"Dom\\\\u00ednguez de la Torre\",\"d\":\"Facultad de Ciencias\",\"m\":\"1\",\"c\":\"10.0000\"},{\"i\":\"143299\",\"n\":\"Edmundo Juli\\\\u00e1n\",\"a\":\"Dom\\\\u00ednguez L\\\\u00f3pez Portillo\",\"d\":\"Ciencias Politicas \",\"m\":\"0\",\"c\":null},{\"i\":\"79439\",\"n\":\"cuauhtemoc\",\"a\":\"dominguez navaja\",\"d\":\"enp 1\",\"m\":\"0\",\"c\":null},{\"i\":\"121899\",\"n\":\"Mar\\\\u00eda Xochitl\",\"a\":\"Dominguez P\\\\u00e9rez\",\"d\":\"Facultad de Ciencias Pol\\\\u00edticas y Sociales\",\"m\":\"3\",\"c\":\"6.6667\"},{\"i\":\"23643\",\"n\":\"NOEMI\",\"a\":\"DOMINGUEZ SAN MARTIN\",\"d\":\"ECONOMIA\",\"m\":\"2\",\"c\":\"2.0000\"},{\"i\":\"157657\",\"n\":\"Jonathan Aaron\",\"a\":\"Dominguez Teran\",\"d\":\"Profesor\",\"m\":\"1\",\"c\":\"6.0000\"},{\"i\":\"77200\",\"n\":\"Isabel\",\"a\":\"Dominguez Trejo\",\"d\":\"Facultad de Ingenier\\\\u00eda\\\\/ Geolog\\\\u00eda\",\"m\":\"5\",\"c\":\"8.4000\"},{\"i\":\"146760\",\"n\":\"Andr\\\\u00e9s Rub\\\\u00e9n\",\"a\":\"Dom\\\\u00ednguez Varela\",\"d\":\"Ciencias pol\\\\u00edticas\",\"m\":\"2\",\"c\":\"9.5000\"},{\"i\":\"14471\",\"n\":\"Jos\\\\u00e9 Guillermo\",\"a\":\"Dom\\\\u00ednguez Y\\\\u00e1nez\",\"d\":\"Economia\",\"m\":\"10\",\"c\":\"9.1000\"},{\"i\":\"64076\",\"n\":\"RENE\",\"a\":\"DRUCKER COLLIN\",\"d\":\"IFC\",\"m\":\"4\",\"c\":\"4.0000\"},{\"i\":\"138135\",\"n\":\"Leda\",\"a\":\"Duarte\",\"d\":\"Arquitectura\",\"m\":\"0\",\"c\":null},{\"i\":\"161530\",\"n\":\"Mar\\\\u00eda Guadalupe\",\"a\":\"Dulce\",\"d\":\"Loen perez\",\"m\":\"0\",\"c\":null},{\"i\":\"83681\",\"n\":\"Mar\\\\u00eda Michel\",\"a\":\"Duque Vega\",\"d\":\"Ingenieria\\\\/ termodin\\\\u00e1mica y electromagnetismo\",\"m\":\"10\",\"c\":\"8.5000\"},{\"i\":\"16042\",\"n\":\"Rosa Estela\",\"a\":\"Duran Balderas\",\"d\":\"derecho\",\"m\":\"4\",\"c\":\"8.0000\"},{\"i\":\"124444\",\"n\":\"Sergio Martin\",\"a\":\"Duran Guerrero\",\"d\":\"FESC\",\"m\":\"0\",\"c\":null},{\"i\":\"106558\",\"n\":\"Alfonso\",\"a\":\"Dur\\\\u00e1n Moreno\",\"d\":\"Qu\\\\u00edmica\",\"m\":\"1\",\"c\":\"10.0000\"},{\"i\":\"90628\",\"n\":\"SERGIO\",\"a\":\"DURAN PE\\\\u00d1A\",\"d\":\"FCA\\\\/FISCAL\",\"m\":\"0\",\"c\":null},{\"i\":\"140541\",\"n\":\"Ernesto\",\"a\":\"Durand Rodr\\\\u00edguez\",\"d\":\"Facultad de contadur\\\\u00eda y administraci\\\\u00f3n \",\"m\":\"0\",\"c\":null},{\"i\":\"14564\",\"n\":\"Enrique Stephanus\",\"a\":\"Dussel Peters\",\"d\":\"Economia\",\"m\":\"11\",\"c\":\"6.3636\"},{\"i\":\"101587\",\"n\":\"Ateet\",\"a\":\"Dutt\",\"d\":\"IIM, UNAM\",\"m\":\"1\",\"c\":\"8.0000\"},{\"i\":\"150144\",\"n\":\"gabriel\",\"a\":\"echavez aldape\",\"d\":\"iingen\",\"m\":\"0\",\"c\":null},{\"i\":\"107639\",\"n\":\"Hector\",\"a\":\"echegoyen Monroy\",\"d\":\"preparatoria 2\",\"m\":\"7\",\"c\":\"3.2857\"},{\"i\":\"109329\",\"n\":\"Taller ehecatl\",\"a\":\"Ehevatl\",\"d\":\"Facultad de arquitectura\",\"m\":\"0\",\"c\":null},{\"i\":\"118934\",\"n\":\"Edgar\",\"a\":\"Eleazar Arcos\",\"d\":\"Mat\\\\u00e9maticas\",\"m\":\"0\",\"c\":null},{\"i\":\"60711\",\"n\":\"Barbara\",\"a\":\"El\\\\u00edas Alejandri\",\"d\":\"\",\"m\":\"2\",\"c\":\"9.5000\"},{\"i\":\"78121\",\"n\":\"papa\",\"a\":\"Emeritus\",\"d\":\"religion\",\"m\":\"0\",\"c\":null},{\"i\":\"16780\",\"n\":\"Alejandro\",\"a\":\"Encinas Rodriguez\",\"d\":\"Economia\",\"m\":\"1\",\"c\":\"2.0000\"},{\"i\":\"161291\",\"n\":\"Paola Bibiana\",\"a\":\"Enciso Casallas\",\"d\":\"Facultad de Arquitectura \",\"m\":\"1\",\"c\":\"8.0000\"},{\"i\":\"104630\",\"n\":\"Liliana lorena\",\"a\":\"Enrique lim\\\\u00f3n\",\"d\":\"Fes Acatl\\\\u00e1n \",\"m\":\"2\",\"c\":\"6.0000\"},{\"i\":\"112348\",\"n\":\"Hector Manuel\",\"a\":\"Enriquez andrade\",\"d\":\"Filosofia y  letras SUA\",\"m\":\"1\",\"c\":\"9.0000\"},{\"i\":\"66180\",\"n\":\"Graciela\",\"a\":\"Enriquez Guadarrama\",\"d\":\"FINANZAS\",\"m\":\"23\",\"c\":\"8.9130\"},{\"i\":\"92303\",\"n\":\"Javier\",\"a\":\"Enriquez Medina\",\"d\":\"Facultad derecho\",\"m\":\"5\",\"c\":\"9.2000\"},{\"i\":\"105171\",\"n\":\"Larisa\",\"a\":\"Enriquez Vazquez\",\"d\":\"FCPyS\",\"m\":\"3\",\"c\":\"5.3333\"},{\"i\":\"17359\",\"n\":\"Boris\",\"a\":\"Escalante\",\"d\":\"Ingenier\\\\u00eda\",\"m\":\"4\",\"c\":\"5.7500\"},{\"i\":\"14565\",\"n\":\"Rafael\",\"a\":\"Escalante Lopez\",\"d\":\"Economia\",\"m\":\"11\",\"c\":\"10.0000\"},{\"i\":\"49454\",\"n\":\"jose adelfo\",\"a\":\"escalante lozada\",\"d\":\"quimica\",\"m\":\"0\",\"c\":null},{\"i\":\"48047\",\"n\":\"Isaura\",\"a\":\"Escalante Vargas\",\"d\":\"Biologia\",\"m\":\"0\",\"c\":null},{\"i\":\"14505\",\"n\":\"Irma\",\"a\":\"Escarcega Aguirre\",\"d\":\"Economia\",\"m\":\"16\",\"c\":\"5.6875\"},{\"i\":\"60542\",\"n\":\"Rogelio\",\"a\":\"Escobar\",\"d\":\"psicologia\",\"m\":\"1\",\"c\":\"10.0000\"},{\"i\":\"113426\",\"n\":\"ESTHER CARMEN ANTONIA\",\"a\":\"ESCOBAR BLANCO\",\"d\":\"Facultad de M\\\\u00fasica\",\"m\":\"0\",\"c\":null},{\"i\":\"108128\",\"n\":\"Elva Guadalupe\",\"a\":\"Escobar Briones\",\"d\":\"Instituto de Ciencias del mar y Limnolog\\\\u00eda.\",\"m\":\"3\",\"c\":\"5.3333\"},{\"i\":\"11231\",\"n\":\"Laura\",\"a\":\"Escobar P\\\\u00e9rez\",\"d\":\"Medicina\",\"m\":\"3\",\"c\":\"4.3333\"},{\"i\":\"149770\",\"n\":\"Jos\\\\u00e9 Alberto\",\"a\":\"Escobar S\\\\u00e1nchez\",\"d\":\"Facultad de Ingenier\\\\u00eda\",\"m\":\"1\",\"c\":\"5.0000\"},{\"i\":\"161308\",\"n\":\"ROBERTO\",\"a\":\"ESCOBAR SAUCEDO\",\"d\":\"CCH VALLEJO\",\"m\":\"0\",\"c\":null},{\"i\":\"27153\",\"n\":\"Carlos Eduardo\",\"a\":\"Escobar Toledo\",\"d\":\"Ingenieria de proyectos\",\"m\":\"2\",\"c\":\"6.0000\"},{\"i\":\"118245\",\"n\":\"Adriana\",\"a\":\"Escobedo Bustamante\",\"d\":\"Ciencias exactas\",\"m\":\"0\",\"c\":null},{\"i\":\"65821\",\"n\":\"MARTIN ALFREDO\",\"a\":\"ESCOTO PACHECO\",\"d\":\"MEDICINA\",\"m\":\"2\",\"c\":\"6.0000\"},{\"i\":\"111946\",\"n\":\"sandra\",\"a\":\"escutia d\\\\u00edas\",\"d\":\"Facultad de Filosof\\\\u00eda y Letras \",\"m\":\"2\",\"c\":\"3.0000\"},{\"i\":\"136261\",\"n\":\"Itzel Ariadne\",\"a\":\"Escutia Rivera\",\"d\":\"Facultad de Ciencias\",\"m\":\"1\",\"c\":\"6.0000\"},{\"i\":\"11232\",\"n\":\"Beatriz\",\"a\":\"Eslava Arellanes\",\"d\":\"Ingenier\\\\u00eda\",\"m\":\"13\",\"c\":\"5.5385\"},{\"i\":\"26405\",\"n\":\"Martin\",\"a\":\"Esparza\",\"d\":\"Biologia\",\"m\":\"1\",\"c\":\"2.0000\"},{\"i\":\"114577\",\"n\":\"abril\",\"a\":\"esparza\",\"d\":\"bibliotecologia\",\"m\":\"0\",\"c\":null},{\"i\":\"14981\",\"n\":\"Rodolfo\",\"a\":\"Esparza M\\\\u00e1rquez\",\"d\":\"Psicolog\\\\u00eda\",\"m\":\"1\",\"c\":\"4.0000\"},{\"i\":\"18635\",\"n\":\"Eva Mar\\\\u00eda\",\"a\":\"Esparza Mesa\",\"d\":\"Psicolog\\\\u00eda\",\"m\":\"12\",\"c\":\"7.3333\"},{\"i\":\"155991\",\"n\":\"Sa\\\\u00fal Salom\\\\u00f3n\",\"a\":\"Esparza V\\\\u00e1zquez\",\"d\":\"Cch Vallejo \",\"m\":\"1\",\"c\":\"10.0000\"},{\"i\":\"93255\",\"n\":\"Alberto\",\"a\":\"Espejel Espinoza\",\"d\":\"FES ACATL\\\\u00c1N\",\"m\":\"18\",\"c\":\"8.9444\"},{\"i\":\"44298\",\"n\":\"Ra\\\\u00fal Arturo\",\"a\":\"Espejel Morales\",\"d\":\" Ciencias\\\\/F\\\\u00edsica\",\"m\":\"1\",\"c\":\"10.0000\"},{\"i\":\"135927\",\"n\":\"Juan Carlos\",\"a\":\"Esperanza Alvarado\",\"d\":\"Arquitectura \",\"m\":\"0\",\"c\":null},{\"i\":\"149645\",\"n\":\"Jorge Luis\",\"a\":\"Esper\\\\u00f3n Ramos\",\"d\":\"CCH SUR\\\\/RECURSOS HUMANOS\",\"m\":\"1\",\"c\":\"10.0000\"},{\"i\":\"144464\",\"n\":\"Leticia Adriana\",\"a\":\"Espinosa Avila\",\"d\":\"FES Iztacala\",\"m\":\"1\",\"c\":\"3.0000\"},{\"i\":\"16050\",\"n\":\"Eduardo\",\"a\":\"Espinosa Avila\",\"d\":\"Ingenieria\",\"m\":\"25\",\"c\":\"8.8000\"},{\"i\":\"94229\",\"n\":\"Dulce Mar\\\\u00eda\",\"a\":\"Espinosa de la Mora\",\"d\":\"Facultad de Ciencias Pol\\\\u00edticas y Sociales UNAM\",\"m\":\"8\",\"c\":\"8.3750\"},{\"i\":\"15341\",\"n\":\"Jaime Enrique\",\"a\":\"Espinosa de los Monteros Caden\",\"d\":\"Finanzas\",\"m\":\"17\",\"c\":\"6.1765\"},{\"i\":\"162532\",\"n\":\"Puala\",\"a\":\"Espinosa de los Reyes Sordo\",\"d\":\"IES Mar\\\\u00eda ZAMBRANO \",\"m\":\"1\",\"c\":\"2.0000\"},{\"i\":\"59124\",\"n\":\"luz maria\",\"a\":\"espinosa esparza\",\"d\":\"prepa 8  italiano\",\"m\":\"14\",\"c\":\"7.7857\"},{\"i\":\"150040\",\"n\":\"Moises Isacc\",\"a\":\"Espinosa Espinosa\",\"d\":\"Facultad de Ciencias\",\"m\":\"9\",\"c\":\"5.2222\"},{\"i\":\"144508\",\"n\":\"Maribel\",\"a\":\"Espinosa Hern\\\\u00e1ndez\",\"d\":\"Qu\\\\u00edmica\",\"m\":\"2\",\"c\":\"9.5000\"},{\"i\":\"132576\",\"n\":\"Elisa\",\"a\":\"Espinosa juarez\",\"d\":\"Ingenier\\\\u00eda el\\\\u00e9ctrica \",\"m\":\"0\",\"c\":null},{\"i\":\"120511\",\"n\":\"belen\",\"a\":\"espinosa lucio\",\"d\":\"ciencias\",\"m\":\"0\",\"c\":null},{\"i\":\"124189\",\"n\":\"jose antonio\",\"a\":\"espinosa martinez\",\"d\":\"fes acatlan \",\"m\":\"0\",\"c\":null},{\"i\":\"109049\",\"n\":\"M\\\\u00f3nica\",\"a\":\"Espinosa Torres\",\"d\":\"Artes y dise\\\\u00f1o \",\"m\":\"10\",\"c\":\"8.2000\"},{\"i\":\"37573\",\"n\":\"LETIZIA\",\"a\":\"ESPINOSA TREJO\",\"d\":\"CONTRATOS MERCANTILES\",\"m\":\"1\",\"c\":\"10.0000\"},{\"i\":\"152902\",\"n\":\"Maria del Rosario\",\"a\":\"Espinosa tufi\\\\u00f1o\",\"d\":\"Ciencias\",\"m\":\"0\",\"c\":null},{\"i\":\"15112\",\"n\":\"Arturo \",\"a\":\"Espinoza\",\"d\":\"Medicina\",\"m\":\"4\",\"c\":\"2.2500\"},{\"i\":\"155863\",\"n\":\"Raymundo\",\"a\":\"Espinoza Hern\\\\u00e1ndez\",\"d\":\"Facultad de Derecho\",\"m\":\"2\",\"c\":\"9.0000\"},{\"i\":\"155862\",\"n\":\"Raymundo\",\"a\":\"Espinoza Hern\\\\u00e1ndez\",\"d\":\"Derecho - Filosof\\\\u00eda del Derecho\\\\/Derecho Ind\\\\u00edgena\",\"m\":\"1\",\"c\":\"8.0000\"},{\"i\":\"157765\",\"n\":\"Angelica\",\"a\":\"Espinoza Rodriguez\",\"d\":\"Facultad de Estudios Superiores Zaragoza\",\"m\":\"2\",\"c\":\"4.0000\"},{\"i\":\"17174\",\"n\":\"Maria Eugenia\",\"a\":\"Espinoza Velazquez\",\"d\":\"FES Cuautitlan\",\"m\":\"3\",\"c\":\"4.0000\"},{\"i\":\"156445\",\"n\":\"Alicia Maria\",\"a\":\"Esponda Cascajares\",\"d\":\"Ingenier\\\\u00eda \",\"m\":\"0\",\"c\":null},{\"i\":\"164580\",\"n\":\"Rene\",\"a\":\"Esqueda Torres\",\"d\":\"Fes arag\\\\u00f3n \",\"m\":\"0\",\"c\":null},{\"i\":\"121280\",\"n\":\"Nestor\",\"a\":\"Esquivel Flores\",\"d\":\"ENAH\",\"m\":\"0\",\"c\":null},{\"i\":\"162182\",\"n\":\"Rub\\\\u00e9n Carlos\",\"a\":\"Esquivel Hern\\\\u00e1ndez\",\"d\":\"Facultad de Ingenier\\\\u00eda\",\"m\":\"2\",\"c\":\"10.0000\"},{\"i\":\"162875\",\"n\":\"Maria lilia\",\"a\":\"Esquivel Mill\\\\u00e1n\",\"d\":\"Colegio de ciencias y humanidades oriente\",\"m\":\"0\",\"c\":null},{\"i\":\"75776\",\"n\":\"Daniela\",\"a\":\"Esquivel Ortega\",\"d\":\"\",\"m\":\"1\",\"c\":\"6.0000\"},{\"i\":\"144954\",\"n\":\"Sandra Carolina\",\"a\":\"Esquivel Serafin\",\"d\":\"U.N.A.M\",\"m\":\"0\",\"c\":null},{\"i\":\"144953\",\"n\":\"Sandra Carolina\",\"a\":\"Esquivel Serafin\",\"d\":\"Unam\",\"m\":\"0\",\"c\":null},{\"i\":\"80069\",\"n\":\"Daniel\",\"a\":\"Esquivel Velazquez\",\"d\":\"Facultad de Ingenier\\\\u00eda\",\"m\":\"14\",\"c\":\"6.3571\"},{\"i\":\"56055\",\"n\":\"jimenez\",\"a\":\"estrada\",\"d\":\"instituto de quimica\",\"m\":\"0\",\"c\":null},{\"i\":\"164167\",\"n\":\"Alejandra\",\"a\":\"estrada\",\"d\":\"Psicolog\\\\u00eda \",\"m\":\"0\",\"c\":null},{\"i\":\"135907\",\"n\":\"Ana Liusa\",\"a\":\"Estrada\",\"d\":\"Talleres \",\"m\":\"0\",\"c\":null},{\"i\":\"134745\",\"n\":\"V\\\\u00edctor Manuel\",\"a\":\"Estrada\",\"d\":\"Econom\\\\u00eda \",\"m\":\"0\",\"c\":null},{\"i\":\"85123\",\"n\":\"Francisco\",\"a\":\"Estrada Ch\\\\u00e1vez\",\"d\":\"ENES MORELIA \",\"m\":\"0\",\"c\":null},{\"i\":\"160855\",\"n\":\"Eduardo\",\"a\":\"Estrada Garc\\\\u00eda\",\"d\":\"Fes Arag\\\\u00f3n \",\"m\":\"0\",\"c\":null},{\"i\":\"161445\",\"n\":\"rafael\",\"a\":\"estrada michel\",\"d\":\"derecho\",\"m\":\"0\",\"c\":null},{\"i\":\"138697\",\"n\":\"Jose Luis\",\"a\":\"Estrada Salas\",\"d\":\"Facultad de Filosof\\\\u00eda y Letras\",\"m\":\"1\",\"c\":\"10.0000\"},{\"i\":\"93857\",\"n\":\"Ximena\",\"a\":\"Estrada Zavaleta\",\"d\":\"Facultad de Ciencias UNAM\",\"m\":\"25\",\"c\":\"7.8800\"},{\"i\":\"147608\",\"n\":\"ROSAS MARIA EUGENIA\",\"a\":\"Eustoquia\",\"d\":\"Arquitectura\",\"m\":\"0\",\"c\":null},{\"i\":\"105661\",\"n\":\"manuel\",\"a\":\"fagoaga ramirez\",\"d\":\"fes acatlan\",\"m\":\"0\",\"c\":null},{\"i\":\"122167\",\"n\":\"Arturo\",\"a\":\"Falc\\\\u00f3n\",\"d\":\"ENP 6\",\"m\":\"1\",\"c\":\"9.0000\"},{\"i\":\"19317\",\"n\":\"Rosario\",\"a\":\"Faraudo\",\"d\":\"FFyL Letras Inglesas\",\"m\":\"6\",\"c\":\"5.3333\"},{\"i\":\"152692\",\"n\":\"Angelica\",\"a\":\"Farfan Pe\\\\u00f1a\",\"d\":\"CCH Oriente\",\"m\":\"6\",\"c\":\"9.3333\"},{\"i\":\"150132\",\"n\":\"Angelica\",\"a\":\"Farf\\\\u00e1n pe\\\\u00f1a\",\"d\":\"Unam\",\"m\":\"0\",\"c\":null},{\"i\":\"18105\",\"n\":\"Eugenio\",\"a\":\"Fautsch\",\"d\":\"Matematicas\",\"m\":\"5\",\"c\":\"8.6000\"},{\"i\":\"129132\",\"n\":\"Rubith\",\"a\":\"Felipa Noria\",\"d\":\"Facultad de Econom\\\\u00eda \",\"m\":\"3\",\"c\":\"2.0000\"},{\"i\":\"100524\",\"n\":\"Mar\\\\u00eda Fernanda\",\"a\":\"Feria-Lince\",\"d\":\"Pol\\\\u00edticos y Sociales\",\"m\":\"7\",\"c\":\"2.0000\"},{\"i\":\"111683\",\"n\":\"Juana\",\"a\":\"Fern\\\\u00e1ndez  De Lara Fernandez\",\"d\":\"Ortopedia\",\"m\":\"0\",\"c\":null},{\"i\":\"161778\",\"n\":\"Diego\",\"a\":\"Fern\\\\u00e1ndez Castillo\",\"d\":\"Fes Arag\\\\u00f3n \",\"m\":\"1\",\"c\":\"3.0000\"},{\"i\":\"124934\",\"n\":\"pablo fernando\",\"a\":\"fernandez christileb\",\"d\":\"psicolog\\\\u00eda\",\"m\":\"0\",\"c\":null},{\"i\":\"106132\",\"n\":\"Raymundo\",\"a\":\"Fern\\\\u00e1ndez Contreras\",\"d\":\"Fes Acatl\\\\u00e1n \",\"m\":\"1\",\"c\":\"6.0000\"},{\"i\":\"29352\",\"n\":\"Hugo\",\"a\":\"Fernandez de Castro\",\"d\":\"Facultad de Medicina\",\"m\":\"2\",\"c\":\"9.5000\"},{\"i\":\"75358\",\"n\":\"Mar\\\\u00eda del Pilar\",\"a\":\"Fernandez de Lara\",\"d\":\"Derecho \\\\/ Romano II\",\"m\":\"3\",\"c\":\"3.3333\"},{\"i\":\"47147\",\"n\":\"Javier\",\"a\":\"Fern\\\\u00e1ndez Garc\\\\u00eda\",\"d\":\"Matem\\\\u00e1ticas\",\"m\":\"0\",\"c\":null},{\"i\":\"140941\",\"n\":\"Ra\\\\u00fal Horacio\",\"a\":\"Fern\\\\u00e1ndez Linares\",\"d\":\"CCH Oriente\",\"m\":\"1\",\"c\":\"10.0000\"},{\"i\":\"17593\",\"n\":\"fabian\",\"a\":\"fernandez medina\",\"d\":\"derecho\",\"m\":\"23\",\"c\":\"4.0435\"},{\"i\":\"111465\",\"n\":\"Elvia\",\"a\":\"Fern\\\\u00e1ndez Peralta\",\"d\":\"Facultad de Contadur\\\\u00eda y Administraci\\\\u00f3n\",\"m\":\"5\",\"c\":\"9.2000\"},{\"i\":\"75719\",\"n\":\"jorge\",\"a\":\"fernandez ruiz\",\"d\":\"facultad de derecho\",\"m\":\"7\",\"c\":\"8.8571\"},{\"i\":\"160325\",\"n\":\"Javier\",\"a\":\"Fern\\\\u00e1ndez Torres\",\"d\":\"Qu\\\\u00edmica\\\\/Biolog\\\\u00eda\",\"m\":\"0\",\"c\":null},{\"i\":\"84864\",\"n\":\"GUADALUPE\",\"a\":\"FERNANDEZ VAZQUEZ\",\"d\":\"FACULTAD DE DERECHO UNAM\",\"m\":\"1\",\"c\":\"7.0000\"},{\"i\":\"150427\",\"n\":\"Alfredo\",\"a\":\"Ferrer Peregrina\",\"d\":\"Ingenieria Biomedica\",\"m\":\"1\",\"c\":\"6.0000\"},{\"i\":\"160087\",\"n\":\"Eduardo\",\"a\":\"Ferreriz Duarte\",\"d\":\"Facultad de Ciencias\",\"m\":\"3\",\"c\":\"10.0000\"},{\"i\":\"66361\",\"n\":\"fernando\",\"a\":\"fierro luna\",\"d\":\"psicologia educativa\",\"m\":\"0\",\"c\":null},{\"i\":\"162564\",\"n\":\"Javier\",\"a\":\"Figueroa galan\",\"d\":\"Economia\",\"m\":\"0\",\"c\":null},{\"i\":\"138867\",\"n\":\"Domingo\",\"a\":\"Figueroa Palacios\",\"d\":\"Evaluaci\\\\u00f3n de proyectos\",\"m\":\"3\",\"c\":\"4.6667\"},{\"i\":\"148140\",\"n\":\"Norma Alejandra\",\"a\":\"Figueroa Rios\",\"d\":\"Medicina\",\"m\":\"0\",\"c\":null},{\"i\":\"116083\",\"n\":\"Rogelio Miguel\",\"a\":\"Figueroa Velazquez\",\"d\":\"Fes Acatl\\\\u00e1n\",\"m\":\"7\",\"c\":\"8.7143\"},{\"i\":\"141864\",\"n\":\"Tatiana\",\"a\":\"Fiordelisio\",\"d\":\"Ciencias\",\"m\":\"0\",\"c\":null},{\"i\":\"112333\",\"n\":\"Laura\",\"a\":\"Flores\",\"d\":\"FCA \",\"m\":\"0\",\"c\":null},{\"i\":\"105365\",\"n\":\"Saul\",\"a\":\"Flores\",\"d\":\"Iztacala\",\"m\":\"0\",\"c\":null},{\"i\":\"68632\",\"n\":\"LAURA ELODIA\",\"a\":\"FLORES\",\"d\":\"ECONOMIA AGRICOLA\",\"m\":\"8\",\"c\":\"3.0000\"},{\"i\":\"130826\",\"n\":\"Silvia\",\"a\":\"Flores\",\"d\":\"Escuela nacional de trabajo social \",\"m\":\"0\",\"c\":null},{\"i\":\"117934\",\"n\":\"Cristina\",\"a\":\"Flores\",\"d\":\"Qu\\\\u00edmica\",\"m\":\"1\",\"c\":\"2.0000\"},{\"i\":\"155990\",\"n\":\"olivares\",\"a\":\"flores\",\"d\":\"derecho\",\"m\":\"0\",\"c\":null},{\"i\":\"125792\",\"n\":\"Zenaida\",\"a\":\"Flores\",\"d\":\"Metodos de investigaci\\\\u00f3n \",\"m\":\"0\",\"c\":null},{\"i\":\"67995\",\"n\":\"LORENZO\",\"a\":\"FLORES\",\"d\":\"DERECHO\",\"m\":\"1\",\"c\":\"2.0000\"},{\"i\":\"15210\",\"n\":\"Susana\",\"a\":\"Flores Almaz\\\\u00e1n\",\"d\":\"Fisicoqu\\\\u00edmica\",\"m\":\"10\",\"c\":\"7.7000\"},{\"i\":\"114141\",\"n\":\"Olga Mar\\\\u00eda Hildehza\",\"a\":\"Flores \\\\u00c1lvarez\",\"d\":\"CCH Vallejo\",\"m\":\"2\",\"c\":\"9.5000\"},{\"i\":\"37197\",\"n\":\"CAMILO IVAN\",\"a\":\"FLORES ANGELES\",\"d\":\"Economia\",\"m\":\"86\",\"c\":\"8.2558\"},{\"i\":\"122161\",\"n\":\"Mar\\\\u00eda Guadalupe\",\"a\":\"Flores Carapia\",\"d\":\"ENP 6\",\"m\":\"1\",\"c\":\"8.0000\"},{\"i\":\"19996\",\"n\":\"DANIEL\",\"a\":\"FLORES CASILLAS\",\"d\":\"Economia\",\"m\":\"13\",\"c\":\"7.3077\"},{\"i\":\"73140\",\"n\":\"Vanessa\",\"a\":\"Flores Espadas\",\"d\":\"Danza Regional Mexicana\",\"m\":\"3\",\"c\":\"10.0000\"},{\"i\":\"130486\",\"n\":\"Karina rocio\",\"a\":\"flores espindola\",\"d\":\"Filosofia\",\"m\":\"0\",\"c\":null},{\"i\":\"70123\",\"n\":\"hortencia\",\"a\":\"flores estrella\",\"d\":\"\",\"m\":\"0\",\"c\":null},{\"i\":\"134534\",\"n\":\"liliana\",\"a\":\"flores garcia\",\"d\":\"matematicas aplicadas\",\"m\":\"0\",\"c\":null},{\"i\":\"152827\",\"n\":\"Ana Karen\",\"a\":\"Flores Garc\\\\u00eda\",\"d\":\"Ciencias\",\"m\":\"1\",\"c\":\"2.0000\"},{\"i\":\"100091\",\"n\":\"carlos alberto\",\"a\":\"flores hernandez\",\"d\":\"derecho\",\"m\":\"16\",\"c\":\"7.6250\"},{\"i\":\"110843\",\"n\":\"Hugo martin\",\"a\":\"Flores Hern\\\\u00e1ndez\",\"d\":\"Enp 4\",\"m\":\"1\",\"c\":\"10.0000\"},{\"i\":\"160915\",\"n\":\"NORA ROSALIA\",\"a\":\"Flores Huitron\",\"d\":\"FES Cuautitlan C4\",\"m\":\"1\",\"c\":\"10.0000\"},{\"i\":\"135604\",\"n\":\"Nora\",\"a\":\"Flores Huitr\\\\u00f3n\",\"d\":\"Salubridad\\\\/Bienestar Animal\",\"m\":\"2\",\"c\":\"8.5000\"},{\"i\":\"45943\",\"n\":\"Yolanda\",\"a\":\"Flores Jasso\",\"d\":\"Plantel 6 ENP\",\"m\":\"3\",\"c\":\"9.6667\"},{\"i\":\"15653\",\"n\":\"Ofelia\",\"a\":\"Flores Ju\\\\u00e1rez\",\"d\":\"Ingenieria\",\"m\":\"5\",\"c\":\"7.2000\"},{\"i\":\"106116\",\"n\":\"Francisco Javier\",\"a\":\"Flores Loredo\",\"d\":\"Facultad de Ciencias\\\\/Departamento de matem\\\\u00e1ticas\",\"m\":\"2\",\"c\":\"6.5000\"},{\"i\":\"125550\",\"n\":\"Maria teresa\",\"a\":\"Flores Mart\\\\u00ednez\",\"d\":\"Qu\\\\u00edmica \",\"m\":\"0\",\"c\":null},{\"i\":\"14423\",\"n\":\"G\\\\u00f3nzalo Javier\",\"a\":\"Flores Mondrag\\\\u00f3n\",\"d\":\"Economia\",\"m\":\"17\",\"c\":\"8.6471\"},{\"i\":\"161094\",\"n\":\"Fabiola jesavel\",\"a\":\"Flores nava\",\"d\":\"Facultad de econom\\\\u00eda \",\"m\":\"0\",\"c\":null},{\"i\":\"32964\",\"n\":\"Diana\",\"a\":\"Flores Ortiz\",\"d\":\"Facultad Economia\",\"m\":\"3\",\"c\":\"6.0000\"},{\"i\":\"152819\",\"n\":\"Georgina\",\"a\":\"Flores Padilla\",\"d\":\"Administraci\\\\u00f3n de Archivo y Gesti\\\\u00f3n documental\",\"m\":\"1\",\"c\":\"10.0000\"},{\"i\":\"22359\",\"n\":\"Marco Antonio\",\"a\":\"Flores Pe\\\\u00f1a\",\"d\":\"Derecho \",\"m\":\"17\",\"c\":\"7.0588\"},{\"i\":\"14472\",\"n\":\"Jos\\\\u00e9 Manuel\",\"a\":\"Flores Ramos\",\"d\":\"Economia\",\"m\":\"21\",\"c\":\"8.9048\"},{\"i\":\"81009\",\"n\":\"jos\\\\u00e9 lorenzo\",\"a\":\"flores rojo\",\"d\":\"contaduria y administraci\\\\u00f3n\",\"m\":\"2\",\"c\":\"2.0000\"},{\"i\":\"146406\",\"n\":\"Carlos Alberto\",\"a\":\"Flores Tlaseca\",\"d\":\"Econom\\\\u00eda Econom\\\\u00eda Pol\\\\u00edtica \",\"m\":\"2\",\"c\":\"10.0000\"},{\"i\":\"154542\",\"n\":\"Juan\",\"a\":\"Flores torres\",\"d\":\"Facultad de ciencias UNAM \",\"m\":\"1\",\"c\":\"2.0000\"},{\"i\":\"128832\",\"n\":\"Lioudmila\",\"a\":\"Fomina\",\"d\":\"Ingenier\\\\u00eda\",\"m\":\"0\",\"c\":null},{\"i\":\"51316\",\"n\":\"Luis Antonio\",\"a\":\"Foncerrada Pascal\",\"d\":\"Econom\\\\u00eda\",\"m\":\"25\",\"c\":\"8.9200\"},{\"i\":\"159007\",\"n\":\"Rosa Mar\\\\u00eda\",\"a\":\"Fonseca Ju\\\\u00e1rez\",\"d\":\"Facultad de Ciencias\",\"m\":\"1\",\"c\":\"10.0000\"},{\"i\":\"40494\",\"n\":\"CLAUDIA\",\"a\":\"FORTOUL\",\"d\":\"CONTADURIA Y ADMINISTRACION\",\"m\":\"2\",\"c\":\"2.5000\"},{\"i\":\"132597\",\"n\":\"ISMAEL\",\"a\":\"FRAGOSO\",\"d\":\"GONZALEZ\",\"m\":\"0\",\"c\":null},{\"i\":\"158410\",\"n\":\"Maria Eugenia\",\"a\":\"Fragoso Casta\\\\u00f1eda\",\"d\":\"Escuela de Trabajo Social\",\"m\":\"1\",\"c\":\"2.0000\"},{\"i\":\"135909\",\"n\":\"Carolina\",\"a\":\"Fraire Ben\\\\u00edtez\",\"d\":\"Artes \",\"m\":\"0\",\"c\":null},{\"i\":\"60643\",\"n\":\"san german flores\",\"a\":\"francisco javier\",\"d\":\"derecho sua\",\"m\":\"3\",\"c\":\"5.0000\"},{\"i\":\"111687\",\"n\":\"JUAN JOS\\\\u00c9\",\"a\":\"FRANCISCO SANTAMARIA\",\"d\":\"INGENIERIA \",\"m\":\"16\",\"c\":\"7.1875\"},{\"i\":\"116144\",\"n\":\"Alfonso\",\"a\":\"Franco\",\"d\":\"Contabilidad \",\"m\":\"0\",\"c\":null},{\"i\":\"158822\",\"n\":\"Jes\\\\u00fas\",\"a\":\"Franco\",\"d\":\"Contadur\\\\u00eda \",\"m\":\"0\",\"c\":null},{\"i\":\"111338\",\"n\":\"Guillermo\",\"a\":\"Franco\",\"d\":\"Cch oriente\",\"m\":\"0\",\"c\":null},{\"i\":\"15779\",\"n\":\"Guerrero Galeana\",\"a\":\"Franco\",\"d\":\"Econom\\\\u00eda\",\"m\":\"28\",\"c\":\"6.0000\"},{\"i\":\"15199\",\"n\":\"Ricardo\",\"a\":\"Franco\",\"d\":\"Guzman\",\"m\":\"1\",\"c\":\"10.0000\"},{\"i\":\"153651\",\"n\":\"Cesar del \\\\u00c1ngel\",\"a\":\"Franco Castel\\\\u00e1n\",\"d\":\"ENP 7 Inform\\\\u00e1tica \",\"m\":\"1\",\"c\":\"7.0000\"},{\"i\":\"74136\",\"n\":\"PEDRO ENRIQUE\",\"a\":\"FRANCO LUNA\",\"d\":\"FACULTAD DE DERECHO\",\"m\":\"2\",\"c\":\"10.0000\"},{\"i\":\"135530\",\"n\":\"GUADALUPE\",\"a\":\"FRANCO RODRIGUEZ\",\"d\":\"fes cuautitlan\",\"m\":\"3\",\"c\":\"8.6667\"},{\"i\":\"14195\",\"n\":\"Enrique \",\"a\":\"Franklin \",\"d\":\"Administraci\\\\u00f3n\",\"m\":\"13\",\"c\":\"7.3077\"},{\"i\":\"127794\",\"n\":\"Mar\\\\u00eda Teresa Gabriela\",\"a\":\"frenk mora\",\"d\":\"Facultad de M\\\\u00fasica\",\"m\":\"0\",\"c\":null},{\"i\":\"162593\",\"n\":\"Leonid\",\"a\":\"Fridman Goldreich\",\"d\":\"Inginieria\",\"m\":\"0\",\"c\":null},{\"i\":\"125936\",\"n\":\"MONTSERRAT MERCEDES\",\"a\":\"FRONTANA HORTA\",\"d\":\"Fes Acatlan\",\"m\":\"0\",\"c\":null},{\"i\":\"14203\",\"n\":\"Ram\\\\u00f3n\",\"a\":\"Fuenta\",\"d\":\"\",\"m\":\"1\",\"c\":\"4.0000\"},{\"i\":\"104687\",\"n\":\"Gorgonio\",\"a\":\"Fuentes Cruz\",\"d\":\"Facultad de ingenier\\\\u00eda \",\"m\":\"5\",\"c\":\"7.8000\"},{\"i\":\"142116\",\"n\":\"Guadalupe Esther\",\"a\":\"Fuentes Mariles\",\"d\":\"Facultad de Ingenieria\",\"m\":\"2\",\"c\":\"2.5000\"},{\"i\":\"68736\",\"n\":\"jorge fernando\",\"a\":\"fuentes navarro\",\"d\":\"Derecho\",\"m\":\"6\",\"c\":\"7.0000\"},{\"i\":\"100566\",\"n\":\"Carlos\",\"a\":\"Fuentes Paez\",\"d\":\"Derecho U.N.A.M.\",\"m\":\"1\",\"c\":\"2.0000\"},{\"i\":\"115583\",\"n\":\"Angeles rubi\",\"a\":\"Fuentes P\\\\u00e9rez\",\"d\":\"Facultad de ciencias pol\\\\u00edticas y Sociales\",\"m\":\"0\",\"c\":null},{\"i\":\"70901\",\"n\":\"ARTURO\",\"a\":\"FUENTES SALAS\",\"d\":\"CIENCIAS POL\\\\u00cdTICAS Y SOCIALES \",\"m\":\"4\",\"c\":\"8.0000\"},{\"i\":\"149565\",\"n\":\"Ricardo\",\"a\":\"Fuentes Salas\",\"d\":\"Traumatolog\\\\u00eda\",\"m\":\"1\",\"c\":\"2.0000\"},{\"i\":\"14473\",\"n\":\"Beatriz Ang\\\\u00e9lica\",\"a\":\"Fugigaki Cruz\",\"d\":\"Economia\",\"m\":\"12\",\"c\":\"8.0000\"},{\"i\":\"103946\",\"n\":\"Beatriz Ang\\\\u00e9lica\",\"a\":\"Fujigaki Cruz\",\"d\":\"Econom\\\\u00eda\",\"m\":\"0\",\"c\":null},{\"i\":\"14474\",\"n\":\"Esperanza\",\"a\":\"Fujigaki Cruz\",\"d\":\"Economia\",\"m\":\"32\",\"c\":\"7.6250\"},{\"i\":\"14506\",\"n\":\"Gerardo Hirosi\",\"a\":\"Fujii Gambero\",\"d\":\"Economia\",\"m\":\"10\",\"c\":\"7.2000\"},{\"i\":\"45942\",\"n\":\"Caridad\",\"a\":\"Fuster Guzman\",\"d\":\"Plantel 6 ENP\",\"m\":\"2\",\"c\":\"9.0000\"},{\"i\":\"16804\",\"n\":\"Jorge\",\"a\":\"Gacia Hoyos\",\"d\":\"Economia\",\"m\":\"5\",\"c\":\"8.6000\"},{\"i\":\"47580\",\"n\":\"Itzel Graciela, Mtra.\",\"a\":\"Gal\\\\u00e1n L\\\\u00f3pez\",\"d\":\"neurospsicologia\",\"m\":\"2\",\"c\":\"9.5000\"},{\"i\":\"113665\",\"n\":\"JORGE\",\"a\":\"GALAVIZ HERNANDEZ\",\"d\":\"Arquitectura\",\"m\":\"1\",\"c\":\"8.0000\"},{\"i\":\"70199\",\"n\":\"maria elena\",\"a\":\"galeana rodriguez\",\"d\":\"fcpys\",\"m\":\"0\",\"c\":null},{\"i\":\"161822\",\"n\":\"Jorge\",\"a\":\"Galeazzi\",\"d\":\"Ciencias pol\\\\u00edticas y administraci\\\\u00f3n p\\\\u00fablica \",\"m\":\"0\",\"c\":null},{\"i\":\"110615\",\"n\":\"ana laura\",\"a\":\"galicia\",\"d\":\"garcia\",\"m\":\"1\",\"c\":\"10.0000\"},{\"i\":\"144963\",\"n\":\"GRISELDA\",\"a\":\"GALICIA MARTINEZ\",\"d\":\"MEDICINA\",\"m\":\"0\",\"c\":null},{\"i\":\"111327\",\"n\":\"HECTOR\",\"a\":\"GALINDO HERNANDEZ\",\"d\":\"FACULTAD DE CIENCIAS POLITICAS Y SOCIALES\",\"m\":\"1\",\"c\":\"10.0000\"},{\"i\":\"14566\",\"n\":\"Maria Magdalena\",\"a\":\"Galindo Ledesma\",\"d\":\"Economia\",\"m\":\"16\",\"c\":\"6.8750\"},{\"i\":\"110820\",\"n\":\"Daniela\",\"a\":\"Galindo Mendoza\",\"d\":\"Colegio de Ciencias y Humanidades Plantel Sur\",\"m\":\"1\",\"c\":\"9.0000\"},{\"i\":\"11233\",\"n\":\"Luis Miguel\",\"a\":\"Galindo Paliza\",\"d\":\"Econom\\\\u00eda\",\"m\":\"7\",\"c\":\"5.7143\"},{\"i\":\"151357\",\"n\":\"Gildardo\",\"a\":\"Galindo Rayo\",\"d\":\"Educaci\\\\u00f3n f\\\\u00edsica \",\"m\":\"0\",\"c\":null},{\"i\":\"95208\",\"n\":\"david jaime\",\"a\":\"gallardo\",\"d\":\"literatura dramatica y teatro \",\"m\":\"0\",\"c\":null},{\"i\":\"11234\",\"n\":\"Juan\",\"a\":\"Gallardo Cervantes\",\"d\":\"Econom\\\\u00eda\",\"m\":\"62\",\"c\":\"7.7903\"},{\"i\":\"45251\",\"n\":\"ricardo\",\"a\":\"gallart de la torre\",\"d\":\"acatlan derecho\",\"m\":\"0\",\"c\":null},{\"i\":\"15216\",\"n\":\"Jesus\",\"a\":\"Gallegos \",\"d\":\"Ingenier\\\\u00eda\",\"m\":\"3\",\"c\":\"7.3333\"},{\"i\":\"113959\",\"n\":\"Cinthya\",\"a\":\"Gallegos  Mercado\",\"d\":\"Educadora prescolar durango dgo\",\"m\":\"1\",\"c\":\"10.0000\"},{\"i\":\"137975\",\"n\":\"Cynthia\",\"a\":\"Gallegos Mercado\",\"d\":\"Kinder Manuel \\\\u00c1vila Camacho\",\"m\":\"0\",\"c\":null},{\"i\":\"125249\",\"n\":\"Ang\\\\u00e9lica\",\"a\":\"Galvan torres\",\"d\":\"Biolog\\\\u00eda \",\"m\":\"1\",\"c\":\"9.0000\"},{\"i\":\"157288\",\"n\":\"Jorge\",\"a\":\"Galviz Hern\\\\u00e1ndez\",\"d\":\"Arquitectura\\\\/max cetto\",\"m\":\"0\",\"c\":null},{\"i\":\"109867\",\"n\":\"Emilia Monserrat\",\"a\":\"Gamboa Mendez\",\"d\":\"ENTS \",\"m\":\"0\",\"c\":null},{\"i\":\"42291\",\"n\":\"Fernando Armin\",\"a\":\"Gamboa Quezada\",\"d\":\"Econom\\\\u00eda\",\"m\":\"20\",\"c\":\"6.2000\"},{\"i\":\"43899\",\"n\":\"Luis Antonio\",\"a\":\"Gamiochipi Cano\",\"d\":\"Facultad de Psicologia\",\"m\":\"2\",\"c\":\"2.5000\"},{\"i\":\"161326\",\"n\":\"Samuel\",\"a\":\"Gandarilla P\\\\u00e9rez\",\"d\":\"Facultad de ingenier\\\\u00eda \",\"m\":\"1\",\"c\":\"5.0000\"},{\"i\":\"96353\",\"n\":\"Rocio\",\"a\":\"Ga\\\\u00f1mi\\\\u00f1o\",\"d\":\"Filosofia y Letras \",\"m\":\"0\",\"c\":null},{\"i\":\"149892\",\"n\":\"Carlos\",\"a\":\"Garay Romero\",\"d\":\"FES Acatlan\",\"m\":\"1\",\"c\":\"2.0000\"},{\"i\":\"101560\",\"n\":\"Pedro Iv\\\\u00e1n\",\"a\":\"Garc\\\\u00e9s Camacho\",\"d\":\"Ciencias\",\"m\":\"9\",\"c\":\"8.0000\"},{\"i\":\"153306\",\"n\":\"TEOAUIALIZTLI\",\"a\":\"GARC\\\\u00cdA\",\"d\":\"Facultad de Contadur\\\\u00eda y Administraci\\\\u00f3n UNAM\",\"m\":\"2\",\"c\":\"9.5000\"},{\"i\":\"156866\",\"n\":\"ROSALIA\",\"a\":\"garcia\",\"d\":\"cuautitlan\",\"m\":\"0\",\"c\":null},{\"i\":\"66661\",\"n\":\"MARIA DE LOURDES\",\"a\":\"GARCIA\",\"d\":\"MARTINEZ\",\"m\":\"3\",\"c\":\"3.0000\"},{\"i\":\"100409\",\"n\":\"Omar Franco\",\"a\":\"Garcia\",\"d\":\"Derecho\",\"m\":\"0\",\"c\":null},{\"i\":\"144446\",\"n\":\"Arturo\",\"a\":\"Garc\\\\u00eda\",\"d\":\"Fugueroa\",\"m\":\"0\",\"c\":null},{\"i\":\"135675\",\"n\":\"Pablo\",\"a\":\"Garcia\",\"d\":\"Ingenieria\",\"m\":\"0\",\"c\":null},{\"i\":\"141916\",\"n\":\"Gerardo Mart\\\\u00edn\",\"a\":\"Garc\\\\u00eda\",\"d\":\"Facultad de Ingenier\\\\u00eda\",\"m\":\"7\",\"c\":\"6.2857\"},{\"i\":\"142586\",\"n\":\"Ramiro\",\"a\":\"Garc\\\\u00eda\",\"d\":\"Ciencias\",\"m\":\"0\",\"c\":null},{\"i\":\"144447\",\"n\":\"Arturo\",\"a\":\"Garc\\\\u00eda\",\"d\":\"Figueroa\",\"m\":\"0\",\"c\":null},{\"i\":\"155359\",\"n\":\"Mariana\",\"a\":\"Garc\\\\u00eda Aguilar\",\"d\":\"Filosof\\\\u00eda y Letras, Colegio de Letras Modernas, Le\",\"m\":\"3\",\"c\":\"10.0000\"},{\"i\":\"156074\",\"n\":\"Alejandra elda\",\"a\":\"Garc\\\\u00eda alarcon\",\"d\":\"Fcpys\",\"m\":\"0\",\"c\":null},{\"i\":\"14383\",\"n\":\"Manuel\",\"a\":\"Garc\\\\u00eda Alvarez\",\"d\":\"Economia\",\"m\":\"55\",\"c\":\"6.7636\"},{\"i\":\"80897\",\"n\":\"MIRIAM XIMENA\",\"a\":\"GARCIA ALVAREZ\",\"d\":\"ENAP\",\"m\":\"1\",\"c\":\"6.0000\"},{\"i\":\"113389\",\"n\":\"Ang\\\\u00e9lica\",\"a\":\"Garc\\\\u00eda Barajas\",\"d\":\"Facultad de psicolog\\\\u00eda\",\"m\":\"1\",\"c\":\"10.0000\"},{\"i\":\"111997\",\"n\":\"Zaira Rubi\",\"a\":\"Garc\\\\u00eda Barranco\",\"d\":\"Ingl\\\\u00e9s\",\"m\":\"0\",\"c\":null},{\"i\":\"74005\",\"n\":\"GEORGINA\",\"a\":\"GARCIA BECERRIL\",\"d\":\"FES ARAGON \",\"m\":\"9\",\"c\":\"4.8889\"},{\"i\":\"79372\",\"n\":\"Oscar\",\"a\":\"Garcia Benavides\",\"d\":\"Ingl\\\\u00e9s (SUA), Facultad derecho, Unam\",\"m\":\"16\",\"c\":\"6.8750\"},{\"i\":\"135557\",\"n\":\"Ver\\\\u00f3nica Hikra\",\"a\":\"Garcia Casanova\",\"d\":\"Ingenier\\\\u00eda \",\"m\":\"2\",\"c\":\"4.0000\"},{\"i\":\"154373\",\"n\":\"Cesar Pastor\",\"a\":\"Garc\\\\u00eda Cruz\",\"d\":\"Ciencias\",\"m\":\"1\",\"c\":\"9.0000\"},{\"i\":\"150057\",\"n\":\"Cesar Pastor\",\"a\":\"Garc\\\\u00eda Cruz\",\"d\":\"Facultad de Ciencias\\\\/ Biolog\\\\u00eda \",\"m\":\"1\",\"c\":\"7.0000\"},{\"i\":\"16614\",\"n\":\"armando\",\"a\":\"garcia de la cadena\",\"d\":\"mu\\\\u00f1oz\",\"m\":\"8\",\"c\":\"9.7500\"},{\"i\":\"27638\",\"n\":\"jorge\",\"a\":\"garcia de la cadena\",\"d\":\"ingles\",\"m\":\"0\",\"c\":null},{\"i\":\"14475\",\"n\":\"Antonio Armando\",\"a\":\"Garc\\\\u00eda de Le\\\\u00f3n Griego\",\"d\":\"Economia\",\"m\":\"5\",\"c\":\"9.6000\"},{\"i\":\"15947\",\"n\":\"Carolina\",\"a\":\"Garc\\\\u00eda Diaz\",\"d\":\"Derecho\",\"m\":\"8\",\"c\":\"4.1250\"},{\"i\":\"62984\",\"n\":\"MIGUEL ANGEL\",\"a\":\"GARC\\\\u00cdA D\\\\u00cdAZ\",\"d\":\"VETERINARIA\",\"m\":\"2\",\"c\":\"6.0000\"},{\"i\":\"26722\",\"n\":\"antonio\",\"a\":\"garcia echeverria\",\"d\":\"Prepa 2 churubusco\",\"m\":\"1\",\"c\":\"10.0000\"},{\"i\":\"14476\",\"n\":\"Maribel\",\"a\":\"Garc\\\\u00eda Elizalde\",\"d\":\"Economia\",\"m\":\"29\",\"c\":\"6.6207\"},{\"i\":\"161484\",\"n\":\"Mariana\",\"a\":\"Garc\\\\u00eda Fajardo\",\"d\":\"Facultad de arquitectura\",\"m\":\"0\",\"c\":null},{\"i\":\"15676\",\"n\":\"Ivan\",\"a\":\"Garcia Garate\",\"d\":\"FCPyS\",\"m\":\"8\",\"c\":\"8.8750\"},{\"i\":\"155661\",\"n\":\"Rodrigo Roberto\",\"a\":\"Garc\\\\u00eda garcilazo\",\"d\":\"Derecho\",\"m\":\"0\",\"c\":null},{\"i\":\"134820\",\"n\":\"armando\",\"a\":\"garc\\\\u00eda g\\\\u00f3mez\",\"d\":\"Derecho\",\"m\":\"1\",\"c\":\"10.0000\"},{\"i\":\"106979\",\"n\":\"Edgar Iv\\\\u00e1n\",\"a\":\"Garc\\\\u00eda G\\\\u00f3mez\",\"d\":\"Facultad de Ciencias\",\"m\":\"4\",\"c\":\"10.0000\"},{\"i\":\"125243\",\"n\":\"Arturo\",\"a\":\"Garc\\\\u00eda G\\\\u00f3mez\",\"d\":\"Cch \",\"m\":\"0\",\"c\":null},{\"i\":\"63578\",\"n\":\"Omar\",\"a\":\"Garc\\\\u00eda Gonzales\",\"d\":\"\",\"m\":\"4\",\"c\":\"8.7500\"},{\"i\":\"109109\",\"n\":\"Oscar Arturo\",\"a\":\"Garc\\\\u00eda Gonz\\\\u00e1lez\",\"d\":\"Facultad de Econom\\\\u00eda\",\"m\":\"3\",\"c\":\"7.3333\"},{\"i\":\"45940\",\"n\":\"Miguel\",\"a\":\"Garcia Guerrero\",\"d\":\"Facultad de quimica\",\"m\":\"2\",\"c\":\"8.5000\"},{\"i\":\"152735\",\"n\":\"Maria Josefina\",\"a\":\"Garc\\\\u00eda guerrero\",\"d\":\"Artes pl\\\\u00e1sticas\",\"m\":\"0\",\"c\":null},{\"i\":\"85462\",\"n\":\"Dan israel\",\"a\":\"Garcia Guti\\\\u00e9rrez\",\"d\":\"Fes acatlan\",\"m\":\"1\",\"c\":\"5.0000\"},{\"i\":\"117400\",\"n\":\"Ana Hilda\",\"a\":\"Garcia Guti\\\\u00e9rrez\",\"d\":\"ENP plantel 1 \\\\\"Gabino Barreda\\\\\"\",\"m\":\"3\",\"c\":\"7.3333\"},{\"i\":\"107235\",\"n\":\"Sergio\",\"a\":\"Garcia Hern\\\\u00e1ndez\",\"d\":\"Matem\\\\u00e1ticas \",\"m\":\"4\",\"c\":\"5.5000\"},{\"i\":\"21082\",\"n\":\"Juan Jos\\\\u00e9\",\"a\":\"Garc\\\\u00eda Hern\\\\u00e1ndez\",\"d\":\"Econom\\\\u00eda\",\"m\":\"9\",\"c\":\"4.4444\"},{\"i\":\"147021\",\"n\":\"Mar\\\\u00eda del Socorro\",\"a\":\"Garc\\\\u00eda Jacales\",\"d\":\"Ciencias Pol\\\\u00edticas\",\"m\":\"1\",\"c\":\"4.0000\"},{\"i\":\"101761\",\"n\":\"Ferm\\\\u00edn\",\"a\":\"Garcia Jim\\\\u00e9nez\",\"d\":\"Matem\\\\u00e1ticas \",\"m\":\"2\",\"c\":\"7.5000\"},{\"i\":\"42171\",\"n\":\"aida josefina\",\"a\":\"garcia lazaro\",\"d\":\"economia\",\"m\":\"4\",\"c\":\"8.2500\"},{\"i\":\"153439\",\"n\":\"Bertha\",\"a\":\"Garc\\\\u00eda Leal\",\"d\":\"Medicina\",\"m\":\"0\",\"c\":null},{\"i\":\"36680\",\"n\":\"CARLOS DAVID\",\"a\":\"GARCIA MANCILLA\",\"d\":\"FILOSOFIA\",\"m\":\"6\",\"c\":\"6.8333\"},{\"i\":\"149495\",\"n\":\"CIRO\",\"a\":\"GARCIA MARIN\",\"d\":\"DERECHO ACATLAN\",\"m\":\"1\",\"c\":\"2.0000\"},{\"i\":\"25848\",\"n\":\"Enrique\",\"a\":\"Garc\\\\u00eda Mart\\\\u00ednez\",\"d\":\"Derecho Administrativo (Administraci\\\\u00f3n P\\\\u00fablica)\",\"m\":\"19\",\"c\":\"8.4211\"},{\"i\":\"18818\",\"n\":\"jose omar\",\"a\":\"garcia martinez\",\"d\":\"enap\",\"m\":\"8\",\"c\":\"8.7500\"},{\"i\":\"139543\",\"n\":\"ANA LAURA\",\"a\":\"GARC\\\\u00cdA MART\\\\u00cdNEZ\",\"d\":\"INGENIER\\\\u00cdA BIOM\\\\u00c9DICA\",\"m\":\"1\",\"c\":\"9.0000\"},{\"i\":\"144080\",\"n\":\"Mar\\\\u00eda Sof\\\\u00eda\",\"a\":\"Garc\\\\u00eda Mart\\\\u00ednez\",\"d\":\"ENP 8\",\"m\":\"1\",\"c\":\"2.0000\"},{\"i\":\"161564\",\"n\":\"CARLOS\",\"a\":\"GARCIA MARTINEZ\",\"d\":\"FES ACATLAN \",\"m\":\"0\",\"c\":null},{\"i\":\"100225\",\"n\":\"Mar\\\\u00eda Elena\",\"a\":\"Garc\\\\u00eda Mendoza\",\"d\":\"ENTS\",\"m\":\"0\",\"c\":null},{\"i\":\"135048\",\"n\":\"Gaston\",\"a\":\"Garcia Miranda\",\"d\":\"ciencias politicas y sociales\",\"m\":\"0\",\"c\":null},{\"i\":\"125219\",\"n\":\"Luz Mar\\\\u00eda Guadalupe\",\"a\":\"Garc\\\\u00eda Molina\",\"d\":\"Escuela Nacional de Trabajo Social \",\"m\":\"0\",\"c\":null},{\"i\":\"157166\",\"n\":\"Reyes Laurencio\",\"a\":\"Garc\\\\u00eda Moncada\",\"d\":\"M. A. C\",\"m\":\"1\",\"c\":\"9.0000\"},{\"i\":\"105660\",\"n\":\"cesar\",\"a\":\"garcia mondragon\",\"d\":\"fca\",\"m\":\"1\",\"c\":\"10.0000\"},{\"i\":\"140936\",\"n\":\"Guadalupe Hilario\",\"a\":\"Garc\\\\u00eda Montoya\",\"d\":\"Cch oriente\",\"m\":\"0\",\"c\":null},{\"i\":\"14567\",\"n\":\"Rafael\",\"a\":\"Garcia Moreno\",\"d\":\"Economia\",\"m\":\"31\",\"c\":\"5.6452\"},{\"i\":\"143046\",\"n\":\"Moises\",\"a\":\"Garcia nava\",\"d\":\"M dicina\",\"m\":\"1\",\"c\":\"10.0000\"},{\"i\":\"161850\",\"n\":\"Francisco Javier\",\"a\":\"Garc\\\\u00eda Osorio\",\"d\":\"Facultad de ingenier\\\\u00eda \",\"m\":\"1\",\"c\":\"8.0000\"},{\"i\":\"128628\",\"n\":\"Diego\",\"a\":\"Garcia Osorio\",\"d\":\"Fes Acatlan\",\"m\":\"0\",\"c\":null},{\"i\":\"124276\",\"n\":\"Rosa\",\"a\":\"Garc\\\\u00eda Pacheco\",\"d\":\"Prepa 8\",\"m\":\"1\",\"c\":\"2.0000\"},{\"i\":\"14507\",\"n\":\"Benjamin\",\"a\":\"Garcia Paez\",\"d\":\"Economia\",\"m\":\"29\",\"c\":\"5.8276\"},{\"i\":\"111189\",\"n\":\"Mar\\\\u00eda Patricia\",\"a\":\"Garcia Pav\\\\u00f3n\",\"d\":\"Qu\\\\u00edmica \",\"m\":\"2\",\"c\":\"4.0000\"},{\"i\":\"139005\",\"n\":\"Alberto\",\"a\":\"Garcia Pimentel\",\"d\":\"Prepa 9\",\"m\":\"0\",\"c\":null},{\"i\":\"15015\",\"n\":\"Gloria \",\"a\":\"Garc\\\\u00eda R\",\"d\":\"Fac de Q. (Anal\\\\u00edtica)\",\"m\":\"4\",\"c\":\"8.2500\"},{\"i\":\"111666\",\"n\":\"Diego Armando\",\"a\":\"Garc\\\\u00eda Ramirez\",\"d\":\"Facultad de Contadur\\\\u00eda Y Administraci\\\\u00f3n\",\"m\":\"3\",\"c\":\"9.3333\"},{\"i\":\"141261\",\"n\":\"Jes\\\\u00fas Manuel\",\"a\":\"Garc\\\\u00eda ramos\",\"d\":\"Econom\\\\u00eda \",\"m\":\"1\",\"c\":\"9.0000\"},{\"i\":\"134509\",\"n\":\"Diego\",\"a\":\"Garcia Ricci\",\"d\":\"Derecho\",\"m\":\"4\",\"c\":\"7.5000\"},{\"i\":\"116156\",\"n\":\"ROCIO CAROLINA\",\"a\":\"Garc\\\\u00eda Rivera\",\"d\":\"Microbiologia y Parasitolog\\\\u00eda\\\\/ Facultad de Medicin\",\"m\":\"2\",\"c\":\"10.0000\"},{\"i\":\"153654\",\"n\":\"Mar\\\\u00eda del Roc\\\\u00edo\",\"a\":\"Garc\\\\u00eda Rodriguez\",\"d\":\"ENP 7 Dibujo \",\"m\":\"1\",\"c\":\"5.0000\"},{\"i\":\"145650\",\"n\":\"Carmen Julia\",\"a\":\"Garc\\\\u00eda Rodr\\\\u00edguez-Mar\\\\u00edn\",\"d\":\"Filosof\\\\u00eda UNAM\",\"m\":\"1\",\"c\":\"2.0000\"},{\"i\":\"149649\",\"n\":\"Gabriela\",\"a\":\"Garcia Romero\",\"d\":\"Psicolog\\\\u00eda \",\"m\":\"0\",\"c\":null},{\"i\":\"29503\",\"n\":\"pedro enrique\",\"a\":\"garcia ruiz\",\"d\":\"filosofia y letras\",\"m\":\"41\",\"c\":\"9.8780\"},{\"i\":\"39993\",\"n\":\"Mar\\\\u00eda de Lourdes\",\"a\":\"Garc\\\\u00eda Ru\\\\u00edz\",\"d\":\"Derecho\",\"m\":\"7\",\"c\":\"5.8571\"},{\"i\":\"151523\",\"n\":\"Hugo Enrique\",\"a\":\"Garc\\\\u00eda Ruiz\",\"d\":\"FES Acatl\\\\u00e1n\",\"m\":\"0\",\"c\":null},{\"i\":\"72355\",\"n\":\"RICARDO\",\"a\":\"GARCIA RUIZ\",\"d\":\"ENP 6 \",\"m\":\"1\",\"c\":\"10.0000\"},{\"i\":\"153028\",\"n\":\"Mariana\",\"a\":\"Garc\\\\u00eda sandoval\",\"d\":\"En la boca 7\",\"m\":\"1\",\"c\":\"2.0000\"},{\"i\":\"155651\",\"n\":\"Mario\",\"a\":\"Garc\\\\u00eda Santa Anna\",\"d\":\"Derecho\",\"m\":\"8\",\"c\":\"10.0000\"},{\"i\":\"73742\",\"n\":\"VICTOR MANUEL\",\"a\":\"GARCIA SANTIAGO\",\"d\":\"FES Arag\\\\u00f3n\",\"m\":\"2\",\"c\":\"10.0000\"},{\"i\":\"14568\",\"n\":\"Rosa Maria\",\"a\":\"Garcia Torres\",\"d\":\"Economia\",\"m\":\"38\",\"c\":\"6.6579\"},{\"i\":\"15949\",\"n\":\"Paul Octavio\",\"a\":\"Garc\\\\u00eda Torres\",\"d\":\"Derecho\",\"m\":\"45\",\"c\":\"5.3333\"},{\"i\":\"15014\",\"n\":\"Jos\\\\u00e9 de Jes\\\\u00fas\",\"a\":\"Garc\\\\u00eda Vald\\\\u00e9s\",\"d\":\"Q. Anal\\\\u00edtica\",\"m\":\"9\",\"c\":\"7.4444\"},{\"i\":\"73785\",\"n\":\"EDGAR OMAR\",\"a\":\"GARCIA VAZQUES\",\"d\":\"CCH ORIENTE\",\"m\":\"1\",\"c\":\"8.0000\"},{\"i\":\"149275\",\"n\":\"Xochitl Ninel\",\"a\":\"Garc\\\\u00eda V\\\\u00e1zquez\",\"d\":\"Facultad de Econom\\\\u00eda \",\"m\":\"0\",\"c\":null},{\"i\":\"155892\",\"n\":\"MARIA DEL CARMEN\",\"a\":\"GARCIA VAZQUEZ\",\"d\":\"ENP2\",\"m\":\"0\",\"c\":null},{\"i\":\"160254\",\"n\":\"Josu\\\\u00e9\",\"a\":\"Garc\\\\u00eda Veiga\",\"d\":\"Facultad de Econom\\\\u00eda \",\"m\":\"1\",\"c\":\"10.0000\"},{\"i\":\"124133\",\"n\":\"Eduardo\",\"a\":\"Garc\\\\u00eda Vidales\",\"d\":\"FES ZARAGOZA\",\"m\":\"0\",\"c\":null},{\"i\":\"104344\",\"n\":\"ILSE\",\"a\":\"GARCIA VILLALOBOS\",\"d\":\"Facultad de arquitectura,UNAM\",\"m\":\"3\",\"c\":\"9.3333\"},{\"i\":\"135047\",\"n\":\"Alma Lorena\",\"a\":\"Garcia Yepes\",\"d\":\"ciencias politicas y sociales\",\"m\":\"0\",\"c\":null},{\"i\":\"156285\",\"n\":\"Noemi Gabriela\",\"a\":\"Garcia Zamora\",\"d\":\"Fes acatl\\\\u00e1n \",\"m\":\"0\",\"c\":null},{\"i\":\"62404\",\"n\":\"Alfredo\",\"a\":\"Garc\\\\u00eda Zavala\",\"d\":\"CCH Sur\",\"m\":\"9\",\"c\":\"8.7778\"},{\"i\":\"149105\",\"n\":\"Mar\\\\u00eda Eunice\",\"a\":\"Garc\\\\u00eda Z\\\\u00fa\\\\u00f1iga\",\"d\":\"Escuela Nacional de Trabajo Social\",\"m\":\"1\",\"c\":\"9.0000\"},{\"i\":\"16485\",\"n\":\"Gustavo\",\"a\":\"Gardu\\\\u00f1o\",\"d\":\"Qu\\\\u00edmica\",\"m\":\"8\",\"c\":\"3.8750\"},{\"i\":\"149476\",\"n\":\"ISRAEL\",\"a\":\"GARDU\\\\u00d1O BONILLA ISRAEL\",\"d\":\"Fes Arag\\\\u00f3n\",\"m\":\"0\",\"c\":null},{\"i\":\"140038\",\"n\":\"Gloria Alejandra\",\"a\":\"Gardu\\\\u00f1o Hern\\\\u00e1ndez\",\"d\":\"Latin\",\"m\":\"1\",\"c\":\"2.0000\"},{\"i\":\"124215\",\"n\":\"Jorge Luis\",\"a\":\"Gardu\\\\u00f1o Hern\\\\u00e1ndez\",\"d\":\"FES ARAG\\\\u00d3N \",\"m\":\"2\",\"c\":\"6.0000\"},{\"i\":\"141402\",\"n\":\"Mar\\\\u00eda isabel\",\"a\":\"Gardu\\\\u00f1o posadas\",\"d\":\"Fes zaragoza \",\"m\":\"1\",\"c\":\"10.0000\"},{\"i\":\"164317\",\"n\":\"Ernesto Mariano Jos\\\\u00e9\",\"a\":\"Garreta Garc\\\\u00eda\",\"d\":\"FES Acatl\\\\u00e1n\",\"m\":\"1\",\"c\":\"4.0000\"},{\"i\":\"151304\",\"n\":\"Hilda\",\"a\":\"Garrido\",\"d\":\"Villasana \",\"m\":\"1\",\"c\":\"2.0000\"},{\"i\":\"84435\",\"n\":\"Tania\",\"a\":\"Garrido Gardu\\\\u00f1o\",\"d\":\"Biolog\\\\u00eda\",\"m\":\"2\",\"c\":\"10.0000\"},{\"i\":\"85231\",\"n\":\"FRANCISCO JAVIER\",\"a\":\"GARRIDO SEGURA\",\"d\":\"fes aragon\",\"m\":\"0\",\"c\":null},{\"i\":\"51508\",\"n\":\"Ra\\\\u00fal\",\"a\":\"Garza\",\"d\":\"Qu\\\\u00edmica\",\"m\":\"1\",\"c\":\"10.0000\"},{\"i\":\"146975\",\"n\":\"Jes\\\\u00fas\",\"a\":\"Gasca Fern\\\\u00e1ndez\",\"d\":\"Medicina\",\"m\":\"0\",\"c\":null},{\"i\":\"99885\",\"n\":\"Jose angel\",\"a\":\"gasca ortiz\",\"d\":\"Arag\\\\u00f3n\",\"m\":\"0\",\"c\":null},{\"i\":\"84861\",\"n\":\"v\\\\u00edctor Manuel\",\"a\":\"gastan herreta\",\"d\":\"Psicolog\\\\u00eda\",\"m\":\"0\",\"c\":null},{\"i\":\"120944\",\"n\":\"Rub\\\\u00e9n luis\",\"a\":\"Gavi\\\\u00f1o Ramirez\",\"d\":\"Instituto de qu\\\\u00edmica \",\"m\":\"0\",\"c\":null},{\"i\":\"72981\",\"n\":\"Elisa\",\"a\":\"Gayol Perez\",\"d\":\"Fea Iztacala\",\"m\":\"1\",\"c\":\"10.0000\"},{\"i\":\"14477\",\"n\":\"Antonio\",\"a\":\"Gazol S\\\\u00e1nchez\",\"d\":\"Economia\",\"m\":\"61\",\"c\":\"7.9016\"},{\"i\":\"143290\",\"n\":\"Jesus\",\"a\":\"George Zamora\",\"d\":\"Derecho\",\"m\":\"0\",\"c\":null},{\"i\":\"95170\",\"n\":\"Mariana\",\"a\":\"Gil\",\"d\":\"Derecho Procesal Penal, UNAM\",\"m\":\"1\",\"c\":\"9.0000\"},{\"i\":\"41526\",\"n\":\"Berta\",\"a\":\"Gilabert Hidalgo\",\"d\":\"Historia\",\"m\":\"25\",\"c\":\"6.2800\"},{\"i\":\"138699\",\"n\":\"Gilberto\",\"a\":\"Gir\\\\u00f3n\",\"d\":\"Psicolog\\\\u00eda \",\"m\":\"1\",\"c\":\"2.0000\"},{\"i\":\"39566\",\"n\":\"alicia adelaida\",\"a\":\"giron gonzalez\",\"d\":\"\",\"m\":\"24\",\"c\":\"3.9167\"},{\"i\":\"109080\",\"n\":\"ANN\",\"a\":\"GODELIEVE WELLENS\",\"d\":\"Inganieria\",\"m\":\"0\",\"c\":null},{\"i\":\"140926\",\"n\":\"Sarai\",\"a\":\"God\\\\u00ednez  Mejia\",\"d\":\"Medicina de rehabilitaci\\\\u00f3n\",\"m\":\"2\",\"c\":\"9.5000\"},{\"i\":\"107453\",\"n\":\"Martha Leticia\",\"a\":\"godinez galicia\",\"d\":\"prepa 8\",\"m\":\"18\",\"c\":\"2.1667\"},{\"i\":\"109928\",\"n\":\"JOEL\",\"a\":\"Gomez\",\"d\":\"Facultad de ingenieria\",\"m\":\"1\",\"c\":\"3.0000\"},{\"i\":\"137536\",\"n\":\"Ernestina\",\"a\":\"Gomez\",\"d\":\"Sona platiada mina rica 48\",\"m\":\"0\",\"c\":null},{\"i\":\"106977\",\"n\":\"Yazmin\",\"a\":\"Gomez\",\"d\":\"Ciencias pol\\\\u00edticas \",\"m\":\"5\",\"c\":\"9.8000\"},{\"i\":\"73510\",\"n\":\"Carlos\",\"a\":\"Gomez\",\"d\":\"Psicologia \",\"m\":\"0\",\"c\":null},{\"i\":\"84301\",\"n\":\"Daniela\",\"a\":\"Gomez Altamirano\",\"d\":\"Derecho\",\"m\":\"0\",\"c\":null},{\"i\":\"98077\",\"n\":\"David\",\"a\":\"G\\\\u00f3mez Arredondo\",\"d\":\"FCPyS\",\"m\":\"1\",\"c\":\"9.0000\"},{\"i\":\"154163\",\"n\":\"Alicia lucia\",\"a\":\"G\\\\u00f3mez cadena\",\"d\":\"Ciencias\",\"m\":\"0\",\"c\":null},{\"i\":\"134496\",\"n\":\"OMAR ALEJANDRO\",\"a\":\"G\\\\u00d3MEZ CARBAJAL\",\"d\":\"Facultad de Arquitectura UNAM\",\"m\":\"4\",\"c\":\"7.7500\"},{\"i\":\"119627\",\"n\":\"CARINA\",\"a\":\"G\\\\u00d3MEZ FROEDE\",\"d\":\"DERECHO\",\"m\":\"0\",\"c\":null},{\"i\":\"138849\",\"n\":\"Jos\\\\u00e9 Francisco\",\"a\":\"G\\\\u00f3mez Garc\\\\u00eda\",\"d\":\"Fisica y qu\\\\u00edmica te\\\\u00f3rica\",\"m\":\"1\",\"c\":\"5.0000\"},{\"i\":\"150222\",\"n\":\"Norma Leticia\",\"a\":\"Gomez Granados\",\"d\":\"Contadur\\\\u00eda y Administraci\\\\u00f3n \",\"m\":\"1\",\"c\":\"10.0000\"},{\"i\":\"149333\",\"n\":\"mar\\\\u00eda gabriela\",\"a\":\"g\\\\u00f3mez guerrero\",\"d\":\"argumentaci\\\\u00f3n jur\\\\u00eddica\",\"m\":\"0\",\"c\":null},{\"i\":\"163678\",\"n\":\"Tania Sairi\",\"a\":\"G\\\\u00f3mez Hern\\\\u00e1ndez\",\"d\":\"Facultad de filosof\\\\u00eda y LetrasColegio de Estudios \",\"m\":\"0\",\"c\":null},{\"i\":\"163680\",\"n\":\"Tania Sairi\",\"a\":\"G\\\\u00f3mez Hern\\\\u00e1ndez\",\"d\":\"Facultad de filosof\\\\u00eda y Letras Colegio de Estudios\",\"m\":\"1\",\"c\":\"10.0000\"},{\"i\":\"163679\",\"n\":\"Tania Sairi\",\"a\":\"G\\\\u00f3mez Hern\\\\u00e1ndez\",\"d\":\"Facultad de filosof\\\\u00eda y LetrasColegio de Estudios \",\"m\":\"0\",\"c\":null},{\"i\":\"125456\",\"n\":\"MARIA TERESA\",\"a\":\"GOMEZ HERRERA\",\"d\":\"ARQUITECTURA\",\"m\":\"2\",\"c\":\"9.0000\"},{\"i\":\"37912\",\"n\":\"fernado david\",\"a\":\"gomez infante\",\"d\":\"22\",\"m\":\"0\",\"c\":null},{\"i\":\"157919\",\"n\":\"Olivia\",\"a\":\"G\\\\u00f3mez Lezama\",\"d\":\"Facultad de Filosof\\\\u00eda y Letras\\\\/ CELA\",\"m\":\"2\",\"c\":\"3.5000\"},{\"i\":\"104075\",\"n\":\"Francisco Javier\",\"a\":\"G\\\\u00f3mez Monroy\",\"d\":\"FCPyS\",\"m\":\"1\",\"c\":\"7.0000\"},{\"i\":\"109131\",\"n\":\"Felipe Eleazar\",\"a\":\"G\\\\u00f3mez Morales\",\"d\":\"FES Acatl\\\\u00e1n\",\"m\":\"1\",\"c\":\"10.0000\"},{\"i\":\"132561\",\"n\":\"Maria Fernanda\",\"a\":\"G\\\\u00f3mez moralez\",\"d\":\"Derecho \",\"m\":\"0\",\"c\":null},{\"i\":\"144930\",\"n\":\"veronica\",\"a\":\"gomez nava\",\"d\":\"unam\",\"m\":\"0\",\"c\":null},{\"i\":\"11235\",\"n\":\"Alfonso\",\"a\":\"G\\\\u00f3mez Navarro\",\"d\":\"Econom\\\\u00eda\",\"m\":\"16\",\"c\":\"3.6875\"},{\"i\":\"14569\",\"n\":\"Luis\",\"a\":\"Gomez Oliver\",\"d\":\"Economia\",\"m\":\"74\",\"c\":\"5.2838\"},{\"i\":\"115523\",\"n\":\"Raquel\",\"a\":\"Gomez pliego\",\"d\":\"Fesc Cuautitl\\\\u00e1n\\\\/microbiolog\\\\u00eda \",\"m\":\"0\",\"c\":null},{\"i\":\"81375\",\"n\":\"Daniel\",\"a\":\"Gomez ramirez\",\"d\":\"Pedagogia\",\"m\":\"2\",\"c\":\"6.0000\"},{\"i\":\"55922\",\"n\":\"MARCO ANTONIO\",\"a\":\"GOMEZ RAMIREZ\",\"d\":\"Ingenieria\",\"m\":\"3\",\"c\":\"9.0000\"},{\"i\":\"36031\",\"n\":\"Norma Angelica\",\"a\":\"Gomez Rios\",\"d\":\"Practica Escolar\",\"m\":\"1\",\"c\":\"2.0000\"},{\"i\":\"36030\",\"n\":\"Norma Angelica\",\"a\":\"Gomez Rios\",\"d\":\"Practica Comunitaria\",\"m\":\"4\",\"c\":\"2.5000\"},{\"i\":\"113762\",\"n\":\"Norma Ang\\\\u00e9lica\",\"a\":\"Gomez r\\\\u00edos\",\"d\":\"Ents\",\"m\":\"0\",\"c\":null},{\"i\":\"110617\",\"n\":\"Jos\\\\u00e9 antonio\",\"a\":\"G\\\\u00f3mez rodr\\\\u00edguez\",\"d\":\"Fca \",\"m\":\"0\",\"c\":null},{\"i\":\"15086\",\"n\":\"Humberto\",\"a\":\"G\\\\u00f3mez Ru\\\\u00edz\",\"d\":\"Anal\\\\u00edtica I (Teor\\\\u00eda)\",\"m\":\"1\",\"c\":\"2.0000\"},{\"i\":\"15089\",\"n\":\"Humberto\",\"a\":\"G\\\\u00f3mez Ru\\\\u00edz\",\"d\":\"Fac. Qu\\\\u00edmica\",\"m\":\"4\",\"c\":\"4.2500\"},{\"i\":\"15087\",\"n\":\"Humberto\",\"a\":\"G\\\\u00f3mez Ru\\\\u00edz\",\"d\":\"Q. Anal\\\\u00edtica\",\"m\":\"3\",\"c\":\"3.3333\"},{\"i\":\"125111\",\"n\":\"MARIA EUGENIA IVETTE\",\"a\":\"GOMEZ SANCHEZ\",\"d\":\"UNAM\",\"m\":\"2\",\"c\":\"2.0000\"},{\"i\":\"20196\",\"n\":\"Carlos Eduardo\",\"a\":\"Gomez Sanchez\",\"d\":\"Quimica UNAM\\\\/ IPN\",\"m\":\"11\",\"c\":\"9.4545\"},{\"i\":\"125024\",\"n\":\"Mar\\\\u00eda Eugenia Ivette\",\"a\":\"G\\\\u00f3mez Sanchez\",\"d\":\"Facultad de Qu\\\\u00edmica\",\"m\":\"2\",\"c\":\"2.0000\"},{\"i\":\"151594\",\"n\":\"ING. FERNANDO\",\"a\":\"G\\\\u00d3MEZ SANTIAGO\",\"d\":\"Facultad de Ingenier\\\\u00eda\",\"m\":\"4\",\"c\":\"2.5000\"},{\"i\":\"160532\",\"n\":\"Claudia Paola\",\"a\":\"G\\\\u00f3mez Tagle\",\"d\":\"Facultad de Qu\\\\u00edmica\",\"m\":\"1\",\"c\":\"5.0000\"},{\"i\":\"42305\",\"n\":\"Gabriel\",\"a\":\"Gomez Vilchis\",\"d\":\"Derecho UNAM\",\"m\":\"2\",\"c\":\"2.5000\"},{\"i\":\"123029\",\"n\":\"Andrea\",\"a\":\"Gonzales\",\"d\":\"Iniciaci\\\\u00f3n UNIVERCITATIA \",\"m\":\"0\",\"c\":null},{\"i\":\"58024\",\"n\":\"diego\",\"a\":\"gonzales\",\"d\":\"estadistica\",\"m\":\"0\",\"c\":null},{\"i\":\"99917\",\"n\":\"jesus\",\"a\":\"gonzales\",\"d\":\"Quimica \",\"m\":\"0\",\"c\":null},{\"i\":\"158414\",\"n\":\"Gabriel\",\"a\":\"Gonzales\",\"d\":\"Facultad de contadur\\\\u00eda y administraci\\\\u00f3n \",\"m\":\"0\",\"c\":null},{\"i\":\"19802\",\"n\":\"Jose\",\"a\":\"Gonzales Bedolla\",\"d\":\"FES Arag\\\\u00f3n, ICO\",\"m\":\"5\",\"c\":\"4.6000\"},{\"i\":\"123019\",\"n\":\"Erika\",\"a\":\"Gonzales Gutierrez\",\"d\":\"FES Arag\\\\u00f3n\",\"m\":\"0\",\"c\":null},{\"i\":\"162693\",\"n\":\"Maria teresa\",\"a\":\"Gonzales lira\",\"d\":\"Unam\",\"m\":\"0\",\"c\":null},{\"i\":\"149618\",\"n\":\"Sandra Luz\",\"a\":\"Gonzales L\\\\u00f3pez\",\"d\":\"Admin \",\"m\":\"0\",\"c\":null},{\"i\":\"80377\",\"n\":\"Santiago\",\"a\":\"Gonz\\\\u00e1les Lop\\\\u00e9z\",\"d\":\"Facultad de Ingenier\\\\u00eda \",\"m\":\"4\",\"c\":\"7.0000\"},{\"i\":\"163574\",\"n\":\"Luis Gustavo\",\"a\":\"Gonzales Martines\",\"d\":\"Ingl\\\\u00e9s VI\",\"m\":\"0\",\"c\":null},{\"i\":\"151292\",\"n\":\"renato\",\"a\":\"gonzales melo\",\"d\":\"filosofia y letras\",\"m\":\"0\",\"c\":null},{\"i\":\"140967\",\"n\":\"Esther\",\"a\":\"Gonzales Ovilla\",\"d\":\"psicologia\",\"m\":\"0\",\"c\":null},{\"i\":\"97796\",\"n\":\"Gabriel\",\"a\":\"Gonzales Rodriguez\",\"d\":\"Contaduria y administraci\\\\u00f3n \",\"m\":\"0\",\"c\":null},{\"i\":\"139391\",\"n\":\"ANGEL\",\"a\":\"GONZALEZ\",\"d\":\"CONTADURIA\",\"m\":\"1\",\"c\":\"7.0000\"},{\"i\":\"58415\",\"n\":\"Leticia\",\"a\":\"Gonzalez\",\"d\":\"Frances I\",\"m\":\"1\",\"c\":\"9.0000\"},{\"i\":\"142173\",\"n\":\"Lorena\",\"a\":\"Gonzalez\",\"d\":\"Medicina\",\"m\":\"0\",\"c\":null},{\"i\":\"139718\",\"n\":\"David\",\"a\":\"Gonzalez\",\"d\":\"Jim\\\\u00e9nez\",\"m\":\"0\",\"c\":null},{\"i\":\"152240\",\"n\":\"Armando\",\"a\":\"Gonz\\\\u00e1lez\",\"d\":\"D\\\\u00edaz\",\"m\":\"0\",\"c\":null},{\"i\":\"52190\",\"n\":\"Beatriz\",\"a\":\"Gonzalez\",\"d\":\"Psicolog\\\\u00eda \",\"m\":\"1\",\"c\":\"8.0000\"},{\"i\":\"161376\",\"n\":\"erika\",\"a\":\"gonzalez\",\"d\":\"gutierrez\",\"m\":\"0\",\"c\":null},{\"i\":\"64145\",\"n\":\"LUIS GERMAN\",\"a\":\"GONZALEZ\",\"d\":\"GARCIA\",\"m\":\"1\",\"c\":\"9.0000\"},{\"i\":\"124136\",\"n\":\"Georgina\",\"a\":\"Gonzalez\",\"d\":\"Ciencias sociales\",\"m\":\"0\",\"c\":null},{\"i\":\"102511\",\"n\":\"Alejandra\",\"a\":\"Gonz\\\\u00e1lez\",\"d\":\"Baz\\\\u00faa \",\"m\":\"0\",\"c\":null},{\"i\":\"110677\",\"n\":\"Edgar armando\",\"a\":\"Gonz\\\\u00e1lez\",\"d\":\"Derecho\",\"m\":\"0\",\"c\":null},{\"i\":\"135665\",\"n\":\"Jos\\\\u00e9 angel\",\"a\":\"Gonz\\\\u00e1lez\",\"d\":\"Dentista\",\"m\":\"0\",\"c\":null},{\"i\":\"72053\",\"n\":\"alejandra\",\"a\":\"Gonz\\\\u00e1lez\",\"d\":\"Hern\\\\u00e1ndez \",\"m\":\"3\",\"c\":\"9.0000\"},{\"i\":\"163706\",\"n\":\"erika leticia\",\"a\":\"gonzalez  rabadan\",\"d\":\"economia\",\"m\":\"0\",\"c\":null},{\"i\":\"154295\",\"n\":\"Jorge Luis\",\"a\":\"Gonz\\\\u00e1lez Alanis\",\"d\":\"Prepa 5\",\"m\":\"0\",\"c\":null},{\"i\":\"155590\",\"n\":\"Guadalupe Patricia\",\"a\":\"Gonz\\\\u00e1lez Alc\\\\u00edbar\",\"d\":\"Escuela Nacional de Trabajo Social\",\"m\":\"1\",\"c\":\"8.0000\"},{\"i\":\"108721\",\"n\":\"Diego Daniel\",\"a\":\"Gonz\\\\u00e1lez Araiza\",\"d\":\"Facultad de Ciencias\",\"m\":\"1\",\"c\":\"7.0000\"},{\"i\":\"161006\",\"n\":\"Salvador\",\"a\":\"Gonz\\\\u00e1lez Arellano\",\"d\":\"Facultad de Ciencias\",\"m\":\"1\",\"c\":\"10.0000\"},{\"i\":\"153462\",\"n\":\"Georgina\",\"a\":\"Gonzalez Avila\",\"d\":\"Medicina\\\\/Bioqu\\\\u00edmica\",\"m\":\"0\",\"c\":null},{\"i\":\"153171\",\"n\":\"Daniel\",\"a\":\"G\\\\u00f3nzalez Avila\",\"d\":\"Facultad de Ciencias\",\"m\":\"2\",\"c\":\"3.5000\"},{\"i\":\"60182\",\"n\":\"Rafael\",\"a\":\"Gonzalez Betancourt\",\"d\":\"fes aragon\",\"m\":\"12\",\"c\":\"8.3333\"},{\"i\":\"159779\",\"n\":\"Adriana Elizabeth\",\"a\":\"Gonz\\\\u00e1lez Cabrera\",\"d\":\"Instituto de Geofisica, F\\\\u00edsica. UNAM\",\"m\":\"1\",\"c\":\"10.0000\"},{\"i\":\"133641\",\"n\":\"Nestor\",\"a\":\"Gonzalez Cabrera\",\"d\":\"Facultad de Ingenier\\\\u00eda\",\"m\":\"6\",\"c\":\"4.6667\"},{\"i\":\"80889\",\"n\":\"Jorge Ignacio\",\"a\":\"Gonz\\\\u00e1lez C\\\\u00e1zares\",\"d\":\"Ciencias\",\"m\":\"1\",\"c\":\"10.0000\"},{\"i\":\"163786\",\"n\":\"MONICA ELIZABETH\",\"a\":\"GONZALEZ CHAVARRIA\",\"d\":\"ENP2\",\"m\":\"0\",\"c\":null},{\"i\":\"161823\",\"n\":\"Emma\",\"a\":\"Gonz\\\\u00e1lez Chimeo\",\"d\":\"Facultad de qu\\\\u00edmica \",\"m\":\"0\",\"c\":null},{\"i\":\"76674\",\"n\":\"Erendira\",\"a\":\"Gonzalez col\\\\u00edn\",\"d\":\"FES cuautitlan \",\"m\":\"7\",\"c\":\"8.2857\"},{\"i\":\"105529\",\"n\":\"Mar\\\\u00eda\",\"a\":\"Gonz\\\\u00e1lez Concepci\\\\u00f3n\",\"d\":\"Actuar\\\\u00eda \",\"m\":\"1\",\"c\":\"10.0000\"},{\"i\":\"152241\",\"n\":\"Armando\",\"a\":\"Gonz\\\\u00e1lez D\\\\u00edaz\",\"d\":\"Facultad de Ciencias Pol\\\\u00edticas y Sociales\",\"m\":\"2\",\"c\":\"10.0000\"},{\"i\":\"128481\",\"n\":\"Luis Daniel\",\"a\":\"Gonz\\\\u00e1lez Espejel\",\"d\":\"CCH Azcapotzalco\",\"m\":\"1\",\"c\":\"10.0000\"},{\"i\":\"105535\",\"n\":\"Luis Daniel\",\"a\":\"Gonzalez Espejel\",\"d\":\"Ingl\\\\u00e9s \",\"m\":\"1\",\"c\":\"9.0000\"},{\"i\":\"144469\",\"n\":\"Monica Gabriela\",\"a\":\"Gonz\\\\u00e1lez Garrido\",\"d\":\"Derecho \",\"m\":\"0\",\"c\":null},{\"i\":\"127346\",\"n\":\"Myrna zoila\",\"a\":\"Gonzalez Gomez\",\"d\":\"Mixta for\\\\u00e1nea no. 6\",\"m\":\"1\",\"c\":\"2.0000\"},{\"i\":\"89728\",\"n\":\"Imelda Nathaly\",\"a\":\"Gonzalez Guevara\",\"d\":\"Derecho\",\"m\":\"2\",\"c\":\"8.0000\"},{\"i\":\"89727\",\"n\":\"Imelda Nathaly\",\"a\":\"Gonzalez Guevara\",\"d\":\"Filosof\\\\u00eda del Derecho \",\"m\":\"0\",\"c\":null},{\"i\":\"87580\",\"n\":\"Martha\",\"a\":\"Gonz\\\\u00e1lez Guti\\\\u00e9rrez\",\"d\":\"Facultad de Ciencias\",\"m\":\"3\",\"c\":\"3.0000\"},{\"i\":\"137409\",\"n\":\"Irma Gabriela\",\"a\":\"Gonzalez Herrera\",\"d\":\"Quimica\",\"m\":\"0\",\"c\":null},{\"i\":\"14570\",\"n\":\"Miguel\",\"a\":\"Gonzalez Ibarra\",\"d\":\"Economia\",\"m\":\"38\",\"c\":\"7.5000\"},{\"i\":\"154948\",\"n\":\"Jes\\\\u00fas Ra\\\\u00fal\",\"a\":\"Gonz\\\\u00e1lez Jacom\\\\u00e9\",\"d\":\"Arquitectura\\\\/sistemas de instalaciones\",\"m\":\"2\",\"c\":\"8.5000\"},{\"i\":\"14322\",\"n\":\"Fernando\",\"a\":\"Gonzalez Lopez\",\"d\":\"Administraci\\\\u00f3n\\\\/RH\",\"m\":\"19\",\"c\":\"8.8947\"},{\"i\":\"109699\",\"n\":\"Moises\",\"a\":\"Gonzalez Martinez\",\"d\":\"Cch oriente\\\\/historia de M\\\\u00e9xico\",\"m\":\"0\",\"c\":null},{\"i\":\"18001\",\"n\":\"ALFONSO\",\"a\":\"GONZALEZ MATEOS\",\"d\":\"PROCESO DE GOBIERNO MEXIC.\",\"m\":\"1\",\"c\":\"10.0000\"},{\"i\":\"18000\",\"n\":\"ALFONSO\",\"a\":\"GONZALEZ MATEOS\",\"d\":\"PROCESO DE GOBIERNO MEXIC.\",\"m\":\"0\",\"c\":null},{\"i\":\"155895\",\"n\":\"Claudio Fernando\",\"a\":\"Gonz\\\\u00e1lez Melgoza\",\"d\":\"Derecho \",\"m\":\"2\",\"c\":\"10.0000\"},{\"i\":\"28741\",\"n\":\"jose daniel\",\"a\":\"gonzalez mitre\",\"d\":\"EF\",\"m\":\"8\",\"c\":\"9.6250\"},{\"i\":\"11236\",\"n\":\"Iv\\\\u00e1n\",\"a\":\"Gonz\\\\u00e1lez Molina\",\"d\":\"Econom\\\\u00eda\",\"m\":\"2\",\"c\":\"5.0000\"},{\"i\":\"14478\",\"n\":\"Rodolfo Iv\\\\u00e1n\",\"a\":\"Gonz\\\\u00e1lez Molina\",\"d\":\"Economia\",\"m\":\"48\",\"c\":\"8.0833\"},{\"i\":\"160500\",\"n\":\"Roberto de Jes\\\\u00fas\",\"a\":\"Gonz\\\\u00e1lez Molina\",\"d\":\"Facultad de Ciencias Pol\\\\u00edticas y Sociales\",\"m\":\"2\",\"c\":\"10.0000\"},{\"i\":\"122214\",\"n\":\"Robeto\",\"a\":\"Gonzalez Moreno\",\"d\":\"FFYL\",\"m\":\"0\",\"c\":null},{\"i\":\"160526\",\"n\":\"LEONOR ALEJANDRA\",\"a\":\"GONZALEZ NAVA\",\"d\":\"ciencias politicas y sociales \",\"m\":\"0\",\"c\":null},{\"i\":\"161629\",\"n\":\"Fabiola\",\"a\":\"Gonzalez Olguin\",\"d\":\"Qu\\\\u00edmica \",\"m\":\"0\",\"c\":null},{\"i\":\"105245\",\"n\":\"MANUEL\",\"a\":\"GONZ\\\\u00c1LEZ OROPEZA\",\"d\":\"DERECHO\",\"m\":\"2\",\"c\":\"10.0000\"},{\"i\":\"11237\",\"n\":\"Pedro Dami\\\\u00e1n Iv\\\\u00e1n\",\"a\":\"Gonz\\\\u00e1lez Osorio\",\"d\":\"Ingenier\\\\u00eda\",\"m\":\"3\",\"c\":\"9.0000\"},{\"i\":\"159871\",\"n\":\"Gabriela\",\"a\":\"Gonz\\\\u00e1lez Padilla\",\"d\":\"Inform\\\\u00e1tica \",\"m\":\"0\",\"c\":null},{\"i\":\"145314\",\"n\":\"Olivia\",\"a\":\"Gonz\\\\u00e1lez Perez\",\"d\":\",\",\"m\":\"0\",\"c\":null},{\"i\":\"14309\",\"n\":\"Aurelio\",\"a\":\"Gonz\\\\u00e1lez P\\\\u00e9rez\",\"d\":\"Filosof\\\\u00eda y letras\",\"m\":\"42\",\"c\":\"9.0476\"},{\"i\":\"156318\",\"n\":\"Andrea\",\"a\":\"Gonzalez Ram\\\\u00edrez\",\"d\":\"Espa\\\\u00f1ol \",\"m\":\"0\",\"c\":null},{\"i\":\"48105\",\"n\":\"JOSE GONZALO\",\"a\":\"GONZALEZ REYES\",\"d\":\"INSTITUTO DE INVESTIGACIONES EN MATERIALES\",\"m\":\"3\",\"c\":\"7.3333\"},{\"i\":\"161380\",\"n\":\"Xochiquetzal\",\"a\":\"Gonz\\\\u00e1lez Rodr\\\\u00edguez\",\"d\":\"Quimica Analitica \",\"m\":\"1\",\"c\":\"7.0000\"},{\"i\":\"33923\",\"n\":\"reyna maria isabel\",\"a\":\"gonzalez rodriguez\",\"d\":\"fes aragon cele\",\"m\":\"2\",\"c\":\"10.0000\"},{\"i\":\"158415\",\"n\":\"Gabriel\",\"a\":\"Gonz\\\\u00e1lez Rodriguez\",\"d\":\"Facultad de contadur\\\\u00eda y administraci\\\\u00f3n \",\"m\":\"0\",\"c\":null},{\"i\":\"156198\",\"n\":\"Mario\",\"a\":\"Gonz\\\\u00e1lez Ruiz\",\"d\":\"Ciencias\",\"m\":\"0\",\"c\":null},{\"i\":\"103204\",\"n\":\"Jonathan\",\"a\":\"Gonz\\\\u00e1lez Salgado\",\"d\":\"facultad de ciencias \",\"m\":\"5\",\"c\":\"6.2000\"},{\"i\":\"89736\",\"n\":\"Miria.\",\"a\":\"Gonzalez Serrano\",\"d\":\"Derecho\",\"m\":\"1\",\"c\":\"6.0000\"},{\"i\":\"63307\",\"n\":\"Ernesto\",\"a\":\"Gonzalez Tenorio\",\"d\":\"Fes acatlan c.p.\",\"m\":\"9\",\"c\":\"8.1111\"},{\"i\":\"14571\",\"n\":\"Enrique\",\"a\":\"Gonzalez Tiburcio\",\"d\":\"Economia\",\"m\":\"8\",\"c\":\"9.1250\"},{\"i\":\"151494\",\"n\":\"V\\\\u00edctor Hugo\",\"a\":\"Gonz\\\\u00e1lez Trejo\",\"d\":\"Escuela Nacional Preparatoria\",\"m\":\"1\",\"c\":\"10.0000\"},{\"i\":\"15090\",\"n\":\"Ma. Eva\",\"a\":\"Gonz\\\\u00e1lez Trujano\",\"d\":\"Fac. Qu\\\\u00edmica\",\"m\":\"3\",\"c\":\"5.0000\"},{\"i\":\"106283\",\"n\":\"Alberto\",\"a\":\"Gopar Santos\",\"d\":\"Ingl\\\\u00e9s Mediateca\",\"m\":\"2\",\"c\":\"10.0000\"},{\"i\":\"157665\",\"n\":\"Mar\\\\u00eda de los Remedios Alma\",\"a\":\"Gopar Silva\",\"d\":\"Facultad de Estudios Superiores Zaragoza\",\"m\":\"0\",\"c\":null},{\"i\":\"75630\",\"n\":\"hector\",\"a\":\"gordillo montesino\",\"d\":\"\",\"m\":\"0\",\"c\":null},{\"i\":\"75361\",\"n\":\"Jose Luis\",\"a\":\"Gortarez Hernandez\",\"d\":\"Derecho\",\"m\":\"1\",\"c\":\"6.0000\"},{\"i\":\"136202\",\"n\":\"Ricardo\",\"a\":\"Govantes\",\"d\":\"FES ACATL\\\\u00c1N\",\"m\":\"2\",\"c\":\"6.0000\"},{\"i\":\"17180\",\"n\":\"jos\\\\u00e9 antonio\",\"a\":\"goz\\\\u00e1lez mart\\\\u00ednez\",\"d\":\"prepa 4\",\"m\":\"3\",\"c\":\"9.6667\"},{\"i\":\"129068\",\"n\":\"JESUS\",\"a\":\"GRACIA SANCHEZ\",\"d\":\"INGENIERIA\",\"m\":\"1\",\"c\":\"10.0000\"},{\"i\":\"126399\",\"n\":\"Elsa Margarita\",\"a\":\"Gracida Romo\",\"d\":\"Econom\\\\u00eda\",\"m\":\"0\",\"c\":null},{\"i\":\"14191\",\"n\":\"Miguel Angel\",\"a\":\"Granados\",\"d\":\"Atlaco\",\"m\":\"8\",\"c\":\"8.7500\"},{\"i\":\"157593\",\"n\":\"Liliana A.\",\"a\":\"Granados\",\"d\":\"Covarrubias\",\"m\":\"0\",\"c\":null},{\"i\":\"29366\",\"n\":\"Jose Antonio\",\"a\":\"Granados Atlaco\",\"d\":\"Derecho C.U\",\"m\":\"104\",\"c\":\"7.1250\"},{\"i\":\"14192\",\"n\":\"Miguel Angel\",\"a\":\"Granados Atlaco\",\"d\":\"Derecho\",\"m\":\"178\",\"c\":\"8.2697\"},{\"i\":\"158245\",\"n\":\"Tito\",\"a\":\"Granados Carri\\\\u00f3n\",\"d\":\"Derecho\",\"m\":\"0\",\"c\":null},{\"i\":\"148811\",\"n\":\"tania montcerrat\",\"a\":\"granados cervantes\",\"d\":\"politicas\",\"m\":\"0\",\"c\":null},{\"i\":\"18087\",\"n\":\"Ana Yazmin\",\"a\":\"Granados Hdez.\",\"d\":\"Facultad de Contabilidad, Adm\\\\u00f3n. e Inform\\\\u00e1tica\",\"m\":\"4\",\"c\":\"5.5000\"},{\"i\":\"137787\",\"n\":\"Roberto\",\"a\":\"Granados Salda\\\\u00f1a\",\"d\":\"Enp6\",\"m\":\"0\",\"c\":null},{\"i\":\"144413\",\"n\":\"Francisco Javier\",\"a\":\"Granados V\\\\u00e1zquez\",\"d\":\"FES Arag\\\\u00f3n\",\"m\":\"2\",\"c\":\"8.0000\"},{\"i\":\"141915\",\"n\":\"Francisco Javier\",\"a\":\"Granados Villafuerte\",\"d\":\"Facultad de Ingenier\\\\u00eda\",\"m\":\"1\",\"c\":\"9.0000\"},{\"i\":\"61782\",\"n\":\"HERNAN\",\"a\":\"GRIJALVA\",\"d\":\"UNAM\",\"m\":\"0\",\"c\":null},{\"i\":\"149794\",\"n\":\"MARIA DE LOS ANGELES\",\"a\":\"GRIMALDO ORTIZ\",\"d\":\"Ingenier\\\\u00eda\",\"m\":\"2\",\"c\":\"10.0000\"},{\"i\":\"99531\",\"n\":\"Francisco Javier\",\"a\":\"Guadarrama\",\"d\":\"Escuela Nacional de Artes Pl\\\\u00e1sticas\",\"m\":\"1\",\"c\":\"2.0000\"},{\"i\":\"156916\",\"n\":\"Ricardo\",\"a\":\"Guadarrama\",\"d\":\"Facultad de Contadur\\\\u00eda y administraci\\\\u00f3n \",\"m\":\"0\",\"c\":null},{\"i\":\"138827\",\"n\":\"Jaqueline\",\"a\":\"Guadarrama\",\"d\":\"Ingenier\\\\u00eda\",\"m\":\"1\",\"c\":\"10.0000\"},{\"i\":\"141466\",\"n\":\"Andrea Michel\",\"a\":\"Guadarrama Cruz\",\"d\":\"Ciencias Actuaria\",\"m\":\"2\",\"c\":\"10.0000\"},{\"i\":\"156423\",\"n\":\"Enrique\",\"a\":\"Guadarrama L\\\\u00f3pez\",\"d\":\"Posgrado\",\"m\":\"1\",\"c\":\"2.0000\"},{\"i\":\"156421\",\"n\":\"Enrrique\",\"a\":\"Guadarrama L\\\\u00f3pez\",\"d\":\"Posgrado\",\"m\":\"3\",\"c\":\"6.6667\"},{\"i\":\"164160\",\"n\":\"Sinuhe Carlos\",\"a\":\"GUARDADO LOPEZ\",\"d\":\"FESC Admi\",\"m\":\"1\",\"c\":\"3.0000\"},{\"i\":\"164159\",\"n\":\"Sinuhe Carlos\",\"a\":\"GUARDADO LOPEZ\",\"d\":\"FESC Teor\\\\u00edas de la administraci\\\\u00f3n \",\"m\":\"0\",\"c\":null},{\"i\":\"149624\",\"n\":\"Francisco Javier\",\"a\":\"Guasco Z\\\\u00fa\\\\u00f1iga\",\"d\":\"CEI Ingl\\\\u00e9s \",\"m\":\"1\",\"c\":\"7.0000\"},{\"i\":\"157489\",\"n\":\"H\\\\u00e9ctor Francisco\",\"a\":\"Guayaquil Sosa\",\"d\":\"Facultad \",\"m\":\"0\",\"c\":null},{\"i\":\"129134\",\"n\":\"Joel\",\"a\":\"Guerra\",\"d\":\"Facultad de Econom\\\\u00eda \",\"m\":\"18\",\"c\":\"9.8889\"},{\"i\":\"104143\",\"n\":\"Rafael\",\"a\":\"Guerra alvarez\",\"d\":\"Fes aragon\",\"m\":\"2\",\"c\":\"10.0000\"},{\"i\":\"11238\",\"n\":\"Oscar\",\"a\":\"Guerra Ford\",\"d\":\"Econom\\\\u00eda\",\"m\":\"11\",\"c\":\"5.7273\"},{\"i\":\"116038\",\"n\":\"Pedro Francisco\",\"a\":\"guerra morales\",\"d\":\"derecho\",\"m\":\"0\",\"c\":null},{\"i\":\"84455\",\"n\":\"Jaime\",\"a\":\"Guerra Pulido\",\"d\":\"Facultad de Ingenieria\",\"m\":\"5\",\"c\":\"3.4000\"},{\"i\":\"15485\",\"n\":\"Angelina\",\"a\":\"Guerrero\",\"d\":\"Psicologia\",\"m\":\"1\",\"c\":\"2.0000\"},{\"i\":\"16586\",\"n\":\"orlando\",\"a\":\"guerrero\",\"d\":\"historia\",\"m\":\"2\",\"c\":\"2.0000\"},{\"i\":\"76613\",\"n\":\"V\\\\u00edctor manuel\",\"a\":\"Guerrero bermudez\",\"d\":\"Fes Zaragoza pdintologis\",\"m\":\"3\",\"c\":\"10.0000\"},{\"i\":\"20113\",\"n\":\"Alejandro\",\"a\":\"Guerrero Flores\",\"d\":\"ECONOM\\\\u00cdA\",\"m\":\"11\",\"c\":\"7.6364\"},{\"i\":\"18244\",\"n\":\"Franco\",\"a\":\"Guerrero Galeana\",\"d\":\"Economia\",\"m\":\"10\",\"c\":\"7.2000\"},{\"i\":\"14479\",\"n\":\"Georgina\",\"a\":\"Guerrero Guti\\\\u00e9rrez\",\"d\":\"Economia\",\"m\":\"25\",\"c\":\"7.4000\"},{\"i\":\"150100\",\"n\":\"Diana Alethia\",\"a\":\"Guerrero Hern\\\\u00e1ndez\",\"d\":\"Facultad de Ciencias UNAM \\\\/ Biolog\\\\u00eda\",\"m\":\"1\",\"c\":\"8.0000\"},{\"i\":\"15409\",\"n\":\"Omar\",\"a\":\"Guerrero Orozco\",\"d\":\"FCPyS\",\"m\":\"16\",\"c\":\"6.3750\"},{\"i\":\"15408\",\"n\":\"Omar\",\"a\":\"Guerrero Orozco\",\"d\":\"FCPyS\",\"m\":\"5\",\"c\":\"6.8000\"},{\"i\":\"138711\",\"n\":\"Jos\\\\u00e9 Daniel\",\"a\":\"Guerrero Su\\\\u00e1rez\",\"d\":\"Facultad de Qu\\\\u00edmica, UNAM \",\"m\":\"0\",\"c\":null},{\"i\":\"150331\",\"n\":\"bertha xochitl\",\"a\":\"guevara\",\"d\":\"gonzales\",\"m\":\"0\",\"c\":null},{\"i\":\"110127\",\"n\":\"Mario\",\"a\":\"Guevara\",\"d\":\"Facultad\\\\/ingenier\\\\u00eda\",\"m\":\"0\",\"c\":null},{\"i\":\"14424\",\"n\":\"Rosa Iris\",\"a\":\"Guevara Gonz\\\\u00e1lez\",\"d\":\"Economia\",\"m\":\"16\",\"c\":\"6.7500\"},{\"i\":\"51819\",\"n\":\"Socorro\",\"a\":\"Guevara Rodr\\\\u00edguez\",\"d\":\"Ingenier\\\\u00eda\",\"m\":\"2\",\"c\":\"2.5000\"},{\"i\":\"63779\",\"n\":\"Sergio\",\"a\":\"Guillen Ch\\\\u00e1vez\",\"d\":\"Derecho\",\"m\":\"6\",\"c\":\"4.0000\"},{\"i\":\"63780\",\"n\":\"Sergio\",\"a\":\"Guillen Ch\\\\u00e1vez\",\"d\":\"Fac. Derecho UNAM\",\"m\":\"1\",\"c\":\"10.0000\"},{\"i\":\"114570\",\"n\":\"Arturo\",\"a\":\"Guisan\",\"d\":\"Ciencias pol\\\\u00edticas\",\"m\":\"0\",\"c\":null},{\"i\":\"39155\",\"n\":\"leonel\",\"a\":\"guitian\",\"d\":\"\",\"m\":\"0\",\"c\":null},{\"i\":\"14572\",\"n\":\"Tomas Guillermo\",\"a\":\"Guitian Berniser\",\"d\":\"Economia\",\"m\":\"3\",\"c\":\"9.6667\"},{\"i\":\"104073\",\"n\":\"M\\\\u00f3nica\",\"a\":\"Guiti\\\\u00e1n Gal\\\\u00e1n\",\"d\":\"FCPyS \",\"m\":\"1\",\"c\":\"9.0000\"},{\"i\":\"100155\",\"n\":\"Elizabeth Fabiola\",\"a\":\"Guizar Garc\\\\u00eda\",\"d\":\"Ciencias Pol\\\\u00edticas y Sociales\",\"m\":\"0\",\"c\":null},{\"i\":\"67531\",\"n\":\"raul\",\"a\":\"gutierrez\",\"d\":\"fuster\",\"m\":\"6\",\"c\":\"7.3333\"},{\"i\":\"164453\",\"n\":\"Eduardo\",\"a\":\"Guti\\\\u00e9rrez\",\"d\":\"Colin\",\"m\":\"0\",\"c\":null},{\"i\":\"135427\",\"n\":\"Araceli\",\"a\":\"Guti\\\\u00e9rrez  Rosas\",\"d\":\"Escuela nacional de trabajo social \",\"m\":\"0\",\"c\":null},{\"i\":\"161153\",\"n\":\"Flor M\\\\u00f3nica\",\"a\":\"Guti\\\\u00e9rrez Alcantara\",\"d\":\"Facultad de Quimica Posgrado\",\"m\":\"1\",\"c\":\"5.0000\"},{\"i\":\"14508\",\"n\":\"Maria Del Carmen\",\"a\":\"Gutierrez Arreola\",\"d\":\"Economia\",\"m\":\"62\",\"c\":\"8.0000\"},{\"i\":\"154881\",\"n\":\"Juan de Dios\",\"a\":\"Guti\\\\u00e9rrez Baylon\",\"d\":\"Derecho\",\"m\":\"4\",\"c\":\"6.5000\"},{\"i\":\"114561\",\"n\":\"Jos\\\\u00e9 El\\\\u00edas\",\"a\":\"Guti\\\\u00e9rrez Estrada\",\"d\":\"Derecho\",\"m\":\"0\",\"c\":null},{\"i\":\"133025\",\"n\":\"Javier\",\"a\":\"Gutierrez Gracida\",\"d\":\"Facultad de ciencias pol\\\\u00edticas y sociales\",\"m\":\"2\",\"c\":\"10.0000\"},{\"i\":\"14509\",\"n\":\"Abelardo Anibal\",\"a\":\"Gutierrez Lara\",\"d\":\"Economia\",\"m\":\"12\",\"c\":\"8.0000\"},{\"i\":\"95463\",\"n\":\"Ra\\\\u00fal\",\"a\":\"Gutierrez Manzanilla\",\"d\":\"Facultad de Ciencias Pol\\\\u00edticas y Sociales \",\"m\":\"2\",\"c\":\"6.0000\"},{\"i\":\"160419\",\"n\":\"Daniel\",\"a\":\"Guti\\\\u00e9rrez Mart\\\\u00ednez\",\"d\":\"Facultad de Ciencias Pol\\\\u00edticas y Sociales\",\"m\":\"1\",\"c\":\"4.0000\"},{\"i\":\"152194\",\"n\":\"ANTONIO GLORIA\",\"a\":\"GUTIERREZ MORALES\",\"d\":\"FACULTAD DE SOCIEDADES POLITICA EXPERIENCIAS ESPIR\",\"m\":\"1\",\"c\":\"10.0000\"},{\"i\":\"112460\",\"n\":\"Jorge\",\"a\":\"Guti\\\\u00e9rrez Moreno\",\"d\":\"Derecho\",\"m\":\"6\",\"c\":\"8.5000\"},{\"i\":\"88878\",\"n\":\"Manuel\",\"a\":\"Gutierrez Natividad\",\"d\":\"Facultad de Derecho\",\"m\":\"3\",\"c\":\"8.3333\"},{\"i\":\"139596\",\"n\":\"manuel\",\"a\":\"gutierrez natividad\",\"d\":\"derecho\",\"m\":\"0\",\"c\":null},{\"i\":\"33290\",\"n\":\"Lilia\",\"a\":\"Gutierrez Olvera\",\"d\":\"Facultad de Medicina Veterinaria y Zoot\\\\/Farmacolog\",\"m\":\"3\",\"c\":\"3.6667\"},{\"i\":\"134259\",\"n\":\"Eduardo Arturo\",\"a\":\"Gutierrez Pe\\\\u00f1a\",\"d\":\"IIMAS\",\"m\":\"1\",\"c\":\"8.0000\"},{\"i\":\"111819\",\"n\":\"Diego\",\"a\":\"Guti\\\\u00e9rrez Ray\\\\u00f3n\",\"d\":\"Medicina\",\"m\":\"3\",\"c\":\"10.0000\"},{\"i\":\"23986\",\"n\":\"javier\",\"a\":\"gutierrez rojas\",\"d\":\"cuantitativas economia\",\"m\":\"1\",\"c\":\"2.0000\"},{\"i\":\"14384\",\"n\":\"Javier\",\"a\":\"Guti\\\\u00e9rrez Rojas\",\"d\":\"Economia\",\"m\":\"12\",\"c\":\"6.8333\"},{\"i\":\"140960\",\"n\":\"SALAS\",\"a\":\"GUTIERREZ VELIA\",\"d\":\" ENP 2 Erasmo Castellanos Quinto.\",\"m\":\"2\",\"c\":\"4.0000\"},{\"i\":\"19104\",\"n\":\"Juan Carlos\",\"a\":\"Guzman\",\"d\":\"Correa\",\"m\":\"2\",\"c\":\"7.5000\"},{\"i\":\"40898\",\"n\":\"GOYO\",\"a\":\"GUZMAN\",\"d\":\"INGENIERIA\",\"m\":\"0\",\"c\":null},{\"i\":\"21935\",\"n\":\"elena ruth\",\"a\":\"guzman\",\"d\":\"gomes\",\"m\":\"1\",\"c\":\"10.0000\"},{\"i\":\"159233\",\"n\":\"Gilberto\",\"a\":\"Guzm\\\\u00e1n\",\"d\":\"Pedagog\\\\u00eda \",\"m\":\"0\",\"c\":null},{\"i\":\"156018\",\"n\":\"Jos\\\\u00e9 Manuel\",\"a\":\"Guzman\",\"d\":\"Facultad econom\\\\u00eda unam\",\"m\":\"0\",\"c\":null},{\"i\":\"134491\",\"n\":\"Jos\\\\u00e9 Antonio\",\"a\":\"Guzm\\\\u00e1n Bravo\",\"d\":\"Facultad de M\\\\u00fasica UNAM\",\"m\":\"1\",\"c\":\"7.0000\"},{\"i\":\"101527\",\"n\":\"Guadalupe\",\"a\":\"Guzman Flores\",\"d\":\"cch sur\",\"m\":\"1\",\"c\":\"9.0000\"},{\"i\":\"133156\",\"n\":\"Felix Fernando\",\"a\":\"Guzm\\\\u00e1n Garc\\\\u00eda\",\"d\":\"Fes Arag\\\\u00f3n \",\"m\":\"0\",\"c\":null},{\"i\":\"95462\",\"n\":\"Dolores\",\"a\":\"Guzm\\\\u00e1n Lechuga\",\"d\":\"Facultad Ciencias Pol\\\\u00edticas y Sociales\",\"m\":\"4\",\"c\":\"7.2500\"},{\"i\":\"157962\",\"n\":\"Eduardo Gabriel\",\"a\":\"Guzm\\\\u00e1n L\\\\u00f3pez\",\"d\":\"Facultad de Qu\\\\u00edmica\",\"m\":\"1\",\"c\":\"9.0000\"},{\"i\":\"96964\",\"n\":\"Gordos Alejandra\",\"a\":\"Guzm\\\\u00e1n porkis\",\"d\":\"Geodesia\",\"m\":\"2\",\"c\":\"2.0000\"},{\"i\":\"151904\",\"n\":\"David\",\"a\":\"Guzman Ramirez\",\"d\":\"Facultad ciencias\",\"m\":\"0\",\"c\":null},{\"i\":\"140998\",\"n\":\"Hugo Sergio\",\"a\":\"Haaz Mora\",\"d\":\"Ingenieria\",\"m\":\"0\",\"c\":null},{\"i\":\"152890\",\"n\":\"Adriana\",\"a\":\"Hansberg Pastor\",\"d\":\"Instituto de matem\\\\u00e1ticas,  Juriquilla\",\"m\":\"0\",\"c\":null},{\"i\":\"11239\",\"n\":\"Laureano\",\"a\":\"Hayashi Mart\\\\u00ednez\",\"d\":\"Econom\\\\u00eda\",\"m\":\"15\",\"c\":\"6.4000\"},{\"i\":\"16021\",\"n\":\"Ma. de la Luz\",\"a\":\"Hayashi Martinez\",\"d\":\"Econom\\\\u00eda\",\"m\":\"15\",\"c\":\"5.7333\"},{\"i\":\"113841\",\"n\":\"Ricardo\",\"a\":\"Heras\",\"d\":\"Cruz\",\"m\":\"1\",\"c\":\"10.0000\"},{\"i\":\"138995\",\"n\":\"jazmin\",\"a\":\"heredia\",\"d\":\"centro de idiomas\",\"m\":\"1\",\"c\":\"8.0000\"},{\"i\":\"132229\",\"n\":\"Iroel\",\"a\":\"Heredia Carillo\",\"d\":\"Dise\\\\u00f1o Industrial\",\"m\":\"0\",\"c\":null},{\"i\":\"157515\",\"n\":\"Blanca\",\"a\":\"Hernamdez pe\\\\u00f1a\",\"d\":\"Enfermeria\",\"m\":\"0\",\"c\":null},{\"i\":\"146041\",\"n\":\"Ilse\",\"a\":\"Hernandez\",\"d\":\"Mendoza\",\"m\":\"0\",\"c\":null},{\"i\":\"113267\",\"n\":\"Oscar david\",\"a\":\"Hern\\\\u00e1ndez\",\"d\":\"Cch\",\"m\":\"0\",\"c\":null},{\"i\":\"14574\",\"n\":\"Diego Israel\",\"a\":\"Hernandez\",\"d\":\"Economia\",\"m\":\"2\",\"c\":\"4.0000\"},{\"i\":\"163692\",\"n\":\"JOSE ALFREDO\",\"a\":\"HERNANDEZ\",\"d\":\"CCH ORIENTE \",\"m\":\"0\",\"c\":null},{\"i\":\"15418\",\"n\":\"MIGUEL ANGEL\",\"a\":\"HERNANDEZ \",\"d\":\"FCA CONTADURIA \",\"m\":\"0\",\"c\":null},{\"i\":\"120873\",\"n\":\"Tania\",\"a\":\"Hern\\\\u00e1ndez\",\"d\":\"Biolog\\\\u00eda \",\"m\":\"0\",\"c\":null},{\"i\":\"146042\",\"n\":\"Ilse\",\"a\":\"Hernandez\",\"d\":\"Quimica\",\"m\":\"0\",\"c\":null},{\"i\":\"101724\",\"n\":\"Ariadne\",\"a\":\"Hern\\\\u00e1ndez\",\"d\":\"Escuela Nacional de Trabajo Social \",\"m\":\"2\",\"c\":\"9.5000\"},{\"i\":\"161727\",\"n\":\"liliana\",\"a\":\"hernandez\",\"d\":\"facultad de arquitectura\",\"m\":\"0\",\"c\":null},{\"i\":\"151466\",\"n\":\"Alejandrina\",\"a\":\"Hernandez\",\"d\":\"Iztacala\",\"m\":\"1\",\"c\":\"2.0000\"},{\"i\":\"14310\",\"n\":\"MARIO HUMBERTO\",\"a\":\"Hern\\\\u00e1ndez\",\"d\":\"FCA\\\\/Econom\\\\u00eda\",\"m\":\"8\",\"c\":\"8.2500\"},{\"i\":\"161191\",\"n\":\"Javier\",\"a\":\"Hern\\\\u00e1ndez  Hern\\\\u00e1ndez\",\"d\":\"Arquitectura \",\"m\":\"0\",\"c\":null},{\"i\":\"145986\",\"n\":\"Hayd\\\\u00e9e\",\"a\":\"Hern\\\\u00e1ndez  Ram\\\\u00edrez\",\"d\":\"Cch sur\",\"m\":\"1\",\"c\":\"8.0000\"},{\"i\":\"136974\",\"n\":\"francisco julian\",\"a\":\"hernandez alvarado\",\"d\":\"medicina\",\"m\":\"0\",\"c\":null},{\"i\":\"77728\",\"n\":\"Dr. Federico\",\"a\":\"Hern\\\\u00e1ndez \\\\u00c1lvarez\",\"d\":\"POSGRADO INGENIER\\\\u00cdA\",\"m\":\"7\",\"c\":\"2.1429\"},{\"i\":\"102507\",\"n\":\"Octavio\",\"a\":\"Hernandez Anaya\",\"d\":\"CCH AZCAPOTZALCO\",\"m\":\"0\",\"c\":null},{\"i\":\"158336\",\"n\":\"Andr\\\\u00e9s\",\"a\":\"Hern\\\\u00e1ndez Arriaga\",\"d\":\"Educaci\\\\u00f3n F\\\\u00edsica \",\"m\":\"1\",\"c\":\"2.0000\"},{\"i\":\"85964\",\"n\":\"Sarahi Almendra\",\"a\":\"Hernandez Becerril\",\"d\":\"CCH Sur\",\"m\":\"0\",\"c\":null},{\"i\":\"107522\",\"n\":\"Luis\",\"a\":\"Hernandez Bravo\",\"d\":\"Psicolog\\\\u00eda \",\"m\":\"0\",\"c\":null},{\"i\":\"126368\",\"n\":\"Eduardo\",\"a\":\"Hern\\\\u00e1ndez Carmona\",\"d\":\"Administraci\\\\u00f3n P\\\\u00fablica\",\"m\":\"5\",\"c\":\"6.8000\"},{\"i\":\"98889\",\"n\":\"Aleida\",\"a\":\"Hern\\\\u00e1ndez Cervantes\",\"d\":\"Derecho\",\"m\":\"0\",\"c\":null},{\"i\":\"75838\",\"n\":\"EDEN\",\"a\":\"HERNANDEZ CRUZ\",\"d\":\"ARQUITECTURA\",\"m\":\"7\",\"c\":\"7.2857\"},{\"i\":\"42064\",\"n\":\"Angelina\",\"a\":\"Hernandez Cruz\",\"d\":\"Derecho procesal civil, penal, mercantil\",\"m\":\"13\",\"c\":\"8.2308\"},{\"i\":\"136046\",\"n\":\"Jeanett\",\"a\":\"Hern\\\\u00e1ndez cruz\",\"d\":\"De todo\",\"m\":\"1\",\"c\":\"10.0000\"},{\"i\":\"158908\",\"n\":\"Armando\",\"a\":\"Hern\\\\u00e1ndez Cruz\",\"d\":\"Facultad de Derecho\",\"m\":\"0\",\"c\":null},{\"i\":\"81615\",\"n\":\"MIGUEL ANGEL\",\"a\":\"HERNANDEZ DE LA MORA\",\"d\":\"DERECHO PENAL\",\"m\":\"1\",\"c\":\"10.0000\"},{\"i\":\"14573\",\"n\":\"Agustin\",\"a\":\"Hernandez De Los Santos\",\"d\":\"Economia\",\"m\":\"7\",\"c\":\"5.8571\"},{\"i\":\"141950\",\"n\":\"Noem\\\\u00ed\",\"a\":\"Hern\\\\u00e1ndez dominguez\",\"d\":\"Fesc\",\"m\":\"0\",\"c\":null},{\"i\":\"139148\",\"n\":\"Cristina\",\"a\":\"Hern\\\\u00e1ndez Engrandes\",\"d\":\"FCPyS\",\"m\":\"3\",\"c\":\"8.6667\"},{\"i\":\"149003\",\"n\":\"Daniel Isacc\",\"a\":\"Hern\\\\u00e1ndez Fabian\",\"d\":\"Medicina\",\"m\":\"0\",\"c\":null},{\"i\":\"15364\",\"n\":\"ESTANISLAO\",\"a\":\"HERNANDEZ FIGUEROA\",\"d\":\"PREPA 4\",\"m\":\"38\",\"c\":\"8.2105\"},{\"i\":\"138640\",\"n\":\"Luis Manuel\",\"a\":\"Hern\\\\u00e1ndez Gallardo\",\"d\":\"Ciencias\",\"m\":\"0\",\"c\":null},{\"i\":\"149469\",\"n\":\"Guillermo de Jes\\\\u00fas\",\"a\":\"Hern\\\\u00e1ndez Garc\\\\u00eda\",\"d\":\"Maestr\\\\u00eda en Ciencias e Ingenier\\\\u00eda de la Computaci\\\\u00f3\",\"m\":\"1\",\"c\":\"7.0000\"},{\"i\":\"142073\",\"n\":\"Roci\\\\u00f3\",\"a\":\"Hern\\\\u00e1ndez Garc\\\\u00eda\",\"d\":\"Facultad de Econom\\\\u00eda \",\"m\":\"2\",\"c\":\"5.0000\"},{\"i\":\"81668\",\"n\":\"MALULLY\",\"a\":\"HERNANDEZ GONZALEZ\",\"d\":\"ECONOMIA\",\"m\":\"2\",\"c\":\"3.5000\"},{\"i\":\"125681\",\"n\":\"Pilar\",\"a\":\"Hern\\\\u00e1ndez Ibarra\",\"d\":\"Eneo\",\"m\":\"0\",\"c\":null},{\"i\":\"125680\",\"n\":\"Pilar\",\"a\":\"Hern\\\\u00e1ndez Ibarra\",\"d\":\"Uam\",\"m\":\"0\",\"c\":null},{\"i\":\"46794\",\"n\":\"jose mario\",\"a\":\"hernandez juarez\",\"d\":\"contaduria y admon\",\"m\":\"1\",\"c\":\"10.0000\"},{\"i\":\"155328\",\"n\":\"Mariana Susana\",\"a\":\"Hern\\\\u00e1ndez Leal\",\"d\":\"Facultad de Ciencias\",\"m\":\"1\",\"c\":\"7.0000\"},{\"i\":\"109930\",\"n\":\"Alberto\",\"a\":\"Hernandez Leon\",\"d\":\"Facultad de Quimica\",\"m\":\"3\",\"c\":\"9.3333\"},{\"i\":\"14425\",\"n\":\"Marco Antonio\",\"a\":\"Hern\\\\u00e1ndez L\\\\u00f3pez\",\"d\":\"Economia\",\"m\":\"35\",\"c\":\"7.5429\"},{\"i\":\"161537\",\"n\":\"Janeth\",\"a\":\"Hern\\\\u00e1ndez L\\\\u00f3pez\",\"d\":\"Derecho\",\"m\":\"0\",\"c\":null},{\"i\":\"60489\",\"n\":\"hector\",\"a\":\"hernandez lopez\",\"d\":\"C. integral\",\"m\":\"7\",\"c\":\"9.5714\"},{\"i\":\"124919\",\"n\":\"Andr\\\\u00e9s Jos\\\\u00e9\",\"a\":\"Hern\\\\u00e1ndez Lopez\",\"d\":\"Cch azcapotzalco \",\"m\":\"1\",\"c\":\"2.0000\"},{\"i\":\"113782\",\"n\":\"Ivan\",\"a\":\"Hern\\\\u00e1ndez Luna\",\"d\":\"Derecho \",\"m\":\"0\",\"c\":null},{\"i\":\"14510\",\"n\":\"Benjamin\",\"a\":\"Hernandez Madrigal\",\"d\":\"Economia\",\"m\":\"11\",\"c\":\"6.9091\"},{\"i\":\"124930\",\"n\":\"Jeanette\",\"a\":\"Hern\\\\u00e1ndez Manzo\",\"d\":\"Facultad de Psicolog\\\\u00eda \",\"m\":\"3\",\"c\":\"7.3333\"},{\"i\":\"164622\",\"n\":\"Claudia Lucia\",\"a\":\"Hernandez Martinez\",\"d\":\"Contaduria y administracion\",\"m\":\"0\",\"c\":null},{\"i\":\"127077\",\"n\":\"Teodora\",\"a\":\"Hern\\\\u00e1ndez Maximo\",\"d\":\"Colegio de Ciencias y Humanidades Plantel Naucalpa\",\"m\":\"1\",\"c\":\"2.0000\"},{\"i\":\"112865\",\"n\":\"Jes\\\\u00fas\",\"a\":\"Hern\\\\u00e1ndez Medina\",\"d\":\"FES ACATL\\\\u00c1N \",\"m\":\"6\",\"c\":\"8.5000\"},{\"i\":\"142092\",\"n\":\"Angela\",\"a\":\"Hernandez Mendez\",\"d\":\"Escuela Nacional de trabajo social \",\"m\":\"4\",\"c\":\"5.2500\"},{\"i\":\"128529\",\"n\":\"C\\\\u00e9sar Augusto\",\"a\":\"Hernandez Mendoza\",\"d\":\"Prepa 6\",\"m\":\"0\",\"c\":null},{\"i\":\"39018\",\"n\":\"Luis\",\"a\":\"Hern\\\\u00e1ndez Moreno\",\"d\":\"Ingenieria\",\"m\":\"42\",\"c\":\"7.0714\"},{\"i\":\"135954\",\"n\":\"Rolando\",\"a\":\"Hernandez Mu\\\\u00f1oz\",\"d\":\"Instituto de Fusiologia Celular\",\"m\":\"0\",\"c\":null},{\"i\":\"140083\",\"n\":\"Armando\",\"a\":\"Hernandez navarrete\",\"d\":\"FES iztacala\",\"m\":\"0\",\"c\":null},{\"i\":\"107489\",\"n\":\"carmen evelia\",\"a\":\"hernandez ort\\\\u00edz\",\"d\":\"ciencias politicas y sociales\",\"m\":\"0\",\"c\":null},{\"i\":\"158698\",\"n\":\"Brenda Marisol\",\"a\":\"Hern\\\\u00e1ndez Perez\",\"d\":\"psicologia\",\"m\":\"1\",\"c\":\"8.0000\"},{\"i\":\"118647\",\"n\":\"Juan Esteban\",\"a\":\"Hern\\\\u00e1ndez Quintero\",\"d\":\"Ciencias\",\"m\":\"1\",\"c\":\"10.0000\"},{\"i\":\"63366\",\"n\":\"Mauricio\",\"a\":\"Hern\\\\u00e1ndez Ram\\\\u00edrez\",\"d\":\"Econom\\\\u00eda\",\"m\":\"13\",\"c\":\"8.6154\"},{\"i\":\"105447\",\"n\":\"Ren\\\\u00e9\",\"a\":\"Hern\\\\u00e1ndez Rivera\",\"d\":\"Facultad de Ciencias, UNAM\",\"m\":\"3\",\"c\":\"6.3333\"},{\"i\":\"32521\",\"n\":\"celso cristobal\",\"a\":\"hernandez rojas\",\"d\":\"economia\",\"m\":\"2\",\"c\":\"4.5000\"},{\"i\":\"160410\",\"n\":\"Maria Eugenia\",\"a\":\"Hernandez Sanchez\",\"d\":\"Facultad de Arquitectura \",\"m\":\"0\",\"c\":null},{\"i\":\"160409\",\"n\":\"Mari Eugenia\",\"a\":\"Hernandez Sanchez\",\"d\":\"Facultad de Arquitectura \",\"m\":\"0\",\"c\":null},{\"i\":\"27333\",\"n\":\"Gerardo Omar\",\"a\":\"Hernandez Segura\",\"d\":\"Fisicoquimica\",\"m\":\"3\",\"c\":\"9.0000\"},{\"i\":\"144647\",\"n\":\"Guadalupe\",\"a\":\"Hernandez Torres\",\"d\":\"FES CUAUTITLAN\",\"m\":\"1\",\"c\":\"10.0000\"},{\"i\":\"164107\",\"n\":\"Eduardo\",\"a\":\"Hernandez Vazquez\",\"d\":\"Facultad Quimica\\\\/IQ\",\"m\":\"0\",\"c\":null},{\"i\":\"108837\",\"n\":\"VERONICA LETICIA\",\"a\":\"HERNANDEZ VAZQUEZ\",\"d\":\"economia cu\",\"m\":\"2\",\"c\":\"5.0000\"},{\"i\":\"120055\",\"n\":\"Rogelio\",\"a\":\"Hern\\\\u00e1ndez Vergara\",\"d\":\"Facultad de Ciencias\",\"m\":\"0\",\"c\":null},{\"i\":\"20334\",\"n\":\"Francisco Jos\\\\u00e9\",\"a\":\"Hern\\\\u00e1ndez y Puente\",\"d\":\"Economia\",\"m\":\"7\",\"c\":\"6.8571\"},{\"i\":\"109347\",\"n\":\"Luis Fernando\",\"a\":\"Hern\\\\u00e1ndez Zimbron\",\"d\":\"Facultad de Ciencias\",\"m\":\"21\",\"c\":\"6.7619\"},{\"i\":\"104492\",\"n\":\"Karla Ver\\\\u00f3nica\",\"a\":\"Herrada Ram\\\\u00edrez\",\"d\":\"Econom\\\\u00eda \",\"m\":\"0\",\"c\":null},{\"i\":\"149136\",\"n\":\"Margarita\",\"a\":\"Herrera\",\"d\":\"Suayed Psicolog\\\\u00eda FES Iztacala\",\"m\":\"1\",\"c\":\"7.0000\"},{\"i\":\"14575\",\"n\":\"Saul\",\"a\":\"Herrera Aguilar\",\"d\":\"Economia\",\"m\":\"15\",\"c\":\"8.0000\"},{\"i\":\"109581\",\"n\":\"Juan Gabriel\",\"a\":\"Herrera Alva\",\"d\":\"Ciencias \",\"m\":\"0\",\"c\":null},{\"i\":\"61561\",\"n\":\"rafael\",\"a\":\"herrera avenda\\\\u00f1o\",\"d\":\"medicina\",\"m\":\"2\",\"c\":\"10.0000\"},{\"i\":\"59945\",\"n\":\"Clemente\",\"a\":\"Herrera Dur\\\\u00e1n\",\"d\":\"Econom\\\\u00eda\",\"m\":\"1\",\"c\":\"2.0000\"},{\"i\":\"16207\",\"n\":\"alfredo\",\"a\":\"herrera hernandez\",\"d\":\"cch-ote\",\"m\":\"5\",\"c\":\"9.8000\"},{\"i\":\"122159\",\"n\":\"Adriana Paola\",\"a\":\"Herrera Mej\\\\u00eda\",\"d\":\"ENP 6\",\"m\":\"1\",\"c\":\"5.0000\"},{\"i\":\"161762\",\"n\":\"Jos\\\\u00e9 Ruben\",\"a\":\"Herrera Ocegueda\",\"d\":\"Derecho \",\"m\":\"0\",\"c\":null},{\"i\":\"72097\",\"n\":\"Alberto\",\"a\":\"Herrera ordo\\\\u00f1ez\",\"d\":\"ENTS \",\"m\":\"3\",\"c\":\"9.3333\"},{\"i\":\"145993\",\"n\":\"Bolivar\",\"a\":\"Herrera Sanchez\",\"d\":\"Matem\\\\u00e1ticas \",\"m\":\"2\",\"c\":\"4.0000\"},{\"i\":\"63577\",\"n\":\"Paola Guadalupe\",\"a\":\"Herrera Sanch\\\\u00e9z\",\"d\":\"\",\"m\":\"10\",\"c\":\"3.1000\"},{\"i\":\"102691\",\"n\":\"Lucila de Nuestra Se\\\\u00f1ora\",\"a\":\"Herrera S\\\\u00e1nchez\",\"d\":\"Facultad Filodof\\\\u00eda y Letras\",\"m\":\"4\",\"c\":\"4.0000\"},{\"i\":\"149594\",\"n\":\"SERGIO\",\"a\":\"HERRERA TORRES\",\"d\":\"DERECHO\",\"m\":\"0\",\"c\":null},{\"i\":\"15366\",\"n\":\"alberto\",\"a\":\"herrerias aristi\",\"d\":\"contaduria\",\"m\":\"5\",\"c\":\"9.0000\"},{\"i\":\"134617\",\"n\":\"Ashanty\",\"a\":\"Herrerias Ramirez\",\"d\":\"FFyL UNAM\",\"m\":\"1\",\"c\":\"10.0000\"},{\"i\":\"155680\",\"n\":\"Alejandro Mauricio\",\"a\":\"Hevia Garc\\\\u00eda\",\"d\":\"Fes Iztacala\\\\/ciclos cl\\\\u00ednicos IV\",\"m\":\"0\",\"c\":null},{\"i\":\"164571\",\"n\":\"Leticia\",\"a\":\"Hidalgo\",\"d\":\"CCH Sur \",\"m\":\"0\",\"c\":null},{\"i\":\"139026\",\"n\":\"Marcia\",\"a\":\"Hiriart\",\"d\":\"Medicina\",\"m\":\"0\",\"c\":null},{\"i\":\"15114\",\"n\":\"Gregory\",\"a\":\"House\",\"d\":\"Medicina\",\"m\":\"7\",\"c\":\"8.7143\"},{\"i\":\"68739\",\"n\":\"hortencio\",\"a\":\"huajardo moncada\",\"d\":\"Derecho\",\"m\":\"1\",\"c\":\"7.0000\"},{\"i\":\"158335\",\"n\":\"Carlos\",\"a\":\"Huaman\",\"d\":\"Estudios latinoamericanos\",\"m\":\"0\",\"c\":null},{\"i\":\"109139\",\"n\":\"Luis\",\"a\":\"Huante\",\"d\":\"Fes Cuautitlan\",\"m\":\"0\",\"c\":null},{\"i\":\"11240\",\"n\":\"Enrique\",\"a\":\"Hueda Ojira\",\"d\":\"Econom\\\\u00eda\",\"m\":\"16\",\"c\":\"6.1875\"},{\"i\":\"126637\",\"n\":\"Susana\",\"a\":\"Huerta Gonz\\\\u00e1lez\",\"d\":\"Historia de M\\\\u00e9xico \",\"m\":\"0\",\"c\":null},{\"i\":\"14576\",\"n\":\"Arturo\",\"a\":\"Huerta Gonzalez\",\"d\":\"Economia\",\"m\":\"9\",\"c\":\"6.8889\"},{\"i\":\"149106\",\"n\":\"Mario Canek\",\"a\":\"Huerta Mart\\\\u00ednez\",\"d\":\"FCPyS IIA\",\"m\":\"3\",\"c\":\"9.6667\"},{\"i\":\"11241\",\"n\":\"Rogelio\",\"a\":\"Huerta Quintanilla\",\"d\":\"Econom\\\\u00eda\",\"m\":\"47\",\"c\":\"7.1702\"},{\"i\":\"156220\",\"n\":\"Irene\",\"a\":\"Huesca\",\"d\":\"Contabilidad \",\"m\":\"0\",\"c\":null},{\"i\":\"75851\",\"n\":\"jose luis\",\"a\":\"huesca jimenez\",\"d\":\"contaduria\",\"m\":\"0\",\"c\":null},{\"i\":\"42680\",\"n\":\"blanca edith\",\"a\":\"huitron mendoza\",\"d\":\"facultad de contaduria y administracion\",\"m\":\"2\",\"c\":\"9.0000\"},{\"i\":\"84075\",\"n\":\"Jos\\\\u00e9 Antonio\",\"a\":\"Huitr\\\\u00f3n Mendoza\",\"d\":\"FES Acatl\\\\u00e1n. Econom\\\\u00eda.\",\"m\":\"7\",\"c\":\"5.0000\"},{\"i\":\"138389\",\"n\":\"Jose\",\"a\":\"Hurtado\",\"d\":\"Fes cuautitlan\",\"m\":\"1\",\"c\":\"2.0000\"},{\"i\":\"114677\",\"n\":\"ADRIAN\",\"a\":\"IBA\\\\u00d1EZ\",\"d\":\"TORRES\",\"m\":\"0\",\"c\":null},{\"i\":\"144962\",\"n\":\"Julio Cesar\",\"a\":\"Ib\\\\u00e1\\\\u00f1ez Leon\",\"d\":\"ENEO\",\"m\":\"1\",\"c\":\"3.0000\"},{\"i\":\"144961\",\"n\":\"Julio Cesar\",\"a\":\"Ib\\\\u00e1\\\\u00f1ez Leon\",\"d\":\"ENEO \\\\/ Salud y Sociedad\",\"m\":\"0\",\"c\":null},{\"i\":\"157124\",\"n\":\"Oscar\",\"a\":\"Iba\\\\u00f1ez Orozco\",\"d\":\"Fes Cuautitl\\\\u00e1n \",\"m\":\"1\",\"c\":\"7.0000\"},{\"i\":\"157881\",\"n\":\"Raul\",\"a\":\"Ibarra\",\"d\":\"Orientaci\\\\u00f3n \",\"m\":\"0\",\"c\":null},{\"i\":\"52770\",\"n\":\"maria eugenia\",\"a\":\"ibarra\",\"d\":\"fes zaragoza \",\"m\":\"2\",\"c\":\"2.0000\"},{\"i\":\"15211\",\"n\":\"Mar\\\\u00eda Elena\",\"a\":\"Ibarra\",\"d\":\"Biolog\\\\u00eda\",\"m\":\"4\",\"c\":\"7.0000\"},{\"i\":\"14511\",\"n\":\"Jorge\",\"a\":\"Ibarra Consejo\",\"d\":\"Economia\",\"m\":\"6\",\"c\":\"6.8333\"},{\"i\":\"43808\",\"n\":\"Victor Hugo\",\"a\":\"Ibarra Ramirez\",\"d\":\"Medicina\",\"m\":\"10\",\"c\":\"9.3000\"},{\"i\":\"14480\",\"n\":\"Jos\\\\u00e9 Antonio\",\"a\":\"Ibarra Romero\",\"d\":\"Economia\",\"m\":\"26\",\"c\":\"7.3462\"},{\"i\":\"72063\",\"n\":\"Mar\\\\u00eda Elena\",\"a\":\"Ibarra Rubio\",\"d\":\"Facultad de Qu\\\\u00edmica; Biolog\\\\u00eda celular\",\"m\":\"0\",\"c\":null},{\"i\":\"60641\",\"n\":\"villasana diaz\",\"a\":\"ignacio\",\"d\":\"derecho sua\",\"m\":\"1\",\"c\":\"6.0000\"},{\"i\":\"156207\",\"n\":\"Roberto Jes\\\\u00fas\",\"a\":\"Ignici\\\\u00f3n olalde\",\"d\":\"Fca \",\"m\":\"0\",\"c\":null},{\"i\":\"108124\",\"n\":\"QUETI\",\"a\":\"IMPORTA\",\"d\":\"FES CUAUTITLAN\",\"m\":\"0\",\"c\":null},{\"i\":\"41840\",\"n\":\"Alberto\",\"a\":\"Ingalls Cruz\",\"d\":\"Quimica -----------------------------metalurgia\",\"m\":\"7\",\"c\":\"7.4286\"},{\"i\":\"113328\",\"n\":\"Adriana\",\"a\":\"Iniesta Gomez\",\"d\":\"Colera\\\\/UBUEMP\",\"m\":\"3\",\"c\":\"10.0000\"},{\"i\":\"79209\",\"n\":\"Jose Rodrigo\",\"a\":\"Iniesta Miranda\",\"d\":\"Ciencias\",\"m\":\"6\",\"c\":\"2.0000\"},{\"i\":\"149573\",\"n\":\"RAFAEL\",\"a\":\"I\\\\u00d1IGUEZ HERRERA\",\"d\":\"CONTADURIA\",\"m\":\"1\",\"c\":\"9.0000\"},{\"i\":\"140314\",\"n\":\"Martin\",\"a\":\"I\\\\u00f1iguez ramos\",\"d\":\"Ciencias politicas\",\"m\":\"0\",\"c\":null},{\"i\":\"110776\",\"n\":\"Jesus\",\"a\":\"Isaias Silva\",\"d\":\"CONACYT\",\"m\":\"1\",\"c\":\"10.0000\"},{\"i\":\"110775\",\"n\":\"Jesus\",\"a\":\"Isaias Silva\",\"d\":\"UNAM ARAGON\",\"m\":\"9\",\"c\":\"9.7778\"},{\"i\":\"153894\",\"n\":\"jesus\",\"a\":\"isidoro salazar\",\"d\":\"CCH azcapotzalco\",\"m\":\"0\",\"c\":null},{\"i\":\"52063\",\"n\":\"Victor Manuel\",\"a\":\"Isidro LUna\",\"d\":\"Economia\",\"m\":\"7\",\"c\":\"7.4286\"},{\"i\":\"162540\",\"n\":\"Rodolfo Rub\\\\u00e9n\",\"a\":\"Islas Ramos\",\"d\":\"Fes Acatlan \",\"m\":\"0\",\"c\":null},{\"i\":\"152979\",\"n\":\"Jesus\",\"a\":\"Ismael Cano conde\",\"d\":\"Plan de ayala\",\"m\":\"1\",\"c\":\"7.0000\"},{\"i\":\"32167\",\"n\":\"Jorge\",\"a\":\"Isunza Hernandez\",\"d\":\"Ingenier\\\\u00eda\",\"m\":\"25\",\"c\":\"4.8000\"},{\"i\":\"14426\",\"n\":\"Julio\",\"a\":\"Ize Guti\\\\u00e9rrez\",\"d\":\"Economia\",\"m\":\"43\",\"c\":\"6.3023\"},{\"i\":\"162086\",\"n\":\"Carlos Roberto\",\"a\":\"Jacobo Garc\\\\u00eda\",\"d\":\"Facultad de arquitectura\",\"m\":\"1\",\"c\":\"10.0000\"},{\"i\":\"125454\",\"n\":\"Fernando\",\"a\":\"Jaime Enriquez\",\"d\":\"Facultad de ingenieria\",\"m\":\"7\",\"c\":\"9.0000\"},{\"i\":\"163029\",\"n\":\"Hueman\",\"a\":\"Jaimes D\\\\u00edaz\",\"d\":\"CCH Naucalpan\",\"m\":\"1\",\"c\":\"10.0000\"},{\"i\":\"140728\",\"n\":\"Jorge Humberto\",\"a\":\"Jaimez Tellez\",\"d\":\"Derecho\",\"m\":\"0\",\"c\":null},{\"i\":\"127725\",\"n\":\"Lourdes\",\"a\":\"Jamit Sent\\\\u00edes\",\"d\":\"Ingenier\\\\u00eda \",\"m\":\"6\",\"c\":\"4.6667\"},{\"i\":\"64648\",\"n\":\"juan pablo\",\"a\":\"jaramillo\",\"d\":\"qu\\\\u00edmico\",\"m\":\"0\",\"c\":null},{\"i\":\"84641\",\"n\":\"Hector Virgilio\",\"a\":\"Jaramillo Rojas\",\"d\":\"Derecho\",\"m\":\"8\",\"c\":\"10.0000\"},{\"i\":\"68737\",\"n\":\"juan carlos\",\"a\":\"jaramillo rojas\",\"d\":\"Derecho\",\"m\":\"5\",\"c\":\"8.2000\"},{\"i\":\"114381\",\"n\":\"Oscar Alfredo\",\"a\":\"Jaramillo Salgado\",\"d\":\"Posgrado en Ingenier\\\\u00eda. Instituto de Energ\\\\u00edas Reno\",\"m\":\"0\",\"c\":null},{\"i\":\"77333\",\"n\":\"Pedro\",\"a\":\"Jasso PAti\\\\u00f1o\",\"d\":\"Cibern\\\\u00e9tica\",\"m\":\"1\",\"c\":\"6.0000\"},{\"i\":\"106292\",\"n\":\"Jos\\\\u00e9 Rogelio\",\"a\":\"Jasso Villazul\",\"d\":\"Facultad de M\\\\u00fasica\",\"m\":\"3\",\"c\":\"7.0000\"},{\"i\":\"142074\",\"n\":\"Luis Angel\",\"a\":\"Jim\\\\u00e9nez\",\"d\":\"Facultad de Econom\\\\u00eda \",\"m\":\"1\",\"c\":\"9.0000\"},{\"i\":\"42248\",\"n\":\"Alejandro Santiago\",\"a\":\"Jimenez\",\"d\":\"ENP8 \\\\\"Miguel E.Schulz\\\\\" \",\"m\":\"102\",\"c\":\"3.9608\"},{\"i\":\"163514\",\"n\":\"Blanca elena\",\"a\":\"Jim\\\\u00e9nez\",\"d\":\"Ricardez\",\"m\":\"0\",\"c\":null},{\"i\":\"138960\",\"n\":\"Rocio\",\"a\":\"Jimenez bermudez\",\"d\":\"Plantel 2 unam\",\"m\":\"0\",\"c\":null},{\"i\":\"114973\",\"n\":\"noe rosalio\",\"a\":\"jimenez calixto\",\"d\":\"enap\",\"m\":\"0\",\"c\":null},{\"i\":\"142333\",\"n\":\"Jes\\\\u00fas\",\"a\":\"Jimenez celaya\",\"d\":\"Fes acatlan \",\"m\":\"0\",\"c\":null},{\"i\":\"164528\",\"n\":\"Norma Mariana\",\"a\":\"Jim\\\\u00e9nez del Angel\",\"d\":\"Ciencias de la salud \",\"m\":\"1\",\"c\":\"10.0000\"},{\"i\":\"100886\",\"n\":\"Laura Michelle\",\"a\":\"Jim\\\\u00e9nez D\\\\u00edaz\",\"d\":\"Ciencias\",\"m\":\"1\",\"c\":\"10.0000\"},{\"i\":\"85413\",\"n\":\"Ma. Gisela\",\"a\":\"J\\\\u00edmenez D\\\\u00edaz\",\"d\":\"Ciencias de la salud\",\"m\":\"0\",\"c\":null},{\"i\":\"15545\",\"n\":\"Eduardo\",\"a\":\"Jimenez Diaz Barriga\",\"d\":\"CELE franc\\\\u00e9s\",\"m\":\"14\",\"c\":\"7.6429\"},{\"i\":\"140173\",\"n\":\"Gabriel\",\"a\":\"Jim\\\\u00e9nez Esc\\\\u00e1rcega\",\"d\":\"Medicina\",\"m\":\"1\",\"c\":\"10.0000\"},{\"i\":\"45358\",\"n\":\"Manuel\",\"a\":\"Jim\\\\u00e9nez Estrada\",\"d\":\"Qu\\\\u00edmica\\\\/Qu\\\\u00edmica Org\\\\u00e1nica\",\"m\":\"7\",\"c\":\"6.8571\"},{\"i\":\"142717\",\"n\":\"libia\",\"a\":\"jimenez flores\",\"d\":\"idiomas\",\"m\":\"0\",\"c\":null},{\"i\":\"134921\",\"n\":\"Raimundo Juventino Adalverto\",\"a\":\"Jimenez Galan\",\"d\":\"Fisica \",\"m\":\"1\",\"c\":\"4.0000\"},{\"i\":\"143056\",\"n\":\"MARCO ANTONIO\",\"a\":\"JIMENEZ GARCIA\",\"d\":\"FFYL UNAM\",\"m\":\"1\",\"c\":\"2.0000\"},{\"i\":\"133455\",\"n\":\"Luis Felipe\",\"a\":\"Jim\\\\u00e9nez Garcia\",\"d\":\"Ciencias, Biolog\\\\u00eda Celular \",\"m\":\"1\",\"c\":\"10.0000\"},{\"i\":\"164620\",\"n\":\"Rene\",\"a\":\"Jimenez Hern\\\\u00e1ndez\",\"d\":\"Colegio de Ciencias y Humanidades Plantel Oriente \",\"m\":\"1\",\"c\":\"6.0000\"},{\"i\":\"110228\",\"n\":\"Ren\\\\u00e9\",\"a\":\"Jim\\\\u00e9nez Hern\\\\u00e1ndez\",\"d\":\"CCH ORIENTE \",\"m\":\"1\",\"c\":\"10.0000\"},{\"i\":\"74840\",\"n\":\"Guadalupe Veronica\",\"a\":\"Jim\\\\u00e9nez Hern\\\\u00e1ndez\",\"d\":\"INAE\",\"m\":\"22\",\"c\":\"5.7273\"},{\"i\":\"154869\",\"n\":\"Carla\",\"a\":\"Jim\\\\u00e9nez Ju\\\\u00e1rez\",\"d\":\"Fes Acatl\\\\u00e1n \",\"m\":\"2\",\"c\":\"10.0000\"},{\"i\":\"14385\",\"n\":\"Mar\\\\u00eda Del Carmen\",\"a\":\"Jim\\\\u00e9nez M\\\\u00e1rquez\",\"d\":\"Economia\",\"m\":\"33\",\"c\":\"4.0606\"},{\"i\":\"156418\",\"n\":\"Mar\\\\u00eda del Carmen\",\"a\":\"Jim\\\\u00e9nez Marquez\",\"d\":\"Facultad de Economia\",\"m\":\"0\",\"c\":null},{\"i\":\"135199\",\"n\":\"Jos\\\\u00e9 Luis\",\"a\":\"Jim\\\\u00e9nez Mendoza\",\"d\":\"Divisi\\\\u00f3n de Ingenier\\\\u00eda en Ciencias de la Tierra\",\"m\":\"4\",\"c\":\"9.7500\"},{\"i\":\"144442\",\"n\":\"Jos\\\\u00e9 V\\\\u00edctor David\",\"a\":\"Jim\\\\u00e9nez Molina\",\"d\":\"Facultad Econom\\\\u00eda \",\"m\":\"2\",\"c\":\"6.0000\"},{\"i\":\"129162\",\"n\":\"Mayte Stefany\",\"a\":\"Jimenez Noriega\",\"d\":\"FES Cuautitlan\",\"m\":\"16\",\"c\":\"7.1250\"},{\"i\":\"152710\",\"n\":\"Hilario\",\"a\":\"Jimenez Orozco\",\"d\":\"Medicina Cardiologia\",\"m\":\"0\",\"c\":null},{\"i\":\"105269\",\"n\":\"ADULFO\",\"a\":\"JIMENEZ PE\\\\u00d1A\",\"d\":\"FES IZTACALA\",\"m\":\"0\",\"c\":null},{\"i\":\"154876\",\"n\":\"cesar octavio\",\"a\":\"jimenez pierre\",\"d\":\"fes zaragoza\",\"m\":\"1\",\"c\":\"3.0000\"},{\"i\":\"141422\",\"n\":\"Angel\",\"a\":\"Jimenez prado\",\"d\":\"Biologia\",\"m\":\"0\",\"c\":null},{\"i\":\"142192\",\"n\":\"Dalia Guadalupe\",\"a\":\"Jimenez Rios\",\"d\":\"Piano\",\"m\":\"4\",\"c\":\"8.5000\"},{\"i\":\"117611\",\"n\":\"Mario\",\"a\":\"Jim\\\\u00e9nez Robert\",\"d\":\"Ingenier\\\\u00eda\",\"m\":\"0\",\"c\":null},{\"i\":\"88883\",\"n\":\"Rosa\",\"a\":\"Jim\\\\u00e9nez Rodea\",\"d\":\"Facultad de Derecho\",\"m\":\"2\",\"c\":\"6.0000\"},{\"i\":\"112888\",\"n\":\"Sonia\",\"a\":\"Jimenez Sanchez\",\"d\":\"CCH ORIENTE\",\"m\":\"1\",\"c\":\"10.0000\"},{\"i\":\"79186\",\"n\":\"Guillermo\",\"a\":\"Jim\\\\u00e9nez Uribe\",\"d\":\"CCH Azcapotzalco \",\"m\":\"3\",\"c\":\"6.3333\"},{\"i\":\"139804\",\"n\":\"RA\\\\u00daL ARMANDO\",\"a\":\"JIM\\\\u00c9NEZ V\\\\u00c1QUEZ\",\"d\":\"Maestr\\\\u00eda en Derecho\",\"m\":\"1\",\"c\":\"10.0000\"},{\"i\":\"14512\",\"n\":\"Miguel Angel\",\"a\":\"Jimenez Vazquez\",\"d\":\"Economia\",\"m\":\"46\",\"c\":\"7.7174\"},{\"i\":\"76380\",\"n\":\"MIGUEL ANGEL\",\"a\":\"JIMENEZ VAZQUEZ\",\"d\":\"\",\"m\":\"0\",\"c\":null},{\"i\":\"161160\",\"n\":\"ERIK AARON\",\"a\":\"JIMENEZ VILLANUEVA\",\"d\":\"Facultad de Econom\\\\u00eda\",\"m\":\"1\",\"c\":\"10.0000\"},{\"i\":\"141613\",\"n\":\"Navarro solis\",\"a\":\"Jos\\\\u00e9 luis\",\"d\":\"Musica\",\"m\":\"0\",\"c\":null},{\"i\":\"34588\",\"n\":\"Fernando Alberto\",\"a\":\"Juarez\",\"d\":\"Castillo\",\"m\":\"3\",\"c\":\"6.0000\"},{\"i\":\"149374\",\"n\":\"irma liliana\",\"a\":\"juarez\",\"d\":\"cervantes\",\"m\":\"1\",\"c\":\"3.0000\"},{\"i\":\"145058\",\"n\":\"ADRIANA MERCEDES\",\"a\":\"JUAREZ\",\"d\":\"CARAPIA \",\"m\":\"0\",\"c\":null},{\"i\":\"120869\",\"n\":\"alicia\",\"a\":\"juarez\",\"d\":\"becerril\",\"m\":\"0\",\"c\":null},{\"i\":\"69584\",\"n\":\"Fabiola\",\"a\":\"Ju\\\\u00e1rez Barrera\",\"d\":\"Fes Zaragoza\",\"m\":\"1\",\"c\":\"3.0000\"},{\"i\":\"133353\",\"n\":\"ALICIA MARIA\",\"a\":\"JUAREZ BECERRIL\",\"d\":\"ciencias pol\\\\u00edticas y sociales  \",\"m\":\"0\",\"c\":null},{\"i\":\"149027\",\"n\":\"David\",\"a\":\"Ju\\\\u00e1rez Castillo\",\"d\":\"FES Arag\\\\u00f3n\",\"m\":\"3\",\"c\":\"6.3333\"},{\"i\":\"34589\",\"n\":\"Fernando Alberto\",\"a\":\"Juarez Castillo\",\"d\":\"ciencias matematicas\",\"m\":\"2\",\"c\":\"4.5000\"},{\"i\":\"144487\",\"n\":\"Adriana\",\"a\":\"Juarez Flores\",\"d\":\"Logica\",\"m\":\"0\",\"c\":null},{\"i\":\"115124\",\"n\":\"Jos\\\\u00e9 Vladimir Juarez Gutierrez\",\"a\":\"Juarez Gutierrez\",\"d\":\"Arquitectura\",\"m\":\"1\",\"c\":\"10.0000\"},{\"i\":\"67918\",\"n\":\"Martha Patricia\",\"a\":\"Juarez Morales\",\"d\":\"ENEO\",\"m\":\"0\",\"c\":null},{\"i\":\"113824\",\"n\":\"Monica\",\"a\":\"Juarez Rivera\",\"d\":\"Facultad de Contadur\\\\u00eda y Admon\",\"m\":\"10\",\"c\":\"8.3000\"},{\"i\":\"144591\",\"n\":\"Maria esther\",\"a\":\"Juarez velazquez\",\"d\":\"Posgrado\",\"m\":\"0\",\"c\":null},{\"i\":\"150111\",\"n\":\"Itzel Ileana\",\"a\":\"Julio Borja\",\"d\":\"Facultad de ciencias\",\"m\":\"8\",\"c\":\"5.3750\"},{\"i\":\"114271\",\"n\":\"Raul\",\"a\":\"Jurado\",\"d\":\"Cardenas\",\"m\":\"0\",\"c\":null},{\"i\":\"85556\",\"n\":\"ligia\",\"a\":\"kamss paniagua\",\"d\":\"enp 3\",\"m\":\"0\",\"c\":null},{\"i\":\"16525\",\"n\":\"Espartaco\",\"a\":\"kanagusico\",\"d\":\"Informatica\",\"m\":\"13\",\"c\":\"3.7692\"},{\"i\":\"81269\",\"n\":\"Octavio David\",\"a\":\"Keever Hidalgo\",\"d\":\"UNAM Facultad de Contaduria, Administraci\\\\u00f3n e Info\",\"m\":\"2\",\"c\":\"8.0000\"},{\"i\":\"80257\",\"n\":\"Beatriz\",\"a\":\"King Diaz\",\"d\":\"Ciencias UNAM Molecular II\",\"m\":\"7\",\"c\":\"7.0000\"},{\"i\":\"80260\",\"n\":\"Juan\",\"a\":\"Kis solt\",\"d\":\"Arquitectura \",\"m\":\"0\",\"c\":null},{\"i\":\"27155\",\"n\":\"Tatiana Eugenievna\",\"a\":\"Klimova Berestneva\",\"d\":\"Ingenieria Qu\\\\u00edmica y Cat\\\\u00e1lisis\",\"m\":\"6\",\"c\":\"7.8333\"},{\"i\":\"162598\",\"n\":\"JULIO GABRIEL\",\"a\":\"KONZEVIK CABIB\",\"d\":\"Arquitectura\",\"m\":\"1\",\"c\":\"5.0000\"},{\"i\":\"105185\",\"n\":\"Fausto\",\"a\":\"Kubli\",\"d\":\"Derecho \",\"m\":\"0\",\"c\":null},{\"i\":\"11242\",\"n\":\"Armando\",\"a\":\"Kuri Gaytan\",\"d\":\"Econom\\\\u00eda\",\"m\":\"31\",\"c\":\"6.0000\"},{\"i\":\"115759\",\"n\":\"Daniel\",\"a\":\"Labardini\",\"d\":\"Matematicas\",\"m\":\"0\",\"c\":null},{\"i\":\"124131\",\"n\":\"Adolfo\",\"a\":\"Laborde Carranco\",\"d\":\"FCPyS\",\"m\":\"1\",\"c\":\"2.0000\"},{\"i\":\"19156\",\"n\":\"Mario\",\"a\":\"Lage\",\"d\":\"Facultad de Filosof\\\\u00eda y Letras\\\\/Lit. Dram\\\\u00e1tica\",\"m\":\"4\",\"c\":\"9.2500\"},{\"i\":\"75871\",\"n\":\"Ramon Nonato\",\"a\":\"Lagunas Sanchez\",\"d\":\"\",\"m\":\"1\",\"c\":\"9.0000\"},{\"i\":\"135351\",\"n\":\"Emma\",\"a\":\"Lam\",\"d\":\"Facultad de Ciencias\",\"m\":\"1\",\"c\":\"4.0000\"},{\"i\":\"147298\",\"n\":\"Karina\",\"a\":\"Lamas Evangelista\",\"d\":\"Facultad de Filosof\\\\u00eda y Letras\",\"m\":\"4\",\"c\":\"6.5000\"},{\"i\":\"68265\",\"n\":\"monique\",\"a\":\"landais\",\"d\":\"FFyL\",\"m\":\"0\",\"c\":null},{\"i\":\"125934\",\"n\":\"Paulina\",\"a\":\"Landeros\",\"d\":\"FCPyS\",\"m\":\"1\",\"c\":\"10.0000\"},{\"i\":\"14934\",\"n\":\"Jos\\\\u00e9\",\"a\":\"Landeros\",\"d\":\"Fac. Qu\\\\u00edmica\",\"m\":\"7\",\"c\":\"8.1429\"},{\"i\":\"109217\",\"n\":\"Paulina\",\"a\":\"Landeros Alvarado\",\"d\":\"Facultad de ingenier\\\\u00eda\",\"m\":\"30\",\"c\":\"9.8667\"},{\"i\":\"101540\",\"n\":\"Minerva\",\"a\":\"Lara\",\"d\":\"Cch azcapotzalco\",\"m\":\"0\",\"c\":null},{\"i\":\"157773\",\"n\":\"Karla Liliana\",\"a\":\"Lara Arellano\",\"d\":\"Diplomado SGI \",\"m\":\"1\",\"c\":\"10.0000\"},{\"i\":\"62084\",\"n\":\"ROMERO\",\"a\":\"LARA HERRERA\",\"d\":\"GRUPOS AVANZADOS DE INGLES\",\"m\":\"1\",\"c\":\"10.0000\"},{\"i\":\"155723\",\"n\":\"Benjamin\",\"a\":\"Lara ledesma\",\"d\":\"Umsnh\\\\/ Hidr\\\\u00e1ulica\",\"m\":\"0\",\"c\":null},{\"i\":\"161253\",\"n\":\"JOSE LUIS\",\"a\":\"LARA LIY\",\"d\":\"FACULTAD DE DERECHO\",\"m\":\"1\",\"c\":\"9.0000\"},{\"i\":\"63579\",\"n\":\"Jos\\\\u00e9 Antonio\",\"a\":\"Lara Montellano\",\"d\":\"\",\"m\":\"1\",\"c\":\"4.0000\"},{\"i\":\"128480\",\"n\":\"Salvador\",\"a\":\"Lara Nu\\\\u00f1ez\",\"d\":\"CCH Azcapotzalco\",\"m\":\"3\",\"c\":\"2.0000\"},{\"i\":\"156563\",\"n\":\"Pedro Josue\",\"a\":\"Lara Palacios\",\"d\":\"F\\\\u00edsica \",\"m\":\"0\",\"c\":null},{\"i\":\"156021\",\"n\":\"CHRISTO ALDAIR\",\"a\":\"LARA TENORIO\",\"d\":\"Facultad de Ingenier\\\\u00eda UNAM \",\"m\":\"2\",\"c\":\"10.0000\"},{\"i\":\"62769\",\"n\":\"Jes\\\\u00fas Armando\",\"a\":\"Lara Vel\\\\u00e1zquez\",\"d\":\"Ciencias Unam\",\"m\":\"8\",\"c\":\"8.2500\"},{\"i\":\"150031\",\"n\":\"FERNANDO\",\"a\":\"LAREDO SANCHEZ\",\"d\":\"Medicina\\\\/Farmacologia\",\"m\":\"0\",\"c\":null},{\"i\":\"89738\",\"n\":\"Diana\",\"a\":\"Larga Espinoza\",\"d\":\"Derecho\",\"m\":\"1\",\"c\":\"9.0000\"},{\"i\":\"114887\",\"n\":\"John\",\"a\":\"Larsen\",\"d\":\"enes morelia\",\"m\":\"2\",\"c\":\"6.5000\"},{\"i\":\"164174\",\"n\":\"Jorge Joaqu\\\\u00edn\",\"a\":\"Laslop y Alburquerque\",\"d\":\"Facultad de contadur\\\\u00eda y administracion\",\"m\":\"0\",\"c\":null},{\"i\":\"128309\",\"n\":\"Liliam\",\"a\":\"Lassard L\\\\u00f3pez\",\"d\":\"proped\\\\u00e9utica m\\\\u00e9dica y fisiopatolog\\\\u00eda \",\"m\":\"5\",\"c\":\"4.6000\"},{\"i\":\"162225\",\"n\":\"Renato\",\"a\":\"Laustog\",\"d\":\"Facultad ciencias pol\\\\u00edticas sociales \",\"m\":\"0\",\"c\":null},{\"i\":\"87577\",\"n\":\"Miriam\",\"a\":\"Lavarrios Arzate\",\"d\":\"Facultad de Econom\\\\u00eda \",\"m\":\"7\",\"c\":\"7.8571\"},{\"i\":\"159062\",\"n\":\"Nidiyare\",\"a\":\"Lavin\",\"d\":\"Medicina\",\"m\":\"0\",\"c\":null},{\"i\":\"44535\",\"n\":\"Virgilio Ricardo\",\"a\":\"L\\\\u00e1zaro Zerme\\\\u00f1o\",\"d\":\"Ingenier\\\\u00eda\",\"m\":\"3\",\"c\":\"9.3333\"},{\"i\":\"107290\",\"n\":\"Maria del Rosario\",\"a\":\"Lazo Garc\\\\u00eda\",\"d\":\"Odontolog\\\\u00eda\",\"m\":\"1\",\"c\":\"6.0000\"},{\"i\":\"113494\",\"n\":\"MATHIEU MICHEL\",\"a\":\"LE CORRE\",\"d\":\"Psicolog\\\\u00eda \",\"m\":\"0\",\"c\":null},{\"i\":\"23382\",\"n\":\"H\\\\u00e9ctor Manuel\",\"a\":\"Leal P\\\\u00e9rez\",\"d\":\"FCA\",\"m\":\"10\",\"c\":\"8.4000\"},{\"i\":\"19852\",\"n\":\"PAULO HUMBERTO\",\"a\":\"LEAL VILLEGAS\",\"d\":\"ECONOM\\\\u00cdA\",\"m\":\"45\",\"c\":\"7.4444\"},{\"i\":\"138848\",\"n\":\"Patricia Alejandrina\",\"a\":\"Lechuga\",\"d\":\"Qu\\\\u00edmica inorg\\\\u00e1nica y nuclear\",\"m\":\"1\",\"c\":\"4.0000\"},{\"i\":\"157366\",\"n\":\"Francisco\",\"a\":\"Ledesma Alonso\",\"d\":\"Filosofia y letras\",\"m\":\"0\",\"c\":null},{\"i\":\"141111\",\"n\":\"Mar\\\\u00eda Velia\",\"a\":\"Ledesma Diaz\",\"d\":\"Enp 4\",\"m\":\"0\",\"c\":null},{\"i\":\"43753\",\"n\":\"Maria Velia\",\"a\":\"Ledesma D\\\\u00edaz\",\"d\":\"Matem\\\\u00e1ticas\",\"m\":\"6\",\"c\":\"4.0000\"},{\"i\":\"114584\",\"n\":\"LUIS ALBERTO\",\"a\":\"LEDESMA GARCIA\",\"d\":\"Facultad de Ciencias Pol\\\\u00edticas y Sociales UNAM\",\"m\":\"6\",\"c\":\"7.6667\"},{\"i\":\"106557\",\"n\":\"Ismael\",\"a\":\"Ledesma Mateos\",\"d\":\"FES Iztacala\",\"m\":\"4\",\"c\":\"6.2500\"},{\"i\":\"34707\",\"n\":\"Yahv\\\\u00e9 Abdul\",\"a\":\"Ledezma Rubio\",\"d\":\"Ingeniria\\\\/Estatica\",\"m\":\"130\",\"c\":\"9.4538\"},{\"i\":\"162392\",\"n\":\"NORMA\",\"a\":\"LEGORRETA LINARES\",\"d\":\"Ingenier\\\\u00eda \",\"m\":\"0\",\"c\":null},{\"i\":\"140315\",\"n\":\"Emmanuel\",\"a\":\"Legorreta Rangel\",\"d\":\"Sociolog\\\\u00eda\",\"m\":\"4\",\"c\":\"5.7500\"},{\"i\":\"51175\",\"n\":\"Denis\",\"a\":\"Legrand\",\"d\":\"Facultad de Ciencias\",\"m\":\"1\",\"c\":\"3.0000\"},{\"i\":\"160789\",\"n\":\"Renato\",\"a\":\"Lemus\",\"d\":\"Instituto de Ciencias Nucleares\",\"m\":\"1\",\"c\":\"2.0000\"},{\"i\":\"111737\",\"n\":\"Beatriz\",\"a\":\"Lemus Maciel\",\"d\":\"Facultad de economia UNAM\",\"m\":\"7\",\"c\":\"8.1429\"},{\"i\":\"126148\",\"n\":\"Laura\",\"a\":\"Lemus mendez\",\"d\":\"Fes Acatl\\\\u00e1n\",\"m\":\"0\",\"c\":null},{\"i\":\"140565\",\"n\":\"Emilio\",\"a\":\"Le\\\\u00f3n\",\"d\":\"Arte y dise\\\\u00f1o \",\"m\":\"1\",\"c\":\"10.0000\"},{\"i\":\"32580\",\"n\":\"Rodr\\\\u00edguez\",\"a\":\"Le\\\\u00f3n\",\"d\":\"Lorena\",\"m\":\"0\",\"c\":null},{\"i\":\"150067\",\"n\":\"Daniel\",\"a\":\"Le\\\\u00f3n \\\\u00c1lvarez\",\"d\":\"Biolog\\\\u00eda\",\"m\":\"0\",\"c\":null},{\"i\":\"137391\",\"n\":\"Gabriel\",\"a\":\"Le\\\\u00f3n de los Santos\",\"d\":\"Ingenier\\\\u00eda\",\"m\":\"0\",\"c\":null},{\"i\":\"162160\",\"n\":\"MARCO ANTONIO\",\"a\":\"leon felix\",\"d\":\"quimica\",\"m\":\"0\",\"c\":null},{\"i\":\"104868\",\"n\":\"GABRIEL PARIS\",\"a\":\"LEON GARCIA\",\"d\":\"FACULTAD DE DERECHO\",\"m\":\"3\",\"c\":\"5.6667\"},{\"i\":\"79456\",\"n\":\"MARIA CRISTINA\",\"a\":\"LEON GONZALEZ\",\"d\":\"INGENIERIA\",\"m\":\"0\",\"c\":null},{\"i\":\"15026\",\"n\":\"Rosa Margarita \",\"a\":\"Le\\\\u00f3n Manffeer\",\"d\":\"filosof\\\\u00eda y lras\",\"m\":\"2\",\"c\":\"10.0000\"},{\"i\":\"161053\",\"n\":\"Mar\\\\u00eda martha\",\"a\":\"Le\\\\u00f3n Ortiz\",\"d\":\"Derecho \",\"m\":\"0\",\"c\":null},{\"i\":\"14513\",\"n\":\"Dulce Maria Guadalupe\",\"a\":\"Leon Perez\",\"d\":\"Economia\",\"m\":\"15\",\"c\":\"5.4000\"},{\"i\":\"157857\",\"n\":\"Julieta\",\"a\":\"Leon Romero\",\"d\":\"Ciencias politicas y sociales \",\"m\":\"21\",\"c\":\"5.8095\"},{\"i\":\"134554\",\"n\":\"Mayra\",\"a\":\"Le\\\\u00f3n Santiago\",\"d\":\"Facultad de Ingenier\\\\u00eda\",\"m\":\"2\",\"c\":\"10.0000\"},{\"i\":\"108628\",\"n\":\"GABRIEL\",\"a\":\"LEON SERRANO\",\"d\":\"FES Aragon Derecho\",\"m\":\"21\",\"c\":\"8.2857\"},{\"i\":\"159284\",\"n\":\"Isela\",\"a\":\"Leon Valdez\",\"d\":\"Facultad de Contadur\\\\u00eda y Administraci\\\\u00f3n (FCA)\",\"m\":\"2\",\"c\":\"6.5000\"},{\"i\":\"70899\",\"n\":\"Jorge\",\"a\":\"Leroux Romero\",\"d\":\"Fes Acatl\\\\u00e1n\",\"m\":\"0\",\"c\":null},{\"i\":\"32408\",\"n\":\"armando de jesus\",\"a\":\"levy aguirre\",\"d\":\"\",\"m\":\"3\",\"c\":\"10.0000\"},{\"i\":\"136275\",\"n\":\"Armando de Jesus\",\"a\":\"Levy Aguirre\",\"d\":\"Derecho \",\"m\":\"0\",\"c\":null},{\"i\":\"14577\",\"n\":\"Noemi Ornah\",\"a\":\"Levy Orlik\",\"d\":\"Economia\",\"m\":\"18\",\"c\":\"6.6667\"},{\"i\":\"163924\",\"n\":\"Lidia\",\"a\":\"Leyva\",\"d\":\"Prepa 1 franc\\\\u00e9s \",\"m\":\"0\",\"c\":null},{\"i\":\"162880\",\"n\":\"Lourdes\",\"a\":\"Leyva Contreras\",\"d\":\"Iztacala\",\"m\":\"0\",\"c\":null},{\"i\":\"120879\",\"n\":\"V\\\\u00edctor Hugo\",\"a\":\"Leyva Garc\\\\u00eda\",\"d\":\"CCH vallejo\",\"m\":\"0\",\"c\":null},{\"i\":\"163843\",\"n\":\"Dinora Guadalupe\",\"a\":\"Leyva Guzm\\\\u00e1n\",\"d\":\"Universidad abierta y a distancia de M\\\\u00e9xico \",\"m\":\"0\",\"c\":null},{\"i\":\"163978\",\"n\":\"Omar\",\"a\":\"Lezama\",\"d\":\"FAD\",\"m\":\"0\",\"c\":null},{\"i\":\"136019\",\"n\":\"Edmar Ariel\",\"a\":\"Lezama\",\"d\":\"Facultad de Econom\\\\u00eda \",\"m\":\"2\",\"c\":\"10.0000\"},{\"i\":\"157051\",\"n\":\"Jos\\\\u00e9 Cesar\",\"a\":\"Lima Cervantes\",\"d\":\"Fes Arag\\\\u00f3n \",\"m\":\"1\",\"c\":\"5.0000\"},{\"i\":\"95571\",\"n\":\"Jorge Humberto\",\"a\":\"Limon\",\"d\":\"Facultad de Ciencias , Dep. Fisica\",\"m\":\"1\",\"c\":\"10.0000\"},{\"i\":\"140927\",\"n\":\"Susana\",\"a\":\"Lira de garay\",\"d\":\"Secretaria academica\",\"m\":\"0\",\"c\":null},{\"i\":\"119079\",\"n\":\"Sonia\",\"a\":\"Lira esquivel\",\"d\":\"Instituto francisco possenti\",\"m\":\"1\",\"c\":\"10.0000\"},{\"i\":\"112207\",\"n\":\"Beatriz Irene\",\"a\":\"Lira Hern\\\\u00e1ndez\",\"d\":\"Facultad de Ciencias\",\"m\":\"2\",\"c\":\"10.0000\"},{\"i\":\"138850\",\"n\":\"Mercedes\",\"a\":\"Llano\",\"d\":\"Qu\\\\u00edmica inorg\\\\u00e1nica y nuclear\",\"m\":\"1\",\"c\":\"6.0000\"},{\"i\":\"152649\",\"n\":\"Jazm\\\\u00edn\",\"a\":\"Llano\",\"d\":\"Bogota\",\"m\":\"0\",\"c\":null},{\"i\":\"11243\",\"n\":\"Emilio\",\"a\":\"Lluis Puebla\",\"d\":\"Ciencias\",\"m\":\"8\",\"c\":\"8.2500\"},{\"i\":\"63722\",\"n\":\"Marcp Antonio\",\"a\":\"Loaiza Coronel\",\"d\":\"FCPyS\",\"m\":\"15\",\"c\":\"9.6000\"},{\"i\":\"162729\",\"n\":\"Nadia\",\"a\":\"Lobato Fraga\",\"d\":\"Fes aragon derecho\",\"m\":\"1\",\"c\":\"10.0000\"},{\"i\":\"158252\",\"n\":\"Guadalupe\",\"a\":\"Lobato Montiel\",\"d\":\"Facultad de Contadur\\\\u00eda y Administraci\\\\u00f3n \",\"m\":\"2\",\"c\":\"6.0000\"},{\"i\":\"135944\",\"n\":\"Jessica L.\",\"a\":\"Lobato sosa\",\"d\":\"Primaria \",\"m\":\"1\",\"c\":\"2.0000\"},{\"i\":\"23378\",\"n\":\"Carlos\",\"a\":\"Lobo S\\\\u00e1nchez\",\"d\":\"FCA \",\"m\":\"9\",\"c\":\"5.6667\"},{\"i\":\"144558\",\"n\":\"Pamela\",\"a\":\"Loera Garc\\\\u00eda\",\"d\":\"Facultad de Ciencias Pol\\\\u00edticas y Sociales\",\"m\":\"5\",\"c\":\"10.0000\"},{\"i\":\"105438\",\"n\":\"lOLA\",\"a\":\"LOLITA\",\"d\":\"CIENCIAS\",\"m\":\"1\",\"c\":\"7.0000\"},{\"i\":\"163438\",\"n\":\"Jos\\\\u00e9 Heriberto\",\"a\":\"Lom\\\\u00e1n Mendoza\",\"d\":\"ENP 3 Justo Sierra\",\"m\":\"1\",\"c\":\"10.0000\"},{\"i\":\"163437\",\"n\":\"Jos\\\\u00e9 Heriberto\",\"a\":\"Lom\\\\u00e1n Mendoza\",\"d\":\"Pensamiento Filos\\\\u00f3fico de M\\\\u00e9xico \",\"m\":\"0\",\"c\":null},{\"i\":\"73322\",\"n\":\"Victor Manuel\",\"a\":\"Lomas Barrie\",\"d\":\"Ingenier\\\\u00eda\",\"m\":\"7\",\"c\":\"4.7143\"},{\"i\":\"81919\",\"n\":\"VICTOR MANUEL\",\"a\":\"LOMELI HERNANDEZ\",\"d\":\"ARQUITECTURA\",\"m\":\"27\",\"c\":\"9.7407\"},{\"i\":\"81920\",\"n\":\"VICTOR MANUEL\",\"a\":\"LOMELI HERNANDEZ\",\"d\":\"ARQUITECTURA TALLER MAX CETTO\",\"m\":\"2\",\"c\":\"10.0000\"},{\"i\":\"14481\",\"n\":\"Leonardo\",\"a\":\"Lomel\\\\u00ed Vanegas\",\"d\":\"Economia\",\"m\":\"51\",\"c\":\"4.8627\"},{\"i\":\"60708\",\"n\":\"Marco\",\"a\":\"Lopategui\",\"d\":\"FCPyS\",\"m\":\"1\",\"c\":\"3.0000\"},{\"i\":\"152375\",\"n\":\"Carlos humberto\",\"a\":\"Lopez\",\"d\":\"Villafuerte \",\"m\":\"0\",\"c\":null},{\"i\":\"29050\",\"n\":\"Luis\",\"a\":\"L\\\\u00f3pez\",\"d\":\"Matem\\\\u00e1ticas V,VI y Temas Selectos de Matem\\\\u00e1ticas\",\"m\":\"4\",\"c\":\"3.5000\"},{\"i\":\"145602\",\"n\":\"Manuel lopez\",\"a\":\"Lopez\",\"d\":\"Telececundaria17i\",\"m\":\"0\",\"c\":null},{\"i\":\"105119\",\"n\":\"Erik\",\"a\":\"Lopez\",\"d\":\"Contadur\\\\u00eda \",\"m\":\"0\",\"c\":null},{\"i\":\"135843\",\"n\":\"Arturo\",\"a\":\"L\\\\u00f3pez\",\"d\":\"Luna\",\"m\":\"1\",\"c\":\"10.0000\"},{\"i\":\"105830\",\"n\":\"Christian\",\"a\":\"Lopez\",\"d\":\"Psicolog\\\\u00eda \",\"m\":\"0\",\"c\":null},{\"i\":\"109185\",\"n\":\"Roberto Arturo\",\"a\":\"Lopez\",\"d\":\"Vargas\",\"m\":\"0\",\"c\":null},{\"i\":\"57163\",\"n\":\"serrano\",\"a\":\"lopez\",\"d\":\"historia\",\"m\":\"0\",\"c\":null},{\"i\":\"163934\",\"n\":\"\\\\u00c1lvaro\",\"a\":\"L\\\\u00f3pez\",\"d\":\"Derecho \",\"m\":\"0\",\"c\":null},{\"i\":\"132573\",\"n\":\"Miguel \\\\u00c1ngel\",\"a\":\"L\\\\u00f3pez\",\"d\":\"Derecho \",\"m\":\"0\",\"c\":null},{\"i\":\"159821\",\"n\":\"Lionel\",\"a\":\"Lopez  Alanis\",\"d\":\"Contadur\\\\u00eda \",\"m\":\"0\",\"c\":null},{\"i\":\"19023\",\"n\":\"Eduardo\",\"a\":\"L\\\\u00f2pez  Betancourt\",\"d\":\"Derecho\",\"m\":\"1\",\"c\":\"2.0000\"},{\"i\":\"27156\",\"n\":\"Oscar\",\"a\":\"L\\\\u00f3pez  Carre\\\\u00f1o\",\"d\":\"Universidad insurgentes\",\"m\":\"3\",\"c\":\"2.6667\"},{\"i\":\"162690\",\"n\":\"Patricia\",\"a\":\"L\\\\u00f3pez Abundio\",\"d\":\"Quimica\",\"m\":\"0\",\"c\":null},{\"i\":\"47743\",\"n\":\"Leonel\",\"a\":\"L\\\\u00f3pez Alanis\",\"d\":\"Contadur\\\\u00eda y Administraci\\\\u00f3n\",\"m\":\"11\",\"c\":\"6.3636\"},{\"i\":\"140473\",\"n\":\"Rafael\",\"a\":\"L\\\\u00f3pez Alonso\",\"d\":\"Escuela Nacional de Trabajo Social\",\"m\":\"0\",\"c\":null},{\"i\":\"14386\",\"n\":\"Jacobo\",\"a\":\"L\\\\u00f3pez Barojas\",\"d\":\"Economia\",\"m\":\"29\",\"c\":\"7.8621\"},{\"i\":\"85581\",\"n\":\"alejandro\",\"a\":\"lopez becerra\",\"d\":\"Fes zaragoza\",\"m\":\"1\",\"c\":\"9.0000\"},{\"i\":\"15893\",\"n\":\"Eduardo\",\"a\":\"L\\\\u00f3pez Betancourt\",\"d\":\"\",\"m\":\"47\",\"c\":\"7.1277\"},{\"i\":\"15945\",\"n\":\"Eduardo\",\"a\":\"L\\\\u00f3pez Betancourt\",\"d\":\"Derecho\",\"m\":\"9\",\"c\":\"5.5556\"},{\"i\":\"105475\",\"n\":\"Aida\",\"a\":\"Lopez Blanco\",\"d\":\"FES ACATLAN\\\\/ACTUARIA\",\"m\":\"1\",\"c\":\"3.0000\"},{\"i\":\"90455\",\"n\":\"Carlos\",\"a\":\"L\\\\u00f3pez cantero\",\"d\":\"Coordinador \",\"m\":\"0\",\"c\":null},{\"i\":\"90454\",\"n\":\"Carlos\",\"a\":\"L\\\\u00f3pez cantero\",\"d\":\"Unam\",\"m\":\"0\",\"c\":null},{\"i\":\"157318\",\"n\":\"Nancy Ang\\\\u00e9lica\",\"a\":\"L\\\\u00f3pez Carbajal\",\"d\":\"ENEO\",\"m\":\"1\",\"c\":\"10.0000\"},{\"i\":\"137533\",\"n\":\"Ma. Cecilia\",\"a\":\"L\\\\u00f3pez Carrasco\",\"d\":\"FFYL Pedagog\\\\u00eda\",\"m\":\"1\",\"c\":\"2.0000\"},{\"i\":\"38891\",\"n\":\"GUADALUPE\",\"a\":\"LOPEZ CASTRO\",\"d\":\"AQUITECTURA\",\"m\":\"0\",\"c\":null},{\"i\":\"98744\",\"n\":\"Ana Yantzin\",\"a\":\"L\\\\u00f3pez Cort\\\\u00e9s\",\"d\":\"Facultad de Ingenier\\\\u00eda\",\"m\":\"2\",\"c\":\"7.0000\"},{\"i\":\"162172\",\"n\":\"Monicq\",\"a\":\"Lopez Coyote\",\"d\":\"Facultad de Ingenier\\\\u00eda \",\"m\":\"0\",\"c\":null},{\"i\":\"153272\",\"n\":\"Jos\\\\u00e9 Antonio\",\"a\":\"L\\\\u00f3pez Cuesta\",\"d\":\"Facultad de ingenier\\\\u00eda, Divisi\\\\u00f3n de Ciencias Socia\",\"m\":\"1\",\"c\":\"10.0000\"},{\"i\":\"79416\",\"n\":\"VIRGINIA\",\"a\":\"LOPEZ DE LA CRUZ\",\"d\":\"FES Acatlan\",\"m\":\"7\",\"c\":\"3.1429\"},{\"i\":\"79417\",\"n\":\"VIRGINIA\",\"a\":\"LOPEZ DE LA CRUZ VIRGINIA\",\"d\":\"fesa\",\"m\":\"0\",\"c\":null},{\"i\":\"14482\",\"n\":\"Manuel\",\"a\":\"L\\\\u00f3pez de la Parra\",\"d\":\"Economia\",\"m\":\"11\",\"c\":\"6.5455\"},{\"i\":\"161640\",\"n\":\"Carlos Fernando\",\"a\":\"L\\\\u00f3pez de la torre\",\"d\":\"Cela\",\"m\":\"0\",\"c\":null},{\"i\":\"15879\",\"n\":\"Raul Alberto\",\"a\":\"Lopez Dupont\",\"d\":\"Derecho\",\"m\":\"6\",\"c\":\"7.6667\"},{\"i\":\"107662\",\"n\":\"Gustavo\",\"a\":\"L\\\\u00f3pez Escalante\",\"d\":\"Trabajo Social\",\"m\":\"2\",\"c\":\"8.5000\"},{\"i\":\"91060\",\"n\":\"Marco antonio\",\"a\":\"Lopez espinoza\",\"d\":\"Filosofia\",\"m\":\"0\",\"c\":null},{\"i\":\"42013\",\"n\":\"Marco Antonio\",\"a\":\"L\\\\u00f3pez Espinoza\",\"d\":\"Filosof\\\\u00eda y Letras\",\"m\":\"18\",\"c\":\"7.7222\"},{\"i\":\"116209\",\"n\":\"Patsy evangelina\",\"a\":\"L\\\\u00f3pez Fabela\",\"d\":\"Derecho\",\"m\":\"0\",\"c\":null},{\"i\":\"54678\",\"n\":\"Fabiola\",\"a\":\"L\\\\u00f3pez Farf\\\\u00e1n\",\"d\":\"Ecnom\\\\u00eda\",\"m\":\"3\",\"c\":\"5.3333\"},{\"i\":\"159442\",\"n\":\"LUIS EDUARDO\",\"a\":\"LOPEZ FLORES\",\"d\":\"INGENIERIA UAQ \",\"m\":\"0\",\"c\":null},{\"i\":\"161124\",\"n\":\"Reinaldo cesar\",\"a\":\"L\\\\u00f3pez galan\",\"d\":\"Fes Acatl\\\\u00e1n \",\"m\":\"0\",\"c\":null},{\"i\":\"164431\",\"n\":\"maria del refujio\",\"a\":\"L\\\\u00f3pez gami\\\\u00f1o\",\"d\":\"FES Iztacala \",\"m\":\"0\",\"c\":null},{\"i\":\"124032\",\"n\":\"NALLELY\",\"a\":\"LOPEZ GARC\\\\u00cdA\",\"d\":\"Facultad de ingenier\\\\u00eda\",\"m\":\"5\",\"c\":\"8.6000\"},{\"i\":\"57184\",\"n\":\"Luis\",\"a\":\"Lopez Gonzales\",\"d\":\"matematicas\",\"m\":\"2\",\"c\":\"6.5000\"},{\"i\":\"57064\",\"n\":\"Luis\",\"a\":\"Lopez Gonzalez\",\"d\":\"Prepa 1\",\"m\":\"25\",\"c\":\"7.9600\"},{\"i\":\"99960\",\"n\":\"Christian\",\"a\":\"Lopez Guti\\\\u00e9rrez\",\"d\":\"Psicolog\\\\u00eda\",\"m\":\"1\",\"c\":\"10.0000\"},{\"i\":\"60752\",\"n\":\"lucila\",\"a\":\"LOPEZ HERN\\\\u00c1NDEZ\",\"d\":\"DERECHO\",\"m\":\"1\",\"c\":\"10.0000\"},{\"i\":\"87027\",\"n\":\"Roc\\\\u00edo\",\"a\":\"L\\\\u00f3pez Hern\\\\u00e1ndez\",\"d\":\"Veterinaria\\\\/ FES Cuautitlan Izcalli\",\"m\":\"3\",\"c\":\"10.0000\"},{\"i\":\"132717\",\"n\":\"Leonardo\",\"a\":\"L\\\\u00f3pez Hern\\\\u00e1ndez\",\"d\":\"Facultad de Ciencias\",\"m\":\"5\",\"c\":\"9.0000\"},{\"i\":\"135188\",\"n\":\"Fernando Aurelio\",\"a\":\"Lopez Hernandez\",\"d\":\"Facultad de Filosof\\\\u00eda y Letras\",\"m\":\"0\",\"c\":null},{\"i\":\"149506\",\"n\":\"Luz\",\"a\":\"L\\\\u00f3pez horta\",\"d\":\"Derecho\",\"m\":\"0\",\"c\":null},{\"i\":\"141145\",\"n\":\"Laura Patricia\",\"a\":\"L\\\\u00f3pez L\\\\u00f3pez\",\"d\":\"Acatl\\\\u00e1n \",\"m\":\"1\",\"c\":\"8.0000\"},{\"i\":\"144927\",\"n\":\"Erika Liliana\",\"a\":\"Lopez Lopez\",\"d\":\"Posgrado facultad de derecho\",\"m\":\"1\",\"c\":\"8.0000\"},{\"i\":\"89730\",\"n\":\"Felipe Alberto\",\"a\":\"Lopez Lopez\",\"d\":\"Derecho\",\"m\":\"2\",\"c\":\"7.5000\"},{\"i\":\"125184\",\"n\":\"Adalberto\",\"a\":\"Lopez Lopez\",\"d\":\"Fes Acatlan\",\"m\":\"0\",\"c\":null},{\"i\":\"117340\",\"n\":\"Noemi\",\"a\":\"L\\\\u00f3pez luna\",\"d\":\"Fes aragon \",\"m\":\"1\",\"c\":\"2.0000\"},{\"i\":\"163229\",\"n\":\"Sergio\",\"a\":\"Lopez Luna\",\"d\":\"Prepa 2\",\"m\":\"0\",\"c\":null},{\"i\":\"15890\",\"n\":\"Noem\\\\u00ed\",\"a\":\"L\\\\u00f3pez Luna\",\"d\":\"Derecho\",\"m\":\"42\",\"c\":\"6.6667\"},{\"i\":\"156140\",\"n\":\"Santiago\",\"a\":\"Lopez Martinez\",\"d\":\"Facultad de Ciencias Pol\\\\u00edticas y Sociales \",\"m\":\"1\",\"c\":\"10.0000\"},{\"i\":\"122169\",\"n\":\"Esteban\",\"a\":\"Lopez Medrano\",\"d\":\"ENP 6\",\"m\":\"1\",\"c\":\"9.0000\"},{\"i\":\"128413\",\"n\":\"Javier\",\"a\":\"L\\\\u00f3pez Mej\\\\u00eda\",\"d\":\"Facultad de Ciencias Pol\\\\u00edticas y Sociales\",\"m\":\"1\",\"c\":\"10.0000\"},{\"i\":\"72206\",\"n\":\"Sonia\",\"a\":\"Lopez Mendez\",\"d\":\"FES Iztacala\",\"m\":\"1\",\"c\":\"2.0000\"},{\"i\":\"136819\",\"n\":\"Adolfo\",\"a\":\"L\\\\u00f3pez molotla\",\"d\":\"Medicina\",\"m\":\"0\",\"c\":null},{\"i\":\"157303\",\"n\":\"GUSTAVO\",\"a\":\"LOPEZ PADILLA\",\"d\":\"ARQUITECTURA\",\"m\":\"0\",\"c\":null},{\"i\":\"156053\",\"n\":\"Miguel\",\"a\":\"L\\\\u00f3pez Paleta\",\"d\":\"Laboratorio Biolog\\\\u00eda \",\"m\":\"0\",\"c\":null},{\"i\":\"66605\",\"n\":\"Ruth\",\"a\":\"L\\\\u00f3pez P\\\\u00e9rez\",\"d\":\"Introduccion a las tecnologias digitales\",\"m\":\"29\",\"c\":\"8.1379\"},{\"i\":\"81899\",\"n\":\"Lorena\",\"a\":\"L\\\\u00f3pez P\\\\u00e9rez\",\"d\":\"FES Acatlan\\\\/Derecho \",\"m\":\"3\",\"c\":\"3.6667\"},{\"i\":\"81898\",\"n\":\"Lorena\",\"a\":\"L\\\\u00f3pez P\\\\u00e9rez\",\"d\":\"FES Acatl\\\\u00e1n UNAM\",\"m\":\"32\",\"c\":\"7.6250\"},{\"i\":\"65728\",\"n\":\"Carolina\",\"a\":\"L\\\\u00f3pez Ram\\\\u00edrez\",\"d\":\"trabajo social \",\"m\":\"3\",\"c\":\"7.3333\"},{\"i\":\"120744\",\"n\":\"Cecilia Ivonne\",\"a\":\"L\\\\u00f3pez Rangel\",\"d\":\"Derecho\",\"m\":\"0\",\"c\":null},{\"i\":\"159937\",\"n\":\"David Ignacio\",\"a\":\"L\\\\u00f3pez Rivera\",\"d\":\"Posgrado\",\"m\":\"0\",\"c\":null},{\"i\":\"49359\",\"n\":\"Luc\\\\u00eda\",\"a\":\"L\\\\u00f3pez Rivera\",\"d\":\"Derecho\",\"m\":\"2\",\"c\":\"6.0000\"},{\"i\":\"155213\",\"n\":\"luis jesus\",\"a\":\"lopez romero\",\"d\":\"suayed psicologia\",\"m\":\"0\",\"c\":null},{\"i\":\"141931\",\"n\":\"Daniela\",\"a\":\"L\\\\u00f3pez Rub\\\\u00ed\",\"d\":\"FES Arag\\\\u00f3n \",\"m\":\"1\",\"c\":\"4.0000\"},{\"i\":\"122170\",\"n\":\"Jos\\\\u00e9 Salvador\",\"a\":\"L\\\\u00f3pez Ruiz\",\"d\":\"ENP 6\",\"m\":\"1\",\"c\":\"6.0000\"},{\"i\":\"108555\",\"n\":\"Jonathan\",\"a\":\"L\\\\u00f3pez Ruiz\",\"d\":\"Facultad de ciencias UNAM, Matem\\\\u00e1ticas\",\"m\":\"12\",\"c\":\"9.1667\"},{\"i\":\"108554\",\"n\":\"Jonathan\",\"a\":\"L\\\\u00f3pez Ruiz\",\"d\":\"Facultad de ciencias, UNAM\",\"m\":\"1\",\"c\":\"9.0000\"},{\"i\":\"76023\",\"n\":\"LEONEL GUALBERTO\",\"a\":\"LOPEZ SALAZAR\",\"d\":\"Cuautitlan\",\"m\":\"0\",\"c\":null},{\"i\":\"122405\",\"n\":\"Marissa\",\"a\":\"Lopez salgado\",\"d\":\"Odontologia\",\"m\":\"0\",\"c\":null},{\"i\":\"11244\",\"n\":\"Enrique\",\"a\":\"L\\\\u00f3pez Santiago\",\"d\":\"Econom\\\\u00eda\",\"m\":\"45\",\"c\":\"6.3556\"},{\"i\":\"104992\",\"n\":\"EDGAR RAYMUNDO\",\"a\":\"LOPEZ TELLEZ\",\"d\":\"Ingenier\\\\u00eda Mec\\\\u00e1nica  \",\"m\":\"0\",\"c\":null},{\"i\":\"14578\",\"n\":\"Jose Gildardo\",\"a\":\"Lopez Tijerina\",\"d\":\"Economia\",\"m\":\"14\",\"c\":\"6.0714\"},{\"i\":\"96068\",\"n\":\"Maria del Carmen\",\"a\":\"Lopez Torres\",\"d\":\"Facultad de Odontolog\\\\u00eda \",\"m\":\"0\",\"c\":null},{\"i\":\"18968\",\"n\":\"Mauricio\",\"a\":\"L\\\\u00f3pez Vald\\\\u00e9s\",\"d\":\"Filosof\\\\u00eda y Letras\",\"m\":\"8\",\"c\":\"8.2500\"},{\"i\":\"161270\",\"n\":\"Liliana\",\"a\":\"L\\\\u00f3pez Zamora\",\"d\":\"Economia\",\"m\":\"1\",\"c\":\"2.0000\"},{\"i\":\"156958\",\"n\":\"Rodolfo\",\"a\":\"Lorenzo Bautista\",\"d\":\"Ingenier\\\\u00eda \",\"m\":\"1\",\"c\":\"10.0000\"},{\"i\":\"15671\",\"n\":\"Claudia\",\"a\":\"Loreto\",\"d\":\"Ingenier\\\\u00eda\",\"m\":\"1\",\"c\":\"10.0000\"},{\"i\":\"15224\",\"n\":\"Eduardo Gilberto\",\"a\":\"Lor\\\\u00eda D\\\\u00edaz De Guzm\\\\u00e1n\",\"d\":\"Econom\\\\u00eda\",\"m\":\"0\",\"c\":null},{\"i\":\"15223\",\"n\":\"Eduardo Gilberto\",\"a\":\"Lor\\\\u00eda D\\\\u00edaz De Guzm\\\\u00e1n\",\"d\":\"Econom\\\\u00eda\",\"m\":\"56\",\"c\":\"6.4107\"},{\"i\":\"15998\",\"n\":\"Catherine\",\"a\":\"Loustau\",\"d\":\"\",\"m\":\"66\",\"c\":\"9.8788\"},{\"i\":\"100623\",\"n\":\"Jose abelardo\",\"a\":\"Loya castro\",\"d\":\"fad\",\"m\":\"5\",\"c\":\"4.6000\"},{\"i\":\"71193\",\"n\":\"Fernando\",\"a\":\"Lozada\",\"d\":\"Facultad de Econom\\\\u00eda (UNAM, C.U.)\",\"m\":\"6\",\"c\":\"6.0000\"},{\"i\":\"127027\",\"n\":\"Ruben\",\"a\":\"Lozada\",\"d\":\"Derecho\",\"m\":\"1\",\"c\":\"10.0000\"},{\"i\":\"161814\",\"n\":\"Rub\\\\u00e9n\",\"a\":\"Lozada\",\"d\":\"Facultad de derecho \",\"m\":\"0\",\"c\":null},{\"i\":\"125157\",\"n\":\"Rub\\\\u00e9n\",\"a\":\"Lozada Cordero\",\"d\":\"Derecho\\\\/Curso Permanente de \\\\u00c9tica\",\"m\":\"12\",\"c\":\"9.0833\"},{\"i\":\"110067\",\"n\":\"Nancy Laura\",\"a\":\"Lozada Hern\\\\u00e1ndez\",\"d\":\"Derecho\",\"m\":\"2\",\"c\":\"6.5000\"},{\"i\":\"141962\",\"n\":\"Dra. Monica\",\"a\":\"Lozada Mu\\\\u00f1oz\",\"d\":\"Facultad de Ingenieria\",\"m\":\"1\",\"c\":\"10.0000\"},{\"i\":\"87740\",\"n\":\"Laura Ruth\",\"a\":\"Lozano\",\"d\":\"Trevi\\\\u00f1o\",\"m\":\"2\",\"c\":\"9.5000\"},{\"i\":\"126951\",\"n\":\"Carlos\",\"a\":\"Lozano Angeles\",\"d\":\"Ciencias Pol\\\\u00edticas y Sociales \",\"m\":\"1\",\"c\":\"10.0000\"},{\"i\":\"14428\",\"n\":\"Luis\",\"a\":\"Lozano Arredondo\",\"d\":\"Economia\",\"m\":\"58\",\"c\":\"8.0862\"},{\"i\":\"31584\",\"n\":\"Luis\",\"a\":\"Lozano Arredondo\",\"d\":\"unam economia\",\"m\":\"0\",\"c\":null},{\"i\":\"14427\",\"n\":\"Alfonso\",\"a\":\"Lozano Arredondo\",\"d\":\"Economia\",\"m\":\"10\",\"c\":\"4.7000\"},{\"i\":\"164177\",\"n\":\"Aaron Ali\",\"a\":\"Lozano Rocha\",\"d\":\"Facultad de Ciencias \",\"m\":\"0\",\"c\":null},{\"i\":\"89812\",\"n\":\"JAVIER ALEJANDRO\",\"a\":\"LOZANO TOVAR\",\"d\":\"Econom\\\\u00eda\",\"m\":\"29\",\"c\":\"9.0000\"},{\"i\":\"14429\",\"n\":\"David Angel\",\"a\":\"Lozano Tovar\",\"d\":\"Economia\",\"m\":\"90\",\"c\":\"8.8556\"},{\"i\":\"144219\",\"n\":\"Mart\\\\u00edn\",\"a\":\"Lucero Herrera\",\"d\":\"Benem\\\\u00e9rita Escuela Nacional de Maestros\",\"m\":\"2\",\"c\":\"9.5000\"},{\"i\":\"154215\",\"n\":\"Roman Mario\",\"a\":\"Lucero Padilla\",\"d\":\"Prepa 9\",\"m\":\"1\",\"c\":\"7.0000\"},{\"i\":\"80871\",\"n\":\"Maricela\",\"a\":\"Lugo Zacar\\\\u00edas\",\"d\":\"Prepa 8\",\"m\":\"7\",\"c\":\"4.8571\"},{\"i\":\"15778\",\"n\":\"Jaramillo Mosqueira\",\"a\":\"Luis Armando\",\"d\":\"Econom\\\\u00eda\",\"m\":\"6\",\"c\":\"9.8333\"},{\"i\":\"138936\",\"n\":\"juan carlos\",\"a\":\"luna\",\"d\":\"Acatlan\",\"m\":\"0\",\"c\":null},{\"i\":\"162221\",\"n\":\"Elia\",\"a\":\"Luna\",\"d\":\"Facultad de ingenier\\\\u00eda \",\"m\":\"0\",\"c\":null},{\"i\":\"81036\",\"n\":\"Mioses\",\"a\":\"Luna Benoso\",\"d\":\"Facultad de Qu\\\\u00edmica \",\"m\":\"0\",\"c\":null},{\"i\":\"161868\",\"n\":\"Margarita\",\"a\":\"Luna Camacho\",\"d\":\"Ingenier\\\\u00eda \",\"m\":\"1\",\"c\":\"5.0000\"},{\"i\":\"80808\",\"n\":\"Arturo\",\"a\":\"Luna D\\\\u00edaz\",\"d\":\"CCH Vallejo \",\"m\":\"3\",\"c\":\"5.0000\"},{\"i\":\"162046\",\"n\":\"Karla Marlen\",\"a\":\"Luna Fernandez\",\"d\":\"CCH Vallejo\",\"m\":\"1\",\"c\":\"8.0000\"},{\"i\":\"152424\",\"n\":\"Ana karen\",\"a\":\"LunA fierros\",\"d\":\"Enp\",\"m\":\"1\",\"c\":\"2.0000\"},{\"i\":\"153316\",\"n\":\"Lizzet\",\"a\":\"Luna Gamboa\",\"d\":\"Prepa 1\",\"m\":\"0\",\"c\":null},{\"i\":\"126231\",\"n\":\"Sergio  Enrique\",\"a\":\"Luna Ju\\\\u00e1rez\",\"d\":\"Facultad de qu\\\\u00edmica\",\"m\":\"1\",\"c\":\"10.0000\"},{\"i\":\"120523\",\"n\":\"Enrique\",\"a\":\"Luna L\\\\u00f3pez\",\"d\":\"Iztacala\",\"m\":\"0\",\"c\":null},{\"i\":\"143150\",\"n\":\"Mar\\\\u00eda Guadalupe A\\\\u00edda\",\"a\":\"Luna Ram\\\\u00edrez\",\"d\":\"Facultad de ciencias pol\\\\u00edticas y sociales\",\"m\":\"0\",\"c\":null},{\"i\":\"151949\",\"n\":\"Guillermo\",\"a\":\"Luna S\\\\u00e1nchez\",\"d\":\"Geometr\\\\u00eda \",\"m\":\"0\",\"c\":null},{\"i\":\"161392\",\"n\":\"Alfonso Macario\",\"a\":\"Luna V\\\\u00e1zquez\",\"d\":\"Facultad de estudios superiores Zaragoza \",\"m\":\"0\",\"c\":null},{\"i\":\"137716\",\"n\":\"Alberto\",\"a\":\"Luque\",\"d\":\"Ingenier\\\\u00eda\",\"m\":\"0\",\"c\":null},{\"i\":\"127752\",\"n\":\"Diana\",\"a\":\"Macias\",\"d\":\"Fes Acatlan \",\"m\":\"0\",\"c\":null},{\"i\":\"140679\",\"n\":\"Hector\",\"a\":\"Macias Barcenas\",\"d\":\"Derecho\",\"m\":\"0\",\"c\":null},{\"i\":\"69484\",\"n\":\"Jos\\\\u00e9 Luis\",\"a\":\"Macias Vazquez\",\"d\":\"Geofisica\",\"m\":\"3\",\"c\":\"4.6667\"},{\"i\":\"135992\",\"n\":\"Laura\",\"a\":\"Macias venegas\",\"d\":\"Facultad de odontolog\\\\u00eda \",\"m\":\"0\",\"c\":null},{\"i\":\"121418\",\"n\":\"Sergio\",\"a\":\"Maciel Luna\",\"d\":\"Unam \\\\/ Enallt\",\"m\":\"51\",\"c\":\"9.9412\"},{\"i\":\"76263\",\"n\":\"Adriana\",\"a\":\"Maciel Sierra\",\"d\":\"CELE\",\"m\":\"4\",\"c\":\"6.2500\"},{\"i\":\"108469\",\"n\":\"Julio\",\"a\":\"Macip Lobato\",\"d\":\"Facultad de Econom\\\\u00eda\",\"m\":\"4\",\"c\":\"10.0000\"},{\"i\":\"15883\",\"n\":\"Maria Antonieta\",\"a\":\"Magall\\\\u00f3n G\\\\u00f3mez\",\"d\":\"Derecho\",\"m\":\"7\",\"c\":\"8.2857\"},{\"i\":\"15370\",\"n\":\"Jorge Mario\",\"a\":\"Magall\\\\u00f3n Ibarra\",\"d\":\"Derecho\",\"m\":\"16\",\"c\":\"6.9375\"},{\"i\":\"127551\",\"n\":\"ana\",\"a\":\"magaloni\",\"d\":\"facultad de filosofia y letras\",\"m\":\"0\",\"c\":null},{\"i\":\"163911\",\"n\":\"carolina\",\"a\":\"maga\\\\u00f1a fajardo\",\"d\":\"unam\",\"m\":\"0\",\"c\":null},{\"i\":\"27287\",\"n\":\"Ricardo\",\"a\":\"Maga\\\\u00f1a Figueroa\",\"d\":\"fcpys\",\"m\":\"5\",\"c\":\"9.2000\"},{\"i\":\"146734\",\"n\":\"MARTHA LILIANA\",\"a\":\"MALANCHE\",\"d\":\"FACULTAD DE DERECHO\",\"m\":\"2\",\"c\":\"6.0000\"},{\"i\":\"95038\",\"n\":\"Paola\",\"a\":\"Malda\",\"d\":\"FCA POSGRADO\",\"m\":\"16\",\"c\":\"8.6250\"},{\"i\":\"139152\",\"n\":\"Alma\",\"a\":\"Maldonado\",\"d\":\"Facultad de Filosof\\\\u00eda y Letras\",\"m\":\"1\",\"c\":\"2.0000\"},{\"i\":\"103377\",\"n\":\"Daniel\",\"a\":\"Maldonado\",\"d\":\"Ciencias\",\"m\":\"0\",\"c\":null},{\"i\":\"14992\",\"n\":\"Ma. del Roc\\\\u00edo\",\"a\":\"Maldonado G\\\\u00f3mez\",\"d\":\"Psicolog\\\\u00eda\",\"m\":\"1\",\"c\":\"7.0000\"},{\"i\":\"101562\",\"n\":\"Miguel Alejandro\",\"a\":\"Maldonado Gordillo\",\"d\":\"Ingenieria\",\"m\":\"16\",\"c\":\"9.0625\"},{\"i\":\"14430\",\"n\":\"Bethsaida\",\"a\":\"Maldonado Lagunas\",\"d\":\"Economia\",\"m\":\"31\",\"c\":\"7.3226\"},{\"i\":\"160969\",\"n\":\"Maribel\",\"a\":\"Maldonado Perez\",\"d\":\"ESCUELA NACIONAL DE TRABAJO SOCIAL\",\"m\":\"1\",\"c\":\"2.0000\"},{\"i\":\"75436\",\"n\":\"Maria del Carmen\",\"a\":\"Maldonado Susano\",\"d\":\"Facultad de Ingenieria\",\"m\":\"1\",\"c\":\"7.0000\"},{\"i\":\"161541\",\"n\":\"carlos\",\"a\":\"mancera\",\"d\":\"enp 2\",\"m\":\"0\",\"c\":null},{\"i\":\"135118\",\"n\":\"Sarai\",\"a\":\"Mancera Islas\",\"d\":\"Fes zaragoza\",\"m\":\"0\",\"c\":null},{\"i\":\"39973\",\"n\":\"VICTOR FRANCISCO\",\"a\":\"MANCILLA CORTEZ\",\"d\":\"INGIENERIA TELECOMUNICACIONES\",\"m\":\"3\",\"c\":\"9.6667\"},{\"i\":\"22403\",\"n\":\"Esteban Luis\",\"a\":\"Mancilla L\\\\u00f3pez\",\"d\":\"Econom\\\\u00eda\",\"m\":\"11\",\"c\":\"5.4545\"},{\"i\":\"144542\",\"n\":\"Martha Mancilla\",\"a\":\"Mancilla Urrea\",\"d\":\"Ingenier\\\\u00eda \",\"m\":\"1\",\"c\":\"2.0000\"},{\"i\":\"113021\",\"n\":\"Miguel  Angel\",\"a\":\"Mancillas\",\"d\":\"Facultad de Economia \",\"m\":\"1\",\"c\":\"9.0000\"},{\"i\":\"14579\",\"n\":\"Nicolas\",\"a\":\"Mandujano Ramos\",\"d\":\"Economia\",\"m\":\"22\",\"c\":\"7.3182\"},{\"i\":\"64804\",\"n\":\"Roel\",\"a\":\"Mandujano Santos\",\"d\":\"Econom\\\\u00eda\",\"m\":\"15\",\"c\":\"4.4000\"},{\"i\":\"85605\",\"n\":\"Yanira\",\"a\":\"Manrique Mendoza\",\"d\":\"FESC\\\\/ Dise\\\\u00f1o y comunicaci\\\\u00f3n visual\",\"m\":\"1\",\"c\":\"5.0000\"},{\"i\":\"147210\",\"n\":\"Raul\",\"a\":\"Manr\\\\u00edquez\",\"d\":\"Administraci\\\\u00f3n \",\"m\":\"0\",\"c\":null},{\"i\":\"164233\",\"n\":\"Arturo\",\"a\":\"Mansilla Olivares\",\"d\":\"Medios de control constitucional \",\"m\":\"1\",\"c\":\"4.0000\"},{\"i\":\"34298\",\"n\":\"MARIELENA\",\"a\":\"MANSILLA Y MEJIA\",\"d\":\"DERECHO\",\"m\":\"0\",\"c\":null},{\"i\":\"160091\",\"n\":\"Ortiz Esc\\\\u00e1mez\",\"a\":\"Manuel Ortiz Esc\\\\u00e1mez\",\"d\":\"FCPyS\",\"m\":\"0\",\"c\":null},{\"i\":\"100421\",\"n\":\"Nayelli\",\"a\":\"Manzanares Gomez\",\"d\":\"Ingenier\\\\u00eda \",\"m\":\"0\",\"c\":null},{\"i\":\"23528\",\"n\":\"Ignacio\",\"a\":\"Manzanares Velazquez\",\"d\":\"FCA\",\"m\":\"174\",\"c\":\"7.5632\"},{\"i\":\"163981\",\"n\":\"gilberto manzano pe\\\\u00f1aloza\",\"a\":\"manzano pe\\\\u00f1aloz\",\"d\":\"contadur\\\\u00eda y administraci\\\\u00f3n\",\"m\":\"0\",\"c\":null},{\"i\":\"156913\",\"n\":\"C\\\\u00c9SAR FRANCISCO\",\"a\":\"MANZANO RODR\\\\u00cdGUEZ\",\"d\":\"FACULTAD DE ECONOM\\\\u00cdA\",\"m\":\"1\",\"c\":\"7.0000\"},{\"i\":\"157125\",\"n\":\"Ismael\",\"a\":\"Manzo De los Santos\",\"d\":\"Econom\\\\u00eda\\\\/ Trabajo Social \",\"m\":\"1\",\"c\":\"2.0000\"},{\"i\":\"161048\",\"n\":\"Ismael\",\"a\":\"Manzo de los Santos\",\"d\":\"Escuela Nacional de Trabajo Social \",\"m\":\"1\",\"c\":\"7.0000\"},{\"i\":\"81877\",\"n\":\"GUILLERMO JOS\\\\u00c9\",\"a\":\"MA\\\\u00d1\\\\u00d3N GARIBAY\",\"d\":\"CIENCIAS POL\\\\u00cdTICAS Y SOCIALES\",\"m\":\"7\",\"c\":\"7.7143\"},{\"i\":\"161216\",\"n\":\"porfirio\",\"a\":\"maquet guerrero\",\"d\":\"derecho del trabajo \",\"m\":\"0\",\"c\":null},{\"i\":\"15088\",\"n\":\"Eduardo\",\"a\":\"Marambio Dennet\",\"d\":\"Q. Org\\\\u00e1nica\",\"m\":\"5\",\"c\":\"5.6000\"},{\"i\":\"156687\",\"n\":\"Ram\\\\u00edrez Arg\\\\u00e1ez\",\"a\":\"Marco Aurelio\",\"d\":\"Facultad de qu\\\\u00edmica \",\"m\":\"0\",\"c\":null},{\"i\":\"123931\",\"n\":\"Patricio emilio\",\"a\":\"Marcos giacoman\",\"d\":\"Fil\\\\u00f3sofia \",\"m\":\"0\",\"c\":null},{\"i\":\"157931\",\"n\":\"Diana\",\"a\":\"Marenco\",\"d\":\"Facultad de ciencias pol\\\\u00edticas y sociales \",\"m\":\"0\",\"c\":null},{\"i\":\"16791\",\"n\":\"JESUS\",\"a\":\"MARES\",\"d\":\"ADMINISTRACION\",\"m\":\"8\",\"c\":\"8.7500\"},{\"i\":\"125888\",\"n\":\"Julieta\",\"a\":\"Mares lopez\",\"d\":\"Facultad de ingenier\\\\u00eda\",\"m\":\"8\",\"c\":\"9.8750\"},{\"i\":\"15881\",\"n\":\"Emilio\",\"a\":\"Margain\",\"d\":\"Barraza\",\"m\":\"1\",\"c\":\"10.0000\"},{\"i\":\"15882\",\"n\":\"Emilio\",\"a\":\"Margain Barraza\",\"d\":\"Derecho\",\"m\":\"10\",\"c\":\"8.1000\"},{\"i\":\"134011\",\"n\":\"Jorge Alejandro\",\"a\":\"Marin\",\"d\":\"FCYA\",\"m\":\"1\",\"c\":\"10.0000\"},{\"i\":\"145651\",\"n\":\"Carmen\",\"a\":\"Mar\\\\u00edn\",\"d\":\"Filosof\\\\u00eda y letras UNAM\",\"m\":\"1\",\"c\":\"4.0000\"},{\"i\":\"162573\",\"n\":\"Rafael Alejandro\",\"a\":\"Mar\\\\u00edn Acosta\",\"d\":\"Facultad de ingenier\\\\u00eda \",\"m\":\"1\",\"c\":\"10.0000\"},{\"i\":\"100082\",\"n\":\"Javier\",\"a\":\"Marin galicia\",\"d\":\"Cordinador\",\"m\":\"0\",\"c\":null},{\"i\":\"161815\",\"n\":\"Eugenia\",\"a\":\"Marmolejo\",\"d\":\"Ciencias\",\"m\":\"0\",\"c\":null},{\"i\":\"110631\",\"n\":\"Joaqu\\\\u00edn Eduardo marqu\\\\u00e9s\",\"a\":\"Marqu\\\\u00e9s\",\"d\":\"Psicolog\\\\u00eda Montevideo \",\"m\":\"0\",\"c\":null},{\"i\":\"85220\",\"n\":\"porfirio\",\"a\":\"marquet guerrero\",\"d\":\"derecho\",\"m\":\"0\",\"c\":null},{\"i\":\"147949\",\"n\":\"Ana\",\"a\":\"Marquez\",\"d\":\"Historia del Arte\",\"m\":\"1\",\"c\":\"3.0000\"},{\"i\":\"137093\",\"n\":\"UBALDO Eduardo\",\"a\":\"M\\\\u00e1rquez Amador\",\"d\":\"Facultad de Ingenieria\",\"m\":\"0\",\"c\":null},{\"i\":\"105166\",\"n\":\"Miguel Angel\",\"a\":\"Marquez Camargo\",\"d\":\"Derecho\",\"m\":\"1\",\"c\":\"10.0000\"},{\"i\":\"46899\",\"n\":\"jos\\\\u00e9 manuel\",\"a\":\"m\\\\u00e1rquez estrada\",\"d\":\"econom\\\\u00eda \",\"m\":\"8\",\"c\":\"7.6250\"},{\"i\":\"104438\",\"n\":\"Enrique\",\"a\":\"Marquez Gutierrez\",\"d\":\"Facultad de Ciencias Pol\\\\u00edticas\",\"m\":\"1\",\"c\":\"9.0000\"},{\"i\":\"14514\",\"n\":\"Marco Antonio\",\"a\":\"Marquez Mendoza\",\"d\":\"Economia\",\"m\":\"29\",\"c\":\"5.5172\"},{\"i\":\"155637\",\"n\":\"rocio\",\"a\":\"marquez rocha\",\"d\":\"derecho\",\"m\":\"0\",\"c\":null},{\"i\":\"138496\",\"n\":\"Roberto\",\"a\":\"Mart\\\\u00edn\",\"d\":\"Arag\\\\u00f3n\",\"m\":\"0\",\"c\":null},{\"i\":\"143130\",\"n\":\"Julio\",\"a\":\"Martin\",\"d\":\"Quimica\",\"m\":\"0\",\"c\":null},{\"i\":\"76359\",\"n\":\"LORENA\",\"a\":\"MARTINEX\",\"d\":\"FAXULTAD DE FILOSOFIA\",\"m\":\"0\",\"c\":null},{\"i\":\"161313\",\"n\":\"Horacio\",\"a\":\"Martinez\",\"d\":\"Medicina \",\"m\":\"0\",\"c\":null},{\"i\":\"17519\",\"n\":\"guadalupe\",\"a\":\"mart\\\\u00ednez\",\"d\":\"ENM\",\"m\":\"1\",\"c\":\"9.0000\"},{\"i\":\"151305\",\"n\":\"Diana\",\"a\":\"Mart\\\\u00ednez\",\"d\":\"Ingles\",\"m\":\"1\",\"c\":\"2.0000\"},{\"i\":\"33292\",\"n\":\"Lidia\",\"a\":\"Martinez\",\"d\":\"Murillo\",\"m\":\"1\",\"c\":\"10.0000\"},{\"i\":\"50860\",\"n\":\"Francisco\",\"a\":\"Mart\\\\u00ednez\",\"d\":\"Psicolog\\\\u00eda\",\"m\":\"0\",\"c\":null},{\"i\":\"122164\",\"n\":\"Guillermina\",\"a\":\"Martinez\",\"d\":\"ENP 6\",\"m\":\"1\",\"c\":\"7.0000\"},{\"i\":\"158513\",\"n\":\"V\\\\u00edctor manuel\",\"a\":\"Martinez\",\"d\":\"Matem\\\\u00e1ticas \",\"m\":\"0\",\"c\":null},{\"i\":\"17520\",\"n\":\"Guadalupe \",\"a\":\"Mart\\\\u00ednez\",\"d\":\"M\\\\u00fasica\",\"m\":\"0\",\"c\":null},{\"i\":\"114733\",\"n\":\"Isidro\",\"a\":\"Martinez\",\"d\":\"Derecho\",\"m\":\"0\",\"c\":null},{\"i\":\"153561\",\"n\":\"Liliana\",\"a\":\"Mart\\\\u00ednez\",\"d\":\"Unam\",\"m\":\"0\",\"c\":null},{\"i\":\"133331\",\"n\":\"Michelle\",\"a\":\"martinez  ayala\",\"d\":\"psicolog\\\\u00eda \",\"m\":\"1\",\"c\":\"10.0000\"},{\"i\":\"164067\",\"n\":\"Myriam\",\"a\":\"Mart\\\\u00ednez  Hern\\\\u00e1ndez\",\"d\":\"Odontologia \",\"m\":\"0\",\"c\":null},{\"i\":\"163818\",\"n\":\"Gustavo\",\"a\":\"Martinez  Pellon\",\"d\":\"Facultad de contadur\\\\u00eda y administraci\\\\u00f3n \",\"m\":\"0\",\"c\":null},{\"i\":\"134602\",\"n\":\"Sandra Ivon\",\"a\":\"Martinez Aguilar\",\"d\":\"Fes Arag\\\\u00f3n\",\"m\":\"1\",\"c\":\"5.0000\"},{\"i\":\"14431\",\"n\":\"Sandra Elena\",\"a\":\"Mart\\\\u00ednez Aguilar\",\"d\":\"Economia\",\"m\":\"24\",\"c\":\"5.5417\"},{\"i\":\"76486\",\"n\":\"Jacqelyn\",\"a\":\"Martinez Alavez\",\"d\":\"Ingenieria - Algebra\",\"m\":\"1\",\"c\":\"8.0000\"},{\"i\":\"18085\",\"n\":\"Noemi\",\"a\":\"Mart\\\\u00ednez Alvarado\",\"d\":\"Facultad de Contabilidad, Adm\\\\u00f3n. e Inform\\\\u00e1tica\",\"m\":\"34\",\"c\":\"6.8235\"},{\"i\":\"118427\",\"n\":\"Erika\",\"a\":\"Mart\\\\u00ednez Aparicio\",\"d\":\"Facultad de contadur\\\\u00eda y administraci\\\\u00f3n \",\"m\":\"4\",\"c\":\"9.7500\"},{\"i\":\"32458\",\"n\":\"juventino\",\"a\":\"martinez arteaga\",\"d\":\"FCA\",\"m\":\"4\",\"c\":\"2.0000\"},{\"i\":\"110143\",\"n\":\"Raquel\",\"a\":\"Mart\\\\u00ednez \\\\u00c1valos\",\"d\":\"Ingenier\\\\u00eda\",\"m\":\"1\",\"c\":\"2.0000\"},{\"i\":\"99281\",\"n\":\"Eduardo\",\"a\":\"Mart\\\\u00ednez \\\\u00c1vila\",\"d\":\"INAE \\\\/ Historia Econ\\\\u00f3mica\",\"m\":\"10\",\"c\":\"9.9000\"},{\"i\":\"99280\",\"n\":\"Eduardo\",\"a\":\"Mart\\\\u00ednez \\\\u00c1vila\",\"d\":\"Investi\",\"m\":\"0\",\"c\":null},{\"i\":\"52677\",\"n\":\"Eduardo\",\"a\":\"mart\\\\u00ednez Bastida\",\"d\":\"Derecho\",\"m\":\"29\",\"c\":\"8.3103\"},{\"i\":\"14432\",\"n\":\"Juan Vicente\",\"a\":\"Mart\\\\u00ednez Bautista\",\"d\":\"Economia\",\"m\":\"8\",\"c\":\"9.0000\"},{\"i\":\"124042\",\"n\":\"karina\",\"a\":\"Martinez Bautista\",\"d\":\"Facultad de Ingenier\\\\u00eda \",\"m\":\"3\",\"c\":\"8.6667\"},{\"i\":\"52972\",\"n\":\"Abraham Laurencio\",\"a\":\"Martinez Bautista\",\"d\":\"Termodin\\\\u00e1mica\",\"m\":\"4\",\"c\":\"6.5000\"},{\"i\":\"160566\",\"n\":\"Karla daniela\",\"a\":\"Martinez calzada\",\"d\":\"Fes cuautitlan \",\"m\":\"1\",\"c\":\"10.0000\"},{\"i\":\"147827\",\"n\":\"Gabriel\",\"a\":\"Mart\\\\u00ednez Carmona\",\"d\":\"Facultad de ciencias politicas y sociales \",\"m\":\"3\",\"c\":\"8.0000\"},{\"i\":\"133403\",\"n\":\"Fernando\",\"a\":\"Mart\\\\u00ednez Castillo\",\"d\":\"Facultad de Ciencias Pol\\\\u00edticas y Sociales\",\"m\":\"0\",\"c\":null},{\"i\":\"64818\",\"n\":\"Martha Paola\",\"a\":\"Martinez Chavez\",\"d\":\"Derecho\",\"m\":\"4\",\"c\":\"7.7500\"},{\"i\":\"150015\",\"n\":\"Minerva Tania\",\"a\":\"Mart\\\\u00ednez Cisneros\",\"d\":\"Derecho\",\"m\":\"1\",\"c\":\"8.0000\"},{\"i\":\"102360\",\"n\":\"joaquin rodrigo\",\"a\":\"mart\\\\u00ednez correa\",\"d\":\"Facultad de Ciencias\",\"m\":\"3\",\"c\":\"9.3333\"},{\"i\":\"102359\",\"n\":\"joaquin rodrigo\",\"a\":\"mart\\\\u00ednez correa\",\"d\":\"Ciencias de la Tierra \",\"m\":\"3\",\"c\":\"9.0000\"},{\"i\":\"146069\",\"n\":\"Julio\",\"a\":\"Mart\\\\u00ednez de la O\",\"d\":\"Derecho\",\"m\":\"1\",\"c\":\"4.0000\"},{\"i\":\"164538\",\"n\":\"DAVID\",\"a\":\"MARTINEZ DORANTES\",\"d\":\"ESCUELA NACIONAL DE TRABAJO SOCIAL\",\"m\":\"0\",\"c\":null},{\"i\":\"90609\",\"n\":\"Carlos\",\"a\":\"Mart\\\\u00ednez Facundo\",\"d\":\"Econom\\\\u00eda\",\"m\":\"0\",\"c\":null},{\"i\":\"11245\",\"n\":\"Carlos\",\"a\":\"Mart\\\\u00ednez Fagundo\",\"d\":\"Econom\\\\u00eda\",\"m\":\"20\",\"c\":\"6.7000\"},{\"i\":\"79184\",\"n\":\"Javier\",\"a\":\"Mart\\\\u00ednez Fern\\\\u00e1ndez\",\"d\":\"CCH Azcapotzalco \",\"m\":\"1\",\"c\":\"10.0000\"},{\"i\":\"113917\",\"n\":\"LAURA LUCIA\",\"a\":\"MARTINEZ GARCIA\",\"d\":\"ACATLAN\",\"m\":\"0\",\"c\":null},{\"i\":\"94482\",\"n\":\"Diana Nahidally\",\"a\":\"Mart\\\\u00ednez Garc\\\\u00eda\",\"d\":\"Facultad de Ciencias, UNAM\",\"m\":\"5\",\"c\":\"9.6000\"},{\"i\":\"11246\",\"n\":\"Isa\\\\u00edas\",\"a\":\"Mart\\\\u00ednez Garc\\\\u00eda\",\"d\":\"Econom\\\\u00eda\",\"m\":\"36\",\"c\":\"7.1944\"},{\"i\":\"139162\",\"n\":\"Arturo\",\"a\":\"Martinez G\\\\u00f3mez\",\"d\":\"Prepa 5 \",\"m\":\"1\",\"c\":\"3.0000\"},{\"i\":\"139161\",\"n\":\"Arturo\",\"a\":\"Martinez G\\\\u00f3mez\",\"d\":\"Prepa 5 E. F\\\\u00edsica\",\"m\":\"0\",\"c\":null},{\"i\":\"141857\",\"n\":\"Edgar\",\"a\":\"Mart\\\\u00ednez G\\\\u00f3mez\",\"d\":\"Trabajo social \",\"m\":\"1\",\"c\":\"2.0000\"},{\"i\":\"143060\",\"n\":\"Edgar\",\"a\":\"Martinez Gomez\",\"d\":\"ENTS,UNAM\",\"m\":\"1\",\"c\":\"3.0000\"},{\"i\":\"76392\",\"n\":\"JUAN CARLOS\",\"a\":\"MART\\\\u00cdNEZ GONZ\\\\u00c1LEZ\",\"d\":\"CIENCIAS POL\\\\u00cdTICAS\",\"m\":\"1\",\"c\":\"9.0000\"},{\"i\":\"123639\",\"n\":\"Antonio\",\"a\":\"Mart\\\\u00ednez Guti\\\\u00e9rrez\",\"d\":\"ENP 1\",\"m\":\"2\",\"c\":\"7.0000\"},{\"i\":\"135000\",\"n\":\"Victor Manuel\",\"a\":\"Mart\\\\u00ednez Hern\\\\u00e1ndez\",\"d\":\"Facultad de Ingenier\\\\u00eda\",\"m\":\"1\",\"c\":\"8.0000\"},{\"i\":\"14387\",\"n\":\"Oscar Manuel\",\"a\":\"Mart\\\\u00ednez Hern\\\\u00e1ndez\",\"d\":\"Economia\",\"m\":\"27\",\"c\":\"7.7037\"},{\"i\":\"145010\",\"n\":\"Mario Enrique\",\"a\":\"Mart\\\\u00ednez herrer\",\"d\":\"Enep acatlan\",\"m\":\"0\",\"c\":null},{\"i\":\"53384\",\"n\":\"Jos\\\\u00e9 Arturo\",\"a\":\"Mart\\\\u00ednez Lazo\",\"d\":\"Arquitectura\",\"m\":\"9\",\"c\":\"10.0000\"},{\"i\":\"118848\",\"n\":\"Regina Anaid\",\"a\":\"Mart\\\\u00ednez Lobato\",\"d\":\"Ingenier\\\\u00eda\",\"m\":\"2\",\"c\":\"10.0000\"},{\"i\":\"14389\",\"n\":\"Nora\",\"a\":\"Mart\\\\u00ednez Mart\\\\u00ednez\",\"d\":\"Economia\",\"m\":\"17\",\"c\":\"4.7647\"},{\"i\":\"14388\",\"n\":\"Bernab\\\\u00e9\",\"a\":\"Mart\\\\u00ednez Mart\\\\u00ednez\",\"d\":\"Economia\",\"m\":\"8\",\"c\":\"5.7500\"},{\"i\":\"93424\",\"n\":\"Mart\\\\u00edn\",\"a\":\"Mart\\\\u00ednez Mart\\\\u00ednez\",\"d\":\"Facultad de Estudios Superiores Acatl\\\\u00e1n \",\"m\":\"2\",\"c\":\"10.0000\"},{\"i\":\"14390\",\"n\":\"Ricardo\",\"a\":\"Mart\\\\u00ednez Maya\",\"d\":\"Economia\",\"m\":\"47\",\"c\":\"3.8298\"},{\"i\":\"135046\",\"n\":\"Mayra\",\"a\":\"Martinez Medina\",\"d\":\"ciencias politicas y sociales\",\"m\":\"6\",\"c\":\"5.8333\"},{\"i\":\"140170\",\"n\":\"Arturo Aron\",\"a\":\"Mart\\\\u00ednez Mej\\\\u00eda\",\"d\":\"Facultad de Derecho\",\"m\":\"0\",\"c\":null},{\"i\":\"91743\",\"n\":\"Alejandro\",\"a\":\"Mart\\\\u00ednez Mena\",\"d\":\"Facultad de Ciencias\",\"m\":\"0\",\"c\":null},{\"i\":\"79483\",\"n\":\"ANDROMEDA MT\",\"a\":\"MARTINEZ NEMECIO\",\"d\":\"Ciencias Sociales\",\"m\":\"1\",\"c\":\"10.0000\"},{\"i\":\"79482\",\"n\":\"ANDROMEDA MT\",\"a\":\"MARTINEZ NEMECIO\",\"d\":\"Redacci\\\\u00f3n y Exposici\\\\u00f3n de Temas de Ingeneir\\\\u00eda\",\"m\":\"1\",\"c\":\"2.0000\"},{\"i\":\"112215\",\"n\":\"Pavel Ulianov\",\"a\":\"Mart\\\\u00ednez Pabello\",\"d\":\"Facultad de Ciencias\",\"m\":\"4\",\"c\":\"4.0000\"},{\"i\":\"115953\",\"n\":\"Mauricio concepcion\",\"a\":\"Martinez Ramos\",\"d\":\"Educaci\\\\u00f3n para la salud\",\"m\":\"0\",\"c\":null},{\"i\":\"59581\",\"n\":\"HECTOR\",\"a\":\"MARTINEZ REYES\",\"d\":\"FACULTAD DE ECONOMIA UNAM\",\"m\":\"5\",\"c\":\"6.0000\"},{\"i\":\"105261\",\"n\":\"GERARDO\",\"a\":\"Martinez Rojas\",\"d\":\"Arquitectura \",\"m\":\"0\",\"c\":null},{\"i\":\"155593\",\"n\":\"Marina\",\"a\":\"Mart\\\\u00ednez Romero\",\"d\":\"Escuela Nacional de Trabajo Social\",\"m\":\"1\",\"c\":\"10.0000\"},{\"i\":\"147757\",\"n\":\"Eduardo Sebasti\\\\u00e1n\",\"a\":\"Mart\\\\u00ednez Ru\\\\u00edz\",\"d\":\"Facultad de Ciencias\",\"m\":\"2\",\"c\":\"2.5000\"},{\"i\":\"18100\",\"n\":\"Claudia M\",\"a\":\"Mart\\\\u00ednez Stone\",\"d\":\"M\\\\u00e9todos cuantitativos\",\"m\":\"1\",\"c\":\"8.0000\"},{\"i\":\"84013\",\"n\":\"Juan de Dios Omar\",\"a\":\"Mart\\\\u00ednez Trejo\",\"d\":\"Facultad de Ciencias Pol\\\\u00edticas y Sociales \",\"m\":\"2\",\"c\":\"8.0000\"},{\"i\":\"75508\",\"n\":\"Gustavo\",\"a\":\"Mart\\\\u00ednez Valdes\",\"d\":\"Ciencias Politicas y Sociales\",\"m\":\"1\",\"c\":\"10.0000\"},{\"i\":\"14391\",\"n\":\"Hortensia\",\"a\":\"Mart\\\\u00ednez Valdez\",\"d\":\"Economia\",\"m\":\"122\",\"c\":\"6.3033\"},{\"i\":\"116027\",\"n\":\"H\\\\u00e9ctor Alejando\",\"a\":\"Martinez Villamil\",\"d\":\"FAD\",\"m\":\"1\",\"c\":\"10.0000\"},{\"i\":\"115644\",\"n\":\"Sonia Edith\",\"a\":\"Mart\\\\u00ednez villanueva\",\"d\":\"Ents unam\",\"m\":\"3\",\"c\":\"8.3333\"},{\"i\":\"17176\",\"n\":\"yolanda \",\"a\":\"martinez y aguilar\",\"d\":\"psicolog\\\\u00eda\",\"m\":\"2\",\"c\":\"10.0000\"},{\"i\":\"80222\",\"n\":\"MARIA EUGENIA\",\"a\":\"MARTINEZ YEPEZ\",\"d\":\"Qu\\\\u00edmica prepa 2\",\"m\":\"6\",\"c\":\"9.1667\"},{\"i\":\"136355\",\"n\":\"ELIAS\",\"a\":\"MARTINEZ ZAMORA\",\"d\":\"ADMINISTRACION \",\"m\":\"0\",\"c\":null},{\"i\":\"149112\",\"n\":\"Jorge Benjam\\\\u00edn\",\"a\":\"Mart\\\\u00ednez Zendejas\",\"d\":\"Escuela Nacional de Trabajo Social\",\"m\":\"1\",\"c\":\"2.0000\"},{\"i\":\"126256\",\"n\":\"Liber Adolfo\",\"a\":\"Mass Zu\\\\u00f1iga\",\"d\":\"Colegio de Ciencias y Humanidades Plantel Naucalpa\",\"m\":\"4\",\"c\":\"2.2500\"},{\"i\":\"45356\",\"n\":\"Rachel\",\"a\":\"Mata Essayag\",\"d\":\"Fac. Qu\\\\u00edmica\\\\/Farmacolog\\\\u00eda\",\"m\":\"7\",\"c\":\"9.0000\"},{\"i\":\"122158\",\"n\":\"Israel\",\"a\":\"Mateo Eugenio\",\"d\":\"ENP 6\",\"m\":\"1\",\"c\":\"9.0000\"},{\"i\":\"126527\",\"n\":\"Rodrigo Anibal\",\"a\":\"Mateos Nava\",\"d\":\"Fes Zaragoza\",\"m\":\"0\",\"c\":null},{\"i\":\"74254\",\"n\":\"Reyna\",\"a\":\"MATUS miranda\",\"d\":\"ENEO\",\"m\":\"2\",\"c\":\"9.0000\"},{\"i\":\"164309\",\"n\":\"\\\\u00c1ngel\",\"a\":\"Matute\",\"d\":\"Filosofia\",\"m\":\"0\",\"c\":null},{\"i\":\"149111\",\"n\":\"Tonya Beljiam\",\"a\":\"Maurno Zepeda\",\"d\":\"Escuela Nacional de Trabajo Social\",\"m\":\"1\",\"c\":\"4.0000\"},{\"i\":\"161223\",\"n\":\"Emely Estefan\\\\u00eda\",\"a\":\"Max Monroy\",\"d\":\"Facultad de Ciencias\",\"m\":\"1\",\"c\":\"9.0000\"},{\"i\":\"44279\",\"n\":\"MAYA BAENA RAUL\",\"a\":\"MAYA\",\"d\":\"PREPA  4\",\"m\":\"3\",\"c\":\"9.6667\"},{\"i\":\"114227\",\"n\":\"marcos noe\",\"a\":\"maya martinez\",\"d\":\"ENTS\",\"m\":\"0\",\"c\":null},{\"i\":\"155814\",\"n\":\"PAUL ROLANDO\",\"a\":\"MAYA ORTIZ\",\"d\":\"FACULTAD DE INGENIERIA\",\"m\":\"1\",\"c\":\"6.0000\"},{\"i\":\"150130\",\"n\":\"tania livier\",\"a\":\"maya ramirez\",\"d\":\"facultad de contaduria y administracion \",\"m\":\"0\",\"c\":null},{\"i\":\"111150\",\"n\":\"Juan\",\"a\":\"Maya Rangel\",\"d\":\"Derecho\",\"m\":\"0\",\"c\":null},{\"i\":\"156775\",\"n\":\"Ferm\\\\u00edn\",\"a\":\"Maya Romero\",\"d\":\"Facultad de Ingenier\\\\u00eda \",\"m\":\"1\",\"c\":\"5.0000\"},{\"i\":\"143084\",\"n\":\"LETICIA\",\"a\":\"MAYELA MEZA PEREZ\",\"d\":\"FCA\",\"m\":\"0\",\"c\":null},{\"i\":\"105032\",\"n\":\"jose luis\",\"a\":\"mayoral villegas\",\"d\":\"facultad de estudios superiores aragon \",\"m\":\"0\",\"c\":null},{\"i\":\"155027\",\"n\":\"MAYRA\",\"a\":\"MAYRA LOZANO ESPINOSA\",\"d\":\"UAM CUAJIMALPA BIOLOG\\\\u00cdA MOLECULAR\",\"m\":\"1\",\"c\":\"6.0000\"},{\"i\":\"106706\",\"n\":\"Pablo\",\"a\":\"Maza Castellano\",\"d\":\"Prepa 7 matem\\\\u00e1ticas\",\"m\":\"4\",\"c\":\"8.7500\"},{\"i\":\"158396\",\"n\":\"Rodrigo\",\"a\":\"Mazari Armida\",\"d\":\"Arquitectura \",\"m\":\"0\",\"c\":null},{\"i\":\"138147\",\"n\":\"Mela\",\"a\":\"Mbel Culo\",\"d\":\"Ciencias Pol\\\\u00edticas y Sociales\",\"m\":\"1\",\"c\":\"2.0000\"},{\"i\":\"38253\",\"n\":\"Jorge Arturo\",\"a\":\"Meave del Castillo\",\"d\":\"Biolog\\\\u00eda\",\"m\":\"3\",\"c\":\"10.0000\"},{\"i\":\"82602\",\"n\":\"Jorge Arturo\",\"a\":\"Meave del Castillo\",\"d\":\"Facultad de Ciencias\",\"m\":\"0\",\"c\":null},{\"i\":\"139996\",\"n\":\"Eumier\",\"a\":\"Medina\",\"d\":\"DGTIC\",\"m\":\"1\",\"c\":\"2.0000\"},{\"i\":\"113125\",\"n\":\"Maria Eugenia\",\"a\":\"Medina Barrera\",\"d\":\"ENP 5 \\\\\"Jos\\\\u00e9 Vasconcelos\\\\\" y UVM\",\"m\":\"4\",\"c\":\"7.2500\"},{\"i\":\"144397\",\"n\":\"Armando\",\"a\":\"Medina Boj\\\\u00f3rquez\",\"d\":\"Medicina\",\"m\":\"0\",\"c\":null},{\"i\":\"105209\",\"n\":\"RUBEN\",\"a\":\"MEDINA ESTRADA\",\"d\":\"FACULTAD DE CIENCIAS POL\\\\u00cdTICAS Y SOCIALES\",\"m\":\"0\",\"c\":null},{\"i\":\"45813\",\"n\":\"FERNANDO\",\"a\":\"MEDINA GONZ\\\\u00c1LEZ\",\"d\":\"DERECHO\",\"m\":\"13\",\"c\":\"7.2308\"},{\"i\":\"162391\",\"n\":\"Miguel \\\\u00c1ngel\",\"a\":\"Medina gutierrez\",\"d\":\"El psicologia\",\"m\":\"0\",\"c\":null},{\"i\":\"42126\",\"n\":\"noemi\",\"a\":\"medina hernandez\",\"d\":\"economia\",\"m\":\"3\",\"c\":\"4.3333\"},{\"i\":\"157973\",\"n\":\"Gerardo\",\"a\":\"Medina Ladr\\\\u00f3n de Gevara\",\"d\":\"Ingenieria\",\"m\":\"0\",\"c\":null},{\"i\":\"114314\",\"n\":\"Benito\",\"a\":\"Medina limon\",\"d\":\"Derecho\",\"m\":\"1\",\"c\":\"10.0000\"},{\"i\":\"114313\",\"n\":\"Simon\",\"a\":\"Medina limon\",\"d\":\"Arquitectura \",\"m\":\"0\",\"c\":null},{\"i\":\"15946\",\"n\":\"Jos\\\\u00e9 Guadalupe\",\"a\":\"Medina Romero\",\"d\":\"Derecho\",\"m\":\"24\",\"c\":\"8.7500\"},{\"i\":\"113637\",\"n\":\"Georgina\",\"a\":\"Medina V\\\\u00e1zquez\",\"d\":\"Iztacala\",\"m\":\"4\",\"c\":\"8.0000\"},{\"i\":\"109219\",\"n\":\"Ver\\\\u00f3nica\",\"a\":\"Medina Viruega\",\"d\":\"Contabilidad\",\"m\":\"5\",\"c\":\"7.4000\"},{\"i\":\"14977\",\"n\":\"Ma. Elena Teresa\",\"a\":\"Medina-Mora Icaza\",\"d\":\"Psicolog\\\\u00eda\",\"m\":\"2\",\"c\":\"10.0000\"},{\"i\":\"162276\",\"n\":\"Roberto\",\"a\":\"Mej\\\\u00eda\",\"d\":\"Fes cuautitlan \",\"m\":\"0\",\"c\":null},{\"i\":\"15371\",\"n\":\"Ignacio\",\"a\":\"Mejia Guizar\",\"d\":\"Derecho\",\"m\":\"11\",\"c\":\"8.2727\"},{\"i\":\"120640\",\"n\":\"Isabel\",\"a\":\"Mej\\\\u00eda Luna\",\"d\":\"Ciencias \",\"m\":\"2\",\"c\":\"10.0000\"},{\"i\":\"141967\",\"n\":\"Gerardo\",\"a\":\"Mej\\\\u00eda V\\\\u00e1zquez\",\"d\":\"Facultad de Ciencias\",\"m\":\"1\",\"c\":\"10.0000\"},{\"i\":\"138970\",\"n\":\"rosa\",\"a\":\"melcacho\",\"d\":\"mvz\",\"m\":\"1\",\"c\":\"10.0000\"},{\"i\":\"154067\",\"n\":\"Juventino\",\"a\":\"Melendez Marcos\",\"d\":\"Prepa1\",\"m\":\"0\",\"c\":null},{\"i\":\"39467\",\"n\":\"Hilda\",\"a\":\"Melendez Olmedo\",\"d\":\"chetto\",\"m\":\"6\",\"c\":\"4.5000\"},{\"i\":\"124230\",\"n\":\"JUDITH\",\"a\":\"MELENDREZ BAYARDO\",\"d\":\"Facultad de Arquitectura\",\"m\":\"1\",\"c\":\"9.0000\"},{\"i\":\"129954\",\"n\":\"Karina\",\"a\":\"Melgarejo\",\"d\":\"Ingeniera \",\"m\":\"0\",\"c\":null},{\"i\":\"99919\",\"n\":\"carlos\",\"a\":\"melgarejo de la vega\",\"d\":\"arquitectura\",\"m\":\"0\",\"c\":null},{\"i\":\"150032\",\"n\":\"Roberto\",\"a\":\"Mellado\",\"d\":\"Trabajo Social\",\"m\":\"2\",\"c\":\"5.5000\"},{\"i\":\"79428\",\"n\":\"Javier\",\"a\":\"Mellafo jimenez\",\"d\":\"Fes Acatlan \",\"m\":\"0\",\"c\":null},{\"i\":\"162615\",\"n\":\"Ricardo\",\"a\":\"Mena Monroy\",\"d\":\"F\\\\u00edsica \",\"m\":\"0\",\"c\":null},{\"i\":\"114163\",\"n\":\"Rosa Maria\",\"a\":\"Menchaca\",\"d\":\"FES Aragon\",\"m\":\"0\",\"c\":null},{\"i\":\"16806\",\"n\":\"C\\\\u00e9sar \",\"a\":\"M\\\\u00e9ndez\",\"d\":\"FCA\\\\/Informatica\",\"m\":\"6\",\"c\":\"9.0000\"},{\"i\":\"19157\",\"n\":\"Emilio\",\"a\":\"M\\\\u00e9ndez\",\"d\":\"Filosf\\\\u00eda y Letras\\\\/Colegio de Lit. Dram\\\\u00e1tica y Teat\",\"m\":\"6\",\"c\":\"10.0000\"},{\"i\":\"161185\",\"n\":\"H\\\\u00e9ctor\",\"a\":\"M\\\\u00e9ndez\",\"d\":\"Ciencias\",\"m\":\"0\",\"c\":null},{\"i\":\"120076\",\"n\":\"Rub\\\\u00e9n\",\"a\":\"Mendez  arias\",\"d\":\"Facultad de ingenier\\\\u00eda \",\"m\":\"0\",\"c\":null},{\"i\":\"114531\",\"n\":\"GUADALUPE VERONICA\",\"a\":\"MENDEZ DIAZ\",\"d\":\"CIENCIAS POLITICAS\",\"m\":\"1\",\"c\":\"10.0000\"},{\"i\":\"160418\",\"n\":\"Norma Araceli\",\"a\":\"Mendez Fuentes\",\"d\":\"Facultad de Ciencias Pol\\\\u00edticas y Sociales\",\"m\":\"1\",\"c\":\"7.0000\"},{\"i\":\"163697\",\"n\":\"Manuel\",\"a\":\"Mendez Garcia\",\"d\":\"Qu\\\\u00edmica\",\"m\":\"1\",\"c\":\"10.0000\"},{\"i\":\"139563\",\"n\":\"JUAN ANDRES\",\"a\":\"MENDEZ GARCIA\",\"d\":\"Facultad de Derecho\",\"m\":\"0\",\"c\":null},{\"i\":\"42612\",\"n\":\"salvador\",\"a\":\"mendez guadarrama\",\"d\":\"arquitectura\",\"m\":\"4\",\"c\":\"3.2500\"},{\"i\":\"14515\",\"n\":\"Emidio Jorge\",\"a\":\"Mendez Hernandez\",\"d\":\"Economia\",\"m\":\"30\",\"c\":\"6.2333\"},{\"i\":\"15047\",\"n\":\"federico \",\"a\":\"mendez lavielle \",\"d\":\"ciencias \",\"m\":\"1\",\"c\":\"8.0000\"},{\"i\":\"18667\",\"n\":\"Federico\",\"a\":\"Mendez Lavielle\",\"d\":\"Ingenieria\\\\/Termofluidos\",\"m\":\"7\",\"c\":\"9.0000\"},{\"i\":\"126529\",\"n\":\"Gabriela Rocio\",\"a\":\"Mendez Marquez\",\"d\":\"FILOSOF\\\\u00cdA Y LETRAS\",\"m\":\"0\",\"c\":null},{\"i\":\"138858\",\"n\":\"Eduardo\",\"a\":\"M\\\\u00e9ndez Mart\\\\u00ednez\",\"d\":\"ENP 2\",\"m\":\"0\",\"c\":null},{\"i\":\"134527\",\"n\":\"Marco Antonio\",\"a\":\"Mendez Ochoa\",\"d\":\"FMVZ\",\"m\":\"1\",\"c\":\"2.0000\"},{\"i\":\"137205\",\"n\":\"Ver\\\\u00f3nica\",\"a\":\"M\\\\u00e9ndez Ortiz\",\"d\":\"Facultad de Filosof\\\\u00eda y Letras\",\"m\":\"0\",\"c\":null},{\"i\":\"137204\",\"n\":\"Ver\\\\u00f3nica\",\"a\":\"M\\\\u00e9ndez Ortiz\",\"d\":\"Facultado de Filosof\\\\u00eda y Letras\",\"m\":\"0\",\"c\":null},{\"i\":\"82151\",\"n\":\"Juana Patricia\",\"a\":\"M\\\\u00e9ndez Perez\",\"d\":\"Facultad de Ciencias, CU\",\"m\":\"4\",\"c\":\"8.5000\"},{\"i\":\"14483\",\"n\":\"Jes\\\\u00fas\",\"a\":\"M\\\\u00e9ndez Reyes\",\"d\":\"Economia\",\"m\":\"2\",\"c\":\"9.0000\"},{\"i\":\"164479\",\"n\":\"Victor Hugo\",\"a\":\"Mendez Rosales\",\"d\":\"Franc\\\\u00e9s \",\"m\":\"1\",\"c\":\"10.0000\"},{\"i\":\"164480\",\"n\":\"Victor Hugo\",\"a\":\"Mendez Rosales\",\"d\":\"Idiomas\",\"m\":\"1\",\"c\":\"10.0000\"},{\"i\":\"136106\",\"n\":\"ADRIAN\",\"a\":\"MENDEZ SALVATORIO\",\"d\":\"ADMINISTRACION\",\"m\":\"0\",\"c\":null},{\"i\":\"15189\",\"n\":\"Baldomero\",\"a\":\"Mendoza\",\"d\":\"Derecho\",\"m\":\"3\",\"c\":\"7.6667\"},{\"i\":\"154153\",\"n\":\"Eugenio\",\"a\":\"Mendoza\",\"d\":\"FACULTAD DE DERECHO FES ARAG\\\\u00d3N \",\"m\":\"1\",\"c\":\"4.0000\"},{\"i\":\"90276\",\"n\":\"erika\",\"a\":\"mendoza\",\"d\":\"vazquez\",\"m\":\"3\",\"c\":\"8.3333\"},{\"i\":\"32251\",\"n\":\"J Manuel\",\"a\":\"Mendoza\",\"d\":\"Ponce\",\"m\":\"0\",\"c\":null},{\"i\":\"108898\",\"n\":\"Claudia\",\"a\":\"Mendoza  Rosales\",\"d\":\"Facultad de Ingenier\\\\u00eda Ciencias de la Tierra\",\"m\":\"1\",\"c\":\"5.0000\"},{\"i\":\"72324\",\"n\":\"Adriana Alejandra\",\"a\":\"Mendoza Amador\",\"d\":\"BIOLOGIA\",\"m\":\"4\",\"c\":\"7.7500\"},{\"i\":\"144491\",\"n\":\"Carlos\",\"a\":\"Mendoza aupetit\",\"d\":\"Fad\",\"m\":\"0\",\"c\":null},{\"i\":\"94508\",\"n\":\"Myriam paulina\",\"a\":\"Mendoza Camarillo\",\"d\":\"Derecho \",\"m\":\"0\",\"c\":null},{\"i\":\"42244\",\"n\":\"Myriam Paulina\",\"a\":\"Mendoza Camarillo\",\"d\":\"Facultad de Derecho \",\"m\":\"23\",\"c\":\"3.7391\"},{\"i\":\"104579\",\"n\":\"Miriam Graciela\",\"a\":\"Mendoza Cano\",\"d\":\"FACULTAD DE INGENIER\\\\u00cdA\",\"m\":\"7\",\"c\":\"6.0000\"},{\"i\":\"120016\",\"n\":\"Victor\",\"a\":\"Mendoza Cortes\",\"d\":\"Facultad de odontologia\",\"m\":\"1\",\"c\":\"8.0000\"},{\"i\":\"140256\",\"n\":\"ANELLY\",\"a\":\"MENDOZA DIAZ\",\"d\":\"g\",\"m\":\"0\",\"c\":null},{\"i\":\"121441\",\"n\":\"Juan Manuel\",\"a\":\"Mendoza Dimas\",\"d\":\"Facultad de Ciencias, Matem\\\\u00e1ticas. \",\"m\":\"1\",\"c\":\"10.0000\"},{\"i\":\"122997\",\"n\":\"Jos\\\\u00e9 Manuel\",\"a\":\"Mendoza Dimas\",\"d\":\"Facultad de Ciencias, Matem\\\\u00e1ticas. \",\"m\":\"1\",\"c\":\"10.0000\"},{\"i\":\"163816\",\"n\":\"Cristi\\\\u00e1n Yair\",\"a\":\"Mendoza Garc\\\\u00eda\",\"d\":\"Ciencias pol\\\\u00edticas y sociales \",\"m\":\"0\",\"c\":null},{\"i\":\"137548\",\"n\":\"Octavio\",\"a\":\"Mendoza hernandez\",\"d\":\"Facultad de ciencias\",\"m\":\"0\",\"c\":null},{\"i\":\"14580\",\"n\":\"Antonio\",\"a\":\"Mendoza Hernandez\",\"d\":\"Economia\",\"m\":\"43\",\"c\":\"8.5116\"},{\"i\":\"75721\",\"n\":\"LETICIA\",\"a\":\"MENDOZA MARTINEZ\",\"d\":\"\",\"m\":\"1\",\"c\":\"10.0000\"},{\"i\":\"11247\",\"n\":\"Gabriel\",\"a\":\"Mendoza Pichardo\",\"d\":\"Econom\\\\u00eda\",\"m\":\"17\",\"c\":\"6.8824\"},{\"i\":\"32254\",\"n\":\"J Manuel\",\"a\":\"Mendoza Ponce\",\"d\":\"FCA\\\\/ Conta 3\",\"m\":\"3\",\"c\":\"5.6667\"},{\"i\":\"124347\",\"n\":\"Higor\",\"a\":\"Mendoza Ruiz\",\"d\":\"Derecho\",\"m\":\"2\",\"c\":\"7.5000\"},{\"i\":\"155652\",\"n\":\"Erik\",\"a\":\"Mendoza Salinas\",\"d\":\"Escuela Secundaria y Preparatoria Justo Sierra Jac\",\"m\":\"1\",\"c\":\"10.0000\"},{\"i\":\"22362\",\"n\":\"Mauricio Humberto\",\"a\":\"Mendoza S\\\\u00e1nchez\",\"d\":\"Derecho \",\"m\":\"25\",\"c\":\"8.8000\"},{\"i\":\"70200\",\"n\":\"ISAAC GERARDO\",\"a\":\"MENDOZA VAZQUEZ\",\"d\":\"FES ARAGON SOCIOLOGIA\",\"m\":\"9\",\"c\":\"4.3333\"},{\"i\":\"157080\",\"n\":\"Mario Eduardo\",\"a\":\"MENDOZA VAZQUEZ\",\"d\":\"Fes Cuautitl\\\\u00e1n\",\"m\":\"0\",\"c\":null},{\"i\":\"56132\",\"n\":\"Jorge\",\"a\":\"Meneses Portuguez\",\"d\":\"Derecho\",\"m\":\"1\",\"c\":\"10.0000\"},{\"i\":\"159158\",\"n\":\"Ulises\",\"a\":\"Mercado\",\"d\":\"Facultad de ingenier\\\\u00eda \",\"m\":\"0\",\"c\":null},{\"i\":\"15006\",\"n\":\"Dolores\",\"a\":\"Mercado Corona\",\"d\":\"Psicolog\\\\u00eda\",\"m\":\"1\",\"c\":\"9.0000\"},{\"i\":\"103494\",\"n\":\"ARACELI EUGENIA\",\"a\":\"MERCADO FERNANDEZ\",\"d\":\"Facultad de quimica \",\"m\":\"1\",\"c\":\"2.0000\"},{\"i\":\"158214\",\"n\":\"Adri\\\\u00e1n Ulises\",\"a\":\"Mercado Mart\\\\u00ednez\",\"d\":\"Facultad de Ingenier\\\\u00eda \",\"m\":\"0\",\"c\":null},{\"i\":\"80224\",\"n\":\"Elia\",\"a\":\"Mercado Mendoza\",\"d\":\"Arquitectura \",\"m\":\"3\",\"c\":\"7.3333\"},{\"i\":\"14392\",\"n\":\"Arturo\",\"a\":\"M\\\\u00e9rida Monrroy\",\"d\":\"Economia\",\"m\":\"27\",\"c\":\"4.4444\"},{\"i\":\"100978\",\"n\":\"Alfonso\",\"a\":\"Merino Gonzalez\",\"d\":\"Administracion y Contaduria UNAM\",\"m\":\"1\",\"c\":\"10.0000\"},{\"i\":\"124087\",\"n\":\"C\\\\u00e9sar Roberto\",\"a\":\"Merino Ortega\",\"d\":\"Psicolog\\\\u00eda\",\"m\":\"2\",\"c\":\"10.0000\"},{\"i\":\"72604\",\"n\":\"Rosa\",\"a\":\"Merlin\",\"d\":\"Facultad de Ciencias Politicas y Sociales\",\"m\":\"3\",\"c\":\"9.6667\"},{\"i\":\"72605\",\"n\":\"rosa\",\"a\":\"merlin\",\"d\":\"FCPyS\",\"m\":\"7\",\"c\":\"9.2857\"},{\"i\":\"141750\",\"n\":\"Hugo\",\"a\":\"Merlin Ramirez\",\"d\":\"Facultad de ciencias\",\"m\":\"7\",\"c\":\"8.0000\"},{\"i\":\"151522\",\"n\":\"ana rosa\",\"a\":\"merlos\",\"d\":\"fca\",\"m\":\"0\",\"c\":null},{\"i\":\"53633\",\"n\":\"Jorge\",\"a\":\"Meza\",\"d\":\"Fes Zaragza\",\"m\":\"2\",\"c\":\"2.5000\"},{\"i\":\"142043\",\"n\":\"Leticia Mayela\",\"a\":\"MezaPerez\",\"d\":\"Contaduria\",\"m\":\"0\",\"c\":null},{\"i\":\"36985\",\"n\":\"Mar\\\\u00eda Teresa\",\"a\":\"Miaja de la Pe\\\\u00f1a\",\"d\":\"Facultad de Filosof\\\\u00eda y Letras\",\"m\":\"3\",\"c\":\"5.3333\"},{\"i\":\"159340\",\"n\":\"Melissa\",\"a\":\"Michel Rogel\",\"d\":\"Facultad de Contadur\\\\u00eda y Administraci\\\\u00f3n\",\"m\":\"1\",\"c\":\"10.0000\"},{\"i\":\"160407\",\"n\":\"Palomino Garibay\",\"a\":\"Miguel Angel\",\"d\":\"Facultad de Ciencias Bio Animales III\",\"m\":\"1\",\"c\":\"2.0000\"},{\"i\":\"14829\",\"n\":\"Esquivel Pineda \",\"a\":\"Miguel Carlos\",\"d\":\"CCH Oriente\",\"m\":\"11\",\"c\":\"8.6364\"},{\"i\":\"72403\",\"n\":\"Julia Elena\",\"a\":\"Miguez\",\"d\":\"CELA\",\"m\":\"8\",\"c\":\"9.8750\"},{\"i\":\"162977\",\"n\":\"Julio Alejandro\",\"a\":\"Mill\\\\u00e1n\",\"d\":\"Costabile\",\"m\":\"2\",\"c\":\"2.0000\"},{\"i\":\"11248\",\"n\":\"Rom\\\\u00e1n\",\"a\":\"Mill\\\\u00e1n Morales\",\"d\":\"Econom\\\\u00eda\",\"m\":\"2\",\"c\":\"10.0000\"},{\"i\":\"11249\",\"n\":\"Isaac\",\"a\":\"Minian Laniado\",\"d\":\"Econom\\\\u00eda\",\"m\":\"23\",\"c\":\"8.1304\"},{\"i\":\"18748\",\"n\":\"ARACELI\",\"a\":\"MIRAMON\",\"d\":\"DERECHO\",\"m\":\"0\",\"c\":null},{\"i\":\"18749\",\"n\":\"ARACELI\",\"a\":\"MIRAMON PARRA\",\"d\":\"DERECHO\",\"m\":\"2\",\"c\":\"8.0000\"},{\"i\":\"161675\",\"n\":\"Claudia Sabrina\",\"a\":\"Miramontes paez\",\"d\":\"Aragon\",\"m\":\"0\",\"c\":null},{\"i\":\"100758\",\"n\":\"Roberto\",\"a\":\"Miranda Cardoso\",\"d\":\"FES Aragon\",\"m\":\"0\",\"c\":null},{\"i\":\"164442\",\"n\":\"Gustavo\",\"a\":\"Miranda Contreras\",\"d\":\"Fes Zaragoza\",\"m\":\"0\",\"c\":null},{\"i\":\"162486\",\"n\":\"Lorenzo Octavio\",\"a\":\"Miranda Cordero\",\"d\":\"Ingenieria\",\"m\":\"0\",\"c\":null},{\"i\":\"15004\",\"n\":\"Patricia\",\"a\":\"Miranda Hern\\\\u00e1ndez\",\"d\":\"Psicolog\\\\u00eda\",\"m\":\"3\",\"c\":\"2.0000\"},{\"i\":\"153469\",\"n\":\"Nancy Yadira\",\"a\":\"Miranda Rom\\\\u00e1n\",\"d\":\"Facultad de Ciencias Pol\\\\u00edticas y Sociales\",\"m\":\"1\",\"c\":\"10.0000\"},{\"i\":\"141913\",\"n\":\"BERENICE\",\"a\":\"MIRANDA RUIZ\",\"d\":\"FES ARAGON UNAM\",\"m\":\"2\",\"c\":\"10.0000\"},{\"i\":\"137347\",\"n\":\"Alfredo\",\"a\":\"Miranda solano\",\"d\":\"Derecho\",\"m\":\"0\",\"c\":null},{\"i\":\"14484\",\"n\":\"Carlos\",\"a\":\"Miravete Sandoval\",\"d\":\"Economia\",\"m\":\"8\",\"c\":\"4.5000\"},{\"i\":\"112210\",\"n\":\"Alejandra\",\"a\":\"Mireles V\\\\u00e1zquez\",\"d\":\"Facultad de Ciencias\",\"m\":\"1\",\"c\":\"9.0000\"},{\"i\":\"116968\",\"n\":\"Elia\",\"a\":\"Moctezuma Gallegos\",\"d\":\"Biolog\\\\u00eda\",\"m\":\"1\",\"c\":\"9.0000\"},{\"i\":\"162205\",\"n\":\"C\\\\u00e9sar Oswaldo\",\"a\":\"Moctezuma Garcia\",\"d\":\"Historia\",\"m\":\"0\",\"c\":null},{\"i\":\"18546\",\"n\":\"Guadalupe\",\"a\":\"MOGUEL\",\"d\":\"Prepa 1\",\"m\":\"5\",\"c\":\"6.6000\"},{\"i\":\"114708\",\"n\":\"Jaime\",\"a\":\"Molina\",\"d\":\"FES Iztacala\",\"m\":\"1\",\"c\":\"6.0000\"},{\"i\":\"157613\",\"n\":\"Susana martina\",\"a\":\"Molina\",\"d\":\"Vazquez\",\"m\":\"0\",\"c\":null},{\"i\":\"164681\",\"n\":\"Salvador\",\"a\":\"Molina\",\"d\":\"FESC\",\"m\":\"0\",\"c\":null},{\"i\":\"157188\",\"n\":\"Jorge Mario\",\"a\":\"Molina\",\"d\":\"Facultad de Medicina \",\"m\":\"1\",\"c\":\"10.0000\"},{\"i\":\"118888\",\"n\":\"ALDO MAURICIO\",\"a\":\"MOLINA ALCANTARA\",\"d\":\"ALUMNO IRRESPONSABLE Y MEDIOCRE \",\"m\":\"0\",\"c\":null},{\"i\":\"42471\",\"n\":\"Luis Genaro\",\"a\":\"Molina Alvarez\",\"d\":\"Econom\\\\u00eda\",\"m\":\"27\",\"c\":\"6.2963\"},{\"i\":\"14433\",\"n\":\"Murgu\\\\u00eda Carlos\",\"a\":\"Molina Enr\\\\u00edquez\",\"d\":\"Economia\",\"m\":\"8\",\"c\":\"6.7500\"},{\"i\":\"68735\",\"n\":\"clara elena\",\"a\":\"molina enriquez gaona\",\"d\":\"Derecho\",\"m\":\"3\",\"c\":\"9.6667\"},{\"i\":\"88881\",\"n\":\"Clara Elena\",\"a\":\"Molina Enriquez Gaona\",\"d\":\"Facultad de Derecho\",\"m\":\"1\",\"c\":\"6.0000\"},{\"i\":\"15817\",\"n\":\"Guillermo\",\"a\":\"Molina G\\\\u00f3mez\",\"d\":\"Qu\\\\u00edmica\\\\/Matem\\\\u00e1ticas\",\"m\":\"9\",\"c\":\"3.4444\"},{\"i\":\"96061\",\"n\":\"MARIA ESTELA\",\"a\":\"MOLINA MONROY\",\"d\":\"FES ZARAGOZA Enfermeria \",\"m\":\"3\",\"c\":\"2.0000\"},{\"i\":\"46648\",\"n\":\"Eduardo Alejandro\",\"a\":\"Molina S\\\\u00e1nchez\",\"d\":\"Contadur\\\\u00eda y Admon.\",\"m\":\"15\",\"c\":\"7.2000\"},{\"i\":\"110642\",\"n\":\"M\\\\u00d3NICA ADRIANA\",\"a\":\"MOLINA VARELA\",\"d\":\"Sipcologia\",\"m\":\"2\",\"c\":\"2.0000\"},{\"i\":\"149471\",\"n\":\"Erick\",\"a\":\"Molino Minero Re\",\"d\":\"IIMAS M\\\\u00e9rida\",\"m\":\"1\",\"c\":\"10.0000\"},{\"i\":\"21467\",\"n\":\"jose arturo\",\"a\":\"mompala\",\"d\":\"prepa fresa!!! la 6\",\"m\":\"21\",\"c\":\"9.9524\"},{\"i\":\"73687\",\"n\":\"Armando\",\"a\":\"Moncada S\\\\u00e1nchez\",\"d\":\"CCH SUR\",\"m\":\"0\",\"c\":null},{\"i\":\"20893\",\"n\":\"Rafael\",\"a\":\"Mondragon\",\"d\":\"Filosofia y Letras\",\"m\":\"2\",\"c\":\"9.5000\"},{\"i\":\"156367\",\"n\":\"Elsa Ruth\",\"a\":\"Mondragon\",\"d\":\"Facultad de Ingenieria\",\"m\":\"0\",\"c\":null},{\"i\":\"78136\",\"n\":\"juan mario\",\"a\":\"mondragon\",\"d\":\"\",\"m\":\"1\",\"c\":\"4.0000\"},{\"i\":\"39582\",\"n\":\"tomas\",\"a\":\"mondragon\",\"d\":\"Contadur\\\\u00eda y Admon\",\"m\":\"2\",\"c\":\"8.5000\"},{\"i\":\"162623\",\"n\":\"Eva\",\"a\":\"Mondrag\\\\u00f3n\",\"d\":\"Ciencias sociales \",\"m\":\"0\",\"c\":null},{\"i\":\"14994\",\"n\":\"Austreberto\",\"a\":\"Mondrag\\\\u00f3n Bola\\\\u00f1os\",\"d\":\"Psicolog\\\\u00eda\",\"m\":\"3\",\"c\":\"8.6667\"},{\"i\":\"153293\",\"n\":\"Jorge Cesar\",\"a\":\"Mondragon Camacho\",\"d\":\"Fes Cuautitl\\\\u00e1n \",\"m\":\"3\",\"c\":\"8.3333\"},{\"i\":\"163084\",\"n\":\"JORGECESAR\",\"a\":\"MONDRAGON CAMACHO\",\"d\":\"FES ACATLAN \",\"m\":\"1\",\"c\":\"9.0000\"},{\"i\":\"152850\",\"n\":\"Jorge Cesar\",\"a\":\"Mondragon Camacho\",\"d\":\"Fes Acatl\\\\u00e1n\",\"m\":\"4\",\"c\":\"8.7500\"},{\"i\":\"158138\",\"n\":\"Ana iveth\",\"a\":\"Mondragon pineda\",\"d\":\"Medicina\",\"m\":\"0\",\"c\":null},{\"i\":\"156746\",\"n\":\"Jorge Alfonso\",\"a\":\"Monjaraz Dom\\\\u00ednguez\",\"d\":\"Acatl\\\\u00e1n \",\"m\":\"0\",\"c\":null},{\"i\":\"56274\",\"n\":\"Jorge Alfonso\",\"a\":\"Monjaraz Dominguez\",\"d\":\"FES Acatl\\\\u00e1n\\\\/UNAM\",\"m\":\"2\",\"c\":\"6.0000\"},{\"i\":\"149054\",\"n\":\"MONROY MAGALDI DEBORAH\",\"a\":\"MONROY\",\"d\":\"facultad de ciencias politicas y sociales\",\"m\":\"0\",\"c\":null},{\"i\":\"97863\",\"n\":\"Georgett\",\"a\":\"Monroy\",\"d\":\"Facultad de Ciencias pol\\\\u00edticas y sociales\",\"m\":\"1\",\"c\":\"9.0000\"},{\"i\":\"91215\",\"n\":\"Rodolfo\",\"a\":\"Monroy Vel\\\\u00e1zquez\",\"d\":\"Facultad de Ciencias Pol\\\\u00edticas y Sociales\",\"m\":\"5\",\"c\":\"7.6000\"},{\"i\":\"140457\",\"n\":\"Lurdes\",\"a\":\"Monrroy\",\"d\":\"Hemeroteca nacional\",\"m\":\"0\",\"c\":null},{\"i\":\"122171\",\"n\":\"Blanca\",\"a\":\"Montalvo\",\"d\":\"ENP 6\",\"m\":\"2\",\"c\":\"8.0000\"},{\"i\":\"88876\",\"n\":\"Sergio\",\"a\":\"Montalvo Garc\\\\u00eda\",\"d\":\"Facultad de Derecho\",\"m\":\"1\",\"c\":\"8.0000\"},{\"i\":\"81064\",\"n\":\"Mario\",\"a\":\"Montante\",\"d\":\"Prepa 5\",\"m\":\"0\",\"c\":null},{\"i\":\"135873\",\"n\":\"Blanca Estela\",\"a\":\"Monta\\\\u00f1es Montes\",\"d\":\"Fesc\",\"m\":\"1\",\"c\":\"2.0000\"},{\"i\":\"66721\",\"n\":\"Alberto\",\"a\":\"Monta\\\\u00f1o\",\"d\":\"Fez Zaragoza\",\"m\":\"1\",\"c\":\"10.0000\"},{\"i\":\"149630\",\"n\":\"Jos\\\\u00e9 Manuel\",\"a\":\"Monta\\\\u00f1o Hilario\",\"d\":\"Facultad de Qu\\\\u00edmica\\\\/Qu\\\\u00edmica General \",\"m\":\"3\",\"c\":\"9.6667\"},{\"i\":\"118845\",\"n\":\"Maira Sarai\",\"a\":\"Montejo Cruz\",\"d\":\"Facultad de Ciencias\",\"m\":\"1\",\"c\":\"10.0000\"},{\"i\":\"129055\",\"n\":\"Rosa eloisa\",\"a\":\"Montenegro mendez\",\"d\":\"Derecho\",\"m\":\"1\",\"c\":\"10.0000\"},{\"i\":\"115562\",\"n\":\"maria del carmen\",\"a\":\"montenegro nu\\\\u00f1ez\",\"d\":\"facultad de psicologia\",\"m\":\"1\",\"c\":\"10.0000\"},{\"i\":\"57742\",\"n\":\"C\\\\u00e9sar\",\"a\":\"Montero\",\"d\":\"Derecho\",\"m\":\"2\",\"c\":\"8.0000\"},{\"i\":\"155391\",\"n\":\"Daniel Enrique\",\"a\":\"Montero Fayad\",\"d\":\"FAD\",\"m\":\"0\",\"c\":null},{\"i\":\"145191\",\"n\":\"Cintya Ang\\\\u00e9lica\",\"a\":\"Montes\",\"d\":\"Samayoa\",\"m\":\"1\",\"c\":\"8.0000\"},{\"i\":\"154019\",\"n\":\"roberto carlos\",\"a\":\"montes anguiano\",\"d\":\"fca\",\"m\":\"0\",\"c\":null},{\"i\":\"51419\",\"n\":\"jann miguel\",\"a\":\"montes barrios\",\"d\":\"contaduria\",\"m\":\"0\",\"c\":null},{\"i\":\"20298\",\"n\":\"DIONICIO\",\"a\":\"MONTES MOLINA\",\"d\":\"CONTADURIA Y ADMON\",\"m\":\"9\",\"c\":\"3.3333\"},{\"i\":\"79542\",\"n\":\"arturo\",\"a\":\"montiel\",\"d\":\"fes aragon\",\"m\":\"0\",\"c\":null},{\"i\":\"28297\",\"n\":\"feeve\",\"a\":\"montiel espinoza\",\"d\":\"historia universal\",\"m\":\"1\",\"c\":\"7.0000\"},{\"i\":\"114147\",\"n\":\"Hugo\",\"a\":\"Montiel Leon\",\"d\":\"Facultad de Derecho CU\",\"m\":\"3\",\"c\":\"9.6667\"},{\"i\":\"135921\",\"n\":\"Orlando\",\"a\":\"Montiel Marron\",\"d\":\"Facultad de Derecho \",\"m\":\"4\",\"c\":\"7.2500\"},{\"i\":\"162847\",\"n\":\"Nancy Olivia\",\"a\":\"Montor V\\\\u00e1zquez\",\"d\":\"Preparatoria 2\",\"m\":\"0\",\"c\":null},{\"i\":\"157820\",\"n\":\"Ana Lilia\",\"a\":\"Montoya\",\"d\":\"Jos\\\\u00e9 Vasconcelos\",\"m\":\"0\",\"c\":null},{\"i\":\"126155\",\"n\":\"Lilia\",\"a\":\"Montoya Gutierres\",\"d\":\"Prepa5\",\"m\":\"0\",\"c\":null},{\"i\":\"99911\",\"n\":\"Alejandro Jorge\",\"a\":\"Montoya Mendoza\",\"d\":\"Economia\",\"m\":\"0\",\"c\":null},{\"i\":\"22876\",\"n\":\"Alejandro\",\"a\":\"Montoya Mendoza\",\"d\":\"Econom\\\\u00eda\",\"m\":\"20\",\"c\":\"8.1000\"},{\"i\":\"100249\",\"n\":\"alberterto\",\"a\":\"monzoy\",\"d\":\"cch \",\"m\":\"0\",\"c\":null},{\"i\":\"140604\",\"n\":\"Karen\",\"a\":\"Mora navarrete\",\"d\":\"Iztacala \",\"m\":\"0\",\"c\":null},{\"i\":\"137753\",\"n\":\"Jorge\",\"a\":\"Mora Rios\",\"d\":\"Emprendimiento\",\"m\":\"0\",\"c\":null},{\"i\":\"125552\",\"n\":\"Javier\",\"a\":\"Mora Sompa\",\"d\":\"FCPyS\",\"m\":\"0\",\"c\":null},{\"i\":\"151671\",\"n\":\"Armando\",\"a\":\"Morales\",\"d\":\"Fes Cuautitlan \\\\/ Dibujo\",\"m\":\"2\",\"c\":\"2.0000\"},{\"i\":\"144757\",\"n\":\"Fernando\",\"a\":\"Morales\",\"d\":\"Fmvz unan\",\"m\":\"0\",\"c\":null},{\"i\":\"15116\",\"n\":\"Patricia\",\"a\":\"Morales\",\"d\":\"Medicina\",\"m\":\"1\",\"c\":\"10.0000\"},{\"i\":\"114339\",\"n\":\"ana\",\"a\":\"morales\",\"d\":\"Filosof\\\\u00eda y letras\",\"m\":\"0\",\"c\":null},{\"i\":\"105374\",\"n\":\"Jos\\\\u00e9 antonio\",\"a\":\"Morales\",\"d\":\"Contaduria\",\"m\":\"0\",\"c\":null},{\"i\":\"64883\",\"n\":\"Gerardo\",\"a\":\"Morales Altamirano\",\"d\":\"Prepa 6\",\"m\":\"6\",\"c\":\"7.3333\"},{\"i\":\"14516\",\"n\":\"Eliezer\",\"a\":\"Morales Aragon\",\"d\":\"Economia\",\"m\":\"9\",\"c\":\"4.1111\"},{\"i\":\"125528\",\"n\":\"Felix\",\"a\":\"Morales flores\",\"d\":\"Cch sur \",\"m\":\"0\",\"c\":null},{\"i\":\"53635\",\"n\":\"Juan Manuel\",\"a\":\"Morales flores\",\"d\":\"Psicolog\\\\u00eda \",\"m\":\"2\",\"c\":\"8.5000\"},{\"i\":\"12772\",\"n\":\"Eduardo \",\"a\":\"Morales Flores\",\"d\":\"Ingenieria\",\"m\":\"3\",\"c\":\"8.0000\"},{\"i\":\"14517\",\"n\":\"Manuel\",\"a\":\"Morales Hernandez\",\"d\":\"Economia\",\"m\":\"95\",\"c\":\"7.6737\"},{\"i\":\"45595\",\"n\":\"miguel eduardo\",\"a\":\"morales lizarraga\",\"d\":\"derecho\",\"m\":\"28\",\"c\":\"6.9286\"},{\"i\":\"135750\",\"n\":\"Lauro\",\"a\":\"Morales Montesinos\",\"d\":\"Facultad de ciencias \",\"m\":\"2\",\"c\":\"9.5000\"},{\"i\":\"157212\",\"n\":\"David\",\"a\":\"morales morales\",\"d\":\"instituto de quimica, facultad de quimica unam\",\"m\":\"0\",\"c\":null},{\"i\":\"116828\",\"n\":\"maria Magdalena\",\"a\":\"morales morales\",\"d\":\"telesecundaria \",\"m\":\"0\",\"c\":null},{\"i\":\"111446\",\"n\":\"Celso\",\"a\":\"Morales mu\\\\u00f1iz\",\"d\":\"Ingenieria\",\"m\":\"0\",\"c\":null},{\"i\":\"19995\",\"n\":\"ABEL RAYMUNDO\",\"a\":\"MORALES ORTEGA\",\"d\":\"Economia\",\"m\":\"7\",\"c\":\"3.1429\"},{\"i\":\"105143\",\"n\":\"Norma Angelica\",\"a\":\"Morales Ortega\",\"d\":\"Escuela Nacional de Trabajo Social \",\"m\":\"0\",\"c\":null},{\"i\":\"114350\",\"n\":\"V\\\\u00edctor Hugo\",\"a\":\"Morales rodriguez\",\"d\":\"Derecho \",\"m\":\"2\",\"c\":\"7.5000\"},{\"i\":\"161399\",\"n\":\"Julieta\",\"a\":\"Morales sanchwz\",\"d\":\"Derecho unsm\",\"m\":\"0\",\"c\":null},{\"i\":\"138463\",\"n\":\"MIGUEL ANGEL\",\"a\":\"MORALES SANDOVAL\",\"d\":\"DERECHO UNAM\",\"m\":\"2\",\"c\":\"10.0000\"},{\"i\":\"157432\",\"n\":\"Elizabeth\",\"a\":\"Morales Vaquera\",\"d\":\"CCH Azcapotzalco\",\"m\":\"1\",\"c\":\"3.0000\"},{\"i\":\"150072\",\"n\":\"Diana del socorro\",\"a\":\"Morales Vega\",\"d\":\"Antioquia\",\"m\":\"0\",\"c\":null},{\"i\":\"154769\",\"n\":\"Sergio Armando\",\"a\":\"Morales Villela\",\"d\":\"F\\\\u00fatbol Deportes \",\"m\":\"3\",\"c\":\"2.0000\"},{\"i\":\"19115\",\"n\":\"Marta\",\"a\":\"Moreno\",\"d\":\"Moreno\",\"m\":\"2\",\"c\":\"4.5000\"},{\"i\":\"71900\",\"n\":\"emanuel\",\"a\":\"moreno\",\"d\":\"salda\\\\u00f1a\",\"m\":\"0\",\"c\":null},{\"i\":\"164032\",\"n\":\"Edgar Alfonso\",\"a\":\"Moreno\",\"d\":\"Facultad de Medicina\",\"m\":\"6\",\"c\":\"4.3333\"},{\"i\":\"152169\",\"n\":\"Everardo\",\"a\":\"Moreno\",\"d\":\"Cruz\",\"m\":\"1\",\"c\":\"10.0000\"},{\"i\":\"11250\",\"n\":\"Ana Rosa\",\"a\":\"Moreno\",\"d\":\"Medicina\",\"m\":\"1\",\"c\":\"10.0000\"},{\"i\":\"71901\",\"n\":\"Emmanuel\",\"a\":\"Moreno\",\"d\":\"Salda\\\\u00f1a\",\"m\":\"0\",\"c\":null},{\"i\":\"99082\",\"n\":\"Arcelia\",\"a\":\"moreno Agraz\",\"d\":\"Preparatoria 8 \",\"m\":\"23\",\"c\":\"9.0870\"},{\"i\":\"82429\",\"n\":\"Juan Carlos\",\"a\":\"Moreno Brid\",\"d\":\"Econom\\\\u00eda\",\"m\":\"3\",\"c\":\"8.6667\"},{\"i\":\"108125\",\"n\":\"MIGUEL\",\"a\":\"MORENO CONTRERAS\",\"d\":\"FES CUAUTITLAN\",\"m\":\"1\",\"c\":\"2.0000\"},{\"i\":\"137795\",\"n\":\"ROBERTO\",\"a\":\"MORENO DE LA TORRe\",\"d\":\"QUIMICA III\",\"m\":\"4\",\"c\":\"2.0000\"},{\"i\":\"111313\",\"n\":\"Roberto Claudio\",\"a\":\"Moreno Garcia\",\"d\":\"Facultad de Contadur\\\\u00eda y Administraci\\\\u00f3n\",\"m\":\"2\",\"c\":\"8.5000\"},{\"i\":\"28919\",\"n\":\"veronica\",\"a\":\"moreno martinez\",\"d\":\"fes zaragoza\",\"m\":\"5\",\"c\":\"8.4000\"},{\"i\":\"105359\",\"n\":\"Elizabeth\",\"a\":\"Moreno mavridis\",\"d\":\"Facultad de ingenier\\\\u00eda \",\"m\":\"0\",\"c\":null},{\"i\":\"90432\",\"n\":\"Jos\\\\u00e9 Miguel\",\"a\":\"Moreno Moreno\",\"d\":\"Econom\\\\u00eda\",\"m\":\"2\",\"c\":\"7.5000\"},{\"i\":\"147663\",\"n\":\"Brandon Alan\",\"a\":\"Moreno Navarrete\",\"d\":\"Matem\\\\u00e1ticas\\\\/f\\\\u00edsica \",\"m\":\"14\",\"c\":\"9.7143\"},{\"i\":\"139653\",\"n\":\"Luis Antonio\",\"a\":\"Moreno Ruiz\",\"d\":\"Medicina UNAM Farmacolog\\\\u00eda\",\"m\":\"1\",\"c\":\"10.0000\"},{\"i\":\"109876\",\"n\":\"emmanuel\",\"a\":\"moreno salda\\\\u00f1a\",\"d\":\"economia\",\"m\":\"0\",\"c\":null},{\"i\":\"120006\",\"n\":\"Ana Patricia\",\"a\":\"Moreno Serrano\",\"d\":\"FES Iztacala\",\"m\":\"1\",\"c\":\"10.0000\"},{\"i\":\"14434\",\"n\":\"David\",\"a\":\"Moreno Soto\",\"d\":\"Economia\",\"m\":\"4\",\"c\":\"9.5000\"},{\"i\":\"90062\",\"n\":\"H\\\\u00e9ctor\",\"a\":\"Moreno Soto\",\"d\":\"Facultad de Filosof\\\\u00eda y Letras UNAM\",\"m\":\"1\",\"c\":\"9.0000\"},{\"i\":\"124295\",\"n\":\"Roman\",\"a\":\"Moreno soto\",\"d\":\"FES aragon\",\"m\":\"0\",\"c\":null},{\"i\":\"26793\",\"n\":\"Jos\\\\u00e9 Agust\\\\u00edn\",\"a\":\"Moreno Suarez\",\"d\":\"Econom\\\\u00eda (SUA)\",\"m\":\"3\",\"c\":\"6.0000\"},{\"i\":\"14435\",\"n\":\"Carlos\",\"a\":\"Morera Camacho\",\"d\":\"Economia\",\"m\":\"25\",\"c\":\"6.2400\"},{\"i\":\"156324\",\"n\":\"Liliana\",\"a\":\"Moreyra Jim\\\\u00e9nez\",\"d\":\"FES Iztacala \",\"m\":\"0\",\"c\":null},{\"i\":\"111684\",\"n\":\"Marcial Alfonso\",\"a\":\"Morfin Maciel\",\"d\":\"Facultad de Derecho UNAM\",\"m\":\"1\",\"c\":\"9.0000\"},{\"i\":\"159505\",\"n\":\"Takao\",\"a\":\"Moriya\",\"d\":\"Estad\\\\u00edstica\",\"m\":\"1\",\"c\":\"10.0000\"},{\"i\":\"51674\",\"n\":\"Raymundo\",\"a\":\"Moscosa Mora\",\"d\":\"Facultad de Econom\\\\u00eda \",\"m\":\"39\",\"c\":\"7.1795\"},{\"i\":\"162738\",\"n\":\"Ulises\",\"a\":\"Mosqueda Ch\\\\u00e1vez\",\"d\":\"Facultad de ciencias pol\\\\u00edticas y sociales\",\"m\":\"1\",\"c\":\"10.0000\"},{\"i\":\"86159\",\"n\":\"Alejandro\",\"a\":\"Mosqueira Perez Salazar\",\"d\":\"unam\",\"m\":\"0\",\"c\":null},{\"i\":\"153940\",\"n\":\"Edgardo Orlando\",\"a\":\"Mota Martinez\",\"d\":\"Administraci\\\\u00f3n de empresa (FCA)\",\"m\":\"1\",\"c\":\"9.0000\"},{\"i\":\"11251\",\"n\":\"Ricardo\",\"a\":\"Mota Marzano\",\"d\":\"Ingenier\\\\u00eda\",\"m\":\"40\",\"c\":\"7.1750\"},{\"i\":\"61066\",\"n\":\"Miriam\",\"a\":\"Muci\\\\u00f1o\",\"d\":\"Ciencias Pol\\\\u00edticas\",\"m\":\"1\",\"c\":\"10.0000\"},{\"i\":\"84679\",\"n\":\"Leticia\",\"a\":\"Muci\\\\u00f1o Mart\\\\u00ednez\",\"d\":\"FES Acatl\\\\u00e1n\",\"m\":\"4\",\"c\":\"9.2500\"},{\"i\":\"104703\",\"n\":\"Juan Guillermo\",\"a\":\"Munguia Fern\\\\u00e1ndez\",\"d\":\"Ciencias\",\"m\":\"0\",\"c\":null},{\"i\":\"89824\",\"n\":\"Leonardo\",\"a\":\"Mungu\\\\u00eda Hern\\\\u00e1ndez\",\"d\":\"Facultad de Ciencias Pol\\\\u00edticas y Sociales\",\"m\":\"2\",\"c\":\"7.5000\"},{\"i\":\"63656\",\"n\":\"angel\",\"a\":\"munguia salazar\",\"d\":\"fes aragon\",\"m\":\"3\",\"c\":\"7.3333\"},{\"i\":\"113403\",\"n\":\"angel\",\"a\":\"munguia salazar\",\"d\":\"derecho\",\"m\":\"3\",\"c\":\"10.0000\"},{\"i\":\"113254\",\"n\":\"Grecia sofia\",\"a\":\"Munibe\",\"d\":\"Facultad de Historia \",\"m\":\"0\",\"c\":null},{\"i\":\"55107\",\"n\":\"Ruben\",\"a\":\"Mu\\\\u00f1iz Arzate\",\"d\":\"FESI\",\"m\":\"9\",\"c\":\"9.6667\"},{\"i\":\"92357\",\"n\":\"JENNY JEANNETTE\",\"a\":\"MU\\\\u00d1OZ\",\"d\":\"MEJIA\",\"m\":\"0\",\"c\":null},{\"i\":\"35759\",\"n\":\"Mar\\\\u00eda de la Paz\",\"a\":\"Mu\\\\u00f1oz Aguilar\",\"d\":\"Ciencias Pol\\\\u00edticas \",\"m\":\"6\",\"c\":\"6.3333\"},{\"i\":\"14393\",\"n\":\"Francisco\",\"a\":\"Mu\\\\u00f1oz Apresa\",\"d\":\"Economia\",\"m\":\"4\",\"c\":\"10.0000\"},{\"i\":\"109629\",\"n\":\"\\\\u00d3scar Adri\\\\u00e1n\",\"a\":\"Mu\\\\u00f1oz Barrera\",\"d\":\"Ciencias de la Salud\",\"m\":\"10\",\"c\":\"3.7000\"},{\"i\":\"68740\",\"n\":\"rafael\",\"a\":\"mu\\\\u00f1oz fraga\",\"d\":\"Derecho\",\"m\":\"1\",\"c\":\"10.0000\"},{\"i\":\"153602\",\"n\":\"XOCHITL\",\"a\":\"MU\\\\u00d1OZ GARCIA\",\"d\":\"FESC\",\"m\":\"0\",\"c\":null},{\"i\":\"52833\",\"n\":\"MA. TERESA\",\"a\":\"MU\\\\u00d1OZ GARC\\\\u00cdA\",\"d\":\"FESC-C. ADMINISTRATIVAS\",\"m\":\"2\",\"c\":\"10.0000\"},{\"i\":\"161518\",\"n\":\"Rosa Jenifer\",\"a\":\"Mu\\\\u00f1oz G\\\\u00f3mez\",\"d\":\"Qu\\\\u00edmica\",\"m\":\"0\",\"c\":null},{\"i\":\"46407\",\"n\":\"GENARO\",\"a\":\"MU\\\\u00d1OZ HERNANDEZ\",\"d\":\"Ingenier\\\\u00eda \",\"m\":\"1\",\"c\":\"7.0000\"},{\"i\":\"111703\",\"n\":\"Bertha\",\"a\":\"Mu\\\\u00f1oz Lopez\",\"d\":\"economia fes acatlan\",\"m\":\"0\",\"c\":null},{\"i\":\"104099\",\"n\":\"Jes\\\\u00fas\",\"a\":\"Mu\\\\u00f1oz mendoza\",\"d\":\"Computo\",\"m\":\"0\",\"c\":null},{\"i\":\"150102\",\"n\":\"Erika\",\"a\":\"Mu\\\\u00f1oz Moral\",\"d\":\"Facultad de Ciencias UNAM \\\\/ Biolog\\\\u00eda\",\"m\":\"1\",\"c\":\"9.0000\"},{\"i\":\"15715\",\"n\":\"Raul\",\"a\":\"Mu\\\\u00f1oz Morales\",\"d\":\"economia\",\"m\":\"9\",\"c\":\"7.8889\"},{\"i\":\"80945\",\"n\":\"Gerardo\",\"a\":\"Mu\\\\u00f1oz Ramirez\",\"d\":\"Prepa 7\",\"m\":\"2\",\"c\":\"4.5000\"},{\"i\":\"40033\",\"n\":\"MA. TERESA\",\"a\":\"MU\\\\u00d1OZ S\\\\u00c1NCHEZ\",\"d\":\"FILOSOF\\\\u00cdA Y LETRAS\",\"m\":\"2\",\"c\":\"3.0000\"},{\"i\":\"160847\",\"n\":\"Salvador eloy\",\"a\":\"Mu\\\\u00f1u\",\"d\":\"Derecho\",\"m\":\"0\",\"c\":null},{\"i\":\"14518\",\"n\":\"Ciro\",\"a\":\"Murayama Rendon\",\"d\":\"Economia\",\"m\":\"70\",\"c\":\"7.4857\"},{\"i\":\"151451\",\"n\":\"Guillermina\",\"a\":\"Murgu\\\\u00eda S\\\\u00e1nchez\",\"d\":\"Ciencias\\\\/Biolog\\\\u00eda \",\"m\":\"0\",\"c\":null},{\"i\":\"137542\",\"n\":\"Davir\",\"a\":\"Muria\",\"d\":\"Ingenier\\\\u00eda \",\"m\":\"0\",\"c\":null},{\"i\":\"11252\",\"n\":\"Jaime H\\\\u00e9ctor\",\"a\":\"Murillo Quintero\",\"d\":\"Ingenier\\\\u00eda\",\"m\":\"3\",\"c\":\"3.3333\"},{\"i\":\"57596\",\"n\":\"Anita\",\"a\":\"Mutz\",\"d\":\"CELE Acatl\\\\u00e1n \\\\/ Alem\\\\u00e1n\",\"m\":\"3\",\"c\":\"4.6667\"},{\"i\":\"18239\",\"n\":\"Angelica\",\"a\":\"Nakayama Cervantes\",\"d\":\"Ingenieria\",\"m\":\"9\",\"c\":\"7.2222\"},{\"i\":\"153997\",\"n\":\"Sergio Emanuelle\",\"a\":\"N\\\\u00e1poles\",\"d\":\"Anatomia\",\"m\":\"2\",\"c\":\"10.0000\"},{\"i\":\"14581\",\"n\":\"Constantino\",\"a\":\"Naranjo Lara\",\"d\":\"Economia\",\"m\":\"8\",\"c\":\"8.7500\"},{\"i\":\"20888\",\"n\":\"Alfonso\",\"a\":\"Nava\",\"d\":\"Negrete\",\"m\":\"0\",\"c\":null},{\"i\":\"163528\",\"n\":\"Ana Luisa\",\"a\":\"Nava\",\"d\":\"Contadur\\\\u00eda y Administrativo nidtracion\",\"m\":\"1\",\"c\":\"2.0000\"},{\"i\":\"149633\",\"n\":\"ANGELICA ARACELI PONCE\",\"a\":\"NAVA ARAIZA\",\"d\":\" ARAIZA\",\"m\":\"4\",\"c\":\"9.5000\"},{\"i\":\"14582\",\"n\":\"Eduardo\",\"a\":\"Nava Diaz\",\"d\":\"Economia\",\"m\":\"15\",\"c\":\"4.6667\"},{\"i\":\"160229\",\"n\":\"Antonio\",\"a\":\"Nava Gomez\",\"d\":\"SUA Facultad de Derecho\",\"m\":\"4\",\"c\":\"3.2500\"},{\"i\":\"40899\",\"n\":\"ARTURO\",\"a\":\"NAVA MASTACHE\",\"d\":\"INGENIERIA\",\"m\":\"18\",\"c\":\"8.5000\"},{\"i\":\"20889\",\"n\":\"Alfonso\",\"a\":\"Nava Negrete\",\"d\":\"Derecho\",\"m\":\"28\",\"c\":\"8.7143\"},{\"i\":\"149766\",\"n\":\"Tlahuili\",\"a\":\"Nava Sarabia\",\"d\":\"CELE\\\\/UNAM\",\"m\":\"1\",\"c\":\"9.0000\"},{\"i\":\"163811\",\"n\":\"Anaid\",\"a\":\"Nava Vallejo\",\"d\":\"Preparatoria\",\"m\":\"0\",\"c\":null},{\"i\":\"17537\",\"n\":\"DANIEL\",\"a\":\"NAVARRETE\",\"d\":\"ECONOMIA\",\"m\":\"2\",\"c\":\"8.5000\"},{\"i\":\"147713\",\"n\":\"Yolanda\",\"a\":\"Navarrete\",\"d\":\"Derecho \",\"m\":\"1\",\"c\":\"8.0000\"},{\"i\":\"111484\",\"n\":\"Carlos Alberto\",\"a\":\"Navarrete Barajas\",\"d\":\"Facultad de Ciencias Pol\\\\u00edticas y Sociales\",\"m\":\"2\",\"c\":\"10.0000\"},{\"i\":\"14519\",\"n\":\"Karina\",\"a\":\"Navarrete Perez\",\"d\":\"Economia\",\"m\":\"15\",\"c\":\"5.8000\"},{\"i\":\"66973\",\"n\":\"Rebeca\",\"a\":\"NAVARRO BAJAR\",\"d\":\"Cele-franc\\\\u00e9s\",\"m\":\"2\",\"c\":\"8.5000\"},{\"i\":\"113447\",\"n\":\"Juliana V.\",\"a\":\"Navarro Lozano\",\"d\":\"\\\\u00c9tica \",\"m\":\"5\",\"c\":\"7.0000\"},{\"i\":\"99857\",\"n\":\"luz nohemi\",\"a\":\"navarro marquez\",\"d\":\"ENTS\",\"m\":\"1\",\"c\":\"10.0000\"},{\"i\":\"90864\",\"n\":\"JAIME\",\"a\":\"NAVARRO MEJIA\",\"d\":\"contaduria\",\"m\":\"1\",\"c\":\"8.0000\"},{\"i\":\"80304\",\"n\":\"PABLO\",\"a\":\"NAVARRO MOCTEZUMA\",\"d\":\"FES CUAUTITLAN \",\"m\":\"0\",\"c\":null},{\"i\":\"32039\",\"n\":\"RICARDO\",\"a\":\"NAVARRO REYNA\",\"d\":\"FCPS\",\"m\":\"37\",\"c\":\"7.1892\"},{\"i\":\"155329\",\"n\":\"Daniel\",\"a\":\"Navarro Santillan\",\"d\":\"Facultad de Ciencias\",\"m\":\"1\",\"c\":\"5.0000\"},{\"i\":\"118617\",\"n\":\"Bernardo\",\"a\":\"Navarro V\\\\u00e1squez\",\"d\":\"Facultad de ingenier\\\\u00eda\",\"m\":\"1\",\"c\":\"4.0000\"},{\"i\":\"84619\",\"n\":\"Francisco\",\"a\":\"Negrete Corona\",\"d\":\"Fes acatlan\",\"m\":\"6\",\"c\":\"5.5000\"},{\"i\":\"155458\",\"n\":\"Armando\",\"a\":\"Negrete Fern\\\\u00e1ndez\",\"d\":\"Facultad de Ciencias Pol\\\\u00edticas y Sociales \",\"m\":\"1\",\"c\":\"7.0000\"},{\"i\":\"155627\",\"n\":\"Mar\\\\u00eda Eugenia\",\"a\":\"Negr\\\\u00edn Mu\\\\u00f1oz\",\"d\":\"Filosof\\\\u00eda y Letras\",\"m\":\"0\",\"c\":null},{\"i\":\"149470\",\"n\":\"Jos\\\\u00e9 Antonio\",\"a\":\"Neme Castillo\",\"d\":\"IIMAS M\\\\u00e9rida\",\"m\":\"1\",\"c\":\"10.0000\"},{\"i\":\"102264\",\"n\":\"Patricia\",\"a\":\"Nevo\",\"d\":\"Administraci\\\\u00f3n\",\"m\":\"1\",\"c\":\"8.0000\"},{\"i\":\"122396\",\"n\":\"Jos\\\\u00e9 Humberto\",\"a\":\"Nicolini S\\\\u00e1nchez\",\"d\":\"Facultad de Psicologia\",\"m\":\"0\",\"c\":null},{\"i\":\"98949\",\"n\":\"Javier\",\"a\":\"Nieto\",\"d\":\"Psicolog\\\\u00eda \",\"m\":\"0\",\"c\":null},{\"i\":\"39012\",\"n\":\"Irma Gisela\",\"a\":\"Nieto Casta\\\\u00f1eda\",\"d\":\"FES Zaragoza\",\"m\":\"2\",\"c\":\"6.0000\"},{\"i\":\"78559\",\"n\":\"Diego\",\"a\":\"Nieto Fierro\",\"d\":\"Facultad de Ingenier\\\\u00eda \",\"m\":\"21\",\"c\":\"8.3333\"},{\"i\":\"98948\",\"n\":\"Javier\",\"a\":\"Nieto Guti\\\\u00e9rrez\",\"d\":\"Psicolog\\\\u00eda \",\"m\":\"0\",\"c\":null},{\"i\":\"155323\",\"n\":\"Luis Antonio\",\"a\":\"nieto ZACAR\\\\u00cdAS\",\"d\":\"Departamento \",\"m\":\"0\",\"c\":null},{\"i\":\"150125\",\"n\":\"Aurelio\",\"a\":\"Nieves\",\"d\":\"Historia\",\"m\":\"0\",\"c\":null},{\"i\":\"114172\",\"n\":\"Jos\\\\u00e9 Luis\",\"a\":\"Nieves Bueno\",\"d\":\"FCPyS\",\"m\":\"4\",\"c\":\"4.5000\"},{\"i\":\"127883\",\"n\":\"Esa\\\\u00fa\",\"a\":\"Ni\\\\u00f1o Guti\\\\u00e9rrez\",\"d\":\"Geograf\\\\u00eda \",\"m\":\"9\",\"c\":\"9.4444\"},{\"i\":\"97529\",\"n\":\"Hector\",\"a\":\"Nochebuena miranda\",\"d\":\"Facultad de medicina \",\"m\":\"1\",\"c\":\"9.0000\"},{\"i\":\"101014\",\"n\":\"Zenon\",\"a\":\"Nolasco Jimenez\",\"d\":\"ENP 8\",\"m\":\"1\",\"c\":\"3.0000\"},{\"i\":\"101013\",\"n\":\"Zenon\",\"a\":\"Nolasco Jimenez\",\"d\":\"Matem\\\\u00e1ticas prepa 8\",\"m\":\"2\",\"c\":\"3.5000\"},{\"i\":\"54651\",\"n\":\"adrian\",\"a\":\"nonato\",\"d\":\"ingenieria\",\"m\":\"2\",\"c\":\"6.0000\"},{\"i\":\"15550\",\"n\":\"Monica\",\"a\":\"Nosedal\",\"d\":\"Arquitectura\",\"m\":\"2\",\"c\":\"9.5000\"},{\"i\":\"50167\",\"n\":\"Ana Bertha\",\"a\":\"Nova Covarrubias\",\"d\":\"prepa 1\",\"m\":\"7\",\"c\":\"7.2857\"},{\"i\":\"63792\",\"n\":\"patricia\",\"a\":\"nova covarrubias\",\"d\":\"facultad de contaduria y administracion\",\"m\":\"14\",\"c\":\"5.7857\"},{\"i\":\"152740\",\"n\":\"Mario\",\"a\":\"Novoa\",\"d\":\"Fca\",\"m\":\"0\",\"c\":null},{\"i\":\"125116\",\"n\":\"Cynthia Sinai\",\"a\":\"Novoa Ramirez\",\"d\":\"Facultad de Qu\\\\u00edmica UNAM\",\"m\":\"4\",\"c\":\"9.7500\"},{\"i\":\"33984\",\"n\":\"Arturo\",\"a\":\"Noyola\",\"d\":\"Filosof\\\\u00eda y letras\",\"m\":\"21\",\"c\":\"5.1905\"},{\"i\":\"125813\",\"n\":\"felix\",\"a\":\"nunez orozco\",\"d\":\"ingenieria\",\"m\":\"0\",\"c\":null},{\"i\":\"151555\",\"n\":\"Marco Aurelio\",\"a\":\"Nu\\\\u00f1ez\",\"d\":\"Prepa 2\",\"m\":\"1\",\"c\":\"10.0000\"},{\"i\":\"117442\",\"n\":\"Bernardo\",\"a\":\"Nu\\\\u00f1ez\",\"d\":\"Enp 6\",\"m\":\"1\",\"c\":\"5.0000\"},{\"i\":\"157681\",\"n\":\"Rafael\",\"a\":\"Nu\\\\u00f1ez\",\"d\":\"Lopez\",\"m\":\"0\",\"c\":null},{\"i\":\"161208\",\"n\":\"PABLO\",\"a\":\"NU\\\\u00d1EZ AYALA\",\"d\":\"Cuautitlan\",\"m\":\"0\",\"c\":null},{\"i\":\"151286\",\"n\":\"Edgar\",\"a\":\"N\\\\u00fa\\\\u00f1ez Balderas\",\"d\":\"Fescuautitlan \",\"m\":\"0\",\"c\":null},{\"i\":\"149591\",\"n\":\"karla emir\",\"a\":\"nu\\\\u00f1ez gonzalez\",\"d\":\"FCA\",\"m\":\"0\",\"c\":null},{\"i\":\"23985\",\"n\":\"sergio horacio\",\"a\":\"nu\\\\u00f1ez medina\",\"d\":\"economia cuantitativas\",\"m\":\"4\",\"c\":\"4.0000\"},{\"i\":\"14394\",\"n\":\"Sergio Horacio\",\"a\":\"N\\\\u00fa\\\\u00f1ez Medina\",\"d\":\"Economia\",\"m\":\"28\",\"c\":\"3.8571\"},{\"i\":\"124094\",\"n\":\"Griselda\",\"a\":\"N\\\\u00fa\\\\u00f1ez N\\\\u00fa\\\\u00f1ez\",\"d\":\"Facultad de ingenier\\\\u00eda\",\"m\":\"3\",\"c\":\"8.6667\"},{\"i\":\"15411\",\"n\":\"Felix \",\"a\":\"Nu\\\\u00f1ez Orozco\",\"d\":\"Ingenieria\",\"m\":\"74\",\"c\":\"7.3649\"},{\"i\":\"113396\",\"n\":\"Sergio Julio\",\"a\":\"N\\\\u00fa\\\\u00f1ez Solano\",\"d\":\"Seguridad, Salud y Medio Ambiente\",\"m\":\"1\",\"c\":\"10.0000\"},{\"i\":\"14395\",\"n\":\"Rafael\",\"a\":\"N\\\\u00fa\\\\u00f1ez Z\\\\u00fa\\\\u00f1iga\",\"d\":\"Economia\",\"m\":\"41\",\"c\":\"3.7805\"},{\"i\":\"15777\",\"n\":\"Sara Elba\",\"a\":\"Nu\\\\u00f1o D\\\\u00edaz\",\"d\":\"Econom\\\\u00eda\",\"m\":\"0\",\"c\":null},{\"i\":\"133935\",\"n\":\"Ixoye Israel\",\"a\":\"Ocampo Figueroa\",\"d\":\"Facultad de Contadur\\\\u00eda y Administraci\\\\u00f3n\",\"m\":\"2\",\"c\":\"5.0000\"},{\"i\":\"14437\",\"n\":\"Nashelly\",\"a\":\"Ocampo Figueroa\",\"d\":\"Economia\",\"m\":\"13\",\"c\":\"8.2308\"},{\"i\":\"114333\",\"n\":\"Norma Angelica\",\"a\":\"Ocampo Mendoza\",\"d\":\"Facultad de ciencias pol\\\\u00edticas y sociales \",\"m\":\"0\",\"c\":null},{\"i\":\"152585\",\"n\":\"Rodrigo Eduardo\",\"a\":\"Ocampo Merlo\",\"d\":\"Ciencias Pol\\\\u00edticas y Sociales\",\"m\":\"0\",\"c\":null},{\"i\":\"153164\",\"n\":\"RODRIGO EDUARDO\",\"a\":\"OCAMPO MERLO\",\"d\":\"FACULTAD DE CIENCIAS POLITICAS Y SOCIALES\",\"m\":\"1\",\"c\":\"6.0000\"},{\"i\":\"124452\",\"n\":\"Jorge aurelio\",\"a\":\"Ocha morales\",\"d\":\"Ciencias politicas y sociales\",\"m\":\"0\",\"c\":null},{\"i\":\"135594\",\"n\":\"DAVID ROMAN\",\"a\":\"OCHOA LE\\\\u00d3N\",\"d\":\"ECONOM\\\\u00cdA\",\"m\":\"4\",\"c\":\"9.0000\"},{\"i\":\"14485\",\"n\":\"Cuauhtemoc\",\"a\":\"Ochoa Moreno\",\"d\":\"Economia\",\"m\":\"4\",\"c\":\"4.7500\"},{\"i\":\"131001\",\"n\":\"Elsa margarita\",\"a\":\"Olea\",\"d\":\"Espinosa\",\"m\":\"0\",\"c\":null},{\"i\":\"71723\",\"n\":\"rafael\",\"a\":\"olea franco\",\"d\":\"hisp\\\\u00e1nicas \\\\/ filosof\\\\u00eda y letras\",\"m\":\"1\",\"c\":\"2.0000\"},{\"i\":\"15113\",\"n\":\"Gabriela\",\"a\":\"Olgu\\\\u00edn\",\"d\":\"Medicina\",\"m\":\"3\",\"c\":\"2.0000\"},{\"i\":\"140255\",\"n\":\"Maurice\",\"a\":\"Oliva Leyva\",\"d\":\"Facultad de Ciencias (F\\\\u00edsica)\",\"m\":\"4\",\"c\":\"4.5000\"},{\"i\":\"68416\",\"n\":\"H\\\\u00e9ctor Alonso\",\"a\":\"Olivares Aguayo\",\"d\":\"FES ACATL\\\\u00c1N\",\"m\":\"2\",\"c\":\"8.0000\"},{\"i\":\"122744\",\"n\":\"Manuel\",\"a\":\"Olivares Becerril\",\"d\":\"Prepa 2\",\"m\":\"3\",\"c\":\"5.0000\"},{\"i\":\"79169\",\"n\":\"Hugo\",\"a\":\"Olivares Cornejo\",\"d\":\"FCPyS\",\"m\":\"1\",\"c\":\"10.0000\"},{\"i\":\"45363\",\"n\":\"LUIS MANUEL\",\"a\":\"OLIVARES ESTRADA\",\"d\":\"DERECHO\",\"m\":\"5\",\"c\":\"8.4000\"},{\"i\":\"156001\",\"n\":\"Julio Cesar\",\"a\":\"Olivares Flores\",\"d\":\"Derecho \",\"m\":\"5\",\"c\":\"7.4000\"},{\"i\":\"105397\",\"n\":\"I.Q. JONATHAN RODRIGO\",\"a\":\"OLIVARES HERNANDEZ\",\"d\":\"FACULTAD DE INGENIER\\\\u00cdA\",\"m\":\"26\",\"c\":\"9.1923\"},{\"i\":\"140942\",\"n\":\"Juan\",\"a\":\"Olivares islas\",\"d\":\"FCPYS\",\"m\":\"0\",\"c\":null},{\"i\":\"139298\",\"n\":\"Ulises\",\"a\":\"Olivares Pinto\",\"d\":\"INTELIGENCIA ARTIFICIAL\",\"m\":\"2\",\"c\":\"8.5000\"},{\"i\":\"155650\",\"n\":\"Yolotsi de jesus\",\"a\":\"Olivares rosales\",\"d\":\"Trabajo social\",\"m\":\"0\",\"c\":null},{\"i\":\"150039\",\"n\":\"Landy\",\"a\":\"Olivares Ruiz\",\"d\":\"Derecho\\\\/Derecho Agrario\",\"m\":\"3\",\"c\":\"10.0000\"},{\"i\":\"108741\",\"n\":\"Roc\\\\u00edo\",\"a\":\"Olivares Zorrilla\",\"d\":\"Facultad de Ingenier\\\\u00eda \\\\/ filosofa y letras\",\"m\":\"7\",\"c\":\"9.4286\"},{\"i\":\"156141\",\"n\":\"Andr\\\\u00e9s\",\"a\":\"Oliver Barrag\\\\u00e1n\",\"d\":\"Facultad de Arquitectura\",\"m\":\"5\",\"c\":\"9.6000\"},{\"i\":\"66114\",\"n\":\"Ma. del Carmen\",\"a\":\"Olivera\",\"d\":\"Matem\\\\u00e1ticas\",\"m\":\"2\",\"c\":\"2.5000\"},{\"i\":\"93087\",\"n\":\"Mar\\\\u00eda del Carmen\",\"a\":\"Olivera Martinez\",\"d\":\"CCH ORIENTE PROFESORA DE MATEM\\\\u00c1TICAS \",\"m\":\"0\",\"c\":null},{\"i\":\"93088\",\"n\":\"Mar\\\\u00eda del Carmen\",\"a\":\"Olivera Martinez\",\"d\":\"CCH Oriente  \",\"m\":\"1\",\"c\":\"2.0000\"},{\"i\":\"54158\",\"n\":\"VICTOR HUGO\",\"a\":\"OLMEDO CANCHOLA\",\"d\":\"MEDICINA\",\"m\":\"8\",\"c\":\"9.5000\"},{\"i\":\"18381\",\"n\":\"Maria de Lourdes\",\"a\":\"Olmedo Cruz\",\"d\":\"Economia\",\"m\":\"6\",\"c\":\"5.3333\"},{\"i\":\"156694\",\"n\":\"Fabiola\",\"a\":\"Olvera Aldana\",\"d\":\"FCPyS \",\"m\":\"0\",\"c\":null},{\"i\":\"107926\",\"n\":\"Valeria\",\"a\":\"Olvera Alvarado\",\"d\":\"FCPyS\",\"m\":\"2\",\"c\":\"6.0000\"},{\"i\":\"107925\",\"n\":\"Valeria\",\"a\":\"Olvera Alvarado\",\"d\":\"FCPyS- Turismo Internacional\",\"m\":\"2\",\"c\":\"6.0000\"},{\"i\":\"49465\",\"n\":\"Hugo Jes\\\\u00fas\",\"a\":\"Olvera Garc\\\\u00eda\",\"d\":\"Biolog\\\\u00eda\",\"m\":\"4\",\"c\":\"10.0000\"},{\"i\":\"141867\",\"n\":\"Rosa Mar\\\\u00eda\",\"a\":\"Olvera Medina\",\"d\":\"Fesc\",\"m\":\"0\",\"c\":null},{\"i\":\"105290\",\"n\":\"Julio Francisco\",\"a\":\"Olvera S\\\\u00e1nchez\",\"d\":\"Psicolog\\\\u00eda\",\"m\":\"1\",\"c\":\"10.0000\"},{\"i\":\"14933\",\"n\":\"Mar\\\\u00eda de los Angeles\",\"a\":\"Olvera Trevi\\\\u00f1o\",\"d\":\"Fac. Qu\\\\u00edmica\",\"m\":\"10\",\"c\":\"5.0000\"},{\"i\":\"152703\",\"n\":\"Erika\",\"a\":\"Olvera Valencia\",\"d\":\"Facultad de Ciencias\",\"m\":\"1\",\"c\":\"8.0000\"},{\"i\":\"160529\",\"n\":\"Jorge\",\"a\":\"Olvera V\\\\u00e1zquez\",\"d\":\"FES Acatl\\\\u00e1n\",\"m\":\"0\",\"c\":null},{\"i\":\"135853\",\"n\":\"Jimena\",\"a\":\"Olveres Montiel\",\"d\":\"Procesamiento de Se\\\\u00f1ales\",\"m\":\"1\",\"c\":\"8.0000\"},{\"i\":\"158994\",\"n\":\"Maetzin Itzel\",\"a\":\"Ordaz Carrillo\",\"d\":\"Psicolog\\\\u00eda\\\\/ Residencia en Medicina Condutual \",\"m\":\"0\",\"c\":null},{\"i\":\"72323\",\"n\":\"Mar\\\\u00eda Guadalupe\",\"a\":\"Ordaz T\\\\u00e9llez\",\"d\":\"BIOLOGIA\",\"m\":\"0\",\"c\":null},{\"i\":\"19386\",\"n\":\"Ma. de Jes\\\\u00fas\",\"a\":\"Ordo\\\\u00f1ez\",\"d\":\"Ciencias\",\"m\":\"1\",\"c\":\"2.0000\"},{\"i\":\"63340\",\"n\":\"EDGAR OMAR\",\"a\":\"ORDO\\\\u00d1EZ GALINDO\",\"d\":\"IDIOMAS\",\"m\":\"0\",\"c\":null},{\"i\":\"149368\",\"n\":\"Martin\",\"a\":\"Ordo\\\\u00f1ez Rosales\",\"d\":\"FES Arag\\\\u00f3n\",\"m\":\"0\",\"c\":null},{\"i\":\"16835\",\"n\":\"Oscar Vladimir\",\"a\":\"Ordu\\\\u00f1a Trujillo\",\"d\":\"Psicolog\\\\u00eda\",\"m\":\"19\",\"c\":\"9.5263\"},{\"i\":\"80489\",\"n\":\"JUAN GERARDO\",\"a\":\"ORELLANA JUAREZ\",\"d\":\"ESTUDIOS POLITICOS Y SOCIALES\",\"m\":\"3\",\"c\":\"7.6667\"},{\"i\":\"158669\",\"n\":\"Francisco Antonio\",\"a\":\"Orihuela Ram\\\\u00edrez\",\"d\":\"Facultad de Arquitectura\",\"m\":\"1\",\"c\":\"9.0000\"},{\"i\":\"164244\",\"n\":\"Banyuly\",\"a\":\"Ornelas Arrieta\",\"d\":\"Azcapotzalco \",\"m\":\"1\",\"c\":\"2.0000\"},{\"i\":\"149893\",\"n\":\"domancar\",\"a\":\"orona\",\"d\":\"agrogenomicas\",\"m\":\"0\",\"c\":null},{\"i\":\"14438\",\"n\":\"Jos\\\\u00e9 Tomas\",\"a\":\"Oropeza Berumen\",\"d\":\"Economia\",\"m\":\"24\",\"c\":\"2.9167\"},{\"i\":\"11253\",\"n\":\"Tom\\\\u00e1s\",\"a\":\"Oropeza Berumen\",\"d\":\"Econom\\\\u00eda\",\"m\":\"5\",\"c\":\"4.0000\"},{\"i\":\"151959\",\"n\":\"Mario Javier\",\"a\":\"Orozco\",\"d\":\"Doctorado en matem\\\\u00e1ticas \",\"m\":\"0\",\"c\":null},{\"i\":\"17201\",\"n\":\"Alejandra\",\"a\":\"Orozco\",\"d\":\"Econom\\\\u00eda\",\"m\":\"3\",\"c\":\"2.0000\"},{\"i\":\"151842\",\"n\":\"Ernesto\",\"a\":\"Orozco\",\"d\":\"Ffyl\",\"m\":\"0\",\"c\":null},{\"i\":\"84087\",\"n\":\"Judith\",\"a\":\"Orozco Abad\",\"d\":\"Filosofia y letras\",\"m\":\"0\",\"c\":null},{\"i\":\"105278\",\"n\":\"Felipe\",\"a\":\"Orozco Covarrubias\",\"d\":\"FCA\",\"m\":\"4\",\"c\":\"9.5000\"},{\"i\":\"88882\",\"n\":\"Alejandro\",\"a\":\"Orrico G\\\\u00e1lvez\",\"d\":\"Facultad de Derecho\",\"m\":\"1\",\"c\":\"8.0000\"},{\"i\":\"105393\",\"n\":\"EDUARDO\",\"a\":\"ortega\",\"d\":\"contaduria\",\"m\":\"0\",\"c\":null},{\"i\":\"79273\",\"n\":\"LINA ZYTHELLA\",\"a\":\"ORTEGA  OJEDA\",\"d\":\"FES Acatlan\",\"m\":\"2\",\"c\":\"5.5000\"},{\"i\":\"154034\",\"n\":\"Ana Gabriela\",\"a\":\"Ortega Alvarado\",\"d\":\"facultad de ciencias\",\"m\":\"1\",\"c\":\"4.0000\"},{\"i\":\"124024\",\"n\":\"Israel\",\"a\":\"Ortega Casillas\",\"d\":\"Facultad de Ingenier\\\\u00eda\",\"m\":\"0\",\"c\":null},{\"i\":\"149215\",\"n\":\"German\",\"a\":\"Ortega Ch\\\\u00e1vez\",\"d\":\"Facultad de Arquitectura \",\"m\":\"0\",\"c\":null},{\"i\":\"155420\",\"n\":\"enrique\",\"a\":\"ortega correa\",\"d\":\"unam\",\"m\":\"0\",\"c\":null},{\"i\":\"111739\",\"n\":\"Leonor\",\"a\":\"Ortega Gutierrez\",\"d\":\"cch azcapotzalco\",\"m\":\"4\",\"c\":\"8.0000\"},{\"i\":\"86477\",\"n\":\"Elvira Haidee\",\"a\":\"Ortega Lara\",\"d\":\"FesC campo 4\",\"m\":\"1\",\"c\":\"2.0000\"},{\"i\":\"162061\",\"n\":\"Gustavo Jes\\\\u00fas\",\"a\":\"Ortega lule\",\"d\":\"Ciencias Biolog\\\\u00eda \",\"m\":\"1\",\"c\":\"4.0000\"},{\"i\":\"154398\",\"n\":\"Miguel Angel\",\"a\":\"Ortega Mu\\\\u00f1oz\",\"d\":\"Facultad de Derecho\\\\/ UNAM\",\"m\":\"1\",\"c\":\"8.0000\"},{\"i\":\"73787\",\"n\":\"Norma Mar\\\\u00eda de Jes\\\\u00fas\",\"a\":\"Ortega Sarabia\",\"d\":\"Facultad de Filosof\\\\u00eda y letras\\\\/ Geograf\\\\u00eda\",\"m\":\"8\",\"c\":\"4.5000\"},{\"i\":\"147968\",\"n\":\"H\\\\u00e9ctor\",\"a\":\"Ortega zapata\",\"d\":\"Ciencias pol\\\\u00edticas\",\"m\":\"0\",\"c\":null},{\"i\":\"61097\",\"n\":\"Isaac\",\"a\":\"Ortigoza Su\\\\u00e1rez\",\"d\":\"Facultad de Estudios Superiores Acatlan\",\"m\":\"1\",\"c\":\"10.0000\"},{\"i\":\"19169\",\"n\":\"tania\",\"a\":\"ortiz\",\"d\":\"unam cele\",\"m\":\"1\",\"c\":\"2.0000\"},{\"i\":\"114898\",\"n\":\"Dulce\",\"a\":\"Ortiz\",\"d\":\"Idioma\",\"m\":\"1\",\"c\":\"6.0000\"},{\"i\":\"155302\",\"n\":\"jose clemente orozco\",\"a\":\"ortiz\",\"d\":\"Medicina\",\"m\":\"0\",\"c\":null},{\"i\":\"155565\",\"n\":\"magdalena\",\"a\":\"ortiz\",\"d\":\"ents\",\"m\":\"0\",\"c\":null},{\"i\":\"132372\",\"n\":\"Pilar\",\"a\":\"Ortiz\",\"d\":\"Lopez\",\"m\":\"1\",\"c\":\"10.0000\"},{\"i\":\"135917\",\"n\":\"Jose Luis\",\"a\":\"Ortiz Camargo\",\"d\":\"Fisica Prepa 8\",\"m\":\"5\",\"c\":\"9.2000\"},{\"i\":\"15258\",\"n\":\"Adriana\",\"a\":\"Ortiz Castro\",\"d\":\"Qu\\\\u00edmica\",\"m\":\"1\",\"c\":\"6.0000\"},{\"i\":\"18863\",\"n\":\"Tania\",\"a\":\"ORTIZ GALICIA\",\"d\":\"CELE-UNAM\",\"m\":\"11\",\"c\":\"6.6364\"},{\"i\":\"132373\",\"n\":\"Pilar\",\"a\":\"Ort\\\\u00edz L\\\\u00f3pez\",\"d\":\"Preparatoria 1\",\"m\":\"4\",\"c\":\"8.0000\"},{\"i\":\"164474\",\"n\":\"Gilary\",\"a\":\"Ortiz Miramontes\",\"d\":\"FES Acatl\\\\u00e1n\",\"m\":\"1\",\"c\":\"6.0000\"},{\"i\":\"113415\",\"n\":\"Iliana\",\"a\":\"Ortiz Montero\",\"d\":\"gertrudiz Sanches\",\"m\":\"1\",\"c\":\"8.0000\"},{\"i\":\"136972\",\"n\":\"Salvador\",\"a\":\"Ortiz Montero\",\"d\":\"Trabajo social\",\"m\":\"0\",\"c\":null},{\"i\":\"153656\",\"n\":\"Valente\",\"a\":\"Ortiz Mu\\\\u00f1iz\",\"d\":\"ENP 7 L\\\\u00f3gica \",\"m\":\"2\",\"c\":\"2.5000\"},{\"i\":\"66884\",\"n\":\"Victor Manuel\",\"a\":\"Ortiz Ni\\\\u00f1o\",\"d\":\"Econom\\\\u00eda\",\"m\":\"3\",\"c\":\"9.3333\"},{\"i\":\"14396\",\"n\":\"Juan Marcos\",\"a\":\"Ortiz Olvera\",\"d\":\"Economia\",\"m\":\"54\",\"c\":\"4.3333\"},{\"i\":\"117265\",\"n\":\"Alejandro\",\"a\":\"Ortiz osorno\",\"d\":\"Quimica\",\"m\":\"0\",\"c\":null},{\"i\":\"113414\",\"n\":\"Mar\\\\u00eda Soledad\",\"a\":\"Ortiz Ponce\",\"d\":\"Arte y dise\\\\u00f1o\",\"m\":\"0\",\"c\":null},{\"i\":\"113413\",\"n\":\"Marisol\",\"a\":\"Ortiz Ponce\",\"d\":\"Arte y dise\\\\u00f1o\",\"m\":\"0\",\"c\":null},{\"i\":\"15287\",\"n\":\"Armando\",\"a\":\"Ortiz Prado\",\"d\":\"Ingenie\\\\u00eda\",\"m\":\"23\",\"c\":\"6.8696\"},{\"i\":\"142890\",\"n\":\"Mar\\\\u00eda Elena\",\"a\":\"Ortiz Ramirez\",\"d\":\"FES Acatlan\",\"m\":\"3\",\"c\":\"3.3333\"},{\"i\":\"94951\",\"n\":\"H\\\\u00e9ctor Miguel\",\"a\":\"Ort\\\\u00edz Rangel\",\"d\":\"Facultad de Ciencias\",\"m\":\"22\",\"c\":\"7.6818\"},{\"i\":\"18969\",\"n\":\"alicia\",\"a\":\"ortiz rivera\",\"d\":\"FCPYS\",\"m\":\"0\",\"c\":null},{\"i\":\"14982\",\"n\":\"Mar\\\\u00eda Elena\",\"a\":\"Ortiz Salinas\",\"d\":\"Psicolog\\\\u00eda\",\"m\":\"4\",\"c\":\"7.7500\"},{\"i\":\"14397\",\"n\":\"Oscar Luis\",\"a\":\"Ortiz Soto\",\"d\":\"Economia\",\"m\":\"7\",\"c\":\"7.0000\"},{\"i\":\"111638\",\"n\":\"Juan Manuel\",\"a\":\"Ortiz Tellez\",\"d\":\"Derecho \",\"m\":\"0\",\"c\":null},{\"i\":\"102872\",\"n\":\"Dalia del Carmen Josefa\",\"a\":\"Ortiz Zamora\",\"d\":\"Ingenier\\\\u00eda\\\\/Geolog\\\\u00eda\",\"m\":\"1\",\"c\":\"5.0000\"},{\"i\":\"83968\",\"n\":\"Juan Carlos\",\"a\":\"Osorio Barrera\",\"d\":\"FES Acatl\\\\u00e1n\",\"m\":\"4\",\"c\":\"10.0000\"},{\"i\":\"42292\",\"n\":\"Edgar Arturo\",\"a\":\"Osorio Betancour\",\"d\":\"Econom\\\\u00eda\",\"m\":\"6\",\"c\":\"6.1667\"},{\"i\":\"149839\",\"n\":\"HERMELINDA\",\"a\":\"OSORIO CARRANZA\",\"d\":\"Acatlan comunicacion\",\"m\":\"0\",\"c\":null},{\"i\":\"119767\",\"n\":\"Arturo\",\"a\":\"Osorio Flores\",\"d\":\"Enp 8\",\"m\":\"0\",\"c\":null},{\"i\":\"26723\",\"n\":\"orlando\",\"a\":\"osorio mu\\\\u00f1os\",\"d\":\"prepa 2\",\"m\":\"1\",\"c\":\"2.0000\"},{\"i\":\"161874\",\"n\":\"MIREYA\",\"a\":\"OSORIO PALACIOS\",\"d\":\"Facultad de Ingenieria\",\"m\":\"1\",\"c\":\"8.0000\"},{\"i\":\"52606\",\"n\":\"Jaime\",\"a\":\"Osorio Rosales\",\"d\":\"Facultad de Ciencias\",\"m\":\"4\",\"c\":\"10.0000\"},{\"i\":\"162050\",\"n\":\"Carmen Rosario\",\"a\":\"Osornio Castillo\",\"d\":\"CCH Vallejo\",\"m\":\"2\",\"c\":\"3.0000\"},{\"i\":\"14520\",\"n\":\"Celia Guadalupe\",\"a\":\"Osorno Ruiz\",\"d\":\"Economia\",\"m\":\"27\",\"c\":\"8.0000\"},{\"i\":\"14976\",\"n\":\"Feggy\",\"a\":\"Ostrosky Shejet\",\"d\":\"Psicolog\\\\u00eda\",\"m\":\"19\",\"c\":\"9.1579\"},{\"i\":\"157548\",\"n\":\"Ricardo\",\"a\":\"Ovalle\",\"d\":\"Ciencias politicas\",\"m\":\"0\",\"c\":null},{\"i\":\"155658\",\"n\":\"David\",\"a\":\"Ovando Fuentes\",\"d\":\"FMVZ\",\"m\":\"2\",\"c\":\"7.5000\"},{\"i\":\"61700\",\"n\":\"Abelardo\",\"a\":\"Ozcanga\",\"d\":\"FCA\",\"m\":\"1\",\"c\":\"2.0000\"},{\"i\":\"61699\",\"n\":\"Abelardo\",\"a\":\"Ozcanga\",\"d\":\"TICs II\",\"m\":\"0\",\"c\":null},{\"i\":\"26440\",\"n\":\"Mariana\",\"a\":\"Ozuna Casta\\\\u00f1eda\",\"d\":\"Filosof\\\\u00eda y Letras\\\\/Lengua y Literaturas Hisp\\\\u00e1nicas\",\"m\":\"39\",\"c\":\"7.3077\"},{\"i\":\"115318\",\"n\":\"Martin\",\"a\":\"Pablo Santiago\",\"d\":\"Departamento\",\"m\":\"1\",\"c\":\"10.0000\"},{\"i\":\"77356\",\"n\":\"Alan\",\"a\":\"Pacchiano\",\"d\":\"Universidad IPETH\",\"m\":\"1\",\"c\":\"10.0000\"},{\"i\":\"111186\",\"n\":\"victor\",\"a\":\"pacheco aldana\",\"d\":\"preparatoria\",\"m\":\"1\",\"c\":\"10.0000\"},{\"i\":\"83222\",\"n\":\"No\\\\u00e9\",\"a\":\"Pacheco Coronel\",\"d\":\"Ciencias\",\"m\":\"4\",\"c\":\"8.7500\"},{\"i\":\"76356\",\"n\":\"Daniel Alejandro\",\"a\":\"Pacheco Rojas\",\"d\":\"Facultad de Econom\\\\u00eda\",\"m\":\"68\",\"c\":\"9.2353\"},{\"i\":\"161517\",\"n\":\"Luz elena\",\"a\":\"Padierna espinoza\",\"d\":\"Ciencias pol\\\\u00edticas y sociales\",\"m\":\"1\",\"c\":\"4.0000\"},{\"i\":\"161562\",\"n\":\"Liz\",\"a\":\"Padilla\",\"d\":\"Fes acatlan\",\"m\":\"0\",\"c\":null},{\"i\":\"162470\",\"n\":\"Diana\",\"a\":\"Padilla Avi\\\\u00f1a\",\"d\":\"Posgrado UNAM arquitectura \",\"m\":\"0\",\"c\":null},{\"i\":\"70634\",\"n\":\"Minerva Adriana\",\"a\":\"Padilla Cano\",\"d\":\"Enp 3 , Enp 7\",\"m\":\"15\",\"c\":\"8.2000\"},{\"i\":\"14990\",\"n\":\"Natalia\",\"a\":\"Padilla Corcuera\",\"d\":\"Psicolog\\\\u00eda\",\"m\":\"1\",\"c\":\"9.0000\"},{\"i\":\"156949\",\"n\":\"Kira\",\"a\":\"Padilla Mart\\\\u00ednez\",\"d\":\"Qu\\\\u00edmica \",\"m\":\"2\",\"c\":\"4.5000\"},{\"i\":\"107967\",\"n\":\"Javier\",\"a\":\"Padilla Robles\",\"d\":\"ENP 4\",\"m\":\"1\",\"c\":\"9.0000\"},{\"i\":\"104757\",\"n\":\"juan carlos\",\"a\":\"paez\",\"d\":\"acatlan\",\"m\":\"0\",\"c\":null},{\"i\":\"155959\",\"n\":\"Ricardo Daniel\",\"a\":\"Paez Lopez\",\"d\":\"Quimica \",\"m\":\"0\",\"c\":null},{\"i\":\"163587\",\"n\":\"Victoria Andrea\",\"a\":\"Palacios\",\"d\":\"Medicina \",\"m\":\"0\",\"c\":null},{\"i\":\"152168\",\"n\":\"V\\\\u00edctor Manuel\",\"a\":\"Palacios\",\"d\":\"Aguilar \",\"m\":\"0\",\"c\":null},{\"i\":\"109461\",\"n\":\"Fabian\",\"a\":\"Palacios carbajal\",\"d\":\"Fac ingenieria \",\"m\":\"4\",\"c\":\"10.0000\"},{\"i\":\"14583\",\"n\":\"Maria De Los Angeles\",\"a\":\"Palacios Escobar\",\"d\":\"Economia\",\"m\":\"8\",\"c\":\"8.8750\"},{\"i\":\"157023\",\"n\":\"Arturo\",\"a\":\"Palacios Mej\\\\u00eda\",\"d\":\"FES Cuautitl\\\\u00e1n\",\"m\":\"2\",\"c\":\"10.0000\"},{\"i\":\"58099\",\"n\":\"margarita\",\"a\":\"palacios sierra\",\"d\":\"\",\"m\":\"9\",\"c\":\"3.7778\"},{\"i\":\"155844\",\"n\":\"ANDREA MONSERRAT\",\"a\":\"PALACIOS SOTO\",\"d\":\"FCPyS\",\"m\":\"2\",\"c\":\"3.5000\"},{\"i\":\"163403\",\"n\":\"Jos\\\\u00e9 Ignacio\",\"a\":\"Palencia\",\"d\":\"Filosof\\\\u00eda y letras \",\"m\":\"0\",\"c\":null},{\"i\":\"125582\",\"n\":\"Victor\",\"a\":\"Palma\",\"d\":\"Facultad de Ingenier\\\\u00eda \",\"m\":\"0\",\"c\":null},{\"i\":\"42611\",\"n\":\"gabriela\",\"a\":\"palma\",\"d\":\"arquitectura\",\"m\":\"1\",\"c\":\"2.0000\"},{\"i\":\"135174\",\"n\":\"Darahi\",\"a\":\"Palma\",\"d\":\"Derecho \",\"m\":\"0\",\"c\":null},{\"i\":\"163612\",\"n\":\"Fernando\",\"a\":\"Palma Galv\\\\u00e1n\",\"d\":\"Fes Aragon\",\"m\":\"0\",\"c\":null},{\"i\":\"111599\",\"n\":\"Dzoara\",\"a\":\"Palma Maya\",\"d\":\"facultad de ingenier\\\\u00eda \",\"m\":\"21\",\"c\":\"4.4286\"},{\"i\":\"39671\",\"n\":\"OLGA\",\"a\":\"PALMA MENDEZ\",\"d\":\"\",\"m\":\"0\",\"c\":null},{\"i\":\"144640\",\"n\":\"Virginia\",\"a\":\"Palma Padilla\",\"d\":\"Medicina\",\"m\":\"0\",\"c\":null},{\"i\":\"159923\",\"n\":\"Manuel\",\"a\":\"Palma Rangel\",\"d\":\"Economia\",\"m\":\"0\",\"c\":null},{\"i\":\"150211\",\"n\":\"H\\\\u00e9ctor\",\"a\":\"Palomino Salinas\",\"d\":\"Iniciaci\\\\u00f3n\",\"m\":\"1\",\"c\":\"8.0000\"},{\"i\":\"14919\",\"n\":\"Jorge Federico\",\"a\":\"Paniagua Ballinas\",\"d\":\"Ingenieria\",\"m\":\"22\",\"c\":\"6.9091\"},{\"i\":\"53181\",\"n\":\"carlo\",\"a\":\"panico\",\"d\":\"Economia\",\"m\":\"17\",\"c\":\"5.7059\"},{\"i\":\"41097\",\"n\":\"Jos\\\\u00e9 Mart\\\\u00edn\",\"a\":\"Panting Maga\\\\u00f1a\",\"d\":\"Qu\\\\u00edmica \\\\/ ecuaciones diferenciales\",\"m\":\"4\",\"c\":\"7.0000\"},{\"i\":\"123813\",\"n\":\"Leonardo\",\"a\":\"Pantoja\",\"d\":\"Matematicas\",\"m\":\"0\",\"c\":null},{\"i\":\"97880\",\"n\":\"Pablo\",\"a\":\"pantoja\",\"d\":\"facultad de contaduria\",\"m\":\"1\",\"c\":\"2.0000\"},{\"i\":\"150014\",\"n\":\"Leonel\",\"a\":\"Pantoja Villalobos\",\"d\":\"Derecho\",\"m\":\"1\",\"c\":\"7.0000\"},{\"i\":\"133914\",\"n\":\"Francisco Jos\\\\u00e9\",\"a\":\"Paoli Bolio\",\"d\":\"CU\",\"m\":\"2\",\"c\":\"5.0000\"},{\"i\":\"85228\",\"n\":\"francisco jose\",\"a\":\"paoli bolio\",\"d\":\"maestria en derecho\",\"m\":\"1\",\"c\":\"6.0000\"},{\"i\":\"133924\",\"n\":\"Francisco Jos\\\\u00e9\",\"a\":\"Paoli Bolio\",\"d\":\"Ciudad universitaria \",\"m\":\"0\",\"c\":null},{\"i\":\"153624\",\"n\":\"Vanesa\",\"a\":\"Papiol Nieves\",\"d\":\"ENES M\\\\u00c9RIDA \",\"m\":\"1\",\"c\":\"6.0000\"},{\"i\":\"79420\",\"n\":\"alejandro david\",\"a\":\"PARADA SANCHEZ\",\"d\":\"fes acatlan\",\"m\":\"0\",\"c\":null},{\"i\":\"19215\",\"n\":\"sonia luz\",\"a\":\"pardo lopez\",\"d\":\"fca\",\"m\":\"13\",\"c\":\"5.8462\"},{\"i\":\"144924\",\"n\":\"Joel\",\"a\":\"Paredes\",\"d\":\"Fes aragon\",\"m\":\"1\",\"c\":\"10.0000\"},{\"i\":\"149024\",\"n\":\"Ra\\\\u00fal Gerardo\",\"a\":\"Paredes Guerrero\",\"d\":\"Instituto de Neurobiolog\\\\u00eda, ENES UNAM Juriquilla\",\"m\":\"1\",\"c\":\"7.0000\"},{\"i\":\"152807\",\"n\":\"Marcos Alberto\",\"a\":\"Paredes Zepeda\",\"d\":\"Facultad de Filosof\\\\u00eda y Letras \\\\/ Letras Hisp\\\\u00e1nicas\",\"m\":\"0\",\"c\":null},{\"i\":\"99794\",\"n\":\"Asaf\",\"a\":\"Paris Mandoki\",\"d\":\"Facultad de Ciencias\",\"m\":\"5\",\"c\":\"9.2000\"},{\"i\":\"100847\",\"n\":\"Amilcar\",\"a\":\"Paris Mandoki\",\"d\":\"Facultad de Filosof\\\\u00eda y Letras\",\"m\":\"0\",\"c\":null},{\"i\":\"158385\",\"n\":\"Leticia\",\"a\":\"Parra\",\"d\":\"Historia\",\"m\":\"0\",\"c\":null},{\"i\":\"27202\",\"n\":\"LUIS GERARDO\",\"a\":\"PARRA CASANOVA\",\"d\":\"PREPA 3\",\"m\":\"17\",\"c\":\"7.2941\"},{\"i\":\"111899\",\"n\":\"AMADOR\",\"a\":\"PARRA MENDOZA\",\"d\":\"DIRECCION GENERAL DE LA PROTECCION A LA COMUNIDAD\",\"m\":\"0\",\"c\":null},{\"i\":\"81301\",\"n\":\"Leticia\",\"a\":\"Parra Salinas\",\"d\":\"CCH Azcapotzalco\",\"m\":\"19\",\"c\":\"3.8421\"},{\"i\":\"41935\",\"n\":\"Armando\",\"a\":\"Partida\",\"d\":\"Col. Lit Dram\\\\u00e1tica y Teatro\",\"m\":\"1\",\"c\":\"4.0000\"},{\"i\":\"14486\",\"n\":\"Eduardo Antonio\",\"a\":\"Pascual Moncayo\",\"d\":\"Economia\",\"m\":\"25\",\"c\":\"6.3600\"},{\"i\":\"71521\",\"n\":\"Jos\\\\u00e9 Angel Bernardo\",\"a\":\"Pastrana Bautista\",\"d\":\"UNAM DERECHO DUA\",\"m\":\"8\",\"c\":\"5.5000\"},{\"i\":\"149121\",\"n\":\"Guadalupe\",\"a\":\"Pati\\\\u00f1o\",\"d\":\"Trabajo Social\",\"m\":\"0\",\"c\":null},{\"i\":\"149120\",\"n\":\"Guadalupe\",\"a\":\"Pati\\\\u00f1o\",\"d\":\"ENTS\",\"m\":\"0\",\"c\":null},{\"i\":\"14398\",\"n\":\"Alejandra\",\"a\":\"Pati\\\\u00f1o Cabrera\",\"d\":\"Economia\",\"m\":\"30\",\"c\":\"6.7333\"},{\"i\":\"35545\",\"n\":\"alejandra\",\"a\":\"pati\\\\u00f1o cabrera\",\"d\":\"fca\",\"m\":\"1\",\"c\":\"10.0000\"},{\"i\":\"156209\",\"n\":\"Patricia Yolanda\",\"a\":\"Pati\\\\u00f1o Navarro\",\"d\":\"FCA\",\"m\":\"0\",\"c\":null},{\"i\":\"162445\",\"n\":\"Jes\\\\u00fas Antonio\",\"a\":\"Pati\\\\u00f1o Ram\\\\u00edrez\",\"d\":\"Ingenier\\\\u00eda \",\"m\":\"0\",\"c\":null},{\"i\":\"156003\",\"n\":\"jesus antonio\",\"a\":\"pati\\\\u00f1o ramirez\",\"d\":\"calculo vectorial\",\"m\":\"0\",\"c\":null},{\"i\":\"15884\",\"n\":\"Jose Pablo\",\"a\":\"Pati\\\\u00f1o Souza\",\"d\":\"Derecho\",\"m\":\"72\",\"c\":\"6.8333\"},{\"i\":\"140824\",\"n\":\"Yuri\",\"a\":\"Pav\\\\u00f3n\",\"d\":\"Derecho \",\"m\":\"0\",\"c\":null},{\"i\":\"151275\",\"n\":\"victor\",\"a\":\"pav\\\\u00f3n\",\"d\":\"FESC\\\\/ agricola\",\"m\":\"0\",\"c\":null},{\"i\":\"14584\",\"n\":\"Manuel\",\"a\":\"Pavon Casiano\",\"d\":\"Economia\",\"m\":\"1\",\"c\":\"2.0000\"},{\"i\":\"154746\",\"n\":\"Jos\\\\u00e9 Juli\\\\u00e1n\",\"a\":\"Pav\\\\u00f3n Espa\\\\u00f1ol\",\"d\":\"Facultad de Ciencias, UNAM\",\"m\":\"6\",\"c\":\"8.8333\"},{\"i\":\"150401\",\"n\":\"V\\\\u00edctor Manuel\",\"a\":\"Pav\\\\u00f3n Ram\\\\u00edrez\",\"d\":\"FES Cuautitlan\",\"m\":\"1\",\"c\":\"4.0000\"},{\"i\":\"94616\",\"n\":\"Yuri\",\"a\":\"Pav\\\\u00f3n Romero\",\"d\":\"Facultad ciencias pol\\\\u00edticas y sociales\",\"m\":\"1\",\"c\":\"3.0000\"},{\"i\":\"163577\",\"n\":\"Victor\",\"a\":\"Pav\\\\u00f3n-Villamayor\",\"d\":\"Oxford Competition Economics\",\"m\":\"5\",\"c\":\"4.6000\"},{\"i\":\"14399\",\"n\":\"Francisco\",\"a\":\"Payno y S\\\\u00e1nchez\",\"d\":\"Economia\",\"m\":\"16\",\"c\":\"4.5000\"},{\"i\":\"75967\",\"n\":\"manuel\",\"a\":\"paz\",\"d\":\"termodinamica 2 cuautitlan\",\"m\":\"0\",\"c\":null},{\"i\":\"85801\",\"n\":\"Martin Alejandro\",\"a\":\"Paz Campos\",\"d\":\"Facultad de Derecho Posgrado \",\"m\":\"5\",\"c\":\"5.4000\"},{\"i\":\"145201\",\"n\":\"Laura karina\",\"a\":\"Paz cardenas\",\"d\":\"Cch oriente\",\"m\":\"0\",\"c\":null},{\"i\":\"95003\",\"n\":\"HORACIO\",\"a\":\"PAZ HERNANDEZ\",\"d\":\"enes morelia\",\"m\":\"0\",\"c\":null},{\"i\":\"107368\",\"n\":\"Mar\\\\u00eda Erika Araceli\",\"a\":\"Paz Mancera\",\"d\":\"Docente\",\"m\":\"1\",\"c\":\"6.0000\"},{\"i\":\"113453\",\"n\":\"Rub\\\\u00ed Velazco\",\"a\":\"Pedro\",\"d\":\"CCH SUR \",\"m\":\"2\",\"c\":\"3.0000\"},{\"i\":\"164582\",\"n\":\"Jos\\\\u00e9 Francisco Gerardo\",\"a\":\"Pedronni Luna\",\"d\":\"FCA\",\"m\":\"0\",\"c\":null},{\"i\":\"126366\",\"n\":\"Rolando\",\"a\":\"Pel\\\\u00e1ez\",\"d\":\"Fes cuatitlan \",\"m\":\"0\",\"c\":null},{\"i\":\"161598\",\"n\":\"ALAIN FABRICIO\",\"a\":\"PELAEZ GONZALEZ\",\"d\":\"ENP2\",\"m\":\"0\",\"c\":null},{\"i\":\"113630\",\"n\":\"Armando\",\"a\":\"Pelcastre Villafuerte\",\"d\":\"Arquitectura\",\"m\":\"0\",\"c\":null},{\"i\":\"133504\",\"n\":\"cerebrito\",\"a\":\"pensador\",\"d\":\"facultad\",\"m\":\"1\",\"c\":\"10.0000\"},{\"i\":\"20614\",\"n\":\"Roberto\",\"a\":\"Pe\\\\u00f1a\",\"d\":\"Ciencias pol\\\\u00edticas y Sociales\",\"m\":\"3\",\"c\":\"5.6667\"},{\"i\":\"163832\",\"n\":\"Jos\\\\u00e9 Luis\",\"a\":\"Pe\\\\u00f1a Briones\",\"d\":\"Preparatoria Manuel Gomes Morin \",\"m\":\"0\",\"c\":null},{\"i\":\"17576\",\"n\":\"ARTURO\",\"a\":\"PE\\\\u00d1A CUEVAS\",\"d\":\"ECONOMIA\\\\/CONTABILIDAD\",\"m\":\"29\",\"c\":\"3.3793\"},{\"i\":\"128869\",\"n\":\"Reina Araceli\",\"a\":\"Pe\\\\u00f1a Garc\\\\u00eda\",\"d\":\"Fes cuautitlan \",\"m\":\"0\",\"c\":null},{\"i\":\"14439\",\"n\":\"Ana Alicia\",\"a\":\"Pe\\\\u00f1a L\\\\u00f3pez\",\"d\":\"Economia\",\"m\":\"26\",\"c\":\"6.4231\"},{\"i\":\"114203\",\"n\":\"REFUGIO\",\"a\":\"PE\\\\u00d1A MARIN\",\"d\":\"Arquitectura\",\"m\":\"1\",\"c\":\"4.0000\"},{\"i\":\"118807\",\"n\":\"Benjam\\\\u00edn\",\"a\":\"Pe\\\\u00f1a P\\\\u00e9rez\",\"d\":\"Facultad de Estudios Superiores Iztacala - Suayed \",\"m\":\"2\",\"c\":\"7.5000\"},{\"i\":\"126198\",\"n\":\"andrea\",\"a\":\"pe\\\\u00f1a tapia\",\"d\":\"departamento\",\"m\":\"0\",\"c\":null},{\"i\":\"114161\",\"n\":\"Julio C\\\\u00e9sar\",\"a\":\"Pe\\\\u00f1a Vega\",\"d\":\"Fes Acatlan\",\"m\":\"1\",\"c\":\"10.0000\"},{\"i\":\"14991\",\"n\":\"Jos\\\\u00e9 Jorge\",\"a\":\"Peralta \\\\u00c1lvarez\",\"d\":\"Psicolog\\\\u00eda\",\"m\":\"1\",\"c\":\"9.0000\"},{\"i\":\"120367\",\"n\":\"Miguel Angel\",\"a\":\"Peralta Garc\\\\u00eda\",\"d\":\"Estadista \",\"m\":\"0\",\"c\":null},{\"i\":\"160468\",\"n\":\"Norma Elvira\",\"a\":\"Peralta Marques\",\"d\":\"Facultad de Ciencias Pol\\\\u00edticas y Sociales \",\"m\":\"0\",\"c\":null},{\"i\":\"105072\",\"n\":\"Eduardo\",\"a\":\"Peralta olmedo\",\"d\":\"Fes Arag\\\\u00f3n\",\"m\":\"2\",\"c\":\"5.0000\"},{\"i\":\"124098\",\"n\":\"Eduardo\",\"a\":\"Peralta olmedo\",\"d\":\"Fea Aragon derecho \",\"m\":\"5\",\"c\":\"5.0000\"},{\"i\":\"96797\",\"n\":\"Jorge\",\"a\":\"Peralta sanchez\",\"d\":\"Alcatlan\",\"m\":\"3\",\"c\":\"10.0000\"},{\"i\":\"19861\",\"n\":\"RICARDO\",\"a\":\"PERALTA SAUCEDO\",\"d\":\"FACULTAD DE DERECHO UNAM\",\"m\":\"45\",\"c\":\"9.2000\"},{\"i\":\"80306\",\"n\":\"norma elvira\",\"a\":\"peralta vazquez\",\"d\":\"administracion\",\"m\":\"1\",\"c\":\"10.0000\"},{\"i\":\"15894\",\"n\":\"Manuel\",\"a\":\"Peralta Villegas\",\"d\":\"Derecho\",\"m\":\"16\",\"c\":\"7.2500\"},{\"i\":\"92782\",\"n\":\"Cecilia\",\"a\":\"Peraza Sangin\\\\u00e9s\",\"d\":\"Facultad de Ciencias Pol\\\\u00edticas y Sociales\",\"m\":\"0\",\"c\":null},{\"i\":\"155599\",\"n\":\"Wilfrido\",\"a\":\"Perea Curiel\",\"d\":\"Escuela Nacional de Trabajo Social\",\"m\":\"1\",\"c\":\"10.0000\"},{\"i\":\"162262\",\"n\":\"Victor Gerardo\",\"a\":\"Perea Santillan\",\"d\":\"Medicina \",\"m\":\"0\",\"c\":null},{\"i\":\"18659\",\"n\":\"Jose Antonio\",\"a\":\"Perera Garc\\\\u00eda\",\"d\":\"Prepa 4\",\"m\":\"43\",\"c\":\"4.6744\"},{\"i\":\"108153\",\"n\":\"Claudia\",\"a\":\"Peres avila\",\"d\":\"Prepa 9\",\"m\":\"0\",\"c\":null},{\"i\":\"25752\",\"n\":\"jorge\",\"a\":\"peres lopez\",\"d\":\"quimica\",\"m\":\"2\",\"c\":\"6.0000\"},{\"i\":\"162047\",\"n\":\"Monica Citlalli\",\"a\":\"Pereyra Zamudio\",\"d\":\"CCH Vallejo\",\"m\":\"1\",\"c\":\"6.0000\"},{\"i\":\"150157\",\"n\":\"Rebeca\",\"a\":\"P\\\\u00e9rez\",\"d\":\"Flores\",\"m\":\"0\",\"c\":null},{\"i\":\"68733\",\"n\":\"larisa\",\"a\":\"perez\",\"d\":\"derecho\",\"m\":\"2\",\"c\":\"7.0000\"},{\"i\":\"18747\",\"n\":\"ROBERTO\",\"a\":\"PEREZ\",\"d\":\"DERECHO\",\"m\":\"0\",\"c\":null},{\"i\":\"18919\",\"n\":\"jorge\",\"a\":\"perez\",\"d\":\"teoria de la neurosis\",\"m\":\"1\",\"c\":\"5.0000\"},{\"i\":\"92805\",\"n\":\"JUAN CARLOS\",\"a\":\"PEREZ\",\"d\":\"MACIAS\",\"m\":\"0\",\"c\":null},{\"i\":\"139304\",\"n\":\"Oswaldo\",\"a\":\"P\\\\u00e9rez\",\"d\":\"INTELIGENCIA ARTIFICIAL\",\"m\":\"1\",\"c\":\"9.0000\"},{\"i\":\"18920\",\"n\":\"jorge rogelio\",\"a\":\"perez\",\"d\":\"teoria de la neurosis\",\"m\":\"10\",\"c\":\"7.0000\"},{\"i\":\"140322\",\"n\":\"FERNANDO\",\"a\":\"PEREZ\",\"d\":\"FACULTAD DE CONTADURIA Y ADMINISTRACION\",\"m\":\"0\",\"c\":null},{\"i\":\"42927\",\"n\":\"Abel\",\"a\":\"Perez  Cervantes\",\"d\":\"facultad de ciencias politicas y sociales \",\"m\":\"16\",\"c\":\"6.7500\"},{\"i\":\"29362\",\"n\":\"Nora Patricia\",\"a\":\"Perez  Rocha\",\"d\":\"Ingenier\\\\u00eda\",\"m\":\"2\",\"c\":\"5.5000\"},{\"i\":\"142273\",\"n\":\"Cristina maria\",\"a\":\"Perez aguero\",\"d\":\"Psicolog\\\\u00eda \",\"m\":\"0\",\"c\":null},{\"i\":\"112356\",\"n\":\"Jos\\\\u00e9 Agust\\\\u00edn\",\"a\":\"P\\\\u00e9rez Ahumada\",\"d\":\"Facultad de Ciencias\",\"m\":\"5\",\"c\":\"9.2000\"},{\"i\":\"149107\",\"n\":\"Guadalupe Fabiola\",\"a\":\"P\\\\u00e9rez Bale\\\\u00f3n\",\"d\":\"Escuela Nacional de Trabajo Social\",\"m\":\"1\",\"c\":\"7.0000\"},{\"i\":\"23444\",\"n\":\"MIGUEL ANGEL\",\"a\":\"PEREZ BAUTISTA\",\"d\":\"DERECHO\",\"m\":\"51\",\"c\":\"9.0784\"},{\"i\":\"104148\",\"n\":\"ELISA\",\"a\":\"PEREZ BLANCO\",\"d\":\"cele\",\"m\":\"0\",\"c\":null},{\"i\":\"155769\",\"n\":\"Efren Othon\",\"a\":\"P\\\\u00e9rez Bonilla\",\"d\":\"Derecho fiscal \",\"m\":\"0\",\"c\":null},{\"i\":\"20769\",\"n\":\"Enedina\",\"a\":\"Perez Briones\",\"d\":\"CCH Oriente\",\"m\":\"7\",\"c\":\"4.7143\"},{\"i\":\"149829\",\"n\":\"Eduardo\",\"a\":\"P\\\\u00e9rez Camacho\",\"d\":\"Facultad de Ingenier\\\\u00eda\\\\/Laboratorio de Rob\\\\u00f3tica Ind\",\"m\":\"2\",\"c\":\"3.0000\"},{\"i\":\"151047\",\"n\":\"Rub\\\\u00e9n\",\"a\":\"P\\\\u00e9rez Camargo\",\"d\":\"Facultad de econom\\\\u00eda\",\"m\":\"1\",\"c\":\"8.0000\"},{\"i\":\"127031\",\"n\":\"Xyoli\",\"a\":\"P\\\\u00e9rez Campos\",\"d\":\"DICT\",\"m\":\"2\",\"c\":\"5.5000\"},{\"i\":\"49453\",\"n\":\"hector javier\",\"a\":\"perez cano\",\"d\":\"quimica\",\"m\":\"2\",\"c\":\"10.0000\"},{\"i\":\"105170\",\"n\":\"Edith\",\"a\":\"Per\\\\u00e9z Carbot\",\"d\":\"FCPyS\",\"m\":\"1\",\"c\":\"5.0000\"},{\"i\":\"18103\",\"n\":\"Silvia \",\"a\":\"Perez Casas\",\"d\":\"Fisicoquimica\",\"m\":\"12\",\"c\":\"6.4167\"},{\"i\":\"163428\",\"n\":\"Enrique\",\"a\":\"Perez colorado\",\"d\":\"Matem\\\\u00e1ticas \",\"m\":\"0\",\"c\":null},{\"i\":\"158818\",\"n\":\"Francisco\",\"a\":\"Perez Cota\",\"d\":\"Facultad de Psicolog\\\\u00eda \",\"m\":\"0\",\"c\":null},{\"i\":\"140530\",\"n\":\"Ver\\\\u00f3nica\",\"a\":\"P\\\\u00e9rez Cruz\",\"d\":\"Facultad de Ciencias Pol\\\\u00edticas y Sociales \",\"m\":\"0\",\"c\":null},{\"i\":\"160335\",\"n\":\"Erika\",\"a\":\"P\\\\u00e9rez Dom\\\\u00ednguez\",\"d\":\"FCPYS\",\"m\":\"1\",\"c\":\"8.0000\"},{\"i\":\"15479\",\"n\":\"Bernardo\",\"a\":\"P\\\\u00e9rez Enr\\\\u00edquez\",\"d\":\"Medicina \\\\/ Endocrinolog\\\\u00eda\",\"m\":\"7\",\"c\":\"7.5714\"},{\"i\":\"156764\",\"n\":\"Jaime EDUARDO JOSE GUADALUPe\",\"a\":\"P\\\\u00e9rez Estrada\",\"d\":\"Fes Zaragoza \",\"m\":\"0\",\"c\":null},{\"i\":\"77841\",\"n\":\"OTHON\",\"a\":\"PEREZ FERNANDEZ DEL CASTILLO\",\"d\":\"DERECHO\",\"m\":\"2\",\"c\":\"10.0000\"},{\"i\":\"150158\",\"n\":\"Rebeca\",\"a\":\"P\\\\u00e9rez Flores\",\"d\":\"Facultad de ciencias UNAM\",\"m\":\"1\",\"c\":\"10.0000\"},{\"i\":\"149524\",\"n\":\"Analuz\",\"a\":\"P\\\\u00e9rez garc\\\\u00eda\",\"d\":\"Fes Acatl\\\\u00e1n \",\"m\":\"0\",\"c\":null},{\"i\":\"126020\",\"n\":\"Oscar Enrique\",\"a\":\"Perez Gonzales\",\"d\":\"quimica\",\"m\":\"0\",\"c\":null},{\"i\":\"103686\",\"n\":\"Marco Antonio\",\"a\":\"P\\\\u00e9rez Hern\\\\u00e1ndez\",\"d\":\"Ciencias \\\\/ F\\\\u00edsica\",\"m\":\"0\",\"c\":null},{\"i\":\"141521\",\"n\":\"Miguel \\\\u00c1ngel\",\"a\":\"P\\\\u00e9rez Herrera\",\"d\":\"Contabilidad\",\"m\":\"0\",\"c\":null},{\"i\":\"156094\",\"n\":\"Miguel \\\\u00c1ngel\",\"a\":\"P\\\\u00e9rez Le\\\\u00f3n\",\"d\":\"Facultad de ciencias\",\"m\":\"1\",\"c\":\"4.0000\"},{\"i\":\"14487\",\"n\":\"Jos\\\\u00e9 Mar\\\\u00eda\",\"a\":\"P\\\\u00e9rez Llamas\",\"d\":\"Economia\",\"m\":\"30\",\"c\":\"8.4000\"},{\"i\":\"161555\",\"n\":\"Andrea\",\"a\":\"perez Martinez\",\"d\":\"primaria Isidro fabela \",\"m\":\"1\",\"c\":\"2.0000\"},{\"i\":\"90653\",\"n\":\"hector javier\",\"a\":\"p\\\\u00e9rez monter\",\"d\":\"facultad de ciencias pol\\\\u00edticas y sociales\",\"m\":\"2\",\"c\":\"5.5000\"},{\"i\":\"156961\",\"n\":\"Omar\",\"a\":\"P\\\\u00e9rez Mora\",\"d\":\"UNAM\",\"m\":\"0\",\"c\":null},{\"i\":\"156960\",\"n\":\"Omar\",\"a\":\"P\\\\u00e9rez Mora\",\"d\":\"Contadur\\\\u00eda\",\"m\":\"0\",\"c\":null},{\"i\":\"155949\",\"n\":\"amanda rosa\",\"a\":\"perez morales\",\"d\":\"derecho\",\"m\":\"1\",\"c\":\"10.0000\"},{\"i\":\"157127\",\"n\":\"Vania\",\"a\":\"P\\\\u00e9rez Morales\",\"d\":\"Ciencias Pol\\\\u00edticas\\\\/\",\"m\":\"1\",\"c\":\"7.0000\"},{\"i\":\"114035\",\"n\":\"Ausencio\",\"a\":\"P\\\\u00e9rez Olvera\",\"d\":\"Cch Vallejo \",\"m\":\"3\",\"c\":\"5.6667\"},{\"i\":\"114022\",\"n\":\"Misael Jonat\\\\u00e1n\",\"a\":\"P\\\\u00e9rez Olvera\",\"d\":\"Cch Vallejo \",\"m\":\"3\",\"c\":\"2.0000\"},{\"i\":\"162251\",\"n\":\"Rafael\",\"a\":\"P\\\\u00e9rez Pablo\",\"d\":\"Fi\",\"m\":\"0\",\"c\":null},{\"i\":\"14585\",\"n\":\"Alejandro Augusto\",\"a\":\"Perez Pascual\",\"d\":\"Economia\",\"m\":\"11\",\"c\":\"7.9091\"},{\"i\":\"155812\",\"n\":\"CLAUDIA ALEJANDRA\",\"a\":\"PEREZ PINACHO\",\"d\":\"FACULTAD DE INGENIERIA\",\"m\":\"0\",\"c\":null},{\"i\":\"14586\",\"n\":\"Jorge Antonio\",\"a\":\"Perez Pineda\",\"d\":\"Economia\",\"m\":\"1\",\"c\":\"2.0000\"},{\"i\":\"147691\",\"n\":\"Carlos\",\"a\":\"P\\\\u00e9rez Plasencia\",\"d\":\"FES Iztacala UBIMED\",\"m\":\"6\",\"c\":\"3.0000\"},{\"i\":\"61160\",\"n\":\"GREGORIO\",\"a\":\"PEREZ RODRIGUEZ\",\"d\":\"CONTADURIA\",\"m\":\"2\",\"c\":\"7.5000\"},{\"i\":\"84014\",\"n\":\"Gustavo Adolfo\",\"a\":\"P\\\\u00e9rez Rojas\",\"d\":\"Facultad de Ciencias Pol\\\\u00edticas y Sociales \",\"m\":\"4\",\"c\":\"8.7500\"},{\"i\":\"114417\",\"n\":\"Laura\",\"a\":\"P\\\\u00e9rez Rosal\",\"d\":\"CCH vallejo\",\"m\":\"1\",\"c\":\"2.0000\"},{\"i\":\"135723\",\"n\":\"Victor Manuel\",\"a\":\"Perez Ruiz\",\"d\":\"Contadur\\\\u00eda \",\"m\":\"0\",\"c\":null},{\"i\":\"161884\",\"n\":\"Abel\",\"a\":\"Perez Ruiz\",\"d\":\"Fes aragon\",\"m\":\"0\",\"c\":null},{\"i\":\"80567\",\"n\":\"LOURDES DEL CARMEN\",\"a\":\"PEREZ SALAZAR\",\"d\":\"fca\",\"m\":\"0\",\"c\":null},{\"i\":\"18086\",\"n\":\"Lourdes del Carmen\",\"a\":\"P\\\\u00e9rez Salazar\",\"d\":\"Facultad de Contabilidad, Adm\\\\u00f3n. e Inform\\\\u00e1tica\",\"m\":\"8\",\"c\":\"4.3750\"},{\"i\":\"161964\",\"n\":\"Juan Antonio\",\"a\":\"P\\\\u00e9rez Sobrado\",\"d\":\"Derecho\",\"m\":\"0\",\"c\":null},{\"i\":\"140385\",\"n\":\"Isabel\",\"a\":\"P\\\\u00e9rez Vargas\",\"d\":\"Iztacala\",\"m\":\"0\",\"c\":null},{\"i\":\"72101\",\"n\":\"Maria Leonor\",\"a\":\"Perez Zarate\",\"d\":\"Derecho\",\"m\":\"0\",\"c\":null},{\"i\":\"159051\",\"n\":\"Angel\",\"a\":\"Perez Zavaleta\",\"d\":\"nutricion\",\"m\":\"0\",\"c\":null},{\"i\":\"150110\",\"n\":\"Ana luisa\",\"a\":\"Pereza trujillo\",\"d\":\"Fes cuautitlan \",\"m\":\"0\",\"c\":null},{\"i\":\"14587\",\"n\":\"Ignacio De Loyola\",\"a\":\"Perrotin Hernandez\",\"d\":\"Economia\",\"m\":\"16\",\"c\":\"6.3125\"},{\"i\":\"109553\",\"n\":\"Arturo\",\"a\":\"Perrusquia Resendiz\",\"d\":\"ENTS\",\"m\":\"1\",\"c\":\"9.0000\"},{\"i\":\"57558\",\"n\":\"jorge\",\"a\":\"pi\",\"d\":\"economia\",\"m\":\"1\",\"c\":\"9.0000\"},{\"i\":\"16241\",\"n\":\"Antonia\",\"a\":\"Pi-Su\\\\u00f1er Llorens\",\"d\":\"Filosof\\\\u00eda y Letras\",\"m\":\"2\",\"c\":\"9.0000\"},{\"i\":\"146957\",\"n\":\"elisa aracely\",\"a\":\"picazo paez\",\"d\":\"cch oriente\",\"m\":\"1\",\"c\":\"3.0000\"},{\"i\":\"161045\",\"n\":\"Beatriz\",\"a\":\"Pichardo Gonz\\\\u00e1lez\",\"d\":\"Trabajo Social\",\"m\":\"1\",\"c\":\"10.0000\"},{\"i\":\"139432\",\"n\":\"Beatriz\",\"a\":\"Pichardo Gonz\\\\u00e1lez\",\"d\":\"Escuela de Trabajo Social\",\"m\":\"1\",\"c\":\"2.0000\"},{\"i\":\"101504\",\"n\":\"Juan Eduardo\",\"a\":\"Pichardo Mart\\\\u00ednez\",\"d\":\"Facultad de Derecho UNAM\",\"m\":\"1\",\"c\":\"9.0000\"},{\"i\":\"80217\",\"n\":\"MA. REYES\",\"a\":\"PICHARDO MOLINERO\",\"d\":\"FESC\",\"m\":\"1\",\"c\":\"10.0000\"},{\"i\":\"16380\",\"n\":\"Mar\\\\u00eda Esther\",\"a\":\"Pichardo Moreno\",\"d\":\"Preparatoria 8\",\"m\":\"6\",\"c\":\"9.5000\"},{\"i\":\"79373\",\"n\":\"Juan Carlos\",\"a\":\"Pichardo Ramirez\",\"d\":\"Derecho (SUA)\",\"m\":\"3\",\"c\":\"5.6667\"},{\"i\":\"32890\",\"n\":\"Mauricio\",\"a\":\"Pilatowsky\",\"d\":\"FES Acatlan\",\"m\":\"0\",\"c\":null},{\"i\":\"138097\",\"n\":\"MARGARITA\",\"a\":\"PIMENTEL  HERRERA\",\"d\":\"DERECHO\",\"m\":\"1\",\"c\":\"10.0000\"},{\"i\":\"104076\",\"n\":\"N\\\\u00e9stor Isay\",\"a\":\"Pinacho Espinosa\",\"d\":\"FCPyS\",\"m\":\"5\",\"c\":\"9.8000\"},{\"i\":\"54375\",\"n\":\"Laura\",\"a\":\"Pineda\",\"d\":\"Prepa 7, UNAM\",\"m\":\"1\",\"c\":\"10.0000\"},{\"i\":\"157244\",\"n\":\"RAUL\",\"a\":\"PINEDA AQUINO\",\"d\":\"CCH Vallejo\",\"m\":\"27\",\"c\":\"9.6296\"},{\"i\":\"139063\",\"n\":\"Leticia victoria\",\"a\":\"Pineda corona\",\"d\":\"Derecho\",\"m\":\"0\",\"c\":null},{\"i\":\"99088\",\"n\":\"AMANDA LOLITA\",\"a\":\"PINEDA NORMAN\",\"d\":\"Facultad de Ingenier\\\\u00eda\",\"m\":\"29\",\"c\":\"7.6552\"},{\"i\":\"163106\",\"n\":\"Martha Patricia\",\"a\":\"Pineda Salazar\",\"d\":\"Escuela Nacional Preparatoria 3\",\"m\":\"0\",\"c\":null},{\"i\":\"20112\",\"n\":\"Imelda\",\"a\":\"Pi\\\\u00f1a\",\"d\":\"ECONOM\\\\u00cdA\",\"m\":\"9\",\"c\":\"2.5556\"},{\"i\":\"30635\",\"n\":\"Alejandra\",\"a\":\"Pi\\\\u00f1a\",\"d\":\"Filosof\\\\u00eda y Letras\",\"m\":\"1\",\"c\":\"10.0000\"},{\"i\":\"159108\",\"n\":\"Migel\",\"a\":\"Pi\\\\u00f1a Avelino\",\"d\":\"Facultad de Ciencias.\",\"m\":\"1\",\"c\":\"10.0000\"},{\"i\":\"140528\",\"n\":\"Norma lucia\",\"a\":\"Pi\\\\u00f1a Hern\\\\u00e1ndez\",\"d\":\"Derecho\",\"m\":\"0\",\"c\":null},{\"i\":\"138025\",\"n\":\"Francisco\",\"a\":\"pi\\\\u00f1a Salazar\",\"d\":\"FCA\",\"m\":\"1\",\"c\":\"10.0000\"},{\"i\":\"124406\",\"n\":\"Guillermina\",\"a\":\"Plancarte\",\"d\":\"Fes arag\\\\u00f3n \",\"m\":\"0\",\"c\":null},{\"i\":\"161829\",\"n\":\"Jes\\\\u00fas\",\"a\":\"Plata\",\"d\":\"Ingenier\\\\u00eda \",\"m\":\"0\",\"c\":null},{\"i\":\"101795\",\"n\":\"Martha\",\"a\":\"Plata\",\"d\":\"Derecho\",\"m\":\"0\",\"c\":null},{\"i\":\"55900\",\"n\":\"ciro\",\"a\":\"plata  monroy\",\"d\":\"cch naucalpan\",\"m\":\"3\",\"c\":\"6.6667\"},{\"i\":\"157009\",\"n\":\"Bernardo\",\"a\":\"Plata luna\",\"d\":\"Arquitectura \",\"m\":\"1\",\"c\":\"10.0000\"},{\"i\":\"11254\",\"n\":\"Ram\\\\u00f3n\",\"a\":\"Plaza Mancera\",\"d\":\"Econom\\\\u00eda\",\"m\":\"46\",\"c\":\"8.6739\"},{\"i\":\"119910\",\"n\":\"CRISTOBAL\",\"a\":\"PLIEGO\",\"d\":\"ARQUITECTURA\",\"m\":\"3\",\"c\":\"7.0000\"},{\"i\":\"144667\",\"n\":\"Maria Antonieta\",\"a\":\"Ponce\",\"d\":\"Facultad de Filosof\\\\u00eda y Letras \\\\/ DELEFYL\",\"m\":\"1\",\"c\":\"4.0000\"},{\"i\":\"49677\",\"n\":\"alberto\",\"a\":\"ponce\",\"d\":\"psicologia\",\"m\":\"0\",\"c\":null},{\"i\":\"125131\",\"n\":\"carlos\",\"a\":\"ponce  Martinez\",\"d\":\"derecho\",\"m\":\"0\",\"c\":null},{\"i\":\"162850\",\"n\":\"Santa\",\"a\":\"Ponce bravo\",\"d\":\"Faculta de odontologia \",\"m\":\"0\",\"c\":null},{\"i\":\"68047\",\"n\":\"Olimpia Roxana\",\"a\":\"Ponce Crippa\",\"d\":\"FES Cuautitl\\\\u00e1n\",\"m\":\"6\",\"c\":\"7.1667\"},{\"i\":\"121242\",\"n\":\"Jorge\",\"a\":\"Ponce Mart\\\\u00ednez\",\"d\":\"Facultad de Derecho\",\"m\":\"1\",\"c\":\"10.0000\"},{\"i\":\"152089\",\"n\":\"Juventino\",\"a\":\"Popoca benitez\",\"d\":\"Preparatoria\",\"m\":\"0\",\"c\":null},{\"i\":\"14440\",\"n\":\"Lorenzo Alfredo\",\"a\":\"Popoca Garc\\\\u00eda\",\"d\":\"Economia\",\"m\":\"34\",\"c\":\"7.3235\"},{\"i\":\"150402\",\"n\":\"M\\\\u00f3nica\",\"a\":\"Portilla\",\"d\":\"Prepa 6\",\"m\":\"0\",\"c\":null},{\"i\":\"161046\",\"n\":\"Gerardo\",\"a\":\"Portillo Echavarr\\\\u00eda\",\"d\":\"Escuela Nacional de Trabajo Social \",\"m\":\"1\",\"c\":\"7.0000\"},{\"i\":\"14588\",\"n\":\"Irma\",\"a\":\"Portos Perez\",\"d\":\"Economia\",\"m\":\"3\",\"c\":\"8.0000\"},{\"i\":\"32517\",\"n\":\"SALOMON\",\"a\":\"POSADAS CALDERON\",\"d\":\"CCH ORIENTE\",\"m\":\"4\",\"c\":\"4.0000\"},{\"i\":\"154544\",\"n\":\"Silvia\",\"a\":\"Posadas Mendoza\",\"d\":\"Ingl\\\\u00e9s, prepa 2\",\"m\":\"1\",\"c\":\"2.0000\"},{\"i\":\"105958\",\"n\":\"Ricardo\",\"a\":\"Posadas Mondrag\\\\u00f3n\",\"d\":\"Ingenier\\\\u00eda\",\"m\":\"1\",\"c\":\"10.0000\"},{\"i\":\"14442\",\"n\":\"Esther\",\"a\":\"Posadas Segura\",\"d\":\"Economia\",\"m\":\"5\",\"c\":\"5.6000\"},{\"i\":\"14441\",\"n\":\"Esther\",\"a\":\"Posadas Segura\",\"d\":\"\",\"m\":\"1\",\"c\":\"2.0000\"},{\"i\":\"107982\",\"n\":\"Patricia\",\"a\":\"Pozos Rivera\",\"d\":\"UNAM fcpys\",\"m\":\"1\",\"c\":\"10.0000\"},{\"i\":\"153477\",\"n\":\"Dalia\",\"a\":\"Prada ornelas\",\"d\":\"Preparatoria \",\"m\":\"1\",\"c\":\"7.0000\"},{\"i\":\"126468\",\"n\":\"Javier rodrigo\",\"a\":\"Prado baeza\",\"d\":\"fes cautitlan izcali\",\"m\":\"0\",\"c\":null},{\"i\":\"57122\",\"n\":\"Maria Guadalupe\",\"a\":\"Prado Flores\",\"d\":\"CBS\",\"m\":\"0\",\"c\":null},{\"i\":\"126350\",\"n\":\"Karina\",\"a\":\"Prado Gonz\\\\u00e1lez\",\"d\":\"Facultad de arquitectura\",\"m\":\"4\",\"c\":\"7.7500\"},{\"i\":\"161679\",\"n\":\"Jacqueline\",\"a\":\"Preciado\",\"d\":\"Econom\\\\u00eda \",\"m\":\"1\",\"c\":\"9.0000\"},{\"i\":\"123640\",\"n\":\"Jes\\\\u00fas\",\"a\":\"Prian salazar\",\"d\":\"ENP 1\",\"m\":\"4\",\"c\":\"4.0000\"},{\"i\":\"43097\",\"n\":\"DANIEL EDUARDO\",\"a\":\"PRINCE QUEZADA\",\"d\":\"DERECHO ACATLAN\",\"m\":\"25\",\"c\":\"6.9600\"},{\"i\":\"134195\",\"n\":\"Eleane Harin\",\"a\":\"Proo M\\\\u00e9ndez\",\"d\":\"Facultad de ciencias pol\\\\u00edticas y sociales \",\"m\":\"3\",\"c\":\"10.0000\"},{\"i\":\"134194\",\"n\":\"Eleane  Har\",\"a\":\"Proo M\\\\u00e9ndez\",\"d\":\"Facultad de ciencias pol\\\\u00edticas y sociales \",\"m\":\"1\",\"c\":\"10.0000\"},{\"i\":\"14400\",\"n\":\"Mart\\\\u00edn Carlos\",\"a\":\"Puchet Anyul\",\"d\":\"Economia\",\"m\":\"44\",\"c\":\"7.9545\"},{\"i\":\"162035\",\"n\":\"Manuel\",\"a\":\"Puentes Cervantes\",\"d\":\"Medicina\",\"m\":\"0\",\"c\":null},{\"i\":\"164026\",\"n\":\"KHEMVIRG\",\"a\":\"PUENTES MARTINEZ\",\"d\":\"PODER LEGISLATIVO EN MEXICO\",\"m\":\"0\",\"c\":null},{\"i\":\"103066\",\"n\":\"Luisa\",\"a\":\"Puig\",\"d\":\"Instituto de Investigaciones Filol\\\\u00f3gicas\",\"m\":\"1\",\"c\":\"10.0000\"},{\"i\":\"121178\",\"n\":\"Jos\\\\u00e9 rodrigo\",\"a\":\"Pulido\",\"d\":\"Derecho\",\"m\":\"0\",\"c\":null},{\"i\":\"105015\",\"n\":\"ANA MARIA\",\"a\":\"QUEZADA CURIEL\",\"d\":\"Derecho\",\"m\":\"0\",\"c\":null},{\"i\":\"149505\",\"n\":\"Cintia\",\"a\":\"Quezada Reyes\",\"d\":\"Ingenier\\\\u00eda \",\"m\":\"1\",\"c\":\"2.0000\"},{\"i\":\"120951\",\"n\":\"Pedro\",\"a\":\"Quezada Zamora\",\"d\":\"Teatro\",\"m\":\"0\",\"c\":null},{\"i\":\"26724\",\"n\":\"sociologia\",\"a\":\"Quintana\",\"d\":\"prepa 2\",\"m\":\"3\",\"c\":\"5.6667\"},{\"i\":\"14401\",\"n\":\" Roger Humberto\",\"a\":\"Quintana Carrillo\",\"d\":\"Economia\",\"m\":\"9\",\"c\":\"7.8889\"},{\"i\":\"137246\",\"n\":\"Andrea\",\"a\":\"Quintana Morales\",\"d\":\"Administraci\\\\u00f3n\",\"m\":\"4\",\"c\":\"9.7500\"},{\"i\":\"102902\",\"n\":\"Luis\",\"a\":\"Quintana Romero\",\"d\":\"Facultad de Estudios Superiores Acatl\\\\u00e1n\",\"m\":\"8\",\"c\":\"8.7500\"},{\"i\":\"135171\",\"n\":\"Yenni\",\"a\":\"Quintana S\\\\u00e1nchez\",\"d\":\"Facultad de ingenier\\\\u00eda\",\"m\":\"2\",\"c\":\"10.0000\"},{\"i\":\"25911\",\"n\":\"Lourdes\",\"a\":\"Quintanilla\",\"d\":\"FCPyS\",\"m\":\"4\",\"c\":\"9.0000\"},{\"i\":\"52073\",\"n\":\"Lorenzana\",\"a\":\"Quintero\",\"d\":\"Emelia\",\"m\":\"66\",\"c\":\"5.6818\"},{\"i\":\"155877\",\"n\":\"oscar edmundo\",\"a\":\"quintero estrada\",\"d\":\"econom\\\\u00eda \",\"m\":\"0\",\"c\":null},{\"i\":\"82199\",\"n\":\"M\\\\u00f3nica Alejandra\",\"a\":\"Quintero L\\\\u00f3pez\",\"d\":\"Facultad de Contadur\\\\u00eda y Administraci\\\\u00f3n \",\"m\":\"1\",\"c\":\"4.0000\"},{\"i\":\"109112\",\"n\":\"MAYRENA\",\"a\":\"QUI\\\\u00d1ONES NAVA\",\"d\":\"FAD\",\"m\":\"0\",\"c\":null},{\"i\":\"149739\",\"n\":\"Flor Beatriz\",\"a\":\"Quiroga Ba\\\\u00f1uelos\",\"d\":\"Facultad de Ciencias Departamento de F\\\\u00edsica\",\"m\":\"2\",\"c\":\"3.0000\"},{\"i\":\"15891\",\"n\":\"Marta Maria del Pilar\",\"a\":\"Rabago Murcio\",\"d\":\"Derecho\",\"m\":\"40\",\"c\":\"5.3000\"},{\"i\":\"60644\",\"n\":\"victor manuel\",\"a\":\"racine salazar\",\"d\":\"derecho sua\",\"m\":\"1\",\"c\":\"10.0000\"},{\"i\":\"60795\",\"n\":\"Abel\",\"a\":\"Rafael Moreno\",\"d\":\"ENAP GEOMETR\\\\u00cdA\",\"m\":\"1\",\"c\":\"10.0000\"},{\"i\":\"11255\",\"n\":\"Enrique\",\"a\":\"Rajchemberg Snajar\",\"d\":\"Econom\\\\u00eda\",\"m\":\"15\",\"c\":\"8.4667\"},{\"i\":\"100940\",\"n\":\"Javier\",\"a\":\"Ramirez\",\"d\":\"Villanueva\",\"m\":\"0\",\"c\":null},{\"i\":\"153855\",\"n\":\"Gloria Ang\\\\u00e9lica\",\"a\":\"Ram\\\\u00edrez\",\"d\":\"FFyL \\\\/ SUA, UNAM\",\"m\":\"1\",\"c\":\"5.0000\"},{\"i\":\"45701\",\"n\":\"Ra\\\\u00fal\",\"a\":\"Ram\\\\u00edrez\",\"d\":\"Contadur\\\\u00eda\\\\/Fiscal\",\"m\":\"1\",\"c\":\"2.0000\"},{\"i\":\"128912\",\"n\":\"Adriana\",\"a\":\"Ramirez\",\"d\":\"FES CUAUTITL\\\\u00c1N\",\"m\":\"3\",\"c\":\"9.6667\"},{\"i\":\"163588\",\"n\":\"Guillermo\",\"a\":\"Ram\\\\u00edrez\",\"d\":\"Econom\\\\u00eda\",\"m\":\"0\",\"c\":null},{\"i\":\"153854\",\"n\":\"Gloria Ang\\\\u00e9lica\",\"a\":\"Ram\\\\u00edrez\",\"d\":\"Ferm\\\\u00edn \",\"m\":\"1\",\"c\":\"3.0000\"},{\"i\":\"54538\",\"n\":\"NORBERTO\",\"a\":\"RAMIREZ\",\"d\":\"BLANCO\",\"m\":\"1\",\"c\":\"2.0000\"},{\"i\":\"108705\",\"n\":\"Michel\",\"a\":\"Ram\\\\u00edrez\",\"d\":\"Fes Arag\\\\u00f3n \",\"m\":\"0\",\"c\":null},{\"i\":\"100525\",\"n\":\"Juan Manuel\",\"a\":\"Ram\\\\u00edrez Agama\",\"d\":\"Facultad de Econom\\\\u00eda\",\"m\":\"0\",\"c\":null},{\"i\":\"22612\",\"n\":\"JUAN MANUEL\",\"a\":\"RAMIREZ AGAMA\",\"d\":\"econom\\\\u00eda\",\"m\":\"22\",\"c\":\"4.8182\"},{\"i\":\"20140\",\"n\":\"Arnoldo Eduardo\",\"a\":\"Ram\\\\u00edrez Ahedo\",\"d\":\"Econom\\\\u00eda, SUA\",\"m\":\"23\",\"c\":\"6.9130\"},{\"i\":\"58888\",\"n\":\"Moises\",\"a\":\"Ramirez arizmendi\",\"d\":\"Economia\",\"m\":\"0\",\"c\":null},{\"i\":\"121029\",\"n\":\"ARACELI\",\"a\":\"RAMIREZ CARBAJAL\",\"d\":\"ARQUITECTURA\",\"m\":\"0\",\"c\":null},{\"i\":\"15889\",\"n\":\"Jos\\\\u00e9 Alberto\",\"a\":\"Ram\\\\u00edrez Casas\",\"d\":\"Derecho\",\"m\":\"1\",\"c\":\"2.0000\"},{\"i\":\"14589\",\"n\":\"Eduardo\",\"a\":\"Ramirez Cedillo\",\"d\":\"Economia\",\"m\":\"111\",\"c\":\"6.7748\"},{\"i\":\"52165\",\"n\":\"Avril\",\"a\":\"Ram\\\\u00edrez Ch\\\\u00e1vez\",\"d\":\"Filosofia y Letras\\\\/Bibliotecologia\",\"m\":\"2\",\"c\":\"9.5000\"},{\"i\":\"62450\",\"n\":\"Belen Ernestina\",\"a\":\"Ramirez Cordero\",\"d\":\"Qu\\\\u00edmica Analitica\",\"m\":\"2\",\"c\":\"3.0000\"},{\"i\":\"161215\",\"n\":\"Ariel\",\"a\":\"Ram\\\\u00edrez Cort\\\\u00e9s\",\"d\":\"Fes Iztacala \",\"m\":\"0\",\"c\":null},{\"i\":\"14402\",\"n\":\"Mar\\\\u00eda Delfina\",\"a\":\"Ram\\\\u00edrez Cruz\",\"d\":\"Economia\",\"m\":\"8\",\"c\":\"8.0000\"},{\"i\":\"115801\",\"n\":\"Liliana\",\"a\":\"Ramirez Cruz\",\"d\":\"ENEO\",\"m\":\"1\",\"c\":\"4.0000\"},{\"i\":\"138899\",\"n\":\"Ver\\\\u00f3nica Estela\",\"a\":\"Ram\\\\u00edrez Dur\\\\u00e1n\",\"d\":\"Facultad de Derecho\",\"m\":\"4\",\"c\":\"9.5000\"},{\"i\":\"156807\",\"n\":\"MARINA\",\"a\":\"RAMIREZ ENSASTIGUE\",\"d\":\"FI\",\"m\":\"0\",\"c\":null},{\"i\":\"46645\",\"n\":\"Eduardo\",\"a\":\"Ramirez Eredia\",\"d\":\"Derecho \",\"m\":\"3\",\"c\":\"6.3333\"},{\"i\":\"123004\",\"n\":\"Roberto\",\"a\":\"Ramirez Esp\\\\u00edndola\",\"d\":\"Derecho \",\"m\":\"0\",\"c\":null},{\"i\":\"109545\",\"n\":\"Georgina ivonne\",\"a\":\"Ramirez Esquivel\",\"d\":\"Fca\",\"m\":\"0\",\"c\":null},{\"i\":\"99991\",\"n\":\"Sa\\\\u00fal\",\"a\":\"Ram\\\\u00edrez flores\",\"d\":\"Fca\",\"m\":\"0\",\"c\":null},{\"i\":\"76003\",\"n\":\"ELENA\",\"a\":\"RAMIREZ GARCIA\",\"d\":\"\",\"m\":\"13\",\"c\":\"8.7692\"},{\"i\":\"163665\",\"n\":\"Jazmin\",\"a\":\"Ramirez Gonzalez\",\"d\":\"Prepa 5 \",\"m\":\"1\",\"c\":\"2.0000\"},{\"i\":\"14521\",\"n\":\"Guillermo\",\"a\":\"Ramirez Hernandez\",\"d\":\"Economia\",\"m\":\"36\",\"c\":\"5.6944\"},{\"i\":\"27332\",\"n\":\"Arcelia\",\"a\":\"Ramirez Llamas\",\"d\":\"ENP 5 \",\"m\":\"2\",\"c\":\"9.0000\"},{\"i\":\"60798\",\"n\":\"Noemi\",\"a\":\"Ramirez Lopez\",\"d\":\"Dise\\\\u00f1o\",\"m\":\"4\",\"c\":\"5.5000\"},{\"i\":\"123005\",\"n\":\"Jesus\",\"a\":\"Ramirez lopez\",\"d\":\"Derecho \",\"m\":\"0\",\"c\":null},{\"i\":\"163940\",\"n\":\"leticia guadalupe\",\"a\":\"ramirez loria\",\"d\":\"derecho\",\"m\":\"0\",\"c\":null},{\"i\":\"137717\",\"n\":\"Alejandra irma\",\"a\":\"Ram\\\\u00edrez Mart\\\\u00ednez\",\"d\":\"Enp 6\",\"m\":\"0\",\"c\":null},{\"i\":\"107957\",\"n\":\"Gerardo\",\"a\":\"Ram\\\\u00edrez Mej\\\\u00eda\",\"d\":\"Facultad de Ciencias UNAM\",\"m\":\"2\",\"c\":\"8.0000\"},{\"i\":\"43322\",\"n\":\"Cynthia\",\"a\":\"Ram\\\\u00edrez Mendieta\",\"d\":\"Psicolog\\\\u00eda\",\"m\":\"3\",\"c\":\"9.3333\"},{\"i\":\"104846\",\"n\":\"Mar\\\\u00eda del Rosario\",\"a\":\"Ram\\\\u00edrez Mendoza\",\"d\":\"Facultad de Ciencias\",\"m\":\"3\",\"c\":\"7.3333\"},{\"i\":\"107000\",\"n\":\"martha\",\"a\":\"ramirez nolasco\",\"d\":\"fes aragon\",\"m\":\"0\",\"c\":null},{\"i\":\"100185\",\"n\":\"Rub\\\\u00e9n\",\"a\":\"Ram\\\\u00edrez Ortega\",\"d\":\"CCH Oriente\",\"m\":\"2\",\"c\":\"7.5000\"},{\"i\":\"120387\",\"n\":\"Amelia Eloiza\",\"a\":\"Ramirez Perez\",\"d\":\"Prepa 2\",\"m\":\"3\",\"c\":\"2.0000\"},{\"i\":\"105817\",\"n\":\"Ernesto\",\"a\":\"Ramirez S\\\\u00e1nchez\",\"d\":\"Distrito Federal\",\"m\":\"1\",\"c\":\"2.0000\"},{\"i\":\"104298\",\"n\":\"Jes\\\\u00fas\",\"a\":\"Ram\\\\u00edrez Tapia\",\"d\":\"ENTS\",\"m\":\"0\",\"c\":null},{\"i\":\"123233\",\"n\":\"Enrique\",\"a\":\"Ram\\\\u00edrez Valle\",\"d\":\"Prepa 5 Literatura universal \",\"m\":\"0\",\"c\":null},{\"i\":\"102508\",\"n\":\"Patrcia\",\"a\":\"Ramirez vega\",\"d\":\"Preparatoria 2\",\"m\":\"0\",\"c\":null},{\"i\":\"14488\",\"n\":\"Josefina Estela\",\"a\":\"Ram\\\\u00edrez Villalobos\",\"d\":\"Economia\",\"m\":\"16\",\"c\":\"7.8125\"},{\"i\":\"142938\",\"n\":\"Javier\",\"a\":\"Ram\\\\u00edrez Villanueva\",\"d\":\"Enp 9\",\"m\":\"0\",\"c\":null},{\"i\":\"149497\",\"n\":\"JUAN MIGUEL\",\"a\":\"RAMIREZ ZOZOYA\",\"d\":\"ADMIN PUBLICA \",\"m\":\"1\",\"c\":\"8.0000\"},{\"i\":\"42596\",\"n\":\"roberto\",\"a\":\"ramirezbriones\",\"d\":\"contaduria\",\"m\":\"0\",\"c\":null},{\"i\":\"51766\",\"n\":\"roberto\",\"a\":\"ramirezbriones\",\"d\":\"fca-unam\",\"m\":\"0\",\"c\":null},{\"i\":\"162386\",\"n\":\"Victoria\",\"a\":\"Ramiro esteban\",\"d\":\"Facultad de Ingenier\\\\u00eda \",\"m\":\"0\",\"c\":null},{\"i\":\"129763\",\"n\":\"Enrique\",\"a\":\"Ramos\",\"d\":\"Cch oriente \",\"m\":\"0\",\"c\":null},{\"i\":\"20236\",\"n\":\"Susana\",\"a\":\"Ramos\",\"d\":\"FES Arag\\\\u00f3n \\\\/ Comunicaci\\\\u00f3n\",\"m\":\"0\",\"c\":null},{\"i\":\"14980\",\"n\":\"Mar\\\\u00eda Elena\",\"a\":\"Ramos Aceves\",\"d\":\"Psicolog\\\\u00eda\",\"m\":\"14\",\"c\":\"7.2857\"},{\"i\":\"14985\",\"n\":\"Ignacio\",\"a\":\"Ramos Beltr\\\\u00e1n\",\"d\":\"Psicolog\\\\u00eda\",\"m\":\"4\",\"c\":\"4.0000\"},{\"i\":\"126130\",\"n\":\"anai\",\"a\":\"ramos diaz\",\"d\":\"colegio de ciencias y humanidades Sur\",\"m\":\"0\",\"c\":null},{\"i\":\"87464\",\"n\":\"Oscar\",\"a\":\"Ramos Estrada\",\"d\":\"Facultad de Derecho\",\"m\":\"2\",\"c\":\"7.0000\"},{\"i\":\"113897\",\"n\":\"Alonso\",\"a\":\"Ramos Fern\\\\u00e1ndez\",\"d\":\"Facultad de Ingenier\\\\u00eda\",\"m\":\"6\",\"c\":\"7.6667\"},{\"i\":\"136421\",\"n\":\"edgar eric\",\"a\":\"ramos garcia\",\"d\":\"contabilidad\",\"m\":\"0\",\"c\":null},{\"i\":\"162123\",\"n\":\"FERNANDA\",\"a\":\"RAMOS GARCIA\",\"d\":\"Facultad de Ingenier\\\\u00eda\",\"m\":\"0\",\"c\":null},{\"i\":\"14522\",\"n\":\"Elizabeth\",\"a\":\"Ramos Guzman\",\"d\":\"Economia\",\"m\":\"17\",\"c\":\"7.7059\"},{\"i\":\"163645\",\"n\":\"Ivonne\",\"a\":\"Ramos Hern\\\\u00e1ndez\",\"d\":\"Teatro \",\"m\":\"1\",\"c\":\"10.0000\"},{\"i\":\"152130\",\"n\":\"V\\\\u00edctor hugo\",\"a\":\"Ramos martinez\",\"d\":\"Facultad de ciencias pol\\\\u00edticas \",\"m\":\"1\",\"c\":\"10.0000\"},{\"i\":\"97727\",\"n\":\"DANIELA\",\"a\":\"RAMOS MASTACHE\",\"d\":\"Facultad de Filosof\\\\u00eda UNAM\",\"m\":\"3\",\"c\":\"9.0000\"},{\"i\":\"141813\",\"n\":\"Alya\",\"a\":\"Ramos Ramos Elorduy\",\"d\":\"Facultad de Ciencias\",\"m\":\"1\",\"c\":\"10.0000\"},{\"i\":\"163067\",\"n\":\"Maria de Lourdes\",\"a\":\"Ramos Rojas\",\"d\":\"Prepa 2\\\\\\\\Geograf\\\\u00eda \",\"m\":\"1\",\"c\":\"3.0000\"},{\"i\":\"163068\",\"n\":\"Maria De Lourdes\",\"a\":\"Ramos Rojas\",\"d\":\"Prepa 2\\\\/Geograf\\\\u00eda \",\"m\":\"1\",\"c\":\"3.0000\"},{\"i\":\"112196\",\"n\":\"benjamin\",\"a\":\"rangel\",\"d\":\"quimica\",\"m\":\"0\",\"c\":null},{\"i\":\"20847\",\"n\":\"Janett Guadalupe\",\"a\":\"Rangel Guti\\\\u00e9rrez\",\"d\":\"Econom\\\\u00eda\",\"m\":\"5\",\"c\":\"5.8000\"},{\"i\":\"105157\",\"n\":\"Antonio\",\"a\":\"Rangel pineda\",\"d\":\"Administraci\\\\u00f3n\",\"m\":\"0\",\"c\":null},{\"i\":\"155312\",\"n\":\"Francisco javier\",\"a\":\"Rangel Ram\\\\u00edrez\",\"d\":\"Derecho unam\",\"m\":\"0\",\"c\":null},{\"i\":\"28227\",\"n\":\"Gabriel\",\"a\":\"Rangel Vargas\",\"d\":\"Economia\",\"m\":\"14\",\"c\":\"8.7143\"},{\"i\":\"149671\",\"n\":\"Ra\\\\u00fal Alberto\",\"a\":\"Ra\\\\u00fal Alberto Silva Aguilera\",\"d\":\"Facultad de Ciencias\",\"m\":\"0\",\"c\":null},{\"i\":\"161902\",\"n\":\"Marvin Jos\\\\u00e9\",\"a\":\"Rayas S\\\\u00e1nchez\",\"d\":\"Facultad de Contadur\\\\u00eda y Administraci\\\\u00f3n\",\"m\":\"0\",\"c\":null},{\"i\":\"79375\",\"n\":\"Rosa\",\"a\":\"Razcon Gazca\",\"d\":\"Derecho \",\"m\":\"0\",\"c\":null},{\"i\":\"156727\",\"n\":\"Luis Bolivar\",\"a\":\"Realpe Avi\\\\u00f1a\",\"d\":\"Derecho Oratoria\",\"m\":\"1\",\"c\":\"8.0000\"},{\"i\":\"156726\",\"n\":\"Luis Bolivar\",\"a\":\"Realpe Avi\\\\u00f1a\",\"d\":\"Derecho\",\"m\":\"0\",\"c\":null},{\"i\":\"71519\",\"n\":\"ERIKA MARITZA\",\"a\":\"REBOLLAR RIVERA\",\"d\":\"UNAM DERECHO DUA\",\"m\":\"5\",\"c\":\"6.2000\"},{\"i\":\"38249\",\"n\":\"german\",\"a\":\"rebolledo santamarina\",\"d\":\"fcpys\",\"m\":\"8\",\"c\":\"4.5000\"},{\"i\":\"14993\",\"n\":\"Blanca Estela\",\"a\":\"Reguero Reza\",\"d\":\"Psicolog\\\\u00eda\",\"m\":\"9\",\"c\":\"9.3333\"},{\"i\":\"149991\",\"n\":\"Thelmo\",\"a\":\"Rej\\\\u00f3n\",\"d\":\"Solfeo\",\"m\":\"1\",\"c\":\"7.0000\"},{\"i\":\"17530\",\"n\":\"Fernando\",\"a\":\"RELLO\",\"d\":\"ECONOM\\\\u00cdA\",\"m\":\"23\",\"c\":\"5.6087\"},{\"i\":\"109445\",\"n\":\"Gustavo\",\"a\":\"Rendon Huerta\",\"d\":\"Facultad de Derecho\",\"m\":\"2\",\"c\":\"10.0000\"},{\"i\":\"139205\",\"n\":\"Ana Mar\\\\u00eda\",\"a\":\"Renter\\\\u00eda \\\\u00c1lvarez\",\"d\":\"Microbiolog\\\\u00eda y Parasitolog\\\\u00eda\",\"m\":\"0\",\"c\":null},{\"i\":\"155244\",\"n\":\"Carlos Agustin\",\"a\":\"Renteria Arballo\",\"d\":\"Ciencias pol\\\\u00edticas \",\"m\":\"0\",\"c\":null},{\"i\":\"139277\",\"n\":\"Carlos Agust\\\\u00edn\",\"a\":\"Renteria Arballo\",\"d\":\"Fes Acatlan, Finanzas Internacionales\",\"m\":\"1\",\"c\":\"6.0000\"},{\"i\":\"111478\",\"n\":\"javier\",\"a\":\"resendiz\",\"d\":\"derecho\",\"m\":\"0\",\"c\":null},{\"i\":\"107017\",\"n\":\"El\\\\u00edas Oscar\",\"a\":\"Retana Rozano\",\"d\":\"Facultad de Ciencias Pol\\\\u00edticas y sociales\",\"m\":\"2\",\"c\":\"7.0000\"},{\"i\":\"105797\",\"n\":\"LINDA MARIA DEL CARMEN\",\"a\":\"REY HERNANDEZ\",\"d\":\"FACULTAD DE INGENIER\\\\u00cdA\",\"m\":\"2\",\"c\":\"7.5000\"},{\"i\":\"114675\",\"n\":\"GONZALO\",\"a\":\"REYES\",\"d\":\"VILLA\",\"m\":\"0\",\"c\":null},{\"i\":\"116571\",\"n\":\"Sergio\",\"a\":\"Reyes\",\"d\":\"Idiomas\",\"m\":\"1\",\"c\":\"9.0000\"},{\"i\":\"100636\",\"n\":\"rita\",\"a\":\"reyes\",\"d\":\"fes zaragoza\",\"m\":\"0\",\"c\":null},{\"i\":\"133702\",\"n\":\"Carmina\",\"a\":\"Reyes\",\"d\":\"FES Arag\\\\u00f3n \",\"m\":\"3\",\"c\":\"7.3333\"},{\"i\":\"96042\",\"n\":\"marina\",\"a\":\"reyes\",\"d\":\"fes zaragoza\",\"m\":\"1\",\"c\":\"10.0000\"},{\"i\":\"136273\",\"n\":\"Gerardo\",\"a\":\"Reyes Aldasoro\",\"d\":\"Quimica \",\"m\":\"0\",\"c\":null},{\"i\":\"136035\",\"n\":\"Ricardo\",\"a\":\"Reyes Amezcua\",\"d\":\"FCPyS\",\"m\":\"4\",\"c\":\"10.0000\"},{\"i\":\"42956\",\"n\":\"Claudia\",\"a\":\"Reyes Ayala\",\"d\":\"Arquitectura UNAM \",\"m\":\"0\",\"c\":null},{\"i\":\"145007\",\"n\":\"Carlos Christopher\",\"a\":\"Reyes ba\\\\u00f1os\",\"d\":\"Filosof\\\\u00eda y letras\",\"m\":\"0\",\"c\":null},{\"i\":\"13004\",\"n\":\"Bulmaro Enrique\",\"a\":\"Reyes Coria\",\"d\":\"Filosof\\\\u00eda y Letras\",\"m\":\"47\",\"c\":\"9.0000\"},{\"i\":\"14403\",\"n\":\"Jos\\\\u00e9 Alberto\",\"a\":\"Reyes de la Rosa\",\"d\":\"Economia\",\"m\":\"102\",\"c\":\"8.0490\"},{\"i\":\"24132\",\"n\":\"ENRIQUE\",\"a\":\"REYES DIAZ\",\"d\":\"DERECHO\",\"m\":\"7\",\"c\":\"9.7143\"},{\"i\":\"158798\",\"n\":\"Mikhail S\",\"a\":\"Reyes Garc\\\\u00eda\",\"d\":\"CCH Oriente - Talleres\",\"m\":\"7\",\"c\":\"9.2857\"},{\"i\":\"160931\",\"n\":\"LUIS IGNACIO R\",\"a\":\"REYES GARCIA\",\"d\":\"Fisica\",\"m\":\"0\",\"c\":null},{\"i\":\"144664\",\"n\":\"Fernando\",\"a\":\"Reyes Leyva\",\"d\":\"cch naucalpan \",\"m\":\"1\",\"c\":\"3.0000\"},{\"i\":\"74993\",\"n\":\"Jorge Alberto\",\"a\":\"Reyes L\\\\u00f3pez\",\"d\":\"Filosof\\\\u00eda y Letras\",\"m\":\"3\",\"c\":\"9.0000\"},{\"i\":\"161061\",\"n\":\"Marisela\",\"a\":\"Reyes Mercado\",\"d\":\"Prepa 6 \",\"m\":\"0\",\"c\":null},{\"i\":\"161549\",\"n\":\"Claudia Cristina\",\"a\":\"Reyes Montes de Oca\",\"d\":\"FES Acatlan\",\"m\":\"1\",\"c\":\"8.0000\"},{\"i\":\"147004\",\"n\":\"Guillermo rodolfo\",\"a\":\"Reyes morin\",\"d\":\"Odontolog\\\\u00eda\",\"m\":\"0\",\"c\":null},{\"i\":\"162889\",\"n\":\"Mauricio\",\"a\":\"Reyes Nu\\\\u00f1ez\",\"d\":\"Psicologia\",\"m\":\"0\",\"c\":null},{\"i\":\"122122\",\"n\":\"Marcela\",\"a\":\"Reyes parra\",\"d\":\"Biologia\",\"m\":\"0\",\"c\":null},{\"i\":\"134139\",\"n\":\"JOSE LUIS EMILIO\",\"a\":\"REYES PEREZ CARMONA\",\"d\":\"FACULTAD DE CONTADURIA UNAM \",\"m\":\"2\",\"c\":\"9.0000\"},{\"i\":\"119668\",\"n\":\"Francisco Alejandro\",\"a\":\"Reyes P\\\\u00e9rez Monta\\\\u00f1ez\",\"d\":\"Ciencias \",\"m\":\"1\",\"c\":\"10.0000\"},{\"i\":\"145217\",\"n\":\"ADOLFO\",\"a\":\"Reyes pizano\",\"d\":\"Ingenier\\\\u00eda geomsttica  unam\",\"m\":\"1\",\"c\":\"10.0000\"},{\"i\":\"15212\",\"n\":\"Silvia\",\"a\":\"Reyes Salinas\",\"d\":\"F\\\\u00edsica\",\"m\":\"9\",\"c\":\"8.0000\"},{\"i\":\"72347\",\"n\":\"Hector\",\"a\":\"Reyes Soto\",\"d\":\"FESC\",\"m\":\"1\",\"c\":\"9.0000\"},{\"i\":\"72346\",\"n\":\"Hector\",\"a\":\"Reyes Soto\",\"d\":\"Clinica Bovina\",\"m\":\"0\",\"c\":null},{\"i\":\"14489\",\"n\":\"Marco Antonio\",\"a\":\"Reyes Valencia\",\"d\":\"Economia\",\"m\":\"17\",\"c\":\"9.3529\"},{\"i\":\"136177\",\"n\":\"Miguel \\\\u00c1ngel\",\"a\":\"Reyna Gayt\\\\u00e1n\",\"d\":\"Derecho\",\"m\":\"0\",\"c\":null},{\"i\":\"15457\",\"n\":\"Jesus \",\"a\":\"Reynaga\",\"d\":\"Medicina\",\"m\":\"2\",\"c\":\"10.0000\"},{\"i\":\"15456\",\"n\":\"Adriana\",\"a\":\"Reynaga\",\"d\":\"FCPYS\",\"m\":\"6\",\"c\":\"9.5000\"},{\"i\":\"154372\",\"n\":\"ANGEL RODOLFO\",\"a\":\"REYNOSO CRUZ\",\"d\":\"FESA-Econom\\\\u00eda\",\"m\":\"1\",\"c\":\"8.0000\"},{\"i\":\"156229\",\"n\":\"Marcela\",\"a\":\"Reynoso Jurado\",\"d\":\"Facultad de Ciencias Pol\\\\u00edticas y Sociale\",\"m\":\"0\",\"c\":null},{\"i\":\"137684\",\"n\":\"Miguel Angel\",\"a\":\"ReynosoGatica\",\"d\":\"Arquitectura \",\"m\":\"0\",\"c\":null},{\"i\":\"55227\",\"n\":\"MONIKA\",\"a\":\"RIBEIRO DE FREITAS MEIRELES\",\"d\":\"Economia \",\"m\":\"2\",\"c\":\"10.0000\"},{\"i\":\"106182\",\"n\":\"Jose\",\"a\":\"Ricardez perez\",\"d\":\"Ciencias politicas\",\"m\":\"14\",\"c\":\"9.3571\"},{\"i\":\"95617\",\"n\":\"CABRERA POSADA\",\"a\":\"RICARDO ING.\",\"d\":\"termodinamica\",\"m\":\"6\",\"c\":\"4.6667\"},{\"i\":\"163552\",\"n\":\"ALDO ANDRES\",\"a\":\"RIMASSA NARANJO\",\"d\":\"Ciencias M\\\\u00e9dicas\",\"m\":\"0\",\"c\":null},{\"i\":\"161437\",\"n\":\"Alberto\",\"a\":\"Rinc\\\\u00f3n Galaena\",\"d\":\"Ciencias \",\"m\":\"0\",\"c\":null},{\"i\":\"14918\",\"n\":\"Rodrigo Alberto\",\"a\":\"Rinc\\\\u00f3n G\\\\u00f3mez\",\"d\":\"Ingenieria\",\"m\":\"15\",\"c\":\"7.5333\"},{\"i\":\"158882\",\"n\":\"Itsel Merari\",\"a\":\"Rinc\\\\u00f3n Hern\\\\u00e1ndez\",\"d\":\"Escuela Nacional de Lenguas, Ling\\\\u00fc\\\\u00edstica, y Traduc\",\"m\":\"1\",\"c\":\"2.0000\"},{\"i\":\"20198\",\"n\":\"Rafael\",\"a\":\"Rion Arreola\",\"d\":\"Farmacia\",\"m\":\"10\",\"c\":\"9.4000\"},{\"i\":\"151767\",\"n\":\"Alicia\",\"a\":\"Rios\",\"d\":\"Historia\",\"m\":\"0\",\"c\":null},{\"i\":\"157442\",\"n\":\"Dassaev\",\"a\":\"Rios\",\"d\":\"Arquitectura\",\"m\":\"0\",\"c\":null},{\"i\":\"14928\",\"n\":\"Juan Rodolfo Mauricio\",\"a\":\"Rios Baez\",\"d\":\"Economia\",\"m\":\"24\",\"c\":\"4.8333\"},{\"i\":\"127490\",\"n\":\"Ana Bel\\\\u00e9n\",\"a\":\"R\\\\u00edos Carmona\",\"d\":\"Facultad de Econom\\\\u00eda \",\"m\":\"2\",\"c\":\"9.5000\"},{\"i\":\"39964\",\"n\":\"LEDA\",\"a\":\"RIOS FIGUEROA\",\"d\":\"ARQUITECTURA\",\"m\":\"10\",\"c\":\"9.1000\"},{\"i\":\"153966\",\"n\":\"DIANA EMIRETH\",\"a\":\"R\\\\u00edos L\\\\u00f3pez\",\"d\":\"UNAM\",\"m\":\"0\",\"c\":null},{\"i\":\"162751\",\"n\":\"ALICIA\",\"a\":\"RIOS MARTINEZ\",\"d\":\"Arquitectura del paisaje \",\"m\":\"1\",\"c\":\"5.0000\"},{\"i\":\"14490\",\"n\":\"Jos\\\\u00e9 Guillermo\",\"a\":\"R\\\\u00edos Mart\\\\u00ednez\",\"d\":\"Economia\",\"m\":\"12\",\"c\":\"7.6667\"},{\"i\":\"123008\",\"n\":\"Israel\",\"a\":\"Rios Mora\",\"d\":\"preparatoria 7, colegio de fisica\",\"m\":\"0\",\"c\":null},{\"i\":\"146072\",\"n\":\"Leticia\",\"a\":\"R\\\\u00edos Quiroz\",\"d\":\"CCH ORIENTE, BIOLOG\\\\u00cdA \",\"m\":\"4\",\"c\":\"3.5000\"},{\"i\":\"134600\",\"n\":\"Alejandra Yasmin\",\"a\":\"R\\\\u00edos Qu\\\\u00edroz\",\"d\":\"Fes Arag\\\\u00f3n\",\"m\":\"1\",\"c\":\"4.0000\"},{\"i\":\"65822\",\"n\":\"LILI MARGARITA\",\"a\":\"RIOS RODRIGUEZ\",\"d\":\"DERECHO\",\"m\":\"3\",\"c\":\"10.0000\"},{\"i\":\"15791\",\"n\":\"Carlos Alonso\",\"a\":\"Rius\",\"d\":\"Quimica Organica\",\"m\":\"7\",\"c\":\"7.4286\"},{\"i\":\"162831\",\"n\":\"Ana Laura\",\"a\":\"Riva P\\\\u00e9rez\",\"d\":\"Contadur\\\\u00eda y administraci\\\\u00f3n \",\"m\":\"0\",\"c\":null},{\"i\":\"15551\",\"n\":\"Alejandro\",\"a\":\"Rivadeneyra\",\"d\":\"Arquitectura\",\"m\":\"4\",\"c\":\"8.7500\"},{\"i\":\"128265\",\"n\":\"fermin edgardo\",\"a\":\"Rivas prats\",\"d\":\"Facultad de ciencias pol\\\\u00edticas y sociales \",\"m\":\"8\",\"c\":\"8.5000\"},{\"i\":\"75078\",\"n\":\"Ana Myriam\",\"a\":\"Rivas Salgado\",\"d\":\"FES Cuautitlan \",\"m\":\"4\",\"c\":\"7.0000\"},{\"i\":\"65229\",\"n\":\"ALEJANDRO\",\"a\":\"RIVERA\",\"d\":\"DOMINGUEZ\",\"m\":\"1\",\"c\":\"10.0000\"},{\"i\":\"14523\",\"n\":\"Godofredo\",\"a\":\"Rivera Arias\",\"d\":\"Economia\",\"m\":\"35\",\"c\":\"8.8000\"},{\"i\":\"153085\",\"n\":\"Norma\",\"a\":\"Rivera Badillo\",\"d\":\"FES Cuautitl\\\\u00e1n UNAM\",\"m\":\"1\",\"c\":\"10.0000\"},{\"i\":\"114631\",\"n\":\"Elizabeth\",\"a\":\"Rivera Barajas\",\"d\":\"ENALLT-UNAM\",\"m\":\"2\",\"c\":\"9.5000\"},{\"i\":\"149972\",\"n\":\"Benjamin\",\"a\":\"Rivera Buendia\",\"d\":\"Qu\\\\u00edmica \",\"m\":\"2\",\"c\":\"7.0000\"},{\"i\":\"140718\",\"n\":\"Jorge\",\"a\":\"Rivera casta\\\\u00f1eda\",\"d\":\"Preparatoria 8 \",\"m\":\"0\",\"c\":null},{\"i\":\"133866\",\"n\":\"Delia iveth\",\"a\":\"Rivera castro\",\"d\":\"Economia\",\"m\":\"0\",\"c\":null},{\"i\":\"136872\",\"n\":\"humberto\",\"a\":\"rivera cordero\",\"d\":\"derecho\",\"m\":\"0\",\"c\":null},{\"i\":\"65242\",\"n\":\"ALEJANDRO\",\"a\":\"RIVERA DOMINGUEZ\",\"d\":\"CIENCIAS\",\"m\":\"2\",\"c\":\"5.0000\"},{\"i\":\"155558\",\"n\":\"Mauricio Germ\\\\u00e1n\",\"a\":\"Rivera Ferreiro\",\"d\":\"FACULTAD DE ARTE Y DISE\\\\u00d1O \",\"m\":\"0\",\"c\":null},{\"i\":\"142932\",\"n\":\"Rafael\",\"a\":\"Rivera Garc\\\\u00eda\",\"d\":\"MEDICINA\",\"m\":\"0\",\"c\":null},{\"i\":\"121597\",\"n\":\"Alejandro\",\"a\":\"Rivera Martinez\",\"d\":\"Matem\\\\u00e1ticas V\",\"m\":\"2\",\"c\":\"9.0000\"},{\"i\":\"159354\",\"n\":\"Luis Alberto\",\"a\":\"Rivera Mena\",\"d\":\"Educaci\\\\u00f3n \",\"m\":\"1\",\"c\":\"2.0000\"},{\"i\":\"110341\",\"n\":\"Sebasti\\\\u00e1n\",\"a\":\"Rivera Mir\",\"d\":\"Facultad de Filosof\\\\u00eda y Letras, CELA\",\"m\":\"1\",\"c\":\"10.0000\"},{\"i\":\"31325\",\"n\":\"CARMEN LINA\",\"a\":\"rivera pozos\",\"d\":\"\",\"m\":\"6\",\"c\":\"7.5000\"},{\"i\":\"14590\",\"n\":\"Miguel Angel\",\"a\":\"Rivera Rios\",\"d\":\"Economia\",\"m\":\"68\",\"c\":\"7.7059\"},{\"i\":\"75878\",\"n\":\"patricio\",\"a\":\"rivera romero\",\"d\":\"trabajo social\",\"m\":\"0\",\"c\":null},{\"i\":\"145318\",\"n\":\"Lorena Estefan\\\\u00eda\",\"a\":\"Rivera Rosas\",\"d\":\"Facultad de Filosof\\\\u00eda y Letras \",\"m\":\"1\",\"c\":\"9.0000\"},{\"i\":\"23648\",\"n\":\"Elizabeth\",\"a\":\"Rivera S\\\\u00e1nchez\",\"d\":\"ECONOMIA\",\"m\":\"52\",\"c\":\"5.5962\"},{\"i\":\"141236\",\"n\":\"Marina\",\"a\":\"Rivera Trejo\",\"d\":\"CCH Naucalpan\",\"m\":\"1\",\"c\":\"2.0000\"},{\"i\":\"134381\",\"n\":\"Jose Manuel\",\"a\":\"Rizo Diego\",\"d\":\"Psicolog\\\\u00eda\",\"m\":\"1\",\"c\":\"10.0000\"},{\"i\":\"14491\",\"n\":\"Jos\\\\u00e9\",\"a\":\"Roa Rosas\",\"d\":\"Economia\",\"m\":\"15\",\"c\":\"7.6667\"},{\"i\":\"116288\",\"n\":\"Bertha Angelica\",\"a\":\"Robles Gonzales\",\"d\":\"C\\\\u00f3rdoba\",\"m\":\"1\",\"c\":\"5.0000\"},{\"i\":\"142017\",\"n\":\"Jonathan Siu Loong\",\"a\":\"Robles Hern\\\\u00e1ndez\",\"d\":\"Facultad de Ciencias\",\"m\":\"2\",\"c\":\"9.0000\"},{\"i\":\"156773\",\"n\":\"Mariel Alejandra\",\"a\":\"Robles Valadez\",\"d\":\"Cch vallejo \",\"m\":\"0\",\"c\":null},{\"i\":\"94989\",\"n\":\"JAVIER ALBERTO\",\"a\":\"ROCHA OLGUIN\",\"d\":\"DERECHO \",\"m\":\"6\",\"c\":\"5.0000\"},{\"i\":\"18459\",\"n\":\"Marco Antonio\",\"a\":\"Rocha Sanchez\",\"d\":\"Economia\",\"m\":\"6\",\"c\":\"5.8333\"},{\"i\":\"111110\",\"n\":\"Grecia\",\"a\":\"Rocha Soriano\",\"d\":\"Posgrado Facultad Derecho UNAM\",\"m\":\"0\",\"c\":null},{\"i\":\"15198\",\"n\":\"Rafael\",\"a\":\"Rocher Gomez\",\"d\":\"Derecho\",\"m\":\"46\",\"c\":\"8.2826\"},{\"i\":\"14524\",\"n\":\"Catarina\",\"a\":\"Rock Varga\",\"d\":\"Economia\",\"m\":\"30\",\"c\":\"7.9333\"},{\"i\":\"149310\",\"n\":\"Luis\",\"a\":\"Rodolfo\",\"d\":\"Psicolog\\\\u00eda \",\"m\":\"0\",\"c\":null},{\"i\":\"90883\",\"n\":\"Pablo\",\"a\":\"Rodrigues\",\"d\":\"Millan\",\"m\":\"0\",\"c\":null},{\"i\":\"138874\",\"n\":\"David\",\"a\":\"Rodrigues Alva\",\"d\":\"Cch Vallejo\",\"m\":\"1\",\"c\":\"2.0000\"},{\"i\":\"138873\",\"n\":\"David\",\"a\":\"Rodrigues Alva\",\"d\":\"Lectura y Redacci\\\\u00f3n\",\"m\":\"0\",\"c\":null},{\"i\":\"110991\",\"n\":\"Orlando\",\"a\":\"Rodr\\\\u00edguez\",\"d\":\"Prepa 6\",\"m\":\"1\",\"c\":\"10.0000\"},{\"i\":\"102624\",\"n\":\"Susana\",\"a\":\"Rodriguez\",\"d\":\"Jimenez\",\"m\":\"0\",\"c\":null},{\"i\":\"111439\",\"n\":\"laura\",\"a\":\"rodriguez\",\"d\":\"islas\",\"m\":\"0\",\"c\":null},{\"i\":\"15347\",\"n\":\"GERARDO\",\"a\":\"RODRIGUEZ\",\"d\":\"INGENIERIA\",\"m\":\"1\",\"c\":\"10.0000\"},{\"i\":\"109943\",\"n\":\"V\\\\u00edctor Manuel\",\"a\":\"Rodr\\\\u00edguez Aguilar\",\"d\":\"Prepa 7\",\"m\":\"5\",\"c\":\"4.0000\"},{\"i\":\"14525\",\"n\":\"Domingo\",\"a\":\"Rodriguez Benavides\",\"d\":\"Economia\",\"m\":\"0\",\"c\":null},{\"i\":\"14443\",\"n\":\"Juan Antonio\",\"a\":\"Rodr\\\\u00edguez Calder\\\\u00f3n\",\"d\":\"Economia\",\"m\":\"19\",\"c\":\"7.4737\"},{\"i\":\"14526\",\"n\":\"Otila Laura\",\"a\":\"Rodriguez Camacho\",\"d\":\"Economia\",\"m\":\"9\",\"c\":\"6.6667\"},{\"i\":\"14591\",\"n\":\"Cesar Raul\",\"a\":\"Rodriguez Casillas\",\"d\":\"Economia\",\"m\":\"3\",\"c\":\"4.3333\"},{\"i\":\"153385\",\"n\":\"Diego Armando\",\"a\":\"Rodr\\\\u00edguez Cort\\\\u00e9s\",\"d\":\"Posgrado Arquitectura\",\"m\":\"16\",\"c\":\"9.9375\"},{\"i\":\"107071\",\"n\":\"Teresa\",\"a\":\"Rodriguez de la Vega\",\"d\":\"Sociolog\\\\u00eda \",\"m\":\"0\",\"c\":null},{\"i\":\"15686\",\"n\":\"Joaquin\",\"a\":\"Rodriguez Diaz\",\"d\":\"ENAP\",\"m\":\"19\",\"c\":\"6.0000\"},{\"i\":\"15384\",\"n\":\"Jesus\",\"a\":\"Rodriguez Franco\",\"d\":\"Administracion\\\\/ Estadistica\",\"m\":\"9\",\"c\":\"4.8889\"},{\"i\":\"46939\",\"n\":\"Edgar\",\"a\":\"Rodriguez fuentevilla\",\"d\":\"ENP 4\",\"m\":\"9\",\"c\":\"4.7778\"},{\"i\":\"162419\",\"n\":\"Mario enrique\",\"a\":\"Rodriguez garcia\",\"d\":\"Fisica\",\"m\":\"0\",\"c\":null},{\"i\":\"14527\",\"n\":\"Mauro\",\"a\":\"Rodriguez Garcia\",\"d\":\"Economia\",\"m\":\"24\",\"c\":\"5.5417\"},{\"i\":\"142665\",\"n\":\"Alcis\",\"a\":\"Rodriguez Garcia\",\"d\":\"Fes Aragon \",\"m\":\"0\",\"c\":null},{\"i\":\"155592\",\"n\":\"Clotilde Margarita\",\"a\":\"Rodr\\\\u00edguez Hern\\\\u00e1ndez\",\"d\":\"Escuela Nacional de Trabajo Social\",\"m\":\"1\",\"c\":\"10.0000\"},{\"i\":\"105079\",\"n\":\"Clotilde Margarita\",\"a\":\"Rodriguez Hern\\\\u00e1ndez\",\"d\":\"Trabajo Social\",\"m\":\"0\",\"c\":null},{\"i\":\"109133\",\"n\":\"Alma luz\",\"a\":\"Rodr\\\\u00edguez L\\\\u00e1zaro\",\"d\":\"Cele\",\"m\":\"0\",\"c\":null},{\"i\":\"32581\",\"n\":\"Lorena\",\"a\":\"Rodr\\\\u00edguez Le\\\\u00f3n\",\"d\":\"Econom\\\\u00eda\",\"m\":\"9\",\"c\":\"9.8889\"},{\"i\":\"14592\",\"n\":\"Patricia\",\"a\":\"Rodriguez Lopez\",\"d\":\"Economia\",\"m\":\"16\",\"c\":\"7.6250\"},{\"i\":\"14528\",\"n\":\"Luis\",\"a\":\"Rodriguez Medellin\",\"d\":\"Economia\",\"m\":\"1\",\"c\":\"6.0000\"},{\"i\":\"149044\",\"n\":\"PATRICIA\",\"a\":\"RODRIGUEZ NAVA\",\"d\":\"medicina \",\"m\":\"0\",\"c\":null},{\"i\":\"141124\",\"n\":\"Marisol\",\"a\":\"Rodriguez Nieto\",\"d\":\"Facultad de Derecho \",\"m\":\"5\",\"c\":\"9.8000\"},{\"i\":\"134124\",\"n\":\"Paola Elizabeth\",\"a\":\"Rodr\\\\u00edguez Ocampo\",\"d\":\"Ingenier\\\\u00eda\",\"m\":\"0\",\"c\":null},{\"i\":\"125362\",\"n\":\"MOIS\\\\u00c9S EDUARDO\",\"a\":\"RODR\\\\u00cdGUEZ OLVERA\",\"d\":\"PSICOLOGIA UNAM\",\"m\":\"0\",\"c\":null},{\"i\":\"159904\",\"n\":\"Martha\",\"a\":\"Rodr\\\\u00edguez Ortiz\",\"d\":\"FEST ARAG\\\\u00d3N DERECHO \",\"m\":\"1\",\"c\":\"10.0000\"},{\"i\":\"104632\",\"n\":\"Marisela\",\"a\":\"Rodr\\\\u00edguez Pacheco\",\"d\":\"FES Acatl\\\\u00e1n\",\"m\":\"1\",\"c\":\"10.0000\"},{\"i\":\"62541\",\"n\":\"Dar\\\\u00edo Eduardo\",\"a\":\"Rodr\\\\u00edguez Palacios\",\"d\":\"Facultad de Ingenieria\",\"m\":\"3\",\"c\":\"8.0000\"},{\"i\":\"161233\",\"n\":\"Roberto Carlos\",\"a\":\"Rodr\\\\u00edguez Palomar\",\"d\":\"Prepa 6 \",\"m\":\"0\",\"c\":null},{\"i\":\"100202\",\"n\":\"Francisco Javier\",\"a\":\"Rodr\\\\u00edguez P\\\\u00e9rez\",\"d\":\"Educaci\\\\u00f3n f\\\\u00edsica\",\"m\":\"0\",\"c\":null},{\"i\":\"122157\",\"n\":\"Roberto\",\"a\":\"Rodr\\\\u00edguez Perez\",\"d\":\"Matem\\\\u00e1ticas\",\"m\":\"1\",\"c\":\"7.0000\"},{\"i\":\"87343\",\"n\":\"Erandi Tzayani\",\"a\":\"Rodr\\\\u00edguez P\\\\u00e9rez\",\"d\":\"Facultad de Ciencias\",\"m\":\"6\",\"c\":\"5.3333\"},{\"i\":\"142019\",\"n\":\"Jos\\\\u00e9 Ram\\\\u00f3n\",\"a\":\"Rodrigu\\\\u00e9z Ponce\",\"d\":\"Facultad de Ingenier\\\\u00eda\",\"m\":\"2\",\"c\":\"9.0000\"},{\"i\":\"162471\",\"n\":\"Claudia Paola\",\"a\":\"Rodr\\\\u00edguez Rodr\\\\u00edguez\",\"d\":\"Posgrado valuaci\\\\u00f3n inmobiliaria \",\"m\":\"1\",\"c\":\"2.0000\"},{\"i\":\"11256\",\"n\":\"Mart\\\\u00edn\",\"a\":\"Rodr\\\\u00edguez Rodr\\\\u00edguez\",\"d\":\"Econom\\\\u00eda\",\"m\":\"2\",\"c\":\"4.5000\"},{\"i\":\"80791\",\"n\":\"Hortencia\",\"a\":\"Rodriguez sanchez\",\"d\":\"Derecho\\\\/fiscalI\",\"m\":\"4\",\"c\":\"5.5000\"},{\"i\":\"110752\",\"n\":\"Delia del carmen\",\"a\":\"Rodriguez somarriba\",\"d\":\"Derecho\",\"m\":\"0\",\"c\":null},{\"i\":\"32310\",\"n\":\"salvador enrique\",\"a\":\"rodriguez trujano\",\"d\":\"Derecho\\\\/ etica y filosofia\",\"m\":\"4\",\"c\":\"9.7500\"},{\"i\":\"93960\",\"n\":\"Alejandro\",\"a\":\"Rodriguez Vald\\\\u00e9s\",\"d\":\"Facultad de ingenier\\\\u00eda UNAM\",\"m\":\"7\",\"c\":\"4.5714\"},{\"i\":\"14444\",\"n\":\"Jos\\\\u00e9 de Jes\\\\u00fas\",\"a\":\"Rodr\\\\u00edguez Vargas\",\"d\":\"Economia\",\"m\":\"29\",\"c\":\"8.1034\"},{\"i\":\"15936\",\"n\":\"DANIEL\",\"a\":\"RODR\\\\u00cdGUEZ VELAZQUEZ\",\"d\":\"ESCUELA NACIONAL DE TRABAJO SOCIAL\",\"m\":\"22\",\"c\":\"8.5000\"},{\"i\":\"136751\",\"n\":\"Francisco\",\"a\":\"Rogel Favila\",\"d\":\"Contadur\\\\u00eda\",\"m\":\"0\",\"c\":null},{\"i\":\"163553\",\"n\":\"Oscar\",\"a\":\"Rojas\",\"d\":\"Fes zaragoza \",\"m\":\"0\",\"c\":null},{\"i\":\"90512\",\"n\":\"Armando\",\"a\":\"Rojas Ar\\\\u00e9valo\",\"d\":\"Ciencias Pol\\\\u00edticas y Sociales \",\"m\":\"0\",\"c\":null},{\"i\":\"118081\",\"n\":\"Lorena\",\"a\":\"Rojas banos\",\"d\":\"H\",\"m\":\"0\",\"c\":null},{\"i\":\"152484\",\"n\":\"JUlio\",\"a\":\"Rojas BLAS\",\"d\":\"Facultad de ingenier\\\\u00eda\",\"m\":\"0\",\"c\":null},{\"i\":\"15774\",\"n\":\"AIDA\",\"a\":\"ROJAS CASTA\\\\u00d1EDA\",\"d\":\"DERECHO\",\"m\":\"80\",\"c\":\"7.3625\"},{\"i\":\"155899\",\"n\":\"Francisco Javier\",\"a\":\"Rojas Duran\",\"d\":\"Facultad de Ingenier\\\\u00eda \",\"m\":\"1\",\"c\":\"10.0000\"},{\"i\":\"42552\",\"n\":\"Lorenzo\",\"a\":\"Rojas Hernandez\",\"d\":\"FES Zaragoza\\\\/Ingenieria\",\"m\":\"0\",\"c\":null},{\"i\":\"131238\",\"n\":\"Tania Jocelin\",\"a\":\"Rojas Herrera\",\"d\":\"Ingenier\\\\u00eda de software  \",\"m\":\"14\",\"c\":\"7.9286\"},{\"i\":\"135635\",\"n\":\"Alfonso\",\"a\":\"Rojas Mart\\\\u00ednez\",\"d\":\"Matem\\\\u00e1ticas 1\",\"m\":\"0\",\"c\":null},{\"i\":\"14445\",\"n\":\"Jos\\\\u00e9 Antonio\",\"a\":\"Rojas Nieto\",\"d\":\"Economia\",\"m\":\"21\",\"c\":\"8.1905\"},{\"i\":\"14984\",\"n\":\"Olga Araceli\",\"a\":\"Rojas Ramos\",\"d\":\"Psicolog\\\\u00eda\",\"m\":\"7\",\"c\":\"6.7143\"},{\"i\":\"20942\",\"n\":\"MICHEL\",\"a\":\"ROJAS ROMERO\",\"d\":\"Economia\",\"m\":\"30\",\"c\":\"4.1333\"},{\"i\":\"69467\",\"n\":\"Esperanza\",\"a\":\"Rojas Villa\",\"d\":\"Facultad de Econom\\\\u00eda \",\"m\":\"25\",\"c\":\"2.9600\"},{\"i\":\"124331\",\"n\":\"EMILIO\",\"a\":\"ROJO CERVANTES\",\"d\":\"DERECHO DED\",\"m\":\"2\",\"c\":\"10.0000\"},{\"i\":\"150314\",\"n\":\"Iskra Alejandra\",\"a\":\"Rojo Negrete\",\"d\":\"Facultad de Ciencias\",\"m\":\"1\",\"c\":\"10.0000\"},{\"i\":\"119123\",\"n\":\"Ignacio Alejandro  Alfredo\",\"a\":\"Rold\\\\u00e1n Calder\\\\u00f3n\",\"d\":\"Facultad de estudios  fes cuauatitlan \",\"m\":\"3\",\"c\":\"6.3333\"},{\"i\":\"151234\",\"n\":\"Alejandro\",\"a\":\"Roman\",\"d\":\"V\\\\u00e1zquez\",\"m\":\"1\",\"c\":\"10.0000\"},{\"i\":\"160698\",\"n\":\"LUIS IGNACIO\",\"a\":\"ROM\\\\u00c1N DE LA SANCHA\",\"d\":\"Facultad de Ingenier\\\\u00eda\",\"m\":\"1\",\"c\":\"10.0000\"},{\"i\":\"40097\",\"n\":\"JOSE DE JESUS\",\"a\":\"ROM\\\\u00c1N ESQUIVEL\",\"d\":\"DERECHO\",\"m\":\"2\",\"c\":\"10.0000\"},{\"i\":\"67986\",\"n\":\"tania\",\"a\":\"romero\",\"d\":\"cch oriente\",\"m\":\"4\",\"c\":\"3.5000\"},{\"i\":\"104424\",\"n\":\"Leonel\",\"a\":\"Romero\",\"d\":\"Fes Zaragoza \",\"m\":\"0\",\"c\":null},{\"i\":\"159343\",\"n\":\"Daniel\",\"a\":\"Romero\",\"d\":\"F\\\\u00e1cultad de Psicologia \",\"m\":\"0\",\"c\":null},{\"i\":\"152734\",\"n\":\"Gustavo\",\"a\":\"Romero\",\"d\":\"Arquitectura \",\"m\":\"0\",\"c\":null},{\"i\":\"105357\",\"n\":\"Martin\",\"a\":\"romero\",\"d\":\"ciencias\",\"m\":\"0\",\"c\":null},{\"i\":\"145583\",\"n\":\"Francisco Javier\",\"a\":\"Romero Gonz\\\\u00e1les\",\"d\":\"Fes Arag\\\\u00f3n\",\"m\":\"0\",\"c\":null},{\"i\":\"159107\",\"n\":\"Juan Enrique\",\"a\":\"Romero Hern\\\\u00e1ndez\",\"d\":\"Facultad de Qu\\\\u00edmica\\\\/Matem\\\\u00e1ticas\",\"m\":\"1\",\"c\":\"10.0000\"},{\"i\":\"141500\",\"n\":\"Jairo Alberto\",\"a\":\"Romero Huerta\",\"d\":\"Filosof\\\\u00eda y letras (MADEMS)\",\"m\":\"5\",\"c\":\"8.0000\"},{\"i\":\"134371\",\"n\":\"Mar\\\\u00eda Eugenia\",\"a\":\"Romero Ibarra\",\"d\":\"Historia econ\\\\u00f3mica general ll\",\"m\":\"0\",\"c\":null},{\"i\":\"14492\",\"n\":\"Mar\\\\u00eda Eugenia\",\"a\":\"Romero Ibarra\",\"d\":\"Economia\",\"m\":\"27\",\"c\":\"8.7407\"},{\"i\":\"160723\",\"n\":\"Juan Manuel\",\"a\":\"Romero Ortega\",\"d\":\"UNAM POSGRADO FCA\",\"m\":\"1\",\"c\":\"4.0000\"},{\"i\":\"163294\",\"n\":\"Claudia melissa\",\"a\":\"Romero palomino\",\"d\":\"Secundaria\",\"m\":\"1\",\"c\":\"6.0000\"},{\"i\":\"163293\",\"n\":\"Claudia melissa\",\"a\":\"Romero palomino\",\"d\":\"Uabc\",\"m\":\"0\",\"c\":null},{\"i\":\"109488\",\"n\":\"Roberto\",\"a\":\"Romero Pimentel\",\"d\":\"Ingenier\\\\u00eda\",\"m\":\"4\",\"c\":\"6.0000\"},{\"i\":\"11257\",\"n\":\"Jos\\\\u00e9 Antonio\",\"a\":\"Romero S\\\\u00e1nchez\",\"d\":\"Econom\\\\u00eda\",\"m\":\"25\",\"c\":\"4.0000\"},{\"i\":\"141791\",\"n\":\"Jos\\\\u00e9 Antonio\",\"a\":\"Romero S\\\\u00e1nchez\",\"d\":\"Facultad de econom\\\\u00eda\",\"m\":\"0\",\"c\":null},{\"i\":\"37167\",\"n\":\"Patricia\",\"a\":\"Romero S\\\\u00e1nchez\",\"d\":\"Psicolog\\\\u00eda\",\"m\":\"9\",\"c\":\"8.3333\"},{\"i\":\"66251\",\"n\":\"noe de jesus\",\"a\":\"romero serrano\",\"d\":\"facultad de ingenieria, ciecias basicas\",\"m\":\"1\",\"c\":\"5.0000\"},{\"i\":\"151659\",\"n\":\"Gabriel Eduardo\",\"a\":\"Romero Serrano\",\"d\":\"Medicina\",\"m\":\"0\",\"c\":null},{\"i\":\"14493\",\"n\":\"Mar\\\\u00eda Eugenia\",\"a\":\"Romero Sotelo\",\"d\":\"Economia\",\"m\":\"36\",\"c\":\"6.2500\"},{\"i\":\"135584\",\"n\":\"MAR\\\\u00cdA TERESA\",\"a\":\"ROMERO TOVAR\",\"d\":\"FCPYS\",\"m\":\"1\",\"c\":\"4.0000\"},{\"i\":\"155832\",\"n\":\"Gerardo\",\"a\":\"Romero V\\\\u00e1zquez\",\"d\":\"Escuela de Trabajo Social\",\"m\":\"1\",\"c\":\"2.0000\"},{\"i\":\"16131\",\"n\":\"Javier\",\"a\":\"Romo Michaud\",\"d\":\"Derecho\",\"m\":\"109\",\"c\":\"7.9817\"},{\"i\":\"114990\",\"n\":\"Jorge Luis\",\"a\":\"Romo Reyes\",\"d\":\"FES ARAG\\\\u00d3N\",\"m\":\"3\",\"c\":\"2.0000\"},{\"i\":\"127568\",\"n\":\"Dulce Mar\\\\u00eda\",\"a\":\"Romo Z\\\\u00fa\\\\u00f1iga\",\"d\":\"Facultad de ciencias pol\\\\u00edticas\",\"m\":\"4\",\"c\":\"3.5000\"},{\"i\":\"114228\",\"n\":\"gabriela\",\"a\":\"roque deplanche\",\"d\":\"ENTS\",\"m\":\"0\",\"c\":null},{\"i\":\"127213\",\"n\":\"Mar\\\\u00eda de Lourdes\",\"a\":\"Roque Hern\\\\u00e1ndez\",\"d\":\"Preparatoria 2\",\"m\":\"2\",\"c\":\"10.0000\"},{\"i\":\"75948\",\"n\":\"Elisa\",\"a\":\"Rosales\",\"d\":\"Fcp\",\"m\":\"3\",\"c\":\"8.6667\"},{\"i\":\"67492\",\"n\":\"Espartaco\",\"a\":\"Rosales\",\"d\":\"Facultad de Ciencias Pol\\\\u00edticas y Sociales\",\"m\":\"6\",\"c\":\"9.8333\"},{\"i\":\"119983\",\"n\":\"Laura\",\"a\":\"Rosales\",\"d\":\"Ciencias\",\"m\":\"2\",\"c\":\"4.5000\"},{\"i\":\"159869\",\"n\":\"Alejandro\",\"a\":\"Rosales\",\"d\":\"Administracion\",\"m\":\"1\",\"c\":\"3.0000\"},{\"i\":\"64738\",\"n\":\"Ernesto\",\"a\":\"Rosales Gonz\\\\u00e1lez\",\"d\":\"Matem\\\\u00e1ticas\",\"m\":\"1\",\"c\":\"10.0000\"},{\"i\":\"80911\",\"n\":\"Alfredo lsrael.\",\"a\":\"Rosales trejo\",\"d\":\"Juridico\",\"m\":\"0\",\"c\":null},{\"i\":\"98665\",\"n\":\"Mar\\\\u00eda Cristina\",\"a\":\"Rosas\",\"d\":\"Facultad de Ciencias Pol\\\\u00edticas y Sociales\",\"m\":\"1\",\"c\":\"10.0000\"},{\"i\":\"15192\",\"n\":\"Maria Cristina\",\"a\":\"Rosas \",\"d\":\"FCPyS\",\"m\":\"22\",\"c\":\"9.0909\"},{\"i\":\"48749\",\"n\":\"JULIAN\",\"a\":\"ROSAS AYALA\",\"d\":\"MATEMATICAS\",\"m\":\"1\",\"c\":\"2.0000\"},{\"i\":\"92091\",\"n\":\"Raymundo\",\"a\":\"Rosas cadena\",\"d\":\"Arquitectura\",\"m\":\"0\",\"c\":null},{\"i\":\"56586\",\"n\":\"Raymundo Ezequiel\",\"a\":\"Rosas cadena\",\"d\":\"Arquitectura\",\"m\":\"8\",\"c\":\"2.0000\"},{\"i\":\"138011\",\"n\":\"Charly Michelle\",\"a\":\"Rosas Hern\\\\u00e1ndez\",\"d\":\"FFYL \\\\/ UNAM \",\"m\":\"3\",\"c\":\"6.3333\"},{\"i\":\"42077\",\"n\":\"Norma Angelica\",\"a\":\"Rosas Lopez\",\"d\":\"Ciencias de la comunicacion\",\"m\":\"2\",\"c\":\"8.0000\"},{\"i\":\"53997\",\"n\":\"Patricia\",\"a\":\"Rosas rello\",\"d\":\"Odontologia\",\"m\":\"0\",\"c\":null},{\"i\":\"53996\",\"n\":\"Patricia\",\"a\":\"Rosas rello\",\"d\":\"Ofontologia\",\"m\":\"0\",\"c\":null},{\"i\":\"70507\",\"n\":\"alejandro\",\"a\":\"rosas robles\",\"d\":\"historia\",\"m\":\"0\",\"c\":null},{\"i\":\"91800\",\"n\":\"Mar\\\\u00eda Antonieta\",\"a\":\"Rosas Rodriguez\",\"d\":\"Filosof\\\\u00eda y letras\",\"m\":\"2\",\"c\":\"8.0000\"},{\"i\":\"160613\",\"n\":\"Gisele Olivia Rosas Solares\",\"a\":\"Rosas Solares\",\"d\":\"Facultad de ciencias\",\"m\":\"0\",\"c\":null},{\"i\":\"14446\",\"n\":\"Octavio\",\"a\":\"Rosaslanda Ramos\",\"d\":\"Economia\",\"m\":\"46\",\"c\":\"8.4130\"},{\"i\":\"117874\",\"n\":\"Patricio\",\"a\":\"ROSEN\",\"d\":\"Cch sur\",\"m\":\"0\",\"c\":null},{\"i\":\"68741\",\"n\":\"gabriela\",\"a\":\"rosendo gonzalez\",\"d\":\"Derecho\",\"m\":\"8\",\"c\":\"7.3750\"},{\"i\":\"141816\",\"n\":\"Margarita Jacaranda\",\"a\":\"Rosendo Pineda\",\"d\":\"Facultad de Ciencias\",\"m\":\"1\",\"c\":\"8.0000\"},{\"i\":\"104857\",\"n\":\"Fernando Antonio\",\"a\":\"Rosete Verges\",\"d\":\"ENES Morelia\",\"m\":\"1\",\"c\":\"5.0000\"},{\"i\":\"28252\",\"n\":\"Eugenio Federico\",\"a\":\"Rovzar Carman\",\"d\":\"Economia\",\"m\":\"40\",\"c\":\"6.5250\"},{\"i\":\"105081\",\"n\":\"desiree\",\"a\":\"rubi arriaga\",\"d\":\"arquitectura\",\"m\":\"0\",\"c\":null},{\"i\":\"15209\",\"n\":\"Susana Yalu \",\"a\":\"Rub\\\\u00edn\",\"d\":\"Qu\\\\u00edmica\\\\/Matem\\\\u00e1ticas\",\"m\":\"12\",\"c\":\"8.2500\"},{\"i\":\"163397\",\"n\":\"Eleazar\",\"a\":\"Rubio\",\"d\":\"Facultad de Derecho\",\"m\":\"1\",\"c\":\"5.0000\"},{\"i\":\"128915\",\"n\":\"Sergio\",\"a\":\"Rubio Ortega\",\"d\":\"F\\\\u00edsico Matematicas\",\"m\":\"0\",\"c\":null},{\"i\":\"105413\",\"n\":\"Marco Antonio\",\"a\":\"Rubio Ramos\",\"d\":\"Facultad de ingenier\\\\u00eda \",\"m\":\"1\",\"c\":\"7.0000\"},{\"i\":\"149061\",\"n\":\"Edgar\",\"a\":\"Rubio Resendiz\",\"d\":\"Derecho\",\"m\":\"0\",\"c\":null},{\"i\":\"161591\",\"n\":\"Luciana Laura\",\"a\":\"Rubio Vega\",\"d\":\"M\\\\u00e9todo experimental \",\"m\":\"0\",\"c\":null},{\"i\":\"124241\",\"n\":\"Mar\\\\u00eda Marcelina\",\"a\":\"Rueda Calder\\\\u00f3n\",\"d\":\"UNAM Zaragoza\",\"m\":\"1\",\"c\":\"10.0000\"},{\"i\":\"154374\",\"n\":\"Sandra Margarita\",\"a\":\"Rueda Enriquez\",\"d\":\"Fes Cuautitlan \",\"m\":\"0\",\"c\":null},{\"i\":\"162617\",\"n\":\"GUSTAVO\",\"a\":\"Rueda escobedo\",\"d\":\"Facultad de Ingenier\\\\u00eda \",\"m\":\"1\",\"c\":\"6.0000\"},{\"i\":\"114416\",\"n\":\"Rogelio\",\"a\":\"Rueda Segura\",\"d\":\"CCH vallejo\",\"m\":\"0\",\"c\":null},{\"i\":\"160941\",\"n\":\"Alma rosa\",\"a\":\"Ruelas V\\\\u00e1zquez\",\"d\":\"Contadur\\\\u00eda \",\"m\":\"0\",\"c\":null},{\"i\":\"30641\",\"n\":\"BRISE\\\\u00d1O\",\"a\":\"RUIZ\",\"d\":\"DERECHO. COLECTIVO\",\"m\":\"2\",\"c\":\"2.0000\"},{\"i\":\"117300\",\"n\":\"Claudia\",\"a\":\"Ruiz\",\"d\":\"Literatura\",\"m\":\"0\",\"c\":null},{\"i\":\"16999\",\"n\":\"CARLOS  JR.\",\"a\":\"RUIZ ALEGRIA\",\"d\":\"DERECHO\",\"m\":\"17\",\"c\":\"8.6471\"},{\"i\":\"14404\",\"n\":\"Mart\\\\u00edn\",\"a\":\"Ruiz Cabrera\",\"d\":\"Economia\",\"m\":\"13\",\"c\":\"7.3846\"},{\"i\":\"156155\",\"n\":\"Jos\\\\u00e9 \\\\u00c1ngel\",\"a\":\"Ruiz Cuevas\",\"d\":\"Facultad de Ciencias Pol\\\\u00edticas y Sociales\",\"m\":\"3\",\"c\":\"8.3333\"},{\"i\":\"11998\",\"n\":\"Manuel\",\"a\":\"Ru\\\\u00edz Daza\",\"d\":\"\",\"m\":\"31\",\"c\":\"9.1290\"},{\"i\":\"72202\",\"n\":\"ampararo\",\"a\":\"Ruiz del Castillo\",\"d\":\"ciencias politicas\",\"m\":\"0\",\"c\":null},{\"i\":\"161642\",\"n\":\"Roberto\",\"a\":\"Ruiz Dom\\\\u00ednguez\",\"d\":\"Odontolog\\\\u00eda \",\"m\":\"0\",\"c\":null},{\"i\":\"14593\",\"n\":\"Clemente\",\"a\":\"Ruiz Duran\",\"d\":\"Economia\",\"m\":\"46\",\"c\":\"5.0217\"},{\"i\":\"142655\",\"n\":\"Jos\\\\u00e9 Alfonso Anaya\",\"a\":\"Ruiz Esperanza\",\"d\":\"Filosof\\\\u00eda y letras\",\"m\":\"0\",\"c\":null},{\"i\":\"162025\",\"n\":\"Ma Teresa\",\"a\":\"Ruiz Garcia\",\"d\":\"Prepa 8\",\"m\":\"0\",\"c\":null},{\"i\":\"18002\",\"n\":\"Leopoldo\",\"a\":\"Ruiz Gom\\\\u00e9z \",\"d\":\"PROCESO DE GOBIERNO MEXIC.\",\"m\":\"0\",\"c\":null},{\"i\":\"14812\",\"n\":\"Javier Gilberto\",\"a\":\"Ruiz Lopez\",\"d\":\"Economia\",\"m\":\"13\",\"c\":\"8.7692\"},{\"i\":\"76914\",\"n\":\"PABLO\",\"a\":\"RUIZ MURILLO\",\"d\":\"Historia\",\"m\":\"1\",\"c\":\"10.0000\"},{\"i\":\"14594\",\"n\":\"Pablo\",\"a\":\"Ruiz Napoles\",\"d\":\"Economia\",\"m\":\"4\",\"c\":\"5.5000\"},{\"i\":\"161677\",\"n\":\"guillermo alvaro\",\"a\":\"ruiz ramirez\",\"d\":\"Facultad de contadur\\\\u00eda\",\"m\":\"0\",\"c\":null},{\"i\":\"134972\",\"n\":\"Rosa\",\"a\":\"Ruiz Ram\\\\u00edrez\",\"d\":\"Fes Aragon\",\"m\":\"0\",\"c\":null},{\"i\":\"144445\",\"n\":\"Hector\",\"a\":\"Ruiz Soria\",\"d\":\"Facultad de Econom\\\\u00eda \",\"m\":\"1\",\"c\":\"3.0000\"},{\"i\":\"164583\",\"n\":\"Ricardo\",\"a\":\"Ruiz valle\",\"d\":\"FCA\",\"m\":\"0\",\"c\":null},{\"i\":\"46807\",\"n\":\"JORGE ALBERTO\",\"a\":\"RUIZ VAZQUEZ\",\"d\":\"PSICOLOGIA\",\"m\":\"1\",\"c\":\"10.0000\"},{\"i\":\"164392\",\"n\":\"Jos\\\\u00e9 Antonio\",\"a\":\"Ruiz zubiaurre\",\"d\":\"Fes aragon \",\"m\":\"0\",\"c\":null},{\"i\":\"163660\",\"n\":\"Elizabeth\",\"a\":\"RUL Ram\\\\u00edrez\",\"d\":\"FES CUATITLAN Campo uno\",\"m\":\"1\",\"c\":\"8.0000\"},{\"i\":\"15659\",\"n\":\"Eusebio\",\"a\":\"Ruvalcava\",\"d\":\"Filosofia y Letras\",\"m\":\"1\",\"c\":\"10.0000\"},{\"i\":\"84486\",\"n\":\"susana yalu leticia\",\"a\":\"Ruvin Rivero\",\"d\":\"Facultad de Quimica\",\"m\":\"0\",\"c\":null},{\"i\":\"144441\",\"n\":\"Celfo\",\"a\":\"S\",\"d\":\"C.ch Azcapotzalco\",\"m\":\"0\",\"c\":null},{\"i\":\"142399\",\"n\":\"Moises\",\"a\":\"Sabanero Hernandez\",\"d\":\"Derecho\",\"m\":\"0\",\"c\":null},{\"i\":\"14529\",\"n\":\"Emilio\",\"a\":\"Sacristan Y Roy\",\"d\":\"Economia\",\"m\":\"7\",\"c\":\"9.1429\"},{\"i\":\"109518\",\"n\":\"Arianne\",\"a\":\"Sainz Vidal\",\"d\":\"Ingenier\\\\u00eda\",\"m\":\"7\",\"c\":\"7.8571\"},{\"i\":\"14530\",\"n\":\"Antonia Noemi \",\"a\":\"Saiz Chaufon\",\"d\":\"Economia\",\"m\":\"3\",\"c\":\"6.6667\"},{\"i\":\"125559\",\"n\":\"Diana Elizabeth\",\"a\":\"Salas Estrada\",\"d\":\"CCH Vallejo\",\"m\":\"0\",\"c\":null},{\"i\":\"136152\",\"n\":\"Patricia\",\"a\":\"Salas Garrido\",\"d\":\"Contadur\\\\u00eda y administraci\\\\u00f3n \",\"m\":\"0\",\"c\":null},{\"i\":\"161857\",\"n\":\"Maria Margarita Zayil\",\"a\":\"Salazar Campos\",\"d\":\"Ingenieria\",\"m\":\"0\",\"c\":null},{\"i\":\"122160\",\"n\":\"Julieta Rut\",\"a\":\"Salazar Contreras\",\"d\":\"ENP 6\",\"m\":\"4\",\"c\":\"9.0000\"},{\"i\":\"134816\",\"n\":\"German B.\",\"a\":\"Salazar Rivera\",\"d\":\"Arquitectura\",\"m\":\"1\",\"c\":\"10.0000\"},{\"i\":\"84507\",\"n\":\"Carlos Rodrigo\",\"a\":\"Salcedo\",\"d\":\"Nieto\",\"m\":\"8\",\"c\":\"8.1250\"},{\"i\":\"14595\",\"n\":\"Edgar\",\"a\":\"Salcedo Garcia\",\"d\":\"Economia\",\"m\":\"60\",\"c\":\"3.4000\"},{\"i\":\"113001\",\"n\":\"Pablo David\",\"a\":\"Salda\\\\u00f1a Amador\",\"d\":\"Facultad de ciencias pol\\\\u00edticas y sociales \",\"m\":\"1\",\"c\":\"8.0000\"},{\"i\":\"100231\",\"n\":\"Gerardo\",\"a\":\"Salda\\\\u00f1a Gomez\",\"d\":\"Arquitectura\",\"m\":\"0\",\"c\":null},{\"i\":\"151649\",\"n\":\"Carlos eugenio\",\"a\":\"Salda\\\\u00f1a olvera\",\"d\":\"Profesor\",\"m\":\"2\",\"c\":\"10.0000\"},{\"i\":\"125797\",\"n\":\"Elery enrique\",\"a\":\"Saldivar hernandez\",\"d\":\"Aragon\",\"m\":\"3\",\"c\":\"3.6667\"},{\"i\":\"45936\",\"n\":\"Angel\",\"a\":\"Salgado\",\"d\":\"\",\"m\":\"0\",\"c\":null},{\"i\":\"14978\",\"n\":\"Alfonso Rafael\",\"a\":\"Salgado Ben\\\\u00edtez\",\"d\":\"Psicolog\\\\u00eda\",\"m\":\"4\",\"c\":\"8.5000\"},{\"i\":\"121288\",\"n\":\"Eric Misael\",\"a\":\"Salgado Flores\",\"d\":\"Facultad de ciencias\",\"m\":\"1\",\"c\":\"2.0000\"},{\"i\":\"16670\",\"n\":\"mar\\\\u00eda del carmen salgado mered\",\"a\":\"salgado merediz\",\"d\":\"biolog\\\\u00eda fes zaragoza\",\"m\":\"5\",\"c\":\"8.8000\"},{\"i\":\"23860\",\"n\":\"Jose Francisco\",\"a\":\"Salgado Rodriguez\",\"d\":\"Ingenieria\\\\/Algebra\",\"m\":\"77\",\"c\":\"9.0779\"},{\"i\":\"158772\",\"n\":\"Al Raschid\",\"a\":\"Salinas\",\"d\":\"Facultad de Arquitectura \",\"m\":\"1\",\"c\":\"10.0000\"},{\"i\":\"57242\",\"n\":\"Nohemi\",\"a\":\"Salinas\",\"d\":\"Biologia y farmacia \",\"m\":\"1\",\"c\":\"10.0000\"},{\"i\":\"57241\",\"n\":\"Nohemi\",\"a\":\"Salinas\",\"d\":\"Jazmin\",\"m\":\"0\",\"c\":null},{\"i\":\"142337\",\"n\":\"Jose Luis\",\"a\":\"Salinas Estevez\",\"d\":\"Faculta de ingenieria Hidraulica \",\"m\":\"2\",\"c\":\"9.5000\"},{\"i\":\"151818\",\"n\":\"luis alfonso\",\"a\":\"salinas pe\\\\u00f1a\",\"d\":\"escuela nacional preparatoria\",\"m\":\"1\",\"c\":\"10.0000\"},{\"i\":\"133884\",\"n\":\"Jose Roberto\",\"a\":\"Salinas Sanchez\",\"d\":\"Fes Arag\\\\u00f3n\",\"m\":\"0\",\"c\":null},{\"i\":\"149114\",\"n\":\"Maria de Rosario\",\"a\":\"Salinas solis\",\"d\":\"Ciencias politicas y sociales \",\"m\":\"0\",\"c\":null},{\"i\":\"100498\",\"n\":\"Antonio\",\"a\":\"SALVA CALLEJA\",\"d\":\"Facultad de ingenieria\",\"m\":\"0\",\"c\":null},{\"i\":\"164701\",\"n\":\"Sandra Beatriz\",\"a\":\"Salvatierra Ibarra\",\"d\":\"UNAM \",\"m\":\"0\",\"c\":null},{\"i\":\"156685\",\"n\":\"Dra. Fernanda\",\"a\":\"Samaniego Ba\\\\u00f1uelos\",\"d\":\"Filosof\\\\u00eda\\\\/Filosof\\\\u00eda de la ciencia\",\"m\":\"1\",\"c\":\"10.0000\"},{\"i\":\"98942\",\"n\":\"MIGUEL\",\"a\":\"SAMAYOA PEREZ\",\"d\":\"FACULTAD DE DERECHO\",\"m\":\"7\",\"c\":\"9.7143\"},{\"i\":\"155281\",\"n\":\"Miguel \\\\u00c1ngel\",\"a\":\"Samayoa Per\\\\u00e9z\",\"d\":\"derecho\",\"m\":\"0\",\"c\":null},{\"i\":\"104074\",\"n\":\"Jos\\\\u00e9 Carlos\",\"a\":\"San Germ\\\\u00e1n L\\\\u00f3pez\",\"d\":\"FCPyS\",\"m\":\"2\",\"c\":\"9.5000\"},{\"i\":\"22962\",\"n\":\"Julio Manlio\",\"a\":\"San Vicente Reynoso\",\"d\":\"Economia \",\"m\":\"8\",\"c\":\"9.3750\"},{\"i\":\"117820\",\"n\":\"Janet\",\"a\":\"S\\\\u00e1nchez\",\"d\":\"Ramos\",\"m\":\"0\",\"c\":null},{\"i\":\"15118\",\"n\":\"Fernando\",\"a\":\"Sanchez\",\"d\":\"medicina\",\"m\":\"1\",\"c\":\"2.0000\"},{\"i\":\"163146\",\"n\":\"Mar\\\\u00eda Margarita\",\"a\":\"S\\\\u00e1nchez\",\"d\":\"Flores \",\"m\":\"0\",\"c\":null},{\"i\":\"158693\",\"n\":\"Rosalina\",\"a\":\"Sanchez\",\"d\":\"Santaella\",\"m\":\"1\",\"c\":\"2.0000\"},{\"i\":\"154090\",\"n\":\"Carmen Lilia\",\"a\":\"S\\\\u00e1nchez\",\"d\":\"Gonz\\\\u00e1les\",\"m\":\"0\",\"c\":null},{\"i\":\"155810\",\"n\":\"M\\\\u00f3nica\",\"a\":\"S\\\\u00e1nchez\",\"d\":\"Universo de Letras\",\"m\":\"3\",\"c\":\"2.0000\"},{\"i\":\"137741\",\"n\":\"Benjam\\\\u00edn\",\"a\":\"Sanchez\",\"d\":\"Contadur\\\\u00eda y admon finanzas\",\"m\":\"0\",\"c\":null},{\"i\":\"159932\",\"n\":\"Juan\",\"a\":\"S\\\\u00e1nchez\",\"d\":\"Zerme\\\\u00f1o\",\"m\":\"0\",\"c\":null},{\"i\":\"31409\",\"n\":\"Alejandro\",\"a\":\"Sanchez\",\"d\":\"Hernandez\",\"m\":\"1\",\"c\":\"6.0000\"},{\"i\":\"127564\",\"n\":\"Josefina\",\"a\":\"Sanchez\",\"d\":\"Trabajo social\",\"m\":\"0\",\"c\":null},{\"i\":\"52828\",\"n\":\"jose\",\"a\":\"sanchez\",\"d\":\"\",\"m\":\"1\",\"c\":\"4.0000\"},{\"i\":\"160649\",\"n\":\"Sandra jaqueline\",\"a\":\"Sanchez\",\"d\":\"Pelaez\",\"m\":\"0\",\"c\":null},{\"i\":\"15948\",\"n\":\"Mar\\\\u00eda Magdalena\",\"a\":\"S\\\\u00e1nchez  Conejo\",\"d\":\"Derecho\",\"m\":\"9\",\"c\":\"8.2222\"},{\"i\":\"124872\",\"n\":\"Angeles\",\"a\":\"S\\\\u00e1nchez  Mart\\\\u00ednez\",\"d\":\"Medicina veterinaria \",\"m\":\"0\",\"c\":null},{\"i\":\"158790\",\"n\":\"Roberto\",\"a\":\"S\\\\u00e1nchez Ahedo\",\"d\":\"Medicina \",\"m\":\"0\",\"c\":null},{\"i\":\"129176\",\"n\":\"Rozzana\",\"a\":\"S\\\\u00e1nchez Arag\\\\u00f3n\",\"d\":\"Psicolog\\\\u00eda\",\"m\":\"0\",\"c\":null},{\"i\":\"60217\",\"n\":\"Jos\\\\u00e9 de Jes\\\\u00fas\",\"a\":\"Sanch\\\\u00e9z Arciniega\",\"d\":\"Econom\\\\u00eda \",\"m\":\"1\",\"c\":\"8.0000\"},{\"i\":\"17084\",\"n\":\"Jorge\",\"a\":\"S\\\\u00e1nchez Badillo\",\"d\":\"FES Arag\\\\u00f3n\",\"m\":\"1\",\"c\":\"10.0000\"},{\"i\":\"11258\",\"n\":\"Genaro\",\"a\":\"S\\\\u00e1nchez Barajas\",\"d\":\"Econom\\\\u00eda\",\"m\":\"20\",\"c\":\"3.3500\"},{\"i\":\"135743\",\"n\":\"Julio Moises\",\"a\":\"S\\\\u00e1nchez Barrera\",\"d\":\"FES Cuautitl\\\\u00e1n\",\"m\":\"0\",\"c\":null},{\"i\":\"87220\",\"n\":\"Dulce Carolina\",\"a\":\"Sanchez Campa\",\"d\":\"Econom\\\\u00eda Politica\",\"m\":\"18\",\"c\":\"4.0000\"},{\"i\":\"16087\",\"n\":\"Hugo\",\"a\":\"Sanchez Castillo\",\"d\":\"Facultad de Psicolog\\\\u00eda\",\"m\":\"40\",\"c\":\"7.1000\"},{\"i\":\"26525\",\"n\":\"isabel lina\",\"a\":\"s\\\\u00e1nchez contreras\",\"d\":\"econom\\\\u00eda\",\"m\":\"0\",\"c\":null},{\"i\":\"120903\",\"n\":\"Mtra. Adriana\",\"a\":\"S\\\\u00e1nchez del Carmen\",\"d\":\"Derecho\",\"m\":\"0\",\"c\":null},{\"i\":\"15075\",\"n\":\"rafael\",\"a\":\"sanchez dirzo\",\"d\":\"fes zaragoza\",\"m\":\"11\",\"c\":\"8.6364\"},{\"i\":\"161258\",\"n\":\"Irene\",\"a\":\"S\\\\u00e1nchez Gallen\",\"d\":\"Biologia \",\"m\":\"1\",\"c\":\"3.0000\"},{\"i\":\"154091\",\"n\":\"Carmen Lilia\",\"a\":\"S\\\\u00e1nchez Gonz\\\\u00e1lez\",\"d\":\"Facultad de estudios Superiores Zaragoza\",\"m\":\"2\",\"c\":\"2.5000\"},{\"i\":\"26635\",\"n\":\"Ricardo\",\"a\":\"S\\\\u00e1nchez Gonz\\\\u00e1lez\",\"d\":\"Arquitectura\",\"m\":\"1\",\"c\":\"10.0000\"},{\"i\":\"154632\",\"n\":\"Guillermo\",\"a\":\"S\\\\u00e1nchez Gonzalez\",\"d\":\"Fes Aragon\",\"m\":\"2\",\"c\":\"2.0000\"},{\"i\":\"17998\",\"n\":\"JOSE JUAN\",\"a\":\"SANCHEZ GONZALEZ \",\"d\":\"GESTION ECON. DEL EDO. MEXICANO\",\"m\":\"3\",\"c\":\"7.3333\"},{\"i\":\"128855\",\"n\":\"Carla\",\"a\":\"S\\\\u00e1nchez Grosmann\",\"d\":\"Facultad de Derecho\",\"m\":\"1\",\"c\":\"2.0000\"},{\"i\":\"113743\",\"n\":\"N\\\\u00e9stor\",\"a\":\"Sanchez Hernandez\",\"d\":\"Facultad de Ciencias Pol\\\\u00edticas y Sociales\",\"m\":\"6\",\"c\":\"7.3333\"},{\"i\":\"14405\",\"n\":\"Guillermo Silvano\",\"a\":\"S\\\\u00e1nchez Hern\\\\u00e1ndez\",\"d\":\"Economia\",\"m\":\"40\",\"c\":\"5.5750\"},{\"i\":\"142443\",\"n\":\"Pablo Antonio\",\"a\":\"Sanchez Huerta\",\"d\":\"Ingles \",\"m\":\"1\",\"c\":\"10.0000\"},{\"i\":\"108659\",\"n\":\"Luis Alberto\",\"a\":\"Sanchez Jimenez\",\"d\":\"Econom\\\\u00eda\",\"m\":\"3\",\"c\":\"9.0000\"},{\"i\":\"161180\",\"n\":\"Mar\\\\u00eda Teresa\",\"a\":\"S\\\\u00e1nchez Lozano\",\"d\":\"Enap\",\"m\":\"0\",\"c\":null},{\"i\":\"40478\",\"n\":\"ARTURO\",\"a\":\"SANCHEZ MAGALLON\",\"d\":\"ACATLAN\",\"m\":\"0\",\"c\":null},{\"i\":\"141597\",\"n\":\"angela\",\"a\":\"sanchez martinez\",\"d\":\"Fes cuautitlan\",\"m\":\"1\",\"c\":\"2.0000\"},{\"i\":\"142946\",\"n\":\"Martha Alicia\",\"a\":\"S\\\\u00e1nchez Mart\\\\u00ednez\",\"d\":\"Qu\\\\u00edmica \",\"m\":\"0\",\"c\":null},{\"i\":\"104934\",\"n\":\"Ana adela\",\"a\":\"Sanchez mendoza\",\"d\":\"Qu\\\\u00edmica \",\"m\":\"2\",\"c\":\"7.5000\"},{\"i\":\"135919\",\"n\":\"Celia\",\"a\":\"S\\\\u00e1nchez Mendoza\",\"d\":\"Qu\\\\u00edmica \",\"m\":\"4\",\"c\":\"3.2500\"},{\"i\":\"72655\",\"n\":\"VICTOR MANUEL\",\"a\":\"SANCHEZ MORALES\",\"d\":\"INGENIERIA INDUSTRIAL\",\"m\":\"1\",\"c\":\"10.0000\"},{\"i\":\"157070\",\"n\":\"Jos\\\\u00e9 Luis\",\"a\":\"S\\\\u00e1nchez Navarrete\",\"d\":\"Licenciatura de derecho \",\"m\":\"0\",\"c\":null},{\"i\":\"67915\",\"n\":\"Claudia ELisa\",\"a\":\"Sanchez Navarro\",\"d\":\"Facultad de Ingenieria\\\\/dcb\",\"m\":\"1\",\"c\":\"5.0000\"},{\"i\":\"159145\",\"n\":\"Francisco\",\"a\":\"Sanchez Ochoa\",\"d\":\"Facultad de Ciencias UNAM\",\"m\":\"1\",\"c\":\"6.0000\"},{\"i\":\"150464\",\"n\":\"GREGORIO\",\"a\":\"S\\\\u00c1NCHEZ OROPEZA\",\"d\":\"FACULTAD DE ESTUDIOS PROFESIONALES ARAGON\",\"m\":\"0\",\"c\":null},{\"i\":\"100176\",\"n\":\"Jos\\\\u00e9Alejandro\",\"a\":\"S\\\\u00e1nchez P\\\\u00e9rez\",\"d\":\"Facultad de ingenieria\",\"m\":\"10\",\"c\":\"7.2000\"},{\"i\":\"149472\",\"n\":\"Raul\",\"a\":\"Sanchez pi\\\\u00f1a\",\"d\":\"Derecho\",\"m\":\"0\",\"c\":null},{\"i\":\"134220\",\"n\":\"Felipe de Jesus\",\"a\":\"Sanchez Ponce de leon\",\"d\":\"Biologia\",\"m\":\"0\",\"c\":null},{\"i\":\"133371\",\"n\":\"Paola Mireya\",\"a\":\"Sanchez Portilla\",\"d\":\"Facultad de Ciencias Pol\\\\u00edticas y Sociales\",\"m\":\"0\",\"c\":null},{\"i\":\"60112\",\"n\":\"Edmundo\",\"a\":\"Sanchez Ramirez\",\"d\":\"Facultad de Ingenier\\\\u00eda\",\"m\":\"9\",\"c\":\"8.8889\"},{\"i\":\"73910\",\"n\":\"Fabiola\",\"a\":\"S\\\\u00e1nchez Roa\",\"d\":\"Fisica\",\"m\":\"2\",\"c\":\"2.0000\"},{\"i\":\"118657\",\"n\":\"Yadira\",\"a\":\"Sanchez Rodriguez\",\"d\":\"cch oriente\",\"m\":\"1\",\"c\":\"10.0000\"},{\"i\":\"133990\",\"n\":\"Jos\\\\u00e9 Gabriel\",\"a\":\"S\\\\u00e1nchez Ruiz\",\"d\":\"Psicolog\\\\u00eda Fes-zaragoza \",\"m\":\"0\",\"c\":null},{\"i\":\"141907\",\"n\":\"Pedro Antonio\",\"a\":\"S\\\\u00e1nchez Serrano\",\"d\":\"Facultad de Ciencias\",\"m\":\"5\",\"c\":\"9.8000\"},{\"i\":\"147693\",\"n\":\"Victor Hugo\",\"a\":\"S\\\\u00e1nchez Sierra\",\"d\":\"Facultad de arquitectura\",\"m\":\"0\",\"c\":null},{\"i\":\"113672\",\"n\":\"Luis Miguel\",\"a\":\"S\\\\u00e1nchez Tobilla\",\"d\":\"Preparatoria 9 Pedro de Alba \",\"m\":\"1\",\"c\":\"2.0000\"},{\"i\":\"14406\",\"n\":\"Armando\",\"a\":\"S\\\\u00e1nchez Vargas\",\"d\":\"Economia\",\"m\":\"51\",\"c\":\"5.7451\"},{\"i\":\"127833\",\"n\":\"Pedro\",\"a\":\"Sanchez Viveros\",\"d\":\"Contadur\\\\u00eda\\\\/Matem\\\\u00e1ticas Financieras\",\"m\":\"2\",\"c\":\"3.0000\"},{\"i\":\"159933\",\"n\":\"Juan\",\"a\":\"S\\\\u00e1nchez Zerme\\\\u00f1o\",\"d\":\"Facultade Filosof\\\\u00eda \\\\/ Filosof\\\\u00eda\",\"m\":\"1\",\"c\":\"10.0000\"},{\"i\":\"16547\",\"n\":\"Mario\",\"a\":\"Sandoval\",\"d\":\"Fes Aragon\",\"m\":\"1\",\"c\":\"8.0000\"},{\"i\":\"114351\",\"n\":\"Enrique David\",\"a\":\"Sandoval\",\"d\":\"Odontolog\\\\u00eda\",\"m\":\"0\",\"c\":null},{\"i\":\"114303\",\"n\":\"Raul Federico\",\"a\":\"Sandoval\",\"d\":\"Medicina\",\"m\":\"4\",\"c\":\"9.5000\"},{\"i\":\"151256\",\"n\":\"Gonzalo\",\"a\":\"Sandoval\",\"d\":\"Ingenieria\",\"m\":\"0\",\"c\":null},{\"i\":\"163582\",\"n\":\"Carlos Ra\\\\u00fal\",\"a\":\"Sandoval Alvarado\",\"d\":\"Ciencias UAEM\\\\u00e9x\",\"m\":\"1\",\"c\":\"10.0000\"},{\"i\":\"109515\",\"n\":\"Seyka veronica\",\"a\":\"Sandoval cabrera\",\"d\":\"Economia\",\"m\":\"4\",\"c\":\"9.2500\"},{\"i\":\"155594\",\"n\":\"Jos\\\\u00e9 Luis\",\"a\":\"Sandoval D\\\\u00e1vila\",\"d\":\"Escuela Nacional de Trabajo Social\",\"m\":\"1\",\"c\":\"3.0000\"},{\"i\":\"144665\",\"n\":\"Eva Daniela\",\"a\":\"Sandoval Espejo\",\"d\":\"cch naucalpan \",\"m\":\"2\",\"c\":\"10.0000\"},{\"i\":\"14408\",\"n\":\"Lilia Elena\",\"a\":\"Sandoval Espinosa\",\"d\":\"Economia\",\"m\":\"0\",\"c\":null},{\"i\":\"14407\",\"n\":\"Lilia Elena\",\"a\":\"Sandoval Espinosa\",\"d\":\"\",\"m\":\"0\",\"c\":null},{\"i\":\"156977\",\"n\":\"Marco antonio\",\"a\":\"Sandoval Garc\\\\u00eda\",\"d\":\"Derecho\",\"m\":\"0\",\"c\":null},{\"i\":\"122187\",\"n\":\"Adriana\",\"a\":\"Sandoval Hern\\\\u00e1ndez\",\"d\":\"UAM\",\"m\":\"0\",\"c\":null},{\"i\":\"14447\",\"n\":\"Jos\\\\u00e9 Guadalupe\",\"a\":\"Sandoval Manzano\",\"d\":\"Economia\",\"m\":\"85\",\"c\":\"8.8941\"},{\"i\":\"56437\",\"n\":\"Federico\",\"a\":\"Sandoval Olvera\",\"d\":\"Medicina\\\\/Historia y Filosof\\\\u00eda de la Medicina\",\"m\":\"4\",\"c\":\"10.0000\"},{\"i\":\"136959\",\"n\":\"Rosalinda\",\"a\":\"Sandoval Orihuela\",\"d\":\"Ciencias pol\\\\u00edticas y sociales\",\"m\":\"9\",\"c\":\"9.1111\"},{\"i\":\"133911\",\"n\":\"Mario\",\"a\":\"Sandoval P\\\\u00e9rez\",\"d\":\"Fes Arag\\\\u00f3n \",\"m\":\"0\",\"c\":null},{\"i\":\"14596\",\"n\":\"Luis\",\"a\":\"Sandoval Ramirez\",\"d\":\"Economia\",\"m\":\"3\",\"c\":\"10.0000\"},{\"i\":\"78322\",\"n\":\"Jos\\\\u00e9 Horacio\",\"a\":\"Sandoval Rodr\\\\u00edguez\",\"d\":\"Facultad de ingenier\\\\u00eda \",\"m\":\"2\",\"c\":\"4.5000\"},{\"i\":\"68088\",\"n\":\"Juan Antonio\",\"a\":\"Sandoval Rodriguez\",\"d\":\"Principios de termodinamica\",\"m\":\"7\",\"c\":\"8.4286\"},{\"i\":\"141910\",\"n\":\"Elsa Patricia\",\"a\":\"Sandoval Urbina\",\"d\":\"Historia \",\"m\":\"10\",\"c\":\"10.0000\"},{\"i\":\"118638\",\"n\":\"Fernando\",\"a\":\"Santa Cruz\",\"d\":\"Historia\",\"m\":\"0\",\"c\":null},{\"i\":\"162619\",\"n\":\"Nora\",\"a\":\"Santacruz\",\"d\":\"FCPYS\",\"m\":\"0\",\"c\":null},{\"i\":\"162389\",\"n\":\"Adalberto\",\"a\":\"Santaella Solis\",\"d\":\"UNAM \",\"m\":\"0\",\"c\":null},{\"i\":\"98325\",\"n\":\"Luis \\\\u00c1ngel\",\"a\":\"Santamar\\\\u00eda\",\"d\":\"Facultad de Ingenier\\\\u00eda\",\"m\":\"2\",\"c\":\"8.0000\"},{\"i\":\"106126\",\"n\":\"Praxedis Israel\",\"a\":\"Santamar\\\\u00eda Mata\",\"d\":\"Qu\\\\u00edmica \",\"m\":\"0\",\"c\":null},{\"i\":\"152903\",\"n\":\"Eugenio\",\"a\":\"Santangelo\",\"d\":\"Facultad de Filosof\\\\u00eda y Letras\",\"m\":\"1\",\"c\":\"2.0000\"},{\"i\":\"23207\",\"n\":\"OCTAVIO\",\"a\":\"SANTIAGO CRUZ\",\"d\":\"INGENIERIA\",\"m\":\"4\",\"c\":\"4.7500\"},{\"i\":\"76052\",\"n\":\"Vicente\",\"a\":\"Santiago P\\\\u00e9rez\",\"d\":\"Medicina\\\\/Anatom\\\\u00eda\",\"m\":\"9\",\"c\":\"6.5556\"},{\"i\":\"110892\",\"n\":\"Wendy Aislinn\",\"a\":\"Santiago Ram\\\\u00edrez\",\"d\":\"Quimica \",\"m\":\"1\",\"c\":\"10.0000\"},{\"i\":\"156291\",\"n\":\"Jos\\\\u00e9 Luis\",\"a\":\"Santisteban\",\"d\":\"Econom\\\\u00eda \",\"m\":\"0\",\"c\":null},{\"i\":\"55945\",\"n\":\"Gabriela\",\"a\":\"Santollo Romano\",\"d\":\"Comunicaci\\\\u00f3n\",\"m\":\"1\",\"c\":\"2.0000\"},{\"i\":\"138932\",\"n\":\"Noemi\",\"a\":\"Santos Caballero\",\"d\":\"Facultad de Medicina\",\"m\":\"6\",\"c\":\"10.0000\"},{\"i\":\"113174\",\"n\":\"Omar\",\"a\":\"Santos Escalante\",\"d\":\"CCH Oriente\",\"m\":\"1\",\"c\":\"10.0000\"},{\"i\":\"16849\",\"n\":\"Bertha Linda\",\"a\":\"Santos Mancilla\",\"d\":\"Econom\\\\u00eda\",\"m\":\"3\",\"c\":\"4.6667\"},{\"i\":\"134202\",\"n\":\"Patricio\",\"a\":\"Santos Mart\\\\u00ednez\",\"d\":\"Fca\",\"m\":\"1\",\"c\":\"2.0000\"},{\"i\":\"137528\",\"n\":\"Carlos\",\"a\":\"Santoscoy\",\"d\":\"Veterinaria\\\\/ hospital de peque\\\\u00f1as especies\",\"m\":\"0\",\"c\":null},{\"i\":\"113412\",\"n\":\"pablo ernesto\",\"a\":\"sanvicente castro\",\"d\":\"Derecho \",\"m\":\"1\",\"c\":\"10.0000\"},{\"i\":\"39468\",\"n\":\"Arturo\",\"a\":\"Sarabia Garc\\\\u00eda\",\"d\":\"CCH SUR\",\"m\":\"14\",\"c\":\"3.9286\"},{\"i\":\"64794\",\"n\":\"luis\",\"a\":\"saravia campos\",\"d\":\"arquitectura\",\"m\":\"0\",\"c\":null},{\"i\":\"15007\",\"n\":\"V\\\\u00edctor Fidel\",\"a\":\"Sastr\\\\u00e9 Rodr\\\\u00edguez\",\"d\":\"Psicolog\\\\u00eda\",\"m\":\"1\",\"c\":\"4.0000\"},{\"i\":\"52701\",\"n\":\"Rocio\",\"a\":\"Saucedo Dimas\",\"d\":\"FFyL Letras Modernas\",\"m\":\"8\",\"c\":\"6.5000\"},{\"i\":\"18437\",\"n\":\"Gustavo\",\"a\":\"Saul\\\\u00e9s Estrada\",\"d\":\"Matematicas\",\"m\":\"20\",\"c\":\"6.9000\"},{\"i\":\"14597\",\"n\":\"Gustavo Enrique\",\"a\":\"Sauri Alpuche\",\"d\":\"Economia\",\"m\":\"9\",\"c\":\"6.6667\"},{\"i\":\"152268\",\"n\":\"Edelbina\",\"a\":\"Savage Rodr\\\\u00edguez\",\"d\":\"Contadur\\\\u00eda\",\"m\":\"0\",\"c\":null},{\"i\":\"14531\",\"n\":\"Danelia\",\"a\":\"Savage Rodriguez\",\"d\":\"Economia\",\"m\":\"33\",\"c\":\"4.2121\"},{\"i\":\"14532\",\"n\":\"Paulo\",\"a\":\"Scheinvar Akcelrad\",\"d\":\"Economia\",\"m\":\"35\",\"c\":\"8.3429\"},{\"i\":\"15261\",\"n\":\"Leonel\",\"a\":\"Sebastian Chavarria\",\"d\":\"Finanzas FCA \",\"m\":\"33\",\"c\":\"6.9697\"},{\"i\":\"85606\",\"n\":\"Jenny\",\"a\":\"Segoviano Garc\\\\u00eda\",\"d\":\"FESC\\\\/ Dise\\\\u00f1o y comunicaci\\\\u00f3n visual\",\"m\":\"3\",\"c\":\"10.0000\"},{\"i\":\"163655\",\"n\":\"Cesar Fernando\",\"a\":\"Segura\",\"d\":\"FES CUATITLAN\",\"m\":\"1\",\"c\":\"10.0000\"},{\"i\":\"161228\",\"n\":\"M\\\\u00f3nica Laura\",\"a\":\"Segura D\\\\u00edaz\",\"d\":\"Trabajo Social\",\"m\":\"0\",\"c\":null},{\"i\":\"158644\",\"n\":\"Emmanuel\",\"a\":\"Segura P\\\\u00e9rez\",\"d\":\"Facultad de Ciencias\",\"m\":\"1\",\"c\":\"8.0000\"},{\"i\":\"14494\",\"n\":\"Henri\",\"a\":\"Semo Calev\",\"d\":\"Economia\",\"m\":\"6\",\"c\":\"9.8333\"},{\"i\":\"137400\",\"n\":\"Maria\",\"a\":\"Septima\",\"d\":\"Arte\",\"m\":\"1\",\"c\":\"8.0000\"},{\"i\":\"135742\",\"n\":\"Leonardo\",\"a\":\"Sepulveda\",\"d\":\"Facultad de Econom\\\\u00eda \",\"m\":\"1\",\"c\":\"10.0000\"},{\"i\":\"161202\",\"n\":\"Minerva Arlette\",\"a\":\"Sepulveda Lerma\",\"d\":\"Facultad de Derecho-UNAM\",\"m\":\"1\",\"c\":\"3.0000\"},{\"i\":\"161201\",\"n\":\"Minerva Arlette\",\"a\":\"Sepulveda Lerma\",\"d\":\"Facultad de Derecho \\\\/ Derecho Internacional\",\"m\":\"0\",\"c\":null},{\"i\":\"91561\",\"n\":\"carolina\",\"a\":\"Sergovia Arrevillaga\",\"d\":\"cch azcapotzalco \",\"m\":\"0\",\"c\":null},{\"i\":\"142208\",\"n\":\"Celso\",\"a\":\"Serra\",\"d\":\"Psicolog\\\\u00eda\",\"m\":\"0\",\"c\":null},{\"i\":\"105662\",\"n\":\"andres\",\"a\":\"serra rojas\",\"d\":\"derecho\",\"m\":\"0\",\"c\":null},{\"i\":\"58092\",\"n\":\"ROMAN\",\"a\":\"SERRANO\",\"d\":\"BERRONES\",\"m\":\"12\",\"c\":\"9.3333\"},{\"i\":\"113133\",\"n\":\"Miriam Isabel\",\"a\":\"Serrano Andrade\",\"d\":\"Qu\\\\u00edmica\\\\/Farmacia\",\"m\":\"1\",\"c\":\"10.0000\"},{\"i\":\"122410\",\"n\":\"Antonio\",\"a\":\"Serrano aponte\",\"d\":\"Cuatitlan izcalli\",\"m\":\"0\",\"c\":null},{\"i\":\"114398\",\"n\":\"Victor\",\"a\":\"Serrano Contreras\",\"d\":\"Facultad de Derecho SUA\",\"m\":\"2\",\"c\":\"3.0000\"},{\"i\":\"14533\",\"n\":\"Bernardino Jesus\",\"a\":\"Serrano Cornejo\",\"d\":\"Economia\",\"m\":\"8\",\"c\":\"4.3750\"},{\"i\":\"111319\",\"n\":\"Luis Ernesto\",\"a\":\"Serrano Figueroa\",\"d\":\"Unidad de Posgrado\",\"m\":\"2\",\"c\":\"4.0000\"},{\"i\":\"61082\",\"n\":\"SERGIO\",\"a\":\"Serrano Gutierrez\",\"d\":\"Preparatoria 4\",\"m\":\"4\",\"c\":\"9.7500\"},{\"i\":\"98686\",\"n\":\"Jos\\\\u00e9 Daniel\",\"a\":\"Serrano Ju\\\\u00e1rez\",\"d\":\"Facultad Filosof\\\\u00eda y letras\",\"m\":\"1\",\"c\":\"8.0000\"},{\"i\":\"66885\",\"n\":\"Alma Celia\",\"a\":\"Serrano Mart\\\\u00ednez\",\"d\":\"Econom\\\\u00eda\",\"m\":\"1\",\"c\":\"2.0000\"},{\"i\":\"41918\",\"n\":\"MARGARITA\",\"a\":\"SERRANO TREJO\",\"d\":\"MATEMATICAS\",\"m\":\"0\",\"c\":null},{\"i\":\"16066\",\"n\":\"Pedro \",\"a\":\"Serrato\",\"d\":\"CCH-O\",\"m\":\"7\",\"c\":\"7.0000\"},{\"i\":\"140573\",\"n\":\"Rosendo\",\"a\":\"Servin\",\"d\":\"Administraci\\\\u00f3n \",\"m\":\"0\",\"c\":null},{\"i\":\"160677\",\"n\":\"Ariadna\",\"a\":\"Servin Casta\\\\u00f1eda\",\"d\":\"Psicolog\\\\u00eda \",\"m\":\"0\",\"c\":null},{\"i\":\"163509\",\"n\":\"Rosendo\",\"a\":\"Servin Garcia\",\"d\":\"Escuela Nacional de Trabajo Social \",\"m\":\"0\",\"c\":null},{\"i\":\"85167\",\"n\":\"Yogendra\",\"a\":\"Sharma\",\"d\":\"CELE Hindi\",\"m\":\"4\",\"c\":\"3.7500\"},{\"i\":\"43017\",\"n\":\"Christina\",\"a\":\"Siebe\",\"d\":\"Edafolog\\\\u00eda\",\"m\":\"1\",\"c\":\"10.0000\"},{\"i\":\"141418\",\"n\":\"Alfonso\",\"a\":\"Sierra\",\"d\":\"Arquitectura\",\"m\":\"0\",\"c\":null},{\"i\":\"155891\",\"n\":\"HECTOR\",\"a\":\"SIERRA MONJARAZ\",\"d\":\"ENP2\",\"m\":\"1\",\"c\":\"2.0000\"},{\"i\":\"92905\",\"n\":\"Mar\\\\u00eda del Carmen\",\"a\":\"Sierra S\\\\u00e1nchez\",\"d\":\"Facultad de M\\\\u00fasica\",\"m\":\"2\",\"c\":\"10.0000\"},{\"i\":\"145977\",\"n\":\"Cesar\",\"a\":\"Silva\",\"d\":\"Derecho\",\"m\":\"0\",\"c\":null},{\"i\":\"149672\",\"n\":\"Ra\\\\u00fal Alberto\",\"a\":\"Silva Aguilera\",\"d\":\"Facultad de Ciencias\",\"m\":\"1\",\"c\":\"10.0000\"},{\"i\":\"155648\",\"n\":\"Maria del Rosario\",\"a\":\"Silva Arciniega\",\"d\":\"Salud Mental \",\"m\":\"0\",\"c\":null},{\"i\":\"133337\",\"n\":\"Rogelio\",\"a\":\"Silva Beltr\\\\u00e1n\",\"d\":\"ciencias pol\\\\u00edticas\",\"m\":\"0\",\"c\":null},{\"i\":\"161371\",\"n\":\"JORGE LUIS\",\"a\":\"Silva Haro\",\"d\":\"contaduria\",\"m\":\"0\",\"c\":null},{\"i\":\"160362\",\"n\":\"Mar\\\\u00eda Guadalupe\",\"a\":\"Silva Morales\",\"d\":\"FES Iztalacala \",\"m\":\"0\",\"c\":null},{\"i\":\"160809\",\"n\":\"Noem\\\\u00ed Veronica\",\"a\":\"Silva Perez\",\"d\":\"Facultad de derecho \",\"m\":\"0\",\"c\":null},{\"i\":\"76110\",\"n\":\"ANA LUISA\",\"a\":\"SILVA PORTILLO\",\"d\":\"Facultad de Qu\\\\u00edmica\",\"m\":\"1\",\"c\":\"7.0000\"},{\"i\":\"82551\",\"n\":\"carlos\",\"a\":\"silva-Mendez\",\"d\":\"neurociencias\",\"m\":\"0\",\"c\":null},{\"i\":\"118240\",\"n\":\"Karina\",\"a\":\"Simon Farfan\",\"d\":\"Fes cuautitl\\\\u00e1n \",\"m\":\"5\",\"c\":\"6.6000\"},{\"i\":\"152411\",\"n\":\"Liz\",\"a\":\"Sisa Mora\",\"d\":\"Medicina\",\"m\":\"0\",\"c\":null},{\"i\":\"162702\",\"n\":\"Anne\",\"a\":\"Sisto\",\"d\":\"Fmvz\",\"m\":\"0\",\"c\":null},{\"i\":\"14409\",\"n\":\"Patricio\",\"a\":\"Sixtos Cos\",\"d\":\"Economia\",\"m\":\"13\",\"c\":\"7.1538\"},{\"i\":\"163114\",\"n\":\"Tatiana Alejandra\",\"a\":\"Sober\\\\u00f3n\",\"d\":\"Arte\",\"m\":\"0\",\"c\":null},{\"i\":\"161837\",\"n\":\"Jose\",\"a\":\"Socorro Mart\\\\u00ednez\",\"d\":\"Fes Acatl\\\\u00e1n \",\"m\":\"0\",\"c\":null},{\"i\":\"75739\",\"n\":\"DANIEL\",\"a\":\"SOL LLAVEN\",\"d\":\"Facultad de Ingenier\\\\u00eda \",\"m\":\"15\",\"c\":\"6.0667\"},{\"i\":\"162830\",\"n\":\"Carlos Alberto\",\"a\":\"Solano  Pulido\",\"d\":\"ENBA IPN\",\"m\":\"1\",\"c\":\"4.0000\"},{\"i\":\"68063\",\"n\":\"JORGE ALBERTO\",\"a\":\"SOLANO GALVEZ\",\"d\":\"facultad de ingenieria unam\",\"m\":\"16\",\"c\":\"5.8750\"},{\"i\":\"134958\",\"n\":\"Citlali\",\"a\":\"Solares Pe\\\\u00f1a\",\"d\":\"Facultad de Ingenier\\\\u00eda\",\"m\":\"4\",\"c\":\"3.5000\"},{\"i\":\"105927\",\"n\":\"Mar\\\\u00eda del Carmen\",\"a\":\"Sol\\\\u00eds\",\"d\":\"Arellano\",\"m\":\"0\",\"c\":null},{\"i\":\"107914\",\"n\":\"Soledad\",\"a\":\"Solis Angeles\",\"d\":\"Facultad de Ciencias, UNAM\",\"m\":\"1\",\"c\":\"9.0000\"},{\"i\":\"119673\",\"n\":\"Juan\",\"a\":\"Solis Flores\",\"d\":\"CCH oriente\",\"m\":\"0\",\"c\":null},{\"i\":\"33309\",\"n\":\"V\\\\u00edctor Manuel\",\"a\":\"Solis Mac\\\\u00edas\",\"d\":\"Psicolog\\\\u00eda\",\"m\":\"8\",\"c\":\"6.6250\"},{\"i\":\"108711\",\"n\":\"Samuel\",\"a\":\"Sol\\\\u00eds Monta\\\\u00f1o\",\"d\":\"Derecho\",\"m\":\"0\",\"c\":null},{\"i\":\"46543\",\"n\":\"Claudia\",\"a\":\"Sol\\\\u00eds Velazquez\",\"d\":\"Econom\\\\u00eda\",\"m\":\"7\",\"c\":\"7.8571\"},{\"i\":\"84658\",\"n\":\"HILDA REYNA\",\"a\":\"SOLIS VIVANCO\",\"d\":\"Facultad de Ingenier\\\\u00eda\",\"m\":\"12\",\"c\":\"8.9167\"},{\"i\":\"160445\",\"n\":\"FRANCISCO\",\"a\":\"Solorza\",\"d\":\"Economia\",\"m\":\"0\",\"c\":null},{\"i\":\"14495\",\"n\":\"Marcia Luz\",\"a\":\"Solorza Luna\",\"d\":\"Economia\",\"m\":\"23\",\"c\":\"7.1304\"},{\"i\":\"159778\",\"n\":\"Brenda\",\"a\":\"Solorzano\",\"d\":\"ENES-Merida\",\"m\":\"0\",\"c\":null},{\"i\":\"158740\",\"n\":\"Lida Andrea\",\"a\":\"Sol\\\\u00f3rzano Garc\\\\u00eda\",\"d\":\"Facultad de Ciencias \",\"m\":\"0\",\"c\":null},{\"i\":\"124572\",\"n\":\"SILVIA\",\"a\":\"SOLTERO LEAL\",\"d\":\"ARTES Y DISE\\\\u00d1O\",\"m\":\"0\",\"c\":null},{\"i\":\"44517\",\"n\":\"Laura Angela\",\"a\":\"Somarriba Rocha\",\"d\":\"Psicolog\\\\u00eda\",\"m\":\"1\",\"c\":\"3.0000\"},{\"i\":\"117241\",\"n\":\"Saul\",\"a\":\"Soriano Salgado\",\"d\":\"Ingenier\\\\u00eda \",\"m\":\"0\",\"c\":null},{\"i\":\"77554\",\"n\":\"jorge alejandro\",\"a\":\"sosa\",\"d\":\"sumano\",\"m\":\"0\",\"c\":null},{\"i\":\"14534\",\"n\":\"Sergio Walter\",\"a\":\"Sosa Barajas\",\"d\":\"Economia\",\"m\":\"21\",\"c\":\"8.6190\"},{\"i\":\"52817\",\"n\":\"Fernando\",\"a\":\"Sosa Betancourt\",\"d\":\"Facultad de ciencias pol\\\\u00edticas y sociales\",\"m\":\"7\",\"c\":\"6.5714\"},{\"i\":\"14496\",\"n\":\"Jos\\\\u00e9 Gast\\\\u00f3n\",\"a\":\"Sosa Ferreira\",\"d\":\"Economia\",\"m\":\"5\",\"c\":\"6.0000\"},{\"i\":\"119389\",\"n\":\"LINA\",\"a\":\"SOSA HERN\\\\u00c1NDEZ\",\"d\":\"Facultad de Contadur\\\\u00eda y Administraci\\\\u00f3n\",\"m\":\"0\",\"c\":null},{\"i\":\"162581\",\"n\":\"Raymundo\",\"a\":\"Sosa Hern\\\\u00e1ndez\",\"d\":\"Facultad de Contadur\\\\u00eda y Administraci\\\\u00f3n\",\"m\":\"1\",\"c\":\"9.0000\"},{\"i\":\"161222\",\"n\":\"Raymundo\",\"a\":\"Sosa Hern\\\\u00e1ndez\",\"d\":\"Contadur\\\\u00eda y Administraci\\\\u00f3n\",\"m\":\"1\",\"c\":\"10.0000\"},{\"i\":\"115126\",\"n\":\"Cesar Elias\",\"a\":\"Sosa Ordo\\\\u00f1o\",\"d\":\"Arquitectura\",\"m\":\"2\",\"c\":\"8.5000\"},{\"i\":\"111247\",\"n\":\"Jessica\",\"a\":\"Sosa Quintero\",\"d\":\"Ecolog\\\\u00eda\",\"m\":\"2\",\"c\":\"9.0000\"},{\"i\":\"158049\",\"n\":\"Fabiola Sagrario\",\"a\":\"Sosa Rodr\\\\u00edguez\",\"d\":\"Doctrinas III \",\"m\":\"0\",\"c\":null},{\"i\":\"30766\",\"n\":\"Victor\",\"a\":\"sotelo\",\"d\":\"administracion\",\"m\":\"1\",\"c\":\"7.0000\"},{\"i\":\"28179\",\"n\":\"Enrriqhe\",\"a\":\"Soto\",\"d\":\"Qhimica\",\"m\":\"3\",\"c\":\"8.3333\"},{\"i\":\"114871\",\"n\":\"Rogelio\",\"a\":\"Soto Ayala\",\"d\":\"Ingenier\\\\u00eda\",\"m\":\"0\",\"c\":null},{\"i\":\"14598\",\"n\":\"Roberto\",\"a\":\"Soto Esquivel\",\"d\":\"Economia\",\"m\":\"9\",\"c\":\"8.8889\"},{\"i\":\"114306\",\"n\":\"Carlos Adolfo\",\"a\":\"Soto Franco\",\"d\":\"CCH SUR\",\"m\":\"1\",\"c\":\"10.0000\"},{\"i\":\"141852\",\"n\":\"Oscar\",\"a\":\"Sotomayor lopez\",\"d\":\"Fes aragon \",\"m\":\"2\",\"c\":\"9.0000\"},{\"i\":\"72906\",\"n\":\"Oscar\",\"a\":\"Sotomayor lopez\",\"d\":\"Aragon\",\"m\":\"2\",\"c\":\"9.0000\"},{\"i\":\"150194\",\"n\":\"Erika\",\"a\":\"Souza Colin\",\"d\":\"Facultad de Psicolog\\\\u00eda\",\"m\":\"1\",\"c\":\"6.0000\"},{\"i\":\"32457\",\"n\":\"graciela\",\"a\":\"staines vega\",\"d\":\"derecho\",\"m\":\"9\",\"c\":\"4.7778\"},{\"i\":\"14599\",\"n\":\"Flavio Arturo\",\"a\":\"Stringel Gomez\",\"d\":\"Economia\",\"m\":\"13\",\"c\":\"4.4615\"},{\"i\":\"155799\",\"n\":\"Javier\",\"a\":\"Su  Gallegos\",\"d\":\"Metrologia \",\"m\":\"2\",\"c\":\"9.0000\"},{\"i\":\"141598\",\"n\":\"Monserrat\",\"a\":\"Su\\\\u00e1rez\",\"d\":\"Facultad de Ciencias\",\"m\":\"0\",\"c\":null},{\"i\":\"35363\",\"n\":\"Jorge Eduardo\",\"a\":\"Su\\\\u00e1rez Correa\",\"d\":\"CELE\",\"m\":\"18\",\"c\":\"8.0556\"},{\"i\":\"50216\",\"n\":\"Jorge Eduardo\",\"a\":\"Su\\\\u00e1rez Correa\",\"d\":\"CELE- Ingl\\\\u00e9s\",\"m\":\"1\",\"c\":\"3.0000\"},{\"i\":\"106675\",\"n\":\"Daniela del Carmen\",\"a\":\"Su\\\\u00e1rez de Los Santos\",\"d\":\"DERECHO\",\"m\":\"5\",\"c\":\"9.8000\"},{\"i\":\"15246\",\"n\":\"Jorge Luis \",\"a\":\"Su\\\\u00e1rez Madariaga\",\"d\":\"Actuaria\",\"m\":\"3\",\"c\":\"9.0000\"},{\"i\":\"159621\",\"n\":\"Carl Michael\",\"a\":\"Sune Reimer Lopez\",\"d\":\"Facultad de Ciencias\",\"m\":\"1\",\"c\":\"8.0000\"},{\"i\":\"82774\",\"n\":\"MATILDE\",\"a\":\"SUZUKI\",\"d\":\"CCH SUR\",\"m\":\"1\",\"c\":\"8.0000\"},{\"i\":\"157530\",\"n\":\"PAUL\",\"a\":\"Szejner\",\"d\":\"Instituto de Geologia UNAM\",\"m\":\"0\",\"c\":null},{\"i\":\"84674\",\"n\":\"ENRIQUE\",\"a\":\"TAKAHASHI VILLANUEVA\",\"d\":\"Ingenieria\",\"m\":\"3\",\"c\":\"5.3333\"},{\"i\":\"29049\",\"n\":\"Rosa Mar\\\\u00eda\",\"a\":\"Talavera\",\"d\":\"Literatura\",\"m\":\"1\",\"c\":\"6.0000\"},{\"i\":\"16836\",\"n\":\"Jose Antonio\",\"a\":\"Talayero\",\"d\":\"Psicolog\\\\u00eda\",\"m\":\"18\",\"c\":\"8.3333\"},{\"i\":\"42290\",\"n\":\"Hector Alfonso\",\"a\":\"Tamayo Lopez Portillo\",\"d\":\"Econom\\\\u00eda\",\"m\":\"2\",\"c\":\"4.5000\"},{\"i\":\"14448\",\"n\":\"Hector Alonso\",\"a\":\"Tamayo y Lopez\",\"d\":\"Economia\",\"m\":\"5\",\"c\":\"7.2000\"},{\"i\":\"77451\",\"n\":\"fernando\",\"a\":\"tapia\",\"d\":\"arquitectura\",\"m\":\"0\",\"c\":null},{\"i\":\"146553\",\"n\":\"Martha\",\"a\":\"Tapia Campos\",\"d\":\"Facultad de Ciencias Pol\\\\u00edticas y Sociales\",\"m\":\"2\",\"c\":\"10.0000\"},{\"i\":\"163482\",\"n\":\"Diana Elvira\",\"a\":\"Tap\\\\u00eda Carrillo\",\"d\":\"Biolog\\\\u00eda laboratorio \",\"m\":\"0\",\"c\":null},{\"i\":\"135390\",\"n\":\"Karen Adriana\",\"a\":\"Tapia Gonzalez\",\"d\":\"Facultad de Qu\\\\u00edmica\",\"m\":\"0\",\"c\":null},{\"i\":\"152540\",\"n\":\"Rocio\",\"a\":\"Tapia Hernandez\",\"d\":\"Historia de M\\\\u00e9xico \",\"m\":\"1\",\"c\":\"2.0000\"},{\"i\":\"154325\",\"n\":\"Marcos\",\"a\":\"Tapia Montalvo\",\"d\":\"FES Cuautitl\\\\u00e1n\",\"m\":\"1\",\"c\":\"10.0000\"},{\"i\":\"15245\",\"n\":\"Javier\",\"a\":\"Tap\\\\u00eda Ram\\\\u00edrez\",\"d\":\"Acto Jur\\\\u00eddico y Personas\",\"m\":\"9\",\"c\":\"6.1111\"},{\"i\":\"14086\",\"n\":\"Jos\\\\u00e9\",\"a\":\"Tap\\\\u00eda Zu\\\\u00f1iga\",\"d\":\"Filosof\\\\u00eda y Letras\",\"m\":\"7\",\"c\":\"7.8571\"},{\"i\":\"51905\",\"n\":\"Mariona\",\"a\":\"Tarragona Roig\",\"d\":\"FES Acatl\\\\u00e1n\",\"m\":\"2\",\"c\":\"9.0000\"},{\"i\":\"141139\",\"n\":\"Joel\",\"a\":\"Tavarez\",\"d\":\"ENP 7\",\"m\":\"0\",\"c\":null},{\"i\":\"52895\",\"n\":\"Gustavo\",\"a\":\"Tavizon Alvarado\",\"d\":\"Facultad de quimica \\\\/ Departamento de fisica\",\"m\":\"4\",\"c\":\"6.5000\"},{\"i\":\"162375\",\"n\":\"La Casa Azul\",\"a\":\"Tec CEM\",\"d\":\"Renta de Cuartos bien culeros\",\"m\":\"0\",\"c\":null},{\"i\":\"141554\",\"n\":\"Norma\",\"a\":\"Tecontero Reyes\",\"d\":\"Economia\",\"m\":\"1\",\"c\":\"10.0000\"},{\"i\":\"113392\",\"n\":\"Victor Leonardo\",\"a\":\"Teja\",\"d\":\"Facultad de Ingenier\\\\u00eda\",\"m\":\"7\",\"c\":\"8.5714\"},{\"i\":\"108584\",\"n\":\"Eric Adri\\\\u00e1n\",\"a\":\"Tejeda Malpica\",\"d\":\"Ingenier\\\\u00eda\",\"m\":\"5\",\"c\":\"8.2000\"},{\"i\":\"110976\",\"n\":\"Yael\",\"a\":\"T\\\\u00e9llez\",\"d\":\"FES Arag\\\\u00f3n\",\"m\":\"0\",\"c\":null},{\"i\":\"162049\",\"n\":\"Maria Azucena\",\"a\":\"Tellez Hernandez\",\"d\":\"CCH Vallejo\",\"m\":\"1\",\"c\":\"7.0000\"},{\"i\":\"154658\",\"n\":\"Jonathan Miguel\",\"a\":\"T\\\\u00e9llez Toris\",\"d\":\"Facultad de Arquitectura UNAM\",\"m\":\"1\",\"c\":\"3.0000\"},{\"i\":\"14535\",\"n\":\"Jorge Orlando\",\"a\":\"Tellitud Salgado\",\"d\":\"Economia\",\"m\":\"18\",\"c\":\"6.5556\"},{\"i\":\"15892\",\"n\":\"Alejandro\",\"a\":\"Tello Galnarez\",\"d\":\"Derecho\",\"m\":\"3\",\"c\":\"9.6667\"},{\"i\":\"14600\",\"n\":\"Carlos Alejandro\",\"a\":\"Tello Macias\",\"d\":\"Economia\",\"m\":\"26\",\"c\":\"6.5385\"},{\"i\":\"81792\",\"n\":\"Nelia\",\"a\":\"Tello Peon\",\"d\":\"Escuela Nacional de Trabajo Social\",\"m\":\"8\",\"c\":\"4.3750\"},{\"i\":\"150383\",\"n\":\"MARCO ANTONIO\",\"a\":\"TENORIO MARR\\\\u00d3N\",\"d\":\"REDES\",\"m\":\"1\",\"c\":\"4.0000\"},{\"i\":\"162509\",\"n\":\"Angie\",\"a\":\"Ter\\\\u00e1n Gonzalez\",\"d\":\"cch azcapotzalco\",\"m\":\"1\",\"c\":\"10.0000\"},{\"i\":\"15877\",\"n\":\"Roberto\",\"a\":\"Terrazas\",\"d\":\"Salgado\",\"m\":\"1\",\"c\":\"10.0000\"},{\"i\":\"15878\",\"n\":\"Roberto\",\"a\":\"Terrazas Salgado\",\"d\":\"Derecho\",\"m\":\"75\",\"c\":\"6.8133\"},{\"i\":\"34635\",\"n\":\"roberto de jesus\",\"a\":\"terrazas salgado\",\"d\":\"derecho\",\"m\":\"0\",\"c\":null},{\"i\":\"27334\",\"n\":\"Jos\\\\u00e9 Agustin\",\"a\":\"Texta Mena\",\"d\":\"Qu\\\\u00ecmica\",\"m\":\"14\",\"c\":\"8.0714\"},{\"i\":\"74994\",\"n\":\"David Ren\\\\u00e9\",\"a\":\"Thierry Garcia\",\"d\":\"Filosof\\\\u00eda y Letras\",\"m\":\"2\",\"c\":\"3.0000\"},{\"i\":\"84470\",\"n\":\"Edgar\",\"a\":\"Tista Garcia\",\"d\":\"ingeniria\",\"m\":\"60\",\"c\":\"8.4167\"},{\"i\":\"107058\",\"n\":\"No\\\\u00e9 Cuauhtemoc\",\"a\":\"Tlaseca Ruiz\",\"d\":\"Ingenieria\",\"m\":\"4\",\"c\":\"8.7500\"},{\"i\":\"108020\",\"n\":\"Noe\",\"a\":\"Tlaseca Ruiz\",\"d\":\"Ingenieria\",\"m\":\"4\",\"c\":\"9.7500\"},{\"i\":\"160676\",\"n\":\"Christian Gabriel\",\"a\":\"Toledo Lozano\",\"d\":\"Medicina \",\"m\":\"1\",\"c\":\"10.0000\"},{\"i\":\"89734\",\"n\":\"Carlos Arturo\",\"a\":\"Toledo Manzur\",\"d\":\"ciencias qu\\\\u00edmico-biol\\\\u00f3gicas \",\"m\":\"0\",\"c\":null},{\"i\":\"105035\",\"n\":\"Gustavo\",\"a\":\"Toris Guevara\",\"d\":\"Arquitectura \",\"m\":\"3\",\"c\":\"9.3333\"},{\"i\":\"146847\",\"n\":\"Silvia\",\"a\":\"Toro Badillo\",\"d\":\"CCH sur\",\"m\":\"2\",\"c\":\"2.0000\"},{\"i\":\"137006\",\"n\":\"VICTOR\",\"a\":\"TORRES\",\"d\":\"FACULTA DE MEDICINA \",\"m\":\"0\",\"c\":null},{\"i\":\"24432\",\"n\":\"Manuel\",\"a\":\"Torres\",\"d\":\"Zaragoza\",\"m\":\"0\",\"c\":null},{\"i\":\"142318\",\"n\":\"Aravid\",\"a\":\"Torres\",\"d\":\"Matem\\\\u00e1ticas \",\"m\":\"0\",\"c\":null},{\"i\":\"106559\",\"n\":\"carlos\",\"a\":\"torres\",\"d\":\"economia\",\"m\":\"0\",\"c\":null},{\"i\":\"157126\",\"n\":\"Jorge Eduardo\",\"a\":\"Torres\",\"d\":\"Trabajo social \",\"m\":\"1\",\"c\":\"10.0000\"},{\"i\":\"110851\",\"n\":\"Eduardo\",\"a\":\"Torres  Veitya\",\"d\":\"Posgrado\",\"m\":\"0\",\"c\":null},{\"i\":\"114971\",\"n\":\"maria del carmen\",\"a\":\"torres barrera\",\"d\":\"Quimica\",\"m\":\"0\",\"c\":null},{\"i\":\"107490\",\"n\":\"lorena\",\"a\":\"torres bernardino\",\"d\":\"ciencias politicas y sociales\",\"m\":\"3\",\"c\":\"4.0000\"},{\"i\":\"114813\",\"n\":\"Rogelio\",\"a\":\"torres cabrera\",\"d\":\"CU\",\"m\":\"0\",\"c\":null},{\"i\":\"161872\",\"n\":\"Alan Aaron\",\"a\":\"Torres C\\\\u00e1rdenas\",\"d\":\"Facultad de contaduria y administraci\\\\u00f3n \",\"m\":\"0\",\"c\":null},{\"i\":\"124396\",\"n\":\"Alan AAaron\",\"a\":\"Torres Cardenas\",\"d\":\"FCA\",\"m\":\"0\",\"c\":null},{\"i\":\"15951\",\"n\":\"Alejandro\",\"a\":\"Torres Estrada\",\"d\":\"Derecho\",\"m\":\"43\",\"c\":\"9.0698\"},{\"i\":\"150377\",\"n\":\"Jesus\",\"a\":\"Torres Garcia\",\"d\":\"Fisica \",\"m\":\"1\",\"c\":\"6.0000\"},{\"i\":\"14497\",\"n\":\"Erika\",\"a\":\"Torres God\\\\u00ednez\",\"d\":\"Economia\",\"m\":\"22\",\"c\":\"8.1364\"},{\"i\":\"154442\",\"n\":\"Erika\",\"a\":\"Torres Godinez\",\"d\":\"Facultad de econom\\\\u00eda \",\"m\":\"0\",\"c\":null},{\"i\":\"110010\",\"n\":\"Sonia\",\"a\":\"Torres Gonzales\",\"d\":\"prepa 2\",\"m\":\"0\",\"c\":null},{\"i\":\"110266\",\"n\":\"Ulises\",\"a\":\"Torres Herrera\",\"d\":\"Fisica\",\"m\":\"6\",\"c\":\"8.1667\"},{\"i\":\"159992\",\"n\":\"Citlalli Guadalupe\",\"a\":\"Torres Hidalgo\",\"d\":\"FES cuautitl\\\\u00e1n \",\"m\":\"0\",\"c\":null},{\"i\":\"83912\",\"n\":\"H\\\\u00e9ctor\",\"a\":\"Torres Lima\",\"d\":\"FES Acatl\\\\u00e1n - Comunicaci\\\\u00f3n\",\"m\":\"1\",\"c\":\"8.0000\"},{\"i\":\"98404\",\"n\":\"Karina Beatriz\",\"a\":\"Torres Maldonado\",\"d\":\"psicolog\\\\u00eda \",\"m\":\"4\",\"c\":\"10.0000\"},{\"i\":\"149116\",\"n\":\"Martha Fabiola\",\"a\":\"Torres Mu\\\\u00f1oz\",\"d\":\"Escuela Nacional de Trabajo Social\",\"m\":\"1\",\"c\":\"5.0000\"},{\"i\":\"144471\",\"n\":\"Germ\\\\u00e1n\",\"a\":\"Torres Oliveros\",\"d\":\"Fes Cuautitl\\\\u00e1n \",\"m\":\"7\",\"c\":\"6.0000\"},{\"i\":\"20751\",\"n\":\"Carlos\",\"a\":\"Torres Oliveros\",\"d\":\"Econom\\\\u00eda\",\"m\":\"2\",\"c\":\"5.0000\"},{\"i\":\"104627\",\"n\":\"Crist\\\\u00f3bal Manuel\",\"a\":\"Torres Ortega\",\"d\":\"Facultad de contadur\\\\u00eda y administraci\\\\u00f3n\",\"m\":\"0\",\"c\":null},{\"i\":\"145664\",\"n\":\"Alejandro\",\"a\":\"Torres Rogelio\",\"d\":\"Facultad de Ciencias Pol\\\\u00edticas y Sociales\",\"m\":\"0\",\"c\":null},{\"i\":\"157257\",\"n\":\"H\\\\u00e9ctor\",\"a\":\"Torres S\\\\u00e1nchez\",\"d\":\"Facultad de Contadur\\\\u00eda \",\"m\":\"1\",\"c\":\"10.0000\"},{\"i\":\"30355\",\"n\":\"Ulises\",\"a\":\"Torres S\\\\u00e1nchez\",\"d\":\"Escuela Nacional de Trabajo Social\",\"m\":\"6\",\"c\":\"7.6667\"},{\"i\":\"42526\",\"n\":\"Graciela\",\"a\":\"Torres Silva\",\"d\":\"CELE\\\\/ Franc\\\\u00e9s\",\"m\":\"21\",\"c\":\"6.3333\"},{\"i\":\"113443\",\"n\":\"Moises\",\"a\":\"Torres solis\",\"d\":\"Fisica\",\"m\":\"4\",\"c\":\"2.2500\"},{\"i\":\"119568\",\"n\":\"Carlos Alberto\",\"a\":\"Torres sosa\",\"d\":\"Ciencias\",\"m\":\"0\",\"c\":null},{\"i\":\"17676\",\"n\":\"Juan Carlos\",\"a\":\"Torres Tovar\",\"d\":\"CONTADURIA\",\"m\":\"52\",\"c\":\"9.4808\"},{\"i\":\"157218\",\"n\":\"Gerardo\",\"a\":\"Torres trejo\",\"d\":\"Derecho\",\"m\":\"0\",\"c\":null},{\"i\":\"155505\",\"n\":\"David\",\"a\":\"Torres Ya\\\\u00f1ez\",\"d\":\"FCPyS\",\"m\":\"1\",\"c\":\"10.0000\"},{\"i\":\"24433\",\"n\":\"Manuel\",\"a\":\"Torres Zaragoza\",\"d\":\"Facultad de Econom\\\\u00eda\",\"m\":\"1\",\"c\":\"6.0000\"},{\"i\":\"140516\",\"n\":\"Luis Francisco\",\"a\":\"Toscano\",\"d\":\"Ramirez\",\"m\":\"0\",\"c\":null},{\"i\":\"140518\",\"n\":\"Luis Francisco\",\"a\":\"Toscano Ram\\\\u00edrez\",\"d\":\"Fad\",\"m\":\"0\",\"c\":null},{\"i\":\"87565\",\"n\":\"Horacio\",\"a\":\"Tovar Velazquez\",\"d\":\"Fisica\",\"m\":\"2\",\"c\":\"6.5000\"},{\"i\":\"140944\",\"n\":\"Gerardo\",\"a\":\"Toxqui Lopez\",\"d\":\"I genieria\",\"m\":\"0\",\"c\":null},{\"i\":\"140946\",\"n\":\"Gerardo\",\"a\":\"Toxqui Lopez\",\"d\":\"Ingenieria\",\"m\":\"0\",\"c\":null},{\"i\":\"114610\",\"n\":\"Ana Mar\\\\u00eda\",\"a\":\"Tradatti\",\"d\":\"Esm\",\"m\":\"0\",\"c\":null},{\"i\":\"134935\",\"n\":\"Laura\",\"a\":\"Trejo\",\"d\":\"FES Zaragoza Enfermer\\\\u00eda\",\"m\":\"1\",\"c\":\"2.0000\"},{\"i\":\"39777\",\"n\":\"Ra\\\\u00fal\",\"a\":\"Trejo Delarbre\",\"d\":\"IIS, FCPyS de la UNAM\",\"m\":\"4\",\"c\":\"7.0000\"},{\"i\":\"26800\",\"n\":\"ANTONIO\",\"a\":\"TREJO LUGO\",\"d\":\"FES CUAUTITLAN\\\\/ MATEMATICAS\",\"m\":\"22\",\"c\":\"8.6364\"},{\"i\":\"107101\",\"n\":\"Pedro\",\"a\":\"Trejo Miranda\",\"d\":\"FCA\",\"m\":\"2\",\"c\":\"10.0000\"},{\"i\":\"151850\",\"n\":\"Zoila Berenice\",\"a\":\"Trejo Pantoja\",\"d\":\"Odontolog\\\\u00eda \",\"m\":\"1\",\"c\":\"2.0000\"},{\"i\":\"14601\",\"n\":\"Marina\",\"a\":\"Trejo Ramirez\",\"d\":\"Economia\",\"m\":\"5\",\"c\":\"6.0000\"},{\"i\":\"21625\",\"n\":\"Rebeca\",\"a\":\"Trejo Xelhuantzi\",\"d\":\"Arquitectura\",\"m\":\"900\",\"c\":\"4.0600\"},{\"i\":\"134937\",\"n\":\"Mariana\",\"a\":\"Trevi\\\\u00f1o\",\"d\":\"Feregrino\",\"m\":\"4\",\"c\":\"3.5000\"},{\"i\":\"119202\",\"n\":\"Mar\\\\u00eda elena\",\"a\":\"Trevi\\\\u00f1o Camacho\",\"d\":\"Cch sur \",\"m\":\"1\",\"c\":\"2.0000\"},{\"i\":\"61048\",\"n\":\"Blanca Estela\",\"a\":\"Trevi\\\\u00f1o Garcia.\",\"d\":\"Filosofia y letras\",\"m\":\"6\",\"c\":\"5.5000\"},{\"i\":\"139669\",\"n\":\"Guadalupe\",\"a\":\"Trigueros\",\"d\":\"Licenciatura\",\"m\":\"0\",\"c\":null},{\"i\":\"156073\",\"n\":\"Patricia\",\"a\":\"Trigueros Meza\",\"d\":\"UNAM\",\"m\":\"2\",\"c\":\"7.0000\"},{\"i\":\"60642\",\"n\":\"roxana\",\"a\":\"trigueros olivares\",\"d\":\"derecho sua\",\"m\":\"3\",\"c\":\"7.0000\"},{\"i\":\"29487\",\"n\":\"Nicole\",\"a\":\"Trocherie\",\"d\":\"CELE-Frances\",\"m\":\"13\",\"c\":\"5.4615\"},{\"i\":\"102236\",\"n\":\"Verenice\",\"a\":\"Trujillo Albarr\\\\u00e1n\",\"d\":\"FES CUAUTITL\\\\u00c1N\",\"m\":\"7\",\"c\":\"7.4286\"},{\"i\":\"113549\",\"n\":\"Pablo\",\"a\":\"Trujillo Garc\\\\u00eda\",\"d\":\"Arquitectura\",\"m\":\"3\",\"c\":\"8.3333\"},{\"i\":\"110875\",\"n\":\"Maria del carmen\",\"a\":\"Trujillo gardu\\\\u00f1o\",\"d\":\"Licenciatura en educaci\\\\u00f3n primaria\",\"m\":\"2\",\"c\":\"2.0000\"},{\"i\":\"121521\",\"n\":\"Sonni Alberto\",\"a\":\"Trujillo Reyna\",\"d\":\"Fes Iztacala\",\"m\":\"3\",\"c\":\"8.0000\"},{\"i\":\"103201\",\"n\":\"Carlos\",\"a\":\"Trujillo Rodr\\\\u00edguez\",\"d\":\"Derecho \",\"m\":\"10\",\"c\":\"6.0000\"},{\"i\":\"104670\",\"n\":\"Carlos\",\"a\":\"Trujillo Rodriguez\",\"d\":\"FES ARAGON\",\"m\":\"4\",\"c\":\"8.2500\"},{\"i\":\"60788\",\"n\":\"Mar\\\\u00eda Elena\",\"a\":\"Trujillo-Ortega\",\"d\":\"FMVZ cerdos \",\"m\":\"2\",\"c\":\"4.5000\"},{\"i\":\"155878\",\"n\":\"Mar\\\\u00eda Alejandra\",\"a\":\"Ugalde Osorio\",\"d\":\"Hist\\\\u00f3rico Social\",\"m\":\"1\",\"c\":\"8.0000\"},{\"i\":\"123979\",\"n\":\"Oscar\",\"a\":\"Ugalde Rosales\",\"d\":\"Fea Aragon derecho \",\"m\":\"0\",\"c\":null},{\"i\":\"138596\",\"n\":\"GUADALUPE ARACELI\",\"a\":\"URBAN\",\"d\":\"FFYL\\\\/UNAM\",\"m\":\"2\",\"c\":\"10.0000\"},{\"i\":\"14410\",\"n\":\"Ra\\\\u00fal Rafael\",\"a\":\"Urb\\\\u00e1n Ruiz\",\"d\":\"Economia\",\"m\":\"33\",\"c\":\"5.2424\"},{\"i\":\"156553\",\"n\":\"Lizzet\",\"a\":\"Urbina\",\"d\":\"Anguas\",\"m\":\"0\",\"c\":null},{\"i\":\"84725\",\"n\":\"Lizzet\",\"a\":\"Urbina Anguas\",\"d\":\"Derecho SUA\",\"m\":\"7\",\"c\":\"7.5714\"},{\"i\":\"108130\",\"n\":\"Edgar\",\"a\":\"Urbina Sebasti\\\\u00e1n\",\"d\":\"facultad de ciencias pol\\\\u00edticas y sociales\",\"m\":\"8\",\"c\":\"8.6250\"},{\"i\":\"137247\",\"n\":\"Euridice\",\"a\":\"Urrutia\",\"d\":\"Prepa 3\",\"m\":\"1\",\"c\":\"3.0000\"},{\"i\":\"114747\",\"n\":\"Gustavo\",\"a\":\"Uruchurtu\",\"d\":\"Derecho\",\"m\":\"0\",\"c\":null},{\"i\":\"15193\",\"n\":\"Carlos Alejandro\",\"a\":\"Uscanga Prieto\",\"d\":\"FCPyS\",\"m\":\"9\",\"c\":\"8.6667\"},{\"i\":\"11259\",\"n\":\"Martha\",\"a\":\"Ustarroz Cano\",\"d\":\"Medicina\",\"m\":\"7\",\"c\":\"8.1429\"},{\"i\":\"15466\",\"n\":\"Ricardo\",\"a\":\"Uvalle\",\"d\":\"Berrones\",\"m\":\"13\",\"c\":\"8.9231\"},{\"i\":\"157698\",\"n\":\"Moises\",\"a\":\"Vaca\",\"d\":\"Filosofia\",\"m\":\"0\",\"c\":null},{\"i\":\"14536\",\"n\":\"Alfonso\",\"a\":\"Vadillo Bello\",\"d\":\"Economia\",\"m\":\"28\",\"c\":\"5.5357\"},{\"i\":\"126475\",\"n\":\"Maria del Carmen\",\"a\":\"Valderrama bravo\",\"d\":\"fes cuautitl\\\\u00e1n\",\"m\":\"0\",\"c\":null},{\"i\":\"125464\",\"n\":\"Patricia Teresita\",\"a\":\"Valderrama Morones\",\"d\":\"Lengua Extranjera\",\"m\":\"1\",\"c\":\"10.0000\"},{\"i\":\"69642\",\"n\":\"Carlos\",\"a\":\"Vald\\\\u00e9s Gonzalez\",\"d\":\"Geof\\\\u00edsica \",\"m\":\"3\",\"c\":\"3.3333\"},{\"i\":\"80781\",\"n\":\"Andrea\",\"a\":\"Vald\\\\u00e9s Hern\\\\u00e1ndez\",\"d\":\"ciencias\",\"m\":\"0\",\"c\":null},{\"i\":\"160542\",\"n\":\"Mariana\",\"a\":\"Valdez\",\"d\":\"Fes zarag \",\"m\":\"0\",\"c\":null},{\"i\":\"116670\",\"n\":\"Rafael\",\"a\":\"Valdez\",\"d\":\"Matem\\\\u00e1ticas \",\"m\":\"0\",\"c\":null},{\"i\":\"128523\",\"n\":\"Alejandra Catalina\",\"a\":\"Valdez Almaguer\",\"d\":\"CCH Sur\",\"m\":\"2\",\"c\":\"6.5000\"},{\"i\":\"125371\",\"n\":\"Dante\",\"a\":\"Valdez cortes\",\"d\":\"Cuautitl\\\\u00e1n campo 4\",\"m\":\"0\",\"c\":null},{\"i\":\"114112\",\"n\":\"VICENTE\",\"a\":\"VALDEZ DIMAS\",\"d\":\"Facultad de artes y dise\\\\u00f1o\",\"m\":\"0\",\"c\":null},{\"i\":\"116050\",\"n\":\"Erick\",\"a\":\"Valdez Juarez\",\"d\":\"Colegio de Fisica UNAM\",\"m\":\"1\",\"c\":\"10.0000\"},{\"i\":\"155829\",\"n\":\"Roberto alfonso\",\"a\":\"Valdr\\\\u00eda echaniz\",\"d\":\"Fca\",\"m\":\"0\",\"c\":null},{\"i\":\"51569\",\"n\":\"HUGO ULISES\",\"a\":\"VALENCIA  GORDILLO\",\"d\":\"DERECHO, POSGRADO, UNAM \",\"m\":\"3\",\"c\":\"5.0000\"},{\"i\":\"144444\",\"n\":\"Roberto\",\"a\":\"Valencia Arriaga\",\"d\":\"An\\\\u00e1lisis e Interpretaci\\\\u00f3n de estados financieros \",\"m\":\"1\",\"c\":\"10.0000\"},{\"i\":\"14411\",\"n\":\"Jes\\\\u00fas\",\"a\":\"Valencia Ch\\\\u00e1vez\",\"d\":\"Economia\",\"m\":\"35\",\"c\":\"9.0571\"},{\"i\":\"92789\",\"n\":\"sergio\",\"a\":\"valencia Navarrete\",\"d\":\"contadur\\\\u00eda y administraci\\\\u00f3n\",\"m\":\"0\",\"c\":null},{\"i\":\"124378\",\"n\":\"Sergio\",\"a\":\"Valencia Navarrete\",\"d\":\"Contadur\\\\u00eda\",\"m\":\"0\",\"c\":null},{\"i\":\"105443\",\"n\":\"Benjamin\",\"a\":\"Valencia Nieto\",\"d\":\"Facultad de Ciencias, UNAM\",\"m\":\"5\",\"c\":\"6.6000\"},{\"i\":\"163705\",\"n\":\"elsa maria agustina\",\"a\":\"valencia parra\",\"d\":\"ciencias politicas\",\"m\":\"0\",\"c\":null},{\"i\":\"114684\",\"n\":\"Norma Yolanda\",\"a\":\"Valencia Ramirez\",\"d\":\"Matem\\\\u00e1ticas\",\"m\":\"0\",\"c\":null},{\"i\":\"90629\",\"n\":\"Mar\\\\u00eda del Rosario\",\"a\":\"Valencia Salcedo\",\"d\":\"Derecho \",\"m\":\"6\",\"c\":\"7.6667\"},{\"i\":\"135257\",\"n\":\"Maria del Pilar\",\"a\":\"Valencia Saravia\",\"d\":\"Algebra \",\"m\":\"0\",\"c\":null},{\"i\":\"135258\",\"n\":\"Maria del Pilar\",\"a\":\"Valencia Saravia\",\"d\":\"Facultad de Ciencias\",\"m\":\"1\",\"c\":\"6.0000\"},{\"i\":\"83217\",\"n\":\"Lilian Gabriela\",\"a\":\"Valencia Turcotte\",\"d\":\"Ciencias\",\"m\":\"8\",\"c\":\"8.0000\"},{\"i\":\"137445\",\"n\":\"Flor Ivonne\",\"a\":\"Valenzuela Andrade\",\"d\":\"Literatura \",\"m\":\"0\",\"c\":null},{\"i\":\"157642\",\"n\":\"Flor Ivonne\",\"a\":\"Valenzuela Andrade\",\"d\":\"Filosof\\\\u00eda y Letras\",\"m\":\"0\",\"c\":null},{\"i\":\"18006\",\"n\":\"Juan German\",\"a\":\"Valenzuela Ramos\",\"d\":\"FES ARAGON\",\"m\":\"4\",\"c\":\"3.5000\"},{\"i\":\"15000\",\"n\":\"Jorge Alfonso\",\"a\":\"Valenzuela Vallejo\",\"d\":\"Psicolog\\\\u00eda\",\"m\":\"8\",\"c\":\"8.8750\"},{\"i\":\"27152\",\"n\":\"Antonio\",\"a\":\"Valiente   Barderas\",\"d\":\"Facultad de Qu\\\\u00edmica. UNAM. Depto. Ing Qu\\\\u00edmica. \",\"m\":\"7\",\"c\":\"7.5714\"},{\"i\":\"153569\",\"n\":\"Adriana\",\"a\":\"Vallarino\",\"d\":\"Enes Merida\",\"m\":\"1\",\"c\":\"5.0000\"},{\"i\":\"15944\",\"n\":\"Jos\\\\u00e9 Luis\",\"a\":\"Vallarta Marr\\\\u00f3n\",\"d\":\"Derecho\",\"m\":\"22\",\"c\":\"9.0455\"},{\"i\":\"14450\",\"n\":\"Alejandro\",\"a\":\"Valle Baeza\",\"d\":\"Economia\",\"m\":\"46\",\"c\":\"7.2391\"},{\"i\":\"155392\",\"n\":\"ANA MARIA\",\"a\":\"VALLE VAZQUEZ\",\"d\":\"FFyL\\\\/ Pedagog\\\\u00eda\",\"m\":\"0\",\"c\":null},{\"i\":\"143054\",\"n\":\"Ana Mar\\\\u00eda\",\"a\":\"Valle V\\\\u00e1zquez\",\"d\":\"FFYL UNAM\",\"m\":\"1\",\"c\":\"2.0000\"},{\"i\":\"133480\",\"n\":\"MARIA DE LOURDES\",\"a\":\"VALLEJO BARREDA\",\"d\":\"FES IZTACALA ENFERMERIA MODULO PEDIATRIA\",\"m\":\"2\",\"c\":\"7.5000\"},{\"i\":\"111738\",\"n\":\"Barbara\",\"a\":\"Vallejo Vega\",\"d\":\"Facultad de odontologia\",\"m\":\"3\",\"c\":\"10.0000\"},{\"i\":\"154772\",\"n\":\"Gerardo\",\"a\":\"Valles Martinez\",\"d\":\"Facultad de Contadur\\\\u00eda y Administraci\\\\u00f3n \",\"m\":\"2\",\"c\":\"4.0000\"},{\"i\":\"94953\",\"n\":\"GLORIA ELENA\",\"a\":\"VALTIERRA MATUS\",\"d\":\"DERECHO \",\"m\":\"4\",\"c\":\"8.7500\"},{\"i\":\"114537\",\"n\":\"TEODORO SAUL\",\"a\":\"valverde Rosas\",\"d\":\"deparatamento de nefrologia\",\"m\":\"0\",\"c\":null},{\"i\":\"150625\",\"n\":\"karla ivonne\",\"a\":\"vaqqu\\\\u00e9z  barrera\",\"d\":\"derecho\",\"m\":\"0\",\"c\":null},{\"i\":\"119560\",\"n\":\"Hugo\",\"a\":\"Varela\",\"d\":\"Cch\",\"m\":\"0\",\"c\":null},{\"i\":\"136229\",\"n\":\"Juan\",\"a\":\"Varela\",\"d\":\"Ingenieria\",\"m\":\"0\",\"c\":null},{\"i\":\"71989\",\"n\":\"Jesus Carlos\",\"a\":\"Varela Cota\",\"d\":\"Contadur\\\\u00eda y Administracion\",\"m\":\"0\",\"c\":null},{\"i\":\"42246\",\"n\":\"Alejandro Fern\\\\u00e1ndez\",\"a\":\"Varela Jimenez\",\"d\":\"Facultad de Derecho \",\"m\":\"14\",\"c\":\"4.3571\"},{\"i\":\"160514\",\"n\":\"Karla Elizabeth\",\"a\":\"Vargas Barrios\",\"d\":\"Facultad de Filosof\\\\u00eda y Letras UNAM \\\\/ Colegio de B\",\"m\":\"1\",\"c\":\"10.0000\"},{\"i\":\"14451\",\"n\":\"Natividad\",\"a\":\"Vargas Cruz\",\"d\":\"Economia\",\"m\":\"20\",\"c\":\"7.2000\"},{\"i\":\"155326\",\"n\":\"Jorge humberto\",\"a\":\"Vargas cruz\",\"d\":\"Ciencias de la comunicaci\\\\u00f3n \",\"m\":\"0\",\"c\":null},{\"i\":\"155101\",\"n\":\"Cristian Daniel\",\"a\":\"Vargas Diego\",\"d\":\"Primaria justo Sierra\",\"m\":\"0\",\"c\":null},{\"i\":\"70861\",\"n\":\"alejandra\",\"a\":\"vargas espinosa de los m\",\"d\":\"ingenieria probabilidad\",\"m\":\"0\",\"c\":null},{\"i\":\"14602\",\"n\":\"Jose\",\"a\":\"Vargas Mendoza\",\"d\":\"Economia\",\"m\":\"74\",\"c\":\"6.3243\"},{\"i\":\"11260\",\"n\":\"Gustavo\",\"a\":\"Vargas S\\\\u00e1nchez\",\"d\":\"Econom\\\\u00eda\",\"m\":\"1\",\"c\":\"7.0000\"},{\"i\":\"104746\",\"n\":\"Isis\",\"a\":\"Vargas Santamaria\",\"d\":\"Facultad de contaduria y administracion\",\"m\":\"3\",\"c\":\"5.3333\"},{\"i\":\"138474\",\"n\":\"Daniel\",\"a\":\"Vasconcelos\",\"d\":\"arquitectura \",\"m\":\"0\",\"c\":null},{\"i\":\"111294\",\"n\":\"Reyna\",\"a\":\"VASQUES FARFAN\",\"d\":\"Maestra Lic. Alfredo V.Bonfil\",\"m\":\"1\",\"c\":\"10.0000\"},{\"i\":\"48008\",\"n\":\"OSCAR\",\"a\":\"VASQUEZ DEL MERCADO CORDERO\",\"d\":\"FAC. DERECHO UNAM\",\"m\":\"17\",\"c\":\"6.8824\"},{\"i\":\"115226\",\"n\":\"GABRIEL\",\"a\":\"VAZQUEZ\",\"d\":\"FACULTAD DE CONTADURIA Y ADMINISTRACION\",\"m\":\"0\",\"c\":null},{\"i\":\"98210\",\"n\":\"Ismael\",\"a\":\"Vazquez\",\"d\":\"Ingenier\\\\u00eda\",\"m\":\"1\",\"c\":\"4.0000\"},{\"i\":\"42358\",\"n\":\"Blanca Estela\",\"a\":\"V\\\\u00e1zquez\",\"d\":\"Vel\\\\u00e1zquez\",\"m\":\"0\",\"c\":null},{\"i\":\"56328\",\"n\":\"ARTURO\",\"a\":\"VAZQUEZ\",\"d\":\"SOTO\",\"m\":\"0\",\"c\":null},{\"i\":\"162038\",\"n\":\"Luis Alferedo\",\"a\":\"Vazquez Barcena\",\"d\":\"CCH Sur\",\"m\":\"0\",\"c\":null},{\"i\":\"162039\",\"n\":\"Luis Alfredo\",\"a\":\"Vazquez Barcena\",\"d\":\"CCH Sur\",\"m\":\"1\",\"c\":\"9.0000\"},{\"i\":\"160552\",\"n\":\"KARLA IVONNE\",\"a\":\"VAZQUEZ BARRERA\",\"d\":\"FACULTAD DE DERECHO UNAM SUA\",\"m\":\"1\",\"c\":\"10.0000\"},{\"i\":\"14452\",\"n\":\"Patricia Eugenia\",\"a\":\"V\\\\u00e1zquez Contreras\",\"d\":\"Economia\",\"m\":\"15\",\"c\":\"5.2667\"},{\"i\":\"134425\",\"n\":\"Julio Cesar\",\"a\":\"VAZQUEZ CRUZ\",\"d\":\"Aragon\",\"m\":\"0\",\"c\":null},{\"i\":\"121699\",\"n\":\"Gonzalo\",\"a\":\"Vazquez Cruz\",\"d\":\"Ciencias\",\"m\":\"8\",\"c\":\"8.8750\"},{\"i\":\"14412\",\"n\":\"Fernando\",\"a\":\"V\\\\u00e1zquez Guti\\\\u00e9rrez\",\"d\":\"Economia\",\"m\":\"4\",\"c\":\"6.0000\"},{\"i\":\"162449\",\"n\":\"Horacio\",\"a\":\"Vazquez L\\\\u00f3pez\",\"d\":\"Fes Iztacala \",\"m\":\"0\",\"c\":null},{\"i\":\"159457\",\"n\":\"Edgar\",\"a\":\"Vazquez Luis\",\"d\":\"Facultad de ciencias \",\"m\":\"0\",\"c\":null},{\"i\":\"73150\",\"n\":\"Laura\",\"a\":\"Vazquez Maggio\",\"d\":\"Econom\\\\u00eda\",\"m\":\"2\",\"c\":\"9.5000\"},{\"i\":\"26795\",\"n\":\"David\",\"a\":\"V\\\\u00e1zquez Mart\\\\u00edn\",\"d\":\"Econom\\\\u00eda\",\"m\":\"2\",\"c\":\"7.5000\"},{\"i\":\"105437\",\"n\":\"Ismael\",\"a\":\"V\\\\u00e1zquez Mart\\\\u00ednez\",\"d\":\"Ingenier\\\\u00eda \",\"m\":\"10\",\"c\":\"7.4000\"},{\"i\":\"135179\",\"n\":\"GABRIELA OLIVIA\",\"a\":\"VAZQUEZ MARU\",\"d\":\"Fes Acatlan\",\"m\":\"0\",\"c\":null},{\"i\":\"109788\",\"n\":\"Guillermo Gabino\",\"a\":\"V\\\\u00e1zquez Robles\",\"d\":\"Derecho\",\"m\":\"0\",\"c\":null},{\"i\":\"149110\",\"n\":\"Francisco\",\"a\":\"V\\\\u00e1zquez Salazar\",\"d\":\"Escuela Nacional de Trabajo Social\",\"m\":\"1\",\"c\":\"8.0000\"},{\"i\":\"42652\",\"n\":\"Vicente\",\"a\":\"Vazquez Suarez\",\"d\":\"administracion \",\"m\":\"11\",\"c\":\"8.4545\"},{\"i\":\"138476\",\"n\":\"Irina Ivonne\",\"a\":\"VAZQUEZ ZURITA\",\"d\":\"Facultad Ciencias pol\\\\u00edticas y sociales\",\"m\":\"0\",\"c\":null},{\"i\":\"148986\",\"n\":\"Edith-Gpe.\",\"a\":\"V\\\\u00e1zquez-Navarrete\",\"d\":\"Facultad de Artes y Dise\\\\u00f1o\",\"m\":\"0\",\"c\":null},{\"i\":\"52077\",\"n\":\"eduardo\",\"a\":\"vega\",\"d\":\"economia\",\"m\":\"1\",\"c\":\"9.0000\"},{\"i\":\"152205\",\"n\":\"Efrain\",\"a\":\"Vega\",\"d\":\"Ciencias\",\"m\":\"0\",\"c\":null},{\"i\":\"50460\",\"n\":\"jesus\",\"a\":\"vega\",\"d\":\"antropologia\",\"m\":\"0\",\"c\":null},{\"i\":\"134021\",\"n\":\"Hector\",\"a\":\"Vega Herrera\",\"d\":\"Fes aragon\",\"m\":\"0\",\"c\":null},{\"i\":\"119874\",\"n\":\"Juana Leticia\",\"a\":\"Vega Medina\",\"d\":\"Derecho \",\"m\":\"0\",\"c\":null},{\"i\":\"98780\",\"n\":\"Carlos\",\"a\":\"Veira Sedano\",\"d\":\"Facultad de derecho\",\"m\":\"0\",\"c\":null},{\"i\":\"14603\",\"n\":\"Joaquin Humberto\",\"a\":\"Vela Gonzalez\",\"d\":\"Economia\",\"m\":\"31\",\"c\":\"7.0968\"},{\"i\":\"162084\",\"n\":\"JOSE SALVADOR\",\"a\":\"VELARDE MENCHACA\",\"d\":\"Facultad de Ingenier\\\\u00eda\",\"m\":\"1\",\"c\":\"10.0000\"},{\"i\":\"14453\",\"n\":\"Alfredo\",\"a\":\"Velarde Saracho\",\"d\":\"Economia\",\"m\":\"109\",\"c\":\"6.8991\"},{\"i\":\"62653\",\"n\":\"Christian\",\"a\":\"Velasco\",\"d\":\"Econom\\\\u00eda\",\"m\":\"1\",\"c\":\"5.0000\"},{\"i\":\"125927\",\"n\":\"AARON\",\"a\":\"VELASCO AGUSTIN\",\"d\":\"Fes Aragon\",\"m\":\"9\",\"c\":\"9.1111\"},{\"i\":\"60091\",\"n\":\"Edgar\",\"a\":\"Velasco Casillas\",\"d\":\"Arquitectura proyectos \",\"m\":\"0\",\"c\":null},{\"i\":\"159342\",\"n\":\"Flor\",\"a\":\"Velasco Gutierrez\",\"d\":\"SUAyED\\\\/ Psicolog\\\\u00eda\",\"m\":\"1\",\"c\":\"10.0000\"},{\"i\":\"152048\",\"n\":\"Luis Arturo\",\"a\":\"Velasco Reyes\",\"d\":\"CCH Sur\",\"m\":\"3\",\"c\":\"8.3333\"},{\"i\":\"152061\",\"n\":\"Hugo\",\"a\":\"Velasquez\",\"d\":\"Brito\",\"m\":\"0\",\"c\":null},{\"i\":\"150393\",\"n\":\"Alfredo\",\"a\":\"Velasquez M\\\\u00e1rquez\",\"d\":\"Facultad de ingenier\\\\u00eda\",\"m\":\"0\",\"c\":null},{\"i\":\"135438\",\"n\":\"Ielsy Sof\\\\u00eda\",\"a\":\"Velasquez Sandoval\",\"d\":\"Facultad de Ciencias \",\"m\":\"0\",\"c\":null},{\"i\":\"161841\",\"n\":\"Shemadar\",\"a\":\"Velazco Vazquez\",\"d\":\"CCH SUR\",\"m\":\"1\",\"c\":\"2.0000\"},{\"i\":\"133431\",\"n\":\"Laura Mercedes\",\"a\":\"Vel\\\\u00e1zquez Arroyo\",\"d\":\"Derecho Romano\",\"m\":\"1\",\"c\":\"2.0000\"},{\"i\":\"74881\",\"n\":\"jorge alberto\",\"a\":\"velazquez benavides\",\"d\":\"matematica y fisica\",\"m\":\"0\",\"c\":null},{\"i\":\"17982\",\"n\":\"Juan Carlos\",\"a\":\"Velazquez Elizarraras\",\"d\":\"FCP y S\",\"m\":\"38\",\"c\":\"5.8684\"},{\"i\":\"16856\",\"n\":\"ALBERTO\",\"a\":\"VELAZQUEZ GARCIA \",\"d\":\"Economia\",\"m\":\"30\",\"c\":\"9.1333\"},{\"i\":\"123322\",\"n\":\"Beatriz Gilda\",\"a\":\"Velazquez Gonzales\",\"d\":\"Prepa 5\",\"m\":\"0\",\"c\":null},{\"i\":\"123321\",\"n\":\"Beatriz Gilda\",\"a\":\"Velazquez Gonzales\",\"d\":\"Quimica III\",\"m\":\"0\",\"c\":null},{\"i\":\"14413\",\"n\":\"Jaime Mart\\\\u00edn\",\"a\":\"Vel\\\\u00e1zquez Hern\\\\u00e1ndez\",\"d\":\"Economia\",\"m\":\"6\",\"c\":\"8.1667\"},{\"i\":\"156703\",\"n\":\"Alfredo\",\"a\":\"Velazquez Iba\\\\u00f1ez\",\"d\":\"Facultad de Ingenier\\\\u00eda\",\"m\":\"0\",\"c\":null},{\"i\":\"14987\",\"n\":\"Rita\",\"a\":\"Vel\\\\u00e1zquez Lerma\",\"d\":\"Psicolog\\\\u00eda\",\"m\":\"3\",\"c\":\"6.6667\"},{\"i\":\"11261\",\"n\":\"Javier\",\"a\":\"Vel\\\\u00e1zquez L\\\\u00f3pez\",\"d\":\"Ingenier\\\\u00eda\",\"m\":\"0\",\"c\":null},{\"i\":\"75427\",\"n\":\"sergio\",\"a\":\"velazquez montero\",\"d\":\"\",\"m\":\"1\",\"c\":\"5.0000\"},{\"i\":\"15950\",\"n\":\"Blanca Margarita\",\"a\":\"Velazquez Rodr\\\\u00edguez\",\"d\":\"Derecho\",\"m\":\"12\",\"c\":\"4.8333\"},{\"i\":\"161805\",\"n\":\"Julio\",\"a\":\"Vera\",\"d\":\"Derecho \",\"m\":\"0\",\"c\":null},{\"i\":\"148943\",\"n\":\"Jos\\\\u00e9 Ventura\",\"a\":\"Vera\",\"d\":\"Licea\",\"m\":\"0\",\"c\":null},{\"i\":\"159941\",\"n\":\"Fernando\",\"a\":\"Vera Grac\\\\u00eda\",\"d\":\"LETRAS HISP\\\\u00c1NICAS SUAYED\",\"m\":\"0\",\"c\":null},{\"i\":\"160759\",\"n\":\"ABEL\",\"a\":\"VERDE CRUZ\",\"d\":\"Fes Arag\\\\u00f3n\",\"m\":\"0\",\"c\":null},{\"i\":\"15157\",\"n\":\"Victoria Dinorah\",\"a\":\"Verdejo Coss y Le\\\\u00f3n\",\"d\":\"Fac. Quimica\",\"m\":\"25\",\"c\":\"5.3200\"},{\"i\":\"14996\",\"n\":\"Marcos Evencio\",\"a\":\"Verdejo Manzano\",\"d\":\"Psicolog\\\\u00eda\",\"m\":\"8\",\"c\":\"8.7500\"},{\"i\":\"156576\",\"n\":\"Carlos Alberto\",\"a\":\"Vergara Hern\\\\u00e1ndez\",\"d\":\"Facultad de Derecho UNAM \",\"m\":\"1\",\"c\":\"10.0000\"},{\"i\":\"125434\",\"n\":\"Jaime\",\"a\":\"Vergara prado\",\"d\":\"Fes Acatl\\\\u00e1n \",\"m\":\"2\",\"c\":\"4.5000\"},{\"i\":\"76407\",\"n\":\"Delia margarita\",\"a\":\"Vergara reyes\",\"d\":\"Ciencias pol\\\\u00edticas y sociales\",\"m\":\"6\",\"c\":\"5.5000\"},{\"i\":\"14538\",\"n\":\"Betty Isabel\",\"a\":\"Vergara Rojas\",\"d\":\"Economia\",\"m\":\"43\",\"c\":\"5.9535\"},{\"i\":\"119261\",\"n\":\"CECILIA\",\"a\":\"VEZ FELIX\",\"d\":\"Facultad de medicina \",\"m\":\"1\",\"c\":\"10.0000\"},{\"i\":\"163443\",\"n\":\"Teresa\",\"a\":\"Vidal\",\"d\":\"Preparatoria 1\",\"m\":\"0\",\"c\":null},{\"i\":\"14454\",\"n\":\"Regulo\",\"a\":\"Vigil Ruiz\",\"d\":\"Economia\",\"m\":\"30\",\"c\":\"4.0000\"},{\"i\":\"153951\",\"n\":\"Francisco\",\"a\":\"Vigueras Bonilla\",\"d\":\"Derecho \",\"m\":\"1\",\"c\":\"10.0000\"},{\"i\":\"104959\",\"n\":\"Juan\",\"a\":\"Vilchis\",\"d\":\"Fes aragon\",\"m\":\"2\",\"c\":\"10.0000\"},{\"i\":\"77100\",\"n\":\"maria eugenia\",\"a\":\"vilchis colin\",\"d\":\"historia\",\"m\":\"11\",\"c\":\"7.5455\"},{\"i\":\"154586\",\"n\":\"Juan Bruno\",\"a\":\"Vilchis Cuevas\",\"d\":\"Derecho\",\"m\":\"0\",\"c\":null},{\"i\":\"24943\",\"n\":\"Luz del Carmen\",\"a\":\"Vilchis Esquivel\",\"d\":\"Dise\\\\u00f1o\",\"m\":\"25\",\"c\":\"9.0400\"},{\"i\":\"22381\",\"n\":\"GONZALO\",\"a\":\"VILCHIS PRIETO\",\"d\":\"DERECHO\",\"m\":\"17\",\"c\":\"7.8235\"},{\"i\":\"162508\",\"n\":\"Mar\\\\u00eda de Lourdes\",\"a\":\"Vilchis Quintero\",\"d\":\"cch azcapotzalco\",\"m\":\"1\",\"c\":\"9.0000\"},{\"i\":\"105948\",\"n\":\"paola\",\"a\":\"villa\",\"d\":\"ingenieria\",\"m\":\"0\",\"c\":null},{\"i\":\"104852\",\"n\":\"Mariana Jimena\",\"a\":\"Villagomez Casimiro.\",\"d\":\"Facultad de Ciencias\",\"m\":\"1\",\"c\":\"5.0000\"},{\"i\":\"20460\",\"n\":\"JUAN\",\"a\":\"VILLAGORDOA MESA\",\"d\":\"MEDICINA\",\"m\":\"0\",\"c\":null},{\"i\":\"54398\",\"n\":\"Genoveva\",\"a\":\"Villalobos Contreras\",\"d\":\"Ciencias\",\"m\":\"9\",\"c\":\"7.2222\"},{\"i\":\"159752\",\"n\":\"CHRISTOPHER ISAAC\",\"a\":\"VILLAMAR FLORES\",\"d\":\"FES ZARAGOZA psicolog\\\\u00eda \",\"m\":\"1\",\"c\":\"10.0000\"},{\"i\":\"62473\",\"n\":\"jorge alberto\",\"a\":\"villamil rivas\",\"d\":\"\",\"m\":\"2\",\"c\":\"5.0000\"},{\"i\":\"142416\",\"n\":\"Silvia berenice\",\"a\":\"Villamil Rodriguez\",\"d\":\"Contadur\\\\u00eda y administraci\\\\u00f3n  \",\"m\":\"0\",\"c\":null},{\"i\":\"157480\",\"n\":\"Rosita\",\"a\":\"Villanueva\",\"d\":\"Facultad de filosof\\\\u00eda y Letras\",\"m\":\"0\",\"c\":null},{\"i\":\"15017\",\"n\":\"Pedro\",\"a\":\"Villanueva\",\"d\":\"Anal\\\\u00edtica\",\"m\":\"3\",\"c\":\"5.0000\"},{\"i\":\"123290\",\"n\":\"eduardos\",\"a\":\"villanueva mendez\",\"d\":\"preparatoria 3\",\"m\":\"0\",\"c\":null},{\"i\":\"91039\",\"n\":\"ana guadalupe\",\"a\":\"villanueva pacheco\",\"d\":\"humanidades fes aragon\",\"m\":\"0\",\"c\":null},{\"i\":\"43999\",\"n\":\"Gerardo\",\"a\":\"Villar Gutierrez\",\"d\":\"Ingenieria Civil\",\"m\":\"2\",\"c\":\"7.0000\"},{\"i\":\"147436\",\"n\":\"Socrates Carlos\",\"a\":\"Villar Perez\",\"d\":\"Arqueolog\\\\u00eda\",\"m\":\"0\",\"c\":null},{\"i\":\"137442\",\"n\":\"Sergio\",\"a\":\"Villar Torres\",\"d\":\"Ingenieria\",\"m\":\"0\",\"c\":null},{\"i\":\"14498\",\"n\":\"Ver\\\\u00f3nica\",\"a\":\"Villarespe Reyes\",\"d\":\"Economia\",\"m\":\"3\",\"c\":\"4.6667\"},{\"i\":\"149514\",\"n\":\"Pedro Alejandro\",\"a\":\"Villarreal Lizarraga\",\"d\":\"Derecho\",\"m\":\"0\",\"c\":null},{\"i\":\"162556\",\"n\":\"Ing. Andres\",\"a\":\"Villase\\\\u00f1or Paris\",\"d\":\"Ingenieria \",\"m\":\"2\",\"c\":\"10.0000\"},{\"i\":\"26796\",\"n\":\"Adriana\",\"a\":\"Villase\\\\u00f1or Ruiz\",\"d\":\"Econom\\\\u00eda \",\"m\":\"2\",\"c\":\"9.0000\"},{\"i\":\"73297\",\"n\":\"amayrani\",\"a\":\"villegas\",\"d\":\"odontologia\",\"m\":\"0\",\"c\":null},{\"i\":\"120024\",\"n\":\"Victor\",\"a\":\"Villegas Castro\",\"d\":\"Facultad de Ingenieria\",\"m\":\"0\",\"c\":null},{\"i\":\"152751\",\"n\":\"Jorge\",\"a\":\"Villegas Hern\\\\u00e1ndez\",\"d\":\"Econom\\\\u00eda \",\"m\":\"1\",\"c\":\"7.0000\"},{\"i\":\"23208\",\"n\":\"Ma. Isabel (Puerquisabel)\",\"a\":\"VILLEGAS JAVIER\",\"d\":\"INGENIERIA\",\"m\":\"5\",\"c\":\"3.8000\"},{\"i\":\"45073\",\"n\":\"jorge\",\"a\":\"villegas lopez\",\"d\":\"cch vallejo\",\"m\":\"3\",\"c\":\"9.6667\"},{\"i\":\"147162\",\"n\":\"Oscar Alfonso\",\"a\":\"Villegas Paniagua\",\"d\":\"Psicolog\\\\u00eda y psiquiatr\\\\u00eda \",\"m\":\"1\",\"c\":\"10.0000\"},{\"i\":\"135129\",\"n\":\"Maria Alicia\",\"a\":\"Villela G\\\\u00f3nzales\",\"d\":\"Biolog\\\\u00eda evolutiva\",\"m\":\"1\",\"c\":\"8.0000\"},{\"i\":\"120927\",\"n\":\"Trilce Melannie\",\"a\":\"Virgilio Virgilio\",\"d\":\"Odontolog\\\\u00eda\\\\/ Rehabilitaci\\\\u00f3n Funcional y Est\\\\u00e9tica \",\"m\":\"1\",\"c\":\"10.0000\"},{\"i\":\"136881\",\"n\":\"Mar\\\\u00eda del Carmen Enedina\",\"a\":\"Viruega Trejo\",\"d\":\"Escuela Nacional de Lenguas , Ling\\\\u00fcista y Traducci\",\"m\":\"2\",\"c\":\"8.0000\"},{\"i\":\"135093\",\"n\":\"Oscar\",\"a\":\"Vivanco\",\"d\":\"Medicina\\\\/ Bioqu\\\\u00edmica \",\"m\":\"1\",\"c\":\"10.0000\"},{\"i\":\"14539\",\"n\":\"Robert Bruce\",\"a\":\"Wallace Hall\",\"d\":\"Economia\",\"m\":\"2\",\"c\":\"6.0000\"},{\"i\":\"15382\",\"n\":\"ariel\",\"a\":\"waller\",\"d\":\"M\\\\u00fasica\",\"m\":\"5\",\"c\":\"6.4000\"},{\"i\":\"141612\",\"n\":\"Luis Ariel\",\"a\":\"Waller\",\"d\":\"Musica\",\"m\":\"0\",\"c\":null},{\"i\":\"156147\",\"n\":\"Benny\",\"a\":\"Weiss Steider\",\"d\":\"Fes Zaragoza \",\"m\":\"1\",\"c\":\"6.0000\"},{\"i\":\"19155\",\"n\":\"Iona\",\"a\":\"Weissberg\",\"d\":\"Facultad de Filosof\\\\u00eda y Letras\\\\/Lit. Dram\\\\u00e1tica\",\"m\":\"18\",\"c\":\"7.7222\"},{\"i\":\"109282\",\"n\":\"jose gallardo\",\"a\":\"william\",\"d\":\"ciencias\",\"m\":\"1\",\"c\":\"7.0000\"},{\"i\":\"133030\",\"n\":\"Tania\",\"a\":\"Yabel Mayren.\",\"d\":\"Facultad de filosof\\\\u00eda y letras. \",\"m\":\"2\",\"c\":\"10.0000\"},{\"i\":\"158975\",\"n\":\"Oliver\",\"a\":\"Yanh Vissuet\",\"d\":\"Ciencias\",\"m\":\"1\",\"c\":\"10.0000\"},{\"i\":\"68394\",\"n\":\"Luis Carlos\",\"a\":\"Ya\\\\u00f1ez\",\"d\":\"Fes Aragon Derecho\",\"m\":\"3\",\"c\":\"6.6667\"},{\"i\":\"59476\",\"n\":\"Espinosa\",\"a\":\"Y\\\\u00e1\\\\u00f1ez\",\"d\":\"Alejandro\",\"m\":\"0\",\"c\":null},{\"i\":\"114216\",\"n\":\"JESUS\",\"a\":\"YA\\\\u00d1EZ GUTIERREZ\",\"d\":\"Facultad de ingeniera \",\"m\":\"12\",\"c\":\"7.1667\"},{\"i\":\"116208\",\"n\":\"Mar\\\\u00eda de Lourdes\",\"a\":\"Y\\\\u00e1\\\\u00f1ez gutierrez\",\"d\":\"Fcpys\",\"m\":\"0\",\"c\":null},{\"i\":\"161271\",\"n\":\"Horacio Quetzalcoatl\",\"a\":\"Yedra Hernandez\",\"d\":\"Economia\",\"m\":\"1\",\"c\":\"10.0000\"},{\"i\":\"147377\",\"n\":\"GUISELLA\",\"a\":\"Y\\\\u00c9PEZ BALLESTEROS\",\"d\":\"FES ACATLAN\",\"m\":\"0\",\"c\":null},{\"i\":\"137569\",\"n\":\"Ernesto\",\"a\":\"Yescas D\\\\u00edas\",\"d\":\"Veterinaria\",\"m\":\"0\",\"c\":null},{\"i\":\"135822\",\"n\":\"Joseline Ixzel\",\"a\":\"Yreta Rivera\",\"d\":\"FES cuautitlan \",\"m\":\"1\",\"c\":\"10.0000\"},{\"i\":\"15003\",\"n\":\"Irma \",\"a\":\"Zald\\\\u00edvar Mart\\\\u00ednez\",\"d\":\"Psicolog\\\\u00eda\",\"m\":\"10\",\"c\":\"8.2000\"},{\"i\":\"125885\",\"n\":\"JORGE\",\"a\":\"ZAMBRANO SOLIS\",\"d\":\"FACULTAD DE ECONOM\\\\u00cdA\",\"m\":\"9\",\"c\":\"6.8889\"},{\"i\":\"138158\",\"n\":\"Guillermo\",\"a\":\"Zamora Morales\",\"d\":\"Facultad de Derecho CU\",\"m\":\"1\",\"c\":\"10.0000\"},{\"i\":\"105296\",\"n\":\"David\",\"a\":\"Zanicotti Segura\",\"d\":\"SUA FES ARAG\\\\u00d3N \",\"m\":\"6\",\"c\":\"7.8333\"},{\"i\":\"158745\",\"n\":\"Beatriz\",\"a\":\"Zanolli Fabila\",\"d\":\"Derecho \",\"m\":\"0\",\"c\":null},{\"i\":\"129039\",\"n\":\"ALBERTO\",\"a\":\"Zapata Barajas\",\"d\":\"Odontologia\",\"m\":\"0\",\"c\":null},{\"i\":\"154744\",\"n\":\"Miguel\",\"a\":\"Zapata Claveria\",\"d\":\"Facultad de Filosof\\\\u00eda y Letras, Filosof\\\\u00eda (Teor\\\\u00eda \",\"m\":\"1\",\"c\":\"6.0000\"},{\"i\":\"125843\",\"n\":\"ROBERTO\",\"a\":\"ZAPATA PEREZ\",\"d\":\"FFYL\",\"m\":\"0\",\"c\":null},{\"i\":\"115194\",\"n\":\"Rosa ver\\\\u00f3nica\",\"a\":\"Zapata rivera\",\"d\":\"Taller de interpretacion\",\"m\":\"1\",\"c\":\"4.0000\"},{\"i\":\"14499\",\"n\":\"Enrique\",\"a\":\"Zapata Ruiz\",\"d\":\"Economia\",\"m\":\"14\",\"c\":\"3.4286\"},{\"i\":\"74138\",\"n\":\"Jose Enrique\",\"a\":\"Zapata Zepeda\",\"d\":\"FFyL Geograf\\\\u00eda\",\"m\":\"1\",\"c\":\"2.0000\"},{\"i\":\"149113\",\"n\":\"Jorge\",\"a\":\"Zaragoza Badillo\",\"d\":\"Escuela Nacional de Trabajo Social\",\"m\":\"1\",\"c\":\"7.0000\"},{\"i\":\"128409\",\"n\":\"ana lilia\",\"a\":\"zaragoza lazaro\",\"d\":\"derecho\",\"m\":\"2\",\"c\":\"10.0000\"},{\"i\":\"65589\",\"n\":\"Mar\\\\u00eda Luisa\",\"a\":\"Zaragoza L\\\\u00f3pez\",\"d\":\"Facultad de Econom\\\\u00eda\",\"m\":\"1\",\"c\":\"2.0000\"},{\"i\":\"154089\",\"n\":\"Hector\",\"a\":\"Z\\\\u00e1rate\",\"d\":\"Gu\\\\u00f1oa \",\"m\":\"0\",\"c\":null},{\"i\":\"154620\",\"n\":\"jose juan\",\"a\":\"zarate campos\",\"d\":\"nadologia\",\"m\":\"0\",\"c\":null},{\"i\":\"144676\",\"n\":\"Virginia\",\"a\":\"Zarate Sanchez\",\"d\":\"Derecho\",\"m\":\"1\",\"c\":\"10.0000\"},{\"i\":\"141434\",\"n\":\"Ana\",\"a\":\"Zarazua\",\"d\":\"Administraci\\\\u00f3n \",\"m\":\"1\",\"c\":\"8.0000\"},{\"i\":\"73406\",\"n\":\"Jorge\",\"a\":\"Zarza Plata\",\"d\":\"Matematicas\",\"m\":\"5\",\"c\":\"4.2000\"},{\"i\":\"99384\",\"n\":\"Luis Gonzaga\",\"a\":\"Zarzosa Escobedo\",\"d\":\"FES Iztacala\",\"m\":\"1\",\"c\":\"7.0000\"},{\"i\":\"104375\",\"n\":\"Ruth\",\"a\":\"Zavala Hernandez\",\"d\":\"Facultad de Ciencias Politicas y Sociales\",\"m\":\"2\",\"c\":\"9.5000\"},{\"i\":\"161440\",\"n\":\"Lizeth Mariel\",\"a\":\"Zavala Ocampo\",\"d\":\"Facultad de Ciencias \",\"m\":\"0\",\"c\":null},{\"i\":\"51106\",\"n\":\"Irma Roc\\\\u00edo\",\"a\":\"Zavala Sierra\",\"d\":\"Ciencias\",\"m\":\"2\",\"c\":\"7.5000\"},{\"i\":\"104591\",\"n\":\"Juan carlos\",\"a\":\"Zavala velis\",\"d\":\"Arquitectura \",\"m\":\"0\",\"c\":null},{\"i\":\"15770\",\"n\":\"ABEL\",\"a\":\"ZAVALETA\",\"d\":\"CONTADUR\\\\u00cdA\",\"m\":\"5\",\"c\":\"8.4000\"},{\"i\":\"20004\",\"n\":\"Gerardo\",\"a\":\"Zavaleta\",\"d\":\"Rito\",\"m\":\"0\",\"c\":null},{\"i\":\"135811\",\"n\":\"Gustavo\",\"a\":\"Zavaleta\",\"d\":\"Facultad de Econom\\\\u00eda \",\"m\":\"1\",\"c\":\"6.0000\"},{\"i\":\"40869\",\"n\":\"SUAREZ\",\"a\":\"ZAVALETA\",\"d\":\"ELISA\",\"m\":\"2\",\"c\":\"9.0000\"},{\"i\":\"64715\",\"n\":\"Ana Belem\",\"a\":\"Zavaleta Ramos\",\"d\":\"Coordinadora general de depto de Fisica  \",\"m\":\"18\",\"c\":\"4.1111\"},{\"i\":\"20005\",\"n\":\"Gerardo\",\"a\":\"Zavaleta Rito\",\"d\":\"Economia\",\"m\":\"2\",\"c\":\"4.0000\"},{\"i\":\"113208\",\"n\":\"RUTH\",\"a\":\"ZAVALETA SALGADO\",\"d\":\"DERECHO\",\"m\":\"2\",\"c\":\"10.0000\"},{\"i\":\"82190\",\"n\":\"Bertha\",\"a\":\"Zayas Ju\\\\u00e1rez\",\"d\":\"Qu\\\\u00edmica\",\"m\":\"8\",\"c\":\"8.8750\"},{\"i\":\"139472\",\"n\":\"Claudia\",\"a\":\"Zendejas\",\"d\":\"Ciencias\",\"m\":\"0\",\"c\":null},{\"i\":\"16205\",\"n\":\"JUAN HUMBERTO\",\"a\":\"ZENDEJO SANCHEZ\",\"d\":\"QUIMICA I\\\\/IV-MAGA I\\\\/IV\",\"m\":\"9\",\"c\":\"9.5556\"},{\"i\":\"128328\",\"n\":\"M\\\\u00f3nica Eugenia\",\"a\":\"Zen\\\\u00edl Medell\\\\u00edn\",\"d\":\"FCPyS\",\"m\":\"1\",\"c\":\"2.0000\"},{\"i\":\"72849\",\"n\":\"Adrian\",\"a\":\"Zenteno\",\"d\":\"Ciencias\",\"m\":\"2\",\"c\":\"10.0000\"},{\"i\":\"57895\",\"n\":\"Edith\",\"a\":\"Zepeda\",\"d\":\"Prepa 4 UNAM\",\"m\":\"3\",\"c\":\"7.0000\"},{\"i\":\"156870\",\"n\":\"Adri\\\\u00e1n\",\"a\":\"Zepeda\",\"d\":\"Facultad de Ingenier\\\\u00eda \",\"m\":\"0\",\"c\":null},{\"i\":\"135839\",\"n\":\"Guillermo C\\\\u00e9sar An\\\\u00edbal\",\"a\":\"Zepeda P\\\\u00e9rez\",\"d\":\"Facultad de Ciencias\",\"m\":\"1\",\"c\":\"7.0000\"},{\"i\":\"124227\",\"n\":\"Ulises\",\"a\":\"Zepeda Perez\",\"d\":\"Facultad de Arquitectura\",\"m\":\"1\",\"c\":\"7.0000\"},{\"i\":\"163460\",\"n\":\"josue\",\"a\":\"zepeta\",\"d\":\"carrera de medicina fes zaragoza\",\"m\":\"1\",\"c\":\"9.0000\"},{\"i\":\"104612\",\"n\":\"Gabriela\",\"a\":\"Zepeta  Mejia\",\"d\":\"Contadur\\\\u00eda y administraci\\\\u00f3n\",\"m\":\"0\",\"c\":null},{\"i\":\"107663\",\"n\":\"Sergio Eduardo\",\"a\":\"Zerecero Galicia\",\"d\":\"Ciencias Sociales y Humanidades\",\"m\":\"6\",\"c\":\"3.5000\"},{\"i\":\"11262\",\"n\":\"Felipe\",\"a\":\"Zerme\\\\u00f1o L\\\\u00f3pez\",\"d\":\"Econom\\\\u00eda\",\"m\":\"13\",\"c\":\"9.1538\"},{\"i\":\"140771\",\"n\":\"elena\",\"a\":\"Zigaib achcar\",\"d\":\"CIENCIAS SOCIALES\",\"m\":\"0\",\"c\":null},{\"i\":\"89830\",\"n\":\"olivares\",\"a\":\"Zorrilla\",\"d\":\"facultad de filosof\\\\u00eda y letras de la unam\",\"m\":\"0\",\"c\":null},{\"i\":\"126067\",\"n\":\"Rita Esther\",\"a\":\"Zuazua Vega\",\"d\":\"Ciencias\",\"m\":\"0\",\"c\":null},{\"i\":\"140386\",\"n\":\"Mariano\",\"a\":\"Zubieta Ruiz\",\"d\":\"Ciencias pol\\\\u00edticas\",\"m\":\"1\",\"c\":\"8.0000\"},{\"i\":\"51903\",\"n\":\"Virgilio\",\"a\":\"Zuleta Contreras\",\"d\":\"Facultad de Economia \\\\/UNAM\",\"m\":\"26\",\"c\":\"6.3462\"},{\"i\":\"157436\",\"n\":\"Socorro\",\"a\":\"Zu\\\\u00f1iga\",\"d\":\"Acatlan\",\"m\":\"0\",\"c\":null},{\"i\":\"155482\",\"n\":\"Nancy\",\"a\":\"Zu\\\\u00f1iga Acevedo\",\"d\":\"Pedagog\\\\u00eda \",\"m\":\"0\",\"c\":null},{\"i\":\"162356\",\"n\":\"Hugo\",\"a\":\"Z\\\\u00fa\\\\u00f1iga Barrag\\\\u00e1n\",\"d\":\"Facultad de ingenier\\\\u00eda \",\"m\":\"0\",\"c\":null},{\"i\":\"102627\",\"n\":\"Sergio\",\"a\":\"Z\\\\u00fa\\\\u00f1iga Barrera\",\"d\":\"Ingenier\\\\u00eda \",\"m\":\"3\",\"c\":\"2.0000\"},{\"i\":\"157238\",\"n\":\"Juana Silvia\",\"a\":\"Z\\\\u00fa\\\\u00f1iga Fonseca\",\"d\":\"Contadur\\\\u00eda y administraci\\\\u00f3n \",\"m\":\"0\",\"c\":null},{\"i\":\"150027\",\"n\":\"adriana\",\"a\":\"z\\\\u00fa\\\\u00f1iga p\\\\u00e9rez\",\"d\":\"fes acatl\\\\u00e1n franc\\\\u00e9s\",\"m\":\"1\",\"c\":\"3.0000\"},{\"i\":\"124905\",\"n\":\"Salvador\",\"a\":\"Z\\\\u00fa\\\\u00f1iga Prado\",\"d\":\"Latin \",\"m\":\"0\",\"c\":null},{\"i\":\"162893\",\"n\":\"Maura\",\"a\":\"Zu\\\\u00f1iga Rodriguez\",\"d\":\"Iztacala \",\"m\":\"1\",\"c\":\"10.0000\"},{\"i\":\"11263\",\"n\":\"Jaime\",\"a\":\"Zurita Campos\",\"d\":\"Econom\\\\u00eda\",\"m\":\"10\",\"c\":\"8.1000\"}]'"
            ]
          },
          "execution_count": 40,
          "metadata": {},
          "output_type": "execute_result"
        }
      ],
      "source": [
        "profesores"
      ]
    },
    {
      "cell_type": "code",
      "execution_count": null,
      "metadata": {
        "id": "ygLPj_H0IZpQ"
      },
      "outputs": [],
      "source": [
        "profesores = json.loads(profesores)"
      ]
    },
    {
      "cell_type": "code",
      "execution_count": null,
      "metadata": {
        "id": "Ffz34HQDJ8Rv"
      },
      "outputs": [],
      "source": [
        "profesores = pd.DataFrame(profesores)"
      ]
    },
    {
      "cell_type": "code",
      "execution_count": null,
      "metadata": {
        "colab": {
          "base_uri": "https://localhost:8080/",
          "height": 423
        },
        "id": "CnaCiID1KInk",
        "outputId": "6ef573d4-9167-4319-8639-976b5899e037"
      },
      "outputs": [
        {
          "data": {
            "text/html": [
              "\n",
              "  <div id=\"df-1af78229-df71-4f43-b0ae-a6fc44e594ab\">\n",
              "    <div class=\"colab-df-container\">\n",
              "      <div>\n",
              "<style scoped>\n",
              "    .dataframe tbody tr th:only-of-type {\n",
              "        vertical-align: middle;\n",
              "    }\n",
              "\n",
              "    .dataframe tbody tr th {\n",
              "        vertical-align: top;\n",
              "    }\n",
              "\n",
              "    .dataframe thead th {\n",
              "        text-align: right;\n",
              "    }\n",
              "</style>\n",
              "<table border=\"1\" class=\"dataframe\">\n",
              "  <thead>\n",
              "    <tr style=\"text-align: right;\">\n",
              "      <th></th>\n",
              "      <th>i</th>\n",
              "      <th>n</th>\n",
              "      <th>a</th>\n",
              "      <th>d</th>\n",
              "      <th>m</th>\n",
              "      <th>c</th>\n",
              "    </tr>\n",
              "  </thead>\n",
              "  <tbody>\n",
              "    <tr>\n",
              "      <th>0</th>\n",
              "      <td>17997</td>\n",
              "      <td>SERGIO</td>\n",
              "      <td>\\tCAMACHO MENDOZA</td>\n",
              "      <td>GESTION D RECURSOS GUBERNAM.</td>\n",
              "      <td>7</td>\n",
              "      <td>7.7143</td>\n",
              "    </tr>\n",
              "    <tr>\n",
              "      <th>1</th>\n",
              "      <td>75638</td>\n",
              "      <td>rafael</td>\n",
              "      <td></td>\n",
              "      <td></td>\n",
              "      <td>0</td>\n",
              "      <td>None</td>\n",
              "    </tr>\n",
              "    <tr>\n",
              "      <th>2</th>\n",
              "      <td>15960</td>\n",
              "      <td>Sosa Manzur</td>\n",
              "      <td>Aalvar</td>\n",
              "      <td>fcpys</td>\n",
              "      <td>8</td>\n",
              "      <td>9.0000</td>\n",
              "    </tr>\n",
              "    <tr>\n",
              "      <th>3</th>\n",
              "      <td>15959</td>\n",
              "      <td>Sosa Manzur</td>\n",
              "      <td>Aalvar</td>\n",
              "      <td>filosofía y teoría política</td>\n",
              "      <td>7</td>\n",
              "      <td>6.4286</td>\n",
              "    </tr>\n",
              "    <tr>\n",
              "      <th>4</th>\n",
              "      <td>142833</td>\n",
              "      <td>Oscar</td>\n",
              "      <td>Abad</td>\n",
              "      <td>Fin</td>\n",
              "      <td>0</td>\n",
              "      <td>None</td>\n",
              "    </tr>\n",
              "    <tr>\n",
              "      <th>...</th>\n",
              "      <td>...</td>\n",
              "      <td>...</td>\n",
              "      <td>...</td>\n",
              "      <td>...</td>\n",
              "      <td>...</td>\n",
              "      <td>...</td>\n",
              "    </tr>\n",
              "    <tr>\n",
              "      <th>3660</th>\n",
              "      <td>157238</td>\n",
              "      <td>Juana Silvia</td>\n",
              "      <td>Zúñiga Fonseca</td>\n",
              "      <td>Contaduría y administración</td>\n",
              "      <td>0</td>\n",
              "      <td>None</td>\n",
              "    </tr>\n",
              "    <tr>\n",
              "      <th>3661</th>\n",
              "      <td>150027</td>\n",
              "      <td>adriana</td>\n",
              "      <td>zúñiga pérez</td>\n",
              "      <td>fes acatlán francés</td>\n",
              "      <td>1</td>\n",
              "      <td>3.0000</td>\n",
              "    </tr>\n",
              "    <tr>\n",
              "      <th>3662</th>\n",
              "      <td>124905</td>\n",
              "      <td>Salvador</td>\n",
              "      <td>Zúñiga Prado</td>\n",
              "      <td>Latin</td>\n",
              "      <td>0</td>\n",
              "      <td>None</td>\n",
              "    </tr>\n",
              "    <tr>\n",
              "      <th>3663</th>\n",
              "      <td>162893</td>\n",
              "      <td>Maura</td>\n",
              "      <td>Zuñiga Rodriguez</td>\n",
              "      <td>Iztacala</td>\n",
              "      <td>1</td>\n",
              "      <td>10.0000</td>\n",
              "    </tr>\n",
              "    <tr>\n",
              "      <th>3664</th>\n",
              "      <td>11263</td>\n",
              "      <td>Jaime</td>\n",
              "      <td>Zurita Campos</td>\n",
              "      <td>Economía</td>\n",
              "      <td>10</td>\n",
              "      <td>8.1000</td>\n",
              "    </tr>\n",
              "  </tbody>\n",
              "</table>\n",
              "<p>3665 rows × 6 columns</p>\n",
              "</div>\n",
              "      <button class=\"colab-df-convert\" onclick=\"convertToInteractive('df-1af78229-df71-4f43-b0ae-a6fc44e594ab')\"\n",
              "              title=\"Convert this dataframe to an interactive table.\"\n",
              "              style=\"display:none;\">\n",
              "        \n",
              "  <svg xmlns=\"http://www.w3.org/2000/svg\" height=\"24px\"viewBox=\"0 0 24 24\"\n",
              "       width=\"24px\">\n",
              "    <path d=\"M0 0h24v24H0V0z\" fill=\"none\"/>\n",
              "    <path d=\"M18.56 5.44l.94 2.06.94-2.06 2.06-.94-2.06-.94-.94-2.06-.94 2.06-2.06.94zm-11 1L8.5 8.5l.94-2.06 2.06-.94-2.06-.94L8.5 2.5l-.94 2.06-2.06.94zm10 10l.94 2.06.94-2.06 2.06-.94-2.06-.94-.94-2.06-.94 2.06-2.06.94z\"/><path d=\"M17.41 7.96l-1.37-1.37c-.4-.4-.92-.59-1.43-.59-.52 0-1.04.2-1.43.59L10.3 9.45l-7.72 7.72c-.78.78-.78 2.05 0 2.83L4 21.41c.39.39.9.59 1.41.59.51 0 1.02-.2 1.41-.59l7.78-7.78 2.81-2.81c.8-.78.8-2.07 0-2.86zM5.41 20L4 18.59l7.72-7.72 1.47 1.35L5.41 20z\"/>\n",
              "  </svg>\n",
              "      </button>\n",
              "      \n",
              "  <style>\n",
              "    .colab-df-container {\n",
              "      display:flex;\n",
              "      flex-wrap:wrap;\n",
              "      gap: 12px;\n",
              "    }\n",
              "\n",
              "    .colab-df-convert {\n",
              "      background-color: #E8F0FE;\n",
              "      border: none;\n",
              "      border-radius: 50%;\n",
              "      cursor: pointer;\n",
              "      display: none;\n",
              "      fill: #1967D2;\n",
              "      height: 32px;\n",
              "      padding: 0 0 0 0;\n",
              "      width: 32px;\n",
              "    }\n",
              "\n",
              "    .colab-df-convert:hover {\n",
              "      background-color: #E2EBFA;\n",
              "      box-shadow: 0px 1px 2px rgba(60, 64, 67, 0.3), 0px 1px 3px 1px rgba(60, 64, 67, 0.15);\n",
              "      fill: #174EA6;\n",
              "    }\n",
              "\n",
              "    [theme=dark] .colab-df-convert {\n",
              "      background-color: #3B4455;\n",
              "      fill: #D2E3FC;\n",
              "    }\n",
              "\n",
              "    [theme=dark] .colab-df-convert:hover {\n",
              "      background-color: #434B5C;\n",
              "      box-shadow: 0px 1px 3px 1px rgba(0, 0, 0, 0.15);\n",
              "      filter: drop-shadow(0px 1px 2px rgba(0, 0, 0, 0.3));\n",
              "      fill: #FFFFFF;\n",
              "    }\n",
              "  </style>\n",
              "\n",
              "      <script>\n",
              "        const buttonEl =\n",
              "          document.querySelector('#df-1af78229-df71-4f43-b0ae-a6fc44e594ab button.colab-df-convert');\n",
              "        buttonEl.style.display =\n",
              "          google.colab.kernel.accessAllowed ? 'block' : 'none';\n",
              "\n",
              "        async function convertToInteractive(key) {\n",
              "          const element = document.querySelector('#df-1af78229-df71-4f43-b0ae-a6fc44e594ab');\n",
              "          const dataTable =\n",
              "            await google.colab.kernel.invokeFunction('convertToInteractive',\n",
              "                                                     [key], {});\n",
              "          if (!dataTable) return;\n",
              "\n",
              "          const docLinkHtml = 'Like what you see? Visit the ' +\n",
              "            '<a target=\"_blank\" href=https://colab.research.google.com/notebooks/data_table.ipynb>data table notebook</a>'\n",
              "            + ' to learn more about interactive tables.';\n",
              "          element.innerHTML = '';\n",
              "          dataTable['output_type'] = 'display_data';\n",
              "          await google.colab.output.renderOutput(dataTable, element);\n",
              "          const docLink = document.createElement('div');\n",
              "          docLink.innerHTML = docLinkHtml;\n",
              "          element.appendChild(docLink);\n",
              "        }\n",
              "      </script>\n",
              "    </div>\n",
              "  </div>\n",
              "  "
            ],
            "text/plain": [
              "           i             n                   a                             d  \\\n",
              "0      17997        SERGIO  \\tCAMACHO MENDOZA   GESTION D RECURSOS GUBERNAM.   \n",
              "1      75638        rafael                                                     \n",
              "2      15960   Sosa Manzur              Aalvar                         fcpys   \n",
              "3      15959   Sosa Manzur              Aalvar   filosofía y teoría política   \n",
              "4     142833         Oscar                Abad                           Fin   \n",
              "...      ...           ...                 ...                           ...   \n",
              "3660  157238  Juana Silvia      Zúñiga Fonseca  Contaduría y administración    \n",
              "3661  150027       adriana        zúñiga pérez           fes acatlán francés   \n",
              "3662  124905      Salvador        Zúñiga Prado                        Latin    \n",
              "3663  162893         Maura    Zuñiga Rodriguez                     Iztacala    \n",
              "3664   11263         Jaime       Zurita Campos                      Economía   \n",
              "\n",
              "       m        c  \n",
              "0      7   7.7143  \n",
              "1      0     None  \n",
              "2      8   9.0000  \n",
              "3      7   6.4286  \n",
              "4      0     None  \n",
              "...   ..      ...  \n",
              "3660   0     None  \n",
              "3661   1   3.0000  \n",
              "3662   0     None  \n",
              "3663   1  10.0000  \n",
              "3664  10   8.1000  \n",
              "\n",
              "[3665 rows x 6 columns]"
            ]
          },
          "execution_count": 45,
          "metadata": {},
          "output_type": "execute_result"
        }
      ],
      "source": [
        "profesores"
      ]
    },
    {
      "cell_type": "markdown",
      "metadata": {
        "id": "NNyo2V6HKqmJ"
      },
      "source": [
        "Ahora hay que crear los urls como muestra el programador de la pagina.\n",
        "- Pero antes sera bueno eliminar las entradas que no sirven, es decir, las que no tienen calificacion o comentarios"
      ]
    },
    {
      "cell_type": "code",
      "execution_count": null,
      "metadata": {
        "colab": {
          "base_uri": "https://localhost:8080/"
        },
        "id": "JwqmOTC7KKMm",
        "outputId": "b16528a3-faec-4318-a9a8-15aca4338e74"
      },
      "outputs": [
        {
          "data": {
            "text/plain": [
              "i    object\n",
              "n    object\n",
              "a    object\n",
              "d    object\n",
              "m    object\n",
              "c    object\n",
              "dtype: object"
            ]
          },
          "execution_count": 46,
          "metadata": {},
          "output_type": "execute_result"
        }
      ],
      "source": [
        "profesores.dtypes"
      ]
    },
    {
      "cell_type": "code",
      "execution_count": null,
      "metadata": {
        "id": "MBHPTHL_LNbP"
      },
      "outputs": [],
      "source": [
        "profesores['m'] = profesores['m'].astype(int)"
      ]
    },
    {
      "cell_type": "code",
      "execution_count": null,
      "metadata": {
        "id": "Q1ziLufEK4Q2"
      },
      "outputs": [],
      "source": [
        "profesores = profesores.drop(profesores.loc[profesores['m']==0].index)"
      ]
    },
    {
      "cell_type": "code",
      "execution_count": null,
      "metadata": {
        "colab": {
          "base_uri": "https://localhost:8080/",
          "height": 423
        },
        "id": "KdNGz8AdLmOs",
        "outputId": "a6067ed5-09af-49a4-d037-8dafe2dcfd91"
      },
      "outputs": [
        {
          "data": {
            "text/html": [
              "\n",
              "  <div id=\"df-37c81cf6-5075-475b-8345-2a4ac00d2368\">\n",
              "    <div class=\"colab-df-container\">\n",
              "      <div>\n",
              "<style scoped>\n",
              "    .dataframe tbody tr th:only-of-type {\n",
              "        vertical-align: middle;\n",
              "    }\n",
              "\n",
              "    .dataframe tbody tr th {\n",
              "        vertical-align: top;\n",
              "    }\n",
              "\n",
              "    .dataframe thead th {\n",
              "        text-align: right;\n",
              "    }\n",
              "</style>\n",
              "<table border=\"1\" class=\"dataframe\">\n",
              "  <thead>\n",
              "    <tr style=\"text-align: right;\">\n",
              "      <th></th>\n",
              "      <th>i</th>\n",
              "      <th>n</th>\n",
              "      <th>a</th>\n",
              "      <th>d</th>\n",
              "      <th>m</th>\n",
              "      <th>c</th>\n",
              "    </tr>\n",
              "  </thead>\n",
              "  <tbody>\n",
              "    <tr>\n",
              "      <th>0</th>\n",
              "      <td>17997</td>\n",
              "      <td>SERGIO</td>\n",
              "      <td>\\tCAMACHO MENDOZA</td>\n",
              "      <td>GESTION D RECURSOS GUBERNAM.</td>\n",
              "      <td>7</td>\n",
              "      <td>7.7143</td>\n",
              "    </tr>\n",
              "    <tr>\n",
              "      <th>2</th>\n",
              "      <td>15960</td>\n",
              "      <td>Sosa Manzur</td>\n",
              "      <td>Aalvar</td>\n",
              "      <td>fcpys</td>\n",
              "      <td>8</td>\n",
              "      <td>9.0000</td>\n",
              "    </tr>\n",
              "    <tr>\n",
              "      <th>3</th>\n",
              "      <td>15959</td>\n",
              "      <td>Sosa Manzur</td>\n",
              "      <td>Aalvar</td>\n",
              "      <td>filosofía y teoría política</td>\n",
              "      <td>7</td>\n",
              "      <td>6.4286</td>\n",
              "    </tr>\n",
              "    <tr>\n",
              "      <th>5</th>\n",
              "      <td>105400</td>\n",
              "      <td>Mario</td>\n",
              "      <td>Abad Schoster</td>\n",
              "      <td>FES Aragón</td>\n",
              "      <td>1</td>\n",
              "      <td>10.0000</td>\n",
              "    </tr>\n",
              "    <tr>\n",
              "      <th>6</th>\n",
              "      <td>110982</td>\n",
              "      <td>Paulina</td>\n",
              "      <td>Abarca Juarez</td>\n",
              "      <td>Ciencias</td>\n",
              "      <td>4</td>\n",
              "      <td>5.0000</td>\n",
              "    </tr>\n",
              "    <tr>\n",
              "      <th>...</th>\n",
              "      <td>...</td>\n",
              "      <td>...</td>\n",
              "      <td>...</td>\n",
              "      <td>...</td>\n",
              "      <td>...</td>\n",
              "      <td>...</td>\n",
              "    </tr>\n",
              "    <tr>\n",
              "      <th>3655</th>\n",
              "      <td>51903</td>\n",
              "      <td>Virgilio</td>\n",
              "      <td>Zuleta Contreras</td>\n",
              "      <td>Facultad de Economia /UNAM</td>\n",
              "      <td>26</td>\n",
              "      <td>6.3462</td>\n",
              "    </tr>\n",
              "    <tr>\n",
              "      <th>3659</th>\n",
              "      <td>102627</td>\n",
              "      <td>Sergio</td>\n",
              "      <td>Zúñiga Barrera</td>\n",
              "      <td>Ingeniería</td>\n",
              "      <td>3</td>\n",
              "      <td>2.0000</td>\n",
              "    </tr>\n",
              "    <tr>\n",
              "      <th>3661</th>\n",
              "      <td>150027</td>\n",
              "      <td>adriana</td>\n",
              "      <td>zúñiga pérez</td>\n",
              "      <td>fes acatlán francés</td>\n",
              "      <td>1</td>\n",
              "      <td>3.0000</td>\n",
              "    </tr>\n",
              "    <tr>\n",
              "      <th>3663</th>\n",
              "      <td>162893</td>\n",
              "      <td>Maura</td>\n",
              "      <td>Zuñiga Rodriguez</td>\n",
              "      <td>Iztacala</td>\n",
              "      <td>1</td>\n",
              "      <td>10.0000</td>\n",
              "    </tr>\n",
              "    <tr>\n",
              "      <th>3664</th>\n",
              "      <td>11263</td>\n",
              "      <td>Jaime</td>\n",
              "      <td>Zurita Campos</td>\n",
              "      <td>Economía</td>\n",
              "      <td>10</td>\n",
              "      <td>8.1000</td>\n",
              "    </tr>\n",
              "  </tbody>\n",
              "</table>\n",
              "<p>2333 rows × 6 columns</p>\n",
              "</div>\n",
              "      <button class=\"colab-df-convert\" onclick=\"convertToInteractive('df-37c81cf6-5075-475b-8345-2a4ac00d2368')\"\n",
              "              title=\"Convert this dataframe to an interactive table.\"\n",
              "              style=\"display:none;\">\n",
              "        \n",
              "  <svg xmlns=\"http://www.w3.org/2000/svg\" height=\"24px\"viewBox=\"0 0 24 24\"\n",
              "       width=\"24px\">\n",
              "    <path d=\"M0 0h24v24H0V0z\" fill=\"none\"/>\n",
              "    <path d=\"M18.56 5.44l.94 2.06.94-2.06 2.06-.94-2.06-.94-.94-2.06-.94 2.06-2.06.94zm-11 1L8.5 8.5l.94-2.06 2.06-.94-2.06-.94L8.5 2.5l-.94 2.06-2.06.94zm10 10l.94 2.06.94-2.06 2.06-.94-2.06-.94-.94-2.06-.94 2.06-2.06.94z\"/><path d=\"M17.41 7.96l-1.37-1.37c-.4-.4-.92-.59-1.43-.59-.52 0-1.04.2-1.43.59L10.3 9.45l-7.72 7.72c-.78.78-.78 2.05 0 2.83L4 21.41c.39.39.9.59 1.41.59.51 0 1.02-.2 1.41-.59l7.78-7.78 2.81-2.81c.8-.78.8-2.07 0-2.86zM5.41 20L4 18.59l7.72-7.72 1.47 1.35L5.41 20z\"/>\n",
              "  </svg>\n",
              "      </button>\n",
              "      \n",
              "  <style>\n",
              "    .colab-df-container {\n",
              "      display:flex;\n",
              "      flex-wrap:wrap;\n",
              "      gap: 12px;\n",
              "    }\n",
              "\n",
              "    .colab-df-convert {\n",
              "      background-color: #E8F0FE;\n",
              "      border: none;\n",
              "      border-radius: 50%;\n",
              "      cursor: pointer;\n",
              "      display: none;\n",
              "      fill: #1967D2;\n",
              "      height: 32px;\n",
              "      padding: 0 0 0 0;\n",
              "      width: 32px;\n",
              "    }\n",
              "\n",
              "    .colab-df-convert:hover {\n",
              "      background-color: #E2EBFA;\n",
              "      box-shadow: 0px 1px 2px rgba(60, 64, 67, 0.3), 0px 1px 3px 1px rgba(60, 64, 67, 0.15);\n",
              "      fill: #174EA6;\n",
              "    }\n",
              "\n",
              "    [theme=dark] .colab-df-convert {\n",
              "      background-color: #3B4455;\n",
              "      fill: #D2E3FC;\n",
              "    }\n",
              "\n",
              "    [theme=dark] .colab-df-convert:hover {\n",
              "      background-color: #434B5C;\n",
              "      box-shadow: 0px 1px 3px 1px rgba(0, 0, 0, 0.15);\n",
              "      filter: drop-shadow(0px 1px 2px rgba(0, 0, 0, 0.3));\n",
              "      fill: #FFFFFF;\n",
              "    }\n",
              "  </style>\n",
              "\n",
              "      <script>\n",
              "        const buttonEl =\n",
              "          document.querySelector('#df-37c81cf6-5075-475b-8345-2a4ac00d2368 button.colab-df-convert');\n",
              "        buttonEl.style.display =\n",
              "          google.colab.kernel.accessAllowed ? 'block' : 'none';\n",
              "\n",
              "        async function convertToInteractive(key) {\n",
              "          const element = document.querySelector('#df-37c81cf6-5075-475b-8345-2a4ac00d2368');\n",
              "          const dataTable =\n",
              "            await google.colab.kernel.invokeFunction('convertToInteractive',\n",
              "                                                     [key], {});\n",
              "          if (!dataTable) return;\n",
              "\n",
              "          const docLinkHtml = 'Like what you see? Visit the ' +\n",
              "            '<a target=\"_blank\" href=https://colab.research.google.com/notebooks/data_table.ipynb>data table notebook</a>'\n",
              "            + ' to learn more about interactive tables.';\n",
              "          element.innerHTML = '';\n",
              "          dataTable['output_type'] = 'display_data';\n",
              "          await google.colab.output.renderOutput(dataTable, element);\n",
              "          const docLink = document.createElement('div');\n",
              "          docLink.innerHTML = docLinkHtml;\n",
              "          element.appendChild(docLink);\n",
              "        }\n",
              "      </script>\n",
              "    </div>\n",
              "  </div>\n",
              "  "
            ],
            "text/plain": [
              "           i            n                   a                             d  \\\n",
              "0      17997       SERGIO  \\tCAMACHO MENDOZA   GESTION D RECURSOS GUBERNAM.   \n",
              "2      15960  Sosa Manzur              Aalvar                         fcpys   \n",
              "3      15959  Sosa Manzur              Aalvar   filosofía y teoría política   \n",
              "5     105400        Mario       Abad Schoster                    FES Aragón   \n",
              "6     110982      Paulina       Abarca Juarez                      Ciencias   \n",
              "...      ...          ...                 ...                           ...   \n",
              "3655   51903     Virgilio    Zuleta Contreras    Facultad de Economia /UNAM   \n",
              "3659  102627       Sergio      Zúñiga Barrera                   Ingeniería    \n",
              "3661  150027      adriana        zúñiga pérez           fes acatlán francés   \n",
              "3663  162893        Maura    Zuñiga Rodriguez                     Iztacala    \n",
              "3664   11263        Jaime       Zurita Campos                      Economía   \n",
              "\n",
              "       m        c  \n",
              "0      7   7.7143  \n",
              "2      8   9.0000  \n",
              "3      7   6.4286  \n",
              "5      1  10.0000  \n",
              "6      4   5.0000  \n",
              "...   ..      ...  \n",
              "3655  26   6.3462  \n",
              "3659   3   2.0000  \n",
              "3661   1   3.0000  \n",
              "3663   1  10.0000  \n",
              "3664  10   8.1000  \n",
              "\n",
              "[2333 rows x 6 columns]"
            ]
          },
          "execution_count": 49,
          "metadata": {},
          "output_type": "execute_result"
        }
      ],
      "source": [
        "profesores"
      ]
    },
    {
      "cell_type": "markdown",
      "metadata": {
        "id": "dCY-a7aNLsV6"
      },
      "source": [
        "Es notable como se repiten los nombres de muchos profesores. Esto se puede deber a que se crearon entradas diferentes segun la materia que impartia en su momento"
      ]
    },
    {
      "cell_type": "markdown",
      "source": [
        "### Obtener urls de cada profesor"
      ],
      "metadata": {
        "id": "J4QRqggqtodV"
      }
    },
    {
      "cell_type": "code",
      "execution_count": null,
      "metadata": {
        "id": "e4atxKtBLnSL"
      },
      "outputs": [],
      "source": [
        "# Crear urls\n",
        "def fix_url(nombre):\n",
        "    nombre = nombre.strip()\n",
        "    nombre = replace_latin_chars(nombre)\n",
        "    nombre = re.sub(r'[^a-zA-Z0-9\\s]', '', nombre)\n",
        "    nombre = nombre.replace(\"(\", \"\")\n",
        "    nombre = nombre.replace(\")\", \"\")\n",
        "    nombre = nombre.replace(\" -\", \"-\")\n",
        "    nombre = nombre.replace(\"- \", \"-\")\n",
        "    nombre = nombre.replace(\"\\n\", \"\")\n",
        "    nombre = nombre.replace(\"\\r\", \"\")\n",
        "    nombre = nombre.replace(\"  \", \" \")\n",
        "    nombre = nombre.replace(\"\\\\\", \"\")\n",
        "    nombre = nombre.replace(\" \", \"-\")\n",
        "    return nombre\n",
        "\n"
      ]
    },
    {
      "cell_type": "code",
      "execution_count": null,
      "metadata": {
        "id": "6QXPrRGnMggg"
      },
      "outputs": [],
      "source": [
        "import re\n",
        "\n",
        "def replace_latin_chars(s):\n",
        "    translate_re = re.compile(r'[ÁÉÍÓÚÑÜáéíóúñü]')\n",
        "    translate = {\n",
        "        \"Á\": \"A\", \"É\": \"E\", \"Í\": \"I\", \"Ó\": \"O\", \"Ú\": \"U\", \"Ñ\": \"N\", \"Ü\": \"U\",\n",
        "        \"á\": \"a\", \"é\": \"e\", \"í\": \"i\", \"ó\": \"o\", \"ú\": \"u\", \"ñ\": \"n\", \"ü\": \"u\"\n",
        "    }\n",
        "    return translate_re.sub(lambda match: translate[match.group(0)], s)\n"
      ]
    },
    {
      "cell_type": "code",
      "execution_count": null,
      "metadata": {
        "id": "IVE3VumRMhl-"
      },
      "outputs": [],
      "source": [
        "def profesor_url(nombre, apellido, id):\n",
        "  base = 'https://www.misprofesores.com/profesores/'\n",
        "  nombre = fix_url(nombre);\n",
        "  apellido = fix_url(apellido);\n",
        "  return base+nombre+\"-\"+apellido+\"_\"+id;"
      ]
    },
    {
      "cell_type": "code",
      "execution_count": null,
      "metadata": {
        "id": "111xtLjlMl9h"
      },
      "outputs": [],
      "source": [
        "url_profesores = []\n",
        "for i in range(0, len(profesores)):\n",
        "  url_profesores.append(profesor_url(profesores.iloc[i]['n'], profesores.iloc[i]['a'], profesores.iloc[i]['i']))"
      ]
    },
    {
      "cell_type": "code",
      "execution_count": null,
      "metadata": {
        "id": "fFZs0Qy_MtEZ"
      },
      "outputs": [],
      "source": [
        "profesores['url_profesor'] = url_profesores"
      ]
    },
    {
      "cell_type": "code",
      "execution_count": null,
      "metadata": {
        "id": "_KV_8PF4OYOK"
      },
      "outputs": [],
      "source": [
        "profesores"
      ]
    },
    {
      "cell_type": "code",
      "execution_count": null,
      "metadata": {
        "id": "wo_laaD6OsEz"
      },
      "outputs": [],
      "source": [
        "profesores.to_csv('unam_profesores.csv', index=False)"
      ]
    },
    {
      "cell_type": "code",
      "execution_count": null,
      "metadata": {
        "id": "odzlXL8lO959"
      },
      "outputs": [],
      "source": [
        "# Recibe la url de una universidad y devuelve una tabla con los profesores y sus URLs\n",
        "def get_profesores(url):\n",
        "  response = requests.get(url)\n",
        "\n",
        "  if response.status_code == 200:\n",
        "    soup = BeautifulSoup(response.content, 'html.parser')\n",
        "\n",
        "    soup = soup.find_all('script', {'type':'text/javascript'})[3]\n",
        "    soup = str(soup).split('dataSet')[1]\n",
        "    soup = soup.split('=')[1]\n",
        "    temp = soup\n",
        "    soup = soup.split(';\\n$')[0]\n",
        "    profesores = json.loads(soup)\n",
        "    profesores = pd.DataFrame(profesores)\n",
        "\n",
        "    profesores['m'] = profesores['m'].astype(int)\n",
        "    profesores = profesores.drop(profesores.loc[profesores['m']==0].index)\n",
        "\n",
        "    url_profesores = []\n",
        "    for i in range(0, len(profesores)):\n",
        "      url_profesores.append(profesor_url(profesores.iloc[i]['n'], profesores.iloc[i]['a'], profesores.iloc[i]['i']))\n",
        "    profesores['url_profesor'] = url_profesores\n",
        "  return profesores"
      ]
    },
    {
      "cell_type": "code",
      "execution_count": null,
      "metadata": {
        "id": "gWZv7nCqP6Tm"
      },
      "outputs": [],
      "source": [
        "fc_unam_profes = get_profesores('https://www.misprofesores.com/escuelas/Facultad-de-Ciencias-UNAM_2842')\n",
        "# Funciona bien"
      ]
    },
    {
      "cell_type": "code",
      "execution_count": null,
      "metadata": {
        "colab": {
          "base_uri": "https://localhost:8080/",
          "height": 206
        },
        "id": "ONsAIOPbHAum",
        "outputId": "0ab27ff6-8f85-49ee-87f1-6a7637d48ed1"
      },
      "outputs": [
        {
          "data": {
            "text/html": [
              "\n",
              "  <div id=\"df-b5a8caa5-d85a-48c8-be20-f3096af0e727\">\n",
              "    <div class=\"colab-df-container\">\n",
              "      <div>\n",
              "<style scoped>\n",
              "    .dataframe tbody tr th:only-of-type {\n",
              "        vertical-align: middle;\n",
              "    }\n",
              "\n",
              "    .dataframe tbody tr th {\n",
              "        vertical-align: top;\n",
              "    }\n",
              "\n",
              "    .dataframe thead th {\n",
              "        text-align: right;\n",
              "    }\n",
              "</style>\n",
              "<table border=\"1\" class=\"dataframe\">\n",
              "  <thead>\n",
              "    <tr style=\"text-align: right;\">\n",
              "      <th></th>\n",
              "      <th>i</th>\n",
              "      <th>n</th>\n",
              "      <th>a</th>\n",
              "      <th>d</th>\n",
              "      <th>m</th>\n",
              "      <th>c</th>\n",
              "      <th>url_profesor</th>\n",
              "    </tr>\n",
              "  </thead>\n",
              "  <tbody>\n",
              "    <tr>\n",
              "      <th>0</th>\n",
              "      <td>151566</td>\n",
              "      <td></td>\n",
              "      <td></td>\n",
              "      <td></td>\n",
              "      <td>1</td>\n",
              "      <td>2.0000</td>\n",
              "      <td>https://www.misprofesores.com/profesores/-_151566</td>\n",
              "    </tr>\n",
              "    <tr>\n",
              "      <th>1</th>\n",
              "      <td>84972</td>\n",
              "      <td>Actuaría</td>\n",
              "      <td>- Las chicas pesadas</td>\n",
              "      <td>Actuaría</td>\n",
              "      <td>16</td>\n",
              "      <td>7.5000</td>\n",
              "      <td>https://www.misprofesores.com/profesores/Actua...</td>\n",
              "    </tr>\n",
              "    <tr>\n",
              "      <th>2</th>\n",
              "      <td>84971</td>\n",
              "      <td>Física</td>\n",
              "      <td>- Los bob el constructor</td>\n",
              "      <td>Física</td>\n",
              "      <td>9</td>\n",
              "      <td>7.3333</td>\n",
              "      <td>https://www.misprofesores.com/profesores/Fisic...</td>\n",
              "    </tr>\n",
              "    <tr>\n",
              "      <th>3</th>\n",
              "      <td>84966</td>\n",
              "      <td>Actuaría</td>\n",
              "      <td>- Los don cangrejo</td>\n",
              "      <td>Actuaría</td>\n",
              "      <td>8</td>\n",
              "      <td>4.6250</td>\n",
              "      <td>https://www.misprofesores.com/profesores/Actua...</td>\n",
              "    </tr>\n",
              "    <tr>\n",
              "      <th>4</th>\n",
              "      <td>84964</td>\n",
              "      <td>Biología</td>\n",
              "      <td>- Los dora la exploradora</td>\n",
              "      <td>Biología</td>\n",
              "      <td>6</td>\n",
              "      <td>5.8333</td>\n",
              "      <td>https://www.misprofesores.com/profesores/Biolo...</td>\n",
              "    </tr>\n",
              "  </tbody>\n",
              "</table>\n",
              "</div>\n",
              "      <button class=\"colab-df-convert\" onclick=\"convertToInteractive('df-b5a8caa5-d85a-48c8-be20-f3096af0e727')\"\n",
              "              title=\"Convert this dataframe to an interactive table.\"\n",
              "              style=\"display:none;\">\n",
              "        \n",
              "  <svg xmlns=\"http://www.w3.org/2000/svg\" height=\"24px\"viewBox=\"0 0 24 24\"\n",
              "       width=\"24px\">\n",
              "    <path d=\"M0 0h24v24H0V0z\" fill=\"none\"/>\n",
              "    <path d=\"M18.56 5.44l.94 2.06.94-2.06 2.06-.94-2.06-.94-.94-2.06-.94 2.06-2.06.94zm-11 1L8.5 8.5l.94-2.06 2.06-.94-2.06-.94L8.5 2.5l-.94 2.06-2.06.94zm10 10l.94 2.06.94-2.06 2.06-.94-2.06-.94-.94-2.06-.94 2.06-2.06.94z\"/><path d=\"M17.41 7.96l-1.37-1.37c-.4-.4-.92-.59-1.43-.59-.52 0-1.04.2-1.43.59L10.3 9.45l-7.72 7.72c-.78.78-.78 2.05 0 2.83L4 21.41c.39.39.9.59 1.41.59.51 0 1.02-.2 1.41-.59l7.78-7.78 2.81-2.81c.8-.78.8-2.07 0-2.86zM5.41 20L4 18.59l7.72-7.72 1.47 1.35L5.41 20z\"/>\n",
              "  </svg>\n",
              "      </button>\n",
              "      \n",
              "  <style>\n",
              "    .colab-df-container {\n",
              "      display:flex;\n",
              "      flex-wrap:wrap;\n",
              "      gap: 12px;\n",
              "    }\n",
              "\n",
              "    .colab-df-convert {\n",
              "      background-color: #E8F0FE;\n",
              "      border: none;\n",
              "      border-radius: 50%;\n",
              "      cursor: pointer;\n",
              "      display: none;\n",
              "      fill: #1967D2;\n",
              "      height: 32px;\n",
              "      padding: 0 0 0 0;\n",
              "      width: 32px;\n",
              "    }\n",
              "\n",
              "    .colab-df-convert:hover {\n",
              "      background-color: #E2EBFA;\n",
              "      box-shadow: 0px 1px 2px rgba(60, 64, 67, 0.3), 0px 1px 3px 1px rgba(60, 64, 67, 0.15);\n",
              "      fill: #174EA6;\n",
              "    }\n",
              "\n",
              "    [theme=dark] .colab-df-convert {\n",
              "      background-color: #3B4455;\n",
              "      fill: #D2E3FC;\n",
              "    }\n",
              "\n",
              "    [theme=dark] .colab-df-convert:hover {\n",
              "      background-color: #434B5C;\n",
              "      box-shadow: 0px 1px 3px 1px rgba(0, 0, 0, 0.15);\n",
              "      filter: drop-shadow(0px 1px 2px rgba(0, 0, 0, 0.3));\n",
              "      fill: #FFFFFF;\n",
              "    }\n",
              "  </style>\n",
              "\n",
              "      <script>\n",
              "        const buttonEl =\n",
              "          document.querySelector('#df-b5a8caa5-d85a-48c8-be20-f3096af0e727 button.colab-df-convert');\n",
              "        buttonEl.style.display =\n",
              "          google.colab.kernel.accessAllowed ? 'block' : 'none';\n",
              "\n",
              "        async function convertToInteractive(key) {\n",
              "          const element = document.querySelector('#df-b5a8caa5-d85a-48c8-be20-f3096af0e727');\n",
              "          const dataTable =\n",
              "            await google.colab.kernel.invokeFunction('convertToInteractive',\n",
              "                                                     [key], {});\n",
              "          if (!dataTable) return;\n",
              "\n",
              "          const docLinkHtml = 'Like what you see? Visit the ' +\n",
              "            '<a target=\"_blank\" href=https://colab.research.google.com/notebooks/data_table.ipynb>data table notebook</a>'\n",
              "            + ' to learn more about interactive tables.';\n",
              "          element.innerHTML = '';\n",
              "          dataTable['output_type'] = 'display_data';\n",
              "          await google.colab.output.renderOutput(dataTable, element);\n",
              "          const docLink = document.createElement('div');\n",
              "          docLink.innerHTML = docLinkHtml;\n",
              "          element.appendChild(docLink);\n",
              "        }\n",
              "      </script>\n",
              "    </div>\n",
              "  </div>\n",
              "  "
            ],
            "text/plain": [
              "        i         n                          a         d   m       c  \\\n",
              "0  151566                                                  1  2.0000   \n",
              "1   84972  Actuaría       - Las chicas pesadas  Actuaría  16  7.5000   \n",
              "2   84971    Física   - Los bob el constructor    Física   9  7.3333   \n",
              "3   84966  Actuaría         - Los don cangrejo  Actuaría   8  4.6250   \n",
              "4   84964  Biología  - Los dora la exploradora  Biología   6  5.8333   \n",
              "\n",
              "                                        url_profesor  \n",
              "0  https://www.misprofesores.com/profesores/-_151566  \n",
              "1  https://www.misprofesores.com/profesores/Actua...  \n",
              "2  https://www.misprofesores.com/profesores/Fisic...  \n",
              "3  https://www.misprofesores.com/profesores/Actua...  \n",
              "4  https://www.misprofesores.com/profesores/Biolo...  "
            ]
          },
          "execution_count": 65,
          "metadata": {},
          "output_type": "execute_result"
        }
      ],
      "source": [
        "fc_unam_profes.head()"
      ]
    },
    {
      "cell_type": "markdown",
      "source": [
        "## Obtener comentarios de los profesores"
      ],
      "metadata": {
        "id": "v9DLIWSCtscw"
      }
    },
    {
      "cell_type": "markdown",
      "metadata": {
        "id": "maloxVmYYjoG"
      },
      "source": [
        "Vamos a obtener los datos de un profesor en especifico. El resultado deben ser dos tablas, una con sus etiquetas y otra con sus materias y calificaciones elegidas"
      ]
    },
    {
      "cell_type": "code",
      "execution_count": null,
      "metadata": {
        "id": "ZilDfZcsXqHZ"
      },
      "outputs": [],
      "source": [
        "url = 'https://www.misprofesores.com/profesores/Victor-Romero-Rochin_41658'\n",
        "# Un profesor excelente"
      ]
    },
    {
      "cell_type": "markdown",
      "metadata": {
        "id": "lnoysfMxcXFP"
      },
      "source": [
        "### Obtener etiquetas principales"
      ]
    },
    {
      "cell_type": "code",
      "execution_count": null,
      "metadata": {
        "id": "71HZWdeAY1uY"
      },
      "outputs": [],
      "source": [
        "def get_etiquetas(soup):\n",
        "  #response = requests.get(url)\n",
        "\n",
        "  # if response.status_code == 200:\n",
        "  #   soup = BeautifulSoup(response.content, 'html.parser')\n",
        "\n",
        "  calidad_general = soup.find('div', class_='breakdown-container quality').find('div', class_='grade').text\n",
        "  lo_recomiendan = soup.find('div', class_=\"breakdown-section takeAgain 44\").find('div', class_='grade').text\n",
        "  dificultad = soup.find('div', class_=\"breakdown-section difficulty\").find('div', class_='grade').text\n",
        "\n",
        "  all_tags = soup.find('div', class_='tag-box')\n",
        "  tags = all_tags.find_all('span', class_='tag-box-choosetags') \n",
        "\n",
        "  profesorID = []\n",
        "  tag_profesor = []\n",
        "  n_tags = []\n",
        "\n",
        "  profesor = soup.find('title').text\n",
        "\n",
        "  for tag in tags:\n",
        "    tag = str(tag.text)\n",
        "    profesorID.append(profesor)\n",
        "\n",
        "    if '(' in tag:\n",
        "      a = tag.find('(')\n",
        "      b = tag.find(')')\n",
        "      tag_profesor.append(tag[0:a])\n",
        "      n_tags.append(int(tag[a+1:b]))\n",
        "    else:\n",
        "      tag_profesor.append(tag)\n",
        "      n_tags.append(1)\n",
        "    \n",
        "    return pd.DataFrame({'Profesor_ID': profesorID,\n",
        "                         'Etiquetas': tag_profesor,\n",
        "                         'Cantidad': n_tags})"
      ]
    },
    {
      "cell_type": "markdown",
      "metadata": {
        "id": "VD5GLABWHiCI"
      },
      "source": [
        "### Intervalos aleatorios"
      ]
    },
    {
      "cell_type": "markdown",
      "metadata": {
        "id": "WlxziIEscZ_Y"
      },
      "source": [
        "### Obtener calificaciones de comentarios"
      ]
    },
    {
      "cell_type": "code",
      "execution_count": null,
      "metadata": {
        "id": "qXLMMQ9OB2ZI"
      },
      "outputs": [],
      "source": [
        "from sqlalchemy import Null"
      ]
    },
    {
      "cell_type": "code",
      "execution_count": null,
      "metadata": {
        "id": "0ohXor_3kL-J"
      },
      "outputs": [],
      "source": [
        "def get_datos(url):\n",
        "  response = requests.get(url)\n",
        "\n",
        "  if response.status_code == 200:\n",
        "    soup = BeautifulSoup(response.content, 'html.parser')\n",
        "\n",
        "    pages = [url]\n",
        "    links = soup.find('ul', class_='pagination').find_all('li')\n",
        "    for link in links:\n",
        "      if 'href' in str(link):\n",
        "        pages.append(link.find('a').get('href'))\n",
        "    \n",
        "    url_id = url.replace('https://www.misprofesores.com/profesores/', '')\n",
        "    # urls = urls[0:3]\n",
        "    n = 0\n",
        "    urls_id = []\n",
        "    nombre = []\n",
        "    fecha = []\n",
        "    rating_type = []\n",
        "    calidad_general = []\n",
        "    facilidad = []\n",
        "    materia = []\n",
        "    interes = []\n",
        "    c_recibida = []\n",
        "    asistencia = []\n",
        "    etiquetas = []\n",
        "    comentario = []\n",
        "\n",
        "    for page in pages:\n",
        "      # Conectamos con la páginas\n",
        "      time.sleep(random.uniform(0.2, 0.6))\n",
        "\n",
        "      response = requests.get(page)\n",
        "      soup = BeautifulSoup(response.content, 'html.parser')\n",
        "\n",
        "      # Obtenemos la fila de la entrada\n",
        "      rows = soup.find_all('tr')\n",
        "      profesor = soup.find('title').text\n",
        "\n",
        "\n",
        "      for row in rows:\n",
        "        # Evitamos el encabezado de la tabla\n",
        "        if 'head-label class' in str(row):\n",
        "          None\n",
        "        else:\n",
        "          # Agregamos los datos a las listas\n",
        "\n",
        "          #Nombre\n",
        "          nombre.append(profesor)\n",
        "          #Fecha\n",
        "          if row.find('div', class_='date'):\n",
        "            fecha.append(row.find('div', class_='date').text)\n",
        "          else:\n",
        "            fecha.append('No date')\n",
        "          #Rating\n",
        "          rating_type.append(row.find('span', class_='rating-type').text)\n",
        "          #Calidad general\n",
        "          calidad_general.append(row.find_all('div', class_='break')[0].find('span').text)\n",
        "          #Facilidad\n",
        "          facilidad.append(row.find_all('div', class_='break')[1].find('span').text)\n",
        "          # Materia\n",
        "          materia.append(row.find('td', class_='class').find('span', class_='name').find('span',class_='response').text)\n",
        "          # Calificacion recibida\n",
        "          if row.find('td', class_='class').find('span', class_='grade').find('span', class_='response'):\n",
        "             c_recibida.append(row.find('td', class_='class').find('span', class_='grade').find('span', class_='response').text)\n",
        "          else:\n",
        "            c_recibida.append(None)\n",
        "          # Asistencia\n",
        "          if row.find('td', class_='class').find('span', class_='attendance'):\n",
        "            asistencia.append(row.find('td', class_='class').find('span', class_='attendance').text)\n",
        "          else:\n",
        "            asistencia.append(None)\n",
        "          # Interes\n",
        "          if len(row.find('td', class_='class').find_all('span', class_= 'grade')) == 2:\n",
        "            interes.append(row.find('td', class_='class').find_all('span', class_= 'grade')[1].find('span', class_='response').text)\n",
        "          else:\n",
        "            interes.append(None)\n",
        "          #Etiquetas\n",
        "          if row.find('div', class_='tagbox').find_all('span'):\n",
        "            tags = []\n",
        "            tagboxes = row.find('div', class_='tagbox').find_all('span')\n",
        "            for tagbox in tagboxes:\n",
        "              tags.append(tagbox.text)\n",
        "            etiquetas.append(', '.join(tags))\n",
        "          else:\n",
        "            etiquetas.append(None)\n",
        "          #Comentario\n",
        "          if row.find('p', class_='commentsParagraph'):\n",
        "            comentario.append(row.find('p', class_='commentsParagraph').text)\n",
        "          else:\n",
        "            comentario.append(None)\n",
        "          urls_id.append(url_id)\n",
        "\n",
        "\n",
        "  # print(f\"Profesores : {len(nombre)} \\n \\\n",
        "  #         Asignatura: {len(materia)} \\n \\\n",
        "  #         Fecha: {len(fecha)} \\n \\\n",
        "  #         Rating: {len(rating_type)} \\n \\\n",
        "  #         Comentario: {len(comentario)} \\n \\\n",
        "  #         Calidad: {len(calidad_general)} \\n \\\n",
        "  #         Facilidad: {len(facilidad)} \\n \\\n",
        "  #         Califacion: {len(c_recibida)} \\n \\\n",
        "  #         Interes: {len(interes)} \\n \\\n",
        "  #         Asistencia: {len(asistencia)} \\n \\\n",
        "  #         Etiquetas: {len(etiquetas)}\")\n",
        "\n",
        "  df = pd.DataFrame({'Profesor': nombre,\n",
        "                    'Asignatura': materia,\n",
        "                    'Fecha': fecha,\n",
        "                    'Rating': rating_type,\n",
        "                    'Comentario': comentario,\n",
        "                    'Calidad_general': calidad_general, \n",
        "                    'Facilidad':facilidad,\n",
        "                    'Calificacion_recibida':c_recibida,\n",
        "                    'Interes_clase': interes,\n",
        "                    'Asistencia': asistencia,\n",
        "                    'Etiquetas': etiquetas,\n",
        "                    'url_id' : urls_id\n",
        "                    })\n",
        "  return df"
      ]
    },
    {
      "cell_type": "code",
      "execution_count": null,
      "metadata": {
        "id": "IiVQ7uBJg8JB"
      },
      "outputs": [],
      "source": [
        "url = 'https://www.misprofesores.com/profesores/Victor-Romero-Rochin_41658'\n",
        "df_datos = get_datos(url)"
      ]
    },
    {
      "cell_type": "code",
      "execution_count": null,
      "metadata": {
        "colab": {
          "base_uri": "https://localhost:8080/",
          "height": 770
        },
        "id": "tByrPW8o4EWQ",
        "outputId": "d3b1fcc3-0b22-4abb-dd5e-2298e475057c"
      },
      "outputs": [
        {
          "data": {
            "text/html": [
              "\n",
              "  <div id=\"df-8327e41e-b9a0-4495-9907-98668347717c\">\n",
              "    <div class=\"colab-df-container\">\n",
              "      <div>\n",
              "<style scoped>\n",
              "    .dataframe tbody tr th:only-of-type {\n",
              "        vertical-align: middle;\n",
              "    }\n",
              "\n",
              "    .dataframe tbody tr th {\n",
              "        vertical-align: top;\n",
              "    }\n",
              "\n",
              "    .dataframe thead th {\n",
              "        text-align: right;\n",
              "    }\n",
              "</style>\n",
              "<table border=\"1\" class=\"dataframe\">\n",
              "  <thead>\n",
              "    <tr style=\"text-align: right;\">\n",
              "      <th></th>\n",
              "      <th>Profesor</th>\n",
              "      <th>Asignatura</th>\n",
              "      <th>Fecha</th>\n",
              "      <th>Rating</th>\n",
              "      <th>Comentario</th>\n",
              "      <th>Calidad_general</th>\n",
              "      <th>Facilidad</th>\n",
              "      <th>Calificacion_recibida</th>\n",
              "      <th>Interes_clase</th>\n",
              "      <th>Asistencia</th>\n",
              "      <th>Etiquetas</th>\n",
              "      <th>url_id</th>\n",
              "    </tr>\n",
              "  </thead>\n",
              "  <tbody>\n",
              "    <tr>\n",
              "      <th>0</th>\n",
              "      <td>Victor Romero Rochin - Facultad de Ciencias UN...</td>\n",
              "      <td>Física Estadística</td>\n",
              "      <td>28/Ene/2023</td>\n",
              "      <td>BUENO</td>\n",
              "      <td>\\n                    Uno de los mejores profe...</td>\n",
              "      <td>10.0</td>\n",
              "      <td>6.0</td>\n",
              "      <td>9</td>\n",
              "      <td>Medio</td>\n",
              "      <td>Asistencia: No obligatoria</td>\n",
              "      <td>Inspiracional, Deja trabajos largos</td>\n",
              "      <td>Victor-Romero-Rochin_41658</td>\n",
              "    </tr>\n",
              "    <tr>\n",
              "      <th>1</th>\n",
              "      <td>Victor Romero Rochin - Facultad de Ciencias UN...</td>\n",
              "      <td>IFC</td>\n",
              "      <td>25/Ene/2023</td>\n",
              "      <td>BUENO</td>\n",
              "      <td>\\n                    El profesor da un muy bu...</td>\n",
              "      <td>8.0</td>\n",
              "      <td>8.0</td>\n",
              "      <td>9</td>\n",
              "      <td>Alto</td>\n",
              "      <td>Asistencia: No obligatoria</td>\n",
              "      <td>Muy cómico, Inspiracional, Tomaría su clase ot...</td>\n",
              "      <td>Victor-Romero-Rochin_41658</td>\n",
              "    </tr>\n",
              "    <tr>\n",
              "      <th>2</th>\n",
              "      <td>Victor Romero Rochin - Facultad de Ciencias UN...</td>\n",
              "      <td>Introducción a la Física Cuántica</td>\n",
              "      <td>21/Ene/2023</td>\n",
              "      <td>BUENO</td>\n",
              "      <td>\\n                    Es un profesor que te tr...</td>\n",
              "      <td>9.0</td>\n",
              "      <td>6.0</td>\n",
              "      <td>9</td>\n",
              "      <td>Alto</td>\n",
              "      <td>Asistencia: Obligatoria</td>\n",
              "      <td>Respetado por los estudiantes, Clases excelent...</td>\n",
              "      <td>Victor-Romero-Rochin_41658</td>\n",
              "    </tr>\n",
              "    <tr>\n",
              "      <th>3</th>\n",
              "      <td>Victor Romero Rochin - Facultad de Ciencias UN...</td>\n",
              "      <td>Introducción a la Física Cuántica</td>\n",
              "      <td>19/Ene/2023</td>\n",
              "      <td>BUENO</td>\n",
              "      <td>\\n                    Buen curso. No es tan di...</td>\n",
              "      <td>9.0</td>\n",
              "      <td>6.0</td>\n",
              "      <td>9</td>\n",
              "      <td>Alto</td>\n",
              "      <td>Asistencia: No obligatoria</td>\n",
              "      <td>Califica Duro, Clases excelentes, Tomaría su c...</td>\n",
              "      <td>Victor-Romero-Rochin_41658</td>\n",
              "    </tr>\n",
              "    <tr>\n",
              "      <th>4</th>\n",
              "      <td>Victor Romero Rochin - Facultad de Ciencias UN...</td>\n",
              "      <td>Termodinámica</td>\n",
              "      <td>05/Ene/2023</td>\n",
              "      <td>BUENO</td>\n",
              "      <td>\\n                    De los profes top que tu...</td>\n",
              "      <td>8.0</td>\n",
              "      <td>2.0</td>\n",
              "      <td>7</td>\n",
              "      <td>Alto</td>\n",
              "      <td>Asistencia: No obligatoria</td>\n",
              "      <td>Califica Duro, Deja trabajos largos, Los exáme...</td>\n",
              "      <td>Victor-Romero-Rochin_41658</td>\n",
              "    </tr>\n",
              "  </tbody>\n",
              "</table>\n",
              "</div>\n",
              "      <button class=\"colab-df-convert\" onclick=\"convertToInteractive('df-8327e41e-b9a0-4495-9907-98668347717c')\"\n",
              "              title=\"Convert this dataframe to an interactive table.\"\n",
              "              style=\"display:none;\">\n",
              "        \n",
              "  <svg xmlns=\"http://www.w3.org/2000/svg\" height=\"24px\"viewBox=\"0 0 24 24\"\n",
              "       width=\"24px\">\n",
              "    <path d=\"M0 0h24v24H0V0z\" fill=\"none\"/>\n",
              "    <path d=\"M18.56 5.44l.94 2.06.94-2.06 2.06-.94-2.06-.94-.94-2.06-.94 2.06-2.06.94zm-11 1L8.5 8.5l.94-2.06 2.06-.94-2.06-.94L8.5 2.5l-.94 2.06-2.06.94zm10 10l.94 2.06.94-2.06 2.06-.94-2.06-.94-.94-2.06-.94 2.06-2.06.94z\"/><path d=\"M17.41 7.96l-1.37-1.37c-.4-.4-.92-.59-1.43-.59-.52 0-1.04.2-1.43.59L10.3 9.45l-7.72 7.72c-.78.78-.78 2.05 0 2.83L4 21.41c.39.39.9.59 1.41.59.51 0 1.02-.2 1.41-.59l7.78-7.78 2.81-2.81c.8-.78.8-2.07 0-2.86zM5.41 20L4 18.59l7.72-7.72 1.47 1.35L5.41 20z\"/>\n",
              "  </svg>\n",
              "      </button>\n",
              "      \n",
              "  <style>\n",
              "    .colab-df-container {\n",
              "      display:flex;\n",
              "      flex-wrap:wrap;\n",
              "      gap: 12px;\n",
              "    }\n",
              "\n",
              "    .colab-df-convert {\n",
              "      background-color: #E8F0FE;\n",
              "      border: none;\n",
              "      border-radius: 50%;\n",
              "      cursor: pointer;\n",
              "      display: none;\n",
              "      fill: #1967D2;\n",
              "      height: 32px;\n",
              "      padding: 0 0 0 0;\n",
              "      width: 32px;\n",
              "    }\n",
              "\n",
              "    .colab-df-convert:hover {\n",
              "      background-color: #E2EBFA;\n",
              "      box-shadow: 0px 1px 2px rgba(60, 64, 67, 0.3), 0px 1px 3px 1px rgba(60, 64, 67, 0.15);\n",
              "      fill: #174EA6;\n",
              "    }\n",
              "\n",
              "    [theme=dark] .colab-df-convert {\n",
              "      background-color: #3B4455;\n",
              "      fill: #D2E3FC;\n",
              "    }\n",
              "\n",
              "    [theme=dark] .colab-df-convert:hover {\n",
              "      background-color: #434B5C;\n",
              "      box-shadow: 0px 1px 3px 1px rgba(0, 0, 0, 0.15);\n",
              "      filter: drop-shadow(0px 1px 2px rgba(0, 0, 0, 0.3));\n",
              "      fill: #FFFFFF;\n",
              "    }\n",
              "  </style>\n",
              "\n",
              "      <script>\n",
              "        const buttonEl =\n",
              "          document.querySelector('#df-8327e41e-b9a0-4495-9907-98668347717c button.colab-df-convert');\n",
              "        buttonEl.style.display =\n",
              "          google.colab.kernel.accessAllowed ? 'block' : 'none';\n",
              "\n",
              "        async function convertToInteractive(key) {\n",
              "          const element = document.querySelector('#df-8327e41e-b9a0-4495-9907-98668347717c');\n",
              "          const dataTable =\n",
              "            await google.colab.kernel.invokeFunction('convertToInteractive',\n",
              "                                                     [key], {});\n",
              "          if (!dataTable) return;\n",
              "\n",
              "          const docLinkHtml = 'Like what you see? Visit the ' +\n",
              "            '<a target=\"_blank\" href=https://colab.research.google.com/notebooks/data_table.ipynb>data table notebook</a>'\n",
              "            + ' to learn more about interactive tables.';\n",
              "          element.innerHTML = '';\n",
              "          dataTable['output_type'] = 'display_data';\n",
              "          await google.colab.output.renderOutput(dataTable, element);\n",
              "          const docLink = document.createElement('div');\n",
              "          docLink.innerHTML = docLinkHtml;\n",
              "          element.appendChild(docLink);\n",
              "        }\n",
              "      </script>\n",
              "    </div>\n",
              "  </div>\n",
              "  "
            ],
            "text/plain": [
              "                                            Profesor  \\\n",
              "0  Victor Romero Rochin - Facultad de Ciencias UN...   \n",
              "1  Victor Romero Rochin - Facultad de Ciencias UN...   \n",
              "2  Victor Romero Rochin - Facultad de Ciencias UN...   \n",
              "3  Victor Romero Rochin - Facultad de Ciencias UN...   \n",
              "4  Victor Romero Rochin - Facultad de Ciencias UN...   \n",
              "\n",
              "                          Asignatura         Fecha Rating  \\\n",
              "0                Física Estadística    28/Ene/2023  BUENO   \n",
              "1                                IFC   25/Ene/2023  BUENO   \n",
              "2  Introducción a la Física Cuántica   21/Ene/2023  BUENO   \n",
              "3  Introducción a la Física Cuántica   19/Ene/2023  BUENO   \n",
              "4                      Termodinámica   05/Ene/2023  BUENO   \n",
              "\n",
              "                                          Comentario Calidad_general  \\\n",
              "0  \\n                    Uno de los mejores profe...            10.0   \n",
              "1  \\n                    El profesor da un muy bu...             8.0   \n",
              "2  \\n                    Es un profesor que te tr...             9.0   \n",
              "3  \\n                    Buen curso. No es tan di...             9.0   \n",
              "4  \\n                    De los profes top que tu...             8.0   \n",
              "\n",
              "  Facilidad Calificacion_recibida Interes_clase                  Asistencia  \\\n",
              "0       6.0                     9         Medio  Asistencia: No obligatoria   \n",
              "1       8.0                     9          Alto  Asistencia: No obligatoria   \n",
              "2       6.0                     9          Alto     Asistencia: Obligatoria   \n",
              "3       6.0                     9          Alto  Asistencia: No obligatoria   \n",
              "4       2.0                     7          Alto  Asistencia: No obligatoria   \n",
              "\n",
              "                                           Etiquetas  \\\n",
              "0                Inspiracional, Deja trabajos largos   \n",
              "1  Muy cómico, Inspiracional, Tomaría su clase ot...   \n",
              "2  Respetado por los estudiantes, Clases excelent...   \n",
              "3  Califica Duro, Clases excelentes, Tomaría su c...   \n",
              "4  Califica Duro, Deja trabajos largos, Los exáme...   \n",
              "\n",
              "                       url_id  \n",
              "0  Victor-Romero-Rochin_41658  \n",
              "1  Victor-Romero-Rochin_41658  \n",
              "2  Victor-Romero-Rochin_41658  \n",
              "3  Victor-Romero-Rochin_41658  \n",
              "4  Victor-Romero-Rochin_41658  "
            ]
          },
          "execution_count": 88,
          "metadata": {},
          "output_type": "execute_result"
        }
      ],
      "source": [
        "df_datos.head()"
      ]
    },
    {
      "cell_type": "markdown",
      "metadata": {
        "id": "Kanz-1DQGKBx"
      },
      "source": [
        "Ahora es necesaria una función que extraiga los datos de cada url de los profesores y vaya uniendo las nuevas tablas con una general.\n",
        "\n",
        "En caso de ser bloqueados, estaré guardando la tabla general con regularidad y creando un marcador para saber dónde continuar."
      ]
    },
    {
      "cell_type": "code",
      "execution_count": null,
      "metadata": {
        "id": "qyk5u5qX-8Cx"
      },
      "outputs": [],
      "source": [
        "\n"
      ]
    },
    {
      "cell_type": "code",
      "execution_count": null,
      "metadata": {
        "id": "hfvzkZc_Hdbs",
        "colab": {
          "base_uri": "https://localhost:8080/"
        },
        "outputId": "f9158380-4e86-4b93-e8db-c0cd65e87a60"
      },
      "outputs": [
        {
          "output_type": "stream",
          "name": "stdout",
          "text": [
            "/content/drive/MyDrive/DA/Mis_profesores_project\n"
          ]
        }
      ],
      "source": [
        "cd drive/MyDrive/DA/Mis_profesores_project/"
      ]
    },
    {
      "cell_type": "code",
      "execution_count": null,
      "metadata": {
        "colab": {
          "base_uri": "https://localhost:8080/"
        },
        "id": "MJBw38tQH-NJ",
        "outputId": "b02a4f6a-4603-4777-9f6e-3748b1a88bc0"
      },
      "outputs": [
        {
          "output_type": "stream",
          "name": "stdout",
          "text": [
            "Existe el archivo\n",
            "0 profesores en la base de datos\n",
            "100 profesores en la base de datos\n",
            "200 profesores en la base de datos\n",
            "300 profesores en la base de datos\n",
            "400 profesores en la base de datos\n",
            "500 profesores en la base de datos\n",
            "600 profesores en la base de datos\n",
            "700 profesores en la base de datos\n",
            "800 profesores en la base de datos\n",
            "900 profesores en la base de datos\n",
            "1000 profesores en la base de datos\n",
            "1100 profesores en la base de datos\n",
            "1200 profesores en la base de datos\n",
            "1300 profesores en la base de datos\n",
            "1400 profesores en la base de datos\n",
            "1500 profesores en la base de datos\n",
            "1600 profesores en la base de datos\n",
            "1700 profesores en la base de datos\n",
            "1800 profesores en la base de datos\n",
            "1900 profesores en la base de datos\n",
            "2000 profesores en la base de datos\n",
            "2100 profesores en la base de datos\n",
            "2200 profesores en la base de datos\n",
            "2300 profesores en la base de datos\n",
            "2400 profesores en la base de datos\n",
            "2500 profesores en la base de datos\n",
            "2600 profesores en la base de datos\n",
            "2700 profesores en la base de datos\n",
            "2800 profesores en la base de datos\n",
            "2900 profesores en la base de datos\n",
            "3000 profesores en la base de datos\n",
            "3100 profesores en la base de datos\n",
            "3200 profesores en la base de datos\n",
            "3201 profesores en la base de datos\n",
            "0\n"
          ]
        }
      ],
      "source": [
        "import os\n",
        "\n",
        "fc_unam = 'https://www.misprofesores.com/escuelas/Facultad-de-Ciencias-UNAM_2842'\n",
        "df_fc_unam = get_profesores(fc_unam) \n",
        "fc_unam_url = df_fc_unam['url_profesor']\n",
        "db_name = 'fc_unam_profes.csv'\n",
        "\n",
        "if os.path.isfile(db_name):\n",
        "  flag = 1\n",
        "  all_df = pd.read_csv(db_name)\n",
        "  print('Existe el archivo')\n",
        "else:\n",
        "  flag = 0\n",
        "  print('No existe el archivo')\n",
        "count = 0\n",
        "\n",
        "for indice, url in enumerate(fc_unam_url):\n",
        "  #print(url)\n",
        "\n",
        "  url_id = url.replace('https://www.misprofesores.com/profesores/', '')\n",
        "  \n",
        "  if flag == 0:\n",
        "    flag = 1\n",
        "    df = get_datos(url)\n",
        "    all_df = df\n",
        "  else:\n",
        "    if url_id not in list(all_df['url_id']):\n",
        "      # df = get_datos(url)\n",
        "      # all_df= pd.concat([all_df, df], axis=0, ignore_index=True)\n",
        "      count += 1 \n",
        "  if indice % 100 == 0 or indice == len(fc_unam_url) - 1:\n",
        "    all_df.to_csv('fc_unam_profes.csv', index=False)\n",
        "    print(f'{indice} profesores en la base de datos')\n",
        "\n",
        "print(count)\n",
        "  "
      ]
    },
    {
      "cell_type": "code",
      "source": [
        "len(all_df['url_id'].unique())"
      ],
      "metadata": {
        "colab": {
          "base_uri": "https://localhost:8080/"
        },
        "id": "Hh0885NqwaZl",
        "outputId": "0aaf780a-6298-4f01-8676-31c8802fa541"
      },
      "execution_count": null,
      "outputs": [
        {
          "output_type": "execute_result",
          "data": {
            "text/plain": [
              "3202"
            ]
          },
          "metadata": {},
          "execution_count": 36
        }
      ]
    },
    {
      "cell_type": "code",
      "execution_count": null,
      "metadata": {
        "colab": {
          "background_save": true
        },
        "id": "sicQudt9Ihse"
      },
      "outputs": [],
      "source": [
        "len(urls)"
      ]
    },
    {
      "cell_type": "code",
      "execution_count": null,
      "metadata": {
        "id": "2O-EItQdJ0ln"
      },
      "outputs": [],
      "source": [
        "fc_unam = 'https://www.misprofesores.com/escuelas/Facultad-de-Ciencias-UNAM_2842'\n",
        "df_fc_unam = get_profesores(fc_unam) "
      ]
    },
    {
      "cell_type": "code",
      "execution_count": null,
      "metadata": {
        "id": "fdN4U9aiq81f",
        "colab": {
          "base_uri": "https://localhost:8080/"
        },
        "outputId": "0591d140-7675-4d4a-bc5d-06fb75175230"
      },
      "outputs": [
        {
          "output_type": "execute_result",
          "data": {
            "text/plain": [
              "3202"
            ]
          },
          "metadata": {},
          "execution_count": 17
        }
      ],
      "source": [
        "len(df_fc_unam)"
      ]
    },
    {
      "cell_type": "code",
      "source": [],
      "metadata": {
        "id": "hdTirDolvQOT"
      },
      "execution_count": null,
      "outputs": []
    }
  ],
  "metadata": {
    "colab": {
      "provenance": [],
      "mount_file_id": "1P6MANKtZaMhj-rfTcbUWNKOxzemcciy8",
      "authorship_tag": "ABX9TyPbzETVhSg/ZWtG/w+Tq2yw",
      "include_colab_link": true
    },
    "kernelspec": {
      "display_name": "Python 3",
      "name": "python3"
    },
    "language_info": {
      "name": "python"
    }
  },
  "nbformat": 4,
  "nbformat_minor": 0
}